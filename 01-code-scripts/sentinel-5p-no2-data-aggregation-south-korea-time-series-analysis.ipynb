{
 "cells": [
  {
   "cell_type": "markdown",
   "metadata": {},
   "source": [
    "# NO2 Data Aggregation Time Series Analysis\n",
    "\n",
    "Aggregates NO2 values by administrative boundaries and a regular hexagon grid.\n",
    "\n",
    "To convert from mol/m<sup>2</sup> to molecules/cm<sup>2</sup>, multiply by 6.022140857e+19 (6.022140857 * 10<sup>19</sup>)."
   ]
  },
  {
   "cell_type": "markdown",
   "metadata": {},
   "source": [
    "# Environment Setup"
   ]
  },
  {
   "cell_type": "code",
   "execution_count": null,
   "metadata": {
    "ExecuteTime": {
     "end_time": "2020-11-10T22:14:54.774707Z",
     "start_time": "2020-11-10T22:14:54.617130Z"
    }
   },
   "outputs": [],
   "source": [
    "# Load Notebook formatter\n",
    "%load_ext nb_black\n",
    "# %reload_ext nb_black"
   ]
  },
  {
   "cell_type": "code",
   "execution_count": null,
   "metadata": {
    "ExecuteTime": {
     "end_time": "2020-11-10T22:14:56.864860Z",
     "start_time": "2020-11-10T22:14:54.777700Z"
    }
   },
   "outputs": [],
   "source": [
    "# Import packages\n",
    "import os\n",
    "import matplotlib.pyplot as plt\n",
    "import seaborn as sns\n",
    "import pandas as pd\n",
    "from pandas.plotting import register_matplotlib_converters\n",
    "import radiance as rd\n",
    "import sentinel as stl"
   ]
  },
  {
   "cell_type": "code",
   "execution_count": null,
   "metadata": {
    "ExecuteTime": {
     "end_time": "2020-11-10T22:14:56.883778Z",
     "start_time": "2020-11-10T22:14:56.867822Z"
    }
   },
   "outputs": [],
   "source": [
    "# Set Options\n",
    "# sns.set(font_scale=1.5, style=\"whitegrid\")\n",
    "sns.set(font_scale=1.5)\n",
    "pd.set_option(\"display.max_columns\", None)\n",
    "# pd.set_option(\"display.max_rows\", None)\n",
    "pd.set_option(\"precision\", 15)\n",
    "register_matplotlib_converters()"
   ]
  },
  {
   "cell_type": "code",
   "execution_count": null,
   "metadata": {
    "ExecuteTime": {
     "end_time": "2020-11-10T22:14:56.898739Z",
     "start_time": "2020-11-10T22:14:56.886770Z"
    }
   },
   "outputs": [],
   "source": [
    "# Set working directory\n",
    "os.chdir(\"..\")\n",
    "print(f\"Working directory: {os.getcwd()}\")"
   ]
  },
  {
   "cell_type": "markdown",
   "metadata": {},
   "source": [
    "# User-Defined Variables"
   ]
  },
  {
   "cell_type": "code",
   "execution_count": null,
   "metadata": {
    "ExecuteTime": {
     "end_time": "2020-11-10T22:14:56.911734Z",
     "start_time": "2020-11-10T22:14:56.900735Z"
    }
   },
   "outputs": [],
   "source": [
    "# Set paths to time series geopackage\n",
    "hexagon_grid_time_series_path = os.path.join(\n",
    "    \"03-processed-data\",\n",
    "    \"vector\",\n",
    "    \"south-korea\",\n",
    "    \"aggregate_daily_hexagon_grid_jul_2018_aug_2020.gpkg\",\n",
    ")"
   ]
  },
  {
   "cell_type": "markdown",
   "metadata": {},
   "source": [
    "# Data Acquisition and Preprocessing"
   ]
  },
  {
   "cell_type": "code",
   "execution_count": null,
   "metadata": {
    "ExecuteTime": {
     "end_time": "2020-11-10T22:14:58.033054Z",
     "start_time": "2020-11-10T22:14:56.915693Z"
    }
   },
   "outputs": [],
   "source": [
    "# Get cleaned time series data into dataframe\n",
    "time_series_df = stl.clean_time_series(hexagon_grid_time_series_path)"
   ]
  },
  {
   "cell_type": "code",
   "execution_count": null,
   "metadata": {
    "ExecuteTime": {
     "end_time": "2020-11-10T22:14:58.561640Z",
     "start_time": "2020-11-10T22:14:58.036014Z"
    }
   },
   "outputs": [],
   "source": [
    "# Check dataframe\n",
    "time_series_df.head()"
   ]
  },
  {
   "cell_type": "markdown",
   "metadata": {},
   "source": [
    "# Data Processing"
   ]
  },
  {
   "cell_type": "code",
   "execution_count": null,
   "metadata": {},
   "outputs": [],
   "source": []
  },
  {
   "cell_type": "markdown",
   "metadata": {},
   "source": [
    "# Data Post-Processing"
   ]
  },
  {
   "cell_type": "code",
   "execution_count": null,
   "metadata": {},
   "outputs": [],
   "source": []
  },
  {
   "cell_type": "markdown",
   "metadata": {},
   "source": [
    "# Data Visualization"
   ]
  },
  {
   "cell_type": "markdown",
   "metadata": {},
   "source": [
    "## Seoul Area - High\n",
    "\n",
    "The following grid cells provide an area covering the Seoul area, with a relatively higher NO2 concentration:\n",
    "\n",
    "* H-6\n",
    "* H-7\n",
    "* I-5\n",
    "* I-6\n",
    "* I-7\n",
    "* J-5\n",
    "* J-6\n",
    "* J-7\n",
    "* J-8\n",
    "* K-5\n",
    "* K-6\n",
    "* K-7\n",
    "* L-6\n",
    "* L-7\n",
    "\n",
    "\"Center\" is I-6, J-6, J-7, and K-6."
   ]
  },
  {
   "cell_type": "code",
   "execution_count": null,
   "metadata": {
    "ExecuteTime": {
     "end_time": "2020-11-10T22:15:02.676884Z",
     "start_time": "2020-11-10T22:14:58.563604Z"
    }
   },
   "outputs": [],
   "source": [
    "# Plot grid H-6 time series\n",
    "fig, ax = stl.plot_no2_time_series(\n",
    "    time_series=time_series_df,\n",
    "    grid_id=\"H-6\",\n",
    "    data_location=\"South Korea\",\n",
    "    data_source=\"European Space Agency\",\n",
    ")"
   ]
  },
  {
   "cell_type": "code",
   "execution_count": null,
   "metadata": {
    "ExecuteTime": {
     "end_time": "2020-11-10T22:15:06.440448Z",
     "start_time": "2020-11-10T22:15:02.679886Z"
    }
   },
   "outputs": [],
   "source": [
    "# Plot grid H-7 time series\n",
    "fig, ax = stl.plot_no2_time_series(\n",
    "    time_series=time_series_df,\n",
    "    grid_id=\"H-7\",\n",
    "    data_location=\"South Korea\",\n",
    "    data_source=\"European Space Agency\",\n",
    ")"
   ]
  },
  {
   "cell_type": "code",
   "execution_count": null,
   "metadata": {
    "ExecuteTime": {
     "end_time": "2020-11-10T22:15:10.177748Z",
     "start_time": "2020-11-10T22:15:06.442427Z"
    }
   },
   "outputs": [],
   "source": [
    "# Plot grid I-5 time series\n",
    "fig, ax = stl.plot_no2_time_series(\n",
    "    time_series=time_series_df,\n",
    "    grid_id=\"I-5\",\n",
    "    data_location=\"South Korea\",\n",
    "    data_source=\"European Space Agency\",\n",
    ")"
   ]
  },
  {
   "cell_type": "code",
   "execution_count": null,
   "metadata": {
    "ExecuteTime": {
     "end_time": "2020-11-10T22:15:13.882037Z",
     "start_time": "2020-11-10T22:15:10.180696Z"
    }
   },
   "outputs": [],
   "source": [
    "# Plot grid I-6 time series\n",
    "fig, ax = stl.plot_no2_time_series(\n",
    "    time_series=time_series_df,\n",
    "    grid_id=\"I-5\",\n",
    "    data_location=\"South Korea\",\n",
    "    data_source=\"European Space Agency\",\n",
    ")"
   ]
  },
  {
   "cell_type": "code",
   "execution_count": null,
   "metadata": {
    "ExecuteTime": {
     "end_time": "2020-11-10T22:15:17.686014Z",
     "start_time": "2020-11-10T22:15:13.884000Z"
    },
    "scrolled": false
   },
   "outputs": [],
   "source": [
    "# Plot grid I-7 time series\n",
    "fig, ax = stl.plot_no2_time_series(\n",
    "    time_series=time_series_df,\n",
    "    grid_id=\"I-7\",\n",
    "    data_location=\"South Korea\",\n",
    "    data_source=\"European Space Agency\",\n",
    ")"
   ]
  },
  {
   "cell_type": "code",
   "execution_count": null,
   "metadata": {
    "ExecuteTime": {
     "end_time": "2020-11-10T22:15:21.474845Z",
     "start_time": "2020-11-10T22:15:17.688020Z"
    }
   },
   "outputs": [],
   "source": [
    "# Plot grid J-5 time series\n",
    "fig, ax = stl.plot_no2_time_series(\n",
    "    time_series=time_series_df,\n",
    "    grid_id=\"J-5\",\n",
    "    data_location=\"South Korea\",\n",
    "    data_source=\"European Space Agency\",\n",
    ")"
   ]
  },
  {
   "cell_type": "code",
   "execution_count": null,
   "metadata": {
    "ExecuteTime": {
     "end_time": "2020-11-10T22:15:25.164294Z",
     "start_time": "2020-11-10T22:15:21.476815Z"
    }
   },
   "outputs": [],
   "source": [
    "# Plot grid J-6 time series\n",
    "fig, ax = stl.plot_no2_time_series(\n",
    "    time_series=time_series_df,\n",
    "    grid_id=\"J-6\",\n",
    "    data_location=\"South Korea\",\n",
    "    data_source=\"European Space Agency\",\n",
    ")"
   ]
  },
  {
   "cell_type": "code",
   "execution_count": null,
   "metadata": {
    "ExecuteTime": {
     "end_time": "2020-11-10T22:15:28.925921Z",
     "start_time": "2020-11-10T22:15:25.166288Z"
    }
   },
   "outputs": [],
   "source": [
    "# Plot grid J-7 time series\n",
    "fig, ax = stl.plot_no2_time_series(\n",
    "    time_series=time_series_df,\n",
    "    grid_id=\"J-7\",\n",
    "    data_location=\"South Korea\",\n",
    "    data_source=\"European Space Agency\",\n",
    ")"
   ]
  },
  {
   "cell_type": "code",
   "execution_count": null,
   "metadata": {
    "ExecuteTime": {
     "end_time": "2020-11-10T22:15:32.702116Z",
     "start_time": "2020-11-10T22:15:28.928895Z"
    }
   },
   "outputs": [],
   "source": [
    "# Plot grid J-8 time series\n",
    "fig, ax = stl.plot_no2_time_series(\n",
    "    time_series=time_series_df,\n",
    "    grid_id=\"J-8\",\n",
    "    data_location=\"South Korea\",\n",
    "    data_source=\"European Space Agency\",\n",
    ")"
   ]
  },
  {
   "cell_type": "code",
   "execution_count": null,
   "metadata": {
    "ExecuteTime": {
     "end_time": "2020-11-10T22:15:36.396080Z",
     "start_time": "2020-11-10T22:15:32.705083Z"
    }
   },
   "outputs": [],
   "source": [
    "# Plot grid K-5 time series\n",
    "fig, ax = stl.plot_no2_time_series(\n",
    "    time_series=time_series_df,\n",
    "    grid_id=\"K-5\",\n",
    "    data_location=\"South Korea\",\n",
    "    data_source=\"European Space Agency\",\n",
    ")"
   ]
  },
  {
   "cell_type": "code",
   "execution_count": null,
   "metadata": {
    "ExecuteTime": {
     "end_time": "2020-11-10T22:15:40.180171Z",
     "start_time": "2020-11-10T22:15:36.398042Z"
    }
   },
   "outputs": [],
   "source": [
    "# Plot grid K-6 time series\n",
    "fig, ax = stl.plot_no2_time_series(\n",
    "    time_series=time_series_df,\n",
    "    grid_id=\"K-6\",\n",
    "    data_location=\"South Korea\",\n",
    "    data_source=\"European Space Agency\",\n",
    ")"
   ]
  },
  {
   "cell_type": "code",
   "execution_count": null,
   "metadata": {
    "ExecuteTime": {
     "end_time": "2020-11-10T22:15:44.022180Z",
     "start_time": "2020-11-10T22:15:40.183184Z"
    }
   },
   "outputs": [],
   "source": [
    "# Plot grid K-7 time series\n",
    "fig, ax = stl.plot_no2_time_series(\n",
    "    time_series=time_series_df,\n",
    "    grid_id=\"K-7\",\n",
    "    data_location=\"South Korea\",\n",
    "    data_source=\"European Space Agency\",\n",
    ")"
   ]
  },
  {
   "cell_type": "code",
   "execution_count": null,
   "metadata": {
    "ExecuteTime": {
     "end_time": "2020-11-10T22:15:48.343399Z",
     "start_time": "2020-11-10T22:15:44.025173Z"
    }
   },
   "outputs": [],
   "source": [
    "# Plot grid L-6 time series\n",
    "fig, ax = stl.plot_no2_time_series(\n",
    "    time_series=time_series_df,\n",
    "    grid_id=\"L-6\",\n",
    "    data_location=\"South Korea\",\n",
    "    data_source=\"European Space Agency\",\n",
    ")"
   ]
  },
  {
   "cell_type": "code",
   "execution_count": null,
   "metadata": {
    "ExecuteTime": {
     "end_time": "2020-11-10T22:15:52.595732Z",
     "start_time": "2020-11-10T22:15:48.345393Z"
    }
   },
   "outputs": [],
   "source": [
    "# Plot grid L-7 time series\n",
    "fig, ax = stl.plot_no2_time_series(\n",
    "    time_series=time_series_df,\n",
    "    grid_id=\"L-7\",\n",
    "    data_location=\"South Korea\",\n",
    "    data_source=\"European Space Agency\",\n",
    ")"
   ]
  },
  {
   "cell_type": "markdown",
   "metadata": {},
   "source": [
    "## Away from Seoul - Low\n",
    "\n",
    "The following grid cells cover an area away from Seoul with a relatively lower NO2 concentration:\n",
    "\n",
    "* M-13\n",
    "* M-14\n",
    "* N-13\n",
    "* N-14\n",
    "* N-15\n",
    "* O-13\n",
    "* O-14\n",
    "\n",
    "\"Center\" is N-14."
   ]
  },
  {
   "cell_type": "code",
   "execution_count": null,
   "metadata": {
    "ExecuteTime": {
     "end_time": "2020-11-10T22:15:56.378756Z",
     "start_time": "2020-11-10T22:15:52.601709Z"
    }
   },
   "outputs": [],
   "source": [
    "# Plot grid M-13 time series\n",
    "fig, ax = stl.plot_no2_time_series(\n",
    "    time_series=time_series_df,\n",
    "    grid_id=\"M-13\",\n",
    "    data_location=\"South Korea\",\n",
    "    data_source=\"European Space Agency\",\n",
    ")"
   ]
  },
  {
   "cell_type": "code",
   "execution_count": null,
   "metadata": {
    "ExecuteTime": {
     "end_time": "2020-11-10T22:16:00.085971Z",
     "start_time": "2020-11-10T22:15:56.382751Z"
    }
   },
   "outputs": [],
   "source": [
    "# Plot grid M-14 time series\n",
    "fig, ax = stl.plot_no2_time_series(\n",
    "    time_series=time_series_df,\n",
    "    grid_id=\"M-14\",\n",
    "    data_location=\"South Korea\",\n",
    "    data_source=\"European Space Agency\",\n",
    ")"
   ]
  },
  {
   "cell_type": "code",
   "execution_count": null,
   "metadata": {
    "ExecuteTime": {
     "end_time": "2020-11-10T22:16:03.898397Z",
     "start_time": "2020-11-10T22:16:00.087965Z"
    }
   },
   "outputs": [],
   "source": [
    "# Plot grid N-13 time series\n",
    "fig, ax = stl.plot_no2_time_series(\n",
    "    time_series=time_series_df,\n",
    "    grid_id=\"N-13\",\n",
    "    data_location=\"South Korea\",\n",
    "    data_source=\"European Space Agency\",\n",
    ")"
   ]
  },
  {
   "cell_type": "code",
   "execution_count": null,
   "metadata": {
    "ExecuteTime": {
     "end_time": "2020-11-10T22:16:07.840709Z",
     "start_time": "2020-11-10T22:16:03.900392Z"
    }
   },
   "outputs": [],
   "source": [
    "# Plot grid N-14 time series\n",
    "fig, ax = stl.plot_no2_time_series(\n",
    "    time_series=time_series_df,\n",
    "    grid_id=\"N-14\",\n",
    "    data_location=\"South Korea\",\n",
    "    data_source=\"European Space Agency\",\n",
    ")"
   ]
  },
  {
   "cell_type": "code",
   "execution_count": null,
   "metadata": {
    "ExecuteTime": {
     "end_time": "2020-11-10T22:16:11.564427Z",
     "start_time": "2020-11-10T22:16:07.842703Z"
    }
   },
   "outputs": [],
   "source": [
    "# Plot grid N-15 time series\n",
    "fig, ax = stl.plot_no2_time_series(\n",
    "    time_series=time_series_df,\n",
    "    grid_id=\"N-15\",\n",
    "    data_location=\"South Korea\",\n",
    "    data_source=\"European Space Agency\",\n",
    ")"
   ]
  },
  {
   "cell_type": "code",
   "execution_count": null,
   "metadata": {
    "ExecuteTime": {
     "end_time": "2020-11-10T22:16:15.346945Z",
     "start_time": "2020-11-10T22:16:11.566391Z"
    }
   },
   "outputs": [],
   "source": [
    "# Plot grid O-13 time series\n",
    "fig, ax = stl.plot_no2_time_series(\n",
    "    time_series=time_series_df,\n",
    "    grid_id=\"O-13\",\n",
    "    data_location=\"South Korea\",\n",
    "    data_source=\"European Space Agency\",\n",
    ")"
   ]
  },
  {
   "cell_type": "code",
   "execution_count": null,
   "metadata": {
    "ExecuteTime": {
     "end_time": "2020-11-10T22:16:19.626643Z",
     "start_time": "2020-11-10T22:16:15.349901Z"
    }
   },
   "outputs": [],
   "source": [
    "# Plot grid O-14 time series\n",
    "fig, ax = stl.plot_no2_time_series(\n",
    "    time_series=time_series_df,\n",
    "    grid_id=\"O-14\",\n",
    "    data_location=\"South Korea\",\n",
    "    data_source=\"European Space Agency\",\n",
    ")"
   ]
  },
  {
   "cell_type": "markdown",
   "metadata": {},
   "source": [
    "## Southern Coast - High\n",
    "\n",
    "The following grid cells cover an area on the Southern coast with a relatively higher NO2 concentration:\n",
    "\n",
    "* M-16\n",
    "* M-17\n",
    "* N-16\n",
    "* N-17\n",
    "* N-18\n",
    "* O-16\n",
    "* O-17\n",
    "\n",
    "\"Center\" is N-17."
   ]
  },
  {
   "cell_type": "code",
   "execution_count": null,
   "metadata": {
    "ExecuteTime": {
     "end_time": "2020-11-10T22:16:23.468336Z",
     "start_time": "2020-11-10T22:16:19.628637Z"
    }
   },
   "outputs": [],
   "source": [
    "# Plot grid M-16 time series\n",
    "fig, ax = stl.plot_no2_time_series(\n",
    "    time_series=time_series_df,\n",
    "    grid_id=\"M-16\",\n",
    "    data_location=\"South Korea\",\n",
    "    data_source=\"European Space Agency\",\n",
    ")"
   ]
  },
  {
   "cell_type": "code",
   "execution_count": null,
   "metadata": {
    "ExecuteTime": {
     "end_time": "2020-11-10T22:16:27.295171Z",
     "start_time": "2020-11-10T22:16:23.470315Z"
    }
   },
   "outputs": [],
   "source": [
    "# Plot grid M-17 time series\n",
    "fig, ax = stl.plot_no2_time_series(\n",
    "    time_series=time_series_df,\n",
    "    grid_id=\"M-17\",\n",
    "    data_location=\"South Korea\",\n",
    "    data_source=\"European Space Agency\",\n",
    ")"
   ]
  },
  {
   "cell_type": "code",
   "execution_count": null,
   "metadata": {
    "ExecuteTime": {
     "end_time": "2020-11-10T22:16:31.071159Z",
     "start_time": "2020-11-10T22:16:27.297139Z"
    }
   },
   "outputs": [],
   "source": [
    "# Plot grid N-16 time series\n",
    "fig, ax = stl.plot_no2_time_series(\n",
    "    time_series=time_series_df,\n",
    "    grid_id=\"N-16\",\n",
    "    data_location=\"South Korea\",\n",
    "    data_source=\"European Space Agency\",\n",
    ")"
   ]
  },
  {
   "cell_type": "code",
   "execution_count": null,
   "metadata": {
    "ExecuteTime": {
     "end_time": "2020-11-10T22:16:34.763132Z",
     "start_time": "2020-11-10T22:16:31.073122Z"
    }
   },
   "outputs": [],
   "source": [
    "# Plot grid N-17 time series\n",
    "fig, ax = stl.plot_no2_time_series(\n",
    "    time_series=time_series_df,\n",
    "    grid_id=\"N-17\",\n",
    "    data_location=\"South Korea\",\n",
    "    data_source=\"European Space Agency\",\n",
    ")"
   ]
  },
  {
   "cell_type": "code",
   "execution_count": null,
   "metadata": {
    "ExecuteTime": {
     "end_time": "2020-11-10T22:16:38.455451Z",
     "start_time": "2020-11-10T22:16:34.765111Z"
    }
   },
   "outputs": [],
   "source": [
    "# Plot grid N-18 time series\n",
    "fig, ax = stl.plot_no2_time_series(\n",
    "    time_series=time_series_df,\n",
    "    grid_id=\"N-18\",\n",
    "    data_location=\"South Korea\",\n",
    "    data_source=\"European Space Agency\",\n",
    ")"
   ]
  },
  {
   "cell_type": "code",
   "execution_count": null,
   "metadata": {
    "ExecuteTime": {
     "end_time": "2020-11-10T22:16:42.169919Z",
     "start_time": "2020-11-10T22:16:38.457429Z"
    }
   },
   "outputs": [],
   "source": [
    "# Plot grid O-16 time series\n",
    "fig, ax = stl.plot_no2_time_series(\n",
    "    time_series=time_series_df,\n",
    "    grid_id=\"O-16\",\n",
    "    data_location=\"South Korea\",\n",
    "    data_source=\"European Space Agency\",\n",
    ")"
   ]
  },
  {
   "cell_type": "code",
   "execution_count": null,
   "metadata": {
    "ExecuteTime": {
     "end_time": "2020-11-10T22:16:45.907818Z",
     "start_time": "2020-11-10T22:16:42.172910Z"
    }
   },
   "outputs": [],
   "source": [
    "# Plot grid O-17 time series\n",
    "fig, ax = stl.plot_no2_time_series(\n",
    "    time_series=time_series_df,\n",
    "    grid_id=\"O-17\",\n",
    "    data_location=\"South Korea\",\n",
    "    data_source=\"European Space Agency\",\n",
    ")"
   ]
  },
  {
   "cell_type": "markdown",
   "metadata": {},
   "source": [
    "## Rural Area to the East - Low\n",
    "\n",
    "The following grid cells cover a rural area in the East a relatively lower NO2 concentration:\n",
    "\n",
    "* S-8\n",
    "* S-9\n",
    "* T-8\n",
    "* T-9\n",
    "* T-10\n",
    "* U-8\n",
    "* U-9\n",
    "\n",
    "\"Center\" is T-9."
   ]
  },
  {
   "cell_type": "code",
   "execution_count": null,
   "metadata": {
    "ExecuteTime": {
     "end_time": "2020-11-10T22:16:49.624568Z",
     "start_time": "2020-11-10T22:16:45.909812Z"
    }
   },
   "outputs": [],
   "source": [
    "# Plot grid S-8 time series\n",
    "fig, ax = stl.plot_no2_time_series(\n",
    "    time_series=time_series_df,\n",
    "    grid_id=\"S-8\",\n",
    "    data_location=\"South Korea\",\n",
    "    data_source=\"European Space Agency\",\n",
    ")"
   ]
  },
  {
   "cell_type": "code",
   "execution_count": null,
   "metadata": {
    "ExecuteTime": {
     "end_time": "2020-11-10T22:16:54.278671Z",
     "start_time": "2020-11-10T22:16:49.626535Z"
    }
   },
   "outputs": [],
   "source": [
    "# Plot grid S-9 time series\n",
    "fig, ax = stl.plot_no2_time_series(\n",
    "    time_series=time_series_df,\n",
    "    grid_id=\"S-9\",\n",
    "    data_location=\"South Korea\",\n",
    "    data_source=\"European Space Agency\",\n",
    ")"
   ]
  },
  {
   "cell_type": "code",
   "execution_count": null,
   "metadata": {
    "ExecuteTime": {
     "end_time": "2020-11-10T22:16:58.643523Z",
     "start_time": "2020-11-10T22:16:54.281648Z"
    }
   },
   "outputs": [],
   "source": [
    "# Plot grid T-8 time series\n",
    "fig, ax = stl.plot_no2_time_series(\n",
    "    time_series=time_series_df,\n",
    "    grid_id=\"T-8\",\n",
    "    data_location=\"South Korea\",\n",
    "    data_source=\"European Space Agency\",\n",
    ")"
   ]
  },
  {
   "cell_type": "code",
   "execution_count": null,
   "metadata": {
    "ExecuteTime": {
     "end_time": "2020-11-10T22:17:02.457377Z",
     "start_time": "2020-11-10T22:16:58.646523Z"
    }
   },
   "outputs": [],
   "source": [
    "# Plot grid T-9 time series\n",
    "fig, ax = stl.plot_no2_time_series(\n",
    "    time_series=time_series_df,\n",
    "    grid_id=\"T-9\",\n",
    "    data_location=\"South Korea\",\n",
    "    data_source=\"European Space Agency\",\n",
    ")"
   ]
  },
  {
   "cell_type": "code",
   "execution_count": null,
   "metadata": {
    "ExecuteTime": {
     "end_time": "2020-11-10T22:17:06.311716Z",
     "start_time": "2020-11-10T22:17:02.460339Z"
    }
   },
   "outputs": [],
   "source": [
    "# Plot grid T-10 time series\n",
    "fig, ax = stl.plot_no2_time_series(\n",
    "    time_series=time_series_df,\n",
    "    grid_id=\"T-10\",\n",
    "    data_location=\"South Korea\",\n",
    "    data_source=\"European Space Agency\",\n",
    ")"
   ]
  },
  {
   "cell_type": "code",
   "execution_count": null,
   "metadata": {
    "ExecuteTime": {
     "end_time": "2020-11-10T22:17:10.090559Z",
     "start_time": "2020-11-10T22:17:06.313710Z"
    }
   },
   "outputs": [],
   "source": [
    "# Plot grid U-8 time series\n",
    "fig, ax = stl.plot_no2_time_series(\n",
    "    time_series=time_series_df,\n",
    "    grid_id=\"U-8\",\n",
    "    data_location=\"South Korea\",\n",
    "    data_source=\"European Space Agency\",\n",
    ")"
   ]
  },
  {
   "cell_type": "code",
   "execution_count": null,
   "metadata": {
    "ExecuteTime": {
     "end_time": "2020-11-10T22:17:13.964061Z",
     "start_time": "2020-11-10T22:17:10.092552Z"
    }
   },
   "outputs": [],
   "source": [
    "# Plot grid U-9 time series\n",
    "fig, ax = stl.plot_no2_time_series(\n",
    "    time_series=time_series_df,\n",
    "    grid_id=\"U-9\",\n",
    "    data_location=\"South Korea\",\n",
    "    data_source=\"European Space Agency\",\n",
    ")"
   ]
  },
  {
   "cell_type": "markdown",
   "metadata": {},
   "source": [
    "## Statistics Table"
   ]
  },
  {
   "cell_type": "markdown",
   "metadata": {},
   "source": [
    "Create table showing mean and standard deviation for each cell within the test areas and/or all cells."
   ]
  },
  {
   "cell_type": "markdown",
   "metadata": {},
   "source": [
    "# Data Export"
   ]
  },
  {
   "cell_type": "code",
   "execution_count": null,
   "metadata": {
    "ExecuteTime": {
     "end_time": "2020-11-10T22:17:13.986998Z",
     "start_time": "2020-11-10T22:17:13.966023Z"
    }
   },
   "outputs": [],
   "source": [
    "# Plot and export daily time series for all grid IDs\n",
    "export = False\n",
    "if export:\n",
    "    for grid_id in time_series_df.columns:\n",
    "        fig, ax = stl.plot_no2_time_series(\n",
    "            time_series=time_series_df,\n",
    "            grid_id=grid_id,\n",
    "            data_location=\"South Korea\",\n",
    "            data_source=\"European Space Agency\",\n",
    "        )\n",
    "\n",
    "        rd.save_figure(\n",
    "            filepath=os.path.join(\n",
    "                \"04-graphics-outputs\",\n",
    "                \"time-series\",\n",
    "                \"south-korea\",\n",
    "                f\"no2-daily-time-series-jul-2018-aug-2020-grid-{grid_id.lower().replace('-', '')}.png\",\n",
    "            )\n",
    "        )\n",
    "\n",
    "        plt.close()"
   ]
  }
 ],
 "metadata": {
  "hide_input": false,
  "kernelspec": {
   "display_name": "Python 3",
   "language": "python",
   "name": "python3"
  },
  "language_info": {
   "codemirror_mode": {
    "name": "ipython",
    "version": 3
   },
   "file_extension": ".py",
   "mimetype": "text/x-python",
   "name": "python",
   "nbconvert_exporter": "python",
   "pygments_lexer": "ipython3",
   "version": "3.7.6"
  },
  "toc": {
   "base_numbering": 1,
   "nav_menu": {},
   "number_sections": true,
   "sideBar": true,
   "skip_h1_title": false,
   "title_cell": "Table of Contents",
   "title_sidebar": "Contents",
   "toc_cell": false,
   "toc_position": {
    "height": "calc(100% - 180px)",
    "left": "10px",
    "top": "150px",
    "width": "307.2px"
   },
   "toc_section_display": true,
   "toc_window_display": true
  },
  "varInspector": {
   "cols": {
    "lenName": 16,
    "lenType": 16,
    "lenVar": 40
   },
   "kernels_config": {
    "python": {
     "delete_cmd_postfix": "",
     "delete_cmd_prefix": "del ",
     "library": "var_list.py",
     "varRefreshCmd": "print(var_dic_list())"
    },
    "r": {
     "delete_cmd_postfix": ") ",
     "delete_cmd_prefix": "rm(",
     "library": "var_list.r",
     "varRefreshCmd": "cat(var_dic_list()) "
    }
   },
   "types_to_exclude": [
    "module",
    "function",
    "builtin_function_or_method",
    "instance",
    "_Feature"
   ],
   "window_display": false
  }
 },
 "nbformat": 4,
 "nbformat_minor": 4
}
