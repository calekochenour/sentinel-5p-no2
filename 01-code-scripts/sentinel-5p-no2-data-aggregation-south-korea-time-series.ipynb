{
 "cells": [
  {
   "cell_type": "markdown",
   "metadata": {},
   "source": [
    "# NO2 Data Aggregation Time Series\n",
    "\n",
    "Aggregates NO2 values by administrative boundaries and a regular hexagon grid.\n",
    "\n",
    "To convert from mol/m<sup>2</sup> to molecules/cm<sup>2</sup>, multiply by 6.022140857e+19 (6.022140857 * 10<sup>19</sup>)."
   ]
  },
  {
   "cell_type": "markdown",
   "metadata": {},
   "source": [
    "# Environment Setup"
   ]
  },
  {
   "cell_type": "code",
   "execution_count": null,
   "metadata": {
    "ExecuteTime": {
     "end_time": "2020-11-09T15:36:48.786188Z",
     "start_time": "2020-11-09T15:36:48.516021Z"
    }
   },
   "outputs": [],
   "source": [
    "# Load Notebook formatter\n",
    "%load_ext nb_black\n",
    "# %reload_ext nb_black"
   ]
  },
  {
   "cell_type": "code",
   "execution_count": null,
   "metadata": {
    "ExecuteTime": {
     "end_time": "2020-11-09T15:36:56.892502Z",
     "start_time": "2020-11-09T15:36:49.071384Z"
    }
   },
   "outputs": [],
   "source": [
    "# Import packages\n",
    "import os\n",
    "import glob\n",
    "import seaborn as sns\n",
    "import pandas as pd\n",
    "import geopandas as gpd\n",
    "import sentinel as stl"
   ]
  },
  {
   "cell_type": "code",
   "execution_count": null,
   "metadata": {
    "ExecuteTime": {
     "end_time": "2020-11-09T15:36:56.952473Z",
     "start_time": "2020-11-09T15:36:56.937447Z"
    }
   },
   "outputs": [],
   "source": [
    "# Set Options\n",
    "# sns.set(font_scale=1.5, style=\"whitegrid\")\n",
    "sns.set(font_scale=1.5)\n",
    "pd.set_option(\"display.max_columns\", None)\n",
    "# pd.set_option(\"display.max_rows\", None)\n",
    "pd.set_option(\"precision\", 15)"
   ]
  },
  {
   "cell_type": "code",
   "execution_count": null,
   "metadata": {
    "ExecuteTime": {
     "end_time": "2020-11-09T15:36:57.014023Z",
     "start_time": "2020-11-09T15:36:57.000051Z"
    }
   },
   "outputs": [],
   "source": [
    "# Set working directory\n",
    "os.chdir(\"..\")\n",
    "print(f\"Working directory: {os.getcwd()}\")"
   ]
  },
  {
   "cell_type": "markdown",
   "metadata": {},
   "source": [
    "# User-Defined Variables"
   ]
  },
  {
   "cell_type": "code",
   "execution_count": null,
   "metadata": {
    "ExecuteTime": {
     "end_time": "2020-11-09T15:37:57.059313Z",
     "start_time": "2020-11-09T15:37:57.044346Z"
    }
   },
   "outputs": [],
   "source": [
    "# Set paths to South hexagon grid and daily rasters\n",
    "south_korea_hexagon_grid_path = os.path.join(\n",
    "    \"03-processed-data\",\n",
    "    \"vector\",\n",
    "    \"south-korea\",\n",
    "    \"south_korea_hexagon_grid.shp\",\n",
    ")\n",
    "\n",
    "no2_rasters_folder = os.path.join(\n",
    "    \"03-processed-data\", \"raster\", \"south-korea\", \"daily\"\n",
    ")"
   ]
  },
  {
   "cell_type": "markdown",
   "metadata": {},
   "source": [
    "# Data Acquisition and Preprocessing"
   ]
  },
  {
   "cell_type": "code",
   "execution_count": null,
   "metadata": {
    "ExecuteTime": {
     "end_time": "2020-11-09T15:38:24.342855Z",
     "start_time": "2020-11-09T15:38:24.254864Z"
    }
   },
   "outputs": [],
   "source": [
    "# Get all NO2 daily rasters into sorted list\n",
    "no2_rasters = sorted(glob.glob(os.path.join(no2_rasters_folder, \"*.tif\")))"
   ]
  },
  {
   "cell_type": "markdown",
   "metadata": {},
   "source": [
    "# Data Processing"
   ]
  },
  {
   "cell_type": "code",
   "execution_count": null,
   "metadata": {
    "ExecuteTime": {
     "end_time": "2020-11-09T16:05:26.241514Z",
     "start_time": "2020-11-09T15:39:16.912785Z"
    }
   },
   "outputs": [],
   "source": [
    "# Create list of geodataframes aggegated to the hexagon grid\n",
    "aggregated_hexagon_grids = [\n",
    "    stl.aggregate_raster_data(\n",
    "        raster_path=raster,\n",
    "        vector_path=south_korea_hexagon_grid_path,\n",
    "        zonal_statistics=\"count mean\",\n",
    "    )\n",
    "    for raster in no2_rasters\n",
    "]"
   ]
  },
  {
   "cell_type": "code",
   "execution_count": null,
   "metadata": {
    "ExecuteTime": {
     "end_time": "2020-11-09T16:19:54.322338Z",
     "start_time": "2020-11-09T16:19:51.963438Z"
    }
   },
   "outputs": [],
   "source": [
    "# Create list of dataframes with acquisition date for the column name\n",
    "renamed_data = []\n",
    "for index, data in enumerate(aggregated_hexagon_grids):\n",
    "    acquisition_date = os.path.basename(no2_rasters[index])[27:46]\n",
    "    renamed = data.rename(columns={\"mean\": acquisition_date})\n",
    "    renamed_data.append(renamed[[acquisition_date]])"
   ]
  },
  {
   "cell_type": "code",
   "execution_count": null,
   "metadata": {
    "ExecuteTime": {
     "end_time": "2020-11-09T16:20:42.903517Z",
     "start_time": "2020-11-09T16:20:42.713636Z"
    }
   },
   "outputs": [],
   "source": [
    "# Get geodataframe with all days of aggregated data (merge geoetry with values)\n",
    "hexagon_grid_gdf = (\n",
    "    gpd.read_file(south_korea_hexagon_grid_path)\n",
    "    .drop(columns=[\"Id\"], axis=1)\n",
    "    .merge(pd.concat(renamed_data, axis=1), left_index=True, right_index=True)\n",
    ")"
   ]
  },
  {
   "cell_type": "code",
   "execution_count": null,
   "metadata": {
    "ExecuteTime": {
     "end_time": "2020-11-09T16:23:37.902448Z",
     "start_time": "2020-11-09T16:23:37.887463Z"
    }
   },
   "outputs": [],
   "source": [
    "# hexagon_grid_gdf"
   ]
  },
  {
   "cell_type": "markdown",
   "metadata": {},
   "source": [
    "# Data Post-Processing"
   ]
  },
  {
   "cell_type": "code",
   "execution_count": null,
   "metadata": {},
   "outputs": [],
   "source": []
  },
  {
   "cell_type": "markdown",
   "metadata": {},
   "source": [
    "# Data Visualization"
   ]
  },
  {
   "cell_type": "code",
   "execution_count": null,
   "metadata": {},
   "outputs": [],
   "source": []
  },
  {
   "cell_type": "markdown",
   "metadata": {},
   "source": [
    "# Data Export"
   ]
  },
  {
   "cell_type": "code",
   "execution_count": null,
   "metadata": {
    "ExecuteTime": {
     "end_time": "2020-11-09T16:28:40.996572Z",
     "start_time": "2020-11-09T16:24:19.482709Z"
    }
   },
   "outputs": [],
   "source": [
    "# Export hexagon grid\n",
    "# CSV\n",
    "# hexagon_grid_gdf.to_csv(\n",
    "#     path_or_buf=os.path.join(\n",
    "#         \"03-processed-data\",\n",
    "#         \"csv\",\n",
    "#         \"south-korea\",\n",
    "#         \"aggregate-daily-hexagon-grid-jul-2018-aug-2020.csv\",\n",
    "#     ),\n",
    "#     sep=\",\",\n",
    "#     na_rep=\"nan\",\n",
    "#     header=True,\n",
    "#     index=False,\n",
    "# )\n",
    "\n",
    "# Shapefile\n",
    "# hexagon_grid_gdf.to_file(\n",
    "#     filename=os.path.join(\n",
    "#         \"03-processed-data\",\n",
    "#         \"vector\",\n",
    "#         \"south-korea\",\n",
    "#         \"aggregate_daily_hexagon_grid_jul_2018_aug_2020.shp\",\n",
    "#     ),\n",
    "#     driver=\"ESRI Shapefile\",\n",
    "#     index=False,\n",
    "# )\n",
    "\n",
    "# Geopackage\n",
    "hexagon_grid_gdf.to_file(\n",
    "    filename=os.path.join(\n",
    "        \"03-processed-data\",\n",
    "        \"vector\",\n",
    "        \"south-korea\",\n",
    "        \"aggregate_daily_hexagon_grid_jul_2018_aug_2020.gpkg\",\n",
    "    ),\n",
    "    driver=\"GPKG\",\n",
    "    index=False,\n",
    ")"
   ]
  },
  {
   "cell_type": "code",
   "execution_count": null,
   "metadata": {
    "ExecuteTime": {
     "end_time": "2020-11-09T16:30:41.451340Z",
     "start_time": "2020-11-09T16:30:40.581063Z"
    }
   },
   "outputs": [],
   "source": [
    "# Read exported geopackaged into geodataframe\n",
    "hexagon_grid_time_series = gpd.read_file(\n",
    "    os.path.join(\n",
    "        \"03-processed-data\",\n",
    "        \"vector\",\n",
    "        \"south-korea\",\n",
    "        \"aggregate_daily_hexagon_grid_jul_2018_aug_2020.gpkg\",\n",
    "    )\n",
    ").set_index(keys=\"GRID_ID\", drop=True)"
   ]
  },
  {
   "cell_type": "code",
   "execution_count": null,
   "metadata": {
    "ExecuteTime": {
     "end_time": "2020-11-09T16:32:58.358292Z",
     "start_time": "2020-11-09T16:32:57.601323Z"
    }
   },
   "outputs": [],
   "source": [
    "# Example geodataframe\n",
    "hexagon_grid_time_series.head()"
   ]
  }
 ],
 "metadata": {
  "hide_input": false,
  "kernelspec": {
   "display_name": "Python 3",
   "language": "python",
   "name": "python3"
  },
  "language_info": {
   "codemirror_mode": {
    "name": "ipython",
    "version": 3
   },
   "file_extension": ".py",
   "mimetype": "text/x-python",
   "name": "python",
   "nbconvert_exporter": "python",
   "pygments_lexer": "ipython3",
   "version": "3.7.6"
  },
  "toc": {
   "base_numbering": 1,
   "nav_menu": {},
   "number_sections": true,
   "sideBar": true,
   "skip_h1_title": false,
   "title_cell": "Table of Contents",
   "title_sidebar": "Contents",
   "toc_cell": false,
   "toc_position": {},
   "toc_section_display": true,
   "toc_window_display": false
  },
  "varInspector": {
   "cols": {
    "lenName": 16,
    "lenType": 16,
    "lenVar": 40
   },
   "kernels_config": {
    "python": {
     "delete_cmd_postfix": "",
     "delete_cmd_prefix": "del ",
     "library": "var_list.py",
     "varRefreshCmd": "print(var_dic_list())"
    },
    "r": {
     "delete_cmd_postfix": ") ",
     "delete_cmd_prefix": "rm(",
     "library": "var_list.r",
     "varRefreshCmd": "cat(var_dic_list()) "
    }
   },
   "types_to_exclude": [
    "module",
    "function",
    "builtin_function_or_method",
    "instance",
    "_Feature"
   ],
   "window_display": false
  }
 },
 "nbformat": 4,
 "nbformat_minor": 4
}
