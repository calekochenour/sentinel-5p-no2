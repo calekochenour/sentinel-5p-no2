{
 "cells": [
  {
   "cell_type": "markdown",
   "metadata": {},
   "source": [
    "# NO2 Data Aggregation Temporal Fluctuation\n",
    "\n",
    "Observes how NO2 data aggregated to hexagon grid cells fluctuates up to 30 hours into the future.\n",
    "\n",
    "To convert from mol/m<sup>2</sup> to molecules/cm<sup>2</sup>, multiply by 6.022140857e+19 (6.022140857 * 10<sup>19</sup>)."
   ]
  },
  {
   "cell_type": "markdown",
   "metadata": {},
   "source": [
    "# Environment Setup"
   ]
  },
  {
   "cell_type": "code",
   "execution_count": null,
   "metadata": {
    "ExecuteTime": {
     "end_time": "2020-12-10T16:36:47.354076Z",
     "start_time": "2020-12-10T16:36:47.208464Z"
    }
   },
   "outputs": [],
   "source": [
    "# Load Notebook formatter\n",
    "%load_ext nb_black\n",
    "# %reload_ext nb_black"
   ]
  },
  {
   "cell_type": "code",
   "execution_count": null,
   "metadata": {
    "ExecuteTime": {
     "end_time": "2020-12-10T16:36:49.533108Z",
     "start_time": "2020-12-10T16:36:47.402946Z"
    }
   },
   "outputs": [],
   "source": [
    "# Import packages\n",
    "import os\n",
    "from datetime import timedelta\n",
    "import matplotlib.pyplot as plt\n",
    "import numpy as np\n",
    "from scipy.interpolate import UnivariateSpline\n",
    "import seaborn as sns\n",
    "import pandas as pd\n",
    "from pandas.plotting import register_matplotlib_converters\n",
    "import radiance as rd\n",
    "import sentinel as stl"
   ]
  },
  {
   "cell_type": "code",
   "execution_count": null,
   "metadata": {
    "ExecuteTime": {
     "end_time": "2020-12-10T16:36:49.614914Z",
     "start_time": "2020-12-10T16:36:49.598933Z"
    }
   },
   "outputs": [],
   "source": [
    "# Set Options\n",
    "np.set_printoptions(precision=15)\n",
    "np.set_printoptions(suppress=True)\n",
    "# sns.set(font_scale=1.5, style=\"whitegrid\")\n",
    "sns.set(font_scale=1.5)\n",
    "pd.set_option(\"display.max_columns\", None)\n",
    "# pd.set_option(\"display.max_rows\", None)\n",
    "pd.set_option(\"precision\", 15)\n",
    "register_matplotlib_converters()"
   ]
  },
  {
   "cell_type": "code",
   "execution_count": null,
   "metadata": {
    "ExecuteTime": {
     "end_time": "2020-12-10T16:36:49.698180Z",
     "start_time": "2020-12-10T16:36:49.686698Z"
    }
   },
   "outputs": [],
   "source": [
    "# Set working directory\n",
    "os.chdir(\"..\")\n",
    "print(f\"Working directory: {os.getcwd()}\")"
   ]
  },
  {
   "cell_type": "markdown",
   "metadata": {},
   "source": [
    "# User-Defined Variables"
   ]
  },
  {
   "cell_type": "code",
   "execution_count": null,
   "metadata": {
    "ExecuteTime": {
     "end_time": "2020-12-10T16:36:49.765002Z",
     "start_time": "2020-12-10T16:36:49.752036Z"
    }
   },
   "outputs": [],
   "source": [
    "# Set paths to time series geopackage\n",
    "hexagon_grid_time_series_path = os.path.join(\n",
    "    \"03-processed-data\",\n",
    "    \"vector\",\n",
    "    \"south-korea\",\n",
    "    \"aggregate_daily_hexagon_grid_jul_2018_nov_2020.gpkg\",\n",
    ")"
   ]
  },
  {
   "cell_type": "markdown",
   "metadata": {},
   "source": [
    "# Data Acquisition and Preprocessing"
   ]
  },
  {
   "cell_type": "code",
   "execution_count": null,
   "metadata": {
    "ExecuteTime": {
     "end_time": "2020-12-10T16:36:52.227898Z",
     "start_time": "2020-12-10T16:36:50.722704Z"
    }
   },
   "outputs": [],
   "source": [
    "# Get cleaned time series data into dataframe\n",
    "time_series_df = stl.clean_time_series(hexagon_grid_time_series_path)"
   ]
  },
  {
   "cell_type": "code",
   "execution_count": null,
   "metadata": {
    "ExecuteTime": {
     "end_time": "2020-12-10T16:36:54.584438Z",
     "start_time": "2020-12-10T16:36:53.910760Z"
    }
   },
   "outputs": [],
   "source": [
    "# Check dataframe\n",
    "time_series_df.head()"
   ]
  },
  {
   "cell_type": "code",
   "execution_count": null,
   "metadata": {
    "ExecuteTime": {
     "end_time": "2020-12-10T16:36:56.751773Z",
     "start_time": "2020-12-10T16:36:56.118426Z"
    }
   },
   "outputs": [],
   "source": [
    "# Check dataframe\n",
    "time_series_df.tail()"
   ]
  },
  {
   "cell_type": "markdown",
   "metadata": {},
   "source": [
    "# Data Processing"
   ]
  },
  {
   "cell_type": "markdown",
   "metadata": {},
   "source": [
    "## Timestamp and NO2 Deltas"
   ]
  },
  {
   "cell_type": "markdown",
   "metadata": {},
   "source": [
    "### Seoul Area - High"
   ]
  },
  {
   "cell_type": "markdown",
   "metadata": {},
   "source": [
    "#### Grid J-6"
   ]
  },
  {
   "cell_type": "code",
   "execution_count": null,
   "metadata": {
    "ExecuteTime": {
     "end_time": "2020-12-09T20:28:17.756156Z",
     "start_time": "2020-12-09T20:27:17.278859Z"
    }
   },
   "outputs": [],
   "source": [
    "# Calculate time and NO2 deltas, grid J-6 - Raw values (not absolute magnitude)\n",
    "(\n",
    "    time_deltas_j6,\n",
    "    no2_deltas_magnitude_j6,\n",
    "    no2_deltas_percent_j6,\n",
    ") = stl.calculate_deltas(\n",
    "    time_series=time_series_df,\n",
    "    grid_id=\"J-6\",\n",
    "    max_difference=30,\n",
    "    return_absolute=False,\n",
    ")"
   ]
  },
  {
   "cell_type": "code",
   "execution_count": null,
   "metadata": {
    "ExecuteTime": {
     "end_time": "2020-12-09T20:28:20.220712Z",
     "start_time": "2020-12-09T20:28:20.206749Z"
    }
   },
   "outputs": [],
   "source": [
    "# Check time deltas\n",
    "time_deltas_j6[:10]"
   ]
  },
  {
   "cell_type": "code",
   "execution_count": null,
   "metadata": {
    "ExecuteTime": {
     "end_time": "2020-12-09T20:28:22.866473Z",
     "start_time": "2020-12-09T20:28:22.855503Z"
    }
   },
   "outputs": [],
   "source": [
    "# Check NO2 deltas - magnitude\n",
    "no2_deltas_magnitude_j6[:10]"
   ]
  },
  {
   "cell_type": "code",
   "execution_count": null,
   "metadata": {
    "ExecuteTime": {
     "end_time": "2020-12-09T20:28:25.349902Z",
     "start_time": "2020-12-09T20:28:25.339927Z"
    }
   },
   "outputs": [],
   "source": [
    "# Check NO2 deltas - percent\n",
    "no2_deltas_percent_j6[:10]"
   ]
  },
  {
   "cell_type": "code",
   "execution_count": null,
   "metadata": {
    "ExecuteTime": {
     "end_time": "2020-12-09T20:28:27.703163Z",
     "start_time": "2020-12-09T20:28:27.692193Z"
    }
   },
   "outputs": [],
   "source": [
    "# Convert deltas to arrays\n",
    "time_deltas_j6_arr = stl.format_time_delta(time_deltas_j6)\n",
    "no2_deltas_magnitude_j6_arr = stl.format_no2_delta(no2_deltas_magnitude_j6)\n",
    "no2_deltas_percent_j6_arr = stl.format_no2_delta(no2_deltas_percent_j6)"
   ]
  },
  {
   "cell_type": "code",
   "execution_count": null,
   "metadata": {
    "ExecuteTime": {
     "end_time": "2020-12-09T20:28:30.383008Z",
     "start_time": "2020-12-09T20:28:30.371041Z"
    }
   },
   "outputs": [],
   "source": [
    "# Check time delta array\n",
    "time_deltas_j6_arr[:10]"
   ]
  },
  {
   "cell_type": "code",
   "execution_count": null,
   "metadata": {
    "ExecuteTime": {
     "end_time": "2020-12-09T20:28:32.990763Z",
     "start_time": "2020-12-09T20:28:32.979795Z"
    }
   },
   "outputs": [],
   "source": [
    "# Check NO2 delta array - magnitude\n",
    "no2_deltas_magnitude_j6_arr[:10]"
   ]
  },
  {
   "cell_type": "code",
   "execution_count": null,
   "metadata": {
    "ExecuteTime": {
     "end_time": "2020-12-09T20:28:36.570452Z",
     "start_time": "2020-12-09T20:28:36.559501Z"
    }
   },
   "outputs": [],
   "source": [
    "# NO2 delta array - percent\n",
    "no2_deltas_percent_j6_arr[:10]"
   ]
  },
  {
   "cell_type": "markdown",
   "metadata": {},
   "source": [
    "#### Grid I-6"
   ]
  },
  {
   "cell_type": "code",
   "execution_count": null,
   "metadata": {
    "ExecuteTime": {
     "end_time": "2020-12-09T20:29:42.245293Z",
     "start_time": "2020-12-09T20:28:40.704959Z"
    }
   },
   "outputs": [],
   "source": [
    "# Calculate time and NO2 deltas, grid I-6 - Raw values (not absolute magnitude)\n",
    "(\n",
    "    time_deltas_i6,\n",
    "    no2_deltas_magnitude_i6,\n",
    "    no2_deltas_percent_i6,\n",
    ") = stl.calculate_deltas(\n",
    "    time_series=time_series_df,\n",
    "    grid_id=\"I-6\",\n",
    "    max_difference=30,\n",
    "    return_absolute=False,\n",
    ")"
   ]
  },
  {
   "cell_type": "code",
   "execution_count": null,
   "metadata": {
    "ExecuteTime": {
     "end_time": "2020-12-09T20:29:45.514546Z",
     "start_time": "2020-12-09T20:29:45.499588Z"
    }
   },
   "outputs": [],
   "source": [
    "# Check time deltas\n",
    "time_deltas_i6[:10]"
   ]
  },
  {
   "cell_type": "code",
   "execution_count": null,
   "metadata": {
    "ExecuteTime": {
     "end_time": "2020-12-09T20:29:48.448696Z",
     "start_time": "2020-12-09T20:29:48.434734Z"
    }
   },
   "outputs": [],
   "source": [
    "# Check NO2 deltas - magnitude\n",
    "no2_deltas_magnitude_i6[:10]"
   ]
  },
  {
   "cell_type": "code",
   "execution_count": null,
   "metadata": {
    "ExecuteTime": {
     "end_time": "2020-12-09T20:29:51.299072Z",
     "start_time": "2020-12-09T20:29:51.289098Z"
    }
   },
   "outputs": [],
   "source": [
    "# Check NO2 deltas - percent\n",
    "no2_deltas_percent_i6[:10]"
   ]
  },
  {
   "cell_type": "code",
   "execution_count": null,
   "metadata": {
    "ExecuteTime": {
     "end_time": "2020-12-09T20:29:53.830300Z",
     "start_time": "2020-12-09T20:29:53.818330Z"
    }
   },
   "outputs": [],
   "source": [
    "# Convert deltas to arrays\n",
    "time_deltas_i6_arr = stl.format_time_delta(time_deltas_i6)\n",
    "no2_deltas_magnitude_i6_arr = stl.format_no2_delta(no2_deltas_magnitude_i6)\n",
    "no2_deltas_percent_i6_arr = stl.format_no2_delta(no2_deltas_percent_i6)"
   ]
  },
  {
   "cell_type": "code",
   "execution_count": null,
   "metadata": {
    "ExecuteTime": {
     "end_time": "2020-12-09T20:29:56.610859Z",
     "start_time": "2020-12-09T20:29:56.599890Z"
    }
   },
   "outputs": [],
   "source": [
    "# Check time delta array\n",
    "time_deltas_i6_arr[:10]"
   ]
  },
  {
   "cell_type": "code",
   "execution_count": null,
   "metadata": {
    "ExecuteTime": {
     "end_time": "2020-12-09T20:29:59.419346Z",
     "start_time": "2020-12-09T20:29:59.409372Z"
    }
   },
   "outputs": [],
   "source": [
    "# Check NO2 delta array - magnitude\n",
    "no2_deltas_magnitude_i6_arr[:10]"
   ]
  },
  {
   "cell_type": "code",
   "execution_count": null,
   "metadata": {
    "ExecuteTime": {
     "end_time": "2020-12-09T20:30:02.061279Z",
     "start_time": "2020-12-09T20:30:02.050307Z"
    }
   },
   "outputs": [],
   "source": [
    "# NO2 delta array - percent\n",
    "no2_deltas_percent_i6_arr[:10]"
   ]
  },
  {
   "cell_type": "markdown",
   "metadata": {},
   "source": [
    "### Rural Area to the East - Low"
   ]
  },
  {
   "cell_type": "markdown",
   "metadata": {},
   "source": [
    "#### Grid S-9"
   ]
  },
  {
   "cell_type": "code",
   "execution_count": null,
   "metadata": {
    "ExecuteTime": {
     "end_time": "2020-12-09T20:33:45.108670Z",
     "start_time": "2020-12-09T20:32:50.663318Z"
    }
   },
   "outputs": [],
   "source": [
    "# Calculate time and NO2 deltas, grid S-9 - Raw values (not absolute magnitude)\n",
    "(\n",
    "    time_deltas_s9,\n",
    "    no2_deltas_magnitude_s9,\n",
    "    no2_deltas_percent_s9,\n",
    ") = stl.calculate_deltas(\n",
    "    time_series=time_series_df,\n",
    "    grid_id=\"S-9\",\n",
    "    max_difference=30,\n",
    "    return_absolute=False,\n",
    ")"
   ]
  },
  {
   "cell_type": "code",
   "execution_count": null,
   "metadata": {
    "ExecuteTime": {
     "end_time": "2020-12-09T20:33:48.122622Z",
     "start_time": "2020-12-09T20:33:48.111639Z"
    }
   },
   "outputs": [],
   "source": [
    "# Check time deltas\n",
    "time_deltas_s9[:10]"
   ]
  },
  {
   "cell_type": "code",
   "execution_count": null,
   "metadata": {
    "ExecuteTime": {
     "end_time": "2020-12-09T20:33:51.053762Z",
     "start_time": "2020-12-09T20:33:51.042791Z"
    }
   },
   "outputs": [],
   "source": [
    "# Check NO2 deltas - magnitude\n",
    "no2_deltas_magnitude_s9[:10]"
   ]
  },
  {
   "cell_type": "code",
   "execution_count": null,
   "metadata": {
    "ExecuteTime": {
     "end_time": "2020-12-09T20:33:53.850283Z",
     "start_time": "2020-12-09T20:33:53.840309Z"
    }
   },
   "outputs": [],
   "source": [
    "# Check NO2 deltas - percent\n",
    "no2_deltas_percent_s9[:10]"
   ]
  },
  {
   "cell_type": "code",
   "execution_count": null,
   "metadata": {
    "ExecuteTime": {
     "end_time": "2020-12-09T20:33:56.589960Z",
     "start_time": "2020-12-09T20:33:56.577985Z"
    }
   },
   "outputs": [],
   "source": [
    "# Convert deltas to arrays\n",
    "time_deltas_s9_arr = stl.format_time_delta(time_deltas_s9)\n",
    "no2_deltas_magnitude_s9_arr = stl.format_no2_delta(no2_deltas_magnitude_s9)\n",
    "no2_deltas_percent_s9_arr = stl.format_no2_delta(no2_deltas_percent_s9)"
   ]
  },
  {
   "cell_type": "code",
   "execution_count": null,
   "metadata": {
    "ExecuteTime": {
     "end_time": "2020-12-09T20:33:59.458277Z",
     "start_time": "2020-12-09T20:33:59.448313Z"
    }
   },
   "outputs": [],
   "source": [
    "# Check time delta array\n",
    "time_deltas_s9_arr[:10]"
   ]
  },
  {
   "cell_type": "code",
   "execution_count": null,
   "metadata": {
    "ExecuteTime": {
     "end_time": "2020-12-09T20:34:02.480192Z",
     "start_time": "2020-12-09T20:34:02.469224Z"
    }
   },
   "outputs": [],
   "source": [
    "# Check NO2 delta array - magnitude\n",
    "no2_deltas_magnitude_s9_arr[:10]"
   ]
  },
  {
   "cell_type": "code",
   "execution_count": null,
   "metadata": {
    "ExecuteTime": {
     "end_time": "2020-12-09T20:34:05.700590Z",
     "start_time": "2020-12-09T20:34:05.689608Z"
    }
   },
   "outputs": [],
   "source": [
    "# NO2 delta array - percent\n",
    "no2_deltas_percent_s9_arr[:10]"
   ]
  },
  {
   "cell_type": "markdown",
   "metadata": {},
   "source": [
    "### Southern Coast - High"
   ]
  },
  {
   "cell_type": "markdown",
   "metadata": {},
   "source": [
    "#### Grid N-17"
   ]
  },
  {
   "cell_type": "code",
   "execution_count": null,
   "metadata": {
    "ExecuteTime": {
     "end_time": "2020-12-09T20:33:45.108670Z",
     "start_time": "2020-12-09T20:32:50.663318Z"
    }
   },
   "outputs": [],
   "source": [
    "# Calculate time and NO2 deltas, grid N-17 - Raw values (not absolute magnitude)\n",
    "(\n",
    "    time_deltas_n17,\n",
    "    no2_deltas_magnitude_n17,\n",
    "    no2_deltas_percent_n17,\n",
    ") = stl.calculate_deltas(\n",
    "    time_series=time_series_df,\n",
    "    grid_id=\"N-17\",\n",
    "    max_difference=30,\n",
    "    return_absolute=False,\n",
    ")"
   ]
  },
  {
   "cell_type": "code",
   "execution_count": null,
   "metadata": {
    "ExecuteTime": {
     "end_time": "2020-12-09T20:33:48.122622Z",
     "start_time": "2020-12-09T20:33:48.111639Z"
    }
   },
   "outputs": [],
   "source": [
    "# Check time deltas\n",
    "time_deltas_n17[:10]"
   ]
  },
  {
   "cell_type": "code",
   "execution_count": null,
   "metadata": {
    "ExecuteTime": {
     "end_time": "2020-12-09T20:33:51.053762Z",
     "start_time": "2020-12-09T20:33:51.042791Z"
    }
   },
   "outputs": [],
   "source": [
    "# Check NO2 deltas - magnitude\n",
    "no2_deltas_magnitude_n17[:10]"
   ]
  },
  {
   "cell_type": "code",
   "execution_count": null,
   "metadata": {
    "ExecuteTime": {
     "end_time": "2020-12-09T20:33:53.850283Z",
     "start_time": "2020-12-09T20:33:53.840309Z"
    }
   },
   "outputs": [],
   "source": [
    "# Check NO2 deltas - percent\n",
    "no2_deltas_percent_n17[:10]"
   ]
  },
  {
   "cell_type": "code",
   "execution_count": null,
   "metadata": {
    "ExecuteTime": {
     "end_time": "2020-12-09T20:33:56.589960Z",
     "start_time": "2020-12-09T20:33:56.577985Z"
    }
   },
   "outputs": [],
   "source": [
    "# Convert deltas to arrays\n",
    "time_deltas_n17_arr = stl.format_time_delta(time_deltas_n17)\n",
    "no2_deltas_magnitude_n17_arr = stl.format_no2_delta(no2_deltas_magnitude_n17)\n",
    "no2_deltas_percent_n17_arr = stl.format_no2_delta(no2_deltas_percent_n17)"
   ]
  },
  {
   "cell_type": "code",
   "execution_count": null,
   "metadata": {
    "ExecuteTime": {
     "end_time": "2020-12-09T20:33:59.458277Z",
     "start_time": "2020-12-09T20:33:59.448313Z"
    }
   },
   "outputs": [],
   "source": [
    "# Check time delta array\n",
    "time_deltas_n17_arr[:10]"
   ]
  },
  {
   "cell_type": "code",
   "execution_count": null,
   "metadata": {
    "ExecuteTime": {
     "end_time": "2020-12-09T20:34:02.480192Z",
     "start_time": "2020-12-09T20:34:02.469224Z"
    }
   },
   "outputs": [],
   "source": [
    "# Check NO2 delta array - magnitude\n",
    "no2_deltas_magnitude_n17_arr[:10]"
   ]
  },
  {
   "cell_type": "code",
   "execution_count": null,
   "metadata": {
    "ExecuteTime": {
     "end_time": "2020-12-09T20:34:05.700590Z",
     "start_time": "2020-12-09T20:34:05.689608Z"
    }
   },
   "outputs": [],
   "source": [
    "# NO2 delta array - percent\n",
    "no2_deltas_percent_n17_arr[:10]"
   ]
  },
  {
   "cell_type": "markdown",
   "metadata": {},
   "source": [
    "Get means and standard deviations for all grid cells over the time series (exclude NaN). Plot std vs mean scatter plot to get a sense of the values."
   ]
  },
  {
   "cell_type": "markdown",
   "metadata": {},
   "source": [
    "### Rural Area in the Center"
   ]
  },
  {
   "cell_type": "markdown",
   "metadata": {},
   "source": [
    "#### Grid N-11"
   ]
  },
  {
   "cell_type": "code",
   "execution_count": null,
   "metadata": {
    "ExecuteTime": {
     "end_time": "2020-12-09T20:33:45.108670Z",
     "start_time": "2020-12-09T20:32:50.663318Z"
    }
   },
   "outputs": [],
   "source": [
    "# Calculate time and NO2 deltas, grid N-11 - Raw values (not absolute magnitude)\n",
    "(\n",
    "    time_deltas_n11,\n",
    "    no2_deltas_magnitude_n11,\n",
    "    no2_deltas_percent_n11,\n",
    ") = stl.calculate_deltas(\n",
    "    time_series=time_series_df,\n",
    "    grid_id=\"N-11\",\n",
    "    max_difference=30,\n",
    "    return_absolute=False,\n",
    ")"
   ]
  },
  {
   "cell_type": "code",
   "execution_count": null,
   "metadata": {
    "ExecuteTime": {
     "end_time": "2020-12-09T20:33:48.122622Z",
     "start_time": "2020-12-09T20:33:48.111639Z"
    }
   },
   "outputs": [],
   "source": [
    "# Check time deltas\n",
    "time_deltas_n11[:10]"
   ]
  },
  {
   "cell_type": "code",
   "execution_count": null,
   "metadata": {
    "ExecuteTime": {
     "end_time": "2020-12-09T20:33:51.053762Z",
     "start_time": "2020-12-09T20:33:51.042791Z"
    }
   },
   "outputs": [],
   "source": [
    "# Check NO2 deltas - magnitude\n",
    "no2_deltas_magnitude_n11[:10]"
   ]
  },
  {
   "cell_type": "code",
   "execution_count": null,
   "metadata": {
    "ExecuteTime": {
     "end_time": "2020-12-09T20:33:53.850283Z",
     "start_time": "2020-12-09T20:33:53.840309Z"
    }
   },
   "outputs": [],
   "source": [
    "# Check NO2 deltas - percent\n",
    "no2_deltas_percent_n11[:10]"
   ]
  },
  {
   "cell_type": "code",
   "execution_count": null,
   "metadata": {
    "ExecuteTime": {
     "end_time": "2020-12-09T20:33:56.589960Z",
     "start_time": "2020-12-09T20:33:56.577985Z"
    }
   },
   "outputs": [],
   "source": [
    "# Convert deltas to arrays\n",
    "time_deltas_n11_arr = stl.format_time_delta(time_deltas_n11)\n",
    "no2_deltas_magnitude_n11_arr = stl.format_no2_delta(no2_deltas_magnitude_n11)\n",
    "no2_deltas_percent_n11_arr = stl.format_no2_delta(no2_deltas_percent_n11)"
   ]
  },
  {
   "cell_type": "code",
   "execution_count": null,
   "metadata": {
    "ExecuteTime": {
     "end_time": "2020-12-09T20:33:59.458277Z",
     "start_time": "2020-12-09T20:33:59.448313Z"
    }
   },
   "outputs": [],
   "source": [
    "# Check time delta array\n",
    "time_deltas_n11_arr[:10]"
   ]
  },
  {
   "cell_type": "code",
   "execution_count": null,
   "metadata": {
    "ExecuteTime": {
     "end_time": "2020-12-09T20:34:02.480192Z",
     "start_time": "2020-12-09T20:34:02.469224Z"
    }
   },
   "outputs": [],
   "source": [
    "# Check NO2 delta array - magnitude\n",
    "no2_deltas_magnitude_n11_arr[:10]"
   ]
  },
  {
   "cell_type": "code",
   "execution_count": null,
   "metadata": {
    "ExecuteTime": {
     "end_time": "2020-12-09T20:34:05.700590Z",
     "start_time": "2020-12-09T20:34:05.689608Z"
    }
   },
   "outputs": [],
   "source": [
    "# NO2 delta array - percent\n",
    "no2_deltas_percent_n11_arr[:10]"
   ]
  },
  {
   "cell_type": "markdown",
   "metadata": {},
   "source": [
    "## Standard Deviation vs. Mean"
   ]
  },
  {
   "cell_type": "markdown",
   "metadata": {},
   "source": [
    "### All Grid Cells"
   ]
  },
  {
   "cell_type": "code",
   "execution_count": null,
   "metadata": {
    "ExecuteTime": {
     "end_time": "2020-12-10T16:37:39.486207Z",
     "start_time": "2020-12-10T16:37:36.284201Z"
    }
   },
   "outputs": [],
   "source": [
    "# Get means and standard deviations for all grid cells\n",
    "means = np.array(\n",
    "    [\n",
    "        stl.extract_grid_statistic(time_series_df, grid_id, \"mean\")\n",
    "        for grid_id in time_series_df.columns\n",
    "    ]\n",
    ")\n",
    "\n",
    "standard_deviations = np.array(\n",
    "    [\n",
    "        stl.extract_grid_statistic(time_series_df, grid_id, \"std\")\n",
    "        for grid_id in time_series_df.columns\n",
    "    ]\n",
    ")"
   ]
  },
  {
   "cell_type": "markdown",
   "metadata": {},
   "source": [
    "### Subset Regions"
   ]
  },
  {
   "cell_type": "markdown",
   "metadata": {},
   "source": [
    "#### Seoul Area"
   ]
  },
  {
   "cell_type": "code",
   "execution_count": null,
   "metadata": {
    "ExecuteTime": {
     "end_time": "2020-12-10T16:37:41.698655Z",
     "start_time": "2020-12-10T16:37:41.673698Z"
    }
   },
   "outputs": [],
   "source": [
    "# Slice dataframes to subset region grid cells\n",
    "subset_1_seoul = time_series_df[\n",
    "    [\n",
    "        \"H-6\",\n",
    "        \"H-7\",\n",
    "        \"I-5\",\n",
    "        \"I-6\",\n",
    "        \"I-7\",\n",
    "        \"J-5\",\n",
    "        \"J-6\",\n",
    "        \"J-7\",\n",
    "        \"J-8\",\n",
    "        \"K-5\",\n",
    "        \"K-6\",\n",
    "        \"K-7\",\n",
    "        \"L-6\",\n",
    "        \"L-7\",\n",
    "    ]\n",
    "]"
   ]
  },
  {
   "cell_type": "code",
   "execution_count": null,
   "metadata": {
    "ExecuteTime": {
     "end_time": "2020-12-10T16:37:43.445718Z",
     "start_time": "2020-12-10T16:37:43.343982Z"
    }
   },
   "outputs": [],
   "source": [
    "# Calculate subset region means and standard deviations\n",
    "means_subset_1 = np.array(\n",
    "    [\n",
    "        stl.extract_grid_statistic(subset_1_seoul, grid_id, \"mean\")\n",
    "        for grid_id in subset_1_seoul.columns\n",
    "    ]\n",
    ")\n",
    "\n",
    "standard_deviations_subset_1 = np.array(\n",
    "    [\n",
    "        stl.extract_grid_statistic(subset_1_seoul, grid_id, \"std\")\n",
    "        for grid_id in subset_1_seoul.columns\n",
    "    ]\n",
    ")"
   ]
  },
  {
   "cell_type": "code",
   "execution_count": null,
   "metadata": {
    "ExecuteTime": {
     "end_time": "2020-12-10T16:37:45.098309Z",
     "start_time": "2020-12-10T16:37:45.088322Z"
    }
   },
   "outputs": [],
   "source": [
    "# Set annotations (optional for plotting)\n",
    "subset_1_seoul_annotations = subset_1_seoul.columns.tolist()"
   ]
  },
  {
   "cell_type": "markdown",
   "metadata": {},
   "source": [
    "#### Southern Coast"
   ]
  },
  {
   "cell_type": "code",
   "execution_count": null,
   "metadata": {
    "ExecuteTime": {
     "end_time": "2020-12-10T16:37:47.527955Z",
     "start_time": "2020-12-10T16:37:47.515988Z"
    }
   },
   "outputs": [],
   "source": [
    "# Slice dataframes to subset region grid cells\n",
    "subset_2_south = time_series_df[\n",
    "    [\"M-16\", \"M-17\", \"N-16\", \"N-17\", \"N-18\", \"O-16\", \"O-17\",]\n",
    "]"
   ]
  },
  {
   "cell_type": "code",
   "execution_count": null,
   "metadata": {
    "ExecuteTime": {
     "end_time": "2020-12-10T16:37:49.250821Z",
     "start_time": "2020-12-10T16:37:49.197962Z"
    }
   },
   "outputs": [],
   "source": [
    "# Calculate subset region means and standard deviations\n",
    "means_subset_2 = np.array(\n",
    "    [\n",
    "        stl.extract_grid_statistic(subset_2_south, grid_id, \"mean\")\n",
    "        for grid_id in subset_2_south.columns\n",
    "    ]\n",
    ")\n",
    "\n",
    "standard_deviations_subset_2 = np.array(\n",
    "    [\n",
    "        stl.extract_grid_statistic(subset_2_south, grid_id, \"std\")\n",
    "        for grid_id in subset_2_south.columns\n",
    "    ]\n",
    ")"
   ]
  },
  {
   "cell_type": "code",
   "execution_count": null,
   "metadata": {
    "ExecuteTime": {
     "end_time": "2020-12-10T16:37:50.808035Z",
     "start_time": "2020-12-10T16:37:50.799079Z"
    }
   },
   "outputs": [],
   "source": [
    "# Set annotations (optional for plotting)\n",
    "subset_2_south_annotations = subset_2_south.columns.tolist()"
   ]
  },
  {
   "cell_type": "markdown",
   "metadata": {},
   "source": [
    "#### Rural Area to the East"
   ]
  },
  {
   "cell_type": "code",
   "execution_count": null,
   "metadata": {
    "ExecuteTime": {
     "end_time": "2020-12-10T16:37:53.789846Z",
     "start_time": "2020-12-10T16:37:53.777248Z"
    }
   },
   "outputs": [],
   "source": [
    "# Slice dataframes to subset region grid cells\n",
    "subset_3_east = time_series_df[\n",
    "    [\"S-8\", \"S-9\", \"T-8\", \"T-9\", \"T-10\", \"U-8\", \"U-9\",]\n",
    "]"
   ]
  },
  {
   "cell_type": "code",
   "execution_count": null,
   "metadata": {
    "ExecuteTime": {
     "end_time": "2020-12-10T16:37:55.693880Z",
     "start_time": "2020-12-10T16:37:55.640000Z"
    }
   },
   "outputs": [],
   "source": [
    "# Calculate subset region means and standard deviations\n",
    "means_subset_3 = np.array(\n",
    "    [\n",
    "        stl.extract_grid_statistic(subset_3_east, grid_id, \"mean\")\n",
    "        for grid_id in subset_3_east.columns\n",
    "    ]\n",
    ")\n",
    "\n",
    "standard_deviations_subset_3 = np.array(\n",
    "    [\n",
    "        stl.extract_grid_statistic(subset_3_east, grid_id, \"std\")\n",
    "        for grid_id in subset_3_east.columns\n",
    "    ]\n",
    ")"
   ]
  },
  {
   "cell_type": "code",
   "execution_count": null,
   "metadata": {
    "ExecuteTime": {
     "end_time": "2020-12-10T16:37:57.370751Z",
     "start_time": "2020-12-10T16:37:57.360775Z"
    }
   },
   "outputs": [],
   "source": [
    "# Set annotations (optional for plotting)\n",
    "subset_3_east_annotations = subset_3_east.columns.tolist()"
   ]
  },
  {
   "cell_type": "markdown",
   "metadata": {},
   "source": [
    "#### Rural Area in the Center"
   ]
  },
  {
   "cell_type": "code",
   "execution_count": null,
   "metadata": {
    "ExecuteTime": {
     "end_time": "2020-12-10T16:37:59.428834Z",
     "start_time": "2020-12-10T16:37:59.416878Z"
    }
   },
   "outputs": [],
   "source": [
    "# Slice dataframes to subset region grid cells\n",
    "subset_4_central = time_series_df[\n",
    "    [\"M-10\", \"M-11\", \"N-10\", \"N-11\", \"N-12\", \"O-10\", \"O-11\",]\n",
    "]"
   ]
  },
  {
   "cell_type": "code",
   "execution_count": null,
   "metadata": {
    "ExecuteTime": {
     "end_time": "2020-12-10T16:38:01.382925Z",
     "start_time": "2020-12-10T16:38:01.321541Z"
    }
   },
   "outputs": [],
   "source": [
    "# Calculate subset region means and standard deviations\n",
    "means_subset_4 = np.array(\n",
    "    [\n",
    "        stl.extract_grid_statistic(subset_4_central, grid_id, \"mean\")\n",
    "        for grid_id in subset_4_central.columns\n",
    "    ]\n",
    ")\n",
    "\n",
    "standard_deviations_subset_4 = np.array(\n",
    "    [\n",
    "        stl.extract_grid_statistic(subset_4_central, grid_id, \"std\")\n",
    "        for grid_id in subset_4_central.columns\n",
    "    ]\n",
    ")"
   ]
  },
  {
   "cell_type": "code",
   "execution_count": null,
   "metadata": {
    "ExecuteTime": {
     "end_time": "2020-12-10T16:38:03.032641Z",
     "start_time": "2020-12-10T16:38:03.023646Z"
    }
   },
   "outputs": [],
   "source": [
    "# Set annotations (optional for plotting)\n",
    "subset_4_central_annotations = subset_4_central.columns.tolist()"
   ]
  },
  {
   "cell_type": "markdown",
   "metadata": {},
   "source": [
    "# Data Post-Processing"
   ]
  },
  {
   "cell_type": "code",
   "execution_count": null,
   "metadata": {},
   "outputs": [],
   "source": []
  },
  {
   "cell_type": "markdown",
   "metadata": {},
   "source": [
    "# Data Visualization"
   ]
  },
  {
   "cell_type": "markdown",
   "metadata": {},
   "source": [
    "## Standard Deviation vs. Mean Plots"
   ]
  },
  {
   "cell_type": "markdown",
   "metadata": {},
   "source": [
    "### All Grid Cells"
   ]
  },
  {
   "cell_type": "code",
   "execution_count": null,
   "metadata": {
    "ExecuteTime": {
     "end_time": "2020-12-10T16:38:11.758108Z",
     "start_time": "2020-12-10T16:38:09.565901Z"
    }
   },
   "outputs": [],
   "source": [
    "# Plot NO2 standard deviation vs mean for all grid cells\n",
    "with plt.style.context(\"dark_background\"):\n",
    "    fig, ax = plt.subplots(figsize=(12, 12))\n",
    "    ax.scatter(\n",
    "        x=means,\n",
    "        y=standard_deviations,\n",
    "        marker=\"o\",\n",
    "        s=25,\n",
    "        color=\"#ff7f00\",\n",
    "        label=\"Grid Cell\",\n",
    "    )\n",
    "\n",
    "    # Configure figure, axes, legend, caption\n",
    "    # Figure\n",
    "    #     plt.xticks(fontsize=20)\n",
    "    #     plt.yticks(fontsize=20)\n",
    "\n",
    "    # Axes\n",
    "    ax.set_title(\n",
    "        \"South Korea NO2, 7/01/2018 - 11/16/2020\\n\"\n",
    "        \"Grid Cell Standard Deviation vs. Mean\",\n",
    "        fontsize=24,\n",
    "    )\n",
    "    ax.set_xlabel(r\"Mean ($\\mathrm{mol \\cdot m^{-2}}$)\", fontsize=20)\n",
    "    ax.set_ylabel(\n",
    "        r\"Standard Deviation ($\\mathrm{mol \\cdot m^{-2}}$)\", fontsize=20\n",
    "    )\n",
    "    ax.set_xlim(0, round(means.max(), 4))\n",
    "    ax.set_ylim(0, round(means.max(), 4))\n",
    "    ax.legend(shadow=True, edgecolor=\"white\", fontsize=16, loc=\"best\")\n",
    "    #     ax.grid(False)\n",
    "\n",
    "    # Caption\n",
    "    fig.text(\n",
    "        0.5,\n",
    "        0.025,\n",
    "        f\"Data Source: European Space Agency\",\n",
    "        ha=\"center\",\n",
    "        fontsize=14,\n",
    "    )\n",
    "\n",
    "stl.save_figure(\n",
    "    output_path=os.path.join(\n",
    "        \"04-graphics-outputs\",\n",
    "        \"statistics\",\n",
    "        \"south-korea\",\n",
    "        \"no2-stddev-vs-mean-all-grid-cells.png\",\n",
    "    )\n",
    ")"
   ]
  },
  {
   "cell_type": "markdown",
   "metadata": {},
   "source": [
    "### Subset Regions"
   ]
  },
  {
   "cell_type": "code",
   "execution_count": null,
   "metadata": {
    "ExecuteTime": {
     "end_time": "2020-12-10T16:38:27.493367Z",
     "start_time": "2020-12-10T16:38:22.560051Z"
    }
   },
   "outputs": [],
   "source": [
    "# Plot NO2 standard deviation vs mean for subset regions\n",
    "with plt.style.context(\"dark_background\"):\n",
    "    # Create plot\n",
    "    fig, ax = plt.subplots(2, 2, figsize=(20, 20))\n",
    "\n",
    "    # Figure\n",
    "    plt.suptitle(\n",
    "        \"South Korea NO2, 7/01/2018 - 11/16/2020\\n\"\n",
    "        \"Subset Regions Standard Deviation vs. Mean\",\n",
    "        size=28,\n",
    "    )\n",
    "    plt.subplots_adjust(wspace=0.25)\n",
    "    plt.subplots_adjust(top=0.90)\n",
    "    #     plt.xticks(fontsize=20)\n",
    "    #     plt.yticks(fontsize=20)\n",
    "\n",
    "    # Configure axes\n",
    "    # Subplot x values, y values, and titles\n",
    "    subplot_means = [\n",
    "        means_subset_1,\n",
    "        means_subset_2,\n",
    "        means_subset_3,\n",
    "        means_subset_4,\n",
    "    ]\n",
    "    subplot_standard_deviations = [\n",
    "        standard_deviations_subset_1,\n",
    "        standard_deviations_subset_2,\n",
    "        standard_deviations_subset_3,\n",
    "        standard_deviations_subset_4,\n",
    "    ]\n",
    "    subplot_titles = [\n",
    "        \"Seoul Area\",\n",
    "        \"Southern Coast\",\n",
    "        \"Rural Area to the East\",\n",
    "        \"Rural Area in the Center\",\n",
    "    ]\n",
    "\n",
    "    for index, axis in enumerate(fig.axes):\n",
    "        # Scatter plot\n",
    "        axis.scatter(\n",
    "            x=subplot_means[index],\n",
    "            y=subplot_standard_deviations[index],\n",
    "            marker=\"o\",\n",
    "            s=25,\n",
    "            color=\"#ff7f00\",\n",
    "            label=\"Grid Cell\",\n",
    "            zorder=2,\n",
    "        )\n",
    "        # Vertical and horizontal lines\n",
    "        axis.axvline(\n",
    "            means.max(),\n",
    "            color=\"#4daf4a\",\n",
    "            label=\"Maximum Grid Cell Mean\",\n",
    "            linewidth=2,\n",
    "            zorder=1,\n",
    "        )\n",
    "        axis.axvline(\n",
    "            means.min(),\n",
    "            color=\"#984ea3\",\n",
    "            label=\"Minimum Grid Cell Mean\",\n",
    "            linewidth=2,\n",
    "            zorder=1,\n",
    "        )\n",
    "        axis.axhline(\n",
    "            standard_deviations.max(),\n",
    "            color=\"#e41a1c\",\n",
    "            label=\"Maximum Grid Cell StdDev\",\n",
    "            linewidth=2,\n",
    "            zorder=1,\n",
    "        )\n",
    "        axis.axhline(\n",
    "            standard_deviations.min(),\n",
    "            color=\"#377eb8\",\n",
    "            label=\"Minimum Grid Cell StdDev\",\n",
    "            linewidth=2,\n",
    "            zorder=1,\n",
    "        )\n",
    "        # Axes settings\n",
    "        axis.set_title(subplot_titles[index], fontsize=24)\n",
    "        axis.set_xlabel(r\"Mean ($\\mathrm{mol \\cdot m^{-2}}$)\", fontsize=20)\n",
    "        axis.set_ylabel(\n",
    "            r\"Standard Deviation ($\\mathrm{mol \\cdot m^{-2}}$)\", fontsize=20\n",
    "        )\n",
    "        axis.set_xlim(0, round(means_subset_1.max(), 4))\n",
    "        axis.set_ylim(0, round(means_subset_1.max(), 4))\n",
    "        # Legend\n",
    "        axis.legend(shadow=True, edgecolor=\"white\", fontsize=16, loc=\"best\")\n",
    "\n",
    "    # Caption\n",
    "    fig.text(\n",
    "        0.5,\n",
    "        0.065,\n",
    "        f\"Data Source: European Space Agency\",\n",
    "        ha=\"center\",\n",
    "        fontsize=14,\n",
    "    )\n",
    "\n",
    "stl.save_figure(\n",
    "    output_path=os.path.join(\n",
    "        \"04-graphics-outputs\",\n",
    "        \"statistics\",\n",
    "        \"south-korea\",\n",
    "        \"no2-stddev-vs-mean-subset-regions.png\",\n",
    "    )\n",
    ")"
   ]
  },
  {
   "cell_type": "markdown",
   "metadata": {},
   "source": [
    "## NO2 Delta Plots"
   ]
  },
  {
   "cell_type": "markdown",
   "metadata": {},
   "source": [
    "**TO DO:** Get means and standard deviations for all grid cells over the time series (exclude NaN). Plot std vs mean scatter plot to get a sense of the values."
   ]
  },
  {
   "cell_type": "markdown",
   "metadata": {},
   "source": [
    "### Seoul Area - High"
   ]
  },
  {
   "cell_type": "markdown",
   "metadata": {},
   "source": [
    "#### Grid J-6"
   ]
  },
  {
   "cell_type": "markdown",
   "metadata": {},
   "source": [
    "Common time differences for J-6 (hours):\n",
    "\n",
    "* 1.7\n",
    "* 22.0\n",
    "* 23.7\n",
    "* 25.4"
   ]
  },
  {
   "cell_type": "code",
   "execution_count": null,
   "metadata": {
    "ExecuteTime": {
     "end_time": "2020-12-09T20:25:41.196915Z",
     "start_time": "2020-12-09T20:25:41.182950Z"
    }
   },
   "outputs": [],
   "source": [
    "# Get unique values for time deltas, rounded to 1 decimal place\n",
    "unique_time_deltas = np.unique(\n",
    "    [round(value, 1) for value in np.unique(time_deltas_i6_arr)]\n",
    ")\n",
    "unique"
   ]
  },
  {
   "cell_type": "code",
   "execution_count": null,
   "metadata": {
    "ExecuteTime": {
     "end_time": "2020-12-09T20:34:10.432915Z",
     "start_time": "2020-12-09T20:34:09.253073Z"
    }
   },
   "outputs": [],
   "source": [
    "# Plot deltas - raw values\n",
    "fig, ax = stl.plot_deltas(\n",
    "    time_delta=time_deltas_j6_arr,\n",
    "    no2_delta_magnitude=no2_deltas_magnitude_j6_arr,\n",
    "    no2_delta_percent=no2_deltas_percent_j6_arr,\n",
    "    grid_id=\"J-6\",\n",
    "    #     y_min_magnitude=-1,\n",
    "    #     y_max_magnitude=1,\n",
    "    #     x_max=5,\n",
    "    #     y_min_percent=0,\n",
    "    #     y_max_percent=200,\n",
    ")"
   ]
  },
  {
   "cell_type": "markdown",
   "metadata": {},
   "source": [
    "#### Grid I-6"
   ]
  },
  {
   "cell_type": "code",
   "execution_count": null,
   "metadata": {
    "ExecuteTime": {
     "end_time": "2020-12-09T20:34:14.026319Z",
     "start_time": "2020-12-09T20:34:13.408955Z"
    }
   },
   "outputs": [],
   "source": [
    "# Plot deltas - raw values\n",
    "fig, ax = stl.plot_deltas(\n",
    "    time_delta=time_deltas_i6_arr,\n",
    "    no2_delta_magnitude=no2_deltas_magnitude_i6_arr,\n",
    "    no2_delta_percent=no2_deltas_percent_i6_arr,\n",
    "    grid_id=\"I-6\",\n",
    "    #     y_min_magnitude=-1,\n",
    "    #     y_max_magnitude=1,\n",
    "    #     x_max=5,\n",
    "    #     y_min_percent=0,\n",
    "    #     y_max_percent=200,\n",
    ")"
   ]
  },
  {
   "cell_type": "markdown",
   "metadata": {},
   "source": [
    "### Rural Area to the East - Low"
   ]
  },
  {
   "cell_type": "markdown",
   "metadata": {},
   "source": [
    "#### Grid S-9"
   ]
  },
  {
   "cell_type": "code",
   "execution_count": null,
   "metadata": {
    "ExecuteTime": {
     "end_time": "2020-12-09T20:34:17.485063Z",
     "start_time": "2020-12-09T20:34:16.757994Z"
    }
   },
   "outputs": [],
   "source": [
    "# Plot deltas - raw values\n",
    "fig, ax = stl.plot_deltas(\n",
    "    time_delta=time_deltas_s9_arr,\n",
    "    no2_delta_magnitude=no2_deltas_magnitude_s9_arr,\n",
    "    no2_delta_percent=no2_deltas_percent_s9_arr,\n",
    "    grid_id=\"S-9\",\n",
    "    #     y_min_magnitude=-1,\n",
    "    #     y_max_magnitude=1,\n",
    "    #     x_max=5,\n",
    "    #     y_min_percent=0,\n",
    "    #     y_max_percent=200,\n",
    ")"
   ]
  },
  {
   "cell_type": "markdown",
   "metadata": {},
   "source": [
    "### Southern Coast - High"
   ]
  },
  {
   "cell_type": "markdown",
   "metadata": {},
   "source": [
    "#### Grid N-17"
   ]
  },
  {
   "cell_type": "code",
   "execution_count": null,
   "metadata": {
    "ExecuteTime": {
     "end_time": "2020-12-09T20:34:20.963743Z",
     "start_time": "2020-12-09T20:34:20.333427Z"
    }
   },
   "outputs": [],
   "source": [
    "# Plot deltas - raw values\n",
    "fig, ax = stl.plot_deltas(\n",
    "    time_delta=time_deltas_n17_arr,\n",
    "    no2_delta_magnitude=no2_deltas_magnitude_n17_arr,\n",
    "    no2_delta_percent=no2_deltas_percent_n17_arr,\n",
    "    grid_id=\"N-17\",\n",
    "    #     y_min_magnitude=-1,\n",
    "    #     y_max_magnitude=1,\n",
    "    #     x_max=5,\n",
    "    #     y_min_percent=0,\n",
    "    #     y_max_percent=200,\n",
    ")"
   ]
  },
  {
   "cell_type": "markdown",
   "metadata": {},
   "source": [
    "### Rural Area in the Center - Medium/Low"
   ]
  },
  {
   "cell_type": "markdown",
   "metadata": {},
   "source": [
    "#### Grid N-11"
   ]
  },
  {
   "cell_type": "code",
   "execution_count": null,
   "metadata": {
    "ExecuteTime": {
     "end_time": "2020-12-09T20:34:24.311822Z",
     "start_time": "2020-12-09T20:34:23.649558Z"
    }
   },
   "outputs": [],
   "source": [
    "# Plot deltas - raw values\n",
    "fig, ax = stl.plot_deltas(\n",
    "    time_delta=time_deltas_n11_arr,\n",
    "    no2_delta_magnitude=no2_deltas_magnitude_n11_arr,\n",
    "    no2_delta_percent=no2_deltas_percent_n11_arr,\n",
    "    grid_id=\"N-11\",\n",
    "    #     y_min_magnitude=-1,\n",
    "    #     y_max_magnitude=1,\n",
    "    #     x_max=5,\n",
    "    #     y_min_percent=0,\n",
    "    #     y_max_percent=200,\n",
    ")"
   ]
  },
  {
   "cell_type": "markdown",
   "metadata": {},
   "source": [
    "## Spline Plots\n",
    "\n",
    "Data points are daily, and at most twice daily. Spline of degree 3 is created from 24 points per day (hourly frequency).\n",
    "\n",
    "The best comparison so far with the available data is to create smoothing splines from July 1, 2018 - October 31, 2019 and July 1, 2020 - October 31, 2020. This includes a two-month plot date buffer on each end so that the plot can show September 1 to August 31 for 2018/2019 and 2019/2020. \n",
    "\n",
    "Because the data starts on July 1, 2018, showing a plot date from July 1 with no previous buffer skews the start of the plot somewhat. Also, showing the plots of the individual years is less helpful at this time for two reasons:\n",
    "\n",
    "* 2018 only has 6 months worth of data (Jul-Dec); and,\n",
    "* The peak NO2 in January gets cut in half with the yearly plot (and there is not yet data for Dec 2020).\n",
    "\n",
    "Plotting within the data constraints (July 1, 2018 start and January peak) makes it so that seasonal plots are more useful than strictly by year."
   ]
  },
  {
   "cell_type": "markdown",
   "metadata": {},
   "source": [
    "###  Seoul Area - High"
   ]
  },
  {
   "cell_type": "markdown",
   "metadata": {},
   "source": [
    "#### Grid J-6"
   ]
  },
  {
   "cell_type": "code",
   "execution_count": null,
   "metadata": {
    "ExecuteTime": {
     "end_time": "2020-12-04T16:14:49.795946Z",
     "start_time": "2020-12-04T16:14:49.787935Z"
    }
   },
   "outputs": [],
   "source": [
    "# Set grid cell (for saving figure)\n",
    "grid_cell = \"J-6\""
   ]
  },
  {
   "cell_type": "code",
   "execution_count": null,
   "metadata": {
    "ExecuteTime": {
     "end_time": "2020-12-04T16:14:53.420341Z",
     "start_time": "2020-12-04T16:14:51.141771Z"
    }
   },
   "outputs": [],
   "source": [
    "# Plot data and spline for 2018-07-01 to 2019-06-30\n",
    "fig, ax, spline = stl.plot_spline(\n",
    "    time_series=time_series_df,\n",
    "    grid_id=\"J-6\",\n",
    "    spline_start=\"2018-07-01\",\n",
    "    spline_end=\"2019-08-31\",\n",
    "    plot_start=\"2018-07-01\",\n",
    "    plot_end=\"2019-06-30\",\n",
    "    add_study_area_max=False,\n",
    "    add_grid_cell_max=True,\n",
    ")\n",
    "\n",
    "# Export figure\n",
    "outpath = os.path.join(\n",
    "    \"04-graphics-outputs\",\n",
    "    \"time-series\",\n",
    "    \"south-korea\",\n",
    "    \"spline\",\n",
    "    grid_cell.lower(),\n",
    "    f\"no2-daily-time-series-spline-jul-2018-jun-2019-grid-{grid_cell.lower().replace('-', '')}.png\",\n",
    ")\n",
    "\n",
    "stl.save_figure(outpath)"
   ]
  },
  {
   "cell_type": "code",
   "execution_count": null,
   "metadata": {
    "ExecuteTime": {
     "end_time": "2020-12-04T16:14:54.806749Z",
     "start_time": "2020-12-04T16:14:54.793770Z"
    }
   },
   "outputs": [],
   "source": [
    "# Get spline coefficients, knots, and residual\n",
    "coefficients, knots, residual = stl.get_spline_details(spline)\n",
    "print(f\"Coefficients: {coefficients}\")\n",
    "print(f\"Knots:        {knots}\")\n",
    "print(f\"Residual:     {residual}\")"
   ]
  },
  {
   "cell_type": "code",
   "execution_count": null,
   "metadata": {
    "ExecuteTime": {
     "end_time": "2020-12-04T16:14:58.055815Z",
     "start_time": "2020-12-04T16:14:56.136890Z"
    }
   },
   "outputs": [],
   "source": [
    "# Plot data and spline for 2019-07-01 to 2020-06-30\n",
    "fig, ax, spline = stl.plot_spline(\n",
    "    time_series=time_series_df,\n",
    "    grid_id=\"J-6\",\n",
    "    spline_start=\"2019-05-01\",\n",
    "    spline_end=\"2020-08-31\",\n",
    "    plot_start=\"2019-07-01\",\n",
    "    plot_end=\"2020-06-30\",\n",
    "    add_study_area_max=False,\n",
    "    add_grid_cell_max=True,\n",
    ")\n",
    "\n",
    "# Export figure\n",
    "outpath = os.path.join(\n",
    "    \"04-graphics-outputs\",\n",
    "    \"time-series\",\n",
    "    \"south-korea\",\n",
    "    \"spline\",\n",
    "    grid_cell.lower(),\n",
    "    f\"no2-daily-time-series-spline-jul-2019-jun-2020-grid-{grid_cell.lower().replace('-', '')}.png\",\n",
    ")\n",
    "\n",
    "stl.save_figure(outpath)"
   ]
  },
  {
   "cell_type": "code",
   "execution_count": null,
   "metadata": {
    "ExecuteTime": {
     "end_time": "2020-12-04T16:15:01.714799Z",
     "start_time": "2020-12-04T16:14:59.414717Z"
    }
   },
   "outputs": [],
   "source": [
    "# Plot data and spline for full time span\n",
    "fig, ax, spline = stl.plot_spline(\n",
    "    time_series=time_series_df,\n",
    "    grid_id=\"J-6\",\n",
    "    spline_start=\"2018-07-01\",\n",
    "    spline_end=\"2020-11-16\",\n",
    "    plot_start=\"2018-07-01\",\n",
    "    plot_end=\"2020-11-16\",\n",
    "    add_study_area_max=False,\n",
    "    add_grid_cell_max=True,\n",
    ")\n",
    "\n",
    "# Export figure\n",
    "outpath = os.path.join(\n",
    "    \"04-graphics-outputs\",\n",
    "    \"time-series\",\n",
    "    \"south-korea\",\n",
    "    \"spline\",\n",
    "    grid_cell.lower(),\n",
    "    f\"no2-daily-time-series-spline-jul-2018-nov-2020-grid-{grid_cell.lower().replace('-', '')}.png\",\n",
    ")\n",
    "\n",
    "stl.save_figure(outpath)"
   ]
  },
  {
   "cell_type": "code",
   "execution_count": null,
   "metadata": {
    "ExecuteTime": {
     "end_time": "2020-12-04T16:15:05.180102Z",
     "start_time": "2020-12-04T16:15:03.206689Z"
    }
   },
   "outputs": [],
   "source": [
    "# Plot data and spline for 2018\n",
    "fig, ax, spline = stl.plot_spline(\n",
    "    time_series=time_series_df,\n",
    "    grid_id=\"J-6\",\n",
    "    spline_start=\"2018-07-01\",\n",
    "    spline_end=\"2019-02-28\",\n",
    "    plot_start=\"2018-07-01\",\n",
    "    plot_end=\"2018-12-31\",\n",
    "    add_study_area_max=False,\n",
    "    add_grid_cell_max=True,\n",
    ")\n",
    "\n",
    "# Export figure\n",
    "outpath = os.path.join(\n",
    "    \"04-graphics-outputs\",\n",
    "    \"time-series\",\n",
    "    \"south-korea\",\n",
    "    \"spline\",\n",
    "    grid_cell.lower(),\n",
    "    f\"no2-daily-time-series-spline-jul-2018-dec-2018-grid-{grid_cell.lower().replace('-', '')}.png\",\n",
    ")\n",
    "\n",
    "rd.save_figure(outpath)"
   ]
  },
  {
   "cell_type": "code",
   "execution_count": null,
   "metadata": {
    "ExecuteTime": {
     "end_time": "2020-12-04T16:15:08.611272Z",
     "start_time": "2020-12-04T16:15:06.635491Z"
    }
   },
   "outputs": [],
   "source": [
    "# Plot data and spline for 2019\n",
    "fig, ax, spline = stl.plot_spline(\n",
    "    time_series=time_series_df,\n",
    "    grid_id=\"J-6\",\n",
    "    spline_start=\"2018-11-01\",\n",
    "    spline_end=\"2020-02-29\",\n",
    "    plot_start=\"2019-01-01\",\n",
    "    plot_end=\"2019-12-31\",\n",
    "    add_study_area_max=False,\n",
    "    add_grid_cell_max=True,\n",
    ")\n",
    "\n",
    "# Export figure\n",
    "outpath = os.path.join(\n",
    "    \"04-graphics-outputs\",\n",
    "    \"time-series\",\n",
    "    \"south-korea\",\n",
    "    \"spline\",\n",
    "    grid_cell.lower(),\n",
    "    f\"no2-daily-time-series-spline-jan-2019-dec-2019-grid-{grid_cell.lower().replace('-', '')}.png\",\n",
    ")\n",
    "\n",
    "stl.save_figure(outpath)"
   ]
  },
  {
   "cell_type": "code",
   "execution_count": null,
   "metadata": {
    "ExecuteTime": {
     "end_time": "2020-12-04T16:15:12.250551Z",
     "start_time": "2020-12-04T16:15:10.106223Z"
    }
   },
   "outputs": [],
   "source": [
    "# Plot data and spline for 2020\n",
    "fig, ax, spline = stl.plot_spline(\n",
    "    time_series=time_series_df,\n",
    "    grid_id=\"J-6\",\n",
    "    spline_start=\"2019-11-01\",\n",
    "    spline_end=\"2020-11-16\",\n",
    "    plot_start=\"2020-01-01\",\n",
    "    plot_end=\"2020-11-16\",\n",
    "    add_study_area_max=False,\n",
    "    add_grid_cell_max=True,\n",
    ")\n",
    "\n",
    "# Export figure\n",
    "outpath = os.path.join(\n",
    "    \"04-graphics-outputs\",\n",
    "    \"time-series\",\n",
    "    \"south-korea\",\n",
    "    \"spline\",\n",
    "    grid_cell.lower(),\n",
    "    f\"no2-daily-time-series-spline-jan-2020-nov-2020-grid-{grid_cell.lower().replace('-', '')}.png\",\n",
    ")\n",
    "\n",
    "stl.save_figure(outpath)"
   ]
  },
  {
   "cell_type": "code",
   "execution_count": null,
   "metadata": {
    "ExecuteTime": {
     "end_time": "2020-12-04T16:15:15.535131Z",
     "start_time": "2020-12-04T16:15:13.620229Z"
    }
   },
   "outputs": [],
   "source": [
    "# Plot data and spline for Sep 2018 - Aug 2019\n",
    "fig, ax, spline = stl.plot_spline(\n",
    "    time_series=time_series_df,\n",
    "    grid_id=\"J-6\",\n",
    "    spline_start=\"2018-07-01\",\n",
    "    spline_end=\"2019-10-31\",\n",
    "    plot_start=\"2018-09-01\",\n",
    "    plot_end=\"2019-08-31\",\n",
    "    add_study_area_max=False,\n",
    "    add_grid_cell_max=True,\n",
    ")\n",
    "\n",
    "# Export figure\n",
    "outpath = os.path.join(\n",
    "    \"04-graphics-outputs\",\n",
    "    \"time-series\",\n",
    "    \"south-korea\",\n",
    "    \"spline\",\n",
    "    grid_cell.lower(),\n",
    "    f\"no2-daily-time-series-spline-sep-2018-aug-2019-grid-{grid_cell.lower().replace('-', '')}.png\",\n",
    ")\n",
    "\n",
    "stl.save_figure(outpath)"
   ]
  },
  {
   "cell_type": "code",
   "execution_count": null,
   "metadata": {
    "ExecuteTime": {
     "end_time": "2020-12-04T16:15:18.855210Z",
     "start_time": "2020-12-04T16:15:16.928087Z"
    },
    "scrolled": false
   },
   "outputs": [],
   "source": [
    "# Plot data and spline for Sep 2019 - Aug 2020\n",
    "fig, ax, spline = stl.plot_spline(\n",
    "    time_series=time_series_df,\n",
    "    grid_id=\"J-6\",\n",
    "    spline_start=\"2019-07-01\",\n",
    "    spline_end=\"2020-10-31\",\n",
    "    plot_start=\"2019-09-01\",\n",
    "    plot_end=\"2020-08-31\",\n",
    "    add_study_area_max=False,\n",
    "    add_grid_cell_max=True,\n",
    ")\n",
    "\n",
    "# Export figure\n",
    "outpath = os.path.join(\n",
    "    \"04-graphics-outputs\",\n",
    "    \"time-series\",\n",
    "    \"south-korea\",\n",
    "    \"spline\",\n",
    "    grid_cell.lower(),\n",
    "    f\"no2-daily-time-series-spline-sep-2019-aug-2020-grid-{grid_cell.lower().replace('-', '')}.png\",\n",
    ")\n",
    "\n",
    "stl.save_figure(outpath)"
   ]
  },
  {
   "cell_type": "markdown",
   "metadata": {},
   "source": [
    "#### Grid I-6"
   ]
  },
  {
   "cell_type": "code",
   "execution_count": null,
   "metadata": {
    "ExecuteTime": {
     "end_time": "2020-12-04T16:15:20.272965Z",
     "start_time": "2020-12-04T16:15:20.264953Z"
    }
   },
   "outputs": [],
   "source": [
    "# Set grid cell (for saving figure)\n",
    "grid_cell = \"I-6\""
   ]
  },
  {
   "cell_type": "code",
   "execution_count": null,
   "metadata": {
    "ExecuteTime": {
     "end_time": "2020-12-04T16:15:23.554785Z",
     "start_time": "2020-12-04T16:15:21.623866Z"
    }
   },
   "outputs": [],
   "source": [
    "# Plot data and spline for 2018-07-01 to 2019-06-30\n",
    "fig, ax, spline = stl.plot_spline(\n",
    "    time_series=time_series_df,\n",
    "    grid_id=\"I-6\",\n",
    "    spline_start=\"2018-07-01\",\n",
    "    spline_end=\"2019-08-31\",\n",
    "    plot_start=\"2018-07-01\",\n",
    "    plot_end=\"2019-06-30\",\n",
    "    add_study_area_max=False,\n",
    "    add_grid_cell_max=True,\n",
    ")\n",
    "\n",
    "# Export figure\n",
    "outpath = os.path.join(\n",
    "    \"04-graphics-outputs\",\n",
    "    \"time-series\",\n",
    "    \"south-korea\",\n",
    "    \"spline\",\n",
    "    grid_cell.lower(),\n",
    "    f\"no2-daily-time-series-spline-jul-2018-jun-2019-grid-{grid_cell.lower().replace('-', '')}.png\",\n",
    ")\n",
    "\n",
    "stl.save_figure(outpath)"
   ]
  },
  {
   "cell_type": "code",
   "execution_count": null,
   "metadata": {
    "ExecuteTime": {
     "end_time": "2020-12-04T16:15:24.975559Z",
     "start_time": "2020-12-04T16:15:24.961593Z"
    }
   },
   "outputs": [],
   "source": [
    "# Get spline coefficients, knots, and residual\n",
    "coefficients, knots, residual = stl.get_spline_details(spline)\n",
    "print(f\"Coefficients: {coefficients}\")\n",
    "print(f\"Knots:        {knots}\")\n",
    "print(f\"Residual:     {residual}\")"
   ]
  },
  {
   "cell_type": "code",
   "execution_count": null,
   "metadata": {
    "ExecuteTime": {
     "end_time": "2020-12-04T16:15:28.332568Z",
     "start_time": "2020-12-04T16:15:26.330826Z"
    }
   },
   "outputs": [],
   "source": [
    "# Plot data and spline for 2019-07-01 to 2020-06-30\n",
    "fig, ax, spline = stl.plot_spline(\n",
    "    time_series=time_series_df,\n",
    "    grid_id=\"I-6\",\n",
    "    spline_start=\"2019-05-01\",\n",
    "    spline_end=\"2020-08-31\",\n",
    "    plot_start=\"2019-07-01\",\n",
    "    plot_end=\"2020-06-30\",\n",
    "    add_study_area_max=False,\n",
    "    add_grid_cell_max=True,\n",
    ")\n",
    "\n",
    "# Export figure\n",
    "outpath = os.path.join(\n",
    "    \"04-graphics-outputs\",\n",
    "    \"time-series\",\n",
    "    \"south-korea\",\n",
    "    \"spline\",\n",
    "    grid_cell.lower(),\n",
    "    f\"no2-daily-time-series-spline-jul-2019-jun-2020-grid-{grid_cell.lower().replace('-', '')}.png\",\n",
    ")\n",
    "\n",
    "stl.save_figure(outpath)"
   ]
  },
  {
   "cell_type": "code",
   "execution_count": null,
   "metadata": {
    "ExecuteTime": {
     "end_time": "2020-12-04T16:15:32.140225Z",
     "start_time": "2020-12-04T16:15:29.788911Z"
    }
   },
   "outputs": [],
   "source": [
    "# Plot data and spline for full time span\n",
    "fig, ax, spline = stl.plot_spline(\n",
    "    time_series=time_series_df,\n",
    "    grid_id=\"I-6\",\n",
    "    spline_start=\"2018-07-01\",\n",
    "    spline_end=\"2020-11-16\",\n",
    "    plot_start=\"2018-07-01\",\n",
    "    plot_end=\"2020-11-16\",\n",
    "    add_study_area_max=False,\n",
    "    add_grid_cell_max=True,\n",
    ")\n",
    "\n",
    "# Export figure\n",
    "outpath = os.path.join(\n",
    "    \"04-graphics-outputs\",\n",
    "    \"time-series\",\n",
    "    \"south-korea\",\n",
    "    \"spline\",\n",
    "    grid_cell.lower(),\n",
    "    f\"no2-daily-time-series-spline-jul-2018-nov-2020-grid-{grid_cell.lower().replace('-', '')}.png\",\n",
    ")\n",
    "\n",
    "stl.save_figure(outpath)"
   ]
  },
  {
   "cell_type": "code",
   "execution_count": null,
   "metadata": {
    "ExecuteTime": {
     "end_time": "2020-12-04T16:15:35.818392Z",
     "start_time": "2020-12-04T16:15:33.742672Z"
    }
   },
   "outputs": [],
   "source": [
    "# Plot data and spline for 2018\n",
    "fig, ax, spline = stl.plot_spline(\n",
    "    time_series=time_series_df,\n",
    "    grid_id=\"I-6\",\n",
    "    spline_start=\"2018-07-01\",\n",
    "    spline_end=\"2019-02-28\",\n",
    "    plot_start=\"2018-07-01\",\n",
    "    plot_end=\"2018-12-31\",\n",
    "    add_study_area_max=False,\n",
    "    add_grid_cell_max=True,\n",
    ")\n",
    "\n",
    "# Export figure\n",
    "outpath = os.path.join(\n",
    "    \"04-graphics-outputs\",\n",
    "    \"time-series\",\n",
    "    \"south-korea\",\n",
    "    \"spline\",\n",
    "    grid_cell.lower(),\n",
    "    f\"no2-daily-time-series-spline-jul-2018-dec-2018-grid-{grid_cell.lower().replace('-', '')}.png\",\n",
    ")\n",
    "\n",
    "stl.save_figure(outpath)"
   ]
  },
  {
   "cell_type": "code",
   "execution_count": null,
   "metadata": {
    "ExecuteTime": {
     "end_time": "2020-12-04T16:15:39.307145Z",
     "start_time": "2020-12-04T16:15:37.363756Z"
    }
   },
   "outputs": [],
   "source": [
    "# Plot data and spline for 2019\n",
    "fig, ax, spline = stl.plot_spline(\n",
    "    time_series=time_series_df,\n",
    "    grid_id=\"I-6\",\n",
    "    spline_start=\"2018-11-01\",\n",
    "    spline_end=\"2020-02-29\",\n",
    "    plot_start=\"2019-01-01\",\n",
    "    plot_end=\"2019-12-31\",\n",
    "    add_study_area_max=False,\n",
    "    add_grid_cell_max=True,\n",
    ")\n",
    "\n",
    "# Export figure\n",
    "outpath = os.path.join(\n",
    "    \"04-graphics-outputs\",\n",
    "    \"time-series\",\n",
    "    \"south-korea\",\n",
    "    \"spline\",\n",
    "    grid_cell.lower(),\n",
    "    f\"no2-daily-time-series-spline-jan-2019-dec-2019-grid-{grid_cell.lower().replace('-', '')}.png\",\n",
    ")\n",
    "\n",
    "stl.save_figure(outpath)"
   ]
  },
  {
   "cell_type": "code",
   "execution_count": null,
   "metadata": {
    "ExecuteTime": {
     "end_time": "2020-12-04T16:15:42.807565Z",
     "start_time": "2020-12-04T16:15:40.660584Z"
    }
   },
   "outputs": [],
   "source": [
    "# Plot data and spline for 2020\n",
    "fig, ax, spline = stl.plot_spline(\n",
    "    time_series=time_series_df,\n",
    "    grid_id=\"I-6\",\n",
    "    spline_start=\"2019-11-01\",\n",
    "    spline_end=\"2020-11-16\",\n",
    "    plot_start=\"2020-01-01\",\n",
    "    plot_end=\"2020-11-16\",\n",
    "    add_study_area_max=False,\n",
    "    add_grid_cell_max=True,\n",
    ")\n",
    "\n",
    "# Export figure\n",
    "outpath = os.path.join(\n",
    "    \"04-graphics-outputs\",\n",
    "    \"time-series\",\n",
    "    \"south-korea\",\n",
    "    \"spline\",\n",
    "    grid_cell.lower(),\n",
    "    f\"no2-daily-time-series-spline-jan-2020-nov-2020-grid-{grid_cell.lower().replace('-', '')}.png\",\n",
    ")\n",
    "\n",
    "stl.save_figure(outpath)"
   ]
  },
  {
   "cell_type": "code",
   "execution_count": null,
   "metadata": {
    "ExecuteTime": {
     "end_time": "2020-12-04T16:15:46.220990Z",
     "start_time": "2020-12-04T16:15:44.204370Z"
    }
   },
   "outputs": [],
   "source": [
    "# Plot data and spline for Sep 2018 - Aug 2019\n",
    "fig, ax, spline = stl.plot_spline(\n",
    "    time_series=time_series_df,\n",
    "    grid_id=\"I-6\",\n",
    "    spline_start=\"2018-07-01\",\n",
    "    spline_end=\"2019-10-31\",\n",
    "    plot_start=\"2018-09-01\",\n",
    "    plot_end=\"2019-08-31\",\n",
    "    add_study_area_max=False,\n",
    "    add_grid_cell_max=True,\n",
    ")\n",
    "\n",
    "# Export figure\n",
    "outpath = os.path.join(\n",
    "    \"04-graphics-outputs\",\n",
    "    \"time-series\",\n",
    "    \"south-korea\",\n",
    "    \"spline\",\n",
    "    grid_cell.lower(),\n",
    "    f\"no2-daily-time-series-spline-sep-2018-aug-2019-grid-{grid_cell.lower().replace('-', '')}.png\",\n",
    ")\n",
    "\n",
    "stl.save_figure(outpath)"
   ]
  },
  {
   "cell_type": "code",
   "execution_count": null,
   "metadata": {
    "ExecuteTime": {
     "end_time": "2020-12-04T16:15:49.529912Z",
     "start_time": "2020-12-04T16:15:47.638568Z"
    },
    "scrolled": false
   },
   "outputs": [],
   "source": [
    "# Plot data and spline for Sep 2019 - Aug 2020\n",
    "fig, ax, spline = stl.plot_spline(\n",
    "    time_series=time_series_df,\n",
    "    grid_id=\"I-6\",\n",
    "    spline_start=\"2019-07-01\",\n",
    "    spline_end=\"2020-10-31\",\n",
    "    plot_start=\"2019-09-01\",\n",
    "    plot_end=\"2020-08-31\",\n",
    "    add_study_area_max=False,\n",
    "    add_grid_cell_max=True,\n",
    ")\n",
    "\n",
    "# Export figure\n",
    "outpath = os.path.join(\n",
    "    \"04-graphics-outputs\",\n",
    "    \"time-series\",\n",
    "    \"south-korea\",\n",
    "    \"spline\",\n",
    "    grid_cell.lower(),\n",
    "    f\"no2-daily-time-series-spline-sep-2019-aug-2020-grid-{grid_cell.lower().replace('-', '')}.png\",\n",
    ")\n",
    "\n",
    "rd.save_figure(outpath)"
   ]
  },
  {
   "cell_type": "markdown",
   "metadata": {},
   "source": [
    "### Rural Area to the East - Low"
   ]
  },
  {
   "cell_type": "markdown",
   "metadata": {},
   "source": [
    "#### Grid S-9"
   ]
  },
  {
   "cell_type": "code",
   "execution_count": null,
   "metadata": {
    "ExecuteTime": {
     "end_time": "2020-12-04T16:15:50.891598Z",
     "start_time": "2020-12-04T16:15:50.884626Z"
    }
   },
   "outputs": [],
   "source": [
    "# Set grid cell (for saving figure)\n",
    "grid_cell = \"S-9\""
   ]
  },
  {
   "cell_type": "code",
   "execution_count": null,
   "metadata": {
    "ExecuteTime": {
     "end_time": "2020-12-04T16:15:54.147638Z",
     "start_time": "2020-12-04T16:15:52.234734Z"
    }
   },
   "outputs": [],
   "source": [
    "# Plot data and spline for 2018-07-01 to 2019-06-30\n",
    "fig, ax, spline = stl.plot_spline(\n",
    "    time_series=time_series_df,\n",
    "    grid_id=\"S-9\",\n",
    "    spline_start=\"2018-07-01\",\n",
    "    spline_end=\"2019-08-31\",\n",
    "    plot_start=\"2018-07-01\",\n",
    "    plot_end=\"2019-06-30\",\n",
    "    add_study_area_max=False,\n",
    "    add_grid_cell_max=True,\n",
    ")\n",
    "\n",
    "# Export figure\n",
    "outpath = os.path.join(\n",
    "    \"04-graphics-outputs\",\n",
    "    \"time-series\",\n",
    "    \"south-korea\",\n",
    "    \"spline\",\n",
    "    grid_cell.lower(),\n",
    "    f\"no2-daily-time-series-spline-jul-2018-jun-2019-grid-{grid_cell.lower().replace('-', '')}.png\",\n",
    ")\n",
    "\n",
    "stl.save_figure(outpath)"
   ]
  },
  {
   "cell_type": "code",
   "execution_count": null,
   "metadata": {
    "ExecuteTime": {
     "end_time": "2020-12-04T16:15:55.627883Z",
     "start_time": "2020-12-04T16:15:55.613918Z"
    }
   },
   "outputs": [],
   "source": [
    "# Get spline coefficients, knots, and residual\n",
    "coefficients, knots, residual = stl.get_spline_details(spline)\n",
    "print(f\"Coefficients: {coefficients}\")\n",
    "print(f\"Knots:        {knots}\")\n",
    "print(f\"Residual:     {residual}\")"
   ]
  },
  {
   "cell_type": "code",
   "execution_count": null,
   "metadata": {
    "ExecuteTime": {
     "end_time": "2020-12-04T16:15:58.868992Z",
     "start_time": "2020-12-04T16:15:56.935209Z"
    }
   },
   "outputs": [],
   "source": [
    "# Plot data and spline for 2019-07-01 to 2020-06-30\n",
    "fig, ax, spline = stl.plot_spline(\n",
    "    time_series=time_series_df,\n",
    "    grid_id=\"S-9\",\n",
    "    spline_start=\"2019-05-01\",\n",
    "    spline_end=\"2020-08-31\",\n",
    "    plot_start=\"2019-07-01\",\n",
    "    plot_end=\"2020-06-30\",\n",
    "    add_study_area_max=False,\n",
    "    add_grid_cell_max=True,\n",
    ")\n",
    "\n",
    "# Export figure\n",
    "outpath = os.path.join(\n",
    "    \"04-graphics-outputs\",\n",
    "    \"time-series\",\n",
    "    \"south-korea\",\n",
    "    \"spline\",\n",
    "    grid_cell.lower(),\n",
    "    f\"no2-daily-time-series-spline-jul-2019-jun-2020-grid-{grid_cell.lower().replace('-', '')}.png\",\n",
    ")\n",
    "\n",
    "stl.save_figure(outpath)"
   ]
  },
  {
   "cell_type": "code",
   "execution_count": null,
   "metadata": {
    "ExecuteTime": {
     "end_time": "2020-12-04T16:16:02.751831Z",
     "start_time": "2020-12-04T16:16:00.568732Z"
    }
   },
   "outputs": [],
   "source": [
    "# Plot data and spline for full time span\n",
    "fig, ax, spline = stl.plot_spline(\n",
    "    time_series=time_series_df,\n",
    "    grid_id=\"S-9\",\n",
    "    spline_start=\"2018-07-01\",\n",
    "    spline_end=\"2020-11-16\",\n",
    "    plot_start=\"2018-07-01\",\n",
    "    plot_end=\"2020-11-16\",\n",
    "    add_study_area_max=False,\n",
    "    add_grid_cell_max=True,\n",
    ")\n",
    "\n",
    "# Export figure\n",
    "outpath = os.path.join(\n",
    "    \"04-graphics-outputs\",\n",
    "    \"time-series\",\n",
    "    \"south-korea\",\n",
    "    \"spline\",\n",
    "    grid_cell.lower(),\n",
    "    f\"no2-daily-time-series-spline-jul-2018-nov-2020-grid-{grid_cell.lower().replace('-', '')}.png\",\n",
    ")\n",
    "\n",
    "stl.save_figure(outpath)"
   ]
  },
  {
   "cell_type": "code",
   "execution_count": null,
   "metadata": {
    "ExecuteTime": {
     "end_time": "2020-12-04T16:16:06.018939Z",
     "start_time": "2020-12-04T16:16:04.134724Z"
    }
   },
   "outputs": [],
   "source": [
    "# Plot data and spline for 2018\n",
    "fig, ax, spline = stl.plot_spline(\n",
    "    time_series=time_series_df,\n",
    "    grid_id=\"S-9\",\n",
    "    spline_start=\"2018-07-01\",\n",
    "    spline_end=\"2019-02-28\",\n",
    "    plot_start=\"2018-07-01\",\n",
    "    plot_end=\"2018-12-31\",\n",
    "    add_study_area_max=False,\n",
    "    add_grid_cell_max=True,\n",
    ")\n",
    "\n",
    "# Export figure\n",
    "outpath = os.path.join(\n",
    "    \"04-graphics-outputs\",\n",
    "    \"time-series\",\n",
    "    \"south-korea\",\n",
    "    \"spline\",\n",
    "    grid_cell.lower(),\n",
    "    f\"no2-daily-time-series-spline-jul-2018-dec-2018-grid-{grid_cell.lower().replace('-', '')}.png\",\n",
    ")\n",
    "\n",
    "stl.save_figure(outpath)"
   ]
  },
  {
   "cell_type": "code",
   "execution_count": null,
   "metadata": {
    "ExecuteTime": {
     "end_time": "2020-12-04T16:16:09.343045Z",
     "start_time": "2020-12-04T16:16:07.417830Z"
    }
   },
   "outputs": [],
   "source": [
    "# Plot data and spline for 2019\n",
    "fig, ax, spline = stl.plot_spline(\n",
    "    time_series=time_series_df,\n",
    "    grid_id=\"S-9\",\n",
    "    spline_start=\"2018-11-01\",\n",
    "    spline_end=\"2020-02-29\",\n",
    "    plot_start=\"2019-01-01\",\n",
    "    plot_end=\"2019-12-31\",\n",
    "    add_study_area_max=False,\n",
    "    add_grid_cell_max=True,\n",
    ")\n",
    "\n",
    "# Export figure\n",
    "outpath = os.path.join(\n",
    "    \"04-graphics-outputs\",\n",
    "    \"time-series\",\n",
    "    \"south-korea\",\n",
    "    \"spline\",\n",
    "    grid_cell.lower(),\n",
    "    f\"no2-daily-time-series-spline-jan-2019-dec-2019-grid-{grid_cell.lower().replace('-', '')}.png\",\n",
    ")\n",
    "\n",
    "stl.save_figure(outpath)"
   ]
  },
  {
   "cell_type": "code",
   "execution_count": null,
   "metadata": {
    "ExecuteTime": {
     "end_time": "2020-12-04T16:16:12.817151Z",
     "start_time": "2020-12-04T16:16:10.755551Z"
    }
   },
   "outputs": [],
   "source": [
    "# Plot data and spline for 2020\n",
    "fig, ax, spline = stl.plot_spline(\n",
    "    time_series=time_series_df,\n",
    "    grid_id=\"S-9\",\n",
    "    spline_start=\"2019-11-01\",\n",
    "    spline_end=\"2020-11-16\",\n",
    "    plot_start=\"2020-01-01\",\n",
    "    plot_end=\"2020-11-16\",\n",
    "    add_study_area_max=False,\n",
    "    add_grid_cell_max=True,\n",
    ")\n",
    "\n",
    "# Export figure\n",
    "outpath = os.path.join(\n",
    "    \"04-graphics-outputs\",\n",
    "    \"time-series\",\n",
    "    \"south-korea\",\n",
    "    \"spline\",\n",
    "    grid_cell.lower(),\n",
    "    f\"no2-daily-time-series-spline-jan-2020-nov-2020-grid-{grid_cell.lower().replace('-', '')}.png\",\n",
    ")\n",
    "\n",
    "stl.save_figure(outpath)"
   ]
  },
  {
   "cell_type": "code",
   "execution_count": null,
   "metadata": {
    "ExecuteTime": {
     "end_time": "2020-12-04T16:16:16.105817Z",
     "start_time": "2020-12-04T16:16:14.207760Z"
    }
   },
   "outputs": [],
   "source": [
    "# Plot data and spline for Sep 2018 - Aug 2019\n",
    "fig, ax, spline = stl.plot_spline(\n",
    "    time_series=time_series_df,\n",
    "    grid_id=\"S-9\",\n",
    "    spline_start=\"2018-07-01\",\n",
    "    spline_end=\"2019-10-31\",\n",
    "    plot_start=\"2018-09-01\",\n",
    "    plot_end=\"2019-08-31\",\n",
    "    add_study_area_max=False,\n",
    "    add_grid_cell_max=True,\n",
    ")\n",
    "\n",
    "# Export figure\n",
    "outpath = os.path.join(\n",
    "    \"04-graphics-outputs\",\n",
    "    \"time-series\",\n",
    "    \"south-korea\",\n",
    "    \"spline\",\n",
    "    grid_cell.lower(),\n",
    "    f\"no2-daily-time-series-spline-sep-2018-aug-2019-grid-{grid_cell.lower().replace('-', '')}.png\",\n",
    ")\n",
    "\n",
    "stl.save_figure(outpath)"
   ]
  },
  {
   "cell_type": "code",
   "execution_count": null,
   "metadata": {
    "ExecuteTime": {
     "end_time": "2020-12-04T16:16:19.416759Z",
     "start_time": "2020-12-04T16:16:17.509341Z"
    },
    "scrolled": false
   },
   "outputs": [],
   "source": [
    "# Plot data and spline for Sep 2019 - Aug 2020\n",
    "fig, ax, spline = stl.plot_spline(\n",
    "    time_series=time_series_df,\n",
    "    grid_id=\"S-9\",\n",
    "    spline_start=\"2019-07-01\",\n",
    "    spline_end=\"2020-10-31\",\n",
    "    plot_start=\"2019-09-01\",\n",
    "    plot_end=\"2020-08-31\",\n",
    "    add_study_area_max=False,\n",
    "    add_grid_cell_max=True,\n",
    ")\n",
    "\n",
    "# Export figure\n",
    "outpath = os.path.join(\n",
    "    \"04-graphics-outputs\",\n",
    "    \"time-series\",\n",
    "    \"south-korea\",\n",
    "    \"spline\",\n",
    "    grid_cell.lower(),\n",
    "    f\"no2-daily-time-series-spline-sep-2019-aug-2020-grid-{grid_cell.lower().replace('-', '')}.png\",\n",
    ")\n",
    "\n",
    "stl.save_figure(outpath)"
   ]
  },
  {
   "cell_type": "markdown",
   "metadata": {},
   "source": [
    "### Southern Coast - High"
   ]
  },
  {
   "cell_type": "markdown",
   "metadata": {},
   "source": [
    "#### Grid N-17"
   ]
  },
  {
   "cell_type": "code",
   "execution_count": null,
   "metadata": {
    "ExecuteTime": {
     "end_time": "2020-12-04T16:16:20.830773Z",
     "start_time": "2020-12-04T16:16:20.821785Z"
    }
   },
   "outputs": [],
   "source": [
    "# Set grid cell (for saving figure)\n",
    "grid_cell = \"N-17\""
   ]
  },
  {
   "cell_type": "code",
   "execution_count": null,
   "metadata": {
    "ExecuteTime": {
     "end_time": "2020-12-04T16:16:24.161142Z",
     "start_time": "2020-12-04T16:16:22.246782Z"
    }
   },
   "outputs": [],
   "source": [
    "# Plot data and spline for 2018-07-01 to 2019-06-30\n",
    "fig, ax, spline = stl.plot_spline(\n",
    "    time_series=time_series_df,\n",
    "    grid_id=\"N-17\",\n",
    "    spline_start=\"2018-07-01\",\n",
    "    spline_end=\"2019-08-31\",\n",
    "    plot_start=\"2018-07-01\",\n",
    "    plot_end=\"2019-06-30\",\n",
    "    add_study_area_max=False,\n",
    "    add_grid_cell_max=True,\n",
    ")\n",
    "\n",
    "# Export figure\n",
    "outpath = os.path.join(\n",
    "    \"04-graphics-outputs\",\n",
    "    \"time-series\",\n",
    "    \"south-korea\",\n",
    "    \"spline\",\n",
    "    grid_cell.lower(),\n",
    "    f\"no2-daily-time-series-spline-jul-2018-jun-2019-grid-{grid_cell.lower().replace('-', '')}.png\",\n",
    ")\n",
    "\n",
    "stl.save_figure(outpath)"
   ]
  },
  {
   "cell_type": "code",
   "execution_count": null,
   "metadata": {
    "ExecuteTime": {
     "end_time": "2020-12-04T16:16:25.754398Z",
     "start_time": "2020-12-04T16:16:25.740435Z"
    }
   },
   "outputs": [],
   "source": [
    "# Get spline coefficients, knots, and residual\n",
    "coefficients, knots, residual = stl.get_spline_details(spline)\n",
    "print(f\"Coefficients: {coefficients}\")\n",
    "print(f\"Knots:        {knots}\")\n",
    "print(f\"Residual:     {residual}\")"
   ]
  },
  {
   "cell_type": "code",
   "execution_count": null,
   "metadata": {
    "ExecuteTime": {
     "end_time": "2020-12-04T16:16:29.124133Z",
     "start_time": "2020-12-04T16:16:27.220747Z"
    }
   },
   "outputs": [],
   "source": [
    "# Plot data and spline for 2019-07-01 to 2020-06-30\n",
    "fig, ax, spline = stl.plot_spline(\n",
    "    time_series=time_series_df,\n",
    "    grid_id=\"N-17\",\n",
    "    spline_start=\"2019-05-01\",\n",
    "    spline_end=\"2020-08-31\",\n",
    "    plot_start=\"2019-07-01\",\n",
    "    plot_end=\"2020-06-30\",\n",
    "    add_study_area_max=False,\n",
    "    add_grid_cell_max=True,\n",
    ")\n",
    "\n",
    "# Export figure\n",
    "outpath = os.path.join(\n",
    "    \"04-graphics-outputs\",\n",
    "    \"time-series\",\n",
    "    \"south-korea\",\n",
    "    \"spline\",\n",
    "    grid_cell.lower(),\n",
    "    f\"no2-daily-time-series-spline-jul-2019-jun-2020-grid-{grid_cell.lower().replace('-', '')}.png\",\n",
    ")\n",
    "\n",
    "stl.save_figure(outpath)"
   ]
  },
  {
   "cell_type": "code",
   "execution_count": null,
   "metadata": {
    "ExecuteTime": {
     "end_time": "2020-12-04T16:16:32.688195Z",
     "start_time": "2020-12-04T16:16:30.518367Z"
    }
   },
   "outputs": [],
   "source": [
    "# Plot data and spline for full time span\n",
    "fig, ax, spline = stl.plot_spline(\n",
    "    time_series=time_series_df,\n",
    "    grid_id=\"N-17\",\n",
    "    spline_start=\"2018-07-01\",\n",
    "    spline_end=\"2020-11-16\",\n",
    "    plot_start=\"2018-07-01\",\n",
    "    plot_end=\"2020-11-16\",\n",
    "    add_study_area_max=False,\n",
    "    add_grid_cell_max=True,\n",
    ")\n",
    "\n",
    "# Export figure\n",
    "outpath = os.path.join(\n",
    "    \"04-graphics-outputs\",\n",
    "    \"time-series\",\n",
    "    \"south-korea\",\n",
    "    \"spline\",\n",
    "    grid_cell.lower(),\n",
    "    f\"no2-daily-time-series-spline-jul-2018-nov-2020-grid-{grid_cell.lower().replace('-', '')}.png\",\n",
    ")\n",
    "\n",
    "stl.save_figure(outpath)"
   ]
  },
  {
   "cell_type": "code",
   "execution_count": null,
   "metadata": {
    "ExecuteTime": {
     "end_time": "2020-12-04T16:16:36.027027Z",
     "start_time": "2020-12-04T16:16:34.031028Z"
    }
   },
   "outputs": [],
   "source": [
    "# Plot data and spline for 2018\n",
    "fig, ax, spline = stl.plot_spline(\n",
    "    time_series=time_series_df,\n",
    "    grid_id=\"N-17\",\n",
    "    spline_start=\"2018-07-01\",\n",
    "    spline_end=\"2019-02-28\",\n",
    "    plot_start=\"2018-07-01\",\n",
    "    plot_end=\"2018-12-31\",\n",
    "    add_study_area_max=False,\n",
    "    add_grid_cell_max=True,\n",
    ")\n",
    "\n",
    "# Export figure\n",
    "outpath = os.path.join(\n",
    "    \"04-graphics-outputs\",\n",
    "    \"time-series\",\n",
    "    \"south-korea\",\n",
    "    \"spline\",\n",
    "    grid_cell.lower(),\n",
    "    f\"no2-daily-time-series-spline-jul-2018-dec-2018-grid-{grid_cell.lower().replace('-', '')}.png\",\n",
    ")\n",
    "\n",
    "stl.save_figure(outpath)"
   ]
  },
  {
   "cell_type": "code",
   "execution_count": null,
   "metadata": {
    "ExecuteTime": {
     "end_time": "2020-12-04T16:16:40.026237Z",
     "start_time": "2020-12-04T16:16:37.617288Z"
    }
   },
   "outputs": [],
   "source": [
    "# Plot data and spline for 2019\n",
    "fig, ax, spline = stl.plot_spline(\n",
    "    time_series=time_series_df,\n",
    "    grid_id=\"N-17\",\n",
    "    spline_start=\"2018-11-01\",\n",
    "    spline_end=\"2020-02-29\",\n",
    "    plot_start=\"2019-01-01\",\n",
    "    plot_end=\"2019-12-31\",\n",
    "    add_study_area_max=False,\n",
    "    add_grid_cell_max=True,\n",
    ")\n",
    "\n",
    "# Export figure\n",
    "outpath = os.path.join(\n",
    "    \"04-graphics-outputs\",\n",
    "    \"time-series\",\n",
    "    \"south-korea\",\n",
    "    \"spline\",\n",
    "    grid_cell.lower(),\n",
    "    f\"no2-daily-time-series-spline-jan-2019-dec-2019-grid-{grid_cell.lower().replace('-', '')}.png\",\n",
    ")\n",
    "\n",
    "stl.save_figure(outpath)"
   ]
  },
  {
   "cell_type": "code",
   "execution_count": null,
   "metadata": {
    "ExecuteTime": {
     "end_time": "2020-12-04T16:16:43.979873Z",
     "start_time": "2020-12-04T16:16:41.633444Z"
    }
   },
   "outputs": [],
   "source": [
    "# Plot data and spline for 2020\n",
    "fig, ax, spline = stl.plot_spline(\n",
    "    time_series=time_series_df,\n",
    "    grid_id=\"N-17\",\n",
    "    spline_start=\"2019-11-01\",\n",
    "    spline_end=\"2020-11-16\",\n",
    "    plot_start=\"2020-01-01\",\n",
    "    plot_end=\"2020-11-16\",\n",
    "    add_study_area_max=False,\n",
    "    add_grid_cell_max=True,\n",
    ")\n",
    "\n",
    "# Export figure\n",
    "outpath = os.path.join(\n",
    "    \"04-graphics-outputs\",\n",
    "    \"time-series\",\n",
    "    \"south-korea\",\n",
    "    \"spline\",\n",
    "    grid_cell.lower(),\n",
    "    f\"no2-daily-time-series-spline-jan-2020-nov-2020-grid-{grid_cell.lower().replace('-', '')}.png\",\n",
    ")\n",
    "\n",
    "stl.save_figure(outpath)"
   ]
  },
  {
   "cell_type": "code",
   "execution_count": null,
   "metadata": {
    "ExecuteTime": {
     "end_time": "2020-12-04T16:16:47.590399Z",
     "start_time": "2020-12-04T16:16:45.540765Z"
    }
   },
   "outputs": [],
   "source": [
    "# Plot data and spline for Sep 2018 - Aug 2019\n",
    "fig, ax, spline = stl.plot_spline(\n",
    "    time_series=time_series_df,\n",
    "    grid_id=\"N-17\",\n",
    "    spline_start=\"2018-07-01\",\n",
    "    spline_end=\"2019-10-31\",\n",
    "    plot_start=\"2018-09-01\",\n",
    "    plot_end=\"2019-08-31\",\n",
    "    add_study_area_max=False,\n",
    "    add_grid_cell_max=True,\n",
    ")\n",
    "\n",
    "# Export figure\n",
    "outpath = os.path.join(\n",
    "    \"04-graphics-outputs\",\n",
    "    \"time-series\",\n",
    "    \"south-korea\",\n",
    "    \"spline\",\n",
    "    grid_cell.lower(),\n",
    "    f\"no2-daily-time-series-spline-sep-2018-aug-2019-grid-{grid_cell.lower().replace('-', '')}.png\",\n",
    ")\n",
    "\n",
    "stl.save_figure(outpath)"
   ]
  },
  {
   "cell_type": "code",
   "execution_count": null,
   "metadata": {
    "ExecuteTime": {
     "end_time": "2020-12-04T16:16:51.084039Z",
     "start_time": "2020-12-04T16:16:49.058239Z"
    },
    "scrolled": false
   },
   "outputs": [],
   "source": [
    "# Plot data and spline for Sep 2019 - Aug 2020\n",
    "fig, ax, spline = stl.plot_spline(\n",
    "    time_series=time_series_df,\n",
    "    grid_id=\"N-17\",\n",
    "    spline_start=\"2019-07-01\",\n",
    "    spline_end=\"2020-10-31\",\n",
    "    plot_start=\"2019-09-01\",\n",
    "    plot_end=\"2020-08-31\",\n",
    "    add_study_area_max=False,\n",
    "    add_grid_cell_max=True,\n",
    ")\n",
    "\n",
    "# Export figure\n",
    "outpath = os.path.join(\n",
    "    \"04-graphics-outputs\",\n",
    "    \"time-series\",\n",
    "    \"south-korea\",\n",
    "    \"spline\",\n",
    "    grid_cell.lower(),\n",
    "    f\"no2-daily-time-series-spline-sep-2019-aug-2020-grid-{grid_cell.lower().replace('-', '')}.png\",\n",
    ")\n",
    "\n",
    "stl.save_figure(outpath)"
   ]
  },
  {
   "cell_type": "markdown",
   "metadata": {},
   "source": [
    "### Rural Area in the Center"
   ]
  },
  {
   "cell_type": "markdown",
   "metadata": {},
   "source": [
    "#### Grid N-11"
   ]
  },
  {
   "cell_type": "code",
   "execution_count": null,
   "metadata": {
    "ExecuteTime": {
     "end_time": "2020-12-04T16:16:52.660540Z",
     "start_time": "2020-12-04T16:16:52.650566Z"
    }
   },
   "outputs": [],
   "source": [
    "# Set grid cell (for saving figure)\n",
    "grid_cell = \"N-11\""
   ]
  },
  {
   "cell_type": "code",
   "execution_count": null,
   "metadata": {
    "ExecuteTime": {
     "end_time": "2020-12-04T16:16:56.140855Z",
     "start_time": "2020-12-04T16:16:54.106217Z"
    }
   },
   "outputs": [],
   "source": [
    "# Plot data and spline for 2018-07-01 to 2019-06-30\n",
    "fig, ax, spline = stl.plot_spline(\n",
    "    time_series=time_series_df,\n",
    "    grid_id=\"N-11\",\n",
    "    spline_start=\"2018-07-01\",\n",
    "    spline_end=\"2019-08-31\",\n",
    "    plot_start=\"2018-07-01\",\n",
    "    plot_end=\"2019-06-30\",\n",
    "    add_study_area_max=False,\n",
    "    add_grid_cell_max=True,\n",
    ")\n",
    "\n",
    "# Export figure\n",
    "outpath = os.path.join(\n",
    "    \"04-graphics-outputs\",\n",
    "    \"time-series\",\n",
    "    \"south-korea\",\n",
    "    \"spline\",\n",
    "    grid_cell.lower(),\n",
    "    f\"no2-daily-time-series-spline-jul-2018-jun-2019-grid-{grid_cell.lower().replace('-', '')}.png\",\n",
    ")\n",
    "\n",
    "stl.save_figure(outpath)"
   ]
  },
  {
   "cell_type": "code",
   "execution_count": null,
   "metadata": {
    "ExecuteTime": {
     "end_time": "2020-12-04T16:16:57.593573Z",
     "start_time": "2020-12-04T16:16:57.579609Z"
    }
   },
   "outputs": [],
   "source": [
    "# Get spline coefficients, knots, and residual\n",
    "coefficients, knots, residual = stl.get_spline_details(spline)\n",
    "print(f\"Coefficients: {coefficients}\")\n",
    "print(f\"Knots:        {knots}\")\n",
    "print(f\"Residual:     {residual}\")"
   ]
  },
  {
   "cell_type": "code",
   "execution_count": null,
   "metadata": {
    "ExecuteTime": {
     "end_time": "2020-12-04T16:17:00.935561Z",
     "start_time": "2020-12-04T16:16:58.990423Z"
    }
   },
   "outputs": [],
   "source": [
    "# Plot data and spline for 2019-07-01 to 2020-06-30\n",
    "fig, ax, spline = stl.plot_spline(\n",
    "    time_series=time_series_df,\n",
    "    grid_id=\"N-11\",\n",
    "    spline_start=\"2019-05-01\",\n",
    "    spline_end=\"2020-08-31\",\n",
    "    plot_start=\"2019-07-01\",\n",
    "    plot_end=\"2020-06-30\",\n",
    "    add_study_area_max=False,\n",
    "    add_grid_cell_max=True,\n",
    ")\n",
    "\n",
    "# Export figure\n",
    "outpath = os.path.join(\n",
    "    \"04-graphics-outputs\",\n",
    "    \"time-series\",\n",
    "    \"south-korea\",\n",
    "    \"spline\",\n",
    "    grid_cell.lower(),\n",
    "    f\"no2-daily-time-series-spline-jul-2019-jun-2020-grid-{grid_cell.lower().replace('-', '')}.png\",\n",
    ")\n",
    "\n",
    "stl.save_figure(outpath)"
   ]
  },
  {
   "cell_type": "code",
   "execution_count": null,
   "metadata": {
    "ExecuteTime": {
     "end_time": "2020-12-04T16:17:04.556696Z",
     "start_time": "2020-12-04T16:17:02.346803Z"
    }
   },
   "outputs": [],
   "source": [
    "# Plot data and spline for full time span\n",
    "fig, ax, spline = stl.plot_spline(\n",
    "    time_series=time_series_df,\n",
    "    grid_id=\"N-11\",\n",
    "    spline_start=\"2018-07-01\",\n",
    "    spline_end=\"2020-11-16\",\n",
    "    plot_start=\"2018-07-01\",\n",
    "    plot_end=\"2020-11-16\",\n",
    "    add_study_area_max=False,\n",
    "    add_grid_cell_max=True,\n",
    ")\n",
    "\n",
    "# Export figure\n",
    "outpath = os.path.join(\n",
    "    \"04-graphics-outputs\",\n",
    "    \"time-series\",\n",
    "    \"south-korea\",\n",
    "    \"spline\",\n",
    "    grid_cell.lower(),\n",
    "    f\"no2-daily-time-series-spline-jul-2018-nov-2020-grid-{grid_cell.lower().replace('-', '')}.png\",\n",
    ")\n",
    "\n",
    "stl.save_figure(outpath)"
   ]
  },
  {
   "cell_type": "code",
   "execution_count": null,
   "metadata": {
    "ExecuteTime": {
     "end_time": "2020-12-04T16:17:07.873319Z",
     "start_time": "2020-12-04T16:17:05.965060Z"
    }
   },
   "outputs": [],
   "source": [
    "# Plot data and spline for 2018\n",
    "fig, ax, spline = stl.plot_spline(\n",
    "    time_series=time_series_df,\n",
    "    grid_id=\"N-11\",\n",
    "    spline_start=\"2018-07-01\",\n",
    "    spline_end=\"2019-02-28\",\n",
    "    plot_start=\"2018-07-01\",\n",
    "    plot_end=\"2018-12-31\",\n",
    "    add_study_area_max=False,\n",
    "    add_grid_cell_max=True,\n",
    ")\n",
    "\n",
    "# Export figure\n",
    "outpath = os.path.join(\n",
    "    \"04-graphics-outputs\",\n",
    "    \"time-series\",\n",
    "    \"south-korea\",\n",
    "    \"spline\",\n",
    "    grid_cell.lower(),\n",
    "    f\"no2-daily-time-series-spline-jul-2018-dec-2018-grid-{grid_cell.lower().replace('-', '')}.png\",\n",
    ")\n",
    "\n",
    "stl.save_figure(outpath)"
   ]
  },
  {
   "cell_type": "code",
   "execution_count": null,
   "metadata": {
    "ExecuteTime": {
     "end_time": "2020-12-04T16:17:11.263568Z",
     "start_time": "2020-12-04T16:17:09.297379Z"
    }
   },
   "outputs": [],
   "source": [
    "# Plot data and spline for 2019\n",
    "fig, ax, spline = stl.plot_spline(\n",
    "    time_series=time_series_df,\n",
    "    grid_id=\"N-11\",\n",
    "    spline_start=\"2018-11-01\",\n",
    "    spline_end=\"2020-02-29\",\n",
    "    plot_start=\"2019-01-01\",\n",
    "    plot_end=\"2019-12-31\",\n",
    "    add_study_area_max=False,\n",
    "    add_grid_cell_max=True,\n",
    ")\n",
    "\n",
    "# Export figure\n",
    "outpath = os.path.join(\n",
    "    \"04-graphics-outputs\",\n",
    "    \"time-series\",\n",
    "    \"south-korea\",\n",
    "    \"spline\",\n",
    "    grid_cell.lower(),\n",
    "    f\"no2-daily-time-series-spline-jan-2019-dec-2019-grid-{grid_cell.lower().replace('-', '')}.png\",\n",
    ")\n",
    "\n",
    "stl.save_figure(outpath)"
   ]
  },
  {
   "cell_type": "code",
   "execution_count": null,
   "metadata": {
    "ExecuteTime": {
     "end_time": "2020-12-04T16:17:14.756254Z",
     "start_time": "2020-12-04T16:17:12.688255Z"
    }
   },
   "outputs": [],
   "source": [
    "# Plot data and spline for 2020\n",
    "fig, ax, spline = stl.plot_spline(\n",
    "    time_series=time_series_df,\n",
    "    grid_id=\"N-11\",\n",
    "    spline_start=\"2019-11-01\",\n",
    "    spline_end=\"2020-11-16\",\n",
    "    plot_start=\"2020-01-01\",\n",
    "    plot_end=\"2020-11-16\",\n",
    "    add_study_area_max=False,\n",
    "    add_grid_cell_max=True,\n",
    ")\n",
    "\n",
    "# Export figure\n",
    "outpath = os.path.join(\n",
    "    \"04-graphics-outputs\",\n",
    "    \"time-series\",\n",
    "    \"south-korea\",\n",
    "    \"spline\",\n",
    "    grid_cell.lower(),\n",
    "    f\"no2-daily-time-series-spline-jan-2020-nov-2020-grid-{grid_cell.lower().replace('-', '')}.png\",\n",
    ")\n",
    "\n",
    "stl.save_figure(outpath)"
   ]
  },
  {
   "cell_type": "code",
   "execution_count": null,
   "metadata": {
    "ExecuteTime": {
     "end_time": "2020-12-04T16:17:18.141461Z",
     "start_time": "2020-12-04T16:17:16.143065Z"
    },
    "scrolled": false
   },
   "outputs": [],
   "source": [
    "# Plot data and spline for Sep 2018 - Aug 2019\n",
    "fig, ax, spline = stl.plot_spline(\n",
    "    time_series=time_series_df,\n",
    "    grid_id=\"N-11\",\n",
    "    spline_start=\"2018-07-01\",\n",
    "    spline_end=\"2019-10-31\",\n",
    "    plot_start=\"2018-09-01\",\n",
    "    plot_end=\"2019-08-31\",\n",
    "    add_study_area_max=False,\n",
    "    add_grid_cell_max=True,\n",
    ")\n",
    "\n",
    "# Export figure\n",
    "outpath = os.path.join(\n",
    "    \"04-graphics-outputs\",\n",
    "    \"time-series\",\n",
    "    \"south-korea\",\n",
    "    \"spline\",\n",
    "    grid_cell.lower(),\n",
    "    f\"no2-daily-time-series-spline-sep-2018-aug-2019-grid-{grid_cell.lower().replace('-', '')}.png\",\n",
    ")\n",
    "\n",
    "rd.save_figure(outpath)"
   ]
  },
  {
   "cell_type": "code",
   "execution_count": null,
   "metadata": {
    "ExecuteTime": {
     "end_time": "2020-12-04T16:17:21.392585Z",
     "start_time": "2020-12-04T16:17:19.501421Z"
    },
    "scrolled": false
   },
   "outputs": [],
   "source": [
    "# Plot data and spline for Sep 2019 - Aug 2020\n",
    "fig, ax, spline = stl.plot_spline(\n",
    "    time_series=time_series_df,\n",
    "    grid_id=\"N-11\",\n",
    "    spline_start=\"2019-07-01\",\n",
    "    spline_end=\"2020-10-31\",\n",
    "    plot_start=\"2019-09-01\",\n",
    "    plot_end=\"2020-08-31\",\n",
    "    add_study_area_max=False,\n",
    "    add_grid_cell_max=True,\n",
    ")\n",
    "\n",
    "# Export figure\n",
    "outpath = os.path.join(\n",
    "    \"04-graphics-outputs\",\n",
    "    \"time-series\",\n",
    "    \"south-korea\",\n",
    "    \"spline\",\n",
    "    grid_cell.lower(),\n",
    "    f\"no2-daily-time-series-spline-sep-2019-aug-2020-grid-{grid_cell.lower().replace('-', '')}.png\",\n",
    ")\n",
    "\n",
    "stl.save_figure(outpath)"
   ]
  },
  {
   "cell_type": "markdown",
   "metadata": {},
   "source": [
    "## Without Study Area Maximum"
   ]
  },
  {
   "cell_type": "markdown",
   "metadata": {},
   "source": [
    "### Seoul Area - High\n",
    "\n",
    "The following grid cells provide an area covering the Seoul area, with a relatively higher NO2 concentration:\n",
    "\n",
    "* H-6\n",
    "* H-7\n",
    "* I-5\n",
    "* I-6\n",
    "* I-7\n",
    "* J-5\n",
    "* J-6\n",
    "* J-7\n",
    "* J-8\n",
    "* K-5\n",
    "* K-6\n",
    "* K-7\n",
    "* L-6\n",
    "* L-7\n",
    "\n",
    "\"Center\" is I-6, J-6, J-7, and K-6."
   ]
  },
  {
   "cell_type": "markdown",
   "metadata": {},
   "source": [
    "### Southern Coast - High\n",
    "\n",
    "The following grid cells cover an area on the Southern coast with a relatively higher NO2 concentration:\n",
    "\n",
    "* M-16\n",
    "* M-17\n",
    "* N-16\n",
    "* N-17\n",
    "* N-18\n",
    "* O-16\n",
    "* O-17\n",
    "\n",
    "\"Center\" is N-17."
   ]
  },
  {
   "cell_type": "markdown",
   "metadata": {},
   "source": [
    "### Rural Area to the East - Low\n",
    "\n",
    "The following grid cells cover a rural area in the East a relatively lower NO2 concentration:\n",
    "\n",
    "* S-8\n",
    "* S-9\n",
    "* T-8\n",
    "* T-9\n",
    "* T-10\n",
    "* U-8\n",
    "* U-9\n",
    "\n",
    "\"Center\" is T-9."
   ]
  },
  {
   "cell_type": "markdown",
   "metadata": {},
   "source": [
    "### Rural Area in the Center - Medium/Low\n",
    "\n",
    "The following grid cells cover a rural area in the Center of the country with a relatively average or lower NO2 concentration:\n",
    "\n",
    "* M-10\n",
    "* M-11\n",
    "* N-10\n",
    "* N-11\n",
    "* N-12\n",
    "* O-10\n",
    "* O-11\n",
    "\n",
    "\"Center\" is N-11."
   ]
  },
  {
   "cell_type": "markdown",
   "metadata": {},
   "source": [
    "## With Study Area Maximum"
   ]
  },
  {
   "cell_type": "markdown",
   "metadata": {},
   "source": [
    "### Seoul Area - High\n",
    "\n",
    "The following grid cells provide an area covering the Seoul area, with a relatively higher NO2 concentration:\n",
    "\n",
    "* H-6\n",
    "* H-7\n",
    "* I-5\n",
    "* I-6\n",
    "* I-7\n",
    "* J-5\n",
    "* J-6\n",
    "* J-7\n",
    "* J-8\n",
    "* K-5\n",
    "* K-6\n",
    "* K-7\n",
    "* L-6\n",
    "* L-7\n",
    "\n",
    "\"Center\" is I-6, J-6, J-7, and K-6."
   ]
  },
  {
   "cell_type": "markdown",
   "metadata": {},
   "source": [
    "### Away from Seoul - Low\n",
    "\n",
    "The following grid cells cover an area away from Seoul with a relatively lower NO2 concentration:\n",
    "\n",
    "* M-13\n",
    "* M-14\n",
    "* N-13\n",
    "* N-14\n",
    "* N-15\n",
    "* O-13\n",
    "* O-14\n",
    "\n",
    "\"Center\" is N-14."
   ]
  },
  {
   "cell_type": "markdown",
   "metadata": {},
   "source": [
    "### Southern Coast - High\n",
    "\n",
    "The following grid cells cover an area on the Southern coast with a relatively higher NO2 concentration:\n",
    "\n",
    "* M-16\n",
    "* M-17\n",
    "* N-16\n",
    "* N-17\n",
    "* N-18\n",
    "* O-16\n",
    "* O-17\n",
    "\n",
    "\"Center\" is N-17."
   ]
  },
  {
   "cell_type": "markdown",
   "metadata": {},
   "source": [
    "### Rural Area to the East - Low\n",
    "\n",
    "The following grid cells cover a rural area in the East a relatively lower NO2 concentration:\n",
    "\n",
    "* S-8\n",
    "* S-9\n",
    "* T-8\n",
    "* T-9\n",
    "* T-10\n",
    "* U-8\n",
    "* U-9\n",
    "\n",
    "\"Center\" is T-9."
   ]
  },
  {
   "cell_type": "markdown",
   "metadata": {},
   "source": [
    "### Rural Area in the Center - Medium/Low\n",
    "\n",
    "The following grid cells cover a rural area in the Center of the country with a relatively average or lower NO2 concentration:\n",
    "\n",
    "* M-10\n",
    "* M-11\n",
    "* N-10\n",
    "* N-11\n",
    "* N-12\n",
    "* O-10\n",
    "* O-11\n",
    "\n",
    "\"Center\" is N-11."
   ]
  },
  {
   "cell_type": "markdown",
   "metadata": {},
   "source": [
    "## Statistics Table"
   ]
  },
  {
   "cell_type": "markdown",
   "metadata": {},
   "source": [
    "Create table showing mean and standard deviation for each cell within the test areas and/or all cells."
   ]
  },
  {
   "cell_type": "markdown",
   "metadata": {},
   "source": [
    "# Data Export"
   ]
  },
  {
   "cell_type": "code",
   "execution_count": null,
   "metadata": {
    "ExecuteTime": {
     "end_time": "2020-11-20T15:18:31.426580Z",
     "start_time": "2020-11-20T15:18:31.403625Z"
    },
    "scrolled": true
   },
   "outputs": [],
   "source": [
    "# Plot and export daily time series for all grid IDs - without study area max\n",
    "export = False\n",
    "if export:\n",
    "    for grid_id in time_series_df.columns:\n",
    "        fig, ax = stl.plot_no2_time_series(\n",
    "            time_series=time_series_df,\n",
    "            grid_id=grid_id,\n",
    "            data_location=\"South Korea\",\n",
    "            data_source=\"European Space Agency\",\n",
    "        )\n",
    "\n",
    "        rd.save_figure(\n",
    "            filepath=os.path.join(\n",
    "                \"04-graphics-outputs\",\n",
    "                \"time-series\",\n",
    "                \"south-korea\",\n",
    "                f\"no2-daily-time-series-jul-2018-aug-2020-grid-{grid_id.lower().replace('-', '')}.png\",\n",
    "            )\n",
    "        )\n",
    "\n",
    "        plt.close()"
   ]
  },
  {
   "cell_type": "code",
   "execution_count": null,
   "metadata": {
    "ExecuteTime": {
     "end_time": "2020-11-20T15:18:31.455510Z",
     "start_time": "2020-11-20T15:18:31.429544Z"
    }
   },
   "outputs": [],
   "source": [
    "# Plot and export daily time series for all grid IDs - with study area max\n",
    "export = False\n",
    "if export:\n",
    "    for grid_id in time_series_df.columns:\n",
    "        fig, ax = stl.plot_no2_time_series(\n",
    "            time_series=time_series_df,\n",
    "            grid_id=grid_id,\n",
    "            data_location=\"South Korea\",\n",
    "            data_source=\"European Space Agency\",\n",
    "            add_study_area_max=True,\n",
    "        )\n",
    "\n",
    "        rd.save_figure(\n",
    "            filepath=os.path.join(\n",
    "                \"04-graphics-outputs\",\n",
    "                \"time-series\",\n",
    "                \"south-korea\",\n",
    "                f\"no2-daily-time-series-jul-2018-aug-2020-with-maximum-grid-{grid_id.lower().replace('-', '')}.png\",\n",
    "            )\n",
    "        )\n",
    "\n",
    "        plt.close()"
   ]
  }
 ],
 "metadata": {
  "hide_input": false,
  "kernelspec": {
   "display_name": "Python 3",
   "language": "python",
   "name": "python3"
  },
  "language_info": {
   "codemirror_mode": {
    "name": "ipython",
    "version": 3
   },
   "file_extension": ".py",
   "mimetype": "text/x-python",
   "name": "python",
   "nbconvert_exporter": "python",
   "pygments_lexer": "ipython3",
   "version": "3.7.6"
  },
  "toc": {
   "base_numbering": 1,
   "nav_menu": {},
   "number_sections": true,
   "sideBar": true,
   "skip_h1_title": false,
   "title_cell": "Table of Contents",
   "title_sidebar": "Contents",
   "toc_cell": false,
   "toc_position": {
    "height": "calc(100% - 180px)",
    "left": "10px",
    "top": "150px",
    "width": "307.2px"
   },
   "toc_section_display": true,
   "toc_window_display": true
  },
  "varInspector": {
   "cols": {
    "lenName": 16,
    "lenType": 16,
    "lenVar": 40
   },
   "kernels_config": {
    "python": {
     "delete_cmd_postfix": "",
     "delete_cmd_prefix": "del ",
     "library": "var_list.py",
     "varRefreshCmd": "print(var_dic_list())"
    },
    "r": {
     "delete_cmd_postfix": ") ",
     "delete_cmd_prefix": "rm(",
     "library": "var_list.r",
     "varRefreshCmd": "cat(var_dic_list()) "
    }
   },
   "types_to_exclude": [
    "module",
    "function",
    "builtin_function_or_method",
    "instance",
    "_Feature"
   ],
   "window_display": false
  }
 },
 "nbformat": 4,
 "nbformat_minor": 4
}
