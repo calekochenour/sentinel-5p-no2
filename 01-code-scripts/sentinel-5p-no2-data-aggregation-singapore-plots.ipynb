{
 "cells": [
  {
   "cell_type": "markdown",
   "metadata": {},
   "source": [
    "# NO2 Data Aggregation - Plots\n",
    "\n",
    "Aggregates NO2 values by administrative boundaries and a regular hexagon grid.\n",
    "\n",
    "To convert from mol/m<sup>2</sup> to molecules/cm<sup>2</sup>, multiply by 6.022140857e+19 (6.022140857 * 10<sup>19</sup>)."
   ]
  },
  {
   "cell_type": "markdown",
   "metadata": {},
   "source": [
    "# Environment Setup"
   ]
  },
  {
   "cell_type": "code",
   "execution_count": null,
   "metadata": {
    "ExecuteTime": {
     "end_time": "2020-11-04T17:59:43.679974Z",
     "start_time": "2020-11-04T17:59:43.508431Z"
    }
   },
   "outputs": [],
   "source": [
    "# Load Notebook formatter\n",
    "%load_ext nb_black\n",
    "# %reload_ext nb_black"
   ]
  },
  {
   "cell_type": "code",
   "execution_count": null,
   "metadata": {
    "ExecuteTime": {
     "end_time": "2020-11-04T17:59:45.980819Z",
     "start_time": "2020-11-04T17:59:43.682965Z"
    }
   },
   "outputs": [],
   "source": [
    "# Import packages\n",
    "import os\n",
    "import glob\n",
    "import matplotlib.pyplot as plt\n",
    "from mpl_toolkits.axes_grid1 import make_axes_locatable\n",
    "import seaborn as sns\n",
    "import pandas as pd\n",
    "import geopandas as gpd\n",
    "import rasterio as rio\n",
    "import rasterstats as rs\n",
    "import radiance as rd\n",
    "import sentinel as stl"
   ]
  },
  {
   "cell_type": "code",
   "execution_count": null,
   "metadata": {
    "ExecuteTime": {
     "end_time": "2020-11-04T17:59:45.999738Z",
     "start_time": "2020-11-04T17:59:45.983780Z"
    }
   },
   "outputs": [],
   "source": [
    "# Set Options\n",
    "# sns.set(font_scale=1.5, style=\"whitegrid\")\n",
    "sns.set(font_scale=1.5)\n",
    "pd.set_option(\"display.max_columns\", None)\n",
    "pd.set_option(\"precision\", 15)"
   ]
  },
  {
   "cell_type": "code",
   "execution_count": null,
   "metadata": {
    "ExecuteTime": {
     "end_time": "2020-11-04T17:59:46.014698Z",
     "start_time": "2020-11-04T17:59:46.002730Z"
    }
   },
   "outputs": [],
   "source": [
    "# Set working directory\n",
    "os.chdir(\"..\")\n",
    "print(f\"Working directory: {os.getcwd()}\")"
   ]
  },
  {
   "cell_type": "markdown",
   "metadata": {},
   "source": [
    "# User-Defined Variables"
   ]
  },
  {
   "cell_type": "code",
   "execution_count": null,
   "metadata": {
    "ExecuteTime": {
     "end_time": "2020-11-04T17:59:46.034644Z",
     "start_time": "2020-11-04T17:59:46.016692Z"
    }
   },
   "outputs": [],
   "source": [
    "# Set paths to Singapore shapefiles at levels 0 and 1, and hexagon grid\n",
    "singapore_level_0_path = os.path.join(\n",
    "    \"02-raw-data\", \"vector\", \"singapore\", \"gadm36_singapore.shp\"\n",
    ")\n",
    "\n",
    "singapore_level_1_path = os.path.join(\n",
    "    \"02-raw-data\", \"vector\", \"singapore\", \"gadm36_singapore_level_1.shp\"\n",
    ")\n",
    "\n",
    "singapore_hexagon_grid_path = os.path.join(\n",
    "    \"03-processed-data\",\n",
    "    \"vector\",\n",
    "    \"singapore\",\n",
    "    \"singapore_hexagon_grid_0p01.shp\",\n",
    ")"
   ]
  },
  {
   "cell_type": "code",
   "execution_count": null,
   "metadata": {
    "ExecuteTime": {
     "end_time": "2020-11-04T17:59:46.050601Z",
     "start_time": "2020-11-04T17:59:46.036639Z"
    }
   },
   "outputs": [],
   "source": [
    "# Set paths to aggregated data shapfiles\n",
    "aggregate_level_1_path = os.path.join(\n",
    "    \"03-processed-data\",\n",
    "    \"vector\",\n",
    "    \"singapore\",\n",
    "    \"aggregate_level_1_jul_2018_jul_2020.shp\",\n",
    ")\n",
    "\n",
    "aggregate_hexagon_path = os.path.join(\n",
    "    \"03-processed-data\",\n",
    "    \"vector\",\n",
    "    \"singapore\",\n",
    "    \"aggregate_hexagon_grid_jul_2018_jul_2020.shp\",\n",
    ")"
   ]
  },
  {
   "cell_type": "markdown",
   "metadata": {},
   "source": [
    "# Data Acquisition and Preprocessing"
   ]
  },
  {
   "cell_type": "code",
   "execution_count": null,
   "metadata": {
    "ExecuteTime": {
     "end_time": "2020-11-04T17:59:46.165328Z",
     "start_time": "2020-11-04T17:59:46.055589Z"
    }
   },
   "outputs": [],
   "source": [
    "# Get geodataframes with geometry only (for plotting)\n",
    "singapore_level_0_geometry = stl.get_geometry(singapore_level_0_path)\n",
    "singapore_level_1_geometry = stl.get_geometry(singapore_level_1_path)\n",
    "singapore_hexagon_grid_geometry = stl.get_geometry(singapore_hexagon_grid_path)"
   ]
  },
  {
   "cell_type": "code",
   "execution_count": null,
   "metadata": {
    "ExecuteTime": {
     "end_time": "2020-11-04T17:59:46.245117Z",
     "start_time": "2020-11-04T17:59:46.169317Z"
    }
   },
   "outputs": [],
   "source": [
    "# Read aggregated shapefiles into geodataframes\n",
    "singapore_level_1_gdf = gpd.read_file(aggregate_level_1_path)\n",
    "hexagon_grid_gdf = gpd.read_file(aggregate_hexagon_path)"
   ]
  },
  {
   "cell_type": "code",
   "execution_count": null,
   "metadata": {
    "ExecuteTime": {
     "end_time": "2020-11-04T17:59:46.296979Z",
     "start_time": "2020-11-04T17:59:46.248086Z"
    }
   },
   "outputs": [],
   "source": [
    "# Restore original column names (shorted by export to shapefile)\n",
    "level_1_gdf = singapore_level_1_gdf.rename(\n",
    "    columns={\n",
    "        # Magnitude\n",
    "        \"change_jul\": \"change_jul_2018_2019_magnitude\",\n",
    "        \"change_aug\": \"change_aug_2018_2019_magnitude\",\n",
    "        \"change_sep\": \"change_sep_2018_2019_magnitude\",\n",
    "        \"change_oct\": \"change_oct_2018_2019_magnitude\",\n",
    "        \"change_nov\": \"change_nov_2018_2019_magnitude\",\n",
    "        \"change_dec\": \"change_dec_2018_2019_magnitude\",\n",
    "        \"change_jan\": \"change_jan_2019_2020_magnitude\",\n",
    "        \"change_feb\": \"change_feb_2019_2020_magnitude\",\n",
    "        \"change_mar\": \"change_mar_2019_2020_magnitude\",\n",
    "        \"change_apr\": \"change_apr_2019_2020_magnitude\",\n",
    "        \"change_may\": \"change_may_2019_2020_magnitude\",\n",
    "        \"change_jun\": \"change_jun_2019_2020_magnitude\",\n",
    "        \"change_j_1\": \"change_jul_2019_2020_magnitude\",\n",
    "        # Percent\n",
    "        \"change_j_2\": \"change_jul_2018_2019_percent\",\n",
    "        \"change_a_1\": \"change_aug_2018_2019_percent\",\n",
    "        \"change_s_1\": \"change_sep_2018_2019_percent\",\n",
    "        \"change_o_1\": \"change_oct_2018_2019_percent\",\n",
    "        \"change_n_1\": \"change_nov_2018_2019_percent\",\n",
    "        \"change_d_1\": \"change_dec_2018_2019_percent\",\n",
    "        \"change_j_3\": \"change_jan_2019_2020_percent\",\n",
    "        \"change_f_1\": \"change_feb_2019_2020_percent\",\n",
    "        \"change_m_1\": \"change_mar_2019_2020_percent\",\n",
    "        \"change_a_2\": \"change_apr_2019_2020_percent\",\n",
    "        \"change_m_2\": \"change_may_2019_2020_percent\",\n",
    "        \"change_j_4\": \"change_jun_2019_2020_percent\",\n",
    "        \"change_j_5\": \"change_jul_2019_2020_percent\",\n",
    "    }\n",
    ")\n",
    "\n",
    "hexagon_grid_gdf = hexagon_grid_gdf.rename(\n",
    "    columns={\n",
    "        # Magnitude\n",
    "        \"change_jul\": \"change_jul_2018_2019_magnitude\",\n",
    "        \"change_aug\": \"change_aug_2018_2019_magnitude\",\n",
    "        \"change_sep\": \"change_sep_2018_2019_magnitude\",\n",
    "        \"change_oct\": \"change_oct_2018_2019_magnitude\",\n",
    "        \"change_nov\": \"change_nov_2018_2019_magnitude\",\n",
    "        \"change_dec\": \"change_dec_2018_2019_magnitude\",\n",
    "        \"change_jan\": \"change_jan_2019_2020_magnitude\",\n",
    "        \"change_feb\": \"change_feb_2019_2020_magnitude\",\n",
    "        \"change_mar\": \"change_mar_2019_2020_magnitude\",\n",
    "        \"change_apr\": \"change_apr_2019_2020_magnitude\",\n",
    "        \"change_may\": \"change_may_2019_2020_magnitude\",\n",
    "        \"change_jun\": \"change_jun_2019_2020_magnitude\",\n",
    "        \"change_j_1\": \"change_jul_2019_2020_magnitude\",\n",
    "        # Percent\n",
    "        \"change_j_2\": \"change_jul_2018_2019_percent\",\n",
    "        \"change_a_1\": \"change_aug_2018_2019_percent\",\n",
    "        \"change_s_1\": \"change_sep_2018_2019_percent\",\n",
    "        \"change_o_1\": \"change_oct_2018_2019_percent\",\n",
    "        \"change_n_1\": \"change_nov_2018_2019_percent\",\n",
    "        \"change_d_1\": \"change_dec_2018_2019_percent\",\n",
    "        \"change_j_3\": \"change_jan_2019_2020_percent\",\n",
    "        \"change_f_1\": \"change_feb_2019_2020_percent\",\n",
    "        \"change_m_1\": \"change_mar_2019_2020_percent\",\n",
    "        \"change_a_2\": \"change_apr_2019_2020_percent\",\n",
    "        \"change_m_2\": \"change_may_2019_2020_percent\",\n",
    "        \"change_j_4\": \"change_jun_2019_2020_percent\",\n",
    "        \"change_j_5\": \"change_jul_2019_2020_percent\",\n",
    "    }\n",
    ")"
   ]
  },
  {
   "cell_type": "markdown",
   "metadata": {},
   "source": [
    "# Data Processing"
   ]
  },
  {
   "cell_type": "code",
   "execution_count": null,
   "metadata": {},
   "outputs": [],
   "source": []
  },
  {
   "cell_type": "markdown",
   "metadata": {},
   "source": [
    "# Data Post-Processing"
   ]
  },
  {
   "cell_type": "code",
   "execution_count": null,
   "metadata": {},
   "outputs": [],
   "source": []
  },
  {
   "cell_type": "markdown",
   "metadata": {},
   "source": [
    "# Data Visualization"
   ]
  },
  {
   "cell_type": "markdown",
   "metadata": {},
   "source": [
    "## Level 1 Boundaries"
   ]
  },
  {
   "cell_type": "code",
   "execution_count": null,
   "metadata": {
    "ExecuteTime": {
     "end_time": "2020-11-04T17:59:46.359793Z",
     "start_time": "2020-11-04T17:59:46.298937Z"
    }
   },
   "outputs": [],
   "source": [
    "def plot_aggregate_change(\n",
    "    aggregated_data,\n",
    "    magnitude_change,\n",
    "    percent_change,\n",
    "    vector_boundary,\n",
    "    plot_vector=False,\n",
    "    super_title=\"Nitrogen Dioxide Change\",\n",
    "    data_source=\"European Space Agency\",\n",
    "    figsize=(20, 8),\n",
    "):\n",
    "    \"\"\"Plots the NO2 change aggregated a different levels. \n",
    "    \n",
    "    Parameters\n",
    "    ----------\n",
    "    aggregated_data : geopandas geodataframe\n",
    "        Geodataframe containing the aggregated data.\n",
    "    \n",
    "    magnitude_change : str\n",
    "        Column name for the magnitude change.\n",
    "        \n",
    "    percent_change : str\n",
    "        Column name for the percent change.\n",
    "        \n",
    "    vector_boundary : geopandas geodataframe\n",
    "        Geodataframe containing a vector layer to be overlayed.\n",
    "    \n",
    "    plot_vector : bool, optional\n",
    "        Whether or not to plot the vector layer. Default value is False.\n",
    "    \n",
    "    super_title : str, optional\n",
    "        Main plot title. Default value is 'Nitrogen Dioxide Change'.\n",
    "        \n",
    "    data_source : str, optional\n",
    "        Data source. Default value is 'European Space Agency'\n",
    "    \n",
    "    Returns\n",
    "    -------\n",
    "    tuple\n",
    "\n",
    "        fig : matplotlib.figure.Figure object\n",
    "            The figure object associated with the plot.\n",
    "\n",
    "        ax : matplotlib.axes._subplots.AxesSubplot object\n",
    "            The axes object associated with the plot.\n",
    "    \n",
    "    Example\n",
    "    -------\n",
    "        >>>\n",
    "        >>>\n",
    "        >>>\n",
    "        >>>\n",
    "    \"\"\"\n",
    "    # Determine magnitude plot scale\n",
    "    magnitude_max_absolute = abs(aggregated_data[magnitude_change].max())\n",
    "    magnitude_min_absolute = abs(aggregated_data[magnitude_change].min())\n",
    "    magnitude_vmax = (\n",
    "        magnitude_max_absolute\n",
    "        if magnitude_max_absolute > magnitude_min_absolute\n",
    "        else magnitude_min_absolute\n",
    "    )\n",
    "\n",
    "    # Plot magnitude and percent change\n",
    "    with plt.style.context(\"dark_background\"):\n",
    "        fig, ax = plt.subplots(1, 2, figsize=figsize)\n",
    "        plt.suptitle(super_title, size=24)\n",
    "\n",
    "        # Set legend options\n",
    "        divider_magnitude = make_axes_locatable(ax[0])\n",
    "        divider_percent = make_axes_locatable(ax[1])\n",
    "        cax_magnitude = divider_magnitude.append_axes(\n",
    "            \"right\", size=\"5%\", pad=-0.25\n",
    "        )\n",
    "        cax_percent = divider_percent.append_axes(\n",
    "            \"right\", size=\"5%\", pad=-0.25\n",
    "        )\n",
    "\n",
    "        # Magnitude change\n",
    "        aggregated_data.plot(\n",
    "            column=magnitude_change,\n",
    "            ax=ax[0],\n",
    "            legend=True,\n",
    "            cax=cax_magnitude,\n",
    "            vmax=magnitude_vmax,\n",
    "            vmin=-magnitude_vmax,\n",
    "            cmap=\"RdBu_r\",\n",
    "            linewidth=0.25,\n",
    "            edgecolor=\"gray\",\n",
    "        )\n",
    "\n",
    "        # Plot vector boundary\n",
    "        if plot_vector:\n",
    "            vector_boundary.plot(\n",
    "                ax=ax[0], facecolor=\"None\", edgecolor=\"black\", linewidth=0.5\n",
    "            )\n",
    "\n",
    "        # Configure axes\n",
    "        ax[0].set_title(\"Magnitude Change\")\n",
    "        ax[0].set_xlabel(\"Longitude (degrees)\")\n",
    "        ax[0].set_ylabel(\"Latitude (degrees)\")\n",
    "\n",
    "        # Percent change\n",
    "        aggregated_data.plot(\n",
    "            column=percent_change,\n",
    "            ax=ax[1],\n",
    "            legend=True,\n",
    "            cax=cax_percent,\n",
    "            cmap=\"RdBu_r\",\n",
    "            vmin=-100,\n",
    "            vmax=100,\n",
    "            linewidth=0.25,\n",
    "            edgecolor=\"gray\",\n",
    "        )\n",
    "\n",
    "        # Plot vector boundary\n",
    "        if plot_vector:\n",
    "            vector_boundary.plot(\n",
    "                ax=ax[1], facecolor=\"None\", edgecolor=\"black\", linewidth=0.5,\n",
    "            )\n",
    "\n",
    "        # Configure axes\n",
    "        ax[1].set_title(\"Percent Change\")\n",
    "        ax[1].set_xlabel(\"Longitude (degrees)\")\n",
    "        ax[1].set_ylabel(\"Latitude (degrees)\")\n",
    "\n",
    "        # Add caption\n",
    "        fig.text(\n",
    "            0.5, 0, f\"Data Source: {data_source}\", ha=\"center\", fontsize=16,\n",
    "        )\n",
    "\n",
    "    return fig, ax"
   ]
  },
  {
   "cell_type": "code",
   "execution_count": null,
   "metadata": {
    "ExecuteTime": {
     "end_time": "2020-11-04T17:59:49.358104Z",
     "start_time": "2020-11-04T17:59:46.361787Z"
    },
    "scrolled": false
   },
   "outputs": [],
   "source": [
    "# Plot and export July 2018-2019 change\n",
    "plot_aggregate_change(\n",
    "    aggregated_data=level_1_gdf,\n",
    "    magnitude_change=\"change_jul_2018_2019_magnitude\",\n",
    "    percent_change=\"change_jul_2018_2019_percent\",\n",
    "    vector_boundary=singapore_level_1_geometry,\n",
    "    plot_vector=False,\n",
    "    super_title=\"Singapore Nitrogen Dioxide Change, July 2018 to July 2019\",\n",
    "    data_source=\"European Space Agency\",\n",
    "    figsize=(20, 6.5),\n",
    ")\n",
    "\n",
    "# Export figure\n",
    "outpath = os.path.join(\n",
    "    \"04-graphics-outputs\",\n",
    "    \"spatial-plots\",\n",
    "    \"singapore\",\n",
    "    \"singapore-no2-aggregate-level-1-mean-change-jul-2018-2019.png\",\n",
    ")\n",
    "\n",
    "rd.save_figure(outpath)"
   ]
  },
  {
   "cell_type": "code",
   "execution_count": null,
   "metadata": {
    "ExecuteTime": {
     "end_time": "2020-11-04T17:59:52.308005Z",
     "start_time": "2020-11-04T17:59:49.360097Z"
    }
   },
   "outputs": [],
   "source": [
    "# Plot and export August 2018-2019 change\n",
    "plot_aggregate_change(\n",
    "    aggregated_data=level_1_gdf,\n",
    "    magnitude_change=\"change_aug_2018_2019_magnitude\",\n",
    "    percent_change=\"change_aug_2018_2019_percent\",\n",
    "    vector_boundary=singapore_level_1_geometry,\n",
    "    plot_vector=False,\n",
    "    super_title=\"Singapore Nitrogen Dioxide Change, August 2018 to August 2019\",\n",
    "    data_source=\"European Space Agency\",\n",
    "    figsize=(20, 6.5),\n",
    ")\n",
    "\n",
    "# Export figure\n",
    "outpath = os.path.join(\n",
    "    \"04-graphics-outputs\",\n",
    "    \"spatial-plots\",\n",
    "    \"singapore\",\n",
    "    \"singapore-no2-aggregate-level-1-mean-change-aug-2018-2019.png\",\n",
    ")\n",
    "\n",
    "rd.save_figure(outpath)"
   ]
  },
  {
   "cell_type": "code",
   "execution_count": null,
   "metadata": {
    "ExecuteTime": {
     "end_time": "2020-11-04T17:59:55.554425Z",
     "start_time": "2020-11-04T17:59:52.309999Z"
    }
   },
   "outputs": [],
   "source": [
    "# Plot and export September 2018-2019 change\n",
    "plot_aggregate_change(\n",
    "    aggregated_data=level_1_gdf,\n",
    "    magnitude_change=\"change_sep_2018_2019_magnitude\",\n",
    "    percent_change=\"change_sep_2018_2019_percent\",\n",
    "    vector_boundary=singapore_level_1_geometry,\n",
    "    plot_vector=False,\n",
    "    super_title=\"Singapore Nitrogen Dioxide Change, September 2018 to September 2019\",\n",
    "    data_source=\"European Space Agency\",\n",
    "    figsize=(20, 6.5),\n",
    ")\n",
    "\n",
    "# Export figure\n",
    "outpath = os.path.join(\n",
    "    \"04-graphics-outputs\",\n",
    "    \"spatial-plots\",\n",
    "    \"singapore\",\n",
    "    \"singapore-no2-aggregate-level-1-mean-change-sep-2018-2019.png\",\n",
    ")\n",
    "\n",
    "rd.save_figure(outpath)"
   ]
  },
  {
   "cell_type": "code",
   "execution_count": null,
   "metadata": {
    "ExecuteTime": {
     "end_time": "2020-11-04T17:59:58.601866Z",
     "start_time": "2020-11-04T17:59:55.557409Z"
    }
   },
   "outputs": [],
   "source": [
    "# Plot and export October 2018-2019 change\n",
    "plot_aggregate_change(\n",
    "    aggregated_data=level_1_gdf,\n",
    "    magnitude_change=\"change_oct_2018_2019_magnitude\",\n",
    "    percent_change=\"change_oct_2018_2019_percent\",\n",
    "    vector_boundary=singapore_level_1_geometry,\n",
    "    plot_vector=False,\n",
    "    super_title=\"Singapre Nitrogen Dioxide Change, October 2018 to October 2019\",\n",
    "    data_source=\"European Space Agency\",\n",
    "    figsize=(20, 6.5),\n",
    ")\n",
    "\n",
    "# Export figure\n",
    "outpath = os.path.join(\n",
    "    \"04-graphics-outputs\",\n",
    "    \"spatial-plots\",\n",
    "    \"singapore\",\n",
    "    \"singapore-no2-aggregate-level-1-mean-change-oct-2018-2019.png\",\n",
    ")\n",
    "\n",
    "rd.save_figure(outpath)"
   ]
  },
  {
   "cell_type": "code",
   "execution_count": null,
   "metadata": {
    "ExecuteTime": {
     "end_time": "2020-11-04T18:00:01.731312Z",
     "start_time": "2020-11-04T17:59:58.603858Z"
    }
   },
   "outputs": [],
   "source": [
    "# Plot and export November 2018-2019 change\n",
    "plot_aggregate_change(\n",
    "    aggregated_data=level_1_gdf,\n",
    "    magnitude_change=\"change_nov_2018_2019_magnitude\",\n",
    "    percent_change=\"change_nov_2018_2019_percent\",\n",
    "    vector_boundary=singapore_level_1_geometry,\n",
    "    plot_vector=False,\n",
    "    super_title=\"Singapore Nitrogen Dioxide Change, November 2018 to November 2019\",\n",
    "    data_source=\"European Space Agency\",\n",
    "    figsize=(20, 6.5),\n",
    ")\n",
    "\n",
    "# Export figure\n",
    "outpath = os.path.join(\n",
    "    \"04-graphics-outputs\",\n",
    "    \"spatial-plots\",\n",
    "    \"singapore\",\n",
    "    \"singapore-no2-aggregate-level-1-mean-change-nov-2018-2019.png\",\n",
    ")\n",
    "\n",
    "rd.save_figure(outpath)"
   ]
  },
  {
   "cell_type": "code",
   "execution_count": null,
   "metadata": {
    "ExecuteTime": {
     "end_time": "2020-11-04T18:00:04.701925Z",
     "start_time": "2020-11-04T18:00:01.733287Z"
    }
   },
   "outputs": [],
   "source": [
    "# Plot and export December 2018-2019 change\n",
    "plot_aggregate_change(\n",
    "    aggregated_data=level_1_gdf,\n",
    "    magnitude_change=\"change_dec_2018_2019_magnitude\",\n",
    "    percent_change=\"change_dec_2018_2019_percent\",\n",
    "    vector_boundary=singapore_level_1_geometry,\n",
    "    plot_vector=False,\n",
    "    super_title=\"South Korea Nitrogen Dioxide Change, December 2018 to December 2019\",\n",
    "    data_source=\"European Space Agency\",\n",
    "    figsize=(20, 6.5),\n",
    ")\n",
    "\n",
    "# Export figure\n",
    "outpath = os.path.join(\n",
    "    \"04-graphics-outputs\",\n",
    "    \"spatial-plots\",\n",
    "    \"singapore\",\n",
    "    \"singapore-no2-aggregate-level-1-mean-change-dec-2018-2019.png\",\n",
    ")\n",
    "\n",
    "rd.save_figure(outpath)"
   ]
  },
  {
   "cell_type": "code",
   "execution_count": null,
   "metadata": {
    "ExecuteTime": {
     "end_time": "2020-11-04T18:00:07.536490Z",
     "start_time": "2020-11-04T18:00:04.704916Z"
    }
   },
   "outputs": [],
   "source": [
    "# Plot and export January 2019-2020 change\n",
    "plot_aggregate_change(\n",
    "    aggregated_data=level_1_gdf,\n",
    "    magnitude_change=\"change_jan_2019_2020_magnitude\",\n",
    "    percent_change=\"change_jan_2019_2020_percent\",\n",
    "    vector_boundary=singapore_level_1_geometry,\n",
    "    plot_vector=False,\n",
    "    super_title=\"Singapore Nitrogen Dioxide Change, January 2019 to January 2020\",\n",
    "    data_source=\"European Space Agency\",\n",
    "    figsize=(20, 6.5),\n",
    ")\n",
    "\n",
    "# Export figure\n",
    "outpath = os.path.join(\n",
    "    \"04-graphics-outputs\",\n",
    "    \"spatial-plots\",\n",
    "    \"singapore\",\n",
    "    \"singapore-no2-aggregate-level-1-mean-change-jan-2019-2020.png\",\n",
    ")\n",
    "\n",
    "rd.save_figure(outpath)"
   ]
  },
  {
   "cell_type": "code",
   "execution_count": null,
   "metadata": {
    "ExecuteTime": {
     "end_time": "2020-11-04T18:00:11.092928Z",
     "start_time": "2020-11-04T18:00:07.539483Z"
    }
   },
   "outputs": [],
   "source": [
    "# Plot and export February 2019-2020 change\n",
    "plot_aggregate_change(\n",
    "    aggregated_data=level_1_gdf,\n",
    "    magnitude_change=\"change_feb_2019_2020_magnitude\",\n",
    "    percent_change=\"change_feb_2019_2020_percent\",\n",
    "    vector_boundary=singapore_level_1_geometry,\n",
    "    plot_vector=False,\n",
    "    super_title=\"Singapore Nitrogen Dioxide Change, February 2019 to February 2020\",\n",
    "    data_source=\"European Space Agency\",\n",
    "    figsize=(20, 6.5),\n",
    ")\n",
    "\n",
    "# Export figure\n",
    "outpath = os.path.join(\n",
    "    \"04-graphics-outputs\",\n",
    "    \"spatial-plots\",\n",
    "    \"singapore\",\n",
    "    \"singapore-no2-aggregate-level-1-mean-change-feb-2019-2020.png\",\n",
    ")\n",
    "\n",
    "rd.save_figure(outpath)"
   ]
  },
  {
   "cell_type": "code",
   "execution_count": null,
   "metadata": {
    "ExecuteTime": {
     "end_time": "2020-11-04T18:00:14.115780Z",
     "start_time": "2020-11-04T18:00:11.094923Z"
    }
   },
   "outputs": [],
   "source": [
    "# Plot and export March 2019-2020 change\n",
    "plot_aggregate_change(\n",
    "    aggregated_data=level_1_gdf,\n",
    "    magnitude_change=\"change_mar_2019_2020_magnitude\",\n",
    "    percent_change=\"change_mar_2019_2020_percent\",\n",
    "    vector_boundary=singapore_level_1_geometry,\n",
    "    plot_vector=False,\n",
    "    super_title=\"Singapore Nitrogen Dioxide Change, March 2019 to March 2020\",\n",
    "    data_source=\"European Space Agency\",\n",
    "    figsize=(20, 6.5),\n",
    ")\n",
    "\n",
    "# Export figure\n",
    "outpath = os.path.join(\n",
    "    \"04-graphics-outputs\",\n",
    "    \"spatial-plots\",\n",
    "    \"singapore\",\n",
    "    \"singapore-no2-aggregate-level-1-mean-change-mar-2019-2020.png\",\n",
    ")\n",
    "\n",
    "rd.save_figure(outpath)"
   ]
  },
  {
   "cell_type": "code",
   "execution_count": null,
   "metadata": {
    "ExecuteTime": {
     "end_time": "2020-11-04T18:00:16.882024Z",
     "start_time": "2020-11-04T18:00:14.117776Z"
    }
   },
   "outputs": [],
   "source": [
    "# Plot and export April 2019-2020 change\n",
    "plot_aggregate_change(\n",
    "    aggregated_data=level_1_gdf,\n",
    "    magnitude_change=\"change_apr_2019_2020_magnitude\",\n",
    "    percent_change=\"change_apr_2019_2020_percent\",\n",
    "    vector_boundary=singapore_level_1_geometry,\n",
    "    plot_vector=False,\n",
    "    super_title=\"Singapore Nitrogen Dioxide Change, April 2019 to April 2020\",\n",
    "    data_source=\"European Space Agency\",\n",
    "    figsize=(20, 6.5),\n",
    ")\n",
    "\n",
    "# Export figure\n",
    "outpath = os.path.join(\n",
    "    \"04-graphics-outputs\",\n",
    "    \"spatial-plots\",\n",
    "    \"singapore\",\n",
    "    \"singapore-no2-aggregate-level-1-mean-change-apr-2019-2020.png\",\n",
    ")\n",
    "\n",
    "rd.save_figure(outpath)"
   ]
  },
  {
   "cell_type": "code",
   "execution_count": null,
   "metadata": {
    "ExecuteTime": {
     "end_time": "2020-11-04T18:00:19.684545Z",
     "start_time": "2020-11-04T18:00:16.885001Z"
    }
   },
   "outputs": [],
   "source": [
    "# Plot and export May 2019-2020 change\n",
    "plot_aggregate_change(\n",
    "    aggregated_data=level_1_gdf,\n",
    "    magnitude_change=\"change_may_2019_2020_magnitude\",\n",
    "    percent_change=\"change_may_2019_2020_percent\",\n",
    "    vector_boundary=singapore_level_1_geometry,\n",
    "    plot_vector=False,\n",
    "    super_title=\"Singapore Nitrogen Dioxide Change, May 2019 to May 2020\",\n",
    "    data_source=\"European Space Agency\",\n",
    "    figsize=(20, 6.5),\n",
    ")\n",
    "\n",
    "# Export figure\n",
    "outpath = os.path.join(\n",
    "    \"04-graphics-outputs\",\n",
    "    \"spatial-plots\",\n",
    "    \"singapore\",\n",
    "    \"singapore-no2-aggregate-level-1-mean-change-may-2019-2020.png\",\n",
    ")\n",
    "\n",
    "rd.save_figure(outpath)"
   ]
  },
  {
   "cell_type": "code",
   "execution_count": null,
   "metadata": {
    "ExecuteTime": {
     "end_time": "2020-11-04T18:00:22.568643Z",
     "start_time": "2020-11-04T18:00:19.691494Z"
    }
   },
   "outputs": [],
   "source": [
    "# Plot and export June 2019-2020 change\n",
    "plot_aggregate_change(\n",
    "    aggregated_data=level_1_gdf,\n",
    "    magnitude_change=\"change_jun_2019_2020_magnitude\",\n",
    "    percent_change=\"change_jun_2019_2020_percent\",\n",
    "    vector_boundary=singapore_level_1_geometry,\n",
    "    plot_vector=False,\n",
    "    super_title=\"Singapore Nitrogen Dioxide Change, June 2019 to June 2020\",\n",
    "    data_source=\"European Space Agency\",\n",
    "    figsize=(20, 6.5),\n",
    ")\n",
    "\n",
    "# Export figure\n",
    "outpath = os.path.join(\n",
    "    \"04-graphics-outputs\",\n",
    "    \"spatial-plots\",\n",
    "    \"singapore\",\n",
    "    \"singapore-no2-aggregate-level-1-mean-change-jun-2019-2020.png\",\n",
    ")\n",
    "\n",
    "rd.save_figure(outpath)"
   ]
  },
  {
   "cell_type": "code",
   "execution_count": null,
   "metadata": {
    "ExecuteTime": {
     "end_time": "2020-11-04T18:00:25.472011Z",
     "start_time": "2020-11-04T18:00:22.573636Z"
    }
   },
   "outputs": [],
   "source": [
    "# Plot and export July 2019-2020 change\n",
    "plot_aggregate_change(\n",
    "    aggregated_data=level_1_gdf,\n",
    "    magnitude_change=\"change_jul_2019_2020_magnitude\",\n",
    "    percent_change=\"change_jul_2019_2020_percent\",\n",
    "    vector_boundary=singapore_level_1_geometry,\n",
    "    plot_vector=False,\n",
    "    super_title=\"Singapore Nitrogen Dioxide Change, July 2019 to July 2020\",\n",
    "    data_source=\"European Space Agency\",\n",
    "    figsize=(20, 6.5),\n",
    ")\n",
    "\n",
    "# Export figure\n",
    "outpath = os.path.join(\n",
    "    \"04-graphics-outputs\",\n",
    "    \"spatial-plots\",\n",
    "    \"singapore\",\n",
    "    \"singapore-no2-aggregate-level-1-mean-change-jul-2019-2020.png\",\n",
    ")\n",
    "\n",
    "rd.save_figure(outpath)"
   ]
  },
  {
   "cell_type": "markdown",
   "metadata": {},
   "source": [
    "## Hexagon Grid"
   ]
  },
  {
   "cell_type": "code",
   "execution_count": null,
   "metadata": {
    "ExecuteTime": {
     "end_time": "2020-11-04T18:00:28.575093Z",
     "start_time": "2020-11-04T18:00:25.473970Z"
    },
    "scrolled": false
   },
   "outputs": [],
   "source": [
    "# Plot and export July 2018-2019 change\n",
    "plot_aggregate_change(\n",
    "    aggregated_data=hexagon_grid_gdf,\n",
    "    magnitude_change=\"change_jul_2018_2019_magnitude\",\n",
    "    percent_change=\"change_jul_2018_2019_percent\",\n",
    "    vector_boundary=singapore_level_1_geometry,\n",
    "    plot_vector=True,\n",
    "    super_title=\"Singapore Nitrogen Dioxide Change, July 2018 to July 2019\",\n",
    "    data_source=\"European Space Agency\",\n",
    ")\n",
    "\n",
    "# Export figure\n",
    "outpath = os.path.join(\n",
    "    \"04-graphics-outputs\",\n",
    "    \"spatial-plots\",\n",
    "    \"singapore\",\n",
    "    \"singapore-no2-aggregate-hexagon-grid-mean-change-jul-2018-2019.png\",\n",
    ")\n",
    "\n",
    "rd.save_figure(outpath)"
   ]
  },
  {
   "cell_type": "code",
   "execution_count": null,
   "metadata": {
    "ExecuteTime": {
     "end_time": "2020-11-04T18:00:31.674751Z",
     "start_time": "2020-11-04T18:00:28.577087Z"
    }
   },
   "outputs": [],
   "source": [
    "# Plot and export August 2018-2019 change\n",
    "plot_aggregate_change(\n",
    "    aggregated_data=hexagon_grid_gdf,\n",
    "    magnitude_change=\"change_aug_2018_2019_magnitude\",\n",
    "    percent_change=\"change_aug_2018_2019_percent\",\n",
    "    vector_boundary=singapore_level_1_geometry,\n",
    "    plot_vector=True,\n",
    "    super_title=\"Singapore Nitrogen Dioxide Change, August 2018 to August 2019\",\n",
    "    data_source=\"European Space Agency\",\n",
    ")\n",
    "\n",
    "# Export figure\n",
    "outpath = os.path.join(\n",
    "    \"04-graphics-outputs\",\n",
    "    \"spatial-plots\",\n",
    "    \"singapore\",\n",
    "    \"singapore-no2-aggregate-hexagon-grid-mean-change-aug-2018-2019.png\",\n",
    ")\n",
    "\n",
    "rd.save_figure(outpath)"
   ]
  },
  {
   "cell_type": "code",
   "execution_count": null,
   "metadata": {
    "ExecuteTime": {
     "end_time": "2020-11-04T18:00:34.851782Z",
     "start_time": "2020-11-04T18:00:31.676727Z"
    }
   },
   "outputs": [],
   "source": [
    "# Plot and export September 2018-2019 change\n",
    "plot_aggregate_change(\n",
    "    aggregated_data=hexagon_grid_gdf,\n",
    "    magnitude_change=\"change_sep_2018_2019_magnitude\",\n",
    "    percent_change=\"change_sep_2018_2019_percent\",\n",
    "    vector_boundary=singapore_level_1_geometry,\n",
    "    plot_vector=True,\n",
    "    super_title=\"Singapore Nitrogen Dioxide Change, September 2018 to September 2019\",\n",
    "    data_source=\"European Space Agency\",\n",
    ")\n",
    "\n",
    "# Export figure\n",
    "outpath = os.path.join(\n",
    "    \"04-graphics-outputs\",\n",
    "    \"spatial-plots\",\n",
    "    \"singapore\",\n",
    "    \"singapore-no2-aggregate-hexagon-grid-mean-change-sep-2018-2019.png\",\n",
    ")\n",
    "\n",
    "rd.save_figure(outpath)"
   ]
  },
  {
   "cell_type": "code",
   "execution_count": null,
   "metadata": {
    "ExecuteTime": {
     "end_time": "2020-11-04T18:00:38.048477Z",
     "start_time": "2020-11-04T18:00:34.853778Z"
    }
   },
   "outputs": [],
   "source": [
    "# Plot and export October 2018-2019 change\n",
    "plot_aggregate_change(\n",
    "    aggregated_data=hexagon_grid_gdf,\n",
    "    magnitude_change=\"change_oct_2018_2019_magnitude\",\n",
    "    percent_change=\"change_oct_2018_2019_percent\",\n",
    "    vector_boundary=singapore_level_1_geometry,\n",
    "    plot_vector=True,\n",
    "    super_title=\"Singapore Nitrogen Dioxide Change, October 2018 to October 2019\",\n",
    "    data_source=\"European Space Agency\",\n",
    ")\n",
    "\n",
    "# Export figure\n",
    "outpath = os.path.join(\n",
    "    \"04-graphics-outputs\",\n",
    "    \"spatial-plots\",\n",
    "    \"singapore\",\n",
    "    \"singapore-no2-aggregate-hexagon-grid-mean-change-oct-2018-2019.png\",\n",
    ")\n",
    "\n",
    "rd.save_figure(outpath)"
   ]
  },
  {
   "cell_type": "code",
   "execution_count": null,
   "metadata": {
    "ExecuteTime": {
     "end_time": "2020-11-04T18:00:41.244020Z",
     "start_time": "2020-11-04T18:00:38.051439Z"
    }
   },
   "outputs": [],
   "source": [
    "# Plot and export November 2018-2019 change\n",
    "plot_aggregate_change(\n",
    "    aggregated_data=hexagon_grid_gdf,\n",
    "    magnitude_change=\"change_nov_2018_2019_magnitude\",\n",
    "    percent_change=\"change_nov_2018_2019_percent\",\n",
    "    vector_boundary=singapore_level_1_geometry,\n",
    "    plot_vector=True,\n",
    "    super_title=\"Singapore Nitrogen Dioxide Change, November 2018 to November 2019\",\n",
    "    data_source=\"European Space Agency\",\n",
    ")\n",
    "\n",
    "# Export figure\n",
    "outpath = os.path.join(\n",
    "    \"04-graphics-outputs\",\n",
    "    \"spatial-plots\",\n",
    "    \"singapore\",\n",
    "    \"singapore-no2-aggregate-hexagon-grid-mean-change-nov-2018-2019.png\",\n",
    ")\n",
    "\n",
    "rd.save_figure(outpath)"
   ]
  },
  {
   "cell_type": "code",
   "execution_count": null,
   "metadata": {
    "ExecuteTime": {
     "end_time": "2020-11-04T18:00:44.572922Z",
     "start_time": "2020-11-04T18:00:41.245982Z"
    }
   },
   "outputs": [],
   "source": [
    "# Plot and export December 2018-2019 change\n",
    "plot_aggregate_change(\n",
    "    aggregated_data=hexagon_grid_gdf,\n",
    "    magnitude_change=\"change_dec_2018_2019_magnitude\",\n",
    "    percent_change=\"change_dec_2018_2019_percent\",\n",
    "    vector_boundary=singapore_level_1_geometry,\n",
    "    plot_vector=True,\n",
    "    super_title=\"Singapore Nitrogen Dioxide Change, December 2018 to December 2019\",\n",
    "    data_source=\"European Space Agency\",\n",
    ")\n",
    "\n",
    "# Export figure\n",
    "outpath = os.path.join(\n",
    "    \"04-graphics-outputs\",\n",
    "    \"spatial-plots\",\n",
    "    \"singapore\",\n",
    "    \"singapore-no2-aggregate-hexagon-grid-mean-change-dec-2018-2019.png\",\n",
    ")\n",
    "\n",
    "rd.save_figure(outpath)"
   ]
  },
  {
   "cell_type": "code",
   "execution_count": null,
   "metadata": {
    "ExecuteTime": {
     "end_time": "2020-11-04T18:00:48.333977Z",
     "start_time": "2020-11-04T18:00:44.575902Z"
    }
   },
   "outputs": [],
   "source": [
    "# Plot and export January 2019-2020 change\n",
    "plot_aggregate_change(\n",
    "    aggregated_data=hexagon_grid_gdf,\n",
    "    magnitude_change=\"change_jan_2019_2020_magnitude\",\n",
    "    percent_change=\"change_jan_2019_2020_percent\",\n",
    "    vector_boundary=singapore_level_1_geometry,\n",
    "    plot_vector=True,\n",
    "    super_title=\"Singapore Nitrogen Dioxide Change, January 2019 to January 2020\",\n",
    "    data_source=\"European Space Agency\",\n",
    ")\n",
    "\n",
    "# Export figure\n",
    "outpath = os.path.join(\n",
    "    \"04-graphics-outputs\",\n",
    "    \"spatial-plots\",\n",
    "    \"singapore\",\n",
    "    \"singapore-no2-aggregate-hexagon-grid-mean-change-jan-2019-2020.png\",\n",
    ")\n",
    "\n",
    "rd.save_figure(outpath)"
   ]
  },
  {
   "cell_type": "code",
   "execution_count": null,
   "metadata": {
    "ExecuteTime": {
     "end_time": "2020-11-04T18:00:51.928210Z",
     "start_time": "2020-11-04T18:00:48.335943Z"
    }
   },
   "outputs": [],
   "source": [
    "# Plot and export February 2019-2020 change\n",
    "plot_aggregate_change(\n",
    "    aggregated_data=hexagon_grid_gdf,\n",
    "    magnitude_change=\"change_feb_2019_2020_magnitude\",\n",
    "    percent_change=\"change_feb_2019_2020_percent\",\n",
    "    vector_boundary=singapore_level_1_geometry,\n",
    "    plot_vector=True,\n",
    "    super_title=\"Singapore Nitrogen Dioxide Change, February 2019 to February 2020\",\n",
    "    data_source=\"European Space Agency\",\n",
    ")\n",
    "\n",
    "# Export figure\n",
    "outpath = os.path.join(\n",
    "    \"04-graphics-outputs\",\n",
    "    \"spatial-plots\",\n",
    "    \"singapore\",\n",
    "    \"singapore-no2-aggregate-hexagon-grid-mean-change-feb-2019-2020.png\",\n",
    ")\n",
    "\n",
    "rd.save_figure(outpath)"
   ]
  },
  {
   "cell_type": "code",
   "execution_count": null,
   "metadata": {
    "ExecuteTime": {
     "end_time": "2020-11-04T18:00:55.572114Z",
     "start_time": "2020-11-04T18:00:51.931188Z"
    }
   },
   "outputs": [],
   "source": [
    "# Plot and export March 2019-2020 change\n",
    "plot_aggregate_change(\n",
    "    aggregated_data=hexagon_grid_gdf,\n",
    "    magnitude_change=\"change_mar_2019_2020_magnitude\",\n",
    "    percent_change=\"change_mar_2019_2020_percent\",\n",
    "    vector_boundary=singapore_level_1_geometry,\n",
    "    plot_vector=True,\n",
    "    super_title=\"Singapore Nitrogen Dioxide Change, March 2019 to March 2020\",\n",
    "    data_source=\"European Space Agency\",\n",
    ")\n",
    "\n",
    "# Export figure\n",
    "outpath = os.path.join(\n",
    "    \"04-graphics-outputs\",\n",
    "    \"spatial-plots\",\n",
    "    \"singapore\",\n",
    "    \"singapore-no2-aggregate-hexagon-grid-mean-change-mar-2019-2020.png\",\n",
    ")\n",
    "\n",
    "rd.save_figure(outpath)"
   ]
  },
  {
   "cell_type": "code",
   "execution_count": null,
   "metadata": {
    "ExecuteTime": {
     "end_time": "2020-11-04T18:00:59.312663Z",
     "start_time": "2020-11-04T18:00:55.574108Z"
    }
   },
   "outputs": [],
   "source": [
    "# Plot and export April 2019-2020 change\n",
    "plot_aggregate_change(\n",
    "    aggregated_data=hexagon_grid_gdf,\n",
    "    magnitude_change=\"change_apr_2019_2020_magnitude\",\n",
    "    percent_change=\"change_apr_2019_2020_percent\",\n",
    "    vector_boundary=singapore_level_1_geometry,\n",
    "    plot_vector=True,\n",
    "    super_title=\"Singapore Nitrogen Dioxide Change, April 2019 to April 2020\",\n",
    "    data_source=\"European Space Agency\",\n",
    ")\n",
    "\n",
    "# Export figure\n",
    "outpath = os.path.join(\n",
    "    \"04-graphics-outputs\",\n",
    "    \"spatial-plots\",\n",
    "    \"singapore\",\n",
    "    \"singapore-no2-aggregate-hexagon-grid-mean-change-apr-2019-2020.png\",\n",
    ")\n",
    "\n",
    "rd.save_figure(outpath)"
   ]
  },
  {
   "cell_type": "code",
   "execution_count": null,
   "metadata": {
    "ExecuteTime": {
     "end_time": "2020-11-04T18:01:02.932599Z",
     "start_time": "2020-11-04T18:00:59.316653Z"
    }
   },
   "outputs": [],
   "source": [
    "# Plot and export May 2019-2020 change\n",
    "plot_aggregate_change(\n",
    "    aggregated_data=hexagon_grid_gdf,\n",
    "    magnitude_change=\"change_may_2019_2020_magnitude\",\n",
    "    percent_change=\"change_may_2019_2020_percent\",\n",
    "    vector_boundary=singapore_level_1_geometry,\n",
    "    plot_vector=True,\n",
    "    super_title=\"Singapore Nitrogen Dioxide Change, May 2019 to May 2020\",\n",
    "    data_source=\"European Space Agency\",\n",
    ")\n",
    "\n",
    "# Export figure\n",
    "outpath = os.path.join(\n",
    "    \"04-graphics-outputs\",\n",
    "    \"spatial-plots\",\n",
    "    \"singapore\",\n",
    "    \"singapore-no2-aggregate-hexagon-grid-mean-change-may-2019-2020.png\",\n",
    ")\n",
    "\n",
    "rd.save_figure(outpath)"
   ]
  },
  {
   "cell_type": "code",
   "execution_count": null,
   "metadata": {
    "ExecuteTime": {
     "end_time": "2020-11-04T18:01:06.561731Z",
     "start_time": "2020-11-04T18:01:02.935591Z"
    }
   },
   "outputs": [],
   "source": [
    "# Plot and export June 2019-2020 change\n",
    "plot_aggregate_change(\n",
    "    aggregated_data=hexagon_grid_gdf,\n",
    "    magnitude_change=\"change_jun_2019_2020_magnitude\",\n",
    "    percent_change=\"change_jun_2019_2020_percent\",\n",
    "    vector_boundary=singapore_level_1_geometry,\n",
    "    plot_vector=True,\n",
    "    super_title=\"Singapore Nitrogen Dioxide Change, June 2019 to June 2020\",\n",
    "    data_source=\"European Space Agency\",\n",
    ")\n",
    "\n",
    "# Export figure\n",
    "outpath = os.path.join(\n",
    "    \"04-graphics-outputs\",\n",
    "    \"spatial-plots\",\n",
    "    \"singapore\",\n",
    "    \"singapore-no2-aggregate-hexagon-grid-mean-change-jun-2019-2020.png\",\n",
    ")\n",
    "\n",
    "rd.save_figure(outpath)"
   ]
  },
  {
   "cell_type": "code",
   "execution_count": null,
   "metadata": {
    "ExecuteTime": {
     "end_time": "2020-11-04T18:01:10.176812Z",
     "start_time": "2020-11-04T18:01:06.564725Z"
    }
   },
   "outputs": [],
   "source": [
    "# Plot and export July 2019-2020 change\n",
    "plot_aggregate_change(\n",
    "    aggregated_data=hexagon_grid_gdf,\n",
    "    magnitude_change=\"change_jul_2019_2020_magnitude\",\n",
    "    percent_change=\"change_jul_2019_2020_percent\",\n",
    "    vector_boundary=singapore_level_1_geometry,\n",
    "    plot_vector=True,\n",
    "    super_title=\"Singapore Nitrogen Dioxide Change, July 2019 to July 2020\",\n",
    "    data_source=\"European Space Agency\",\n",
    ")\n",
    "\n",
    "# Export figure\n",
    "outpath = os.path.join(\n",
    "    \"04-graphics-outputs\",\n",
    "    \"spatial-plots\",\n",
    "    \"singapore\",\n",
    "    \"singapore-no2-aggregate-hexagon-grid-mean-change-jul-2019-2020.png\",\n",
    ")\n",
    "\n",
    "rd.save_figure(outpath)"
   ]
  },
  {
   "cell_type": "markdown",
   "metadata": {},
   "source": [
    "# Data Export"
   ]
  },
  {
   "cell_type": "code",
   "execution_count": null,
   "metadata": {},
   "outputs": [],
   "source": []
  }
 ],
 "metadata": {
  "hide_input": false,
  "kernelspec": {
   "display_name": "Python 3",
   "language": "python",
   "name": "python3"
  },
  "language_info": {
   "codemirror_mode": {
    "name": "ipython",
    "version": 3
   },
   "file_extension": ".py",
   "mimetype": "text/x-python",
   "name": "python",
   "nbconvert_exporter": "python",
   "pygments_lexer": "ipython3",
   "version": "3.7.6"
  },
  "toc": {
   "base_numbering": 1,
   "nav_menu": {},
   "number_sections": true,
   "sideBar": true,
   "skip_h1_title": false,
   "title_cell": "Table of Contents",
   "title_sidebar": "Contents",
   "toc_cell": false,
   "toc_position": {
    "height": "calc(100% - 180px)",
    "left": "10px",
    "top": "150px",
    "width": "307.2px"
   },
   "toc_section_display": true,
   "toc_window_display": true
  },
  "varInspector": {
   "cols": {
    "lenName": 16,
    "lenType": 16,
    "lenVar": 40
   },
   "kernels_config": {
    "python": {
     "delete_cmd_postfix": "",
     "delete_cmd_prefix": "del ",
     "library": "var_list.py",
     "varRefreshCmd": "print(var_dic_list())"
    },
    "r": {
     "delete_cmd_postfix": ") ",
     "delete_cmd_prefix": "rm(",
     "library": "var_list.r",
     "varRefreshCmd": "cat(var_dic_list()) "
    }
   },
   "types_to_exclude": [
    "module",
    "function",
    "builtin_function_or_method",
    "instance",
    "_Feature"
   ],
   "window_display": false
  }
 },
 "nbformat": 4,
 "nbformat_minor": 4
}
