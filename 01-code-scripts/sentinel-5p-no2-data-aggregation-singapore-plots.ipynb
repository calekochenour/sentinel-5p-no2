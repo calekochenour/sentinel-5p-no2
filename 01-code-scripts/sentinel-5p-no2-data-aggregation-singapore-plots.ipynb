{
 "cells": [
  {
   "cell_type": "markdown",
   "metadata": {},
   "source": [
    "# NO2 Data Aggregation - Plots\n",
    "\n",
    "Aggregates NO2 values by administrative boundaries and a regular hexagon grid.\n",
    "\n",
    "To convert from mol/m<sup>2</sup> to molecules/cm<sup>2</sup>, multiply by 6.022140857e+19 (6.022140857 * 10<sup>19</sup>)."
   ]
  },
  {
   "cell_type": "markdown",
   "metadata": {},
   "source": [
    "# Environment Setup"
   ]
  },
  {
   "cell_type": "code",
   "execution_count": null,
   "metadata": {
    "ExecuteTime": {
     "end_time": "2020-11-04T20:10:44.898545Z",
     "start_time": "2020-11-04T20:10:44.707136Z"
    }
   },
   "outputs": [],
   "source": [
    "# Load Notebook formatter\n",
    "%load_ext nb_black\n",
    "# %reload_ext nb_black"
   ]
  },
  {
   "cell_type": "code",
   "execution_count": null,
   "metadata": {
    "ExecuteTime": {
     "end_time": "2020-11-04T20:10:47.231306Z",
     "start_time": "2020-11-04T20:10:44.898545Z"
    }
   },
   "outputs": [],
   "source": [
    "# Import packages\n",
    "import os\n",
    "import glob\n",
    "import matplotlib.pyplot as plt\n",
    "from mpl_toolkits.axes_grid1 import make_axes_locatable\n",
    "import seaborn as sns\n",
    "import pandas as pd\n",
    "import geopandas as gpd\n",
    "import rasterio as rio\n",
    "import rasterstats as rs\n",
    "import radiance as rd\n",
    "import sentinel as stl"
   ]
  },
  {
   "cell_type": "code",
   "execution_count": null,
   "metadata": {
    "ExecuteTime": {
     "end_time": "2020-11-04T20:10:47.252345Z",
     "start_time": "2020-11-04T20:10:47.234281Z"
    }
   },
   "outputs": [],
   "source": [
    "# Set Options\n",
    "# sns.set(font_scale=1.5, style=\"whitegrid\")\n",
    "sns.set(font_scale=1.5)\n",
    "pd.set_option(\"display.max_columns\", None)\n",
    "pd.set_option(\"precision\", 15)"
   ]
  },
  {
   "cell_type": "code",
   "execution_count": null,
   "metadata": {
    "ExecuteTime": {
     "end_time": "2020-11-04T20:10:47.272334Z",
     "start_time": "2020-11-04T20:10:47.252345Z"
    }
   },
   "outputs": [],
   "source": [
    "# Set working directory\n",
    "os.chdir(\"..\")\n",
    "print(f\"Working directory: {os.getcwd()}\")"
   ]
  },
  {
   "cell_type": "markdown",
   "metadata": {},
   "source": [
    "# User-Defined Variables"
   ]
  },
  {
   "cell_type": "code",
   "execution_count": null,
   "metadata": {
    "ExecuteTime": {
     "end_time": "2020-11-04T20:10:47.302350Z",
     "start_time": "2020-11-04T20:10:47.272334Z"
    }
   },
   "outputs": [],
   "source": [
    "# Set paths to Singapore shapefiles at levels 0 and 1, and hexagon grid\n",
    "singapore_level_0_path = os.path.join(\n",
    "    \"02-raw-data\", \"vector\", \"singapore\", \"gadm36_singapore.shp\"\n",
    ")\n",
    "\n",
    "singapore_level_1_path = os.path.join(\n",
    "    \"02-raw-data\", \"vector\", \"singapore\", \"gadm36_singapore_level_1.shp\"\n",
    ")\n",
    "\n",
    "singapore_hexagon_grid_path = os.path.join(\n",
    "    \"03-processed-data\",\n",
    "    \"vector\",\n",
    "    \"singapore\",\n",
    "    \"singapore_hexagon_grid_0p01.shp\",\n",
    ")\n",
    "\n",
    "# Set path to Malaysia levels 0 and 1 shapefile\n",
    "malaysia_level_0_path = os.path.join(\n",
    "    \"02-raw-data\", \"vector\", \"malaysia\", \"gadm36_malaysia.shp\"\n",
    ")\n",
    "\n",
    "malaysia_level_1_path = os.path.join(\n",
    "    \"02-raw-data\", \"vector\", \"malaysia\", \"gadm36_malaysia_level_1.shp\"\n",
    ")"
   ]
  },
  {
   "cell_type": "code",
   "execution_count": null,
   "metadata": {
    "ExecuteTime": {
     "end_time": "2020-11-04T20:10:47.319875Z",
     "start_time": "2020-11-04T20:10:47.304917Z"
    }
   },
   "outputs": [],
   "source": [
    "# Set paths to aggregated data shapfiles\n",
    "aggregate_level_1_path = os.path.join(\n",
    "    \"03-processed-data\",\n",
    "    \"vector\",\n",
    "    \"singapore\",\n",
    "    \"aggregate_level_1_jul_2018_jul_2020.shp\",\n",
    ")\n",
    "\n",
    "aggregate_hexagon_path = os.path.join(\n",
    "    \"03-processed-data\",\n",
    "    \"vector\",\n",
    "    \"singapore\",\n",
    "    \"aggregate_hexagon_grid_jul_2018_jul_2020.shp\",\n",
    ")"
   ]
  },
  {
   "cell_type": "code",
   "execution_count": null,
   "metadata": {
    "ExecuteTime": {
     "end_time": "2020-11-04T20:10:47.334837Z",
     "start_time": "2020-11-04T20:10:47.323865Z"
    }
   },
   "outputs": [],
   "source": [
    "# Set folder to NO2 rasters\n",
    "no2_folder = os.path.join(\n",
    "    \"03-processed-data\", \"raster\", \"singapore\", \"statistics\", \"monthly\",\n",
    ")"
   ]
  },
  {
   "cell_type": "markdown",
   "metadata": {},
   "source": [
    "# Data Acquisition and Preprocessing"
   ]
  },
  {
   "cell_type": "code",
   "execution_count": null,
   "metadata": {
    "ExecuteTime": {
     "end_time": "2020-11-04T20:10:47.632097Z",
     "start_time": "2020-11-04T20:10:47.337828Z"
    }
   },
   "outputs": [],
   "source": [
    "# Get geodataframes with geometry only (for plotting)\n",
    "singapore_level_0_geometry = stl.get_geometry(singapore_level_0_path)\n",
    "singapore_level_1_geometry = stl.get_geometry(singapore_level_1_path)\n",
    "singapore_hexagon_grid_geometry = stl.get_geometry(singapore_hexagon_grid_path)\n",
    "malaysia_level_0_geometry = stl.get_geometry(malaysia_level_0_path)\n",
    "malaysia_level_1_geometry = stl.get_geometry(malaysia_level_1_path)"
   ]
  },
  {
   "cell_type": "code",
   "execution_count": null,
   "metadata": {
    "ExecuteTime": {
     "end_time": "2020-11-04T20:10:51.381342Z",
     "start_time": "2020-11-04T20:10:47.632097Z"
    }
   },
   "outputs": [],
   "source": [
    "# Get all NO2 means into list\n",
    "no2_means = sorted(glob.glob(os.path.join(no2_folder, \"*MEAN*tif\")))\n",
    "\n",
    "# Extract plotting extent\n",
    "singapore_extent = stl.extract_plotting_extent(no2_means[0])\n",
    "\n",
    "# Create extent polygon\n",
    "singapore_polygon = stl.create_polygon_from_extent(singapore_extent)\n",
    "\n",
    "# Clip Malaysia to Singapore extent polygon\n",
    "malaysia_level_0_clipped = gpd.clip(\n",
    "    gpd.GeoDataFrame(\n",
    "        geometry=[singapore_polygon], crs=malaysia_level_0_geometry.crs\n",
    "    ),\n",
    "    malaysia_level_0_geometry,\n",
    ")\n",
    "\n",
    "malaysia_level_1_clipped = gpd.clip(\n",
    "    gpd.GeoDataFrame(\n",
    "        geometry=[singapore_polygon], crs=malaysia_level_1_geometry.crs\n",
    "    ),\n",
    "    malaysia_level_1_geometry,\n",
    ")"
   ]
  },
  {
   "cell_type": "code",
   "execution_count": null,
   "metadata": {
    "ExecuteTime": {
     "end_time": "2020-11-04T20:10:51.456297Z",
     "start_time": "2020-11-04T20:10:51.381342Z"
    }
   },
   "outputs": [],
   "source": [
    "# Read aggregated shapefiles into geodataframes\n",
    "singapore_level_1_gdf = gpd.read_file(aggregate_level_1_path)\n",
    "hexagon_grid_gdf = gpd.read_file(aggregate_hexagon_path)"
   ]
  },
  {
   "cell_type": "code",
   "execution_count": null,
   "metadata": {
    "ExecuteTime": {
     "end_time": "2020-11-04T20:10:51.506265Z",
     "start_time": "2020-11-04T20:10:51.456297Z"
    }
   },
   "outputs": [],
   "source": [
    "# Restore original column names (shorted by export to shapefile)\n",
    "level_1_gdf = singapore_level_1_gdf.rename(\n",
    "    columns={\n",
    "        # Magnitude\n",
    "        \"change_jul\": \"change_jul_2018_2019_magnitude\",\n",
    "        \"change_aug\": \"change_aug_2018_2019_magnitude\",\n",
    "        \"change_sep\": \"change_sep_2018_2019_magnitude\",\n",
    "        \"change_oct\": \"change_oct_2018_2019_magnitude\",\n",
    "        \"change_nov\": \"change_nov_2018_2019_magnitude\",\n",
    "        \"change_dec\": \"change_dec_2018_2019_magnitude\",\n",
    "        \"change_jan\": \"change_jan_2019_2020_magnitude\",\n",
    "        \"change_feb\": \"change_feb_2019_2020_magnitude\",\n",
    "        \"change_mar\": \"change_mar_2019_2020_magnitude\",\n",
    "        \"change_apr\": \"change_apr_2019_2020_magnitude\",\n",
    "        \"change_may\": \"change_may_2019_2020_magnitude\",\n",
    "        \"change_jun\": \"change_jun_2019_2020_magnitude\",\n",
    "        \"change_j_1\": \"change_jul_2019_2020_magnitude\",\n",
    "        # Percent\n",
    "        \"change_j_2\": \"change_jul_2018_2019_percent\",\n",
    "        \"change_a_1\": \"change_aug_2018_2019_percent\",\n",
    "        \"change_s_1\": \"change_sep_2018_2019_percent\",\n",
    "        \"change_o_1\": \"change_oct_2018_2019_percent\",\n",
    "        \"change_n_1\": \"change_nov_2018_2019_percent\",\n",
    "        \"change_d_1\": \"change_dec_2018_2019_percent\",\n",
    "        \"change_j_3\": \"change_jan_2019_2020_percent\",\n",
    "        \"change_f_1\": \"change_feb_2019_2020_percent\",\n",
    "        \"change_m_1\": \"change_mar_2019_2020_percent\",\n",
    "        \"change_a_2\": \"change_apr_2019_2020_percent\",\n",
    "        \"change_m_2\": \"change_may_2019_2020_percent\",\n",
    "        \"change_j_4\": \"change_jun_2019_2020_percent\",\n",
    "        \"change_j_5\": \"change_jul_2019_2020_percent\",\n",
    "    }\n",
    ")\n",
    "\n",
    "hexagon_grid_gdf = hexagon_grid_gdf.rename(\n",
    "    columns={\n",
    "        # Magnitude\n",
    "        \"change_jul\": \"change_jul_2018_2019_magnitude\",\n",
    "        \"change_aug\": \"change_aug_2018_2019_magnitude\",\n",
    "        \"change_sep\": \"change_sep_2018_2019_magnitude\",\n",
    "        \"change_oct\": \"change_oct_2018_2019_magnitude\",\n",
    "        \"change_nov\": \"change_nov_2018_2019_magnitude\",\n",
    "        \"change_dec\": \"change_dec_2018_2019_magnitude\",\n",
    "        \"change_jan\": \"change_jan_2019_2020_magnitude\",\n",
    "        \"change_feb\": \"change_feb_2019_2020_magnitude\",\n",
    "        \"change_mar\": \"change_mar_2019_2020_magnitude\",\n",
    "        \"change_apr\": \"change_apr_2019_2020_magnitude\",\n",
    "        \"change_may\": \"change_may_2019_2020_magnitude\",\n",
    "        \"change_jun\": \"change_jun_2019_2020_magnitude\",\n",
    "        \"change_j_1\": \"change_jul_2019_2020_magnitude\",\n",
    "        # Percent\n",
    "        \"change_j_2\": \"change_jul_2018_2019_percent\",\n",
    "        \"change_a_1\": \"change_aug_2018_2019_percent\",\n",
    "        \"change_s_1\": \"change_sep_2018_2019_percent\",\n",
    "        \"change_o_1\": \"change_oct_2018_2019_percent\",\n",
    "        \"change_n_1\": \"change_nov_2018_2019_percent\",\n",
    "        \"change_d_1\": \"change_dec_2018_2019_percent\",\n",
    "        \"change_j_3\": \"change_jan_2019_2020_percent\",\n",
    "        \"change_f_1\": \"change_feb_2019_2020_percent\",\n",
    "        \"change_m_1\": \"change_mar_2019_2020_percent\",\n",
    "        \"change_a_2\": \"change_apr_2019_2020_percent\",\n",
    "        \"change_m_2\": \"change_may_2019_2020_percent\",\n",
    "        \"change_j_4\": \"change_jun_2019_2020_percent\",\n",
    "        \"change_j_5\": \"change_jul_2019_2020_percent\",\n",
    "    }\n",
    ")"
   ]
  },
  {
   "cell_type": "markdown",
   "metadata": {},
   "source": [
    "# Data Processing"
   ]
  },
  {
   "cell_type": "code",
   "execution_count": null,
   "metadata": {},
   "outputs": [],
   "source": []
  },
  {
   "cell_type": "markdown",
   "metadata": {},
   "source": [
    "# Data Post-Processing"
   ]
  },
  {
   "cell_type": "code",
   "execution_count": null,
   "metadata": {},
   "outputs": [],
   "source": []
  },
  {
   "cell_type": "markdown",
   "metadata": {},
   "source": [
    "# Data Visualization"
   ]
  },
  {
   "cell_type": "markdown",
   "metadata": {},
   "source": [
    "## Level 1 Boundaries"
   ]
  },
  {
   "cell_type": "code",
   "execution_count": null,
   "metadata": {
    "ExecuteTime": {
     "end_time": "2020-11-04T20:10:54.805117Z",
     "start_time": "2020-11-04T20:10:51.506265Z"
    },
    "scrolled": false
   },
   "outputs": [],
   "source": [
    "# Plot and export July 2018-2019 change\n",
    "stl.plot_aggregate_change(\n",
    "    aggregated_data=level_1_gdf,\n",
    "    magnitude_change=\"change_jul_2018_2019_magnitude\",\n",
    "    percent_change=\"change_jul_2018_2019_percent\",\n",
    "    vector_boundary=singapore_level_1_geometry,\n",
    "    plot_vector=False,\n",
    "    super_title=\"Singapore Nitrogen Dioxide Change, July 2018 to July 2019\",\n",
    "    data_source=\"European Space Agency\",\n",
    "    figsize=(20, 6.5),\n",
    ")\n",
    "\n",
    "# Export figure\n",
    "outpath = os.path.join(\n",
    "    \"04-graphics-outputs\",\n",
    "    \"spatial-plots\",\n",
    "    \"singapore\",\n",
    "    \"singapore-no2-aggregate-level-1-mean-change-jul-2018-2019.png\",\n",
    ")\n",
    "\n",
    "rd.save_figure(outpath)"
   ]
  },
  {
   "cell_type": "code",
   "execution_count": null,
   "metadata": {
    "ExecuteTime": {
     "end_time": "2020-11-04T20:10:57.694494Z",
     "start_time": "2020-11-04T20:10:54.805117Z"
    }
   },
   "outputs": [],
   "source": [
    "# Plot and export August 2018-2019 change\n",
    "stl.plot_aggregate_change(\n",
    "    aggregated_data=level_1_gdf,\n",
    "    magnitude_change=\"change_aug_2018_2019_magnitude\",\n",
    "    percent_change=\"change_aug_2018_2019_percent\",\n",
    "    vector_boundary=singapore_level_1_geometry,\n",
    "    plot_vector=False,\n",
    "    super_title=\"Singapore Nitrogen Dioxide Change, August 2018 to August 2019\",\n",
    "    data_source=\"European Space Agency\",\n",
    "    figsize=(20, 6.5),\n",
    ")\n",
    "\n",
    "# Export figure\n",
    "outpath = os.path.join(\n",
    "    \"04-graphics-outputs\",\n",
    "    \"spatial-plots\",\n",
    "    \"singapore\",\n",
    "    \"singapore-no2-aggregate-level-1-mean-change-aug-2018-2019.png\",\n",
    ")\n",
    "\n",
    "rd.save_figure(outpath)"
   ]
  },
  {
   "cell_type": "code",
   "execution_count": null,
   "metadata": {
    "ExecuteTime": {
     "end_time": "2020-11-04T20:11:00.527979Z",
     "start_time": "2020-11-04T20:10:57.694494Z"
    }
   },
   "outputs": [],
   "source": [
    "# Plot and export September 2018-2019 change\n",
    "stl.plot_aggregate_change(\n",
    "    aggregated_data=level_1_gdf,\n",
    "    magnitude_change=\"change_sep_2018_2019_magnitude\",\n",
    "    percent_change=\"change_sep_2018_2019_percent\",\n",
    "    vector_boundary=singapore_level_1_geometry,\n",
    "    plot_vector=False,\n",
    "    super_title=\"Singapore Nitrogen Dioxide Change, September 2018 to September 2019\",\n",
    "    data_source=\"European Space Agency\",\n",
    "    figsize=(20, 6.5),\n",
    ")\n",
    "\n",
    "# Export figure\n",
    "outpath = os.path.join(\n",
    "    \"04-graphics-outputs\",\n",
    "    \"spatial-plots\",\n",
    "    \"singapore\",\n",
    "    \"singapore-no2-aggregate-level-1-mean-change-sep-2018-2019.png\",\n",
    ")\n",
    "\n",
    "rd.save_figure(outpath)"
   ]
  },
  {
   "cell_type": "code",
   "execution_count": null,
   "metadata": {
    "ExecuteTime": {
     "end_time": "2020-11-04T20:11:03.477075Z",
     "start_time": "2020-11-04T20:11:00.527979Z"
    }
   },
   "outputs": [],
   "source": [
    "# Plot and export October 2018-2019 change\n",
    "stl.plot_aggregate_change(\n",
    "    aggregated_data=level_1_gdf,\n",
    "    magnitude_change=\"change_oct_2018_2019_magnitude\",\n",
    "    percent_change=\"change_oct_2018_2019_percent\",\n",
    "    vector_boundary=singapore_level_1_geometry,\n",
    "    plot_vector=False,\n",
    "    super_title=\"Singapre Nitrogen Dioxide Change, October 2018 to October 2019\",\n",
    "    data_source=\"European Space Agency\",\n",
    "    figsize=(20, 6.5),\n",
    ")\n",
    "\n",
    "# Export figure\n",
    "outpath = os.path.join(\n",
    "    \"04-graphics-outputs\",\n",
    "    \"spatial-plots\",\n",
    "    \"singapore\",\n",
    "    \"singapore-no2-aggregate-level-1-mean-change-oct-2018-2019.png\",\n",
    ")\n",
    "\n",
    "rd.save_figure(outpath)"
   ]
  },
  {
   "cell_type": "code",
   "execution_count": null,
   "metadata": {
    "ExecuteTime": {
     "end_time": "2020-11-04T20:11:06.234965Z",
     "start_time": "2020-11-04T20:11:03.479070Z"
    }
   },
   "outputs": [],
   "source": [
    "# Plot and export November 2018-2019 change\n",
    "stl.plot_aggregate_change(\n",
    "    aggregated_data=level_1_gdf,\n",
    "    magnitude_change=\"change_nov_2018_2019_magnitude\",\n",
    "    percent_change=\"change_nov_2018_2019_percent\",\n",
    "    vector_boundary=singapore_level_1_geometry,\n",
    "    plot_vector=False,\n",
    "    super_title=\"Singapore Nitrogen Dioxide Change, November 2018 to November 2019\",\n",
    "    data_source=\"European Space Agency\",\n",
    "    figsize=(20, 6.5),\n",
    ")\n",
    "\n",
    "# Export figure\n",
    "outpath = os.path.join(\n",
    "    \"04-graphics-outputs\",\n",
    "    \"spatial-plots\",\n",
    "    \"singapore\",\n",
    "    \"singapore-no2-aggregate-level-1-mean-change-nov-2018-2019.png\",\n",
    ")\n",
    "\n",
    "rd.save_figure(outpath)"
   ]
  },
  {
   "cell_type": "code",
   "execution_count": null,
   "metadata": {
    "ExecuteTime": {
     "end_time": "2020-11-04T20:11:09.011811Z",
     "start_time": "2020-11-04T20:11:06.234965Z"
    }
   },
   "outputs": [],
   "source": [
    "# Plot and export December 2018-2019 change\n",
    "stl.plot_aggregate_change(\n",
    "    aggregated_data=level_1_gdf,\n",
    "    magnitude_change=\"change_dec_2018_2019_magnitude\",\n",
    "    percent_change=\"change_dec_2018_2019_percent\",\n",
    "    vector_boundary=singapore_level_1_geometry,\n",
    "    plot_vector=False,\n",
    "    super_title=\"South Korea Nitrogen Dioxide Change, December 2018 to December 2019\",\n",
    "    data_source=\"European Space Agency\",\n",
    "    figsize=(20, 6.5),\n",
    ")\n",
    "\n",
    "# Export figure\n",
    "outpath = os.path.join(\n",
    "    \"04-graphics-outputs\",\n",
    "    \"spatial-plots\",\n",
    "    \"singapore\",\n",
    "    \"singapore-no2-aggregate-level-1-mean-change-dec-2018-2019.png\",\n",
    ")\n",
    "\n",
    "rd.save_figure(outpath)"
   ]
  },
  {
   "cell_type": "code",
   "execution_count": null,
   "metadata": {
    "ExecuteTime": {
     "end_time": "2020-11-04T20:11:11.662073Z",
     "start_time": "2020-11-04T20:11:09.011811Z"
    }
   },
   "outputs": [],
   "source": [
    "# Plot and export January 2019-2020 change\n",
    "stl.plot_aggregate_change(\n",
    "    aggregated_data=level_1_gdf,\n",
    "    magnitude_change=\"change_jan_2019_2020_magnitude\",\n",
    "    percent_change=\"change_jan_2019_2020_percent\",\n",
    "    vector_boundary=singapore_level_1_geometry,\n",
    "    plot_vector=False,\n",
    "    super_title=\"Singapore Nitrogen Dioxide Change, January 2019 to January 2020\",\n",
    "    data_source=\"European Space Agency\",\n",
    "    figsize=(20, 6.5),\n",
    ")\n",
    "\n",
    "# Export figure\n",
    "outpath = os.path.join(\n",
    "    \"04-graphics-outputs\",\n",
    "    \"spatial-plots\",\n",
    "    \"singapore\",\n",
    "    \"singapore-no2-aggregate-level-1-mean-change-jan-2019-2020.png\",\n",
    ")\n",
    "\n",
    "rd.save_figure(outpath)"
   ]
  },
  {
   "cell_type": "code",
   "execution_count": null,
   "metadata": {
    "ExecuteTime": {
     "end_time": "2020-11-04T20:11:14.308610Z",
     "start_time": "2020-11-04T20:11:11.662073Z"
    }
   },
   "outputs": [],
   "source": [
    "# Plot and export February 2019-2020 change\n",
    "stl.plot_aggregate_change(\n",
    "    aggregated_data=level_1_gdf,\n",
    "    magnitude_change=\"change_feb_2019_2020_magnitude\",\n",
    "    percent_change=\"change_feb_2019_2020_percent\",\n",
    "    vector_boundary=singapore_level_1_geometry,\n",
    "    plot_vector=False,\n",
    "    super_title=\"Singapore Nitrogen Dioxide Change, February 2019 to February 2020\",\n",
    "    data_source=\"European Space Agency\",\n",
    "    figsize=(20, 6.5),\n",
    ")\n",
    "\n",
    "# Export figure\n",
    "outpath = os.path.join(\n",
    "    \"04-graphics-outputs\",\n",
    "    \"spatial-plots\",\n",
    "    \"singapore\",\n",
    "    \"singapore-no2-aggregate-level-1-mean-change-feb-2019-2020.png\",\n",
    ")\n",
    "\n",
    "rd.save_figure(outpath)"
   ]
  },
  {
   "cell_type": "code",
   "execution_count": null,
   "metadata": {
    "ExecuteTime": {
     "end_time": "2020-11-04T20:11:17.148808Z",
     "start_time": "2020-11-04T20:11:14.311578Z"
    }
   },
   "outputs": [],
   "source": [
    "# Plot and export March 2019-2020 change\n",
    "stl.plot_aggregate_change(\n",
    "    aggregated_data=level_1_gdf,\n",
    "    magnitude_change=\"change_mar_2019_2020_magnitude\",\n",
    "    percent_change=\"change_mar_2019_2020_percent\",\n",
    "    vector_boundary=singapore_level_1_geometry,\n",
    "    plot_vector=False,\n",
    "    super_title=\"Singapore Nitrogen Dioxide Change, March 2019 to March 2020\",\n",
    "    data_source=\"European Space Agency\",\n",
    "    figsize=(20, 6.5),\n",
    ")\n",
    "\n",
    "# Export figure\n",
    "outpath = os.path.join(\n",
    "    \"04-graphics-outputs\",\n",
    "    \"spatial-plots\",\n",
    "    \"singapore\",\n",
    "    \"singapore-no2-aggregate-level-1-mean-change-mar-2019-2020.png\",\n",
    ")\n",
    "\n",
    "rd.save_figure(outpath)"
   ]
  },
  {
   "cell_type": "code",
   "execution_count": null,
   "metadata": {
    "ExecuteTime": {
     "end_time": "2020-11-04T20:11:20.255179Z",
     "start_time": "2020-11-04T20:11:17.148808Z"
    }
   },
   "outputs": [],
   "source": [
    "# Plot and export April 2019-2020 change\n",
    "stl.plot_aggregate_change(\n",
    "    aggregated_data=level_1_gdf,\n",
    "    magnitude_change=\"change_apr_2019_2020_magnitude\",\n",
    "    percent_change=\"change_apr_2019_2020_percent\",\n",
    "    vector_boundary=singapore_level_1_geometry,\n",
    "    plot_vector=False,\n",
    "    super_title=\"Singapore Nitrogen Dioxide Change, April 2019 to April 2020\",\n",
    "    data_source=\"European Space Agency\",\n",
    "    figsize=(20, 6.5),\n",
    ")\n",
    "\n",
    "# Export figure\n",
    "outpath = os.path.join(\n",
    "    \"04-graphics-outputs\",\n",
    "    \"spatial-plots\",\n",
    "    \"singapore\",\n",
    "    \"singapore-no2-aggregate-level-1-mean-change-apr-2019-2020.png\",\n",
    ")\n",
    "\n",
    "rd.save_figure(outpath)"
   ]
  },
  {
   "cell_type": "code",
   "execution_count": null,
   "metadata": {
    "ExecuteTime": {
     "end_time": "2020-11-04T20:11:22.957729Z",
     "start_time": "2020-11-04T20:11:20.260175Z"
    }
   },
   "outputs": [],
   "source": [
    "# Plot and export May 2019-2020 change\n",
    "stl.plot_aggregate_change(\n",
    "    aggregated_data=level_1_gdf,\n",
    "    magnitude_change=\"change_may_2019_2020_magnitude\",\n",
    "    percent_change=\"change_may_2019_2020_percent\",\n",
    "    vector_boundary=singapore_level_1_geometry,\n",
    "    plot_vector=False,\n",
    "    super_title=\"Singapore Nitrogen Dioxide Change, May 2019 to May 2020\",\n",
    "    data_source=\"European Space Agency\",\n",
    "    figsize=(20, 6.5),\n",
    ")\n",
    "\n",
    "# Export figure\n",
    "stl.outpath = os.path.join(\n",
    "    \"04-graphics-outputs\",\n",
    "    \"spatial-plots\",\n",
    "    \"singapore\",\n",
    "    \"singapore-no2-aggregate-level-1-mean-change-may-2019-2020.png\",\n",
    ")\n",
    "\n",
    "rd.save_figure(outpath)"
   ]
  },
  {
   "cell_type": "code",
   "execution_count": null,
   "metadata": {
    "ExecuteTime": {
     "end_time": "2020-11-04T20:11:25.453488Z",
     "start_time": "2020-11-04T20:11:22.957729Z"
    }
   },
   "outputs": [],
   "source": [
    "# Plot and export June 2019-2020 change\n",
    "stl.plot_aggregate_change(\n",
    "    aggregated_data=level_1_gdf,\n",
    "    magnitude_change=\"change_jun_2019_2020_magnitude\",\n",
    "    percent_change=\"change_jun_2019_2020_percent\",\n",
    "    vector_boundary=singapore_level_1_geometry,\n",
    "    plot_vector=False,\n",
    "    super_title=\"Singapore Nitrogen Dioxide Change, June 2019 to June 2020\",\n",
    "    data_source=\"European Space Agency\",\n",
    "    figsize=(20, 6.5),\n",
    ")\n",
    "\n",
    "# Export figure\n",
    "outpath = os.path.join(\n",
    "    \"04-graphics-outputs\",\n",
    "    \"spatial-plots\",\n",
    "    \"singapore\",\n",
    "    \"singapore-no2-aggregate-level-1-mean-change-jun-2019-2020.png\",\n",
    ")\n",
    "\n",
    "rd.save_figure(outpath)"
   ]
  },
  {
   "cell_type": "code",
   "execution_count": null,
   "metadata": {
    "ExecuteTime": {
     "end_time": "2020-11-04T20:11:27.867304Z",
     "start_time": "2020-11-04T20:11:25.455592Z"
    }
   },
   "outputs": [],
   "source": [
    "# Plot and export July 2019-2020 change\n",
    "stl.plot_aggregate_change(\n",
    "    aggregated_data=level_1_gdf,\n",
    "    magnitude_change=\"change_jul_2019_2020_magnitude\",\n",
    "    percent_change=\"change_jul_2019_2020_percent\",\n",
    "    vector_boundary=singapore_level_1_geometry,\n",
    "    plot_vector=False,\n",
    "    super_title=\"Singapore Nitrogen Dioxide Change, July 2019 to July 2020\",\n",
    "    data_source=\"European Space Agency\",\n",
    "    figsize=(20, 6.5),\n",
    ")\n",
    "\n",
    "# Export figure\n",
    "outpath = os.path.join(\n",
    "    \"04-graphics-outputs\",\n",
    "    \"spatial-plots\",\n",
    "    \"singapore\",\n",
    "    \"singapore-no2-aggregate-level-1-mean-change-jul-2019-2020.png\",\n",
    ")\n",
    "\n",
    "rd.save_figure(outpath)"
   ]
  },
  {
   "cell_type": "markdown",
   "metadata": {},
   "source": [
    "## Hexagon Grid"
   ]
  },
  {
   "cell_type": "code",
   "execution_count": null,
   "metadata": {
    "ExecuteTime": {
     "end_time": "2020-11-04T20:11:31.245248Z",
     "start_time": "2020-11-04T20:11:27.867304Z"
    },
    "scrolled": false
   },
   "outputs": [],
   "source": [
    "# Plot and export July 2018-2019 change\n",
    "fig, ax = stl.plot_aggregate_change(\n",
    "    aggregated_data=hexagon_grid_gdf,\n",
    "    magnitude_change=\"change_jul_2018_2019_magnitude\",\n",
    "    percent_change=\"change_jul_2018_2019_percent\",\n",
    "    vector_boundary=singapore_level_1_geometry,\n",
    "    plot_vector=True,\n",
    "    super_title=\"Singapore Nitrogen Dioxide Change, July 2018 to July 2019\",\n",
    "    data_source=\"European Space Agency\",\n",
    ")\n",
    "\n",
    "# Add Malaysia boundary\n",
    "for axis in [fig.axes[0], fig.axes[1]]:\n",
    "    malaysia_level_1_clipped.plot(\n",
    "        ax=axis, facecolor=\"None\", edgecolor=\"black\", linewidth=0.5\n",
    "    )\n",
    "\n",
    "# Export figure\n",
    "outpath = os.path.join(\n",
    "    \"04-graphics-outputs\",\n",
    "    \"spatial-plots\",\n",
    "    \"singapore\",\n",
    "    \"singapore-no2-aggregate-hexagon-grid-mean-change-jul-2018-2019.png\",\n",
    ")\n",
    "\n",
    "rd.save_figure(outpath)"
   ]
  },
  {
   "cell_type": "code",
   "execution_count": null,
   "metadata": {
    "ExecuteTime": {
     "end_time": "2020-11-04T20:11:34.643768Z",
     "start_time": "2020-11-04T20:11:31.248241Z"
    }
   },
   "outputs": [],
   "source": [
    "# Plot and export August 2018-2019 change\n",
    "fig, ax = stl.plot_aggregate_change(\n",
    "    aggregated_data=hexagon_grid_gdf,\n",
    "    magnitude_change=\"change_aug_2018_2019_magnitude\",\n",
    "    percent_change=\"change_aug_2018_2019_percent\",\n",
    "    vector_boundary=singapore_level_1_geometry,\n",
    "    plot_vector=True,\n",
    "    super_title=\"Singapore Nitrogen Dioxide Change, August 2018 to August 2019\",\n",
    "    data_source=\"European Space Agency\",\n",
    ")\n",
    "\n",
    "# Add Malaysia boundary\n",
    "for axis in [fig.axes[0], fig.axes[1]]:\n",
    "    malaysia_level_1_clipped.plot(\n",
    "        ax=axis, facecolor=\"None\", edgecolor=\"black\", linewidth=0.5\n",
    "    )\n",
    "\n",
    "# Export figure\n",
    "outpath = os.path.join(\n",
    "    \"04-graphics-outputs\",\n",
    "    \"spatial-plots\",\n",
    "    \"singapore\",\n",
    "    \"singapore-no2-aggregate-hexagon-grid-mean-change-aug-2018-2019.png\",\n",
    ")\n",
    "\n",
    "rd.save_figure(outpath)"
   ]
  },
  {
   "cell_type": "code",
   "execution_count": null,
   "metadata": {
    "ExecuteTime": {
     "end_time": "2020-11-04T20:11:37.832446Z",
     "start_time": "2020-11-04T20:11:34.643768Z"
    }
   },
   "outputs": [],
   "source": [
    "# Plot and export September 2018-2019 change\n",
    "fig, ax = stl.plot_aggregate_change(\n",
    "    aggregated_data=hexagon_grid_gdf,\n",
    "    magnitude_change=\"change_sep_2018_2019_magnitude\",\n",
    "    percent_change=\"change_sep_2018_2019_percent\",\n",
    "    vector_boundary=singapore_level_1_geometry,\n",
    "    plot_vector=True,\n",
    "    super_title=\"Singapore Nitrogen Dioxide Change, September 2018 to September 2019\",\n",
    "    data_source=\"European Space Agency\",\n",
    ")\n",
    "\n",
    "# Add Malaysia boundary\n",
    "for axis in [fig.axes[0], fig.axes[1]]:\n",
    "    malaysia_level_1_clipped.plot(\n",
    "        ax=axis, facecolor=\"None\", edgecolor=\"black\", linewidth=0.5\n",
    "    )\n",
    "\n",
    "# Export figure\n",
    "outpath = os.path.join(\n",
    "    \"04-graphics-outputs\",\n",
    "    \"spatial-plots\",\n",
    "    \"singapore\",\n",
    "    \"singapore-no2-aggregate-hexagon-grid-mean-change-sep-2018-2019.png\",\n",
    ")\n",
    "\n",
    "rd.save_figure(outpath)"
   ]
  },
  {
   "cell_type": "code",
   "execution_count": null,
   "metadata": {
    "ExecuteTime": {
     "end_time": "2020-11-04T20:11:40.953787Z",
     "start_time": "2020-11-04T20:11:37.832446Z"
    }
   },
   "outputs": [],
   "source": [
    "# Plot and export October 2018-2019 change\n",
    "fig, ax = stl.plot_aggregate_change(\n",
    "    aggregated_data=hexagon_grid_gdf,\n",
    "    magnitude_change=\"change_oct_2018_2019_magnitude\",\n",
    "    percent_change=\"change_oct_2018_2019_percent\",\n",
    "    vector_boundary=singapore_level_1_geometry,\n",
    "    plot_vector=True,\n",
    "    super_title=\"Singapore Nitrogen Dioxide Change, October 2018 to October 2019\",\n",
    "    data_source=\"European Space Agency\",\n",
    ")\n",
    "\n",
    "# Add Malaysia boundary\n",
    "for axis in [fig.axes[0], fig.axes[1]]:\n",
    "    malaysia_level_1_clipped.plot(\n",
    "        ax=axis, facecolor=\"None\", edgecolor=\"black\", linewidth=0.5\n",
    "    )\n",
    "\n",
    "# Export figure\n",
    "outpath = os.path.join(\n",
    "    \"04-graphics-outputs\",\n",
    "    \"spatial-plots\",\n",
    "    \"singapore\",\n",
    "    \"singapore-no2-aggregate-hexagon-grid-mean-change-oct-2018-2019.png\",\n",
    ")\n",
    "\n",
    "rd.save_figure(outpath)"
   ]
  },
  {
   "cell_type": "code",
   "execution_count": null,
   "metadata": {
    "ExecuteTime": {
     "end_time": "2020-11-04T20:11:44.154585Z",
     "start_time": "2020-11-04T20:11:40.953787Z"
    }
   },
   "outputs": [],
   "source": [
    "# Plot and export November 2018-2019 change\n",
    "fig, ax = stl.plot_aggregate_change(\n",
    "    aggregated_data=hexagon_grid_gdf,\n",
    "    magnitude_change=\"change_nov_2018_2019_magnitude\",\n",
    "    percent_change=\"change_nov_2018_2019_percent\",\n",
    "    vector_boundary=singapore_level_1_geometry,\n",
    "    plot_vector=True,\n",
    "    super_title=\"Singapore Nitrogen Dioxide Change, November 2018 to November 2019\",\n",
    "    data_source=\"European Space Agency\",\n",
    ")\n",
    "\n",
    "# Add Malaysia boundary\n",
    "for axis in [fig.axes[0], fig.axes[1]]:\n",
    "    malaysia_level_1_clipped.plot(\n",
    "        ax=axis, facecolor=\"None\", edgecolor=\"black\", linewidth=0.5\n",
    "    )\n",
    "\n",
    "# Export figure\n",
    "outpath = os.path.join(\n",
    "    \"04-graphics-outputs\",\n",
    "    \"spatial-plots\",\n",
    "    \"singapore\",\n",
    "    \"singapore-no2-aggregate-hexagon-grid-mean-change-nov-2018-2019.png\",\n",
    ")\n",
    "\n",
    "rd.save_figure(outpath)"
   ]
  },
  {
   "cell_type": "code",
   "execution_count": null,
   "metadata": {
    "ExecuteTime": {
     "end_time": "2020-11-04T20:11:47.455141Z",
     "start_time": "2020-11-04T20:11:44.154585Z"
    }
   },
   "outputs": [],
   "source": [
    "# Plot and export December 2018-2019 change\n",
    "fig, ax = stl.plot_aggregate_change(\n",
    "    aggregated_data=hexagon_grid_gdf,\n",
    "    magnitude_change=\"change_dec_2018_2019_magnitude\",\n",
    "    percent_change=\"change_dec_2018_2019_percent\",\n",
    "    vector_boundary=singapore_level_1_geometry,\n",
    "    plot_vector=True,\n",
    "    super_title=\"Singapore Nitrogen Dioxide Change, December 2018 to December 2019\",\n",
    "    data_source=\"European Space Agency\",\n",
    ")\n",
    "\n",
    "# Add Malaysia boundary\n",
    "for axis in [fig.axes[0], fig.axes[1]]:\n",
    "    malaysia_level_1_clipped.plot(\n",
    "        ax=axis, facecolor=\"None\", edgecolor=\"black\", linewidth=0.5\n",
    "    )\n",
    "\n",
    "# Export figure\n",
    "outpath = os.path.join(\n",
    "    \"04-graphics-outputs\",\n",
    "    \"spatial-plots\",\n",
    "    \"singapore\",\n",
    "    \"singapore-no2-aggregate-hexagon-grid-mean-change-dec-2018-2019.png\",\n",
    ")\n",
    "\n",
    "rd.save_figure(outpath)"
   ]
  },
  {
   "cell_type": "code",
   "execution_count": null,
   "metadata": {
    "ExecuteTime": {
     "end_time": "2020-11-04T20:11:50.626731Z",
     "start_time": "2020-11-04T20:11:47.455141Z"
    }
   },
   "outputs": [],
   "source": [
    "# Plot and export January 2019-2020 change\n",
    "fig, ax = stl.plot_aggregate_change(\n",
    "    aggregated_data=hexagon_grid_gdf,\n",
    "    magnitude_change=\"change_jan_2019_2020_magnitude\",\n",
    "    percent_change=\"change_jan_2019_2020_percent\",\n",
    "    vector_boundary=singapore_level_1_geometry,\n",
    "    plot_vector=True,\n",
    "    super_title=\"Singapore Nitrogen Dioxide Change, January 2019 to January 2020\",\n",
    "    data_source=\"European Space Agency\",\n",
    ")\n",
    "\n",
    "# Add Malaysia boundary\n",
    "for axis in [fig.axes[0], fig.axes[1]]:\n",
    "    malaysia_level_1_clipped.plot(\n",
    "        ax=axis, facecolor=\"None\", edgecolor=\"black\", linewidth=0.5\n",
    "    )\n",
    "\n",
    "# Export figure\n",
    "outpath = os.path.join(\n",
    "    \"04-graphics-outputs\",\n",
    "    \"spatial-plots\",\n",
    "    \"singapore\",\n",
    "    \"singapore-no2-aggregate-hexagon-grid-mean-change-jan-2019-2020.png\",\n",
    ")\n",
    "\n",
    "rd.save_figure(outpath)"
   ]
  },
  {
   "cell_type": "code",
   "execution_count": null,
   "metadata": {
    "ExecuteTime": {
     "end_time": "2020-11-04T20:11:53.848627Z",
     "start_time": "2020-11-04T20:11:50.626731Z"
    }
   },
   "outputs": [],
   "source": [
    "# Plot and export February 2019-2020 change\n",
    "fig, ax = stl.plot_aggregate_change(\n",
    "    aggregated_data=hexagon_grid_gdf,\n",
    "    magnitude_change=\"change_feb_2019_2020_magnitude\",\n",
    "    percent_change=\"change_feb_2019_2020_percent\",\n",
    "    vector_boundary=singapore_level_1_geometry,\n",
    "    plot_vector=True,\n",
    "    super_title=\"Singapore Nitrogen Dioxide Change, February 2019 to February 2020\",\n",
    "    data_source=\"European Space Agency\",\n",
    ")\n",
    "\n",
    "# Add Malaysia boundary\n",
    "for axis in [fig.axes[0], fig.axes[1]]:\n",
    "    malaysia_level_1_clipped.plot(\n",
    "        ax=axis, facecolor=\"None\", edgecolor=\"black\", linewidth=0.5\n",
    "    )\n",
    "\n",
    "# Export figure\n",
    "outpath = os.path.join(\n",
    "    \"04-graphics-outputs\",\n",
    "    \"spatial-plots\",\n",
    "    \"singapore\",\n",
    "    \"singapore-no2-aggregate-hexagon-grid-mean-change-feb-2019-2020.png\",\n",
    ")\n",
    "\n",
    "rd.save_figure(outpath)"
   ]
  },
  {
   "cell_type": "code",
   "execution_count": null,
   "metadata": {
    "ExecuteTime": {
     "end_time": "2020-11-04T20:11:57.185239Z",
     "start_time": "2020-11-04T20:11:53.848627Z"
    }
   },
   "outputs": [],
   "source": [
    "# Plot and export March 2019-2020 change\n",
    "fig, ax = stl.plot_aggregate_change(\n",
    "    aggregated_data=hexagon_grid_gdf,\n",
    "    magnitude_change=\"change_mar_2019_2020_magnitude\",\n",
    "    percent_change=\"change_mar_2019_2020_percent\",\n",
    "    vector_boundary=singapore_level_1_geometry,\n",
    "    plot_vector=True,\n",
    "    super_title=\"Singapore Nitrogen Dioxide Change, March 2019 to March 2020\",\n",
    "    data_source=\"European Space Agency\",\n",
    ")\n",
    "\n",
    "# Add Malaysia boundary\n",
    "for axis in [fig.axes[0], fig.axes[1]]:\n",
    "    malaysia_level_1_clipped.plot(\n",
    "        ax=axis, facecolor=\"None\", edgecolor=\"black\", linewidth=0.5\n",
    "    )\n",
    "\n",
    "# Export figure\n",
    "outpath = os.path.join(\n",
    "    \"04-graphics-outputs\",\n",
    "    \"spatial-plots\",\n",
    "    \"singapore\",\n",
    "    \"singapore-no2-aggregate-hexagon-grid-mean-change-mar-2019-2020.png\",\n",
    ")\n",
    "\n",
    "rd.save_figure(outpath)"
   ]
  },
  {
   "cell_type": "code",
   "execution_count": null,
   "metadata": {
    "ExecuteTime": {
     "end_time": "2020-11-04T20:12:00.273493Z",
     "start_time": "2020-11-04T20:11:57.185239Z"
    }
   },
   "outputs": [],
   "source": [
    "# Plot and export April 2019-2020 change\n",
    "fig, ax = stl.plot_aggregate_change(\n",
    "    aggregated_data=hexagon_grid_gdf,\n",
    "    magnitude_change=\"change_apr_2019_2020_magnitude\",\n",
    "    percent_change=\"change_apr_2019_2020_percent\",\n",
    "    vector_boundary=singapore_level_1_geometry,\n",
    "    plot_vector=True,\n",
    "    super_title=\"Singapore Nitrogen Dioxide Change, April 2019 to April 2020\",\n",
    "    data_source=\"European Space Agency\",\n",
    ")\n",
    "\n",
    "# Add Malaysia boundary\n",
    "for axis in [fig.axes[0], fig.axes[1]]:\n",
    "    malaysia_level_1_clipped.plot(\n",
    "        ax=axis, facecolor=\"None\", edgecolor=\"black\", linewidth=0.5\n",
    "    )\n",
    "\n",
    "# Export figure\n",
    "outpath = os.path.join(\n",
    "    \"04-graphics-outputs\",\n",
    "    \"spatial-plots\",\n",
    "    \"singapore\",\n",
    "    \"singapore-no2-aggregate-hexagon-grid-mean-change-apr-2019-2020.png\",\n",
    ")\n",
    "\n",
    "rd.save_figure(outpath)"
   ]
  },
  {
   "cell_type": "code",
   "execution_count": null,
   "metadata": {
    "ExecuteTime": {
     "end_time": "2020-11-04T20:12:03.403744Z",
     "start_time": "2020-11-04T20:12:00.273493Z"
    }
   },
   "outputs": [],
   "source": [
    "# Plot and export May 2019-2020 change\n",
    "fig, ax = stl.plot_aggregate_change(\n",
    "    aggregated_data=hexagon_grid_gdf,\n",
    "    magnitude_change=\"change_may_2019_2020_magnitude\",\n",
    "    percent_change=\"change_may_2019_2020_percent\",\n",
    "    vector_boundary=singapore_level_1_geometry,\n",
    "    plot_vector=True,\n",
    "    super_title=\"Singapore Nitrogen Dioxide Change, May 2019 to May 2020\",\n",
    "    data_source=\"European Space Agency\",\n",
    ")\n",
    "\n",
    "# Add Malaysia boundary\n",
    "for axis in [fig.axes[0], fig.axes[1]]:\n",
    "    malaysia_level_1_clipped.plot(\n",
    "        ax=axis, facecolor=\"None\", edgecolor=\"black\", linewidth=0.5\n",
    "    )\n",
    "\n",
    "# Export figure\n",
    "outpath = os.path.join(\n",
    "    \"04-graphics-outputs\",\n",
    "    \"spatial-plots\",\n",
    "    \"singapore\",\n",
    "    \"singapore-no2-aggregate-hexagon-grid-mean-change-may-2019-2020.png\",\n",
    ")\n",
    "\n",
    "rd.save_figure(outpath)"
   ]
  },
  {
   "cell_type": "code",
   "execution_count": null,
   "metadata": {
    "ExecuteTime": {
     "end_time": "2020-11-04T20:12:06.600729Z",
     "start_time": "2020-11-04T20:12:03.403744Z"
    }
   },
   "outputs": [],
   "source": [
    "# Plot and export June 2019-2020 change\n",
    "fig, ax = stl.plot_aggregate_change(\n",
    "    aggregated_data=hexagon_grid_gdf,\n",
    "    magnitude_change=\"change_jun_2019_2020_magnitude\",\n",
    "    percent_change=\"change_jun_2019_2020_percent\",\n",
    "    vector_boundary=singapore_level_1_geometry,\n",
    "    plot_vector=True,\n",
    "    super_title=\"Singapore Nitrogen Dioxide Change, June 2019 to June 2020\",\n",
    "    data_source=\"European Space Agency\",\n",
    ")\n",
    "\n",
    "# Add Malaysia boundary\n",
    "for axis in [fig.axes[0], fig.axes[1]]:\n",
    "    malaysia_level_1_clipped.plot(\n",
    "        ax=axis, facecolor=\"None\", edgecolor=\"black\", linewidth=0.5\n",
    "    )\n",
    "\n",
    "# Export figure\n",
    "outpath = os.path.join(\n",
    "    \"04-graphics-outputs\",\n",
    "    \"spatial-plots\",\n",
    "    \"singapore\",\n",
    "    \"singapore-no2-aggregate-hexagon-grid-mean-change-jun-2019-2020.png\",\n",
    ")\n",
    "\n",
    "rd.save_figure(outpath)"
   ]
  },
  {
   "cell_type": "code",
   "execution_count": null,
   "metadata": {
    "ExecuteTime": {
     "end_time": "2020-11-04T20:12:09.567153Z",
     "start_time": "2020-11-04T20:12:06.600729Z"
    }
   },
   "outputs": [],
   "source": [
    "# Plot and export July 2019-2020 change\n",
    "fig, ax = stl.plot_aggregate_change(\n",
    "    aggregated_data=hexagon_grid_gdf,\n",
    "    magnitude_change=\"change_jul_2019_2020_magnitude\",\n",
    "    percent_change=\"change_jul_2019_2020_percent\",\n",
    "    vector_boundary=singapore_level_1_geometry,\n",
    "    plot_vector=True,\n",
    "    super_title=\"Singapore Nitrogen Dioxide Change, July 2019 to July 2020\",\n",
    "    data_source=\"European Space Agency\",\n",
    ")\n",
    "\n",
    "# Add Malaysia boundary\n",
    "for axis in [fig.axes[0], fig.axes[1]]:\n",
    "    malaysia_level_1_clipped.plot(\n",
    "        ax=axis, facecolor=\"None\", edgecolor=\"black\", linewidth=0.5\n",
    "    )\n",
    "\n",
    "# Export figure\n",
    "outpath = os.path.join(\n",
    "    \"04-graphics-outputs\",\n",
    "    \"spatial-plots\",\n",
    "    \"singapore\",\n",
    "    \"singapore-no2-aggregate-hexagon-grid-mean-change-jul-2019-2020.png\",\n",
    ")\n",
    "\n",
    "rd.save_figure(outpath)"
   ]
  },
  {
   "cell_type": "markdown",
   "metadata": {},
   "source": [
    "# Data Export"
   ]
  },
  {
   "cell_type": "code",
   "execution_count": null,
   "metadata": {},
   "outputs": [],
   "source": []
  }
 ],
 "metadata": {
  "hide_input": false,
  "kernelspec": {
   "display_name": "Python 3",
   "language": "python",
   "name": "python3"
  },
  "language_info": {
   "codemirror_mode": {
    "name": "ipython",
    "version": 3
   },
   "file_extension": ".py",
   "mimetype": "text/x-python",
   "name": "python",
   "nbconvert_exporter": "python",
   "pygments_lexer": "ipython3",
   "version": "3.7.6"
  },
  "toc": {
   "base_numbering": 1,
   "nav_menu": {},
   "number_sections": true,
   "sideBar": true,
   "skip_h1_title": false,
   "title_cell": "Table of Contents",
   "title_sidebar": "Contents",
   "toc_cell": false,
   "toc_position": {
    "height": "calc(100% - 180px)",
    "left": "10px",
    "top": "150px",
    "width": "307.2px"
   },
   "toc_section_display": true,
   "toc_window_display": false
  },
  "varInspector": {
   "cols": {
    "lenName": 16,
    "lenType": 16,
    "lenVar": 40
   },
   "kernels_config": {
    "python": {
     "delete_cmd_postfix": "",
     "delete_cmd_prefix": "del ",
     "library": "var_list.py",
     "varRefreshCmd": "print(var_dic_list())"
    },
    "r": {
     "delete_cmd_postfix": ") ",
     "delete_cmd_prefix": "rm(",
     "library": "var_list.r",
     "varRefreshCmd": "cat(var_dic_list()) "
    }
   },
   "types_to_exclude": [
    "module",
    "function",
    "builtin_function_or_method",
    "instance",
    "_Feature"
   ],
   "window_display": false
  }
 },
 "nbformat": 4,
 "nbformat_minor": 4
}
