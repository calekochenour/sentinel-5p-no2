{
 "cells": [
  {
   "cell_type": "markdown",
   "metadata": {},
   "source": [
    "# NO2 Data Aggregation\n",
    "\n",
    "Aggregates NO2 values by administrative boundaries and a regular hexagon grid."
   ]
  },
  {
   "cell_type": "markdown",
   "metadata": {},
   "source": [
    "# Environment Setup"
   ]
  },
  {
   "cell_type": "code",
   "execution_count": null,
   "metadata": {
    "ExecuteTime": {
     "end_time": "2020-10-30T00:56:13.536904Z",
     "start_time": "2020-10-30T00:56:13.375894Z"
    }
   },
   "outputs": [],
   "source": [
    "# Load Notebook formatter\n",
    "%load_ext nb_black\n",
    "# %reload_ext nb_black"
   ]
  },
  {
   "cell_type": "code",
   "execution_count": null,
   "metadata": {
    "ExecuteTime": {
     "end_time": "2020-10-30T00:56:15.164725Z",
     "start_time": "2020-10-30T00:56:13.633645Z"
    }
   },
   "outputs": [],
   "source": [
    "# Import packages\n",
    "import os\n",
    "import matplotlib.pyplot as plt\n",
    "from mpl_toolkits.axes_grid1 import make_axes_locatable\n",
    "import seaborn as sns\n",
    "import rasterio as rio\n",
    "import geopandas as gpd\n",
    "import rasterstats as rs"
   ]
  },
  {
   "cell_type": "code",
   "execution_count": null,
   "metadata": {
    "ExecuteTime": {
     "end_time": "2020-10-30T00:56:15.291413Z",
     "start_time": "2020-10-30T00:56:15.283406Z"
    }
   },
   "outputs": [],
   "source": [
    "# Set Options\n",
    "# sns.set(font_scale=1.5, style=\"whitegrid\")\n",
    "# sns.set(font_scale=1.5)"
   ]
  },
  {
   "cell_type": "code",
   "execution_count": null,
   "metadata": {
    "ExecuteTime": {
     "end_time": "2020-10-30T00:56:15.396988Z",
     "start_time": "2020-10-30T00:56:15.383988Z"
    }
   },
   "outputs": [],
   "source": [
    "# Set working directory\n",
    "os.chdir(\"..\")\n",
    "print(f\"Working directory: {os.getcwd()}\")"
   ]
  },
  {
   "cell_type": "code",
   "execution_count": null,
   "metadata": {
    "ExecuteTime": {
     "end_time": "2020-10-30T00:56:20.161247Z",
     "start_time": "2020-10-30T00:56:20.136316Z"
    }
   },
   "outputs": [],
   "source": [
    "def rasterize(vector_grid, raster_path, zonal_stats=\"count sum\"):\n",
    "    \"\"\"Rasterizes values from a GeoTiff (or other\n",
    "    georeferenced raster) to a polygon grid.\n",
    "\n",
    "    Aggregates the sum by default.\n",
    "\n",
    "    Parameters\n",
    "    ----------\n",
    "    vector_grid : geopandas geodataframe\n",
    "        Geodataframe containing a grid of cells, sized to fit a \n",
    "        shapefile boundary.\n",
    "\n",
    "    raster_path : str\n",
    "        Path to the data the will be rasterized.\n",
    "\n",
    "    zonal_stats : space-delimited str, optional\n",
    "        Zonal statistics to calculate. Default value is 'count sum'.\n",
    "\n",
    "    Returns\n",
    "    -------\n",
    "    rasterized_grid : geopandas geodataframe\n",
    "        Input geodataframe with the rasterized values\n",
    "        and grid centroids added.\n",
    "\n",
    "    Example\n",
    "    -------\n",
    "        >>>\n",
    "        >>>\n",
    "        >>>\n",
    "        >>>\n",
    "    \"\"\"\n",
    "    # Open data for rasterizing\n",
    "    with rio.open(raster_path) as src:\n",
    "\n",
    "        # Extract array and metadata\n",
    "        src_array = src.read(1, masked=True)\n",
    "        src_meta = src.profile\n",
    "\n",
    "    # Create copy of input geodataframe (prevents altering original)\n",
    "    vector_grid_copy = vector_grid.copy()\n",
    "\n",
    "    # Extract zonal stats (list of dictionaries)\n",
    "    geojson_list = rs.zonal_stats(\n",
    "        vector_grid_copy,\n",
    "        src_array,\n",
    "        nodata=src_meta.get(\"nodata\"),\n",
    "        affine=src_meta.get(\"transform\"),\n",
    "        geojson_out=True,\n",
    "        copy_properties=True,\n",
    "        stats=zonal_stats,\n",
    "    )\n",
    "\n",
    "    # Convert list to geodataframe\n",
    "    rasterized_grid = gpd.GeoDataFrame.from_features(geojson_list)\n",
    "\n",
    "    return rasterized_grid"
   ]
  },
  {
   "cell_type": "markdown",
   "metadata": {},
   "source": [
    "# User-Defined Variables"
   ]
  },
  {
   "cell_type": "code",
   "execution_count": null,
   "metadata": {
    "ExecuteTime": {
     "end_time": "2020-10-30T00:56:28.410143Z",
     "start_time": "2020-10-30T00:56:28.152203Z"
    }
   },
   "outputs": [],
   "source": [
    "# Set path to path to South Korea shapefiles at levels 0, 1, and 2\n",
    "#  and hexagon grid\n",
    "south_korea_level_0_path = os.path.join(\n",
    "    \"02-raw-data\", \"vector\", \"south-korea\", \"gadm36_south_korea.shp\"\n",
    ")\n",
    "\n",
    "south_korea_level_0 = gpd.read_file(south_korea_level_0_path)\n",
    "\n",
    "south_korea_level_1_path = os.path.join(\n",
    "    \"02-raw-data\", \"vector\", \"south-korea\", \"gadm36_south_korea_level_1.shp\"\n",
    ")\n",
    "\n",
    "south_korea_level_2_path = os.path.join(\n",
    "    \"02-raw-data\", \"vector\", \"south-korea\", \"gadm36_south_korea_level_2.shp\"\n",
    ")\n",
    "\n",
    "south_korea_hexagon_grid_path = os.path.join(\n",
    "    \"03-processed-data\",\n",
    "    \"vector\",\n",
    "    \"south-korea\",\n",
    "    \"south_korea_hexagon_grid.shp\",\n",
    ")\n",
    "\n",
    "# Set path to March 2020 mean NO2 raster\n",
    "no2_mean_mar_2020_path = os.path.join(\n",
    "    \"03-processed-data\",\n",
    "    \"raster\",\n",
    "    \"south-korea\",\n",
    "    \"statistics\",\n",
    "    \"monthly\",\n",
    "    \"S5P-OFFL-L3-NO2-20200301-20200331-MEAN-MOL-PER-M2.tif\",\n",
    ")"
   ]
  },
  {
   "cell_type": "markdown",
   "metadata": {},
   "source": [
    "# Data Acquisition and Preprocessing"
   ]
  },
  {
   "cell_type": "code",
   "execution_count": null,
   "metadata": {
    "ExecuteTime": {
     "end_time": "2020-10-30T00:56:37.930932Z",
     "start_time": "2020-10-30T00:56:37.330560Z"
    }
   },
   "outputs": [],
   "source": [
    "# Read shapefiles into geodataframes\n",
    "south_korea_level_0 = gpd.read_file(south_korea_level_0_path)\n",
    "south_korea_level_1 = gpd.read_file(south_korea_level_1_path)\n",
    "south_korea_level_2 = gpd.read_file(south_korea_level_2_path)\n",
    "south_korea_hexagon_grid = gpd.read_file(south_korea_hexagon_grid_path)"
   ]
  },
  {
   "cell_type": "markdown",
   "metadata": {},
   "source": [
    "# Data Processing"
   ]
  },
  {
   "cell_type": "code",
   "execution_count": null,
   "metadata": {
    "ExecuteTime": {
     "end_time": "2020-10-30T00:57:00.155906Z",
     "start_time": "2020-10-30T00:56:56.271679Z"
    }
   },
   "outputs": [],
   "source": [
    "# Rasterize mean NO2 to boundaries\n",
    "rasterized_level_1 = rasterize(\n",
    "    vector_grid=south_korea_level_1,\n",
    "    raster_path=no2_mean_mar_2020_path,\n",
    "    zonal_stats=\"count mean\",\n",
    ")\n",
    "\n",
    "rasterized_level_2 = rasterize(\n",
    "    vector_grid=south_korea_level_2,\n",
    "    raster_path=no2_mean_mar_2020_path,\n",
    "    zonal_stats=\"count mean\",\n",
    ")\n",
    "\n",
    "rasterized_hexagon_grid = rasterize(\n",
    "    vector_grid=south_korea_hexagon_grid,\n",
    "    raster_path=no2_mean_mar_2020_path,\n",
    "    zonal_stats=\"count mean\",\n",
    ")"
   ]
  },
  {
   "cell_type": "markdown",
   "metadata": {},
   "source": [
    "# Data Post-Processing"
   ]
  },
  {
   "cell_type": "code",
   "execution_count": null,
   "metadata": {},
   "outputs": [],
   "source": []
  },
  {
   "cell_type": "markdown",
   "metadata": {},
   "source": [
    "# Data Visualization"
   ]
  },
  {
   "cell_type": "code",
   "execution_count": null,
   "metadata": {
    "ExecuteTime": {
     "end_time": "2020-10-30T00:58:34.104245Z",
     "start_time": "2020-10-30T00:58:33.345727Z"
    }
   },
   "outputs": [],
   "source": [
    "# Plot rasterized level 1 boundaries\n",
    "fig, ax = plt.subplots(figsize=(10, 10))\n",
    "divider = make_axes_locatable(ax)\n",
    "cax = divider.append_axes(\"right\", size=\"5%\", pad=0.1)\n",
    "rasterized_level_1.plot(\n",
    "    column=\"mean\", ax=ax, legend=True, cax=cax, cmap=\"inferno\"\n",
    ")\n",
    "\n",
    "plt.show()"
   ]
  },
  {
   "cell_type": "code",
   "execution_count": null,
   "metadata": {
    "ExecuteTime": {
     "end_time": "2020-10-30T00:59:02.102292Z",
     "start_time": "2020-10-30T00:59:01.229150Z"
    }
   },
   "outputs": [],
   "source": [
    "# Plot rasterized level 2 boundaries\n",
    "fig, ax = plt.subplots(figsize=(10, 10))\n",
    "divider = make_axes_locatable(ax)\n",
    "cax = divider.append_axes(\"right\", size=\"5%\", pad=0.1)\n",
    "rasterized_level_2.plot(\n",
    "    column=\"mean\", ax=ax, legend=True, cax=cax, cmap=\"inferno\"\n",
    ")\n",
    "\n",
    "plt.show()"
   ]
  },
  {
   "cell_type": "code",
   "execution_count": null,
   "metadata": {
    "ExecuteTime": {
     "end_time": "2020-10-30T01:00:22.647943Z",
     "start_time": "2020-10-30T01:00:21.455224Z"
    }
   },
   "outputs": [],
   "source": [
    "# Plot rasterized hexagon boundaries\n",
    "fig, ax = plt.subplots(figsize=(10, 10))\n",
    "divider = make_axes_locatable(ax)\n",
    "cax = divider.append_axes(\"right\", size=\"5%\", pad=0.1)\n",
    "rasterized_hexagon_grid.plot(\n",
    "    column=\"mean\",\n",
    "    ax=ax,\n",
    "    legend=True,\n",
    "    cax=cax,\n",
    "    cmap=\"inferno\",\n",
    "    #     edgecolor=\"white\",\n",
    "    #     linewidth=3,\n",
    ")\n",
    "south_korea_level_0.plot(\n",
    "    ax=ax, facecolor=\"None\", edgecolor=\"red\", linewidth=0.5\n",
    ")\n",
    "\n",
    "plt.show()"
   ]
  },
  {
   "cell_type": "code",
   "execution_count": null,
   "metadata": {
    "ExecuteTime": {
     "end_time": "2020-10-30T01:01:28.596837Z",
     "start_time": "2020-10-30T01:01:27.261430Z"
    }
   },
   "outputs": [],
   "source": [
    "# Plot rasterized hexagon boundaries\n",
    "with plt.style.context(\"dark_background\"):\n",
    "    fig, ax = plt.subplots(figsize=(10, 10))\n",
    "    divider = make_axes_locatable(ax)\n",
    "    cax = divider.append_axes(\"right\", size=\"5%\", pad=0.1)\n",
    "    rasterized_hexagon_grid.plot(\n",
    "        column=\"mean\",\n",
    "        ax=ax,\n",
    "        legend=True,\n",
    "        cax=cax,\n",
    "        cmap=\"inferno\",\n",
    "        edgecolor=\"white\",\n",
    "        linewidth=0.1,\n",
    "    )\n",
    "    south_korea_level_0.plot(\n",
    "        ax=ax, facecolor=\"None\", edgecolor=\"red\", linewidth=0.5\n",
    "    )"
   ]
  },
  {
   "cell_type": "markdown",
   "metadata": {},
   "source": [
    "# Data Export"
   ]
  },
  {
   "cell_type": "code",
   "execution_count": null,
   "metadata": {},
   "outputs": [],
   "source": []
  }
 ],
 "metadata": {
  "hide_input": false,
  "kernelspec": {
   "display_name": "Python 3",
   "language": "python",
   "name": "python3"
  },
  "language_info": {
   "codemirror_mode": {
    "name": "ipython",
    "version": 3
   },
   "file_extension": ".py",
   "mimetype": "text/x-python",
   "name": "python",
   "nbconvert_exporter": "python",
   "pygments_lexer": "ipython3",
   "version": "3.7.6"
  },
  "toc": {
   "base_numbering": 1,
   "nav_menu": {},
   "number_sections": true,
   "sideBar": true,
   "skip_h1_title": false,
   "title_cell": "Table of Contents",
   "title_sidebar": "Contents",
   "toc_cell": false,
   "toc_position": {},
   "toc_section_display": true,
   "toc_window_display": true
  },
  "varInspector": {
   "cols": {
    "lenName": 16,
    "lenType": 16,
    "lenVar": 40
   },
   "kernels_config": {
    "python": {
     "delete_cmd_postfix": "",
     "delete_cmd_prefix": "del ",
     "library": "var_list.py",
     "varRefreshCmd": "print(var_dic_list())"
    },
    "r": {
     "delete_cmd_postfix": ") ",
     "delete_cmd_prefix": "rm(",
     "library": "var_list.r",
     "varRefreshCmd": "cat(var_dic_list()) "
    }
   },
   "types_to_exclude": [
    "module",
    "function",
    "builtin_function_or_method",
    "instance",
    "_Feature"
   ],
   "window_display": false
  }
 },
 "nbformat": 4,
 "nbformat_minor": 4
}
