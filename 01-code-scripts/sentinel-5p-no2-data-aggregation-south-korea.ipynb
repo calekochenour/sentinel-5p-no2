{
 "cells": [
  {
   "cell_type": "markdown",
   "metadata": {},
   "source": [
    "# NO2 Data Aggregation\n",
    "\n",
    "Aggregates NO2 values by administrative boundaries and a regular hexagon grid.\n",
    "\n",
    "To convert from mol/m<sup>2</sup> to molecules/cm<sup>2</sup>, multiply by 6.022140857e+19 (6.022140857 * 10<sup>19</sup>)."
   ]
  },
  {
   "cell_type": "markdown",
   "metadata": {},
   "source": [
    "# Environment Setup"
   ]
  },
  {
   "cell_type": "code",
   "execution_count": null,
   "metadata": {
    "ExecuteTime": {
     "end_time": "2020-11-03T01:32:24.272842Z",
     "start_time": "2020-11-03T01:32:24.114617Z"
    }
   },
   "outputs": [],
   "source": [
    "# Load Notebook formatter\n",
    "%load_ext nb_black\n",
    "# %reload_ext nb_black"
   ]
  },
  {
   "cell_type": "code",
   "execution_count": null,
   "metadata": {
    "ExecuteTime": {
     "end_time": "2020-11-03T01:32:26.199092Z",
     "start_time": "2020-11-03T01:32:24.277226Z"
    }
   },
   "outputs": [],
   "source": [
    "# Import packages\n",
    "import os\n",
    "import glob\n",
    "import matplotlib.pyplot as plt\n",
    "from mpl_toolkits.axes_grid1 import make_axes_locatable\n",
    "import seaborn as sns\n",
    "import pandas as pd\n",
    "import geopandas as gpd\n",
    "import rasterio as rio\n",
    "import rasterstats as rs\n",
    "import sentinel as stl"
   ]
  },
  {
   "cell_type": "code",
   "execution_count": null,
   "metadata": {
    "ExecuteTime": {
     "end_time": "2020-11-03T01:32:26.216047Z",
     "start_time": "2020-11-03T01:32:26.202051Z"
    }
   },
   "outputs": [],
   "source": [
    "# Set Options\n",
    "# sns.set(font_scale=1.5, style=\"whitegrid\")\n",
    "sns.set(font_scale=1.5)\n",
    "pd.set_option(\"display.max_columns\", None)\n",
    "pd.set_option(\"precision\", 15)"
   ]
  },
  {
   "cell_type": "code",
   "execution_count": null,
   "metadata": {
    "ExecuteTime": {
     "end_time": "2020-11-03T01:32:26.231972Z",
     "start_time": "2020-11-03T01:32:26.219008Z"
    }
   },
   "outputs": [],
   "source": [
    "# Set working directory\n",
    "os.chdir(\"..\")\n",
    "print(f\"Working directory: {os.getcwd()}\")"
   ]
  },
  {
   "cell_type": "markdown",
   "metadata": {},
   "source": [
    "# User-Defined Variables"
   ]
  },
  {
   "cell_type": "code",
   "execution_count": null,
   "metadata": {
    "ExecuteTime": {
     "end_time": "2020-11-03T01:32:26.256937Z",
     "start_time": "2020-11-03T01:32:26.233966Z"
    }
   },
   "outputs": [],
   "source": [
    "# Set paths to South Korea shapefiles at levels 0, 1, and 2, and hexagon grid\n",
    "south_korea_level_0_path = os.path.join(\n",
    "    \"02-raw-data\", \"vector\", \"south-korea\", \"gadm36_south_korea.shp\"\n",
    ")\n",
    "\n",
    "south_korea_level_1_path = os.path.join(\n",
    "    \"02-raw-data\", \"vector\", \"south-korea\", \"gadm36_south_korea_level_1.shp\"\n",
    ")\n",
    "\n",
    "south_korea_level_2_path = os.path.join(\n",
    "    \"02-raw-data\", \"vector\", \"south-korea\", \"gadm36_south_korea_level_2.shp\"\n",
    ")\n",
    "\n",
    "south_korea_hexagon_grid_path = os.path.join(\n",
    "    \"03-processed-data\",\n",
    "    \"vector\",\n",
    "    \"south-korea\",\n",
    "    \"south_korea_hexagon_grid.shp\",\n",
    ")\n",
    "\n",
    "no2_means_foler = os.path.join(\n",
    "    \"03-processed-data\", \"raster\", \"south-korea\", \"statistics\", \"monthly\"\n",
    ")"
   ]
  },
  {
   "cell_type": "markdown",
   "metadata": {},
   "source": [
    "# Data Acquisition and Preprocessing"
   ]
  },
  {
   "cell_type": "code",
   "execution_count": null,
   "metadata": {
    "ExecuteTime": {
     "end_time": "2020-11-03T01:32:26.284833Z",
     "start_time": "2020-11-03T01:32:26.267876Z"
    }
   },
   "outputs": [],
   "source": [
    "# Get all NO2 means into list\n",
    "no2_means = sorted(glob.glob(os.path.join(no2_means_foler, \"*MEAN*tif\",)))"
   ]
  },
  {
   "cell_type": "markdown",
   "metadata": {},
   "source": [
    "# Data Processing"
   ]
  },
  {
   "cell_type": "markdown",
   "metadata": {},
   "source": [
    "Workflow:\n",
    "\n",
    "* Rasterize/aggregate each monthly mean (by mean) into the administrative boundaries (level 1, level 2, hexagon grid)\n",
    "    * Function to rasterize grid to geodataframe, drop all columns but the mean and geometry, and rename the mean to the month and year (mar_2020)\n",
    "* Combine/consolidate all months into single geodataframe\n",
    "    * Concatenated along 1-axis to combine, keeping only a single instance of the geometry column\n",
    "* Create change/difference (magnitude and/or percent) for months as necessary within consolidated geodataframe\n",
    "* Plot months and change on same figure"
   ]
  },
  {
   "cell_type": "code",
   "execution_count": null,
   "metadata": {
    "ExecuteTime": {
     "end_time": "2020-11-03T01:32:26.846660Z",
     "start_time": "2020-11-03T01:32:26.286825Z"
    }
   },
   "outputs": [],
   "source": [
    "# Get geodataframes with geometry only\n",
    "south_korea_level_0_geometry = stl.get_geometry(south_korea_level_0_path)\n",
    "south_korea_level_1_geometry = stl.get_geometry(south_korea_level_1_path)\n",
    "south_korea_level_2_geometry = stl.get_geometry(south_korea_level_2_path)\n",
    "south_korea_hexagon_grid_geometry = stl.get_geometry(\n",
    "    south_korea_hexagon_grid_path\n",
    ")"
   ]
  },
  {
   "cell_type": "code",
   "execution_count": null,
   "metadata": {
    "ExecuteTime": {
     "end_time": "2020-11-03T01:34:09.394092Z",
     "start_time": "2020-11-03T01:32:26.846660Z"
    }
   },
   "outputs": [],
   "source": [
    "# Aggregate to level 1 boundaries, level 2 boundaries, and hexagon grid\n",
    "aggregated_level_1 = [\n",
    "    stl.aggregate_raster_data(\n",
    "        raster_path=raster,\n",
    "        vector_path=south_korea_level_1_path,\n",
    "        zonal_statistics=\"count mean\",\n",
    "    )\n",
    "    for raster in no2_means\n",
    "]\n",
    "\n",
    "aggregated_level_2 = [\n",
    "    stl.aggregate_raster_data(\n",
    "        raster_path=raster,\n",
    "        vector_path=south_korea_level_2_path,\n",
    "        zonal_statistics=\"count mean\",\n",
    "    )\n",
    "    for raster in no2_means\n",
    "]\n",
    "\n",
    "aggregated_hexagon_grids = [\n",
    "    stl.aggregate_raster_data(\n",
    "        raster_path=raster,\n",
    "        vector_path=south_korea_hexagon_grid_path,\n",
    "        zonal_statistics=\"count mean\",\n",
    "    )\n",
    "    for raster in no2_means\n",
    "]"
   ]
  },
  {
   "cell_type": "code",
   "execution_count": null,
   "metadata": {
    "ExecuteTime": {
     "end_time": "2020-11-03T01:34:09.532079Z",
     "start_time": "2020-11-03T01:34:09.396062Z"
    }
   },
   "outputs": [],
   "source": [
    "# Set new column names\n",
    "new_names = [\n",
    "    \"jul_2018\",\n",
    "    \"aug_2018\",\n",
    "    \"sep_2018\",\n",
    "    \"oct_2018\",\n",
    "    \"nov_2018\",\n",
    "    \"dec_2018\",\n",
    "    \"jan_2019\",\n",
    "    \"feb_2019\",\n",
    "    \"mar_2019\",\n",
    "    \"apr_2019\",\n",
    "    \"may_2019\",\n",
    "    \"jun_2019\",\n",
    "    \"jul_2019\",\n",
    "    \"aug_2019\",\n",
    "    \"sep_2019\",\n",
    "    \"oct_2019\",\n",
    "    \"nov_2019\",\n",
    "    \"dec_2019\",\n",
    "    \"jan_2020\",\n",
    "    \"feb_2020\",\n",
    "    \"mar_2020\",\n",
    "    \"apr_2020\",\n",
    "    \"may_2020\",\n",
    "    \"jun_2020\",\n",
    "    \"jul_2020\",\n",
    "]\n",
    "\n",
    "# Clean NO2 dataframes\n",
    "cleaned_level_1 = [\n",
    "    stl.clean_data(geodatframe=gdf, new_name=new_names[index])\n",
    "    for (index, gdf) in enumerate(aggregated_level_1)\n",
    "]\n",
    "\n",
    "cleaned_level_2 = [\n",
    "    stl.clean_data(geodatframe=gdf, new_name=new_names[index])\n",
    "    for (index, gdf) in enumerate(aggregated_level_2)\n",
    "]\n",
    "\n",
    "cleaned_hexagon_grids = [\n",
    "    stl.clean_data(geodatframe=gdf, new_name=new_names[index])\n",
    "    for (index, gdf) in enumerate(aggregated_hexagon_grids)\n",
    "]"
   ]
  },
  {
   "cell_type": "code",
   "execution_count": null,
   "metadata": {
    "ExecuteTime": {
     "end_time": "2020-11-03T01:34:09.563999Z",
     "start_time": "2020-11-03T01:34:09.534074Z"
    }
   },
   "outputs": [],
   "source": [
    "# Get geodataframes with all months of data\n",
    "concatenated_level_1_gdf = south_korea_level_1_geometry.merge(\n",
    "    pd.concat(cleaned_level_1, axis=1), left_index=True, right_index=True\n",
    ")\n",
    "\n",
    "concatenated_level_2_gdf = south_korea_level_2_geometry.merge(\n",
    "    pd.concat(cleaned_level_2, axis=1), left_index=True, right_index=True\n",
    ")\n",
    "\n",
    "concatenated_hexagon_grids_gdf = south_korea_hexagon_grid_geometry.merge(\n",
    "    pd.concat(cleaned_hexagon_grids, axis=1), left_index=True, right_index=True\n",
    ")"
   ]
  },
  {
   "cell_type": "code",
   "execution_count": null,
   "metadata": {
    "ExecuteTime": {
     "end_time": "2020-11-03T01:34:09.595598Z",
     "start_time": "2020-11-03T01:34:09.565990Z"
    }
   },
   "outputs": [],
   "source": [
    "# Set months fot pre- and post-change\n",
    "pre_change_dates = [\n",
    "    \"jul_2018\",\n",
    "    \"aug_2018\",\n",
    "    \"sep_2018\",\n",
    "    \"oct_2018\",\n",
    "    \"nov_2018\",\n",
    "    \"dec_2018\",\n",
    "    \"jan_2019\",\n",
    "    \"feb_2019\",\n",
    "    \"mar_2019\",\n",
    "    \"apr_2019\",\n",
    "    \"may_2019\",\n",
    "    \"jun_2019\",\n",
    "    \"jul_2019\",\n",
    "]\n",
    "\n",
    "post_change_dates = [\n",
    "    \"jul_2019\",\n",
    "    \"aug_2019\",\n",
    "    \"sep_2019\",\n",
    "    \"oct_2019\",\n",
    "    \"nov_2019\",\n",
    "    \"dec_2019\",\n",
    "    \"jan_2020\",\n",
    "    \"feb_2020\",\n",
    "    \"mar_2020\",\n",
    "    \"apr_2020\",\n",
    "    \"may_2020\",\n",
    "    \"jun_2020\",\n",
    "    \"jul_2020\",\n",
    "]\n",
    "\n",
    "# Set new column names for magnitude and percent\n",
    "new_columns_magnitude = [\n",
    "    \"change_jul_2018_2019_magnitude\",\n",
    "    \"change_aug_2018_2019_magnitude\",\n",
    "    \"change_sep_2018_2019_magnitude\",\n",
    "    \"change_oct_2018_2019_magnitude\",\n",
    "    \"change_nov_2018_2019_magnitude\",\n",
    "    \"change_dec_2018_2019_magnitude\",\n",
    "    \"change_jan_2019_2020_magnitude\",\n",
    "    \"change_feb_2019_2020_magnitude\",\n",
    "    \"change_mar_2019_2020_magnitude\",\n",
    "    \"change_apr_2019_2020_magnitude\",\n",
    "    \"change_may_2019_2020_magnitude\",\n",
    "    \"change_jun_2019_2020_magnitude\",\n",
    "    \"change_jul_2019_2020_magnitude\",\n",
    "]\n",
    "\n",
    "new_columns_percent = [\n",
    "    \"change_jul_2018_2019_percent\",\n",
    "    \"change_aug_2018_2019_percent\",\n",
    "    \"change_sep_2018_2019_percent\",\n",
    "    \"change_oct_2018_2019_percent\",\n",
    "    \"change_nov_2018_2019_percent\",\n",
    "    \"change_dec_2018_2019_percent\",\n",
    "    \"change_jan_2019_2020_percent\",\n",
    "    \"change_feb_2019_2020_percent\",\n",
    "    \"change_mar_2019_2020_percent\",\n",
    "    \"change_apr_2019_2020_percent\",\n",
    "    \"change_may_2019_2020_percent\",\n",
    "    \"change_jun_2019_2020_percent\",\n",
    "    \"change_jul_2019_2020_percent\",\n",
    "]"
   ]
  },
  {
   "cell_type": "code",
   "execution_count": null,
   "metadata": {
    "ExecuteTime": {
     "end_time": "2020-11-03T01:34:09.702212Z",
     "start_time": "2020-11-03T01:34:09.597603Z"
    }
   },
   "outputs": [],
   "source": [
    "# Add magnitude and percent change for level 1 boundaries\n",
    "for index, add_column in enumerate(new_columns_magnitude):\n",
    "    try:\n",
    "        stl.add_change(\n",
    "            dataframe=concatenated_level_1_gdf,\n",
    "            pre_change_column=pre_change_dates[index],\n",
    "            post_change_column=post_change_dates[index],\n",
    "            new_column=add_column,\n",
    "            change_type=\"magnitude\",\n",
    "        )\n",
    "    except Exception as error:\n",
    "        print(error)\n",
    "\n",
    "for index, add_column in enumerate(new_columns_percent):\n",
    "    try:\n",
    "        stl.add_change(\n",
    "            dataframe=concatenated_level_1_gdf,\n",
    "            pre_change_column=pre_change_dates[index],\n",
    "            post_change_column=post_change_dates[index],\n",
    "            new_column=add_column,\n",
    "            change_type=\"percent\",\n",
    "        )\n",
    "    except Exception as error:\n",
    "        print(error)"
   ]
  },
  {
   "cell_type": "code",
   "execution_count": null,
   "metadata": {
    "ExecuteTime": {
     "end_time": "2020-11-03T01:34:09.985456Z",
     "start_time": "2020-11-03T01:34:09.704207Z"
    }
   },
   "outputs": [],
   "source": [
    "# Add magnitude and percent change for level 2 boundaries\n",
    "for index, add_column in enumerate(new_columns_magnitude):\n",
    "    try:\n",
    "        stl.add_change(\n",
    "            dataframe=concatenated_level_2_gdf,\n",
    "            pre_change_column=pre_change_dates[index],\n",
    "            post_change_column=post_change_dates[index],\n",
    "            new_column=add_column,\n",
    "            change_type=\"magnitude\",\n",
    "        )\n",
    "    except Exception as error:\n",
    "        print(error)\n",
    "\n",
    "for index, add_column in enumerate(new_columns_percent):\n",
    "    try:\n",
    "        stl.add_change(\n",
    "            dataframe=concatenated_level_2_gdf,\n",
    "            pre_change_column=pre_change_dates[index],\n",
    "            post_change_column=post_change_dates[index],\n",
    "            new_column=add_column,\n",
    "            change_type=\"percent\",\n",
    "        )\n",
    "    except Exception as error:\n",
    "        print(error)"
   ]
  },
  {
   "cell_type": "code",
   "execution_count": null,
   "metadata": {
    "ExecuteTime": {
     "end_time": "2020-11-03T01:34:10.730295Z",
     "start_time": "2020-11-03T01:34:09.988447Z"
    }
   },
   "outputs": [],
   "source": [
    "# Add magnitude and percent change for hexagon grid\n",
    "for index, add_column in enumerate(new_columns_magnitude):\n",
    "    try:\n",
    "        stl.add_change(\n",
    "            dataframe=concatenated_hexagon_grids_gdf,\n",
    "            pre_change_column=pre_change_dates[index],\n",
    "            post_change_column=post_change_dates[index],\n",
    "            new_column=add_column,\n",
    "            change_type=\"magnitude\",\n",
    "        )\n",
    "    except Exception as error:\n",
    "        print(error)\n",
    "\n",
    "for index, add_column in enumerate(new_columns_percent):\n",
    "    try:\n",
    "        stl.add_change(\n",
    "            dataframe=concatenated_hexagon_grids_gdf,\n",
    "            pre_change_column=pre_change_dates[index],\n",
    "            post_change_column=post_change_dates[index],\n",
    "            new_column=add_column,\n",
    "            change_type=\"percent\",\n",
    "        )\n",
    "    except Exception as error:\n",
    "        print(error)"
   ]
  },
  {
   "cell_type": "markdown",
   "metadata": {},
   "source": [
    "# Data Post-Processing"
   ]
  },
  {
   "cell_type": "code",
   "execution_count": null,
   "metadata": {},
   "outputs": [],
   "source": []
  },
  {
   "cell_type": "markdown",
   "metadata": {},
   "source": [
    "# Data Visualization"
   ]
  },
  {
   "cell_type": "code",
   "execution_count": null,
   "metadata": {},
   "outputs": [],
   "source": []
  },
  {
   "cell_type": "markdown",
   "metadata": {},
   "source": [
    "# Data Export"
   ]
  },
  {
   "cell_type": "code",
   "execution_count": null,
   "metadata": {
    "ExecuteTime": {
     "end_time": "2020-11-03T01:34:14.103672Z",
     "start_time": "2020-11-03T01:34:10.732288Z"
    }
   },
   "outputs": [],
   "source": [
    "# Export level 1 boundaries\n",
    "# CSV\n",
    "concatenated_level_1_gdf.to_csv(\n",
    "    path_or_buf=os.path.join(\n",
    "        \"03-processed-data\",\n",
    "        \"csv\",\n",
    "        \"south-korea\",\n",
    "        \"aggregate-level-1-jul-2018-jul-2020.csv\",\n",
    "    ),\n",
    "    sep=\",\",\n",
    "    header=True,\n",
    "    index=False,\n",
    ")\n",
    "\n",
    "# Shapfile\n",
    "concatenated_level_1_gdf.to_file(\n",
    "    filename=os.path.join(\n",
    "        \"03-processed-data\",\n",
    "        \"vector\",\n",
    "        \"south-korea\",\n",
    "        \"aggregate_level_1_jul_2018_jul_2020.shp\",\n",
    "    ),\n",
    "    driver=\"ESRI Shapefile\",\n",
    "    index=False,\n",
    ")"
   ]
  },
  {
   "cell_type": "code",
   "execution_count": null,
   "metadata": {
    "ExecuteTime": {
     "end_time": "2020-11-03T01:34:20.980106Z",
     "start_time": "2020-11-03T01:34:14.105633Z"
    }
   },
   "outputs": [],
   "source": [
    "# Export level 2 boundaries\n",
    "# CSV\n",
    "concatenated_level_2_gdf.to_csv(\n",
    "    path_or_buf=os.path.join(\n",
    "        \"03-processed-data\",\n",
    "        \"csv\",\n",
    "        \"south-korea\",\n",
    "        \"aggregate-level-2-jul-2018-jul-2020.csv\",\n",
    "    ),\n",
    "    sep=\",\",\n",
    "    header=True,\n",
    "    index=False,\n",
    ")\n",
    "\n",
    "# Shapefile\n",
    "concatenated_level_2_gdf.to_file(\n",
    "    filename=os.path.join(\n",
    "        \"03-processed-data\",\n",
    "        \"vector\",\n",
    "        \"south-korea\",\n",
    "        \"aggregate_level_2_jul_2018_jul_2020.shp\",\n",
    "    ),\n",
    "    driver=\"ESRI Shapefile\",\n",
    "    index=False,\n",
    ")"
   ]
  },
  {
   "cell_type": "code",
   "execution_count": null,
   "metadata": {
    "ExecuteTime": {
     "end_time": "2020-11-03T01:34:22.600263Z",
     "start_time": "2020-11-03T01:34:20.980106Z"
    }
   },
   "outputs": [],
   "source": [
    "# Export hexagon grid\n",
    "# CSV\n",
    "concatenated_hexagon_grids_gdf.to_csv(\n",
    "    path_or_buf=os.path.join(\n",
    "        \"03-processed-data\",\n",
    "        \"csv\",\n",
    "        \"south-korea\",\n",
    "        \"aggregate-hexagon-grid-jul-2018-jul-2020.csv\",\n",
    "    ),\n",
    "    sep=\",\",\n",
    "    header=True,\n",
    "    index=False,\n",
    ")\n",
    "\n",
    "# Shapefile\n",
    "concatenated_hexagon_grids_gdf.to_file(\n",
    "    filename=os.path.join(\n",
    "        \"03-processed-data\",\n",
    "        \"vector\",\n",
    "        \"south-korea\",\n",
    "        \"aggregate_hexagon_grid_jul_2018_jul_2020.shp\",\n",
    "    ),\n",
    "    driver=\"ESRI Shapefile\",\n",
    "    index=False,\n",
    ")"
   ]
  }
 ],
 "metadata": {
  "hide_input": false,
  "kernelspec": {
   "display_name": "Python 3",
   "language": "python",
   "name": "python3"
  },
  "language_info": {
   "codemirror_mode": {
    "name": "ipython",
    "version": 3
   },
   "file_extension": ".py",
   "mimetype": "text/x-python",
   "name": "python",
   "nbconvert_exporter": "python",
   "pygments_lexer": "ipython3",
   "version": "3.7.6"
  },
  "toc": {
   "base_numbering": 1,
   "nav_menu": {},
   "number_sections": true,
   "sideBar": true,
   "skip_h1_title": false,
   "title_cell": "Table of Contents",
   "title_sidebar": "Contents",
   "toc_cell": false,
   "toc_position": {},
   "toc_section_display": true,
   "toc_window_display": true
  },
  "varInspector": {
   "cols": {
    "lenName": 16,
    "lenType": 16,
    "lenVar": 40
   },
   "kernels_config": {
    "python": {
     "delete_cmd_postfix": "",
     "delete_cmd_prefix": "del ",
     "library": "var_list.py",
     "varRefreshCmd": "print(var_dic_list())"
    },
    "r": {
     "delete_cmd_postfix": ") ",
     "delete_cmd_prefix": "rm(",
     "library": "var_list.r",
     "varRefreshCmd": "cat(var_dic_list()) "
    }
   },
   "types_to_exclude": [
    "module",
    "function",
    "builtin_function_or_method",
    "instance",
    "_Feature"
   ],
   "window_display": false
  }
 },
 "nbformat": 4,
 "nbformat_minor": 4
}
