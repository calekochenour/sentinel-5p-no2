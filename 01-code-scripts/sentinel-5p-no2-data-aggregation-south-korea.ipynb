{
 "cells": [
  {
   "cell_type": "markdown",
   "metadata": {},
   "source": [
    "# NO2 Data Aggregation\n",
    "\n",
    "Aggregates NO2 values by administrative boundaries and a regular hexagon grid.\n",
    "\n",
    "To convert from mol/m<sup>2</sup> to molecules/cm<sup>2</sup>, multiply by 6.022140857e+19 (6.022140857 * 10<sup>19</sup>)."
   ]
  },
  {
   "cell_type": "markdown",
   "metadata": {},
   "source": [
    "# Environment Setup"
   ]
  },
  {
   "cell_type": "code",
   "execution_count": null,
   "metadata": {
    "ExecuteTime": {
     "end_time": "2020-10-31T00:19:09.024286Z",
     "start_time": "2020-10-31T00:19:08.879297Z"
    }
   },
   "outputs": [],
   "source": [
    "# Load Notebook formatter\n",
    "%load_ext nb_black\n",
    "# %reload_ext nb_black"
   ]
  },
  {
   "cell_type": "code",
   "execution_count": null,
   "metadata": {
    "ExecuteTime": {
     "end_time": "2020-10-31T00:19:10.595325Z",
     "start_time": "2020-10-31T00:19:09.214692Z"
    }
   },
   "outputs": [],
   "source": [
    "# Import packages\n",
    "import os\n",
    "import glob\n",
    "import matplotlib.pyplot as plt\n",
    "from mpl_toolkits.axes_grid1 import make_axes_locatable\n",
    "import seaborn as sns\n",
    "import pandas as pd\n",
    "import geopandas as gpd\n",
    "import rasterio as rio\n",
    "import rasterstats as rs"
   ]
  },
  {
   "cell_type": "code",
   "execution_count": null,
   "metadata": {
    "ExecuteTime": {
     "end_time": "2020-10-31T00:19:10.688310Z",
     "start_time": "2020-10-31T00:19:10.671833Z"
    }
   },
   "outputs": [],
   "source": [
    "# Set Options\n",
    "# sns.set(font_scale=1.5, style=\"whitegrid\")\n",
    "sns.set(font_scale=1.5)\n",
    "pd.set_option(\"display.max_columns\", None)\n",
    "pd.set_option(\"precision\", 15)"
   ]
  },
  {
   "cell_type": "code",
   "execution_count": null,
   "metadata": {
    "ExecuteTime": {
     "end_time": "2020-10-31T00:19:10.777956Z",
     "start_time": "2020-10-31T00:19:10.761199Z"
    }
   },
   "outputs": [],
   "source": [
    "# Set working directory\n",
    "os.chdir(\"..\")\n",
    "print(f\"Working directory: {os.getcwd()}\")"
   ]
  },
  {
   "cell_type": "code",
   "execution_count": null,
   "metadata": {
    "ExecuteTime": {
     "end_time": "2020-10-31T00:19:12.445016Z",
     "start_time": "2020-10-31T00:19:12.420023Z"
    }
   },
   "outputs": [],
   "source": [
    "def aggregate_raster_data(\n",
    "    raster_path, vector_path, zonal_statistics=\"count sum\"\n",
    "):\n",
    "    \"\"\"Aggregates raster data to vector polygons, based on specified\n",
    "    aggregation metrics.\n",
    "\n",
    "    Parameters\n",
    "    ----------\n",
    "    raster_path : str\n",
    "        Path to raster file containing data that will be aggregated.\n",
    "\n",
    "    vector_path : str\n",
    "        Path to the vector file containing polygons to which data will\n",
    "        be aggregated.\n",
    "\n",
    "    zonal_statistics : space-delimited str, optional\n",
    "        Zonal statistics to calculate. Default value is 'count sum'.\n",
    "\n",
    "    Returns\n",
    "    -------\n",
    "    aggregated_data : geopandas geodataframe\n",
    "        Geodataframe containing the raster data aggreagated with the\n",
    "        vector polygons.\n",
    "\n",
    "    Example\n",
    "    -------\n",
    "        >>>\n",
    "        >>>\n",
    "        >>>\n",
    "        >>>\n",
    "    \"\"\"\n",
    "    # Extract data and metadata from raster\n",
    "    with rio.open(raster_path) as src:\n",
    "        data = src.read(1, masked=True)\n",
    "        metadata = src.profile\n",
    "\n",
    "    # Extract zonal stats into geodataframe\n",
    "    aggregated_data = gpd.GeoDataFrame.from_features(\n",
    "        rs.zonal_stats(\n",
    "            vectors=gpd.read_file(vector_path),\n",
    "            raster=data,\n",
    "            nodata=metadata.get(\"nodata\"),\n",
    "            affine=metadata.get(\"transform\"),\n",
    "            geojson_out=True,\n",
    "            copy_properties=True,\n",
    "            stats=zonal_statistics,\n",
    "        )\n",
    "    )\n",
    "\n",
    "    return aggregated_data"
   ]
  },
  {
   "cell_type": "code",
   "execution_count": null,
   "metadata": {
    "ExecuteTime": {
     "end_time": "2020-10-31T00:19:12.591437Z",
     "start_time": "2020-10-31T00:19:12.575532Z"
    }
   },
   "outputs": [],
   "source": [
    "def magnitude_change(pre_change, post_change):\n",
    "    \"\"\"Calculates the magnitude change.\n",
    "    \"\"\"\n",
    "    # Calculate magnitude change\n",
    "    change = post_change - pre_change\n",
    "\n",
    "    return change"
   ]
  },
  {
   "cell_type": "code",
   "execution_count": null,
   "metadata": {
    "ExecuteTime": {
     "end_time": "2020-10-31T00:19:12.715570Z",
     "start_time": "2020-10-31T00:19:12.700578Z"
    }
   },
   "outputs": [],
   "source": [
    "def percent_change(pre_change, post_change):\n",
    "    \"\"\"Calculates the percent change.\n",
    "    \"\"\"\n",
    "    # Calculate percent change\n",
    "    change = (\n",
    "        (post_change - pre_change) / pre_change * 100 if pre_change != 0 else 0\n",
    "    )\n",
    "\n",
    "    return change"
   ]
  },
  {
   "cell_type": "code",
   "execution_count": null,
   "metadata": {
    "ExecuteTime": {
     "end_time": "2020-10-31T00:19:12.875577Z",
     "start_time": "2020-10-31T00:19:12.856921Z"
    }
   },
   "outputs": [],
   "source": [
    "def get_geometry(shapefile_path, geometry_column=\"geometry\"):\n",
    "    \"\"\"Returns a geodataframe with only the index and geometry columns.\n",
    "    \"\"\"\n",
    "    # Get geodataframe with only geometry column\n",
    "    geometry = gpd.read_file(shapefile_path)[[geometry_column]]\n",
    "\n",
    "    return geometry"
   ]
  },
  {
   "cell_type": "code",
   "execution_count": null,
   "metadata": {
    "ExecuteTime": {
     "end_time": "2020-10-31T00:19:13.026943Z",
     "start_time": "2020-10-31T00:19:13.006350Z"
    }
   },
   "outputs": [],
   "source": [
    "def clean_data(geodatframe, new_name):\n",
    "    \"\"\"Creates a new dataframe with only the mean data and renames\n",
    "    the mean column to a specified name.\n",
    "    \"\"\"\n",
    "    # Create new dataframe with mean data and rename column\n",
    "    cleaned_data = geodatframe[[\"mean\"]].rename(\n",
    "        columns={\"mean\": new_name}, copy=True\n",
    "    )\n",
    "\n",
    "    return cleaned_data"
   ]
  },
  {
   "cell_type": "code",
   "execution_count": null,
   "metadata": {
    "ExecuteTime": {
     "end_time": "2020-10-31T00:19:13.201728Z",
     "start_time": "2020-10-31T00:19:13.170637Z"
    }
   },
   "outputs": [],
   "source": [
    "def add_change(\n",
    "    dataframe,\n",
    "    pre_change_column,\n",
    "    post_change_column,\n",
    "    new_column,\n",
    "    change_type=\"magnitude\",\n",
    "):\n",
    "    \"\"\"Calculates and adds a magnitude or percent change column \n",
    "    to all dataframe rows, based on two input columns.\n",
    "    \"\"\"\n",
    "    # Calculate and add change\n",
    "    dataframe[new_column] = (\n",
    "        dataframe.apply(\n",
    "            lambda row: magnitude_change(\n",
    "                pre_change=row[pre_change_column],\n",
    "                post_change=row[post_change_column],\n",
    "            ),\n",
    "            axis=1,\n",
    "        )\n",
    "        if change_type == \"magnitude\"\n",
    "        else dataframe.apply(\n",
    "            lambda row: percent_change(\n",
    "                pre_change=row[pre_change_column],\n",
    "                post_change=row[post_change_column],\n",
    "            ),\n",
    "            axis=1,\n",
    "        )\n",
    "    )\n",
    "\n",
    "    # Set output message\n",
    "    message = print(f\"Added new column: {new_column}\")\n",
    "\n",
    "    return message"
   ]
  },
  {
   "cell_type": "markdown",
   "metadata": {},
   "source": [
    "# User-Defined Variables"
   ]
  },
  {
   "cell_type": "code",
   "execution_count": null,
   "metadata": {
    "ExecuteTime": {
     "end_time": "2020-10-31T00:19:16.272501Z",
     "start_time": "2020-10-31T00:19:16.013484Z"
    }
   },
   "outputs": [],
   "source": [
    "# Set paths to South Korea shapefiles at levels 0, 1, and 2, and hexagon grid\n",
    "south_korea_level_0_path = os.path.join(\n",
    "    \"02-raw-data\", \"vector\", \"south-korea\", \"gadm36_south_korea.shp\"\n",
    ")\n",
    "\n",
    "south_korea_level_0 = gpd.read_file(south_korea_level_0_path)\n",
    "\n",
    "south_korea_level_1_path = os.path.join(\n",
    "    \"02-raw-data\", \"vector\", \"south-korea\", \"gadm36_south_korea_level_1.shp\"\n",
    ")\n",
    "\n",
    "south_korea_level_2_path = os.path.join(\n",
    "    \"02-raw-data\", \"vector\", \"south-korea\", \"gadm36_south_korea_level_2.shp\"\n",
    ")\n",
    "\n",
    "south_korea_hexagon_grid_path = os.path.join(\n",
    "    \"03-processed-data\",\n",
    "    \"vector\",\n",
    "    \"south-korea\",\n",
    "    \"south_korea_hexagon_grid.shp\",\n",
    ")"
   ]
  },
  {
   "cell_type": "code",
   "execution_count": null,
   "metadata": {
    "ExecuteTime": {
     "end_time": "2020-10-31T00:19:21.310158Z",
     "start_time": "2020-10-31T00:19:21.215073Z"
    }
   },
   "outputs": [],
   "source": [
    "# Set paths to mean NO2 rasters\n",
    "no2_mean_jul_2018_path = os.path.join(\n",
    "    \"03-processed-data\",\n",
    "    \"raster\",\n",
    "    \"south-korea\",\n",
    "    \"statistics\",\n",
    "    \"monthly\",\n",
    "    \"S5P-OFFL-L3-NO2-20180701-20180731-MEAN-MOL-PER-M2.tif\",\n",
    ")\n",
    "\n",
    "no2_mean_aug_2018_path = os.path.join(\n",
    "    \"03-processed-data\",\n",
    "    \"raster\",\n",
    "    \"south-korea\",\n",
    "    \"statistics\",\n",
    "    \"monthly\",\n",
    "    \"S5P-OFFL-L3-NO2-20180801-20180831-MEAN-MOL-PER-M2.tif\",\n",
    ")\n",
    "\n",
    "no2_mean_sep_2018_path = os.path.join(\n",
    "    \"03-processed-data\",\n",
    "    \"raster\",\n",
    "    \"south-korea\",\n",
    "    \"statistics\",\n",
    "    \"monthly\",\n",
    "    \"S5P-OFFL-L3-NO2-20180901-20180930-MEAN-MOL-PER-M2.tif\",\n",
    ")\n",
    "\n",
    "no2_mean_oct_2018_path = os.path.join(\n",
    "    \"03-processed-data\",\n",
    "    \"raster\",\n",
    "    \"south-korea\",\n",
    "    \"statistics\",\n",
    "    \"monthly\",\n",
    "    \"S5P-OFFL-L3-NO2-20181001-20181031-MEAN-MOL-PER-M2.tif\",\n",
    ")\n",
    "\n",
    "no2_mean_nov_2018_path = os.path.join(\n",
    "    \"03-processed-data\",\n",
    "    \"raster\",\n",
    "    \"south-korea\",\n",
    "    \"statistics\",\n",
    "    \"monthly\",\n",
    "    \"S5P-OFFL-L3-NO2-20181101-20181130-MEAN-MOL-PER-M2.tif\",\n",
    ")\n",
    "\n",
    "no2_mean_dec_2018_path = os.path.join(\n",
    "    \"03-processed-data\",\n",
    "    \"raster\",\n",
    "    \"south-korea\",\n",
    "    \"statistics\",\n",
    "    \"monthly\",\n",
    "    \"S5P-OFFL-L3-NO2-20181201-20181231-MEAN-MOL-PER-M2.tif\",\n",
    ")\n",
    "\n",
    "no2_mean_jan_2019_path = os.path.join(\n",
    "    \"03-processed-data\",\n",
    "    \"raster\",\n",
    "    \"south-korea\",\n",
    "    \"statistics\",\n",
    "    \"monthly\",\n",
    "    \"S5P-OFFL-L3-NO2-20190101-20190131-MEAN-MOL-PER-M2.tif\",\n",
    ")\n",
    "\n",
    "no2_mean_feb_2019_path = os.path.join(\n",
    "    \"03-processed-data\",\n",
    "    \"raster\",\n",
    "    \"south-korea\",\n",
    "    \"statistics\",\n",
    "    \"monthly\",\n",
    "    \"S5P-OFFL-L3-NO2-20190201-20190228-MEAN-MOL-PER-M2.tif\",\n",
    ")\n",
    "\n",
    "no2_mean_mar_2019_path = os.path.join(\n",
    "    \"03-processed-data\",\n",
    "    \"raster\",\n",
    "    \"south-korea\",\n",
    "    \"statistics\",\n",
    "    \"monthly\",\n",
    "    \"S5P-OFFL-L3-NO2-20190301-20190331-MEAN-MOL-PER-M2.tif\",\n",
    ")\n",
    "\n",
    "no2_mean_apr_2019_path = os.path.join(\n",
    "    \"03-processed-data\",\n",
    "    \"raster\",\n",
    "    \"south-korea\",\n",
    "    \"statistics\",\n",
    "    \"monthly\",\n",
    "    \"S5P-OFFL-L3-NO2-20190401-20190430-MEAN-MOL-PER-M2.tif\",\n",
    ")\n",
    "\n",
    "no2_mean_may_2019_path = os.path.join(\n",
    "    \"03-processed-data\",\n",
    "    \"raster\",\n",
    "    \"south-korea\",\n",
    "    \"statistics\",\n",
    "    \"monthly\",\n",
    "    \"S5P-OFFL-L3-NO2-20190501-20190531-MEAN-MOL-PER-M2.tif\",\n",
    ")\n",
    "\n",
    "no2_mean_jun_2019_path = os.path.join(\n",
    "    \"03-processed-data\",\n",
    "    \"raster\",\n",
    "    \"south-korea\",\n",
    "    \"statistics\",\n",
    "    \"monthly\",\n",
    "    \"S5P-OFFL-L3-NO2-20190601-20190630-MEAN-MOL-PER-M2.tif\",\n",
    ")\n",
    "\n",
    "no2_mean_jul_2019_path = os.path.join(\n",
    "    \"03-processed-data\",\n",
    "    \"raster\",\n",
    "    \"south-korea\",\n",
    "    \"statistics\",\n",
    "    \"monthly\",\n",
    "    \"S5P-OFFL-L3-NO2-20190701-20190731-MEAN-MOL-PER-M2.tif\",\n",
    ")\n",
    "\n",
    "no2_mean_aug_2019_path = os.path.join(\n",
    "    \"03-processed-data\",\n",
    "    \"raster\",\n",
    "    \"south-korea\",\n",
    "    \"statistics\",\n",
    "    \"monthly\",\n",
    "    \"S5P-OFFL-L3-NO2-20190801-20190831-MEAN-MOL-PER-M2.tif\",\n",
    ")\n",
    "\n",
    "no2_mean_sep_2019_path = os.path.join(\n",
    "    \"03-processed-data\",\n",
    "    \"raster\",\n",
    "    \"south-korea\",\n",
    "    \"statistics\",\n",
    "    \"monthly\",\n",
    "    \"S5P-OFFL-L3-NO2-20190901-20190930-MEAN-MOL-PER-M2.tif\",\n",
    ")\n",
    "\n",
    "no2_mean_oct_2019_path = os.path.join(\n",
    "    \"03-processed-data\",\n",
    "    \"raster\",\n",
    "    \"south-korea\",\n",
    "    \"statistics\",\n",
    "    \"monthly\",\n",
    "    \"S5P-OFFL-L3-NO2-20191001-20191031-MEAN-MOL-PER-M2.tif\",\n",
    ")\n",
    "\n",
    "no2_mean_nov_2019_path = os.path.join(\n",
    "    \"03-processed-data\",\n",
    "    \"raster\",\n",
    "    \"south-korea\",\n",
    "    \"statistics\",\n",
    "    \"monthly\",\n",
    "    \"S5P-OFFL-L3-NO2-20191101-20191130-MEAN-MOL-PER-M2.tif\",\n",
    ")\n",
    "\n",
    "no2_mean_dec_2019_path = os.path.join(\n",
    "    \"03-processed-data\",\n",
    "    \"raster\",\n",
    "    \"south-korea\",\n",
    "    \"statistics\",\n",
    "    \"monthly\",\n",
    "    \"S5P-OFFL-L3-NO2-20191201-20191231-MEAN-MOL-PER-M2.tif\",\n",
    ")\n",
    "\n",
    "no2_mean_jan_2020_path = os.path.join(\n",
    "    \"03-processed-data\",\n",
    "    \"raster\",\n",
    "    \"south-korea\",\n",
    "    \"statistics\",\n",
    "    \"monthly\",\n",
    "    \"S5P-OFFL-L3-NO2-20200101-20200131-MEAN-MOL-PER-M2.tif\",\n",
    ")\n",
    "\n",
    "no2_mean_feb_2020_path = os.path.join(\n",
    "    \"03-processed-data\",\n",
    "    \"raster\",\n",
    "    \"south-korea\",\n",
    "    \"statistics\",\n",
    "    \"monthly\",\n",
    "    \"S5P-OFFL-L3-NO2-20200201-20200229-MEAN-MOL-PER-M2.tif\",\n",
    ")\n",
    "\n",
    "no2_mean_mar_2020_path = os.path.join(\n",
    "    \"03-processed-data\",\n",
    "    \"raster\",\n",
    "    \"south-korea\",\n",
    "    \"statistics\",\n",
    "    \"monthly\",\n",
    "    \"S5P-OFFL-L3-NO2-20200301-20200331-MEAN-MOL-PER-M2.tif\",\n",
    ")\n",
    "\n",
    "no2_mean_apr_2020_path = os.path.join(\n",
    "    \"03-processed-data\",\n",
    "    \"raster\",\n",
    "    \"south-korea\",\n",
    "    \"statistics\",\n",
    "    \"monthly\",\n",
    "    \"S5P-OFFL-L3-NO2-20200401-20200430-MEAN-MOL-PER-M2.tif\",\n",
    ")\n",
    "\n",
    "no2_mean_may_2020_path = os.path.join(\n",
    "    \"03-processed-data\",\n",
    "    \"raster\",\n",
    "    \"south-korea\",\n",
    "    \"statistics\",\n",
    "    \"monthly\",\n",
    "    \"S5P-OFFL-L3-NO2-20200501-20200531-MEAN-MOL-PER-M2.tif\",\n",
    ")\n",
    "\n",
    "no2_mean_jun_2020_path = os.path.join(\n",
    "    \"03-processed-data\",\n",
    "    \"raster\",\n",
    "    \"south-korea\",\n",
    "    \"statistics\",\n",
    "    \"monthly\",\n",
    "    \"S5P-OFFL-L3-NO2-20200601-20200630-MEAN-MOL-PER-M2.tif\",\n",
    ")\n",
    "\n",
    "no2_mean_jul_2020_path = os.path.join(\n",
    "    \"03-processed-data\",\n",
    "    \"raster\",\n",
    "    \"south-korea\",\n",
    "    \"statistics\",\n",
    "    \"monthly\",\n",
    "    \"S5P-OFFL-L3-NO2-20200701-20200731-MEAN-MOL-PER-M2.tif\",\n",
    ")"
   ]
  },
  {
   "cell_type": "markdown",
   "metadata": {},
   "source": [
    "# Data Acquisition and Preprocessing"
   ]
  },
  {
   "cell_type": "code",
   "execution_count": null,
   "metadata": {
    "ExecuteTime": {
     "end_time": "2020-10-30T15:34:14.321008Z",
     "start_time": "2020-10-30T15:34:13.647213Z"
    }
   },
   "outputs": [],
   "source": [
    "# Read shapefiles into geodataframes\n",
    "# south_korea_level_0 = gpd.read_file(south_korea_level_0_path)\n",
    "# south_korea_level_1 = gpd.read_file(south_korea_level_1_path)\n",
    "# south_korea_level_2 = gpd.read_file(south_korea_level_2_path)\n",
    "# south_korea_hexagon_grid = gpd.read_file(south_korea_hexagon_grid_path)"
   ]
  },
  {
   "cell_type": "markdown",
   "metadata": {},
   "source": [
    "# Data Processing"
   ]
  },
  {
   "cell_type": "markdown",
   "metadata": {},
   "source": [
    "Workflow:\n",
    "\n",
    "* Rasterize/aggregate each monthly mean (by mean) into the administrative boundaries (level 1, level 2, hexagon grid)\n",
    "    * Function to rasterize grid to geodataframe, drop all columns but the mean and geometry, and rename the mean to the month and year (mar_2020)\n",
    "* Combine/consolidate all months into single geodataframe\n",
    "    * Concatenated along 1-axis to combine, keeping only a single instance of the geometry column\n",
    "* Create change/difference (magnitude and/or percent) for months as necessary within consolidated geodataframe\n",
    "* Plot months and change on same figure"
   ]
  },
  {
   "cell_type": "code",
   "execution_count": null,
   "metadata": {
    "ExecuteTime": {
     "end_time": "2020-10-31T00:20:02.812459Z",
     "start_time": "2020-10-31T00:19:26.577792Z"
    }
   },
   "outputs": [],
   "source": [
    "# Aggregate to hexagon grid\n",
    "aggregated_hexagon_grid_jul_2018 = aggregate_raster_data(\n",
    "    raster_path=no2_mean_jul_2018_path,\n",
    "    vector_path=south_korea_hexagon_grid_path,\n",
    "    zonal_statistics=\"count mean\",\n",
    ")\n",
    "\n",
    "aggregated_hexagon_grid_aug_2018 = aggregate_raster_data(\n",
    "    raster_path=no2_mean_aug_2018_path,\n",
    "    vector_path=south_korea_hexagon_grid_path,\n",
    "    zonal_statistics=\"count mean\",\n",
    ")\n",
    "\n",
    "aggregated_hexagon_grid_sep_2018 = aggregate_raster_data(\n",
    "    raster_path=no2_mean_sep_2018_path,\n",
    "    vector_path=south_korea_hexagon_grid_path,\n",
    "    zonal_statistics=\"count mean\",\n",
    ")\n",
    "\n",
    "aggregated_hexagon_grid_oct_2018 = aggregate_raster_data(\n",
    "    raster_path=no2_mean_oct_2018_path,\n",
    "    vector_path=south_korea_hexagon_grid_path,\n",
    "    zonal_statistics=\"count mean\",\n",
    ")\n",
    "\n",
    "aggregated_hexagon_grid_nov_2018 = aggregate_raster_data(\n",
    "    raster_path=no2_mean_nov_2018_path,\n",
    "    vector_path=south_korea_hexagon_grid_path,\n",
    "    zonal_statistics=\"count mean\",\n",
    ")\n",
    "\n",
    "aggregated_hexagon_grid_dec_2018 = aggregate_raster_data(\n",
    "    raster_path=no2_mean_dec_2018_path,\n",
    "    vector_path=south_korea_hexagon_grid_path,\n",
    "    zonal_statistics=\"count mean\",\n",
    ")\n",
    "\n",
    "aggregated_hexagon_grid_jan_2019 = aggregate_raster_data(\n",
    "    raster_path=no2_mean_jan_2019_path,\n",
    "    vector_path=south_korea_hexagon_grid_path,\n",
    "    zonal_statistics=\"count mean\",\n",
    ")\n",
    "\n",
    "aggregated_hexagon_grid_feb_2019 = aggregate_raster_data(\n",
    "    raster_path=no2_mean_feb_2019_path,\n",
    "    vector_path=south_korea_hexagon_grid_path,\n",
    "    zonal_statistics=\"count mean\",\n",
    ")\n",
    "\n",
    "aggregated_hexagon_grid_mar_2019 = aggregate_raster_data(\n",
    "    raster_path=no2_mean_mar_2019_path,\n",
    "    vector_path=south_korea_hexagon_grid_path,\n",
    "    zonal_statistics=\"count mean\",\n",
    ")\n",
    "\n",
    "aggregated_hexagon_grid_apr_2019 = aggregate_raster_data(\n",
    "    raster_path=no2_mean_apr_2019_path,\n",
    "    vector_path=south_korea_hexagon_grid_path,\n",
    "    zonal_statistics=\"count mean\",\n",
    ")\n",
    "\n",
    "aggregated_hexagon_grid_may_2019 = aggregate_raster_data(\n",
    "    raster_path=no2_mean_may_2019_path,\n",
    "    vector_path=south_korea_hexagon_grid_path,\n",
    "    zonal_statistics=\"count mean\",\n",
    ")\n",
    "\n",
    "aggregated_hexagon_grid_jun_2019 = aggregate_raster_data(\n",
    "    raster_path=no2_mean_jun_2019_path,\n",
    "    vector_path=south_korea_hexagon_grid_path,\n",
    "    zonal_statistics=\"count mean\",\n",
    ")\n",
    "\n",
    "aggregated_hexagon_grid_jul_2019 = aggregate_raster_data(\n",
    "    raster_path=no2_mean_jul_2019_path,\n",
    "    vector_path=south_korea_hexagon_grid_path,\n",
    "    zonal_statistics=\"count mean\",\n",
    ")\n",
    "\n",
    "aggregated_hexagon_grid_aug_2019 = aggregate_raster_data(\n",
    "    raster_path=no2_mean_aug_2019_path,\n",
    "    vector_path=south_korea_hexagon_grid_path,\n",
    "    zonal_statistics=\"count mean\",\n",
    ")\n",
    "\n",
    "aggregated_hexagon_grid_sep_2019 = aggregate_raster_data(\n",
    "    raster_path=no2_mean_sep_2019_path,\n",
    "    vector_path=south_korea_hexagon_grid_path,\n",
    "    zonal_statistics=\"count mean\",\n",
    ")\n",
    "\n",
    "aggregated_hexagon_grid_oct_2019 = aggregate_raster_data(\n",
    "    raster_path=no2_mean_oct_2019_path,\n",
    "    vector_path=south_korea_hexagon_grid_path,\n",
    "    zonal_statistics=\"count mean\",\n",
    ")\n",
    "\n",
    "aggregated_hexagon_grid_nov_2019 = aggregate_raster_data(\n",
    "    raster_path=no2_mean_nov_2019_path,\n",
    "    vector_path=south_korea_hexagon_grid_path,\n",
    "    zonal_statistics=\"count mean\",\n",
    ")\n",
    "\n",
    "aggregated_hexagon_grid_dec_2019 = aggregate_raster_data(\n",
    "    raster_path=no2_mean_dec_2019_path,\n",
    "    vector_path=south_korea_hexagon_grid_path,\n",
    "    zonal_statistics=\"count mean\",\n",
    ")\n",
    "\n",
    "aggregated_hexagon_grid_jan_2020 = aggregate_raster_data(\n",
    "    raster_path=no2_mean_jan_2020_path,\n",
    "    vector_path=south_korea_hexagon_grid_path,\n",
    "    zonal_statistics=\"count mean\",\n",
    ")\n",
    "\n",
    "aggregated_hexagon_grid_feb_2020 = aggregate_raster_data(\n",
    "    raster_path=no2_mean_feb_2020_path,\n",
    "    vector_path=south_korea_hexagon_grid_path,\n",
    "    zonal_statistics=\"count mean\",\n",
    ")\n",
    "\n",
    "aggregated_hexagon_grid_mar_2020 = aggregate_raster_data(\n",
    "    raster_path=no2_mean_mar_2020_path,\n",
    "    vector_path=south_korea_hexagon_grid_path,\n",
    "    zonal_statistics=\"count mean\",\n",
    ")\n",
    "\n",
    "aggregated_hexagon_grid_apr_2020 = aggregate_raster_data(\n",
    "    raster_path=no2_mean_apr_2020_path,\n",
    "    vector_path=south_korea_hexagon_grid_path,\n",
    "    zonal_statistics=\"count mean\",\n",
    ")\n",
    "\n",
    "aggregated_hexagon_grid_may_2020 = aggregate_raster_data(\n",
    "    raster_path=no2_mean_may_2020_path,\n",
    "    vector_path=south_korea_hexagon_grid_path,\n",
    "    zonal_statistics=\"count mean\",\n",
    ")\n",
    "\n",
    "aggregated_hexagon_grid_jun_2020 = aggregate_raster_data(\n",
    "    raster_path=no2_mean_jun_2020_path,\n",
    "    vector_path=south_korea_hexagon_grid_path,\n",
    "    zonal_statistics=\"count mean\",\n",
    ")\n",
    "\n",
    "aggregated_hexagon_grid_jul_2020 = aggregate_raster_data(\n",
    "    raster_path=no2_mean_jul_2020_path,\n",
    "    vector_path=south_korea_hexagon_grid_path,\n",
    "    zonal_statistics=\"count mean\",\n",
    ")"
   ]
  },
  {
   "cell_type": "code",
   "execution_count": null,
   "metadata": {
    "ExecuteTime": {
     "end_time": "2020-10-30T17:05:51.294081Z",
     "start_time": "2020-10-30T17:05:43.152918Z"
    }
   },
   "outputs": [],
   "source": [
    "# Rasterize mean NO2 to boundaries\n",
    "# 2018\n",
    "\n",
    "# 2019\n",
    "aggregated_level_1_mar_2019 = aggregate_raster_data(\n",
    "    raster_path=no2_mean_mar_2019_path,\n",
    "    vector_path=south_korea_level_1_path,\n",
    "    zonal_statistics=\"count mean\",\n",
    ")\n",
    "\n",
    "aggregated_level_2_mar_2019 = aggregate_raster_data(\n",
    "    raster_path=no2_mean_mar_2019_path,\n",
    "    vector_path=south_korea_level_2_path,\n",
    "    zonal_statistics=\"count mean\",\n",
    ")\n",
    "\n",
    "aggregated_hexagon_grid_mar_2019 = aggregate_raster_data(\n",
    "    raster_path=no2_mean_mar_2019_path,\n",
    "    vector_path=south_korea_hexagon_grid_path,\n",
    "    zonal_statistics=\"count mean\",\n",
    ")\n",
    "\n",
    "# 2020\n",
    "aggregated_level_1_mar_2020 = aggregate_raster_data(\n",
    "    raster_path=no2_mean_mar_2020_path,\n",
    "    vector_path=south_korea_level_1_path,\n",
    "    zonal_statistics=\"count mean\",\n",
    ")\n",
    "\n",
    "aggregated_level_2_mar_2020 = aggregate_raster_data(\n",
    "    raster_path=no2_mean_mar_2020_path,\n",
    "    vector_path=south_korea_level_2_path,\n",
    "    zonal_statistics=\"count mean\",\n",
    ")\n",
    "\n",
    "aggregated_hexagon_grid_mar_2020 = aggregate_raster_data(\n",
    "    raster_path=no2_mean_mar_2020_path,\n",
    "    vector_path=south_korea_hexagon_grid_path,\n",
    "    zonal_statistics=\"count mean\",\n",
    ")"
   ]
  },
  {
   "cell_type": "code",
   "execution_count": null,
   "metadata": {
    "ExecuteTime": {
     "end_time": "2020-10-31T00:20:09.398933Z",
     "start_time": "2020-10-31T00:20:08.978168Z"
    }
   },
   "outputs": [],
   "source": [
    "# Get geodataframes with geometry only\n",
    "south_korea_level_1_geometry = get_geometry(south_korea_level_1_path)\n",
    "south_korea_level_2_geometry = get_geometry(south_korea_level_2_path)\n",
    "south_korea_hexagon_grid_geometry = get_geometry(south_korea_hexagon_grid_path)"
   ]
  },
  {
   "cell_type": "code",
   "execution_count": null,
   "metadata": {
    "ExecuteTime": {
     "end_time": "2020-10-31T00:20:20.739571Z",
     "start_time": "2020-10-31T00:20:20.644398Z"
    }
   },
   "outputs": [],
   "source": [
    "# Clean NO2 dataframes\n",
    "cleaned_hexagon_grid_jul_2018 = clean_data(\n",
    "    geodatframe=aggregated_hexagon_grid_jul_2018, new_name=\"jul_2018\"\n",
    ")\n",
    "\n",
    "cleaned_hexagon_grid_aug_2018 = clean_data(\n",
    "    geodatframe=aggregated_hexagon_grid_aug_2018, new_name=\"aug_2018\"\n",
    ")\n",
    "\n",
    "cleaned_hexagon_grid_sep_2018 = clean_data(\n",
    "    geodatframe=aggregated_hexagon_grid_sep_2018, new_name=\"sep_2018\"\n",
    ")\n",
    "\n",
    "cleaned_hexagon_grid_oct_2018 = clean_data(\n",
    "    geodatframe=aggregated_hexagon_grid_oct_2018, new_name=\"oct_2018\"\n",
    ")\n",
    "\n",
    "cleaned_hexagon_grid_nov_2018 = clean_data(\n",
    "    geodatframe=aggregated_hexagon_grid_nov_2018, new_name=\"nov_2018\"\n",
    ")\n",
    "\n",
    "cleaned_hexagon_grid_dec_2018 = clean_data(\n",
    "    geodatframe=aggregated_hexagon_grid_dec_2018, new_name=\"dec_2018\"\n",
    ")\n",
    "\n",
    "cleaned_hexagon_grid_jan_2019 = clean_data(\n",
    "    geodatframe=aggregated_hexagon_grid_jan_2019, new_name=\"jan_2019\"\n",
    ")\n",
    "\n",
    "cleaned_hexagon_grid_feb_2019 = clean_data(\n",
    "    geodatframe=aggregated_hexagon_grid_feb_2019, new_name=\"feb_2019\"\n",
    ")\n",
    "\n",
    "cleaned_hexagon_grid_mar_2019 = clean_data(\n",
    "    geodatframe=aggregated_hexagon_grid_mar_2019, new_name=\"mar_2019\"\n",
    ")\n",
    "\n",
    "cleaned_hexagon_grid_apr_2019 = clean_data(\n",
    "    geodatframe=aggregated_hexagon_grid_apr_2019, new_name=\"apr_2019\"\n",
    ")\n",
    "\n",
    "cleaned_hexagon_grid_may_2019 = clean_data(\n",
    "    geodatframe=aggregated_hexagon_grid_may_2019, new_name=\"may_2019\"\n",
    ")\n",
    "\n",
    "cleaned_hexagon_grid_jun_2019 = clean_data(\n",
    "    geodatframe=aggregated_hexagon_grid_jun_2019, new_name=\"jun_2019\"\n",
    ")\n",
    "\n",
    "cleaned_hexagon_grid_jul_2019 = clean_data(\n",
    "    geodatframe=aggregated_hexagon_grid_jul_2019, new_name=\"jul_2019\"\n",
    ")\n",
    "\n",
    "cleaned_hexagon_grid_aug_2019 = clean_data(\n",
    "    geodatframe=aggregated_hexagon_grid_aug_2019, new_name=\"aug_2019\"\n",
    ")\n",
    "\n",
    "cleaned_hexagon_grid_sep_2019 = clean_data(\n",
    "    geodatframe=aggregated_hexagon_grid_sep_2019, new_name=\"sep_2019\"\n",
    ")\n",
    "\n",
    "cleaned_hexagon_grid_oct_2019 = clean_data(\n",
    "    geodatframe=aggregated_hexagon_grid_oct_2019, new_name=\"oct_2019\"\n",
    ")\n",
    "\n",
    "cleaned_hexagon_grid_nov_2019 = clean_data(\n",
    "    geodatframe=aggregated_hexagon_grid_nov_2019, new_name=\"nov_2019\"\n",
    ")\n",
    "\n",
    "cleaned_hexagon_grid_dec_2019 = clean_data(\n",
    "    geodatframe=aggregated_hexagon_grid_dec_2019, new_name=\"dec_2019\"\n",
    ")\n",
    "\n",
    "cleaned_hexagon_grid_jan_2020 = clean_data(\n",
    "    geodatframe=aggregated_hexagon_grid_jan_2020, new_name=\"jan_2020\"\n",
    ")\n",
    "\n",
    "cleaned_hexagon_grid_feb_2020 = clean_data(\n",
    "    geodatframe=aggregated_hexagon_grid_feb_2020, new_name=\"feb_2020\"\n",
    ")\n",
    "\n",
    "cleaned_hexagon_grid_mar_2020 = clean_data(\n",
    "    geodatframe=aggregated_hexagon_grid_mar_2020, new_name=\"mar_2020\"\n",
    ")\n",
    "\n",
    "cleaned_hexagon_grid_apr_2020 = clean_data(\n",
    "    geodatframe=aggregated_hexagon_grid_apr_2020, new_name=\"apr_2020\"\n",
    ")\n",
    "\n",
    "cleaned_hexagon_grid_may_2020 = clean_data(\n",
    "    geodatframe=aggregated_hexagon_grid_may_2020, new_name=\"may_2020\"\n",
    ")\n",
    "\n",
    "cleaned_hexagon_grid_jun_2020 = clean_data(\n",
    "    geodatframe=aggregated_hexagon_grid_jun_2020, new_name=\"jun_2020\"\n",
    ")\n",
    "\n",
    "cleaned_hexagon_grid_jul_2020 = clean_data(\n",
    "    geodatframe=aggregated_hexagon_grid_jul_2020, new_name=\"jul_2020\"\n",
    ")"
   ]
  },
  {
   "cell_type": "code",
   "execution_count": null,
   "metadata": {
    "ExecuteTime": {
     "end_time": "2020-10-31T00:21:24.740816Z",
     "start_time": "2020-10-31T00:21:24.717044Z"
    }
   },
   "outputs": [],
   "source": [
    "# Get dataframe for all months of data\n",
    "south_korea_no2_df = pd.concat(\n",
    "    [\n",
    "        cleaned_hexagon_grid_jul_2018,\n",
    "        cleaned_hexagon_grid_aug_2018,\n",
    "        cleaned_hexagon_grid_sep_2018,\n",
    "        cleaned_hexagon_grid_oct_2018,\n",
    "        cleaned_hexagon_grid_nov_2018,\n",
    "        cleaned_hexagon_grid_dec_2018,\n",
    "        cleaned_hexagon_grid_jan_2019,\n",
    "        cleaned_hexagon_grid_feb_2019,\n",
    "        cleaned_hexagon_grid_mar_2019,\n",
    "        cleaned_hexagon_grid_apr_2019,\n",
    "        cleaned_hexagon_grid_may_2019,\n",
    "        cleaned_hexagon_grid_jun_2019,\n",
    "        cleaned_hexagon_grid_jul_2019,\n",
    "        cleaned_hexagon_grid_aug_2019,\n",
    "        cleaned_hexagon_grid_sep_2019,\n",
    "        cleaned_hexagon_grid_oct_2019,\n",
    "        cleaned_hexagon_grid_nov_2019,\n",
    "        cleaned_hexagon_grid_dec_2019,\n",
    "        cleaned_hexagon_grid_jan_2020,\n",
    "        cleaned_hexagon_grid_feb_2020,\n",
    "        cleaned_hexagon_grid_mar_2020,\n",
    "        cleaned_hexagon_grid_apr_2020,\n",
    "        cleaned_hexagon_grid_may_2020,\n",
    "        cleaned_hexagon_grid_jun_2020,\n",
    "        cleaned_hexagon_grid_jul_2020,\n",
    "    ],\n",
    "    axis=1,\n",
    ")"
   ]
  },
  {
   "cell_type": "code",
   "execution_count": null,
   "metadata": {
    "ExecuteTime": {
     "end_time": "2020-10-31T00:21:36.262836Z",
     "start_time": "2020-10-31T00:21:36.248848Z"
    }
   },
   "outputs": [],
   "source": [
    "# Get geodataframe for all months of data\n",
    "south_korea_no2_gdf = south_korea_hexagon_grid_geometry.merge(\n",
    "    south_korea_no2_df, left_index=True, right_index=True\n",
    ")"
   ]
  },
  {
   "cell_type": "code",
   "execution_count": null,
   "metadata": {
    "ExecuteTime": {
     "end_time": "2020-10-31T00:21:48.463361Z",
     "start_time": "2020-10-31T00:21:48.422654Z"
    }
   },
   "outputs": [],
   "source": [
    "south_korea_no2_gdf.head()"
   ]
  },
  {
   "cell_type": "code",
   "execution_count": null,
   "metadata": {
    "ExecuteTime": {
     "end_time": "2020-10-31T00:22:18.081977Z",
     "start_time": "2020-10-31T00:22:17.699094Z"
    }
   },
   "outputs": [],
   "source": [
    "# Add magnitude change columns\n",
    "try:\n",
    "    add_change(\n",
    "        dataframe=south_korea_no2_gdf,\n",
    "        pre_change_column=\"jul_2018\",\n",
    "        post_change_column=\"jul_2019\",\n",
    "        new_column=\"change_jul_2018_2019_magnitude\",\n",
    "        change_type=\"magnitude\",\n",
    "    )\n",
    "    add_change(\n",
    "        dataframe=south_korea_no2_gdf,\n",
    "        pre_change_column=\"aug_2018\",\n",
    "        post_change_column=\"aug_2019\",\n",
    "        new_column=\"change_aug_2018_2019_magnitude\",\n",
    "        change_type=\"magnitude\",\n",
    "    )\n",
    "    add_change(\n",
    "        dataframe=south_korea_no2_gdf,\n",
    "        pre_change_column=\"sep_2018\",\n",
    "        post_change_column=\"sep_2019\",\n",
    "        new_column=\"change_sep_2018_2019_magnitude\",\n",
    "        change_type=\"magnitude\",\n",
    "    )\n",
    "    add_change(\n",
    "        dataframe=south_korea_no2_gdf,\n",
    "        pre_change_column=\"oct_2018\",\n",
    "        post_change_column=\"oct_2019\",\n",
    "        new_column=\"change_oct_2018_2019_magnitude\",\n",
    "        change_type=\"magnitude\",\n",
    "    )\n",
    "    add_change(\n",
    "        dataframe=south_korea_no2_gdf,\n",
    "        pre_change_column=\"nov_2018\",\n",
    "        post_change_column=\"nov_2019\",\n",
    "        new_column=\"change_nov_2018_2019_magnitude\",\n",
    "        change_type=\"magnitude\",\n",
    "    )\n",
    "    add_change(\n",
    "        dataframe=south_korea_no2_gdf,\n",
    "        pre_change_column=\"dec_2018\",\n",
    "        post_change_column=\"dec_2019\",\n",
    "        new_column=\"change_dec_2018_2019_magnitude\",\n",
    "        change_type=\"magnitude\",\n",
    "    )\n",
    "    add_change(\n",
    "        dataframe=south_korea_no2_gdf,\n",
    "        pre_change_column=\"jan_2019\",\n",
    "        post_change_column=\"jan_2020\",\n",
    "        new_column=\"change_jan_2019_2020_magnitude\",\n",
    "        change_type=\"magnitude\",\n",
    "    )\n",
    "    add_change(\n",
    "        dataframe=south_korea_no2_gdf,\n",
    "        pre_change_column=\"feb_2019\",\n",
    "        post_change_column=\"feb_2020\",\n",
    "        new_column=\"change_feb_2019_2020_magnitude\",\n",
    "        change_type=\"magnitude\",\n",
    "    )\n",
    "    add_change(\n",
    "        dataframe=south_korea_no2_gdf,\n",
    "        pre_change_column=\"mar_2019\",\n",
    "        post_change_column=\"mar_2020\",\n",
    "        new_column=\"change_mar_2019_2020_magnitude\",\n",
    "        change_type=\"magnitude\",\n",
    "    )\n",
    "    add_change(\n",
    "        dataframe=south_korea_no2_gdf,\n",
    "        pre_change_column=\"apr_2019\",\n",
    "        post_change_column=\"apr_2020\",\n",
    "        new_column=\"change_apr_2019_2020_magnitude\",\n",
    "        change_type=\"magnitude\",\n",
    "    )\n",
    "    add_change(\n",
    "        dataframe=south_korea_no2_gdf,\n",
    "        pre_change_column=\"may_2019\",\n",
    "        post_change_column=\"may_2020\",\n",
    "        new_column=\"change_may_2019_2020_magnitude\",\n",
    "        change_type=\"magnitude\",\n",
    "    )\n",
    "    add_change(\n",
    "        dataframe=south_korea_no2_gdf,\n",
    "        pre_change_column=\"jun_2019\",\n",
    "        post_change_column=\"jun_2020\",\n",
    "        new_column=\"change_jun_2019_2020_magnitude\",\n",
    "        change_type=\"magnitude\",\n",
    "    )\n",
    "    add_change(\n",
    "        dataframe=south_korea_no2_gdf,\n",
    "        pre_change_column=\"jul_2019\",\n",
    "        post_change_column=\"jul_2020\",\n",
    "        new_column=\"change_jul_2019_2020_magnitude\",\n",
    "        change_type=\"magnitude\",\n",
    "    )\n",
    "except Exception as error:\n",
    "    print(error)"
   ]
  },
  {
   "cell_type": "code",
   "execution_count": null,
   "metadata": {
    "ExecuteTime": {
     "end_time": "2020-10-31T00:22:30.917781Z",
     "start_time": "2020-10-31T00:22:30.546922Z"
    }
   },
   "outputs": [],
   "source": [
    "# Add percent change columns\n",
    "try:\n",
    "    add_change(\n",
    "        dataframe=south_korea_no2_gdf,\n",
    "        pre_change_column=\"jul_2018\",\n",
    "        post_change_column=\"jul_2019\",\n",
    "        new_column=\"change_jul_2018_2019_percent\",\n",
    "        change_type=\"percent\",\n",
    "    )\n",
    "    add_change(\n",
    "        dataframe=south_korea_no2_gdf,\n",
    "        pre_change_column=\"aug_2018\",\n",
    "        post_change_column=\"aug_2019\",\n",
    "        new_column=\"change_aug_2018_2019_percent\",\n",
    "        change_type=\"percent\",\n",
    "    )\n",
    "    add_change(\n",
    "        dataframe=south_korea_no2_gdf,\n",
    "        pre_change_column=\"sep_2018\",\n",
    "        post_change_column=\"sep_2019\",\n",
    "        new_column=\"change_sep_2018_2019_percent\",\n",
    "        change_type=\"percent\",\n",
    "    )\n",
    "    add_change(\n",
    "        dataframe=south_korea_no2_gdf,\n",
    "        pre_change_column=\"oct_2018\",\n",
    "        post_change_column=\"oct_2019\",\n",
    "        new_column=\"change_oct_2018_2019_percent\",\n",
    "        change_type=\"percent\",\n",
    "    )\n",
    "    add_change(\n",
    "        dataframe=south_korea_no2_gdf,\n",
    "        pre_change_column=\"nov_2018\",\n",
    "        post_change_column=\"nov_2019\",\n",
    "        new_column=\"change_nov_2018_2019_percent\",\n",
    "        change_type=\"percent\",\n",
    "    )\n",
    "    add_change(\n",
    "        dataframe=south_korea_no2_gdf,\n",
    "        pre_change_column=\"dec_2018\",\n",
    "        post_change_column=\"dec_2019\",\n",
    "        new_column=\"change_dec_2018_2019_percent\",\n",
    "        change_type=\"percent\",\n",
    "    )\n",
    "    add_change(\n",
    "        dataframe=south_korea_no2_gdf,\n",
    "        pre_change_column=\"jan_2019\",\n",
    "        post_change_column=\"jan_2020\",\n",
    "        new_column=\"change_jan_2019_2020_percent\",\n",
    "        change_type=\"percent\",\n",
    "    )\n",
    "    add_change(\n",
    "        dataframe=south_korea_no2_gdf,\n",
    "        pre_change_column=\"feb_2019\",\n",
    "        post_change_column=\"feb_2020\",\n",
    "        new_column=\"change_feb_2019_2020_percent\",\n",
    "        change_type=\"percent\",\n",
    "    )\n",
    "    add_change(\n",
    "        dataframe=south_korea_no2_gdf,\n",
    "        pre_change_column=\"mar_2019\",\n",
    "        post_change_column=\"mar_2020\",\n",
    "        new_column=\"change_mar_2019_2020_percent\",\n",
    "        change_type=\"percent\",\n",
    "    )\n",
    "    add_change(\n",
    "        dataframe=south_korea_no2_gdf,\n",
    "        pre_change_column=\"apr_2019\",\n",
    "        post_change_column=\"apr_2020\",\n",
    "        new_column=\"change_apr_2019_2020_percent\",\n",
    "        change_type=\"percent\",\n",
    "    )\n",
    "    add_change(\n",
    "        dataframe=south_korea_no2_gdf,\n",
    "        pre_change_column=\"may_2019\",\n",
    "        post_change_column=\"may_2020\",\n",
    "        new_column=\"change_may_2019_2020_percent\",\n",
    "        change_type=\"percent\",\n",
    "    )\n",
    "    add_change(\n",
    "        dataframe=south_korea_no2_gdf,\n",
    "        pre_change_column=\"jun_2019\",\n",
    "        post_change_column=\"jun_2020\",\n",
    "        new_column=\"change_jun_2019_2020_percent\",\n",
    "        change_type=\"percent\",\n",
    "    )\n",
    "    add_change(\n",
    "        dataframe=south_korea_no2_gdf,\n",
    "        pre_change_column=\"jul_2019\",\n",
    "        post_change_column=\"jul_2020\",\n",
    "        new_column=\"change_jul_2019_2020_percent\",\n",
    "        change_type=\"percent\",\n",
    "    )\n",
    "except Exception as error:\n",
    "    print(error)"
   ]
  },
  {
   "cell_type": "code",
   "execution_count": null,
   "metadata": {
    "ExecuteTime": {
     "end_time": "2020-10-31T00:22:42.599095Z",
     "start_time": "2020-10-31T00:22:42.546756Z"
    }
   },
   "outputs": [],
   "source": [
    "# Check contents of consolidated geodataframe\n",
    "south_korea_no2_gdf.head()"
   ]
  },
  {
   "cell_type": "markdown",
   "metadata": {},
   "source": [
    "# Data Post-Processing"
   ]
  },
  {
   "cell_type": "code",
   "execution_count": null,
   "metadata": {},
   "outputs": [],
   "source": []
  },
  {
   "cell_type": "markdown",
   "metadata": {},
   "source": [
    "# Data Visualization"
   ]
  },
  {
   "cell_type": "code",
   "execution_count": null,
   "metadata": {
    "ExecuteTime": {
     "end_time": "2020-10-30T17:01:27.963353Z",
     "start_time": "2020-10-30T17:01:26.679750Z"
    }
   },
   "outputs": [],
   "source": [
    "# Plot rasterized level 1 boundaries\n",
    "fig, ax = plt.subplots(figsize=(10, 10))\n",
    "divider = make_axes_locatable(ax)\n",
    "cax = divider.append_axes(\"right\", size=\"5%\", pad=0.1)\n",
    "rasterized_level_1_mar_2019.plot(\n",
    "    column=\"mean\", ax=ax, legend=True, cax=cax, cmap=\"inferno\"\n",
    ")\n",
    "\n",
    "plt.show()"
   ]
  },
  {
   "cell_type": "code",
   "execution_count": null,
   "metadata": {
    "ExecuteTime": {
     "end_time": "2020-10-30T17:01:40.081959Z",
     "start_time": "2020-10-30T17:01:38.692602Z"
    }
   },
   "outputs": [],
   "source": [
    "# Plot rasterized level 2 boundaries\n",
    "fig, ax = plt.subplots(figsize=(10, 10))\n",
    "divider = make_axes_locatable(ax)\n",
    "cax = divider.append_axes(\"right\", size=\"5%\", pad=0.1)\n",
    "rasterized_level_2_mar_2019.plot(\n",
    "    column=\"mean\", ax=ax, legend=True, cax=cax, cmap=\"inferno\"\n",
    ")\n",
    "\n",
    "plt.show()"
   ]
  },
  {
   "cell_type": "code",
   "execution_count": null,
   "metadata": {
    "ExecuteTime": {
     "end_time": "2020-10-30T17:02:16.940301Z",
     "start_time": "2020-10-30T17:02:15.502766Z"
    }
   },
   "outputs": [],
   "source": [
    "# Plot rasterized hexagon boundaries\n",
    "fig, ax = plt.subplots(figsize=(10, 10))\n",
    "divider = make_axes_locatable(ax)\n",
    "cax = divider.append_axes(\"right\", size=\"5%\", pad=0.1)\n",
    "rasterized_hexagon_grid_mar_2019.plot(\n",
    "    column=\"mean\",\n",
    "    ax=ax,\n",
    "    legend=True,\n",
    "    cax=cax,\n",
    "    cmap=\"inferno\",\n",
    "    #     edgecolor=\"white\",\n",
    "    linewidth=0.25,\n",
    ")\n",
    "south_korea_level_0.plot(\n",
    "    ax=ax, facecolor=\"None\", edgecolor=\"red\", linewidth=0.5\n",
    ")\n",
    "\n",
    "plt.show()"
   ]
  },
  {
   "cell_type": "code",
   "execution_count": null,
   "metadata": {
    "ExecuteTime": {
     "end_time": "2020-10-30T17:02:29.012213Z",
     "start_time": "2020-10-30T17:02:27.604628Z"
    }
   },
   "outputs": [],
   "source": [
    "# Plot rasterized hexagon boundaries\n",
    "with plt.style.context(\"dark_background\"):\n",
    "    fig, ax = plt.subplots(figsize=(10, 10))\n",
    "    divider = make_axes_locatable(ax)\n",
    "    cax = divider.append_axes(\"right\", size=\"5%\", pad=0.1)\n",
    "    rasterized_hexagon_grid_mar_2019.plot(\n",
    "        column=\"mean\",\n",
    "        ax=ax,\n",
    "        legend=True,\n",
    "        cax=cax,\n",
    "        cmap=\"inferno\",\n",
    "        edgecolor=\"white\",\n",
    "        linewidth=0.25,\n",
    "    )\n",
    "    south_korea_level_0.plot(\n",
    "        ax=ax, facecolor=\"None\", edgecolor=\"red\", linewidth=0.5\n",
    "    )"
   ]
  },
  {
   "cell_type": "code",
   "execution_count": null,
   "metadata": {},
   "outputs": [],
   "source": []
  },
  {
   "cell_type": "code",
   "execution_count": null,
   "metadata": {},
   "outputs": [],
   "source": []
  },
  {
   "cell_type": "code",
   "execution_count": null,
   "metadata": {
    "ExecuteTime": {
     "end_time": "2020-10-30T16:20:38.875114Z",
     "start_time": "2020-10-30T16:20:37.529149Z"
    }
   },
   "outputs": [],
   "source": [
    "# Plot rasterized hexagon boundaries\n",
    "fig, ax = plt.subplots(figsize=(10, 10))\n",
    "divider = make_axes_locatable(ax)\n",
    "cax = divider.append_axes(\"right\", size=\"5%\", pad=0.1)\n",
    "consolidated_with_geom.plot(\n",
    "    column=\"diff_mar_2019_2020_percent\",\n",
    "    ax=ax,\n",
    "    legend=True,\n",
    "    cax=cax,\n",
    "    cmap=\"RdBu_r\",\n",
    "    #     edgecolor=\"white\",\n",
    "    linewidth=0.25,\n",
    ")\n",
    "south_korea_level_0.plot(\n",
    "    ax=ax, facecolor=\"None\", edgecolor=\"red\", linewidth=0.5\n",
    ")\n",
    "\n",
    "plt.show()"
   ]
  },
  {
   "cell_type": "code",
   "execution_count": null,
   "metadata": {
    "ExecuteTime": {
     "end_time": "2020-10-30T16:20:53.310904Z",
     "start_time": "2020-10-30T16:20:51.947741Z"
    }
   },
   "outputs": [],
   "source": [
    "# Plot rasterized hexagon boundaries\n",
    "with plt.style.context(\"dark_background\"):\n",
    "    fig, ax = plt.subplots(figsize=(10, 10))\n",
    "    divider = make_axes_locatable(ax)\n",
    "    cax = divider.append_axes(\"right\", size=\"5%\", pad=0.1)\n",
    "    consolidated_with_geom.plot(\n",
    "        column=\"diff_mar_2019_2020_percent\",\n",
    "        ax=ax,\n",
    "        legend=True,\n",
    "        cax=cax,\n",
    "        cmap=\"RdBu_r\",\n",
    "        edgecolor=\"white\",\n",
    "        linewidth=0.25,\n",
    "    )\n",
    "    south_korea_level_0.plot(\n",
    "        ax=ax, facecolor=\"None\", edgecolor=\"red\", linewidth=0.5\n",
    "    )"
   ]
  },
  {
   "cell_type": "code",
   "execution_count": null,
   "metadata": {},
   "outputs": [],
   "source": []
  },
  {
   "cell_type": "code",
   "execution_count": null,
   "metadata": {},
   "outputs": [],
   "source": []
  },
  {
   "cell_type": "code",
   "execution_count": null,
   "metadata": {
    "ExecuteTime": {
     "end_time": "2020-10-30T14:46:50.542972Z",
     "start_time": "2020-10-30T14:46:49.776077Z"
    }
   },
   "outputs": [],
   "source": [
    "# Plot rasterized level 1 boundaries\n",
    "fig, ax = plt.subplots(figsize=(10, 10))\n",
    "divider = make_axes_locatable(ax)\n",
    "cax = divider.append_axes(\"right\", size=\"5%\", pad=0.1)\n",
    "rasterized_level_1_mar_2020.plot(\n",
    "    column=\"mean\", ax=ax, legend=True, cax=cax, cmap=\"inferno\"\n",
    ")\n",
    "\n",
    "plt.show()"
   ]
  },
  {
   "cell_type": "code",
   "execution_count": null,
   "metadata": {
    "ExecuteTime": {
     "end_time": "2020-10-30T14:46:59.562542Z",
     "start_time": "2020-10-30T14:46:58.737943Z"
    }
   },
   "outputs": [],
   "source": [
    "# Plot rasterized level 2 boundaries\n",
    "fig, ax = plt.subplots(figsize=(10, 10))\n",
    "divider = make_axes_locatable(ax)\n",
    "cax = divider.append_axes(\"right\", size=\"5%\", pad=0.1)\n",
    "rasterized_level_2_mar_2020.plot(\n",
    "    column=\"mean\", ax=ax, legend=True, cax=cax, cmap=\"inferno\"\n",
    ")\n",
    "\n",
    "plt.show()"
   ]
  },
  {
   "cell_type": "code",
   "execution_count": null,
   "metadata": {
    "ExecuteTime": {
     "end_time": "2020-10-30T14:47:08.963963Z",
     "start_time": "2020-10-30T14:47:07.723248Z"
    }
   },
   "outputs": [],
   "source": [
    "# Plot rasterized hexagon boundaries\n",
    "fig, ax = plt.subplots(figsize=(10, 10))\n",
    "divider = make_axes_locatable(ax)\n",
    "cax = divider.append_axes(\"right\", size=\"5%\", pad=0.1)\n",
    "rasterized_hexagon_grid_mar_2020.plot(\n",
    "    column=\"mean\",\n",
    "    ax=ax,\n",
    "    legend=True,\n",
    "    cax=cax,\n",
    "    cmap=\"inferno\",\n",
    "    #     edgecolor=\"white\",\n",
    "    #     linewidth=3,\n",
    ")\n",
    "south_korea_level_0.plot(\n",
    "    ax=ax, facecolor=\"None\", edgecolor=\"red\", linewidth=0.5\n",
    ")\n",
    "\n",
    "plt.show()"
   ]
  },
  {
   "cell_type": "code",
   "execution_count": null,
   "metadata": {
    "ExecuteTime": {
     "end_time": "2020-10-30T14:47:18.771521Z",
     "start_time": "2020-10-30T14:47:17.575551Z"
    }
   },
   "outputs": [],
   "source": [
    "# Plot rasterized hexagon boundaries\n",
    "with plt.style.context(\"dark_background\"):\n",
    "    fig, ax = plt.subplots(figsize=(10, 10))\n",
    "    divider = make_axes_locatable(ax)\n",
    "    cax = divider.append_axes(\"right\", size=\"5%\", pad=0.1)\n",
    "    rasterized_hexagon_grid_mar_2020.plot(\n",
    "        column=\"mean\",\n",
    "        ax=ax,\n",
    "        legend=True,\n",
    "        cax=cax,\n",
    "        cmap=\"inferno\",\n",
    "        edgecolor=\"white\",\n",
    "        linewidth=0.1,\n",
    "    )\n",
    "    south_korea_level_0.plot(\n",
    "        ax=ax, facecolor=\"None\", edgecolor=\"red\", linewidth=0.5\n",
    "    )"
   ]
  },
  {
   "cell_type": "markdown",
   "metadata": {},
   "source": [
    "# Data Export"
   ]
  },
  {
   "cell_type": "code",
   "execution_count": null,
   "metadata": {
    "ExecuteTime": {
     "end_time": "2020-10-31T00:43:07.165652Z",
     "start_time": "2020-10-31T00:43:06.995074Z"
    }
   },
   "outputs": [],
   "source": [
    "# Export NO2 means and change (hexagon grid)\n",
    "south_korea_no2_gdf.to_csv(\n",
    "    path_or_buf=os.path.join(\n",
    "        \"03-processed-data\",\n",
    "        \"csv\",\n",
    "        \"south-korea\",\n",
    "        \"no2-south-korea-aggregate-hexagon-grid-jul-2018-jul-2020.csv\",\n",
    "    ),\n",
    "    sep=\",\",\n",
    "    header=True,\n",
    "    index=False,\n",
    ")"
   ]
  }
 ],
 "metadata": {
  "hide_input": false,
  "kernelspec": {
   "display_name": "Python 3",
   "language": "python",
   "name": "python3"
  },
  "language_info": {
   "codemirror_mode": {
    "name": "ipython",
    "version": 3
   },
   "file_extension": ".py",
   "mimetype": "text/x-python",
   "name": "python",
   "nbconvert_exporter": "python",
   "pygments_lexer": "ipython3",
   "version": "3.7.6"
  },
  "toc": {
   "base_numbering": 1,
   "nav_menu": {},
   "number_sections": true,
   "sideBar": true,
   "skip_h1_title": false,
   "title_cell": "Table of Contents",
   "title_sidebar": "Contents",
   "toc_cell": false,
   "toc_position": {},
   "toc_section_display": true,
   "toc_window_display": false
  },
  "varInspector": {
   "cols": {
    "lenName": 16,
    "lenType": 16,
    "lenVar": 40
   },
   "kernels_config": {
    "python": {
     "delete_cmd_postfix": "",
     "delete_cmd_prefix": "del ",
     "library": "var_list.py",
     "varRefreshCmd": "print(var_dic_list())"
    },
    "r": {
     "delete_cmd_postfix": ") ",
     "delete_cmd_prefix": "rm(",
     "library": "var_list.r",
     "varRefreshCmd": "cat(var_dic_list()) "
    }
   },
   "types_to_exclude": [
    "module",
    "function",
    "builtin_function_or_method",
    "instance",
    "_Feature"
   ],
   "window_display": false
  }
 },
 "nbformat": 4,
 "nbformat_minor": 4
}
