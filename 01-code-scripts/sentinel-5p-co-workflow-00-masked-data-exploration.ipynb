{
 "cells": [
  {
   "cell_type": "markdown",
   "metadata": {},
   "source": [
    "# Carbon Monoxide No Data Exploration\n",
    "\n",
    "Explores Sentinel-5P CO data.\n",
    "\n",
    "To convert from mol/m<sup>2</sup> to molecules/cm<sup>2</sup>, multiply by 6.022140857e+19 (6.022140857 * 10<sup>19</sup>)."
   ]
  },
  {
   "cell_type": "markdown",
   "metadata": {},
   "source": [
    "# Environment Setup"
   ]
  },
  {
   "cell_type": "code",
   "execution_count": null,
   "metadata": {
    "ExecuteTime": {
     "end_time": "2021-01-07T13:55:08.018240Z",
     "start_time": "2021-01-07T13:55:07.778345Z"
    }
   },
   "outputs": [],
   "source": [
    "# Load Notebook formatter\n",
    "%load_ext nb_black\n",
    "# %reload_ext nb_black"
   ]
  },
  {
   "cell_type": "code",
   "execution_count": null,
   "metadata": {
    "ExecuteTime": {
     "end_time": "2021-01-07T13:55:12.503232Z",
     "start_time": "2021-01-07T13:55:08.048195Z"
    }
   },
   "outputs": [],
   "source": [
    "# Import packages\n",
    "import os\n",
    "import glob\n",
    "import xarray as xr\n",
    "import harp\n",
    "from harp._harppy import NoDataError\n",
    "import rasterio as rio\n",
    "import rioxarray\n",
    "from rioxarray.exceptions import MissingCRS\n",
    "import radiance as rd\n",
    "import sentinel as stl\n",
    "\n",
    "# from datetime import timedelta\n",
    "# from math import sqrt\n",
    "import matplotlib.pyplot as plt\n",
    "\n",
    "# import numpy as np\n",
    "# from scipy import stats\n",
    "# from scipy.interpolate import UnivariateSpline\n",
    "import seaborn as sns\n",
    "\n",
    "# import pandas as pd\n",
    "# from pandas.plotting import register_matplotlib_converters\n",
    "# import radiance as rd\n",
    "# import sentinel as stl"
   ]
  },
  {
   "cell_type": "code",
   "execution_count": null,
   "metadata": {
    "ExecuteTime": {
     "end_time": "2021-01-07T13:55:12.567035Z",
     "start_time": "2021-01-07T13:55:12.552084Z"
    }
   },
   "outputs": [],
   "source": [
    "# Set Options\n",
    "# np.set_printoptions(precision=15)\n",
    "# np.set_printoptions(suppress=True)\n",
    "sns.set(font_scale=1.5, style=\"whitegrid\")\n",
    "sns.set(font_scale=1.5)\n",
    "# pd.set_option(\"display.max_columns\", None)\n",
    "# # pd.set_option(\"display.max_rows\", None)\n",
    "# pd.set_option(\"precision\", 15)\n",
    "# register_matplotlib_converters()"
   ]
  },
  {
   "cell_type": "code",
   "execution_count": null,
   "metadata": {
    "ExecuteTime": {
     "end_time": "2021-01-07T13:55:12.620898Z",
     "start_time": "2021-01-07T13:55:12.611916Z"
    }
   },
   "outputs": [],
   "source": [
    "# Set working directory\n",
    "os.chdir(\"..\")\n",
    "print(f\"Working directory: {os.getcwd()}\")"
   ]
  },
  {
   "cell_type": "markdown",
   "metadata": {},
   "source": [
    "# User-Defined Variables"
   ]
  },
  {
   "cell_type": "code",
   "execution_count": null,
   "metadata": {
    "ExecuteTime": {
     "end_time": "2021-01-07T13:55:12.673751Z",
     "start_time": "2021-01-07T13:55:12.659788Z"
    }
   },
   "outputs": [],
   "source": [
    "def read_geotiff_into_array(geotiff_path, dimensions=1):\n",
    "    \"\"\"Reads a GeoTiff file into a NumPy array.\n",
    "\n",
    "    Parameters\n",
    "    ----------\n",
    "    geotiff_path : str\n",
    "        Path to the GeoTiff file.\n",
    "\n",
    "    dimensions : int, optional\n",
    "        Number of bands to read in. Default value is 1.\n",
    "\n",
    "    Returns\n",
    "    -------\n",
    "    array : numpy array\n",
    "        Array containing the data.\n",
    "\n",
    "    Example\n",
    "    -------\n",
    "        >>>\n",
    "        >>>\n",
    "        >>>\n",
    "        >>>\n",
    "    \"\"\"\n",
    "    # Read-in array\n",
    "    with rio.open(geotiff_path) as src:\n",
    "        array = src.read(dimensions)\n",
    "\n",
    "    return array"
   ]
  },
  {
   "cell_type": "code",
   "execution_count": null,
   "metadata": {
    "ExecuteTime": {
     "end_time": "2021-01-07T13:55:12.731595Z",
     "start_time": "2021-01-07T13:55:12.717632Z"
    }
   },
   "outputs": [],
   "source": [
    "def calculate_percent_masked(array):\n",
    "    \"\"\"Calculates the percent of masked pixels\n",
    "    (NaN) as a decimal from an input array.\n",
    "\n",
    "    This function calculates the percent as\n",
    "    an axis-independent number (for the entire\n",
    "    array).\n",
    "\n",
    "    Parameters\n",
    "    ----------\n",
    "    array : numpy.ndarray\n",
    "        Input array containing data.\n",
    "\n",
    "    Returns\n",
    "    -------\n",
    "    percent_masked : float\n",
    "        The percent of masked values, as a decimal.\n",
    "\n",
    "    Example\n",
    "    -------\n",
    "        >>> # Imports\n",
    "        >>> import numpy as np\n",
    "        >>> import numpy.ma as ma\n",
    "        >>> # Create masked array\n",
    "        >>> masked_arr = ma.array(\n",
    "        ...     [1, 2, 3, 4],\n",
    "        ...     mask=[True, False, True, False]\n",
    "        ... )\n",
    "        >>> # Calculate percent masked\n",
    "        >>> calculate_percent_masked(masked_arr)\n",
    "        0.5\n",
    "    \"\"\"\n",
    "    # Raise error if input data not numpy array\n",
    "    if not isinstance(array, np.ndarray):\n",
    "        raise TypeError(\"Input must be of type numpy.ndarray.\")\n",
    "\n",
    "    # Get percent masked\n",
    "    percent_masked = 100 * round(\n",
    "        np.count_nonzero(np.isnan(array)) / array.size, 4\n",
    "    )\n",
    "\n",
    "    # Return percent masked\n",
    "    return percent_masked"
   ]
  },
  {
   "cell_type": "code",
   "execution_count": null,
   "metadata": {
    "ExecuteTime": {
     "end_time": "2021-01-07T13:55:18.828482Z",
     "start_time": "2021-01-07T13:55:18.808496Z"
    }
   },
   "outputs": [],
   "source": [
    "# Set paths Level-3 GeoTiff files\n",
    "co_level3_folder = os.path.join(\n",
    "    \"03-processed-data\", \"raster\", \"south-korea\", \"carbon-monoxide\"\n",
    ")\n",
    "\n",
    "no2_level3_folder = os.path.join(\n",
    "    \"03-processed-data\", \"raster\", \"south-korea\", \"daily\"\n",
    ")"
   ]
  },
  {
   "cell_type": "markdown",
   "metadata": {},
   "source": [
    "# Data Acquisition and Preprocessing"
   ]
  },
  {
   "cell_type": "code",
   "execution_count": null,
   "metadata": {
    "ExecuteTime": {
     "end_time": "2021-01-07T13:58:03.417508Z",
     "start_time": "2021-01-07T13:58:03.372532Z"
    }
   },
   "outputs": [],
   "source": [
    "# Get Level-3 files into list\n",
    "if os.path.exists(co_level3_folder):\n",
    "    co_level3_geotiffs = glob.glob(os.path.join(co_level3_folder, \"*.tif\"))\n",
    "    image_count_co = len(co_level3_geotiffs)\n",
    "else:\n",
    "    print(\"Invalid path.\")\n",
    "print(f\"Number of CO GeoTiffs: {image_count_co}\")\n",
    "\n",
    "if os.path.exists(no2_level3_folder):\n",
    "    no2_level3_geotiffs = glob.glob(os.path.join(no2_level3_folder, \"*.tif\"))\n",
    "    image_count_no2 = len(no2_level3_geotiffs)\n",
    "else:\n",
    "    print(\"Invalid path.\")\n",
    "print(f\"Number of NO2 GeoTiffs: {image_count_no2}\")"
   ]
  },
  {
   "cell_type": "code",
   "execution_count": null,
   "metadata": {
    "ExecuteTime": {
     "end_time": "2021-01-07T13:56:07.346254Z",
     "start_time": "2021-01-07T13:55:23.432980Z"
    }
   },
   "outputs": [],
   "source": [
    "# Calculate percent masked for each GeoTiff\n",
    "percent_masked_co = np.array(\n",
    "    [\n",
    "        calculate_percent_masked(read_geotiff_into_array(geotiff))\n",
    "        for geotiff in co_level3_geotiffs\n",
    "    ]\n",
    ")\n",
    "print(percent_masked_co.shape)\n",
    "\n",
    "percent_masked_no2 = np.array(\n",
    "    [\n",
    "        calculate_percent_masked(read_geotiff_into_array(geotiff))\n",
    "        for geotiff in no2_level3_geotiffs\n",
    "    ]\n",
    ")\n",
    "print(percent_masked_no2.shape)"
   ]
  },
  {
   "cell_type": "code",
   "execution_count": null,
   "metadata": {
    "ExecuteTime": {
     "end_time": "2021-01-06T21:58:21.687939Z",
     "start_time": "2021-01-06T21:58:21.402213Z"
    }
   },
   "outputs": [],
   "source": [
    "# Use dark background\n",
    "# with plt.style.context(\"dark_background\"):\n",
    "\n",
    "#     # Create figure and axes object\n",
    "#     fig, ax = ep.hist(\n",
    "#         percent_masked,\n",
    "#         #         hist_range=hist_range,\n",
    "#         colors=\"#984ea3\",\n",
    "#         title=\"Carbon Monoxide\",\n",
    "#         xlabel=\"Percent of Masked Pixels (%)\",\n",
    "#         ylabel=\"Count\",\n",
    "#     )\n",
    "\n",
    "#     # Add super title\n",
    "#     plt.suptitle(\n",
    "#         f\"Masked Data Exploration, South Korea, 7/01/2019 - 12/31/2020\",\n",
    "#         size=24,\n",
    "#     )\n",
    "\n",
    "#     # Adjust spacing\n",
    "#     plt.subplots_adjust(top=0.9)\n",
    "\n",
    "#     # Add caption\n",
    "#     fig.text(\n",
    "#         0.5,\n",
    "#         0.03,\n",
    "#         f\"Data Source: European Space Agency\",\n",
    "#         ha=\"center\",\n",
    "#         fontsize=14,\n",
    "#     )"
   ]
  },
  {
   "cell_type": "code",
   "execution_count": null,
   "metadata": {
    "ExecuteTime": {
     "end_time": "2021-01-07T13:58:30.626757Z",
     "start_time": "2021-01-07T13:58:28.180839Z"
    }
   },
   "outputs": [],
   "source": [
    "with plt.style.context(\"dark_background\"):\n",
    "    fig, ax = plt.subplots(nrows=1, ncols=2, figsize=(24, 12))\n",
    "    #     plt.hist(x=percent_masked_co, bins=20, ax=ax[0])\n",
    "    ax[0].hist(\n",
    "        x=percent_masked_co,\n",
    "        bins=10,\n",
    "        #                color=\"#984ea3\",\n",
    "        color=\"#4daf4a\",\n",
    "        range=(0, 100),\n",
    "    )\n",
    "    ax[1].hist(x=percent_masked_no2, bins=10, color=\"#984ea3\", range=(0, 100))\n",
    "    # Add super title\n",
    "    plt.suptitle(\n",
    "        f\"Masked Data Exploration, South Korea, July 2018 - December 2020\",\n",
    "        size=24,\n",
    "    )\n",
    "\n",
    "    # Adjust spacing\n",
    "    plt.subplots_adjust(top=0.9)\n",
    "\n",
    "    # Add caption\n",
    "    fig.text(\n",
    "        0.5,\n",
    "        0.03,\n",
    "        f\"Data Source: European Space Agency\",\n",
    "        ha=\"center\",\n",
    "        fontsize=14,\n",
    "    )\n",
    "\n",
    "    titles = [\n",
    "        f\"Carbon Monoxide ({image_count_co} Images)\",\n",
    "        f\"Nitrogen Dioxide ({image_count_no2} Images)\",\n",
    "    ]\n",
    "    for index, axis in enumerate(fig.axes):\n",
    "        axis.set_title(titles[index])\n",
    "        axis.set_xlabel(\"Percent of Masked Pixels (%)\")\n",
    "        axis.set_ylabel(\"Count\")\n",
    "        axis.set_ylim(0, 300)\n",
    "\n",
    "stl.save_figure(\n",
    "    output_path=os.path.join(\n",
    "        \"04-graphics-outputs\",\n",
    "        \"histograms\",\n",
    "        \"south-korea\",\n",
    "        \"south-korea-percent-masked-histograms-10-bin-co-no2-20180701-20201231\",\n",
    "    )\n",
    ")"
   ]
  },
  {
   "cell_type": "code",
   "execution_count": null,
   "metadata": {
    "ExecuteTime": {
     "end_time": "2021-01-07T13:59:22.823410Z",
     "start_time": "2021-01-07T13:59:20.320485Z"
    }
   },
   "outputs": [],
   "source": [
    "with plt.style.context(\"dark_background\"):\n",
    "    fig, ax = plt.subplots(nrows=1, ncols=2, figsize=(24, 12))\n",
    "    #     plt.hist(x=percent_masked_co, bins=20, ax=ax[0])\n",
    "    ax[0].hist(\n",
    "        x=percent_masked_co,\n",
    "        bins=20,\n",
    "        #                color=\"#984ea3\",\n",
    "        color=\"#4daf4a\",\n",
    "        range=(0, 100),\n",
    "    )\n",
    "    ax[1].hist(x=percent_masked_no2, bins=20, color=\"#984ea3\", range=(0, 100))\n",
    "    # Add super title\n",
    "    plt.suptitle(\n",
    "        f\"Masked Data Exploration, South Korea, July 2018 - December 2020\",\n",
    "        size=24,\n",
    "    )\n",
    "\n",
    "    # Adjust spacing\n",
    "    plt.subplots_adjust(top=0.9)\n",
    "\n",
    "    # Add caption\n",
    "    fig.text(\n",
    "        0.5,\n",
    "        0.03,\n",
    "        f\"Data Source: European Space Agency\",\n",
    "        ha=\"center\",\n",
    "        fontsize=14,\n",
    "    )\n",
    "\n",
    "    titles = [\n",
    "        f\"Carbon Monoxide ({image_count_co} Images)\",\n",
    "        f\"Nitrogen Dioxide ({image_count_no2} Images)\",\n",
    "    ]\n",
    "    for index, axis in enumerate(fig.axes):\n",
    "        axis.set_title(titles[index])\n",
    "        axis.set_xlabel(\"Percent of Masked Pixels (%)\")\n",
    "        axis.set_ylabel(\"Count\")\n",
    "        axis.set_ylim(0, 200)\n",
    "\n",
    "stl.save_figure(\n",
    "    output_path=os.path.join(\n",
    "        \"04-graphics-outputs\",\n",
    "        \"histograms\",\n",
    "        \"south-korea\",\n",
    "        \"south-korea-percent-masked-histograms-20-bin-co-no2-20180701-20201231\",\n",
    "    )\n",
    ")"
   ]
  },
  {
   "cell_type": "code",
   "execution_count": null,
   "metadata": {
    "ExecuteTime": {
     "end_time": "2021-01-07T13:59:19.632716Z",
     "start_time": "2021-01-07T13:59:17.182885Z"
    }
   },
   "outputs": [],
   "source": [
    "with plt.style.context(\"dark_background\"):\n",
    "    fig, ax = plt.subplots(nrows=1, ncols=2, figsize=(24, 12))\n",
    "    #     plt.hist(x=percent_masked_co, bins=20, ax=ax[0])\n",
    "    ax[0].hist(\n",
    "        x=percent_masked_co,\n",
    "        bins=5,\n",
    "        #         color=\"#984ea3\",\n",
    "        color=\"#4daf4a\",\n",
    "        range=(0, 100),\n",
    "    )\n",
    "    ax[1].hist(x=percent_masked_no2, bins=5, color=\"#984ea3\", range=(0, 100))\n",
    "    # Add super title\n",
    "    plt.suptitle(\n",
    "        f\"Masked Data Exploration, South Korea, July 2018 - December 2020\",\n",
    "        size=24,\n",
    "    )\n",
    "\n",
    "    # Adjust spacing\n",
    "    plt.subplots_adjust(top=0.9)\n",
    "\n",
    "    # Add caption\n",
    "    fig.text(\n",
    "        0.5,\n",
    "        0.03,\n",
    "        f\"Data Source: European Space Agency\",\n",
    "        ha=\"center\",\n",
    "        fontsize=14,\n",
    "    )\n",
    "\n",
    "    titles = [\n",
    "        f\"Carbon Monoxide ({image_count_co} Images)\",\n",
    "        f\"Nitrogen Dioxide ({image_count_no2} Images)\",\n",
    "    ]\n",
    "    for index, axis in enumerate(fig.axes):\n",
    "        axis.set_title(titles[index])\n",
    "        axis.set_xlabel(\"Percent of Masked Pixels (%)\")\n",
    "        axis.set_ylabel(\"Count\")\n",
    "        axis.set_ylim(0, 450)\n",
    "\n",
    "\n",
    "stl.save_figure(\n",
    "    output_path=os.path.join(\n",
    "        \"04-graphics-outputs\",\n",
    "        \"histograms\",\n",
    "        \"south-korea\",\n",
    "        \"south-korea-percent-masked-histograms-5-bin-co-no2-20180701-20201231\",\n",
    "    )\n",
    ")"
   ]
  },
  {
   "cell_type": "markdown",
   "metadata": {},
   "source": [
    "# Data Processing"
   ]
  },
  {
   "cell_type": "code",
   "execution_count": null,
   "metadata": {},
   "outputs": [],
   "source": []
  },
  {
   "cell_type": "markdown",
   "metadata": {},
   "source": [
    "# Data Postprocessing"
   ]
  },
  {
   "cell_type": "code",
   "execution_count": null,
   "metadata": {},
   "outputs": [],
   "source": []
  },
  {
   "cell_type": "markdown",
   "metadata": {},
   "source": [
    "# Data Visualization"
   ]
  },
  {
   "cell_type": "code",
   "execution_count": null,
   "metadata": {},
   "outputs": [],
   "source": []
  },
  {
   "cell_type": "markdown",
   "metadata": {},
   "source": [
    "# Data Export"
   ]
  },
  {
   "cell_type": "code",
   "execution_count": null,
   "metadata": {},
   "outputs": [],
   "source": []
  }
 ],
 "metadata": {
  "hide_input": false,
  "kernelspec": {
   "display_name": "Python 3",
   "language": "python",
   "name": "python3"
  },
  "language_info": {
   "codemirror_mode": {
    "name": "ipython",
    "version": 3
   },
   "file_extension": ".py",
   "mimetype": "text/x-python",
   "name": "python",
   "nbconvert_exporter": "python",
   "pygments_lexer": "ipython3",
   "version": "3.7.6"
  },
  "toc": {
   "base_numbering": 1,
   "nav_menu": {},
   "number_sections": true,
   "sideBar": true,
   "skip_h1_title": false,
   "title_cell": "Table of Contents",
   "title_sidebar": "Contents",
   "toc_cell": false,
   "toc_position": {
    "height": "calc(100% - 180px)",
    "left": "10px",
    "top": "150px",
    "width": "287px"
   },
   "toc_section_display": true,
   "toc_window_display": true
  },
  "varInspector": {
   "cols": {
    "lenName": 16,
    "lenType": 16,
    "lenVar": 40
   },
   "kernels_config": {
    "python": {
     "delete_cmd_postfix": "",
     "delete_cmd_prefix": "del ",
     "library": "var_list.py",
     "varRefreshCmd": "print(var_dic_list())"
    },
    "r": {
     "delete_cmd_postfix": ") ",
     "delete_cmd_prefix": "rm(",
     "library": "var_list.r",
     "varRefreshCmd": "cat(var_dic_list()) "
    }
   },
   "types_to_exclude": [
    "module",
    "function",
    "builtin_function_or_method",
    "instance",
    "_Feature"
   ],
   "window_display": false
  }
 },
 "nbformat": 4,
 "nbformat_minor": 4
}
