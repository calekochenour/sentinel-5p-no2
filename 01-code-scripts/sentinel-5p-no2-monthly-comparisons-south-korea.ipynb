{
 "cells": [
  {
   "cell_type": "markdown",
   "metadata": {},
   "source": [
    "# Sentinel-5P Monthly Comparisons"
   ]
  },
  {
   "cell_type": "markdown",
   "metadata": {},
   "source": [
    "## Environment Setup"
   ]
  },
  {
   "cell_type": "code",
   "execution_count": null,
   "metadata": {
    "ExecuteTime": {
     "end_time": "2020-10-15T17:09:44.483234Z",
     "start_time": "2020-10-15T17:09:44.313688Z"
    }
   },
   "outputs": [],
   "source": [
    "# Load Notebook formatter\n",
    "%load_ext nb_black"
   ]
  },
  {
   "cell_type": "code",
   "execution_count": null,
   "metadata": {
    "ExecuteTime": {
     "end_time": "2020-10-15T17:09:46.696323Z",
     "start_time": "2020-10-15T17:09:44.486225Z"
    }
   },
   "outputs": [],
   "source": [
    "# Imports\n",
    "import os\n",
    "import glob\n",
    "import matplotlib.pyplot as plt\n",
    "import numpy as np\n",
    "import seaborn as sns\n",
    "import geopandas as gpd\n",
    "import rasterio as rio\n",
    "import earthpy as et\n",
    "import earthpy.plot as ep\n",
    "import radiance as rd\n",
    "import sentinel as stl"
   ]
  },
  {
   "cell_type": "code",
   "execution_count": null,
   "metadata": {
    "ExecuteTime": {
     "end_time": "2020-10-15T17:09:46.712271Z",
     "start_time": "2020-10-15T17:09:46.698309Z"
    }
   },
   "outputs": [],
   "source": [
    "# Set Options\n",
    "sns.set(font_scale=1.5, style=\"whitegrid\")"
   ]
  },
  {
   "cell_type": "code",
   "execution_count": null,
   "metadata": {
    "ExecuteTime": {
     "end_time": "2020-10-15T17:09:46.731220Z",
     "start_time": "2020-10-15T17:09:46.715264Z"
    }
   },
   "outputs": [],
   "source": [
    "# Set working directory\n",
    "os.chdir(\"..\")\n",
    "print(f\"Working directory: {os.getcwd()}\")"
   ]
  },
  {
   "cell_type": "markdown",
   "metadata": {},
   "source": [
    "## Data Acquisition and Preprocessing"
   ]
  },
  {
   "cell_type": "markdown",
   "metadata": {},
   "source": [
    "Workflow:\n",
    "\n",
    "* Load monthly mean GeoTiffs as arrays into dictionary, indexed by year and month.\n",
    "    * How to handle the already-calculated (non-monthly) statistics that are also in the same file locatio? Move the files to a new folder (e.g. \"monthly\" folder and \"biannual\" folder to keep them separate). Would also have to change the `calculate_statistics.py` script for the output destination.\n",
    "* Ouput static (non-georeferenced) plots for each months in the series, with country boundaries for context.\n",
    "* Output static (non-georeferenced) plots for year-to-year change for each set of months (March 2019 mean vs. March 2020 mean, and change).\n",
    "* Find out how many days were included in each month's mean (for context)\n",
    "* Separate land and water (use separate notebook for this?)"
   ]
  },
  {
   "cell_type": "markdown",
   "metadata": {},
   "source": [
    "### Raster"
   ]
  },
  {
   "cell_type": "code",
   "execution_count": null,
   "metadata": {
    "ExecuteTime": {
     "end_time": "2020-10-15T17:09:46.751167Z",
     "start_time": "2020-10-15T17:09:46.734212Z"
    }
   },
   "outputs": [],
   "source": [
    "# Get all mean files into list\n",
    "monthly_means = glob.glob(\n",
    "    os.path.join(\n",
    "        \"03-processed-data\",\n",
    "        \"raster\",\n",
    "        \"south-korea\",\n",
    "        \"statistics\",\n",
    "        \"monthly\",\n",
    "        \"*MEAN*tif\",\n",
    "    )\n",
    ")"
   ]
  },
  {
   "cell_type": "code",
   "execution_count": null,
   "metadata": {
    "ExecuteTime": {
     "end_time": "2020-10-15T17:09:47.014470Z",
     "start_time": "2020-10-15T17:09:46.754159Z"
    }
   },
   "outputs": [],
   "source": [
    "# Read monthly mean GeoTiffs into arrays and store in dictionary\n",
    "no2_dict = {}\n",
    "for geotiff in monthly_means:\n",
    "    # Read GeoTiff into array\n",
    "    with rio.open(geotiff) as src:\n",
    "        array = src.read(1)\n",
    "    # Replace NAN values with 0.0 if necessary\n",
    "    if np.count_nonzero(np.isnan(array)) > 0:\n",
    "        np.nan_to_num(array, copy=False, nan=0.0)\n",
    "    # CONVERT UNITS FROM MOL/M2 to MOLECULES/CM2\n",
    "    # Store in dictionary, indexed by dictionary[YEAR][MONTH]\n",
    "    year, month = (\n",
    "        os.path.basename(geotiff)[16:20],\n",
    "        os.path.basename(geotiff)[20:22],\n",
    "    )\n",
    "    if year not in no2_dict.keys():\n",
    "        no2_dict[year] = {}\n",
    "    if month not in no2_dict[year].keys():\n",
    "        no2_dict[year][month] = array"
   ]
  },
  {
   "cell_type": "code",
   "execution_count": null,
   "metadata": {
    "ExecuteTime": {
     "end_time": "2020-10-15T17:09:47.028425Z",
     "start_time": "2020-10-15T17:09:47.017454Z"
    }
   },
   "outputs": [],
   "source": [
    "# Check top-level keys (years)\n",
    "no2_dict.keys()"
   ]
  },
  {
   "cell_type": "code",
   "execution_count": null,
   "metadata": {
    "ExecuteTime": {
     "end_time": "2020-10-15T17:09:47.043398Z",
     "start_time": "2020-10-15T17:09:47.031415Z"
    }
   },
   "outputs": [],
   "source": [
    "# Check second-level keys (months)\n",
    "no2_dict[\"2020\"].keys()"
   ]
  },
  {
   "cell_type": "code",
   "execution_count": null,
   "metadata": {
    "ExecuteTime": {
     "end_time": "2020-10-15T17:09:47.056352Z",
     "start_time": "2020-10-15T17:09:47.046378Z"
    }
   },
   "outputs": [],
   "source": [
    "# Check single entry\n",
    "no2_dict[\"2020\"][\"05\"].shape"
   ]
  },
  {
   "cell_type": "markdown",
   "metadata": {},
   "source": [
    "### Vector"
   ]
  },
  {
   "cell_type": "code",
   "execution_count": null,
   "metadata": {
    "ExecuteTime": {
     "end_time": "2020-10-15T17:09:47.075299Z",
     "start_time": "2020-10-15T17:09:47.059343Z"
    }
   },
   "outputs": [],
   "source": [
    "# Extract plotting extent\n",
    "south_korea_extent = stl.extract_plotting_extent(monthly_means[0])\n",
    "print(f\"South Korea Extent: {south_korea_extent}\")"
   ]
  },
  {
   "cell_type": "code",
   "execution_count": null,
   "metadata": {
    "ExecuteTime": {
     "end_time": "2020-10-15T17:09:47.411400Z",
     "start_time": "2020-10-15T17:09:47.078291Z"
    }
   },
   "outputs": [],
   "source": [
    "# Define path to South Korea shapefile\n",
    "south_korea_shp_path = os.path.join(\n",
    "    \"02-raw-data\", \"vector\", \"south-korea\", \"gadm36_south_korea.shp\"\n",
    ")\n",
    "\n",
    "# Read South Korea shapefile into geodataframe and project if necessary\n",
    "south_korea_boundary = stl.project_vector(\n",
    "    vector_path=south_korea_shp_path, raster_path=monthly_means[0]\n",
    ")\n",
    "\n",
    "# Create extent polygon\n",
    "south_korea_polygon = stl.create_polygon_from_extent(south_korea_extent)\n",
    "\n",
    "print(f\"South Korea CRS: {south_korea_boundary.crs}\")\n",
    "print(f\"South Korea Bounds:\\n{south_korea_boundary.bounds.loc[0]}\")"
   ]
  },
  {
   "cell_type": "code",
   "execution_count": null,
   "metadata": {
    "ExecuteTime": {
     "end_time": "2020-10-15T17:09:50.591890Z",
     "start_time": "2020-10-15T17:09:47.413395Z"
    }
   },
   "outputs": [],
   "source": [
    "# Define path to North Korea shapefile\n",
    "north_korea_shp_path = os.path.join(\n",
    "    \"02-raw-data\", \"vector\", \"north-korea\", \"gadm36_north_korea.shp\"\n",
    ")\n",
    "\n",
    "# Read North Korea shapefile into geodataframe and project if necessary\n",
    "north_korea_boundary = stl.project_vector(\n",
    "    vector_path=north_korea_shp_path, raster_path=monthly_means[0]\n",
    ")\n",
    "\n",
    "print(f\"North Korea CRS: {north_korea_boundary.crs}\")\n",
    "print(f\"North Korea Bounds:\\n{north_korea_boundary.bounds.loc[0]}\")\n",
    "\n",
    "# Clip North Korea to South Korea extent polygon\n",
    "north_korea_boundary_clipped = gpd.clip(\n",
    "    gpd.GeoDataFrame(\n",
    "        geometry=[south_korea_polygon], crs=north_korea_boundary.crs\n",
    "    ),\n",
    "    north_korea_boundary,\n",
    ")\n",
    "\n",
    "print(f\"\\nNorth Korea Clipped CRS: {north_korea_boundary_clipped.crs}\")\n",
    "print(\n",
    "    f\"North Korea Clipped Bounds:\\n{north_korea_boundary_clipped.bounds.loc[0]}\"\n",
    ")"
   ]
  },
  {
   "cell_type": "code",
   "execution_count": null,
   "metadata": {
    "ExecuteTime": {
     "end_time": "2020-10-15T17:09:50.988829Z",
     "start_time": "2020-10-15T17:09:50.594907Z"
    }
   },
   "outputs": [],
   "source": [
    "# Display clipped boundary\n",
    "north_korea_boundary_clipped.boundary.plot()"
   ]
  },
  {
   "cell_type": "markdown",
   "metadata": {},
   "source": [
    "## Data Processing"
   ]
  },
  {
   "cell_type": "markdown",
   "metadata": {},
   "source": [
    "### Magnitude Change"
   ]
  },
  {
   "cell_type": "code",
   "execution_count": null,
   "metadata": {
    "ExecuteTime": {
     "end_time": "2020-10-15T17:09:51.061634Z",
     "start_time": "2020-10-15T17:09:50.991822Z"
    }
   },
   "outputs": [],
   "source": [
    "# Calculate magnitude change\n",
    "magnitude_change_jul_2018_2019 = stl.calculate_magnitude_change(\n",
    "    pre_change=no2_dict[\"2018\"][\"07\"], post_change=no2_dict[\"2019\"][\"07\"]\n",
    ")\n",
    "\n",
    "magnitude_change_aug_2018_2019 = stl.calculate_magnitude_change(\n",
    "    pre_change=no2_dict[\"2018\"][\"08\"], post_change=no2_dict[\"2019\"][\"08\"]\n",
    ")\n",
    "\n",
    "magnitude_change_sep_2018_2019 = stl.calculate_magnitude_change(\n",
    "    pre_change=no2_dict[\"2018\"][\"09\"], post_change=no2_dict[\"2019\"][\"09\"]\n",
    ")\n",
    "\n",
    "magnitude_change_oct_2018_2019 = stl.calculate_magnitude_change(\n",
    "    pre_change=no2_dict[\"2018\"][\"10\"], post_change=no2_dict[\"2019\"][\"10\"]\n",
    ")\n",
    "\n",
    "magnitude_change_nov_2018_2019 = stl.calculate_magnitude_change(\n",
    "    pre_change=no2_dict[\"2018\"][\"11\"], post_change=no2_dict[\"2019\"][\"11\"]\n",
    ")\n",
    "\n",
    "magnitude_change_dec_2018_2019 = stl.calculate_magnitude_change(\n",
    "    pre_change=no2_dict[\"2018\"][\"12\"], post_change=no2_dict[\"2019\"][\"12\"]\n",
    ")\n",
    "\n",
    "magnitude_change_jan_2019_2020 = stl.calculate_magnitude_change(\n",
    "    pre_change=no2_dict[\"2019\"][\"01\"], post_change=no2_dict[\"2020\"][\"01\"]\n",
    ")\n",
    "\n",
    "magnitude_change_feb_2019_2020 = stl.calculate_magnitude_change(\n",
    "    pre_change=no2_dict[\"2019\"][\"02\"], post_change=no2_dict[\"2020\"][\"02\"]\n",
    ")\n",
    "\n",
    "magnitude_change_mar_2019_2020 = stl.calculate_magnitude_change(\n",
    "    pre_change=no2_dict[\"2019\"][\"03\"], post_change=no2_dict[\"2020\"][\"03\"]\n",
    ")\n",
    "\n",
    "magnitude_change_apr_2019_2020 = stl.calculate_magnitude_change(\n",
    "    pre_change=no2_dict[\"2019\"][\"04\"], post_change=no2_dict[\"2020\"][\"04\"]\n",
    ")\n",
    "\n",
    "magnitude_change_may_2019_2020 = stl.calculate_magnitude_change(\n",
    "    pre_change=no2_dict[\"2019\"][\"05\"], post_change=no2_dict[\"2020\"][\"05\"]\n",
    ")\n",
    "\n",
    "magnitude_change_jun_2019_2020 = stl.calculate_magnitude_change(\n",
    "    pre_change=no2_dict[\"2019\"][\"06\"], post_change=no2_dict[\"2020\"][\"06\"]\n",
    ")\n",
    "\n",
    "magnitude_change_jul_2019_2020 = stl.calculate_magnitude_change(\n",
    "    pre_change=no2_dict[\"2019\"][\"07\"], post_change=no2_dict[\"2020\"][\"07\"]\n",
    ")"
   ]
  },
  {
   "cell_type": "markdown",
   "metadata": {},
   "source": [
    "### Percent Change"
   ]
  },
  {
   "cell_type": "code",
   "execution_count": null,
   "metadata": {
    "ExecuteTime": {
     "end_time": "2020-10-15T17:09:51.145409Z",
     "start_time": "2020-10-15T17:09:51.064627Z"
    }
   },
   "outputs": [],
   "source": [
    "# Calculate percent change\n",
    "percent_change_jul_2018_2019 = stl.calculate_percent_change(\n",
    "    pre_change=no2_dict[\"2018\"][\"07\"], post_change=no2_dict[\"2019\"][\"07\"]\n",
    ")\n",
    "\n",
    "percent_change_aug_2018_2019 = stl.calculate_percent_change(\n",
    "    pre_change=no2_dict[\"2018\"][\"08\"], post_change=no2_dict[\"2019\"][\"08\"]\n",
    ")\n",
    "\n",
    "percent_change_sep_2018_2019 = stl.calculate_percent_change(\n",
    "    pre_change=no2_dict[\"2018\"][\"09\"], post_change=no2_dict[\"2019\"][\"09\"]\n",
    ")\n",
    "\n",
    "percent_change_oct_2018_2019 = stl.calculate_percent_change(\n",
    "    pre_change=no2_dict[\"2018\"][\"10\"], post_change=no2_dict[\"2019\"][\"10\"]\n",
    ")\n",
    "\n",
    "percent_change_nov_2018_2019 = stl.calculate_percent_change(\n",
    "    pre_change=no2_dict[\"2018\"][\"11\"], post_change=no2_dict[\"2019\"][\"11\"]\n",
    ")\n",
    "\n",
    "percent_change_dec_2018_2019 = stl.calculate_percent_change(\n",
    "    pre_change=no2_dict[\"2018\"][\"12\"], post_change=no2_dict[\"2019\"][\"12\"]\n",
    ")\n",
    "\n",
    "percent_change_jan_2019_2020 = stl.calculate_percent_change(\n",
    "    pre_change=no2_dict[\"2019\"][\"01\"], post_change=no2_dict[\"2020\"][\"01\"]\n",
    ")\n",
    "\n",
    "percent_change_feb_2019_2020 = stl.calculate_percent_change(\n",
    "    pre_change=no2_dict[\"2019\"][\"02\"], post_change=no2_dict[\"2020\"][\"02\"]\n",
    ")\n",
    "\n",
    "percent_change_mar_2019_2020 = stl.calculate_percent_change(\n",
    "    pre_change=no2_dict[\"2019\"][\"03\"], post_change=no2_dict[\"2020\"][\"03\"]\n",
    ")\n",
    "\n",
    "percent_change_apr_2019_2020 = stl.calculate_percent_change(\n",
    "    pre_change=no2_dict[\"2019\"][\"04\"], post_change=no2_dict[\"2020\"][\"04\"]\n",
    ")\n",
    "\n",
    "percent_change_may_2019_2020 = stl.calculate_percent_change(\n",
    "    pre_change=no2_dict[\"2019\"][\"05\"], post_change=no2_dict[\"2020\"][\"05\"]\n",
    ")\n",
    "\n",
    "percent_change_jun_2019_2020 = stl.calculate_percent_change(\n",
    "    pre_change=no2_dict[\"2019\"][\"06\"], post_change=no2_dict[\"2020\"][\"06\"]\n",
    ")\n",
    "\n",
    "percent_change_jul_2019_2020 = stl.calculate_percent_change(\n",
    "    pre_change=no2_dict[\"2019\"][\"07\"], post_change=no2_dict[\"2020\"][\"07\"]\n",
    ")"
   ]
  },
  {
   "cell_type": "markdown",
   "metadata": {},
   "source": [
    "## Data Postprocessing"
   ]
  },
  {
   "cell_type": "markdown",
   "metadata": {},
   "source": [
    "No data postprocessing."
   ]
  },
  {
   "cell_type": "markdown",
   "metadata": {},
   "source": [
    "## Data Visualization"
   ]
  },
  {
   "cell_type": "markdown",
   "metadata": {},
   "source": [
    "### Monthly Means"
   ]
  },
  {
   "cell_type": "markdown",
   "metadata": {},
   "source": [
    "NEEDS TO BE COMPLETED\n",
    "\n",
    "Plot each month in succession. Include same max/min to standardize. Use `ep.plot_bands()`."
   ]
  },
  {
   "cell_type": "code",
   "execution_count": null,
   "metadata": {
    "ExecuteTime": {
     "end_time": "2020-10-15T17:09:51.160370Z",
     "start_time": "2020-10-15T17:09:51.148403Z"
    }
   },
   "outputs": [],
   "source": [
    "no2_arrays_list = [\n",
    "    no2_dict[year][month]\n",
    "    for year in no2_dict.keys()\n",
    "    for month in no2_dict[year].keys()\n",
    "]"
   ]
  },
  {
   "cell_type": "code",
   "execution_count": null,
   "metadata": {
    "ExecuteTime": {
     "end_time": "2020-10-15T17:09:51.173335Z",
     "start_time": "2020-10-15T17:09:51.163360Z"
    }
   },
   "outputs": [],
   "source": [
    "len(no2_arrays_list)"
   ]
  },
  {
   "cell_type": "code",
   "execution_count": null,
   "metadata": {
    "ExecuteTime": {
     "end_time": "2020-10-15T17:09:51.193282Z",
     "start_time": "2020-10-15T17:09:51.176348Z"
    }
   },
   "outputs": [],
   "source": [
    "no2_arrays_stack = np.stack(no2_arrays_list)"
   ]
  },
  {
   "cell_type": "code",
   "execution_count": null,
   "metadata": {
    "ExecuteTime": {
     "end_time": "2020-10-15T17:09:51.207243Z",
     "start_time": "2020-10-15T17:09:51.195277Z"
    }
   },
   "outputs": [],
   "source": [
    "no2_arrays_stack[0] - no2_arrays_stack[0]  # .shape"
   ]
  },
  {
   "cell_type": "code",
   "execution_count": null,
   "metadata": {
    "ExecuteTime": {
     "end_time": "2020-10-15T17:09:51.220210Z",
     "start_time": "2020-10-15T17:09:51.209241Z"
    }
   },
   "outputs": [],
   "source": [
    "no2_arrays_stack.max()"
   ]
  },
  {
   "cell_type": "code",
   "execution_count": null,
   "metadata": {
    "ExecuteTime": {
     "end_time": "2020-10-15T17:09:51.229195Z",
     "start_time": "2020-10-15T17:09:51.223201Z"
    }
   },
   "outputs": [],
   "source": [
    "# Need to fill NAN values with 0 to get an accurate min/max for standardizing the plots."
   ]
  },
  {
   "cell_type": "code",
   "execution_count": null,
   "metadata": {
    "ExecuteTime": {
     "end_time": "2020-10-15T17:09:51.245142Z",
     "start_time": "2020-10-15T17:09:51.235170Z"
    }
   },
   "outputs": [],
   "source": [
    "no2_arrays_stack.min()"
   ]
  },
  {
   "cell_type": "code",
   "execution_count": null,
   "metadata": {
    "ExecuteTime": {
     "end_time": "2020-10-15T17:09:52.416431Z",
     "start_time": "2020-10-15T17:09:51.249132Z"
    }
   },
   "outputs": [],
   "source": [
    "ep.plot_bands(no2_arrays_stack[:6])"
   ]
  },
  {
   "cell_type": "markdown",
   "metadata": {},
   "source": [
    "### Monthly Comparison"
   ]
  },
  {
   "cell_type": "markdown",
   "metadata": {},
   "source": [
    "#### Magnitude Change"
   ]
  },
  {
   "cell_type": "code",
   "execution_count": null,
   "metadata": {
    "ExecuteTime": {
     "end_time": "2020-10-15T17:09:56.626043Z",
     "start_time": "2020-10-15T17:09:52.420414Z"
    }
   },
   "outputs": [],
   "source": [
    "# Plot July 2018-2019 change\n",
    "fig, ax = stl.plot_monthly_comparison(\n",
    "    pre_change=no2_dict[\"2018\"][\"07\"],\n",
    "    post_change=no2_dict[\"2019\"][\"07\"],\n",
    "    extent_file=monthly_means[0],\n",
    "    country_boundaries=[north_korea_boundary_clipped, south_korea_boundary],\n",
    "    country_names=[\"North Korea\", \"South Korea\"],\n",
    "    change_type=\"magnitude\",\n",
    "    location=\"South Korea\",\n",
    "    titles=[\n",
    "        \"July 2018 Mean NO2 ($\\mathrm{mol \\cdot m^{-2}}$)\",\n",
    "        \"July 2019 Mean NO2 ($\\mathrm{mol \\cdot m^{-2}}$)\",\n",
    "        \"Change in Mean NO2 ($\\mathrm{mol \\cdot m^{-2}}$)\",\n",
    "    ],\n",
    "    data_source=\"European Space Agency\",\n",
    ")"
   ]
  },
  {
   "cell_type": "code",
   "execution_count": null,
   "metadata": {
    "ExecuteTime": {
     "end_time": "2020-10-15T17:10:00.513747Z",
     "start_time": "2020-10-15T17:09:56.629037Z"
    }
   },
   "outputs": [],
   "source": [
    "# Plot August 2018-2019 change\n",
    "fig, ax = stl.plot_monthly_comparison(\n",
    "    pre_change=no2_dict[\"2018\"][\"08\"],\n",
    "    post_change=no2_dict[\"2019\"][\"08\"],\n",
    "    extent_file=monthly_means[0],\n",
    "    country_boundaries=[north_korea_boundary_clipped, south_korea_boundary],\n",
    "    country_names=[\"North Korea\", \"South Korea\"],\n",
    "    change_type=\"magnitude\",\n",
    "    location=\"South Korea\",\n",
    "    titles=[\n",
    "        \"August 2018 Mean NO2 ($\\mathrm{mol \\cdot m^{-2}}$)\",\n",
    "        \"August 2019 Mean NO2 ($\\mathrm{mol \\cdot m^{-2}}$)\",\n",
    "        \"Change in Mean NO2 ($\\mathrm{mol \\cdot m^{-2}}$)\",\n",
    "    ],\n",
    "    data_source=\"European Space Agency\",\n",
    ")"
   ]
  },
  {
   "cell_type": "code",
   "execution_count": null,
   "metadata": {
    "ExecuteTime": {
     "end_time": "2020-10-15T17:10:04.503522Z",
     "start_time": "2020-10-15T17:10:00.515731Z"
    }
   },
   "outputs": [],
   "source": [
    "# Plot September 2018-2019 change\n",
    "fig, ax = stl.plot_monthly_comparison(\n",
    "    pre_change=no2_dict[\"2018\"][\"09\"],\n",
    "    post_change=no2_dict[\"2019\"][\"09\"],\n",
    "    extent_file=monthly_means[0],\n",
    "    country_boundaries=[north_korea_boundary_clipped, south_korea_boundary],\n",
    "    country_names=[\"North Korea\", \"South Korea\"],\n",
    "    change_type=\"magnitude\",\n",
    "    location=\"South Korea\",\n",
    "    titles=[\n",
    "        \"September 2018 Mean NO2 ($\\mathrm{mol \\cdot m^{-2}}$)\",\n",
    "        \"September 2019 Mean NO2 ($\\mathrm{mol \\cdot m^{-2}}$)\",\n",
    "        \"Change in Mean NO2 ($\\mathrm{mol \\cdot m^{-2}}$)\",\n",
    "    ],\n",
    "    data_source=\"European Space Agency\",\n",
    ")"
   ]
  },
  {
   "cell_type": "code",
   "execution_count": null,
   "metadata": {
    "ExecuteTime": {
     "end_time": "2020-10-15T17:10:08.354392Z",
     "start_time": "2020-10-15T17:10:04.505516Z"
    }
   },
   "outputs": [],
   "source": [
    "# Plot October 2018-2019 change\n",
    "fig, ax = stl.plot_monthly_comparison(\n",
    "    pre_change=no2_dict[\"2018\"][\"10\"],\n",
    "    post_change=no2_dict[\"2019\"][\"10\"],\n",
    "    extent_file=monthly_means[0],\n",
    "    country_boundaries=[north_korea_boundary_clipped, south_korea_boundary],\n",
    "    country_names=[\"North Korea\", \"South Korea\"],\n",
    "    change_type=\"magnitude\",\n",
    "    location=\"South Korea\",\n",
    "    titles=[\n",
    "        \"October 2018 Mean NO2 ($\\mathrm{mol \\cdot m^{-2}}$)\",\n",
    "        \"October 2019 Mean NO2 ($\\mathrm{mol \\cdot m^{-2}}$)\",\n",
    "        \"Change in Mean NO2 ($\\mathrm{mol \\cdot m^{-2}}$)\",\n",
    "    ],\n",
    "    data_source=\"European Space Agency\",\n",
    ")"
   ]
  },
  {
   "cell_type": "code",
   "execution_count": null,
   "metadata": {
    "ExecuteTime": {
     "end_time": "2020-10-15T17:10:12.420512Z",
     "start_time": "2020-10-15T17:10:08.357384Z"
    }
   },
   "outputs": [],
   "source": [
    "# Plot November 2018-2019 change\n",
    "fig, ax = stl.plot_monthly_comparison(\n",
    "    pre_change=no2_dict[\"2018\"][\"11\"],\n",
    "    post_change=no2_dict[\"2019\"][\"11\"],\n",
    "    extent_file=monthly_means[0],\n",
    "    country_boundaries=[north_korea_boundary_clipped, south_korea_boundary],\n",
    "    country_names=[\"North Korea\", \"South Korea\"],\n",
    "    change_type=\"magnitude\",\n",
    "    location=\"South Korea\",\n",
    "    titles=[\n",
    "        \"November 2018 Mean NO2 ($\\mathrm{mol \\cdot m^{-2}}$)\",\n",
    "        \"November 2019 Mean NO2 ($\\mathrm{mol \\cdot m^{-2}}$)\",\n",
    "        \"Change in Mean NO2 ($\\mathrm{mol \\cdot m^{-2}}$)\",\n",
    "    ],\n",
    "    data_source=\"European Space Agency\",\n",
    ")"
   ]
  },
  {
   "cell_type": "code",
   "execution_count": null,
   "metadata": {
    "ExecuteTime": {
     "end_time": "2020-10-15T17:10:16.469352Z",
     "start_time": "2020-10-15T17:10:12.422508Z"
    }
   },
   "outputs": [],
   "source": [
    "# Plot December 2018-2019 change\n",
    "fig, ax = stl.plot_monthly_comparison(\n",
    "    pre_change=no2_dict[\"2018\"][\"12\"],\n",
    "    post_change=no2_dict[\"2019\"][\"12\"],\n",
    "    extent_file=monthly_means[0],\n",
    "    country_boundaries=[north_korea_boundary_clipped, south_korea_boundary],\n",
    "    country_names=[\"North Korea\", \"South Korea\"],\n",
    "    change_type=\"magnitude\",\n",
    "    location=\"South Korea\",\n",
    "    titles=[\n",
    "        \"December 2018 Mean NO2 ($\\mathrm{mol \\cdot m^{-2}}$)\",\n",
    "        \"December 2019 Mean NO2 ($\\mathrm{mol \\cdot m^{-2}}$)\",\n",
    "        \"Change in Mean NO2 ($\\mathrm{mol \\cdot m^{-2}}$)\",\n",
    "    ],\n",
    "    data_source=\"European Space Agency\",\n",
    ")"
   ]
  },
  {
   "cell_type": "code",
   "execution_count": null,
   "metadata": {
    "ExecuteTime": {
     "end_time": "2020-10-15T17:10:20.213393Z",
     "start_time": "2020-10-15T17:10:16.469352Z"
    }
   },
   "outputs": [],
   "source": [
    "# Plot January 2019-2020 change\n",
    "fig, ax = stl.plot_monthly_comparison(\n",
    "    pre_change=no2_dict[\"2019\"][\"01\"],\n",
    "    post_change=no2_dict[\"2020\"][\"01\"],\n",
    "    extent_file=monthly_means[0],\n",
    "    country_boundaries=[north_korea_boundary_clipped, south_korea_boundary],\n",
    "    country_names=[\"North Korea\", \"South Korea\"],\n",
    "    change_type=\"magnitude\",\n",
    "    location=\"South Korea\",\n",
    "    titles=[\n",
    "        \"January 2019 Mean NO2 ($\\mathrm{mol \\cdot m^{-2}}$)\",\n",
    "        \"January 2020 Mean NO2 ($\\mathrm{mol \\cdot m^{-2}}$)\",\n",
    "        \"Change in Mean NO2 ($\\mathrm{mol \\cdot m^{-2}}$)\",\n",
    "    ],\n",
    "    data_source=\"European Space Agency\",\n",
    ")"
   ]
  },
  {
   "cell_type": "code",
   "execution_count": null,
   "metadata": {
    "ExecuteTime": {
     "end_time": "2020-10-15T17:10:24.575722Z",
     "start_time": "2020-10-15T17:10:20.216385Z"
    }
   },
   "outputs": [],
   "source": [
    "# Plot February 2019-2020 change\n",
    "fig, ax = stl.plot_monthly_comparison(\n",
    "    pre_change=no2_dict[\"2019\"][\"02\"],\n",
    "    post_change=no2_dict[\"2020\"][\"02\"],\n",
    "    extent_file=monthly_means[0],\n",
    "    country_boundaries=[north_korea_boundary_clipped, south_korea_boundary],\n",
    "    country_names=[\"North Korea\", \"South Korea\"],\n",
    "    change_type=\"magnitude\",\n",
    "    location=\"South Korea\",\n",
    "    titles=[\n",
    "        \"February 2019 Mean NO2 ($\\mathrm{mol \\cdot m^{-2}}$)\",\n",
    "        \"February 2020 Mean NO2 ($\\mathrm{mol \\cdot m^{-2}}$)\",\n",
    "        \"Change in Mean NO2 ($\\mathrm{mol \\cdot m^{-2}}$)\",\n",
    "    ],\n",
    "    data_source=\"European Space Agency\",\n",
    ")"
   ]
  },
  {
   "cell_type": "code",
   "execution_count": null,
   "metadata": {
    "ExecuteTime": {
     "end_time": "2020-10-15T17:10:29.056683Z",
     "start_time": "2020-10-15T17:10:24.577717Z"
    }
   },
   "outputs": [],
   "source": [
    "# Plot March 2019-2020 change\n",
    "fig, ax = stl.plot_monthly_comparison(\n",
    "    pre_change=no2_dict[\"2019\"][\"03\"],\n",
    "    post_change=no2_dict[\"2020\"][\"03\"],\n",
    "    extent_file=monthly_means[0],\n",
    "    country_boundaries=[north_korea_boundary_clipped, south_korea_boundary],\n",
    "    country_names=[\"North Korea\", \"South Korea\"],\n",
    "    change_type=\"magnitude\",\n",
    "    location=\"South Korea\",\n",
    "    titles=[\n",
    "        \"March 2019 Mean NO2 ($\\mathrm{mol \\cdot m^{-2}}$)\",\n",
    "        \"March 2020 Mean NO2 ($\\mathrm{mol \\cdot m^{-2}}$)\",\n",
    "        \"Change in Mean NO2 ($\\mathrm{mol \\cdot m^{-2}}$)\",\n",
    "    ],\n",
    "    data_source=\"European Space Agency\",\n",
    ")"
   ]
  },
  {
   "cell_type": "code",
   "execution_count": null,
   "metadata": {
    "ExecuteTime": {
     "end_time": "2020-10-15T17:10:33.180679Z",
     "start_time": "2020-10-15T17:10:29.058676Z"
    }
   },
   "outputs": [],
   "source": [
    "# Plot April 2019-2020 change\n",
    "fig, ax = stl.plot_monthly_comparison(\n",
    "    pre_change=no2_dict[\"2019\"][\"04\"],\n",
    "    post_change=no2_dict[\"2020\"][\"04\"],\n",
    "    extent_file=monthly_means[0],\n",
    "    country_boundaries=[north_korea_boundary_clipped, south_korea_boundary],\n",
    "    country_names=[\"North Korea\", \"South Korea\"],\n",
    "    change_type=\"magnitude\",\n",
    "    location=\"South Korea\",\n",
    "    titles=[\n",
    "        \"April 2019 Mean NO2 ($\\mathrm{mol \\cdot m^{-2}}$)\",\n",
    "        \"April 2020 Mean NO2 ($\\mathrm{mol \\cdot m^{-2}}$)\",\n",
    "        \"Change in Mean NO2 ($\\mathrm{mol \\cdot m^{-2}}$)\",\n",
    "    ],\n",
    "    data_source=\"European Space Agency\",\n",
    ")"
   ]
  },
  {
   "cell_type": "code",
   "execution_count": null,
   "metadata": {
    "ExecuteTime": {
     "end_time": "2020-10-15T17:10:37.123936Z",
     "start_time": "2020-10-15T17:10:33.182643Z"
    }
   },
   "outputs": [],
   "source": [
    "# Plot May 2019-2020 change\n",
    "fig, ax = stl.plot_monthly_comparison(\n",
    "    pre_change=no2_dict[\"2019\"][\"05\"],\n",
    "    post_change=no2_dict[\"2020\"][\"05\"],\n",
    "    extent_file=monthly_means[0],\n",
    "    country_boundaries=[north_korea_boundary_clipped, south_korea_boundary],\n",
    "    country_names=[\"North Korea\", \"South Korea\"],\n",
    "    change_type=\"magnitude\",\n",
    "    location=\"South Korea\",\n",
    "    titles=[\n",
    "        \"May 2019 Mean NO2 ($\\mathrm{mol \\cdot m^{-2}}$)\",\n",
    "        \"May 2020 Mean NO2 ($\\mathrm{mol \\cdot m^{-2}}$)\",\n",
    "        \"Change in Mean NO2 ($\\mathrm{mol \\cdot m^{-2}}$)\",\n",
    "    ],\n",
    "    data_source=\"European Space Agency\",\n",
    ")"
   ]
  },
  {
   "cell_type": "code",
   "execution_count": null,
   "metadata": {
    "ExecuteTime": {
     "end_time": "2020-10-15T17:10:41.811317Z",
     "start_time": "2020-10-15T17:10:37.125919Z"
    }
   },
   "outputs": [],
   "source": [
    "# Plot June 2019-2020 change\n",
    "fig, ax = stl.plot_monthly_comparison(\n",
    "    pre_change=no2_dict[\"2019\"][\"06\"],\n",
    "    post_change=no2_dict[\"2020\"][\"06\"],\n",
    "    extent_file=monthly_means[0],\n",
    "    country_boundaries=[north_korea_boundary_clipped, south_korea_boundary],\n",
    "    country_names=[\"North Korea\", \"South Korea\"],\n",
    "    change_type=\"magnitude\",\n",
    "    location=\"South Korea\",\n",
    "    titles=[\n",
    "        \"June 2019 Mean NO2 ($\\mathrm{mol \\cdot m^{-2}}$)\",\n",
    "        \"June 2020 Mean NO2 ($\\mathrm{mol \\cdot m^{-2}}$)\",\n",
    "        \"Change in Mean NO2 ($\\mathrm{mol \\cdot m^{-2}}$)\",\n",
    "    ],\n",
    "    data_source=\"European Space Agency\",\n",
    ")"
   ]
  },
  {
   "cell_type": "code",
   "execution_count": null,
   "metadata": {
    "ExecuteTime": {
     "end_time": "2020-10-15T17:10:46.654245Z",
     "start_time": "2020-10-15T17:10:41.814308Z"
    }
   },
   "outputs": [],
   "source": [
    "# Plot July 2019-2020 change\n",
    "fig, ax = stl.plot_monthly_comparison(\n",
    "    pre_change=no2_dict[\"2019\"][\"07\"],\n",
    "    post_change=no2_dict[\"2020\"][\"07\"],\n",
    "    extent_file=monthly_means[0],\n",
    "    country_boundaries=[north_korea_boundary_clipped, south_korea_boundary],\n",
    "    country_names=[\"North Korea\", \"South Korea\"],\n",
    "    change_type=\"magnitude\",\n",
    "    location=\"South Korea\",\n",
    "    titles=[\n",
    "        \"Jul 2019 Mean NO2 ($\\mathrm{mol \\cdot m^{-2}}$)\",\n",
    "        \"Jul 2020 Mean NO2 ($\\mathrm{mol \\cdot m^{-2}}$)\",\n",
    "        \"Change in Mean NO2 ($\\mathrm{mol \\cdot m^{-2}}$)\",\n",
    "    ],\n",
    "    data_source=\"European Space Agency\",\n",
    ")"
   ]
  },
  {
   "cell_type": "markdown",
   "metadata": {},
   "source": [
    "#### Percent Change"
   ]
  },
  {
   "cell_type": "code",
   "execution_count": null,
   "metadata": {
    "ExecuteTime": {
     "end_time": "2020-10-15T17:10:51.355337Z",
     "start_time": "2020-10-15T17:10:46.657237Z"
    }
   },
   "outputs": [],
   "source": [
    "# Plot July 2018-2019 change\n",
    "fig, ax = stl.plot_monthly_comparison(\n",
    "    pre_change=no2_dict[\"2018\"][\"07\"],\n",
    "    post_change=no2_dict[\"2019\"][\"07\"],\n",
    "    extent_file=monthly_means[0],\n",
    "    country_boundaries=[north_korea_boundary_clipped, south_korea_boundary],\n",
    "    country_names=[\"North Korea\", \"South Korea\"],\n",
    "    change_type=\"percent\",\n",
    "    location=\"South Korea\",\n",
    "    titles=[\n",
    "        \"July 2018 Mean NO2 ($\\mathrm{mol \\cdot m^{-2}}$)\",\n",
    "        \"July 2019 Mean NO2 ($\\mathrm{mol \\cdot m^{-2}}$)\",\n",
    "        \"Change in Mean NO2 (%)\",\n",
    "    ],\n",
    "    data_source=\"European Space Agency\",\n",
    ")"
   ]
  },
  {
   "cell_type": "code",
   "execution_count": null,
   "metadata": {
    "ExecuteTime": {
     "end_time": "2020-10-15T17:10:55.793460Z",
     "start_time": "2020-10-15T17:10:51.358327Z"
    }
   },
   "outputs": [],
   "source": [
    "# Plot August 2018-2019 change\n",
    "fig, ax = stl.plot_monthly_comparison(\n",
    "    pre_change=no2_dict[\"2018\"][\"08\"],\n",
    "    post_change=no2_dict[\"2019\"][\"08\"],\n",
    "    extent_file=monthly_means[0],\n",
    "    country_boundaries=[north_korea_boundary_clipped, south_korea_boundary],\n",
    "    country_names=[\"North Korea\", \"South Korea\"],\n",
    "    change_type=\"percent\",\n",
    "    location=\"South Korea\",\n",
    "    titles=[\n",
    "        \"August 2018 Mean NO2 ($\\mathrm{mol \\cdot m^{-2}}$)\",\n",
    "        \"August 2019 Mean NO2 ($\\mathrm{mol \\cdot m^{-2}}$)\",\n",
    "        \"Change in Mean NO2 (%)\",\n",
    "    ],\n",
    "    data_source=\"European Space Agency\",\n",
    ")"
   ]
  },
  {
   "cell_type": "code",
   "execution_count": null,
   "metadata": {
    "ExecuteTime": {
     "end_time": "2020-10-15T17:11:00.691449Z",
     "start_time": "2020-10-15T17:10:55.797448Z"
    }
   },
   "outputs": [],
   "source": [
    "# Plot September 2018-2019 change\n",
    "fig, ax = stl.plot_monthly_comparison(\n",
    "    pre_change=no2_dict[\"2018\"][\"09\"],\n",
    "    post_change=no2_dict[\"2019\"][\"09\"],\n",
    "    extent_file=monthly_means[0],\n",
    "    country_boundaries=[north_korea_boundary_clipped, south_korea_boundary],\n",
    "    country_names=[\"North Korea\", \"South Korea\"],\n",
    "    change_type=\"percent\",\n",
    "    location=\"South Korea\",\n",
    "    titles=[\n",
    "        \"September 2018 Mean NO2 ($\\mathrm{mol \\cdot m^{-2}}$)\",\n",
    "        \"September 2019 Mean NO2 ($\\mathrm{mol \\cdot m^{-2}}$)\",\n",
    "        \"Change in Mean NO2 (%)\",\n",
    "    ],\n",
    "    data_source=\"European Space Agency\",\n",
    ")"
   ]
  },
  {
   "cell_type": "code",
   "execution_count": null,
   "metadata": {
    "ExecuteTime": {
     "end_time": "2020-10-15T17:11:04.943262Z",
     "start_time": "2020-10-15T17:11:00.693445Z"
    }
   },
   "outputs": [],
   "source": [
    "# Plot October 2018-2019 change\n",
    "fig, ax = stl.plot_monthly_comparison(\n",
    "    pre_change=no2_dict[\"2018\"][\"10\"],\n",
    "    post_change=no2_dict[\"2019\"][\"10\"],\n",
    "    extent_file=monthly_means[0],\n",
    "    country_boundaries=[north_korea_boundary_clipped, south_korea_boundary],\n",
    "    country_names=[\"North Korea\", \"South Korea\"],\n",
    "    change_type=\"percent\",\n",
    "    location=\"South Korea\",\n",
    "    titles=[\n",
    "        \"October 2018 Mean NO2 ($\\mathrm{mol \\cdot m^{-2}}$)\",\n",
    "        \"October 2019 Mean NO2 ($\\mathrm{mol \\cdot m^{-2}}$)\",\n",
    "        \"Change in Mean NO2 (%)\",\n",
    "    ],\n",
    "    data_source=\"European Space Agency\",\n",
    ")"
   ]
  },
  {
   "cell_type": "code",
   "execution_count": null,
   "metadata": {
    "ExecuteTime": {
     "end_time": "2020-10-15T17:11:09.164489Z",
     "start_time": "2020-10-15T17:11:04.945256Z"
    }
   },
   "outputs": [],
   "source": [
    "# Plot November 2018-2019 change\n",
    "fig, ax = stl.plot_monthly_comparison(\n",
    "    pre_change=no2_dict[\"2018\"][\"11\"],\n",
    "    post_change=no2_dict[\"2019\"][\"11\"],\n",
    "    extent_file=monthly_means[0],\n",
    "    country_boundaries=[north_korea_boundary_clipped, south_korea_boundary],\n",
    "    country_names=[\"North Korea\", \"South Korea\"],\n",
    "    change_type=\"percent\",\n",
    "    location=\"South Korea\",\n",
    "    titles=[\n",
    "        \"November 2018 Mean NO2 ($\\mathrm{mol \\cdot m^{-2}}$)\",\n",
    "        \"November 2019 Mean NO2 ($\\mathrm{mol \\cdot m^{-2}}$)\",\n",
    "        \"Change in Mean NO2 (%)\",\n",
    "    ],\n",
    "    data_source=\"European Space Agency\",\n",
    ")"
   ]
  },
  {
   "cell_type": "code",
   "execution_count": null,
   "metadata": {
    "ExecuteTime": {
     "end_time": "2020-10-15T17:11:13.272433Z",
     "start_time": "2020-10-15T17:11:09.167480Z"
    }
   },
   "outputs": [],
   "source": [
    "# Plot December 2018-2019 change\n",
    "fig, ax = stl.plot_monthly_comparison(\n",
    "    pre_change=no2_dict[\"2018\"][\"12\"],\n",
    "    post_change=no2_dict[\"2019\"][\"12\"],\n",
    "    extent_file=monthly_means[0],\n",
    "    country_boundaries=[north_korea_boundary_clipped, south_korea_boundary],\n",
    "    country_names=[\"North Korea\", \"South Korea\"],\n",
    "    change_type=\"percent\",\n",
    "    location=\"South Korea\",\n",
    "    titles=[\n",
    "        \"December 2018 Mean NO2 ($\\mathrm{mol \\cdot m^{-2}}$)\",\n",
    "        \"December 2019 Mean NO2 ($\\mathrm{mol \\cdot m^{-2}}$)\",\n",
    "        \"Change in Mean NO2 (%)\",\n",
    "    ],\n",
    "    data_source=\"European Space Agency\",\n",
    ")"
   ]
  },
  {
   "cell_type": "code",
   "execution_count": null,
   "metadata": {
    "ExecuteTime": {
     "end_time": "2020-10-15T17:11:17.338665Z",
     "start_time": "2020-10-15T17:11:13.274431Z"
    }
   },
   "outputs": [],
   "source": [
    "# Plot January 2019-2020 change\n",
    "fig, ax = stl.plot_monthly_comparison(\n",
    "    pre_change=no2_dict[\"2019\"][\"01\"],\n",
    "    post_change=no2_dict[\"2020\"][\"01\"],\n",
    "    extent_file=monthly_means[0],\n",
    "    country_boundaries=[north_korea_boundary_clipped, south_korea_boundary],\n",
    "    country_names=[\"North Korea\", \"South Korea\"],\n",
    "    change_type=\"percent\",\n",
    "    location=\"South Korea\",\n",
    "    titles=[\n",
    "        \"January 2019 Mean NO2 ($\\mathrm{mol \\cdot m^{-2}}$)\",\n",
    "        \"January 2020 Mean NO2 ($\\mathrm{mol \\cdot m^{-2}}$)\",\n",
    "        \"Change in Mean NO2 (%)\",\n",
    "    ],\n",
    "    data_source=\"European Space Agency\",\n",
    ")"
   ]
  },
  {
   "cell_type": "code",
   "execution_count": null,
   "metadata": {
    "ExecuteTime": {
     "end_time": "2020-10-15T17:11:21.332597Z",
     "start_time": "2020-10-15T17:11:17.341655Z"
    }
   },
   "outputs": [],
   "source": [
    "# Plot February 2019-2020 change\n",
    "fig, ax = stl.plot_monthly_comparison(\n",
    "    pre_change=no2_dict[\"2019\"][\"02\"],\n",
    "    post_change=no2_dict[\"2020\"][\"02\"],\n",
    "    extent_file=monthly_means[0],\n",
    "    country_boundaries=[north_korea_boundary_clipped, south_korea_boundary],\n",
    "    country_names=[\"North Korea\", \"South Korea\"],\n",
    "    change_type=\"percent\",\n",
    "    location=\"South Korea\",\n",
    "    titles=[\n",
    "        \"February 2019 Mean NO2 ($\\mathrm{mol \\cdot m^{-2}}$)\",\n",
    "        \"February 2020 Mean NO2 ($\\mathrm{mol \\cdot m^{-2}}$)\",\n",
    "        \"Change in Mean NO2 (%)\",\n",
    "    ],\n",
    "    data_source=\"European Space Agency\",\n",
    ")"
   ]
  },
  {
   "cell_type": "code",
   "execution_count": null,
   "metadata": {
    "ExecuteTime": {
     "end_time": "2020-10-15T17:11:25.485987Z",
     "start_time": "2020-10-15T17:11:21.334564Z"
    }
   },
   "outputs": [],
   "source": [
    "# Plot March 2019-2020 change\n",
    "fig, ax = stl.plot_monthly_comparison(\n",
    "    pre_change=no2_dict[\"2019\"][\"03\"],\n",
    "    post_change=no2_dict[\"2020\"][\"03\"],\n",
    "    extent_file=monthly_means[0],\n",
    "    country_boundaries=[north_korea_boundary_clipped, south_korea_boundary],\n",
    "    country_names=[\"North Korea\", \"South Korea\"],\n",
    "    change_type=\"percent\",\n",
    "    location=\"South Korea\",\n",
    "    titles=[\n",
    "        \"March 2019 Mean NO2 ($\\mathrm{mol \\cdot m^{-2}}$)\",\n",
    "        \"March 2020 Mean NO2 ($\\mathrm{mol \\cdot m^{-2}}$)\",\n",
    "        \"Change in Mean NO2 (%)\",\n",
    "    ],\n",
    "    data_source=\"European Space Agency\",\n",
    ")"
   ]
  },
  {
   "cell_type": "code",
   "execution_count": null,
   "metadata": {
    "ExecuteTime": {
     "end_time": "2020-10-15T17:11:29.746580Z",
     "start_time": "2020-10-15T17:11:25.487974Z"
    }
   },
   "outputs": [],
   "source": [
    "# Plot April 2019-2020 change\n",
    "fig, ax = stl.plot_monthly_comparison(\n",
    "    pre_change=no2_dict[\"2019\"][\"04\"],\n",
    "    post_change=no2_dict[\"2020\"][\"04\"],\n",
    "    extent_file=monthly_means[0],\n",
    "    country_boundaries=[north_korea_boundary_clipped, south_korea_boundary],\n",
    "    country_names=[\"North Korea\", \"South Korea\"],\n",
    "    change_type=\"percent\",\n",
    "    location=\"South Korea\",\n",
    "    titles=[\n",
    "        \"April 2019 Mean NO2 ($\\mathrm{mol \\cdot m^{-2}}$)\",\n",
    "        \"April 2020 Mean NO2 ($\\mathrm{mol \\cdot m^{-2}}$)\",\n",
    "        \"Change in Mean NO2 (%)\",\n",
    "    ],\n",
    "    data_source=\"European Space Agency\",\n",
    ")"
   ]
  },
  {
   "cell_type": "code",
   "execution_count": null,
   "metadata": {
    "ExecuteTime": {
     "end_time": "2020-10-15T17:11:33.726929Z",
     "start_time": "2020-10-15T17:11:29.748578Z"
    }
   },
   "outputs": [],
   "source": [
    "# Plot May 2019-2020 change\n",
    "fig, ax = stl.plot_monthly_comparison(\n",
    "    pre_change=no2_dict[\"2019\"][\"05\"],\n",
    "    post_change=no2_dict[\"2020\"][\"05\"],\n",
    "    extent_file=monthly_means[0],\n",
    "    country_boundaries=[north_korea_boundary_clipped, south_korea_boundary],\n",
    "    country_names=[\"North Korea\", \"South Korea\"],\n",
    "    change_type=\"percent\",\n",
    "    location=\"South Korea\",\n",
    "    titles=[\n",
    "        \"May 2019 Mean NO2 ($\\mathrm{mol \\cdot m^{-2}}$)\",\n",
    "        \"May 2020 Mean NO2 ($\\mathrm{mol \\cdot m^{-2}}$)\",\n",
    "        \"Change in Mean NO2 (%)\",\n",
    "    ],\n",
    "    data_source=\"European Space Agency\",\n",
    ")"
   ]
  },
  {
   "cell_type": "code",
   "execution_count": null,
   "metadata": {
    "ExecuteTime": {
     "end_time": "2020-10-15T17:11:37.821820Z",
     "start_time": "2020-10-15T17:11:33.729923Z"
    }
   },
   "outputs": [],
   "source": [
    "# Plot June 2019-2020 change\n",
    "fig, ax = stl.plot_monthly_comparison(\n",
    "    pre_change=no2_dict[\"2019\"][\"06\"],\n",
    "    post_change=no2_dict[\"2020\"][\"06\"],\n",
    "    extent_file=monthly_means[0],\n",
    "    country_boundaries=[north_korea_boundary_clipped, south_korea_boundary],\n",
    "    country_names=[\"North Korea\", \"South Korea\"],\n",
    "    change_type=\"percent\",\n",
    "    location=\"South Korea\",\n",
    "    titles=[\n",
    "        \"June 2019 Mean NO2 ($\\mathrm{mol \\cdot m^{-2}}$)\",\n",
    "        \"June 2020 Mean NO2 ($\\mathrm{mol \\cdot m^{-2}}$)\",\n",
    "        \"Change in Mean NO2 (%)\",\n",
    "    ],\n",
    "    data_source=\"European Space Agency\",\n",
    ")"
   ]
  },
  {
   "cell_type": "code",
   "execution_count": null,
   "metadata": {
    "ExecuteTime": {
     "end_time": "2020-10-15T17:11:41.613674Z",
     "start_time": "2020-10-15T17:11:37.823814Z"
    }
   },
   "outputs": [],
   "source": [
    "# Plot July 2019-2020 change\n",
    "fig, ax = stl.plot_monthly_comparison(\n",
    "    pre_change=no2_dict[\"2019\"][\"07\"],\n",
    "    post_change=no2_dict[\"2020\"][\"07\"],\n",
    "    extent_file=monthly_means[0],\n",
    "    country_boundaries=[north_korea_boundary_clipped, south_korea_boundary],\n",
    "    country_names=[\"North Korea\", \"South Korea\"],\n",
    "    change_type=\"percent\",\n",
    "    location=\"South Korea\",\n",
    "    titles=[\n",
    "        \"Jul 2019 Mean NO2 ($\\mathrm{mol \\cdot m^{-2}}$)\",\n",
    "        \"Jul 2020 Mean NO2 ($\\mathrm{mol \\cdot m^{-2}}$)\",\n",
    "        \"Change in Mean NO2 (%)\",\n",
    "    ],\n",
    "    data_source=\"European Space Agency\",\n",
    ")"
   ]
  },
  {
   "cell_type": "markdown",
   "metadata": {},
   "source": [
    "# Data Export"
   ]
  },
  {
   "cell_type": "markdown",
   "metadata": {},
   "source": [
    "### Magnitude Change"
   ]
  },
  {
   "cell_type": "code",
   "execution_count": null,
   "metadata": {
    "ExecuteTime": {
     "end_time": "2020-10-15T17:11:49.693487Z",
     "start_time": "2020-10-15T17:11:41.616666Z"
    }
   },
   "outputs": [],
   "source": [
    "# Plot and export July 2018-2019 change\n",
    "fig, ax = stl.plot_monthly_comparison(\n",
    "    pre_change=no2_dict[\"2018\"][\"07\"],\n",
    "    post_change=no2_dict[\"2019\"][\"07\"],\n",
    "    extent_file=monthly_means[0],\n",
    "    country_boundaries=[north_korea_boundary_clipped, south_korea_boundary],\n",
    "    country_names=[\"North Korea\", \"South Korea\"],\n",
    "    change_type=\"magnitude\",\n",
    "    location=\"South Korea\",\n",
    "    titles=[\n",
    "        \"July 2018 Mean NO2 ($\\mathrm{mol \\cdot m^{-2}}$)\",\n",
    "        \"July 2019 Mean NO2 ($\\mathrm{mol \\cdot m^{-2}}$)\",\n",
    "        \"Change in Mean NO2 ($\\mathrm{mol \\cdot m^{-2}}$)\",\n",
    "    ],\n",
    "    data_source=\"European Space Agency\",\n",
    ")\n",
    "\n",
    "rd.save_figure(\n",
    "    os.path.join(\n",
    "        \"04-graphics-outputs\",\n",
    "        \"spatial-plots\",\n",
    "        \"south-korea\",\n",
    "        \"south-korea-no2-mean-change-magnitude-jul-2018-2019.png\",\n",
    "    )\n",
    ")"
   ]
  },
  {
   "cell_type": "code",
   "execution_count": null,
   "metadata": {
    "ExecuteTime": {
     "end_time": "2020-10-15T17:11:57.774127Z",
     "start_time": "2020-10-15T17:11:49.695470Z"
    }
   },
   "outputs": [],
   "source": [
    "# Plot and export August 2018-2019 change\n",
    "fig, ax = stl.plot_monthly_comparison(\n",
    "    pre_change=no2_dict[\"2018\"][\"08\"],\n",
    "    post_change=no2_dict[\"2019\"][\"08\"],\n",
    "    extent_file=monthly_means[0],\n",
    "    country_boundaries=[north_korea_boundary_clipped, south_korea_boundary],\n",
    "    country_names=[\"North Korea\", \"South Korea\"],\n",
    "    change_type=\"magnitude\",\n",
    "    location=\"South Korea\",\n",
    "    titles=[\n",
    "        \"August 2018 Mean NO2 ($\\mathrm{mol \\cdot m^{-2}}$)\",\n",
    "        \"August 2019 Mean NO2 ($\\mathrm{mol \\cdot m^{-2}}$)\",\n",
    "        \"Change in Mean NO2 ($\\mathrm{mol \\cdot m^{-2}}$)\",\n",
    "    ],\n",
    "    data_source=\"European Space Agency\",\n",
    ")\n",
    "\n",
    "rd.save_figure(\n",
    "    os.path.join(\n",
    "        \"04-graphics-outputs\",\n",
    "        \"spatial-plots\",\n",
    "        \"south-korea\",\n",
    "        \"south-korea-no2-mean-change-magnitude-aug-2018-2019.png\",\n",
    "    )\n",
    ")"
   ]
  },
  {
   "cell_type": "code",
   "execution_count": null,
   "metadata": {
    "ExecuteTime": {
     "end_time": "2020-10-15T17:12:06.410442Z",
     "start_time": "2020-10-15T17:11:57.776094Z"
    }
   },
   "outputs": [],
   "source": [
    "# Plot and export September 2018-2019 change\n",
    "fig, ax = stl.plot_monthly_comparison(\n",
    "    pre_change=no2_dict[\"2018\"][\"09\"],\n",
    "    post_change=no2_dict[\"2019\"][\"09\"],\n",
    "    extent_file=monthly_means[0],\n",
    "    country_boundaries=[north_korea_boundary_clipped, south_korea_boundary],\n",
    "    country_names=[\"North Korea\", \"South Korea\"],\n",
    "    change_type=\"magnitude\",\n",
    "    location=\"South Korea\",\n",
    "    titles=[\n",
    "        \"September 2018 Mean NO2 ($\\mathrm{mol \\cdot m^{-2}}$)\",\n",
    "        \"September 2019 Mean NO2 ($\\mathrm{mol \\cdot m^{-2}}$)\",\n",
    "        \"Change in Mean NO2 ($\\mathrm{mol \\cdot m^{-2}}$)\",\n",
    "    ],\n",
    "    data_source=\"European Space Agency\",\n",
    ")\n",
    "\n",
    "rd.save_figure(\n",
    "    os.path.join(\n",
    "        \"04-graphics-outputs\",\n",
    "        \"spatial-plots\",\n",
    "        \"south-korea\",\n",
    "        \"south-korea-no2-mean-change-magnitude-sep-2018-2019.png\",\n",
    "    )\n",
    ")"
   ]
  },
  {
   "cell_type": "code",
   "execution_count": null,
   "metadata": {
    "ExecuteTime": {
     "end_time": "2020-10-15T17:12:15.766513Z",
     "start_time": "2020-10-15T17:12:06.413436Z"
    }
   },
   "outputs": [],
   "source": [
    "# Plot and export October 2018-2019 change\n",
    "fig, ax = stl.plot_monthly_comparison(\n",
    "    pre_change=no2_dict[\"2018\"][\"10\"],\n",
    "    post_change=no2_dict[\"2019\"][\"10\"],\n",
    "    extent_file=monthly_means[0],\n",
    "    country_boundaries=[north_korea_boundary_clipped, south_korea_boundary],\n",
    "    country_names=[\"North Korea\", \"South Korea\"],\n",
    "    change_type=\"magnitude\",\n",
    "    location=\"South Korea\",\n",
    "    titles=[\n",
    "        \"October 2018 Mean NO2 ($\\mathrm{mol \\cdot m^{-2}}$)\",\n",
    "        \"October 2019 Mean NO2 ($\\mathrm{mol \\cdot m^{-2}}$)\",\n",
    "        \"Change in Mean NO2 ($\\mathrm{mol \\cdot m^{-2}}$)\",\n",
    "    ],\n",
    "    data_source=\"European Space Agency\",\n",
    ")\n",
    "\n",
    "rd.save_figure(\n",
    "    os.path.join(\n",
    "        \"04-graphics-outputs\",\n",
    "        \"spatial-plots\",\n",
    "        \"south-korea\",\n",
    "        \"south-korea-no2-mean-change-magnitude-oct-2018-2019.png\",\n",
    "    )\n",
    ")"
   ]
  },
  {
   "cell_type": "code",
   "execution_count": null,
   "metadata": {
    "ExecuteTime": {
     "end_time": "2020-10-15T17:12:24.092203Z",
     "start_time": "2020-10-15T17:12:15.769499Z"
    }
   },
   "outputs": [],
   "source": [
    "# Plot and export November 2018-2019 change\n",
    "fig, ax = stl.plot_monthly_comparison(\n",
    "    pre_change=no2_dict[\"2018\"][\"11\"],\n",
    "    post_change=no2_dict[\"2019\"][\"11\"],\n",
    "    extent_file=monthly_means[0],\n",
    "    country_boundaries=[north_korea_boundary_clipped, south_korea_boundary],\n",
    "    country_names=[\"North Korea\", \"South Korea\"],\n",
    "    change_type=\"magnitude\",\n",
    "    location=\"South Korea\",\n",
    "    titles=[\n",
    "        \"November 2018 Mean NO2 ($\\mathrm{mol \\cdot m^{-2}}$)\",\n",
    "        \"November 2019 Mean NO2 ($\\mathrm{mol \\cdot m^{-2}}$)\",\n",
    "        \"Change in Mean NO2 ($\\mathrm{mol \\cdot m^{-2}}$)\",\n",
    "    ],\n",
    "    data_source=\"European Space Agency\",\n",
    ")\n",
    "\n",
    "rd.save_figure(\n",
    "    os.path.join(\n",
    "        \"04-graphics-outputs\",\n",
    "        \"spatial-plots\",\n",
    "        \"south-korea\",\n",
    "        \"south-korea-no2-mean-change-magnitude-nov-2018-2019.png\",\n",
    "    )\n",
    ")"
   ]
  },
  {
   "cell_type": "code",
   "execution_count": null,
   "metadata": {
    "ExecuteTime": {
     "end_time": "2020-10-15T17:12:34.042072Z",
     "start_time": "2020-10-15T17:12:24.095195Z"
    }
   },
   "outputs": [],
   "source": [
    "# Plot and export December 2018-2019 change\n",
    "fig, ax = stl.plot_monthly_comparison(\n",
    "    pre_change=no2_dict[\"2018\"][\"12\"],\n",
    "    post_change=no2_dict[\"2019\"][\"12\"],\n",
    "    extent_file=monthly_means[0],\n",
    "    country_boundaries=[north_korea_boundary_clipped, south_korea_boundary],\n",
    "    country_names=[\"North Korea\", \"South Korea\"],\n",
    "    change_type=\"magnitude\",\n",
    "    location=\"South Korea\",\n",
    "    titles=[\n",
    "        \"December 2018 Mean NO2 ($\\mathrm{mol \\cdot m^{-2}}$)\",\n",
    "        \"December 2019 Mean NO2 ($\\mathrm{mol \\cdot m^{-2}}$)\",\n",
    "        \"Change in Mean NO2 ($\\mathrm{mol \\cdot m^{-2}}$)\",\n",
    "    ],\n",
    "    data_source=\"European Space Agency\",\n",
    ")\n",
    "\n",
    "rd.save_figure(\n",
    "    os.path.join(\n",
    "        \"04-graphics-outputs\",\n",
    "        \"spatial-plots\",\n",
    "        \"south-korea\",\n",
    "        \"south-korea-no2-mean-change-magnitude-dec-2018-2019.png\",\n",
    "    )\n",
    ")"
   ]
  },
  {
   "cell_type": "code",
   "execution_count": null,
   "metadata": {
    "ExecuteTime": {
     "end_time": "2020-10-15T17:12:41.975078Z",
     "start_time": "2020-10-15T17:12:34.045064Z"
    }
   },
   "outputs": [],
   "source": [
    "# Plot and export January 2019-2020 change\n",
    "fig, ax = stl.plot_monthly_comparison(\n",
    "    pre_change=no2_dict[\"2019\"][\"01\"],\n",
    "    post_change=no2_dict[\"2020\"][\"01\"],\n",
    "    extent_file=monthly_means[0],\n",
    "    country_boundaries=[north_korea_boundary_clipped, south_korea_boundary],\n",
    "    country_names=[\"North Korea\", \"South Korea\"],\n",
    "    change_type=\"magnitude\",\n",
    "    location=\"South Korea\",\n",
    "    titles=[\n",
    "        \"January 2019 Mean NO2 ($\\mathrm{mol \\cdot m^{-2}}$)\",\n",
    "        \"January 2020 Mean NO2 ($\\mathrm{mol \\cdot m^{-2}}$)\",\n",
    "        \"Change in Mean NO2 ($\\mathrm{mol \\cdot m^{-2}}$)\",\n",
    "    ],\n",
    "    data_source=\"European Space Agency\",\n",
    ")\n",
    "\n",
    "rd.save_figure(\n",
    "    os.path.join(\n",
    "        \"04-graphics-outputs\",\n",
    "        \"spatial-plots\",\n",
    "        \"south-korea\",\n",
    "        \"south-korea-no2-mean-change-magnitude-jan-2019-2020.png\",\n",
    "    )\n",
    ")"
   ]
  },
  {
   "cell_type": "code",
   "execution_count": null,
   "metadata": {
    "ExecuteTime": {
     "end_time": "2020-10-15T17:12:50.460819Z",
     "start_time": "2020-10-15T17:12:41.977049Z"
    }
   },
   "outputs": [],
   "source": [
    "# Plot and export February 2019-2020 change\n",
    "fig, ax = stl.plot_monthly_comparison(\n",
    "    pre_change=no2_dict[\"2019\"][\"02\"],\n",
    "    post_change=no2_dict[\"2020\"][\"02\"],\n",
    "    extent_file=monthly_means[0],\n",
    "    country_boundaries=[north_korea_boundary_clipped, south_korea_boundary],\n",
    "    country_names=[\"North Korea\", \"South Korea\"],\n",
    "    change_type=\"magnitude\",\n",
    "    location=\"South Korea\",\n",
    "    titles=[\n",
    "        \"February 2019 Mean NO2 ($\\mathrm{mol \\cdot m^{-2}}$)\",\n",
    "        \"February 2020 Mean NO2 ($\\mathrm{mol \\cdot m^{-2}}$)\",\n",
    "        \"Change in Mean NO2 ($\\mathrm{mol \\cdot m^{-2}}$)\",\n",
    "    ],\n",
    "    data_source=\"European Space Agency\",\n",
    ")\n",
    "\n",
    "rd.save_figure(\n",
    "    os.path.join(\n",
    "        \"04-graphics-outputs\",\n",
    "        \"spatial-plots\",\n",
    "        \"south-korea\",\n",
    "        \"south-korea-no2-mean-change-magnitude-feb-2019-2020.png\",\n",
    "    )\n",
    ")"
   ]
  },
  {
   "cell_type": "code",
   "execution_count": null,
   "metadata": {
    "ExecuteTime": {
     "end_time": "2020-10-15T17:12:59.074611Z",
     "start_time": "2020-10-15T17:12:50.463810Z"
    }
   },
   "outputs": [],
   "source": [
    "# Plot and export March 2019-2020 change\n",
    "fig, ax = stl.plot_monthly_comparison(\n",
    "    pre_change=no2_dict[\"2019\"][\"03\"],\n",
    "    post_change=no2_dict[\"2020\"][\"03\"],\n",
    "    extent_file=monthly_means[0],\n",
    "    country_boundaries=[north_korea_boundary_clipped, south_korea_boundary],\n",
    "    country_names=[\"North Korea\", \"South Korea\"],\n",
    "    change_type=\"magnitude\",\n",
    "    location=\"South Korea\",\n",
    "    titles=[\n",
    "        \"March 2019 Mean NO2 ($\\mathrm{mol \\cdot m^{-2}}$)\",\n",
    "        \"March 2020 Mean NO2 ($\\mathrm{mol \\cdot m^{-2}}$)\",\n",
    "        \"Change in Mean NO2 ($\\mathrm{mol \\cdot m^{-2}}$)\",\n",
    "    ],\n",
    "    data_source=\"European Space Agency\",\n",
    ")\n",
    "\n",
    "rd.save_figure(\n",
    "    os.path.join(\n",
    "        \"04-graphics-outputs\",\n",
    "        \"spatial-plots\",\n",
    "        \"south-korea\",\n",
    "        \"south-korea-no2-mean-change-magnitude-mar-2019-2020.png\",\n",
    "    )\n",
    ")"
   ]
  },
  {
   "cell_type": "code",
   "execution_count": null,
   "metadata": {
    "ExecuteTime": {
     "end_time": "2020-10-15T17:13:07.837834Z",
     "start_time": "2020-10-15T17:12:59.077571Z"
    }
   },
   "outputs": [],
   "source": [
    "# Plot and export April 2019-2020 change\n",
    "fig, ax = stl.plot_monthly_comparison(\n",
    "    pre_change=no2_dict[\"2019\"][\"04\"],\n",
    "    post_change=no2_dict[\"2020\"][\"04\"],\n",
    "    extent_file=monthly_means[0],\n",
    "    country_boundaries=[north_korea_boundary_clipped, south_korea_boundary],\n",
    "    country_names=[\"North Korea\", \"South Korea\"],\n",
    "    change_type=\"magnitude\",\n",
    "    location=\"South Korea\",\n",
    "    titles=[\n",
    "        \"April 2019 Mean NO2 ($\\mathrm{mol \\cdot m^{-2}}$)\",\n",
    "        \"April 2020 Mean NO2 ($\\mathrm{mol \\cdot m^{-2}}$)\",\n",
    "        \"Change in Mean NO2 ($\\mathrm{mol \\cdot m^{-2}}$)\",\n",
    "    ],\n",
    "    data_source=\"European Space Agency\",\n",
    ")\n",
    "\n",
    "rd.save_figure(\n",
    "    os.path.join(\n",
    "        \"04-graphics-outputs\",\n",
    "        \"spatial-plots\",\n",
    "        \"south-korea\",\n",
    "        \"south-korea-no2-mean-change-magnitude-apr-2019-2020.png\",\n",
    "    )\n",
    ")"
   ]
  },
  {
   "cell_type": "code",
   "execution_count": null,
   "metadata": {
    "ExecuteTime": {
     "end_time": "2020-10-15T17:13:16.353513Z",
     "start_time": "2020-10-15T17:13:07.837834Z"
    }
   },
   "outputs": [],
   "source": [
    "# Plot and export May 2019-2020 change\n",
    "fig, ax = stl.plot_monthly_comparison(\n",
    "    pre_change=no2_dict[\"2019\"][\"05\"],\n",
    "    post_change=no2_dict[\"2020\"][\"05\"],\n",
    "    extent_file=monthly_means[0],\n",
    "    country_boundaries=[north_korea_boundary_clipped, south_korea_boundary],\n",
    "    country_names=[\"North Korea\", \"South Korea\"],\n",
    "    change_type=\"magnitude\",\n",
    "    location=\"South Korea\",\n",
    "    titles=[\n",
    "        \"May 2019 Mean NO2 ($\\mathrm{mol \\cdot m^{-2}}$)\",\n",
    "        \"May 2020 Mean NO2 ($\\mathrm{mol \\cdot m^{-2}}$)\",\n",
    "        \"Change in Mean NO2 ($\\mathrm{mol \\cdot m^{-2}}$)\",\n",
    "    ],\n",
    "    data_source=\"European Space Agency\",\n",
    ")\n",
    "\n",
    "rd.save_figure(\n",
    "    os.path.join(\n",
    "        \"04-graphics-outputs\",\n",
    "        \"spatial-plots\",\n",
    "        \"south-korea\",\n",
    "        \"south-korea-no2-mean-change-magnitude-may-2019-2020.png\",\n",
    "    )\n",
    ")"
   ]
  },
  {
   "cell_type": "code",
   "execution_count": null,
   "metadata": {
    "ExecuteTime": {
     "end_time": "2020-10-15T17:13:24.407103Z",
     "start_time": "2020-10-15T17:13:16.356507Z"
    }
   },
   "outputs": [],
   "source": [
    "# Plot and export June 2019-2020 change\n",
    "fig, ax = stl.plot_monthly_comparison(\n",
    "    pre_change=no2_dict[\"2019\"][\"06\"],\n",
    "    post_change=no2_dict[\"2020\"][\"06\"],\n",
    "    extent_file=monthly_means[0],\n",
    "    country_boundaries=[north_korea_boundary_clipped, south_korea_boundary],\n",
    "    country_names=[\"North Korea\", \"South Korea\"],\n",
    "    change_type=\"magnitude\",\n",
    "    location=\"South Korea\",\n",
    "    titles=[\n",
    "        \"June 2019 Mean NO2 ($\\mathrm{mol \\cdot m^{-2}}$)\",\n",
    "        \"June 2020 Mean NO2 ($\\mathrm{mol \\cdot m^{-2}}$)\",\n",
    "        \"Change in Mean NO2 ($\\mathrm{mol \\cdot m^{-2}}$)\",\n",
    "    ],\n",
    "    data_source=\"European Space Agency\",\n",
    ")\n",
    "\n",
    "rd.save_figure(\n",
    "    os.path.join(\n",
    "        \"04-graphics-outputs\",\n",
    "        \"spatial-plots\",\n",
    "        \"south-korea\",\n",
    "        \"south-korea-no2-mean-change-magnitude-jun-2019-2020.png\",\n",
    "    )\n",
    ")"
   ]
  },
  {
   "cell_type": "code",
   "execution_count": null,
   "metadata": {
    "ExecuteTime": {
     "end_time": "2020-10-15T17:13:33.441853Z",
     "start_time": "2020-10-15T17:13:24.409099Z"
    }
   },
   "outputs": [],
   "source": [
    "# Plot and export July 2019-2020 change\n",
    "fig, ax = stl.plot_monthly_comparison(\n",
    "    pre_change=no2_dict[\"2019\"][\"07\"],\n",
    "    post_change=no2_dict[\"2020\"][\"07\"],\n",
    "    extent_file=monthly_means[0],\n",
    "    country_boundaries=[north_korea_boundary_clipped, south_korea_boundary],\n",
    "    country_names=[\"North Korea\", \"South Korea\"],\n",
    "    change_type=\"magnitude\",\n",
    "    location=\"South Korea\",\n",
    "    titles=[\n",
    "        \"Jul 2019 Mean NO2 ($\\mathrm{mol \\cdot m^{-2}}$)\",\n",
    "        \"Jul 2020 Mean NO2 ($\\mathrm{mol \\cdot m^{-2}}$)\",\n",
    "        \"Change in Mean NO2 ($\\mathrm{mol \\cdot m^{-2}}$)\",\n",
    "    ],\n",
    "    data_source=\"European Space Agency\",\n",
    ")\n",
    "\n",
    "rd.save_figure(\n",
    "    os.path.join(\n",
    "        \"04-graphics-outputs\",\n",
    "        \"spatial-plots\",\n",
    "        \"south-korea\",\n",
    "        \"south-korea-no2-mean-change-magnitude-jul-2019-2020.png\",\n",
    "    )\n",
    ")"
   ]
  },
  {
   "cell_type": "markdown",
   "metadata": {},
   "source": [
    "### Percent Change"
   ]
  },
  {
   "cell_type": "code",
   "execution_count": null,
   "metadata": {
    "ExecuteTime": {
     "end_time": "2020-10-15T17:13:42.683849Z",
     "start_time": "2020-10-15T17:13:33.444845Z"
    }
   },
   "outputs": [],
   "source": [
    "# Plot and export July 2018-2019 change\n",
    "fig, ax = stl.plot_monthly_comparison(\n",
    "    pre_change=no2_dict[\"2018\"][\"07\"],\n",
    "    post_change=no2_dict[\"2019\"][\"07\"],\n",
    "    extent_file=monthly_means[0],\n",
    "    country_boundaries=[north_korea_boundary_clipped, south_korea_boundary],\n",
    "    country_names=[\"North Korea\", \"South Korea\"],\n",
    "    change_type=\"percent\",\n",
    "    location=\"South Korea\",\n",
    "    titles=[\n",
    "        \"July 2018 Mean NO2 ($\\mathrm{mol \\cdot m^{-2}}$)\",\n",
    "        \"July 2019 Mean NO2 ($\\mathrm{mol \\cdot m^{-2}}$)\",\n",
    "        \"Change in Mean NO2 (%)\",\n",
    "    ],\n",
    "    data_source=\"European Space Agency\",\n",
    ")\n",
    "\n",
    "rd.save_figure(\n",
    "    os.path.join(\n",
    "        \"04-graphics-outputs\",\n",
    "        \"spatial-plots\",\n",
    "        \"south-korea\",\n",
    "        \"south-korea-no2-mean-change-percent-jul-2018-2019.png\",\n",
    "    )\n",
    ")"
   ]
  },
  {
   "cell_type": "code",
   "execution_count": null,
   "metadata": {
    "ExecuteTime": {
     "end_time": "2020-10-15T17:13:50.869917Z",
     "start_time": "2020-10-15T17:13:42.686841Z"
    }
   },
   "outputs": [],
   "source": [
    "# Plot and export August 2018-2019 change\n",
    "fig, ax = stl.plot_monthly_comparison(\n",
    "    pre_change=no2_dict[\"2018\"][\"08\"],\n",
    "    post_change=no2_dict[\"2019\"][\"08\"],\n",
    "    extent_file=monthly_means[0],\n",
    "    country_boundaries=[north_korea_boundary_clipped, south_korea_boundary],\n",
    "    country_names=[\"North Korea\", \"South Korea\"],\n",
    "    change_type=\"percent\",\n",
    "    location=\"South Korea\",\n",
    "    titles=[\n",
    "        \"August 2018 Mean NO2 ($\\mathrm{mol \\cdot m^{-2}}$)\",\n",
    "        \"August 2019 Mean NO2 ($\\mathrm{mol \\cdot m^{-2}}$)\",\n",
    "        \"Change in Mean NO2 (%)\",\n",
    "    ],\n",
    "    data_source=\"European Space Agency\",\n",
    ")\n",
    "\n",
    "rd.save_figure(\n",
    "    os.path.join(\n",
    "        \"04-graphics-outputs\",\n",
    "        \"spatial-plots\",\n",
    "        \"south-korea\",\n",
    "        \"south-korea-no2-mean-change-percent-aug-2018-2019.png\",\n",
    "    )\n",
    ")"
   ]
  },
  {
   "cell_type": "code",
   "execution_count": null,
   "metadata": {
    "ExecuteTime": {
     "end_time": "2020-10-15T17:13:58.766254Z",
     "start_time": "2020-10-15T17:13:50.872907Z"
    }
   },
   "outputs": [],
   "source": [
    "# Plot and export September 2018-2019 change\n",
    "fig, ax = stl.plot_monthly_comparison(\n",
    "    pre_change=no2_dict[\"2018\"][\"09\"],\n",
    "    post_change=no2_dict[\"2019\"][\"09\"],\n",
    "    extent_file=monthly_means[0],\n",
    "    country_boundaries=[north_korea_boundary_clipped, south_korea_boundary],\n",
    "    country_names=[\"North Korea\", \"South Korea\"],\n",
    "    change_type=\"percent\",\n",
    "    location=\"South Korea\",\n",
    "    titles=[\n",
    "        \"September 2018 Mean NO2 ($\\mathrm{mol \\cdot m^{-2}}$)\",\n",
    "        \"September 2019 Mean NO2 ($\\mathrm{mol \\cdot m^{-2}}$)\",\n",
    "        \"Change in Mean NO2 (%)\",\n",
    "    ],\n",
    "    data_source=\"European Space Agency\",\n",
    ")\n",
    "\n",
    "rd.save_figure(\n",
    "    os.path.join(\n",
    "        \"04-graphics-outputs\",\n",
    "        \"spatial-plots\",\n",
    "        \"south-korea\",\n",
    "        \"south-korea-no2-mean-change-percent-sep-2018-2019.png\",\n",
    "    )\n",
    ")"
   ]
  },
  {
   "cell_type": "code",
   "execution_count": null,
   "metadata": {
    "ExecuteTime": {
     "end_time": "2020-10-15T17:14:06.243250Z",
     "start_time": "2020-10-15T17:13:58.768263Z"
    }
   },
   "outputs": [],
   "source": [
    "# Plot and export October 2018-2019 change\n",
    "fig, ax = stl.plot_monthly_comparison(\n",
    "    pre_change=no2_dict[\"2018\"][\"10\"],\n",
    "    post_change=no2_dict[\"2019\"][\"10\"],\n",
    "    extent_file=monthly_means[0],\n",
    "    country_boundaries=[north_korea_boundary_clipped, south_korea_boundary],\n",
    "    country_names=[\"North Korea\", \"South Korea\"],\n",
    "    change_type=\"percent\",\n",
    "    location=\"South Korea\",\n",
    "    titles=[\n",
    "        \"October 2018 Mean NO2 ($\\mathrm{mol \\cdot m^{-2}}$)\",\n",
    "        \"October 2019 Mean NO2 ($\\mathrm{mol \\cdot m^{-2}}$)\",\n",
    "        \"Change in Mean NO2 (%)\",\n",
    "    ],\n",
    "    data_source=\"European Space Agency\",\n",
    ")\n",
    "\n",
    "rd.save_figure(\n",
    "    os.path.join(\n",
    "        \"04-graphics-outputs\",\n",
    "        \"spatial-plots\",\n",
    "        \"south-korea\",\n",
    "        \"south-korea-no2-mean-change-percent-oct-2018-2019.png\",\n",
    "    )\n",
    ")"
   ]
  },
  {
   "cell_type": "code",
   "execution_count": null,
   "metadata": {
    "ExecuteTime": {
     "end_time": "2020-10-15T17:14:14.483610Z",
     "start_time": "2020-10-15T17:14:06.257213Z"
    }
   },
   "outputs": [],
   "source": [
    "# Plot and export November 2018-2019 change\n",
    "fig, ax = stl.plot_monthly_comparison(\n",
    "    pre_change=no2_dict[\"2018\"][\"11\"],\n",
    "    post_change=no2_dict[\"2019\"][\"11\"],\n",
    "    extent_file=monthly_means[0],\n",
    "    country_boundaries=[north_korea_boundary_clipped, south_korea_boundary],\n",
    "    country_names=[\"North Korea\", \"South Korea\"],\n",
    "    change_type=\"percent\",\n",
    "    location=\"South Korea\",\n",
    "    titles=[\n",
    "        \"November 2018 Mean NO2 ($\\mathrm{mol \\cdot m^{-2}}$)\",\n",
    "        \"November 2019 Mean NO2 ($\\mathrm{mol \\cdot m^{-2}}$)\",\n",
    "        \"Change in Mean NO2 (%)\",\n",
    "    ],\n",
    "    data_source=\"European Space Agency\",\n",
    ")\n",
    "\n",
    "rd.save_figure(\n",
    "    os.path.join(\n",
    "        \"04-graphics-outputs\",\n",
    "        \"spatial-plots\",\n",
    "        \"south-korea\",\n",
    "        \"south-korea-no2-mean-change-percent-nov-2018-2019.png\",\n",
    "    )\n",
    ")"
   ]
  },
  {
   "cell_type": "code",
   "execution_count": null,
   "metadata": {
    "ExecuteTime": {
     "end_time": "2020-10-15T17:14:22.533323Z",
     "start_time": "2020-10-15T17:14:14.489624Z"
    }
   },
   "outputs": [],
   "source": [
    "# Plot and export December 2018-2019 change\n",
    "fig, ax = stl.plot_monthly_comparison(\n",
    "    pre_change=no2_dict[\"2018\"][\"12\"],\n",
    "    post_change=no2_dict[\"2019\"][\"12\"],\n",
    "    extent_file=monthly_means[0],\n",
    "    country_boundaries=[north_korea_boundary_clipped, south_korea_boundary],\n",
    "    country_names=[\"North Korea\", \"South Korea\"],\n",
    "    change_type=\"percent\",\n",
    "    location=\"South Korea\",\n",
    "    titles=[\n",
    "        \"December 2018 Mean NO2 ($\\mathrm{mol \\cdot m^{-2}}$)\",\n",
    "        \"December 2019 Mean NO2 ($\\mathrm{mol \\cdot m^{-2}}$)\",\n",
    "        \"Change in Mean NO2 (%)\",\n",
    "    ],\n",
    "    data_source=\"European Space Agency\",\n",
    ")\n",
    "\n",
    "rd.save_figure(\n",
    "    os.path.join(\n",
    "        \"04-graphics-outputs\",\n",
    "        \"spatial-plots\",\n",
    "        \"south-korea\",\n",
    "        \"south-korea-no2-mean-change-percent-dec-2018-2019.png\",\n",
    "    )\n",
    ")"
   ]
  },
  {
   "cell_type": "code",
   "execution_count": null,
   "metadata": {
    "ExecuteTime": {
     "end_time": "2020-10-15T17:14:30.818157Z",
     "start_time": "2020-10-15T17:14:22.536317Z"
    }
   },
   "outputs": [],
   "source": [
    "# Plot and export January 2019-2020 change\n",
    "fig, ax = stl.plot_monthly_comparison(\n",
    "    pre_change=no2_dict[\"2019\"][\"01\"],\n",
    "    post_change=no2_dict[\"2020\"][\"01\"],\n",
    "    extent_file=monthly_means[0],\n",
    "    country_boundaries=[north_korea_boundary_clipped, south_korea_boundary],\n",
    "    country_names=[\"North Korea\", \"South Korea\"],\n",
    "    change_type=\"percent\",\n",
    "    location=\"South Korea\",\n",
    "    titles=[\n",
    "        \"January 2019 Mean NO2 ($\\mathrm{mol \\cdot m^{-2}}$)\",\n",
    "        \"January 2020 Mean NO2 ($\\mathrm{mol \\cdot m^{-2}}$)\",\n",
    "        \"Change in Mean NO2 (%)\",\n",
    "    ],\n",
    "    data_source=\"European Space Agency\",\n",
    ")\n",
    "\n",
    "\n",
    "rd.save_figure(\n",
    "    os.path.join(\n",
    "        \"04-graphics-outputs\",\n",
    "        \"spatial-plots\",\n",
    "        \"south-korea\",\n",
    "        \"south-korea-no2-mean-change-percent-jan-2019-2020.png\",\n",
    "    )\n",
    ")"
   ]
  },
  {
   "cell_type": "code",
   "execution_count": null,
   "metadata": {
    "ExecuteTime": {
     "end_time": "2020-10-15T17:14:38.346453Z",
     "start_time": "2020-10-15T17:14:30.820151Z"
    }
   },
   "outputs": [],
   "source": [
    "# Plot and export February 2019-2020 change\n",
    "fig, ax = stl.plot_monthly_comparison(\n",
    "    pre_change=no2_dict[\"2019\"][\"02\"],\n",
    "    post_change=no2_dict[\"2020\"][\"02\"],\n",
    "    extent_file=monthly_means[0],\n",
    "    country_boundaries=[north_korea_boundary_clipped, south_korea_boundary],\n",
    "    country_names=[\"North Korea\", \"South Korea\"],\n",
    "    change_type=\"percent\",\n",
    "    location=\"South Korea\",\n",
    "    titles=[\n",
    "        \"February 2019 Mean NO2 ($\\mathrm{mol \\cdot m^{-2}}$)\",\n",
    "        \"February 2020 Mean NO2 ($\\mathrm{mol \\cdot m^{-2}}$)\",\n",
    "        \"Change in Mean NO2 (%)\",\n",
    "    ],\n",
    "    data_source=\"European Space Agency\",\n",
    ")\n",
    "\n",
    "rd.save_figure(\n",
    "    os.path.join(\n",
    "        \"04-graphics-outputs\",\n",
    "        \"spatial-plots\",\n",
    "        \"south-korea\",\n",
    "        \"south-korea-no2-mean-change-percent-feb-2019-2020.png\",\n",
    "    )\n",
    ")"
   ]
  },
  {
   "cell_type": "code",
   "execution_count": null,
   "metadata": {
    "ExecuteTime": {
     "end_time": "2020-10-15T17:14:46.376095Z",
     "start_time": "2020-10-15T17:14:38.348448Z"
    }
   },
   "outputs": [],
   "source": [
    "# Plot and export March 2019-2020 change\n",
    "fig, ax = stl.plot_monthly_comparison(\n",
    "    pre_change=no2_dict[\"2019\"][\"03\"],\n",
    "    post_change=no2_dict[\"2020\"][\"03\"],\n",
    "    extent_file=monthly_means[0],\n",
    "    country_boundaries=[north_korea_boundary_clipped, south_korea_boundary],\n",
    "    country_names=[\"North Korea\", \"South Korea\"],\n",
    "    change_type=\"percent\",\n",
    "    location=\"South Korea\",\n",
    "    titles=[\n",
    "        \"March 2019 Mean NO2 ($\\mathrm{mol \\cdot m^{-2}}$)\",\n",
    "        \"March 2020 Mean NO2 ($\\mathrm{mol \\cdot m^{-2}}$)\",\n",
    "        \"Change in Mean NO2 (%)\",\n",
    "    ],\n",
    "    data_source=\"European Space Agency\",\n",
    ")\n",
    "\n",
    "rd.save_figure(\n",
    "    os.path.join(\n",
    "        \"04-graphics-outputs\",\n",
    "        \"spatial-plots\",\n",
    "        \"south-korea\",\n",
    "        \"south-korea-no2-mean-change-percent-mar-2019-2020.png\",\n",
    "    )\n",
    ")"
   ]
  },
  {
   "cell_type": "code",
   "execution_count": null,
   "metadata": {
    "ExecuteTime": {
     "end_time": "2020-10-15T17:20:17.312736Z",
     "start_time": "2020-10-15T17:20:08.487389Z"
    }
   },
   "outputs": [],
   "source": [
    "# Plot and export April 2019-2020 change\n",
    "fig, ax = stl.plot_monthly_comparison(\n",
    "    pre_change=no2_dict[\"2019\"][\"04\"],\n",
    "    post_change=no2_dict[\"2020\"][\"04\"],\n",
    "    extent_file=monthly_means[0],\n",
    "    country_boundaries=[north_korea_boundary_clipped, south_korea_boundary],\n",
    "    country_names=[\"North Korea\", \"South Korea\"],\n",
    "    change_type=\"percent\",\n",
    "    location=\"South Korea\",\n",
    "    titles=[\n",
    "        \"April 2019 Mean NO2 ($\\mathrm{mol \\cdot m^{-2}}$)\",\n",
    "        \"April 2020 Mean NO2 ($\\mathrm{mol \\cdot m^{-2}}$)\",\n",
    "        \"Change in Mean NO2 (%)\",\n",
    "    ],\n",
    "    data_source=\"European Space Agency\",\n",
    ")\n",
    "\n",
    "rd.save_figure(\n",
    "    os.path.join(\n",
    "        \"04-graphics-outputs\",\n",
    "        \"spatial-plots\",\n",
    "        \"south-korea\",\n",
    "        \"south-korea-no2-mean-change-percent-apr-2019-2020.png\",\n",
    "    )\n",
    ")"
   ]
  },
  {
   "cell_type": "code",
   "execution_count": null,
   "metadata": {
    "ExecuteTime": {
     "end_time": "2020-10-15T17:15:02.512325Z",
     "start_time": "2020-10-15T17:14:54.647576Z"
    }
   },
   "outputs": [],
   "source": [
    "# Plot and export May 2019-2020 change\n",
    "fig, ax = stl.plot_monthly_comparison(\n",
    "    pre_change=no2_dict[\"2019\"][\"05\"],\n",
    "    post_change=no2_dict[\"2020\"][\"05\"],\n",
    "    extent_file=monthly_means[0],\n",
    "    country_boundaries=[north_korea_boundary_clipped, south_korea_boundary],\n",
    "    country_names=[\"North Korea\", \"South Korea\"],\n",
    "    change_type=\"percent\",\n",
    "    location=\"South Korea\",\n",
    "    titles=[\n",
    "        \"May 2019 Mean NO2 ($\\mathrm{mol \\cdot m^{-2}}$)\",\n",
    "        \"May 2020 Mean NO2 ($\\mathrm{mol \\cdot m^{-2}}$)\",\n",
    "        \"Change in Mean NO2 (%)\",\n",
    "    ],\n",
    "    data_source=\"European Space Agency\",\n",
    ")\n",
    "\n",
    "rd.save_figure(\n",
    "    os.path.join(\n",
    "        \"04-graphics-outputs\",\n",
    "        \"spatial-plots\",\n",
    "        \"south-korea\",\n",
    "        \"south-korea-no2-mean-change-percent-may-2019-2020.png\",\n",
    "    )\n",
    ")"
   ]
  },
  {
   "cell_type": "code",
   "execution_count": null,
   "metadata": {
    "ExecuteTime": {
     "end_time": "2020-10-15T17:15:10.637612Z",
     "start_time": "2020-10-15T17:15:02.515318Z"
    }
   },
   "outputs": [],
   "source": [
    "# Plot and export June 2019-2020 change\n",
    "fig, ax = stl.plot_monthly_comparison(\n",
    "    pre_change=no2_dict[\"2019\"][\"06\"],\n",
    "    post_change=no2_dict[\"2020\"][\"06\"],\n",
    "    extent_file=monthly_means[0],\n",
    "    country_boundaries=[north_korea_boundary_clipped, south_korea_boundary],\n",
    "    country_names=[\"North Korea\", \"South Korea\"],\n",
    "    change_type=\"percent\",\n",
    "    location=\"South Korea\",\n",
    "    titles=[\n",
    "        \"June 2019 Mean NO2 ($\\mathrm{mol \\cdot m^{-2}}$)\",\n",
    "        \"June 2020 Mean NO2 ($\\mathrm{mol \\cdot m^{-2}}$)\",\n",
    "        \"Change in Mean NO2 (%)\",\n",
    "    ],\n",
    "    data_source=\"European Space Agency\",\n",
    ")\n",
    "\n",
    "rd.save_figure(\n",
    "    os.path.join(\n",
    "        \"04-graphics-outputs\",\n",
    "        \"spatial-plots\",\n",
    "        \"south-korea\",\n",
    "        \"south-korea-no2-mean-change-percent-jun-2019-2020.png\",\n",
    "    )\n",
    ")"
   ]
  },
  {
   "cell_type": "code",
   "execution_count": null,
   "metadata": {
    "ExecuteTime": {
     "end_time": "2020-10-15T17:15:18.709905Z",
     "start_time": "2020-10-15T17:15:10.640578Z"
    }
   },
   "outputs": [],
   "source": [
    "# Plot and export July 2019-2020 change\n",
    "fig, ax = stl.plot_monthly_comparison(\n",
    "    pre_change=no2_dict[\"2019\"][\"07\"],\n",
    "    post_change=no2_dict[\"2020\"][\"07\"],\n",
    "    extent_file=monthly_means[0],\n",
    "    country_boundaries=[north_korea_boundary_clipped, south_korea_boundary],\n",
    "    country_names=[\"North Korea\", \"South Korea\"],\n",
    "    change_type=\"percent\",\n",
    "    location=\"South Korea\",\n",
    "    titles=[\n",
    "        \"Jul 2019 Mean NO2 ($\\mathrm{mol \\cdot m^{-2}}$)\",\n",
    "        \"Jul 2020 Mean NO2 ($\\mathrm{mol \\cdot m^{-2}}$)\",\n",
    "        \"Change in Mean NO2 (%)\",\n",
    "    ],\n",
    "    data_source=\"European Space Agency\",\n",
    ")\n",
    "\n",
    "rd.save_figure(\n",
    "    os.path.join(\n",
    "        \"04-graphics-outputs\",\n",
    "        \"spatial-plots\",\n",
    "        \"south-korea\",\n",
    "        \"south-korea-no2-mean-change-percent-jul-2019-2020.png\",\n",
    "    )\n",
    ")"
   ]
  },
  {
   "cell_type": "code",
   "execution_count": null,
   "metadata": {
    "ExecuteTime": {
     "end_time": "2020-10-15T17:15:18.720887Z",
     "start_time": "2020-10-15T17:15:18.711900Z"
    }
   },
   "outputs": [],
   "source": [
    "# Unload Notebook formatter\n",
    "%unload_ext nb_black"
   ]
  }
 ],
 "metadata": {
  "hide_input": false,
  "kernelspec": {
   "display_name": "Python 3",
   "language": "python",
   "name": "python3"
  },
  "language_info": {
   "codemirror_mode": {
    "name": "ipython",
    "version": 3
   },
   "file_extension": ".py",
   "mimetype": "text/x-python",
   "name": "python",
   "nbconvert_exporter": "python",
   "pygments_lexer": "ipython3",
   "version": "3.7.6"
  },
  "toc": {
   "base_numbering": 1,
   "nav_menu": {},
   "number_sections": true,
   "sideBar": true,
   "skip_h1_title": false,
   "title_cell": "Table of Contents",
   "title_sidebar": "Contents",
   "toc_cell": false,
   "toc_position": {},
   "toc_section_display": true,
   "toc_window_display": false
  },
  "varInspector": {
   "cols": {
    "lenName": 16,
    "lenType": 16,
    "lenVar": 40
   },
   "kernels_config": {
    "python": {
     "delete_cmd_postfix": "",
     "delete_cmd_prefix": "del ",
     "library": "var_list.py",
     "varRefreshCmd": "print(var_dic_list())"
    },
    "r": {
     "delete_cmd_postfix": ") ",
     "delete_cmd_prefix": "rm(",
     "library": "var_list.r",
     "varRefreshCmd": "cat(var_dic_list()) "
    }
   },
   "types_to_exclude": [
    "module",
    "function",
    "builtin_function_or_method",
    "instance",
    "_Feature"
   ],
   "window_display": false
  }
 },
 "nbformat": 4,
 "nbformat_minor": 4
}
