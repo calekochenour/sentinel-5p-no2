{
 "cells": [
  {
   "cell_type": "markdown",
   "metadata": {},
   "source": [
    "# Sentinel-5P Monthly Comparisons"
   ]
  },
  {
   "cell_type": "markdown",
   "metadata": {},
   "source": [
    "## Environment Setup"
   ]
  },
  {
   "cell_type": "code",
   "execution_count": null,
   "metadata": {
    "ExecuteTime": {
     "end_time": "2020-10-19T18:42:43.965875Z",
     "start_time": "2020-10-19T18:42:43.831675Z"
    }
   },
   "outputs": [],
   "source": [
    "# Load Notebook formatter\n",
    "%load_ext nb_black\n",
    "# %reload_ext nb_black"
   ]
  },
  {
   "cell_type": "code",
   "execution_count": null,
   "metadata": {
    "ExecuteTime": {
     "end_time": "2020-10-19T18:42:48.075498Z",
     "start_time": "2020-10-19T18:42:44.331063Z"
    }
   },
   "outputs": [],
   "source": [
    "# Imports\n",
    "import os\n",
    "import glob\n",
    "import matplotlib.pyplot as plt\n",
    "import numpy as np\n",
    "import seaborn as sns\n",
    "import geopandas as gpd\n",
    "import rasterio as rio\n",
    "import earthpy as et\n",
    "import earthpy.plot as ep\n",
    "import radiance as rd\n",
    "import sentinel as stl"
   ]
  },
  {
   "cell_type": "code",
   "execution_count": null,
   "metadata": {
    "ExecuteTime": {
     "end_time": "2020-10-19T18:42:48.138333Z",
     "start_time": "2020-10-19T18:42:48.126364Z"
    }
   },
   "outputs": [],
   "source": [
    "# Set Options\n",
    "sns.set(font_scale=1.5, style=\"whitegrid\")"
   ]
  },
  {
   "cell_type": "code",
   "execution_count": null,
   "metadata": {
    "ExecuteTime": {
     "end_time": "2020-10-19T18:42:48.190698Z",
     "start_time": "2020-10-19T18:42:48.179726Z"
    }
   },
   "outputs": [],
   "source": [
    "# Set working directory\n",
    "os.chdir(\"..\")\n",
    "print(f\"Working directory: {os.getcwd()}\")"
   ]
  },
  {
   "cell_type": "markdown",
   "metadata": {},
   "source": [
    "## Data Acquisition and Preprocessing"
   ]
  },
  {
   "cell_type": "markdown",
   "metadata": {},
   "source": [
    "### Raster"
   ]
  },
  {
   "cell_type": "code",
   "execution_count": null,
   "metadata": {
    "ExecuteTime": {
     "end_time": "2020-10-19T18:42:48.242558Z",
     "start_time": "2020-10-19T18:42:48.227597Z"
    }
   },
   "outputs": [],
   "source": [
    "# Get all mean files into list\n",
    "monthly_means = glob.glob(\n",
    "    os.path.join(\n",
    "        \"03-processed-data\",\n",
    "        \"raster\",\n",
    "        \"south-korea\",\n",
    "        \"statistics\",\n",
    "        \"monthly\",\n",
    "        \"*MEAN*tif\",\n",
    "    )\n",
    ")"
   ]
  },
  {
   "cell_type": "code",
   "execution_count": null,
   "metadata": {
    "ExecuteTime": {
     "end_time": "2020-10-19T18:42:48.524803Z",
     "start_time": "2020-10-19T18:42:48.299406Z"
    }
   },
   "outputs": [],
   "source": [
    "# Read monthly mean GeoTiffs into arrays and store in dictionary\n",
    "no2_dict = {}\n",
    "for geotiff in monthly_means:\n",
    "    # Read GeoTiff into array\n",
    "    with rio.open(geotiff) as src:\n",
    "        array = src.read(1)\n",
    "    # Replace NAN values with 0.0 if necessary\n",
    "    # Counts number of isnan() results that are True\n",
    "    if np.count_nonzero(np.isnan(array)) > 0:\n",
    "        np.nan_to_num(array, copy=False, nan=0.0)\n",
    "    # CONVERT UNITS FROM MOL/M2 to MOLECULES/CM2\n",
    "    # Store in dictionary, indexed by dictionary[YEAR][MONTH]\n",
    "    year, month = (\n",
    "        os.path.basename(geotiff)[16:20],\n",
    "        os.path.basename(geotiff)[20:22],\n",
    "    )\n",
    "    if year not in no2_dict.keys():\n",
    "        no2_dict[year] = {}\n",
    "    if month not in no2_dict[year].keys():\n",
    "        no2_dict[year][month] = array"
   ]
  },
  {
   "cell_type": "code",
   "execution_count": null,
   "metadata": {
    "ExecuteTime": {
     "end_time": "2020-10-19T18:42:48.664937Z",
     "start_time": "2020-10-19T18:42:48.656942Z"
    }
   },
   "outputs": [],
   "source": [
    "# Check top-level keys (years)\n",
    "no2_dict.keys()"
   ]
  },
  {
   "cell_type": "code",
   "execution_count": null,
   "metadata": {
    "ExecuteTime": {
     "end_time": "2020-10-19T18:42:48.825521Z",
     "start_time": "2020-10-19T18:42:48.816551Z"
    }
   },
   "outputs": [],
   "source": [
    "# Check second-level keys (months)\n",
    "no2_dict[\"2020\"].keys()"
   ]
  },
  {
   "cell_type": "code",
   "execution_count": null,
   "metadata": {
    "ExecuteTime": {
     "end_time": "2020-10-19T18:42:48.923529Z",
     "start_time": "2020-10-19T18:42:48.914543Z"
    }
   },
   "outputs": [],
   "source": [
    "# Check single entry\n",
    "no2_dict[\"2020\"][\"05\"].shape"
   ]
  },
  {
   "cell_type": "markdown",
   "metadata": {},
   "source": [
    "### Vector"
   ]
  },
  {
   "cell_type": "code",
   "execution_count": null,
   "metadata": {
    "ExecuteTime": {
     "end_time": "2020-10-19T18:42:49.032656Z",
     "start_time": "2020-10-19T18:42:49.014704Z"
    }
   },
   "outputs": [],
   "source": [
    "# Extract plotting extent\n",
    "south_korea_extent = stl.extract_plotting_extent(monthly_means[0])\n",
    "print(f\"South Korea Extent: {south_korea_extent}\")"
   ]
  },
  {
   "cell_type": "code",
   "execution_count": null,
   "metadata": {
    "ExecuteTime": {
     "end_time": "2020-10-19T18:42:49.386531Z",
     "start_time": "2020-10-19T18:42:49.133387Z"
    }
   },
   "outputs": [],
   "source": [
    "# Define path to South Korea shapefile\n",
    "south_korea_shp_path = os.path.join(\n",
    "    \"02-raw-data\", \"vector\", \"south-korea\", \"gadm36_south_korea.shp\"\n",
    ")\n",
    "\n",
    "# Read South Korea shapefile into geodataframe and project if necessary\n",
    "south_korea_boundary = stl.project_vector(\n",
    "    vector_path=south_korea_shp_path, raster_path=monthly_means[0]\n",
    ")\n",
    "\n",
    "# Create extent polygon\n",
    "south_korea_polygon = stl.create_polygon_from_extent(south_korea_extent)\n",
    "\n",
    "print(f\"South Korea CRS: {south_korea_boundary.crs}\")\n",
    "print(f\"South Korea Bounds:\\n{south_korea_boundary.bounds.loc[0]}\")"
   ]
  },
  {
   "cell_type": "code",
   "execution_count": null,
   "metadata": {
    "ExecuteTime": {
     "end_time": "2020-10-19T18:42:55.937479Z",
     "start_time": "2020-10-19T18:42:52.985666Z"
    }
   },
   "outputs": [],
   "source": [
    "# Define path to North Korea shapefile\n",
    "north_korea_shp_path = os.path.join(\n",
    "    \"02-raw-data\", \"vector\", \"north-korea\", \"gadm36_north_korea.shp\"\n",
    ")\n",
    "\n",
    "# Read North Korea shapefile into geodataframe and project if necessary\n",
    "north_korea_boundary = stl.project_vector(\n",
    "    vector_path=north_korea_shp_path, raster_path=monthly_means[0]\n",
    ")\n",
    "\n",
    "print(f\"North Korea CRS: {north_korea_boundary.crs}\")\n",
    "print(f\"North Korea Bounds:\\n{north_korea_boundary.bounds.loc[0]}\")\n",
    "\n",
    "# Clip North Korea to South Korea extent polygon\n",
    "north_korea_boundary_clipped = gpd.clip(\n",
    "    gpd.GeoDataFrame(\n",
    "        geometry=[south_korea_polygon], crs=north_korea_boundary.crs\n",
    "    ),\n",
    "    north_korea_boundary,\n",
    ")\n",
    "\n",
    "print(f\"\\nNorth Korea Clipped CRS: {north_korea_boundary_clipped.crs}\")\n",
    "print(\n",
    "    f\"North Korea Clipped Bounds:\\n{north_korea_boundary_clipped.bounds.loc[0]}\"\n",
    ")"
   ]
  },
  {
   "cell_type": "code",
   "execution_count": null,
   "metadata": {
    "ExecuteTime": {
     "end_time": "2020-10-19T18:43:00.230674Z",
     "start_time": "2020-10-19T18:42:59.925411Z"
    }
   },
   "outputs": [],
   "source": [
    "# Display clipped boundary\n",
    "north_korea_boundary_clipped.boundary.plot()"
   ]
  },
  {
   "cell_type": "markdown",
   "metadata": {},
   "source": [
    "## Data Processing"
   ]
  },
  {
   "cell_type": "markdown",
   "metadata": {},
   "source": [
    "### Magnitude Change"
   ]
  },
  {
   "cell_type": "code",
   "execution_count": null,
   "metadata": {
    "ExecuteTime": {
     "end_time": "2020-10-19T18:43:04.208842Z",
     "start_time": "2020-10-19T18:43:04.154465Z"
    }
   },
   "outputs": [],
   "source": [
    "# Calculate magnitude change\n",
    "magnitude_change_jul_2018_2019 = stl.calculate_magnitude_change(\n",
    "    pre_change=no2_dict[\"2018\"][\"07\"], post_change=no2_dict[\"2019\"][\"07\"]\n",
    ")\n",
    "\n",
    "magnitude_change_aug_2018_2019 = stl.calculate_magnitude_change(\n",
    "    pre_change=no2_dict[\"2018\"][\"08\"], post_change=no2_dict[\"2019\"][\"08\"]\n",
    ")\n",
    "\n",
    "magnitude_change_sep_2018_2019 = stl.calculate_magnitude_change(\n",
    "    pre_change=no2_dict[\"2018\"][\"09\"], post_change=no2_dict[\"2019\"][\"09\"]\n",
    ")\n",
    "\n",
    "magnitude_change_oct_2018_2019 = stl.calculate_magnitude_change(\n",
    "    pre_change=no2_dict[\"2018\"][\"10\"], post_change=no2_dict[\"2019\"][\"10\"]\n",
    ")\n",
    "\n",
    "magnitude_change_nov_2018_2019 = stl.calculate_magnitude_change(\n",
    "    pre_change=no2_dict[\"2018\"][\"11\"], post_change=no2_dict[\"2019\"][\"11\"]\n",
    ")\n",
    "\n",
    "magnitude_change_dec_2018_2019 = stl.calculate_magnitude_change(\n",
    "    pre_change=no2_dict[\"2018\"][\"12\"], post_change=no2_dict[\"2019\"][\"12\"]\n",
    ")\n",
    "\n",
    "magnitude_change_jan_2019_2020 = stl.calculate_magnitude_change(\n",
    "    pre_change=no2_dict[\"2019\"][\"01\"], post_change=no2_dict[\"2020\"][\"01\"]\n",
    ")\n",
    "\n",
    "magnitude_change_feb_2019_2020 = stl.calculate_magnitude_change(\n",
    "    pre_change=no2_dict[\"2019\"][\"02\"], post_change=no2_dict[\"2020\"][\"02\"]\n",
    ")\n",
    "\n",
    "magnitude_change_mar_2019_2020 = stl.calculate_magnitude_change(\n",
    "    pre_change=no2_dict[\"2019\"][\"03\"], post_change=no2_dict[\"2020\"][\"03\"]\n",
    ")\n",
    "\n",
    "magnitude_change_apr_2019_2020 = stl.calculate_magnitude_change(\n",
    "    pre_change=no2_dict[\"2019\"][\"04\"], post_change=no2_dict[\"2020\"][\"04\"]\n",
    ")\n",
    "\n",
    "magnitude_change_may_2019_2020 = stl.calculate_magnitude_change(\n",
    "    pre_change=no2_dict[\"2019\"][\"05\"], post_change=no2_dict[\"2020\"][\"05\"]\n",
    ")\n",
    "\n",
    "magnitude_change_jun_2019_2020 = stl.calculate_magnitude_change(\n",
    "    pre_change=no2_dict[\"2019\"][\"06\"], post_change=no2_dict[\"2020\"][\"06\"]\n",
    ")\n",
    "\n",
    "magnitude_change_jul_2019_2020 = stl.calculate_magnitude_change(\n",
    "    pre_change=no2_dict[\"2019\"][\"07\"], post_change=no2_dict[\"2020\"][\"07\"]\n",
    ")"
   ]
  },
  {
   "cell_type": "markdown",
   "metadata": {},
   "source": [
    "### Percent Change"
   ]
  },
  {
   "cell_type": "code",
   "execution_count": null,
   "metadata": {
    "ExecuteTime": {
     "end_time": "2020-10-19T18:43:13.697692Z",
     "start_time": "2020-10-19T18:43:13.618553Z"
    }
   },
   "outputs": [],
   "source": [
    "# Calculate percent change\n",
    "percent_change_jul_2018_2019 = stl.calculate_percent_change(\n",
    "    pre_change=no2_dict[\"2018\"][\"07\"], post_change=no2_dict[\"2019\"][\"07\"]\n",
    ")\n",
    "\n",
    "percent_change_aug_2018_2019 = stl.calculate_percent_change(\n",
    "    pre_change=no2_dict[\"2018\"][\"08\"], post_change=no2_dict[\"2019\"][\"08\"]\n",
    ")\n",
    "\n",
    "percent_change_sep_2018_2019 = stl.calculate_percent_change(\n",
    "    pre_change=no2_dict[\"2018\"][\"09\"], post_change=no2_dict[\"2019\"][\"09\"]\n",
    ")\n",
    "\n",
    "percent_change_oct_2018_2019 = stl.calculate_percent_change(\n",
    "    pre_change=no2_dict[\"2018\"][\"10\"], post_change=no2_dict[\"2019\"][\"10\"]\n",
    ")\n",
    "\n",
    "percent_change_nov_2018_2019 = stl.calculate_percent_change(\n",
    "    pre_change=no2_dict[\"2018\"][\"11\"], post_change=no2_dict[\"2019\"][\"11\"]\n",
    ")\n",
    "\n",
    "percent_change_dec_2018_2019 = stl.calculate_percent_change(\n",
    "    pre_change=no2_dict[\"2018\"][\"12\"], post_change=no2_dict[\"2019\"][\"12\"]\n",
    ")\n",
    "\n",
    "percent_change_jan_2019_2020 = stl.calculate_percent_change(\n",
    "    pre_change=no2_dict[\"2019\"][\"01\"], post_change=no2_dict[\"2020\"][\"01\"]\n",
    ")\n",
    "\n",
    "percent_change_feb_2019_2020 = stl.calculate_percent_change(\n",
    "    pre_change=no2_dict[\"2019\"][\"02\"], post_change=no2_dict[\"2020\"][\"02\"]\n",
    ")\n",
    "\n",
    "percent_change_mar_2019_2020 = stl.calculate_percent_change(\n",
    "    pre_change=no2_dict[\"2019\"][\"03\"], post_change=no2_dict[\"2020\"][\"03\"]\n",
    ")\n",
    "\n",
    "percent_change_apr_2019_2020 = stl.calculate_percent_change(\n",
    "    pre_change=no2_dict[\"2019\"][\"04\"], post_change=no2_dict[\"2020\"][\"04\"]\n",
    ")\n",
    "\n",
    "percent_change_may_2019_2020 = stl.calculate_percent_change(\n",
    "    pre_change=no2_dict[\"2019\"][\"05\"], post_change=no2_dict[\"2020\"][\"05\"]\n",
    ")\n",
    "\n",
    "percent_change_jun_2019_2020 = stl.calculate_percent_change(\n",
    "    pre_change=no2_dict[\"2019\"][\"06\"], post_change=no2_dict[\"2020\"][\"06\"]\n",
    ")\n",
    "\n",
    "percent_change_jul_2019_2020 = stl.calculate_percent_change(\n",
    "    pre_change=no2_dict[\"2019\"][\"07\"], post_change=no2_dict[\"2020\"][\"07\"]\n",
    ")"
   ]
  },
  {
   "cell_type": "markdown",
   "metadata": {},
   "source": [
    "## Data Visualization"
   ]
  },
  {
   "cell_type": "markdown",
   "metadata": {},
   "source": [
    "### Monthly Means"
   ]
  },
  {
   "cell_type": "code",
   "execution_count": null,
   "metadata": {
    "ExecuteTime": {
     "end_time": "2020-10-19T18:44:30.758445Z",
     "start_time": "2020-10-19T18:44:30.731486Z"
    }
   },
   "outputs": [],
   "source": [
    "# Create stack of all months (25 in total)\n",
    "no2_months_stack = np.stack(\n",
    "    [\n",
    "        no2_dict[year][month]\n",
    "        for year in no2_dict.keys()\n",
    "        for month in no2_dict[year].keys()\n",
    "    ]\n",
    ")\n",
    "\n",
    "# Check shape (bands, rows, columns)\n",
    "print(f\"Data stack shape (bands, rows, columns): {no2_months_stack.shape}\")\n",
    "\n",
    "# Check if the order is correct; compare first month of data (July 2018)\n",
    "print(\n",
    "    f\"Data order correct: {np.array_equal(no2_months_stack[0], no2_dict['2018']['07'])}\"\n",
    ")"
   ]
  },
  {
   "cell_type": "code",
   "execution_count": null,
   "metadata": {
    "ExecuteTime": {
     "end_time": "2020-10-19T19:48:49.646242Z",
     "start_time": "2020-10-19T19:46:32.717258Z"
    },
    "scrolled": false
   },
   "outputs": [],
   "source": [
    "# Set titles for data stack\n",
    "titles = [\n",
    "    \"Jul 2018\",\n",
    "    \"Aug 2018\",\n",
    "    \"Sep 2018\",\n",
    "    \"Oct 2018\",\n",
    "    \"Nov 2018\",\n",
    "    \"Dec 2018\",\n",
    "    \"Jan 2019\",\n",
    "    \"Feb 2019\",\n",
    "    \"Mar 2019\",\n",
    "    \"Apr 2019\",\n",
    "    \"May 2019\",\n",
    "    \"Jun 2019\",\n",
    "    \"Jul 2019\",\n",
    "    \"Aug 2019\",\n",
    "    \"Sep 2019\",\n",
    "    \"Oct 2019\",\n",
    "    \"Nov 2019\",\n",
    "    \"Dec 2019\",\n",
    "    \"Jan 2020\",\n",
    "    \"Feb 2020\",\n",
    "    \"Mar 2020\",\n",
    "    \"Apr 2020\",\n",
    "    \"May 2020\",\n",
    "    \"Jun 2020\",\n",
    "    \"Jul 2020\",\n",
    "]\n",
    "\n",
    "# Plot all stack bands (monthly means)\n",
    "with plt.style.context(\"dark_background\"):\n",
    "    # Initialize figure/axes\n",
    "    fig, ax = plt.subplots(nrows=8, ncols=3, figsize=(20, 40))\n",
    "    plt.suptitle(\"South Korea NO2 Monthly Means, Jul 2018 - Jun 2020\", size=24)\n",
    "    plt.subplots_adjust(top=0.955)\n",
    "\n",
    "    # Loop through all axes\n",
    "    for (band, axis) in enumerate(fig.axes):\n",
    "        # Plot monthly mean NO2 data\n",
    "        ep.plot_bands(\n",
    "            arr=no2_months_stack[band],\n",
    "            cmap=\"inferno\",\n",
    "            title=titles[band],\n",
    "            extent=south_korea_extent,\n",
    "            vmin=0,\n",
    "            vmax=no2_months_stack.max(),\n",
    "            ax=axis,\n",
    "        )\n",
    "\n",
    "        # Add country boundaries and legend to axes\n",
    "        north_korea_boundary_clipped.boundary.plot(\n",
    "            edgecolor=\"#e41a1c\",\n",
    "            linewidth=0.5,\n",
    "            ax=axis,\n",
    "            alpha=1,\n",
    "            label=\"North Korea\",\n",
    "        )\n",
    "        south_korea_boundary.boundary.plot(\n",
    "            edgecolor=\"#1b7837\",\n",
    "            linewidth=0.5,\n",
    "            ax=axis,\n",
    "            alpha=1,\n",
    "            label=\"South Korea\",\n",
    "        )\n",
    "        axis.legend(\n",
    "            shadow=True, edgecolor=\"white\", fontsize=10, loc=\"lower right\"\n",
    "        )\n",
    "\n",
    "    # Add caption\n",
    "    fig.text(\n",
    "        0.5,\n",
    "        0.11,\n",
    "        f\"Data Source: European Space Agency\",\n",
    "        ha=\"center\",\n",
    "        fontsize=16,\n",
    "    )"
   ]
  },
  {
   "cell_type": "markdown",
   "metadata": {},
   "source": [
    "### Monthly Comparison"
   ]
  },
  {
   "cell_type": "markdown",
   "metadata": {},
   "source": [
    "#### Magnitude Change"
   ]
  },
  {
   "cell_type": "code",
   "execution_count": null,
   "metadata": {
    "ExecuteTime": {
     "end_time": "2020-10-15T17:09:56.626043Z",
     "start_time": "2020-10-15T17:09:52.420414Z"
    }
   },
   "outputs": [],
   "source": [
    "# Plot July 2018-2019 change\n",
    "fig, ax = stl.plot_monthly_comparison(\n",
    "    pre_change=no2_dict[\"2018\"][\"07\"],\n",
    "    post_change=no2_dict[\"2019\"][\"07\"],\n",
    "    extent_file=monthly_means[0],\n",
    "    country_boundaries=[north_korea_boundary_clipped, south_korea_boundary],\n",
    "    country_names=[\"North Korea\", \"South Korea\"],\n",
    "    change_type=\"magnitude\",\n",
    "    location=\"South Korea\",\n",
    "    titles=[\n",
    "        \"July 2018 Mean NO2 ($\\mathrm{mol \\cdot m^{-2}}$)\",\n",
    "        \"July 2019 Mean NO2 ($\\mathrm{mol \\cdot m^{-2}}$)\",\n",
    "        \"Change in Mean NO2 ($\\mathrm{mol \\cdot m^{-2}}$)\",\n",
    "    ],\n",
    "    data_source=\"European Space Agency\",\n",
    ")"
   ]
  },
  {
   "cell_type": "code",
   "execution_count": null,
   "metadata": {
    "ExecuteTime": {
     "end_time": "2020-10-15T17:10:00.513747Z",
     "start_time": "2020-10-15T17:09:56.629037Z"
    }
   },
   "outputs": [],
   "source": [
    "# Plot August 2018-2019 change\n",
    "fig, ax = stl.plot_monthly_comparison(\n",
    "    pre_change=no2_dict[\"2018\"][\"08\"],\n",
    "    post_change=no2_dict[\"2019\"][\"08\"],\n",
    "    extent_file=monthly_means[0],\n",
    "    country_boundaries=[north_korea_boundary_clipped, south_korea_boundary],\n",
    "    country_names=[\"North Korea\", \"South Korea\"],\n",
    "    change_type=\"magnitude\",\n",
    "    location=\"South Korea\",\n",
    "    titles=[\n",
    "        \"August 2018 Mean NO2 ($\\mathrm{mol \\cdot m^{-2}}$)\",\n",
    "        \"August 2019 Mean NO2 ($\\mathrm{mol \\cdot m^{-2}}$)\",\n",
    "        \"Change in Mean NO2 ($\\mathrm{mol \\cdot m^{-2}}$)\",\n",
    "    ],\n",
    "    data_source=\"European Space Agency\",\n",
    ")"
   ]
  },
  {
   "cell_type": "code",
   "execution_count": null,
   "metadata": {
    "ExecuteTime": {
     "end_time": "2020-10-15T17:10:04.503522Z",
     "start_time": "2020-10-15T17:10:00.515731Z"
    }
   },
   "outputs": [],
   "source": [
    "# Plot September 2018-2019 change\n",
    "fig, ax = stl.plot_monthly_comparison(\n",
    "    pre_change=no2_dict[\"2018\"][\"09\"],\n",
    "    post_change=no2_dict[\"2019\"][\"09\"],\n",
    "    extent_file=monthly_means[0],\n",
    "    country_boundaries=[north_korea_boundary_clipped, south_korea_boundary],\n",
    "    country_names=[\"North Korea\", \"South Korea\"],\n",
    "    change_type=\"magnitude\",\n",
    "    location=\"South Korea\",\n",
    "    titles=[\n",
    "        \"September 2018 Mean NO2 ($\\mathrm{mol \\cdot m^{-2}}$)\",\n",
    "        \"September 2019 Mean NO2 ($\\mathrm{mol \\cdot m^{-2}}$)\",\n",
    "        \"Change in Mean NO2 ($\\mathrm{mol \\cdot m^{-2}}$)\",\n",
    "    ],\n",
    "    data_source=\"European Space Agency\",\n",
    ")"
   ]
  },
  {
   "cell_type": "code",
   "execution_count": null,
   "metadata": {
    "ExecuteTime": {
     "end_time": "2020-10-15T17:10:08.354392Z",
     "start_time": "2020-10-15T17:10:04.505516Z"
    }
   },
   "outputs": [],
   "source": [
    "# Plot October 2018-2019 change\n",
    "fig, ax = stl.plot_monthly_comparison(\n",
    "    pre_change=no2_dict[\"2018\"][\"10\"],\n",
    "    post_change=no2_dict[\"2019\"][\"10\"],\n",
    "    extent_file=monthly_means[0],\n",
    "    country_boundaries=[north_korea_boundary_clipped, south_korea_boundary],\n",
    "    country_names=[\"North Korea\", \"South Korea\"],\n",
    "    change_type=\"magnitude\",\n",
    "    location=\"South Korea\",\n",
    "    titles=[\n",
    "        \"October 2018 Mean NO2 ($\\mathrm{mol \\cdot m^{-2}}$)\",\n",
    "        \"October 2019 Mean NO2 ($\\mathrm{mol \\cdot m^{-2}}$)\",\n",
    "        \"Change in Mean NO2 ($\\mathrm{mol \\cdot m^{-2}}$)\",\n",
    "    ],\n",
    "    data_source=\"European Space Agency\",\n",
    ")"
   ]
  },
  {
   "cell_type": "code",
   "execution_count": null,
   "metadata": {
    "ExecuteTime": {
     "end_time": "2020-10-15T17:10:12.420512Z",
     "start_time": "2020-10-15T17:10:08.357384Z"
    }
   },
   "outputs": [],
   "source": [
    "# Plot November 2018-2019 change\n",
    "fig, ax = stl.plot_monthly_comparison(\n",
    "    pre_change=no2_dict[\"2018\"][\"11\"],\n",
    "    post_change=no2_dict[\"2019\"][\"11\"],\n",
    "    extent_file=monthly_means[0],\n",
    "    country_boundaries=[north_korea_boundary_clipped, south_korea_boundary],\n",
    "    country_names=[\"North Korea\", \"South Korea\"],\n",
    "    change_type=\"magnitude\",\n",
    "    location=\"South Korea\",\n",
    "    titles=[\n",
    "        \"November 2018 Mean NO2 ($\\mathrm{mol \\cdot m^{-2}}$)\",\n",
    "        \"November 2019 Mean NO2 ($\\mathrm{mol \\cdot m^{-2}}$)\",\n",
    "        \"Change in Mean NO2 ($\\mathrm{mol \\cdot m^{-2}}$)\",\n",
    "    ],\n",
    "    data_source=\"European Space Agency\",\n",
    ")"
   ]
  },
  {
   "cell_type": "code",
   "execution_count": null,
   "metadata": {
    "ExecuteTime": {
     "end_time": "2020-10-15T17:10:16.469352Z",
     "start_time": "2020-10-15T17:10:12.422508Z"
    }
   },
   "outputs": [],
   "source": [
    "# Plot December 2018-2019 change\n",
    "fig, ax = stl.plot_monthly_comparison(\n",
    "    pre_change=no2_dict[\"2018\"][\"12\"],\n",
    "    post_change=no2_dict[\"2019\"][\"12\"],\n",
    "    extent_file=monthly_means[0],\n",
    "    country_boundaries=[north_korea_boundary_clipped, south_korea_boundary],\n",
    "    country_names=[\"North Korea\", \"South Korea\"],\n",
    "    change_type=\"magnitude\",\n",
    "    location=\"South Korea\",\n",
    "    titles=[\n",
    "        \"December 2018 Mean NO2 ($\\mathrm{mol \\cdot m^{-2}}$)\",\n",
    "        \"December 2019 Mean NO2 ($\\mathrm{mol \\cdot m^{-2}}$)\",\n",
    "        \"Change in Mean NO2 ($\\mathrm{mol \\cdot m^{-2}}$)\",\n",
    "    ],\n",
    "    data_source=\"European Space Agency\",\n",
    ")"
   ]
  },
  {
   "cell_type": "code",
   "execution_count": null,
   "metadata": {
    "ExecuteTime": {
     "end_time": "2020-10-15T17:10:20.213393Z",
     "start_time": "2020-10-15T17:10:16.469352Z"
    }
   },
   "outputs": [],
   "source": [
    "# Plot January 2019-2020 change\n",
    "fig, ax = stl.plot_monthly_comparison(\n",
    "    pre_change=no2_dict[\"2019\"][\"01\"],\n",
    "    post_change=no2_dict[\"2020\"][\"01\"],\n",
    "    extent_file=monthly_means[0],\n",
    "    country_boundaries=[north_korea_boundary_clipped, south_korea_boundary],\n",
    "    country_names=[\"North Korea\", \"South Korea\"],\n",
    "    change_type=\"magnitude\",\n",
    "    location=\"South Korea\",\n",
    "    titles=[\n",
    "        \"January 2019 Mean NO2 ($\\mathrm{mol \\cdot m^{-2}}$)\",\n",
    "        \"January 2020 Mean NO2 ($\\mathrm{mol \\cdot m^{-2}}$)\",\n",
    "        \"Change in Mean NO2 ($\\mathrm{mol \\cdot m^{-2}}$)\",\n",
    "    ],\n",
    "    data_source=\"European Space Agency\",\n",
    ")"
   ]
  },
  {
   "cell_type": "code",
   "execution_count": null,
   "metadata": {
    "ExecuteTime": {
     "end_time": "2020-10-15T17:10:24.575722Z",
     "start_time": "2020-10-15T17:10:20.216385Z"
    }
   },
   "outputs": [],
   "source": [
    "# Plot February 2019-2020 change\n",
    "fig, ax = stl.plot_monthly_comparison(\n",
    "    pre_change=no2_dict[\"2019\"][\"02\"],\n",
    "    post_change=no2_dict[\"2020\"][\"02\"],\n",
    "    extent_file=monthly_means[0],\n",
    "    country_boundaries=[north_korea_boundary_clipped, south_korea_boundary],\n",
    "    country_names=[\"North Korea\", \"South Korea\"],\n",
    "    change_type=\"magnitude\",\n",
    "    location=\"South Korea\",\n",
    "    titles=[\n",
    "        \"February 2019 Mean NO2 ($\\mathrm{mol \\cdot m^{-2}}$)\",\n",
    "        \"February 2020 Mean NO2 ($\\mathrm{mol \\cdot m^{-2}}$)\",\n",
    "        \"Change in Mean NO2 ($\\mathrm{mol \\cdot m^{-2}}$)\",\n",
    "    ],\n",
    "    data_source=\"European Space Agency\",\n",
    ")"
   ]
  },
  {
   "cell_type": "code",
   "execution_count": null,
   "metadata": {
    "ExecuteTime": {
     "end_time": "2020-10-15T17:10:29.056683Z",
     "start_time": "2020-10-15T17:10:24.577717Z"
    }
   },
   "outputs": [],
   "source": [
    "# Plot March 2019-2020 change\n",
    "fig, ax = stl.plot_monthly_comparison(\n",
    "    pre_change=no2_dict[\"2019\"][\"03\"],\n",
    "    post_change=no2_dict[\"2020\"][\"03\"],\n",
    "    extent_file=monthly_means[0],\n",
    "    country_boundaries=[north_korea_boundary_clipped, south_korea_boundary],\n",
    "    country_names=[\"North Korea\", \"South Korea\"],\n",
    "    change_type=\"magnitude\",\n",
    "    location=\"South Korea\",\n",
    "    titles=[\n",
    "        \"March 2019 Mean NO2 ($\\mathrm{mol \\cdot m^{-2}}$)\",\n",
    "        \"March 2020 Mean NO2 ($\\mathrm{mol \\cdot m^{-2}}$)\",\n",
    "        \"Change in Mean NO2 ($\\mathrm{mol \\cdot m^{-2}}$)\",\n",
    "    ],\n",
    "    data_source=\"European Space Agency\",\n",
    ")"
   ]
  },
  {
   "cell_type": "code",
   "execution_count": null,
   "metadata": {
    "ExecuteTime": {
     "end_time": "2020-10-15T17:10:33.180679Z",
     "start_time": "2020-10-15T17:10:29.058676Z"
    }
   },
   "outputs": [],
   "source": [
    "# Plot April 2019-2020 change\n",
    "fig, ax = stl.plot_monthly_comparison(\n",
    "    pre_change=no2_dict[\"2019\"][\"04\"],\n",
    "    post_change=no2_dict[\"2020\"][\"04\"],\n",
    "    extent_file=monthly_means[0],\n",
    "    country_boundaries=[north_korea_boundary_clipped, south_korea_boundary],\n",
    "    country_names=[\"North Korea\", \"South Korea\"],\n",
    "    change_type=\"magnitude\",\n",
    "    location=\"South Korea\",\n",
    "    titles=[\n",
    "        \"April 2019 Mean NO2 ($\\mathrm{mol \\cdot m^{-2}}$)\",\n",
    "        \"April 2020 Mean NO2 ($\\mathrm{mol \\cdot m^{-2}}$)\",\n",
    "        \"Change in Mean NO2 ($\\mathrm{mol \\cdot m^{-2}}$)\",\n",
    "    ],\n",
    "    data_source=\"European Space Agency\",\n",
    ")"
   ]
  },
  {
   "cell_type": "code",
   "execution_count": null,
   "metadata": {
    "ExecuteTime": {
     "end_time": "2020-10-15T17:10:37.123936Z",
     "start_time": "2020-10-15T17:10:33.182643Z"
    }
   },
   "outputs": [],
   "source": [
    "# Plot May 2019-2020 change\n",
    "fig, ax = stl.plot_monthly_comparison(\n",
    "    pre_change=no2_dict[\"2019\"][\"05\"],\n",
    "    post_change=no2_dict[\"2020\"][\"05\"],\n",
    "    extent_file=monthly_means[0],\n",
    "    country_boundaries=[north_korea_boundary_clipped, south_korea_boundary],\n",
    "    country_names=[\"North Korea\", \"South Korea\"],\n",
    "    change_type=\"magnitude\",\n",
    "    location=\"South Korea\",\n",
    "    titles=[\n",
    "        \"May 2019 Mean NO2 ($\\mathrm{mol \\cdot m^{-2}}$)\",\n",
    "        \"May 2020 Mean NO2 ($\\mathrm{mol \\cdot m^{-2}}$)\",\n",
    "        \"Change in Mean NO2 ($\\mathrm{mol \\cdot m^{-2}}$)\",\n",
    "    ],\n",
    "    data_source=\"European Space Agency\",\n",
    ")"
   ]
  },
  {
   "cell_type": "code",
   "execution_count": null,
   "metadata": {
    "ExecuteTime": {
     "end_time": "2020-10-15T17:10:41.811317Z",
     "start_time": "2020-10-15T17:10:37.125919Z"
    }
   },
   "outputs": [],
   "source": [
    "# Plot June 2019-2020 change\n",
    "fig, ax = stl.plot_monthly_comparison(\n",
    "    pre_change=no2_dict[\"2019\"][\"06\"],\n",
    "    post_change=no2_dict[\"2020\"][\"06\"],\n",
    "    extent_file=monthly_means[0],\n",
    "    country_boundaries=[north_korea_boundary_clipped, south_korea_boundary],\n",
    "    country_names=[\"North Korea\", \"South Korea\"],\n",
    "    change_type=\"magnitude\",\n",
    "    location=\"South Korea\",\n",
    "    titles=[\n",
    "        \"June 2019 Mean NO2 ($\\mathrm{mol \\cdot m^{-2}}$)\",\n",
    "        \"June 2020 Mean NO2 ($\\mathrm{mol \\cdot m^{-2}}$)\",\n",
    "        \"Change in Mean NO2 ($\\mathrm{mol \\cdot m^{-2}}$)\",\n",
    "    ],\n",
    "    data_source=\"European Space Agency\",\n",
    ")"
   ]
  },
  {
   "cell_type": "code",
   "execution_count": null,
   "metadata": {
    "ExecuteTime": {
     "end_time": "2020-10-15T17:10:46.654245Z",
     "start_time": "2020-10-15T17:10:41.814308Z"
    }
   },
   "outputs": [],
   "source": [
    "# Plot July 2019-2020 change\n",
    "fig, ax = stl.plot_monthly_comparison(\n",
    "    pre_change=no2_dict[\"2019\"][\"07\"],\n",
    "    post_change=no2_dict[\"2020\"][\"07\"],\n",
    "    extent_file=monthly_means[0],\n",
    "    country_boundaries=[north_korea_boundary_clipped, south_korea_boundary],\n",
    "    country_names=[\"North Korea\", \"South Korea\"],\n",
    "    change_type=\"magnitude\",\n",
    "    location=\"South Korea\",\n",
    "    titles=[\n",
    "        \"Jul 2019 Mean NO2 ($\\mathrm{mol \\cdot m^{-2}}$)\",\n",
    "        \"Jul 2020 Mean NO2 ($\\mathrm{mol \\cdot m^{-2}}$)\",\n",
    "        \"Change in Mean NO2 ($\\mathrm{mol \\cdot m^{-2}}$)\",\n",
    "    ],\n",
    "    data_source=\"European Space Agency\",\n",
    ")"
   ]
  },
  {
   "cell_type": "markdown",
   "metadata": {},
   "source": [
    "#### Percent Change"
   ]
  },
  {
   "cell_type": "code",
   "execution_count": null,
   "metadata": {
    "ExecuteTime": {
     "end_time": "2020-10-15T17:10:51.355337Z",
     "start_time": "2020-10-15T17:10:46.657237Z"
    }
   },
   "outputs": [],
   "source": [
    "# Plot July 2018-2019 change\n",
    "fig, ax = stl.plot_monthly_comparison(\n",
    "    pre_change=no2_dict[\"2018\"][\"07\"],\n",
    "    post_change=no2_dict[\"2019\"][\"07\"],\n",
    "    extent_file=monthly_means[0],\n",
    "    country_boundaries=[north_korea_boundary_clipped, south_korea_boundary],\n",
    "    country_names=[\"North Korea\", \"South Korea\"],\n",
    "    change_type=\"percent\",\n",
    "    location=\"South Korea\",\n",
    "    titles=[\n",
    "        \"July 2018 Mean NO2 ($\\mathrm{mol \\cdot m^{-2}}$)\",\n",
    "        \"July 2019 Mean NO2 ($\\mathrm{mol \\cdot m^{-2}}$)\",\n",
    "        \"Change in Mean NO2 (%)\",\n",
    "    ],\n",
    "    data_source=\"European Space Agency\",\n",
    ")"
   ]
  },
  {
   "cell_type": "code",
   "execution_count": null,
   "metadata": {
    "ExecuteTime": {
     "end_time": "2020-10-15T17:10:55.793460Z",
     "start_time": "2020-10-15T17:10:51.358327Z"
    }
   },
   "outputs": [],
   "source": [
    "# Plot August 2018-2019 change\n",
    "fig, ax = stl.plot_monthly_comparison(\n",
    "    pre_change=no2_dict[\"2018\"][\"08\"],\n",
    "    post_change=no2_dict[\"2019\"][\"08\"],\n",
    "    extent_file=monthly_means[0],\n",
    "    country_boundaries=[north_korea_boundary_clipped, south_korea_boundary],\n",
    "    country_names=[\"North Korea\", \"South Korea\"],\n",
    "    change_type=\"percent\",\n",
    "    location=\"South Korea\",\n",
    "    titles=[\n",
    "        \"August 2018 Mean NO2 ($\\mathrm{mol \\cdot m^{-2}}$)\",\n",
    "        \"August 2019 Mean NO2 ($\\mathrm{mol \\cdot m^{-2}}$)\",\n",
    "        \"Change in Mean NO2 (%)\",\n",
    "    ],\n",
    "    data_source=\"European Space Agency\",\n",
    ")"
   ]
  },
  {
   "cell_type": "code",
   "execution_count": null,
   "metadata": {
    "ExecuteTime": {
     "end_time": "2020-10-15T17:11:00.691449Z",
     "start_time": "2020-10-15T17:10:55.797448Z"
    }
   },
   "outputs": [],
   "source": [
    "# Plot September 2018-2019 change\n",
    "fig, ax = stl.plot_monthly_comparison(\n",
    "    pre_change=no2_dict[\"2018\"][\"09\"],\n",
    "    post_change=no2_dict[\"2019\"][\"09\"],\n",
    "    extent_file=monthly_means[0],\n",
    "    country_boundaries=[north_korea_boundary_clipped, south_korea_boundary],\n",
    "    country_names=[\"North Korea\", \"South Korea\"],\n",
    "    change_type=\"percent\",\n",
    "    location=\"South Korea\",\n",
    "    titles=[\n",
    "        \"September 2018 Mean NO2 ($\\mathrm{mol \\cdot m^{-2}}$)\",\n",
    "        \"September 2019 Mean NO2 ($\\mathrm{mol \\cdot m^{-2}}$)\",\n",
    "        \"Change in Mean NO2 (%)\",\n",
    "    ],\n",
    "    data_source=\"European Space Agency\",\n",
    ")"
   ]
  },
  {
   "cell_type": "code",
   "execution_count": null,
   "metadata": {
    "ExecuteTime": {
     "end_time": "2020-10-15T17:11:04.943262Z",
     "start_time": "2020-10-15T17:11:00.693445Z"
    }
   },
   "outputs": [],
   "source": [
    "# Plot October 2018-2019 change\n",
    "fig, ax = stl.plot_monthly_comparison(\n",
    "    pre_change=no2_dict[\"2018\"][\"10\"],\n",
    "    post_change=no2_dict[\"2019\"][\"10\"],\n",
    "    extent_file=monthly_means[0],\n",
    "    country_boundaries=[north_korea_boundary_clipped, south_korea_boundary],\n",
    "    country_names=[\"North Korea\", \"South Korea\"],\n",
    "    change_type=\"percent\",\n",
    "    location=\"South Korea\",\n",
    "    titles=[\n",
    "        \"October 2018 Mean NO2 ($\\mathrm{mol \\cdot m^{-2}}$)\",\n",
    "        \"October 2019 Mean NO2 ($\\mathrm{mol \\cdot m^{-2}}$)\",\n",
    "        \"Change in Mean NO2 (%)\",\n",
    "    ],\n",
    "    data_source=\"European Space Agency\",\n",
    ")"
   ]
  },
  {
   "cell_type": "code",
   "execution_count": null,
   "metadata": {
    "ExecuteTime": {
     "end_time": "2020-10-15T17:11:09.164489Z",
     "start_time": "2020-10-15T17:11:04.945256Z"
    }
   },
   "outputs": [],
   "source": [
    "# Plot November 2018-2019 change\n",
    "fig, ax = stl.plot_monthly_comparison(\n",
    "    pre_change=no2_dict[\"2018\"][\"11\"],\n",
    "    post_change=no2_dict[\"2019\"][\"11\"],\n",
    "    extent_file=monthly_means[0],\n",
    "    country_boundaries=[north_korea_boundary_clipped, south_korea_boundary],\n",
    "    country_names=[\"North Korea\", \"South Korea\"],\n",
    "    change_type=\"percent\",\n",
    "    location=\"South Korea\",\n",
    "    titles=[\n",
    "        \"November 2018 Mean NO2 ($\\mathrm{mol \\cdot m^{-2}}$)\",\n",
    "        \"November 2019 Mean NO2 ($\\mathrm{mol \\cdot m^{-2}}$)\",\n",
    "        \"Change in Mean NO2 (%)\",\n",
    "    ],\n",
    "    data_source=\"European Space Agency\",\n",
    ")"
   ]
  },
  {
   "cell_type": "code",
   "execution_count": null,
   "metadata": {
    "ExecuteTime": {
     "end_time": "2020-10-15T17:11:13.272433Z",
     "start_time": "2020-10-15T17:11:09.167480Z"
    }
   },
   "outputs": [],
   "source": [
    "# Plot December 2018-2019 change\n",
    "fig, ax = stl.plot_monthly_comparison(\n",
    "    pre_change=no2_dict[\"2018\"][\"12\"],\n",
    "    post_change=no2_dict[\"2019\"][\"12\"],\n",
    "    extent_file=monthly_means[0],\n",
    "    country_boundaries=[north_korea_boundary_clipped, south_korea_boundary],\n",
    "    country_names=[\"North Korea\", \"South Korea\"],\n",
    "    change_type=\"percent\",\n",
    "    location=\"South Korea\",\n",
    "    titles=[\n",
    "        \"December 2018 Mean NO2 ($\\mathrm{mol \\cdot m^{-2}}$)\",\n",
    "        \"December 2019 Mean NO2 ($\\mathrm{mol \\cdot m^{-2}}$)\",\n",
    "        \"Change in Mean NO2 (%)\",\n",
    "    ],\n",
    "    data_source=\"European Space Agency\",\n",
    ")"
   ]
  },
  {
   "cell_type": "code",
   "execution_count": null,
   "metadata": {
    "ExecuteTime": {
     "end_time": "2020-10-15T17:11:17.338665Z",
     "start_time": "2020-10-15T17:11:13.274431Z"
    }
   },
   "outputs": [],
   "source": [
    "# Plot January 2019-2020 change\n",
    "fig, ax = stl.plot_monthly_comparison(\n",
    "    pre_change=no2_dict[\"2019\"][\"01\"],\n",
    "    post_change=no2_dict[\"2020\"][\"01\"],\n",
    "    extent_file=monthly_means[0],\n",
    "    country_boundaries=[north_korea_boundary_clipped, south_korea_boundary],\n",
    "    country_names=[\"North Korea\", \"South Korea\"],\n",
    "    change_type=\"percent\",\n",
    "    location=\"South Korea\",\n",
    "    titles=[\n",
    "        \"January 2019 Mean NO2 ($\\mathrm{mol \\cdot m^{-2}}$)\",\n",
    "        \"January 2020 Mean NO2 ($\\mathrm{mol \\cdot m^{-2}}$)\",\n",
    "        \"Change in Mean NO2 (%)\",\n",
    "    ],\n",
    "    data_source=\"European Space Agency\",\n",
    ")"
   ]
  },
  {
   "cell_type": "code",
   "execution_count": null,
   "metadata": {
    "ExecuteTime": {
     "end_time": "2020-10-15T17:11:21.332597Z",
     "start_time": "2020-10-15T17:11:17.341655Z"
    }
   },
   "outputs": [],
   "source": [
    "# Plot February 2019-2020 change\n",
    "fig, ax = stl.plot_monthly_comparison(\n",
    "    pre_change=no2_dict[\"2019\"][\"02\"],\n",
    "    post_change=no2_dict[\"2020\"][\"02\"],\n",
    "    extent_file=monthly_means[0],\n",
    "    country_boundaries=[north_korea_boundary_clipped, south_korea_boundary],\n",
    "    country_names=[\"North Korea\", \"South Korea\"],\n",
    "    change_type=\"percent\",\n",
    "    location=\"South Korea\",\n",
    "    titles=[\n",
    "        \"February 2019 Mean NO2 ($\\mathrm{mol \\cdot m^{-2}}$)\",\n",
    "        \"February 2020 Mean NO2 ($\\mathrm{mol \\cdot m^{-2}}$)\",\n",
    "        \"Change in Mean NO2 (%)\",\n",
    "    ],\n",
    "    data_source=\"European Space Agency\",\n",
    ")"
   ]
  },
  {
   "cell_type": "code",
   "execution_count": null,
   "metadata": {
    "ExecuteTime": {
     "end_time": "2020-10-15T17:11:25.485987Z",
     "start_time": "2020-10-15T17:11:21.334564Z"
    }
   },
   "outputs": [],
   "source": [
    "# Plot March 2019-2020 change\n",
    "fig, ax = stl.plot_monthly_comparison(\n",
    "    pre_change=no2_dict[\"2019\"][\"03\"],\n",
    "    post_change=no2_dict[\"2020\"][\"03\"],\n",
    "    extent_file=monthly_means[0],\n",
    "    country_boundaries=[north_korea_boundary_clipped, south_korea_boundary],\n",
    "    country_names=[\"North Korea\", \"South Korea\"],\n",
    "    change_type=\"percent\",\n",
    "    location=\"South Korea\",\n",
    "    titles=[\n",
    "        \"March 2019 Mean NO2 ($\\mathrm{mol \\cdot m^{-2}}$)\",\n",
    "        \"March 2020 Mean NO2 ($\\mathrm{mol \\cdot m^{-2}}$)\",\n",
    "        \"Change in Mean NO2 (%)\",\n",
    "    ],\n",
    "    data_source=\"European Space Agency\",\n",
    ")"
   ]
  },
  {
   "cell_type": "code",
   "execution_count": null,
   "metadata": {
    "ExecuteTime": {
     "end_time": "2020-10-15T17:11:29.746580Z",
     "start_time": "2020-10-15T17:11:25.487974Z"
    }
   },
   "outputs": [],
   "source": [
    "# Plot April 2019-2020 change\n",
    "fig, ax = stl.plot_monthly_comparison(\n",
    "    pre_change=no2_dict[\"2019\"][\"04\"],\n",
    "    post_change=no2_dict[\"2020\"][\"04\"],\n",
    "    extent_file=monthly_means[0],\n",
    "    country_boundaries=[north_korea_boundary_clipped, south_korea_boundary],\n",
    "    country_names=[\"North Korea\", \"South Korea\"],\n",
    "    change_type=\"percent\",\n",
    "    location=\"South Korea\",\n",
    "    titles=[\n",
    "        \"April 2019 Mean NO2 ($\\mathrm{mol \\cdot m^{-2}}$)\",\n",
    "        \"April 2020 Mean NO2 ($\\mathrm{mol \\cdot m^{-2}}$)\",\n",
    "        \"Change in Mean NO2 (%)\",\n",
    "    ],\n",
    "    data_source=\"European Space Agency\",\n",
    ")"
   ]
  },
  {
   "cell_type": "code",
   "execution_count": null,
   "metadata": {
    "ExecuteTime": {
     "end_time": "2020-10-15T17:11:33.726929Z",
     "start_time": "2020-10-15T17:11:29.748578Z"
    }
   },
   "outputs": [],
   "source": [
    "# Plot May 2019-2020 change\n",
    "fig, ax = stl.plot_monthly_comparison(\n",
    "    pre_change=no2_dict[\"2019\"][\"05\"],\n",
    "    post_change=no2_dict[\"2020\"][\"05\"],\n",
    "    extent_file=monthly_means[0],\n",
    "    country_boundaries=[north_korea_boundary_clipped, south_korea_boundary],\n",
    "    country_names=[\"North Korea\", \"South Korea\"],\n",
    "    change_type=\"percent\",\n",
    "    location=\"South Korea\",\n",
    "    titles=[\n",
    "        \"May 2019 Mean NO2 ($\\mathrm{mol \\cdot m^{-2}}$)\",\n",
    "        \"May 2020 Mean NO2 ($\\mathrm{mol \\cdot m^{-2}}$)\",\n",
    "        \"Change in Mean NO2 (%)\",\n",
    "    ],\n",
    "    data_source=\"European Space Agency\",\n",
    ")"
   ]
  },
  {
   "cell_type": "code",
   "execution_count": null,
   "metadata": {
    "ExecuteTime": {
     "end_time": "2020-10-15T17:11:37.821820Z",
     "start_time": "2020-10-15T17:11:33.729923Z"
    }
   },
   "outputs": [],
   "source": [
    "# Plot June 2019-2020 change\n",
    "fig, ax = stl.plot_monthly_comparison(\n",
    "    pre_change=no2_dict[\"2019\"][\"06\"],\n",
    "    post_change=no2_dict[\"2020\"][\"06\"],\n",
    "    extent_file=monthly_means[0],\n",
    "    country_boundaries=[north_korea_boundary_clipped, south_korea_boundary],\n",
    "    country_names=[\"North Korea\", \"South Korea\"],\n",
    "    change_type=\"percent\",\n",
    "    location=\"South Korea\",\n",
    "    titles=[\n",
    "        \"June 2019 Mean NO2 ($\\mathrm{mol \\cdot m^{-2}}$)\",\n",
    "        \"June 2020 Mean NO2 ($\\mathrm{mol \\cdot m^{-2}}$)\",\n",
    "        \"Change in Mean NO2 (%)\",\n",
    "    ],\n",
    "    data_source=\"European Space Agency\",\n",
    ")"
   ]
  },
  {
   "cell_type": "code",
   "execution_count": null,
   "metadata": {
    "ExecuteTime": {
     "end_time": "2020-10-15T17:11:41.613674Z",
     "start_time": "2020-10-15T17:11:37.823814Z"
    }
   },
   "outputs": [],
   "source": [
    "# Plot July 2019-2020 change\n",
    "fig, ax = stl.plot_monthly_comparison(\n",
    "    pre_change=no2_dict[\"2019\"][\"07\"],\n",
    "    post_change=no2_dict[\"2020\"][\"07\"],\n",
    "    extent_file=monthly_means[0],\n",
    "    country_boundaries=[north_korea_boundary_clipped, south_korea_boundary],\n",
    "    country_names=[\"North Korea\", \"South Korea\"],\n",
    "    change_type=\"percent\",\n",
    "    location=\"South Korea\",\n",
    "    titles=[\n",
    "        \"Jul 2019 Mean NO2 ($\\mathrm{mol \\cdot m^{-2}}$)\",\n",
    "        \"Jul 2020 Mean NO2 ($\\mathrm{mol \\cdot m^{-2}}$)\",\n",
    "        \"Change in Mean NO2 (%)\",\n",
    "    ],\n",
    "    data_source=\"European Space Agency\",\n",
    ")"
   ]
  },
  {
   "cell_type": "markdown",
   "metadata": {},
   "source": [
    "# Data Export"
   ]
  },
  {
   "cell_type": "markdown",
   "metadata": {},
   "source": [
    "### Monthly Means"
   ]
  },
  {
   "cell_type": "code",
   "execution_count": null,
   "metadata": {
    "ExecuteTime": {
     "end_time": "2020-10-19T19:55:08.493200Z",
     "start_time": "2020-10-19T19:52:28.739175Z"
    },
    "scrolled": false
   },
   "outputs": [],
   "source": [
    "# Plot and export all stack bands (monthly means)\n",
    "with plt.style.context(\"dark_background\"):\n",
    "    # Initialize figure/axes\n",
    "    fig, ax = plt.subplots(nrows=8, ncols=3, figsize=(20, 40))\n",
    "    plt.suptitle(\"South Korea NO2 Monthly Means, Jul 2018 - Jun 2020\", size=24)\n",
    "    plt.subplots_adjust(top=0.955)\n",
    "\n",
    "    # Loop through all axes\n",
    "    for (band, axis) in enumerate(fig.axes):\n",
    "        # Plot monthly mean NO2 data\n",
    "        ep.plot_bands(\n",
    "            arr=no2_months_stack[band],\n",
    "            cmap=\"inferno\",\n",
    "            title=titles[band],\n",
    "            extent=south_korea_extent,\n",
    "            vmin=0,\n",
    "            vmax=no2_months_stack.max(),\n",
    "            ax=axis,\n",
    "        )\n",
    "\n",
    "        # Add country boundaries and legend to axes\n",
    "        north_korea_boundary_clipped.boundary.plot(\n",
    "            edgecolor=\"#e41a1c\",\n",
    "            linewidth=0.5,\n",
    "            ax=axis,\n",
    "            alpha=1,\n",
    "            label=\"North Korea\",\n",
    "        )\n",
    "        south_korea_boundary.boundary.plot(\n",
    "            edgecolor=\"#1b7837\",\n",
    "            linewidth=0.5,\n",
    "            ax=axis,\n",
    "            alpha=1,\n",
    "            label=\"South Korea\",\n",
    "        )\n",
    "        axis.legend(\n",
    "            shadow=True, edgecolor=\"white\", fontsize=10, loc=\"lower right\"\n",
    "        )\n",
    "\n",
    "    # Add caption\n",
    "    fig.text(\n",
    "        0.5,\n",
    "        0.11,\n",
    "        f\"Data Source: European Space Agency\",\n",
    "        ha=\"center\",\n",
    "        fontsize=16,\n",
    "    )\n",
    "\n",
    "rd.save_figure(\n",
    "    os.path.join(\n",
    "        \"04-graphics-outputs\",\n",
    "        \"spatial-plots\",\n",
    "        \"south-korea\",\n",
    "        \"south-korea-no2-monthly-means-jul-2018-jun-2020.png\",\n",
    "    )\n",
    ")"
   ]
  },
  {
   "cell_type": "markdown",
   "metadata": {},
   "source": [
    "### Magnitude Change"
   ]
  },
  {
   "cell_type": "markdown",
   "metadata": {},
   "source": [
    "#### Georeferenced"
   ]
  },
  {
   "cell_type": "code",
   "execution_count": null,
   "metadata": {
    "ExecuteTime": {
     "end_time": "2020-10-19T14:42:12.961789Z",
     "start_time": "2020-10-19T14:42:12.945833Z"
    }
   },
   "outputs": [],
   "source": [
    "# Extract metadata from GeoTiff\n",
    "metadata = stl.extract_geotiff_metadata(monthly_means[0])\n",
    "metadata"
   ]
  },
  {
   "cell_type": "code",
   "execution_count": null,
   "metadata": {
    "ExecuteTime": {
     "end_time": "2020-10-19T15:01:56.565099Z",
     "start_time": "2020-10-19T15:01:56.349108Z"
    }
   },
   "outputs": [],
   "source": [
    "# Export monthly NO2 change (magnitude)\n",
    "export_files = [\n",
    "    (\n",
    "        magnitude_change_jul_2018_2019,\n",
    "        os.path.join(\n",
    "            \"03-processed-data\",\n",
    "            \"raster\",\n",
    "            \"south-korea\",\n",
    "            \"change\",\n",
    "            \"south-korea-no2-mean-change-magnitude-jul-2018-2019.tif\",\n",
    "        ),\n",
    "    ),\n",
    "    (\n",
    "        magnitude_change_aug_2018_2019,\n",
    "        os.path.join(\n",
    "            \"03-processed-data\",\n",
    "            \"raster\",\n",
    "            \"south-korea\",\n",
    "            \"change\",\n",
    "            \"south-korea-no2-mean-change-magnitude-aug-2018-2019.tif\",\n",
    "        ),\n",
    "    ),\n",
    "    (\n",
    "        magnitude_change_sep_2018_2019,\n",
    "        os.path.join(\n",
    "            \"03-processed-data\",\n",
    "            \"raster\",\n",
    "            \"south-korea\",\n",
    "            \"change\",\n",
    "            \"south-korea-no2-mean-change-magnitude-sep-2018-2019.tif\",\n",
    "        ),\n",
    "    ),\n",
    "    (\n",
    "        magnitude_change_oct_2018_2019,\n",
    "        os.path.join(\n",
    "            \"03-processed-data\",\n",
    "            \"raster\",\n",
    "            \"south-korea\",\n",
    "            \"change\",\n",
    "            \"south-korea-no2-mean-change-magnitude-oct-2018-2019.tif\",\n",
    "        ),\n",
    "    ),\n",
    "    (\n",
    "        magnitude_change_nov_2018_2019,\n",
    "        os.path.join(\n",
    "            \"03-processed-data\",\n",
    "            \"raster\",\n",
    "            \"south-korea\",\n",
    "            \"change\",\n",
    "            \"south-korea-no2-mean-change-magnitude-nov-2018-2019.tif\",\n",
    "        ),\n",
    "    ),\n",
    "    (\n",
    "        magnitude_change_dec_2018_2019,\n",
    "        os.path.join(\n",
    "            \"03-processed-data\",\n",
    "            \"raster\",\n",
    "            \"south-korea\",\n",
    "            \"change\",\n",
    "            \"south-korea-no2-mean-change-magnitude-dec-2018-2019.tif\",\n",
    "        ),\n",
    "    ),\n",
    "    (\n",
    "        magnitude_change_jan_2019_2020,\n",
    "        os.path.join(\n",
    "            \"03-processed-data\",\n",
    "            \"raster\",\n",
    "            \"south-korea\",\n",
    "            \"change\",\n",
    "            \"south-korea-no2-mean-change-magnitude-jan-2019-2020.tif\",\n",
    "        ),\n",
    "    ),\n",
    "    (\n",
    "        magnitude_change_feb_2019_2020,\n",
    "        os.path.join(\n",
    "            \"03-processed-data\",\n",
    "            \"raster\",\n",
    "            \"south-korea\",\n",
    "            \"change\",\n",
    "            \"south-korea-no2-mean-change-magnitude-feb-2019-2020.tif\",\n",
    "        ),\n",
    "    ),\n",
    "    (\n",
    "        magnitude_change_mar_2019_2020,\n",
    "        os.path.join(\n",
    "            \"03-processed-data\",\n",
    "            \"raster\",\n",
    "            \"south-korea\",\n",
    "            \"change\",\n",
    "            \"south-korea-no2-mean-change-magnitude-mar-2019-2020.tif\",\n",
    "        ),\n",
    "    ),\n",
    "    (\n",
    "        magnitude_change_apr_2019_2020,\n",
    "        os.path.join(\n",
    "            \"03-processed-data\",\n",
    "            \"raster\",\n",
    "            \"south-korea\",\n",
    "            \"change\",\n",
    "            \"south-korea-no2-mean-change-magnitude-apr-2019-2020.tif\",\n",
    "        ),\n",
    "    ),\n",
    "    (\n",
    "        magnitude_change_may_2019_2020,\n",
    "        os.path.join(\n",
    "            \"03-processed-data\",\n",
    "            \"raster\",\n",
    "            \"south-korea\",\n",
    "            \"change\",\n",
    "            \"south-korea-no2-mean-change-magnitude-may-2019-2020.tif\",\n",
    "        ),\n",
    "    ),\n",
    "    (\n",
    "        magnitude_change_jun_2019_2020,\n",
    "        os.path.join(\n",
    "            \"03-processed-data\",\n",
    "            \"raster\",\n",
    "            \"south-korea\",\n",
    "            \"change\",\n",
    "            \"south-korea-no2-mean-change-magnitude-jun-2019-2020.tif\",\n",
    "        ),\n",
    "    ),\n",
    "    (\n",
    "        magnitude_change_jul_2019_2020,\n",
    "        os.path.join(\n",
    "            \"03-processed-data\",\n",
    "            \"raster\",\n",
    "            \"south-korea\",\n",
    "            \"change\",\n",
    "            \"south-korea-no2-mean-change-magnitude-jul-2019-2020.tif\",\n",
    "        ),\n",
    "    ),\n",
    "]\n",
    "\n",
    "for (array, outpath) in export_files:\n",
    "    rd.export_array(array, outpath, metadata)"
   ]
  },
  {
   "cell_type": "markdown",
   "metadata": {},
   "source": [
    "#### Non-Georeferenced"
   ]
  },
  {
   "cell_type": "code",
   "execution_count": null,
   "metadata": {
    "ExecuteTime": {
     "end_time": "2020-10-15T17:11:49.693487Z",
     "start_time": "2020-10-15T17:11:41.616666Z"
    }
   },
   "outputs": [],
   "source": [
    "# Plot and export July 2018-2019 change\n",
    "fig, ax = stl.plot_monthly_comparison(\n",
    "    pre_change=no2_dict[\"2018\"][\"07\"],\n",
    "    post_change=no2_dict[\"2019\"][\"07\"],\n",
    "    extent_file=monthly_means[0],\n",
    "    country_boundaries=[north_korea_boundary_clipped, south_korea_boundary],\n",
    "    country_names=[\"North Korea\", \"South Korea\"],\n",
    "    change_type=\"magnitude\",\n",
    "    location=\"South Korea\",\n",
    "    titles=[\n",
    "        \"July 2018 Mean NO2 ($\\mathrm{mol \\cdot m^{-2}}$)\",\n",
    "        \"July 2019 Mean NO2 ($\\mathrm{mol \\cdot m^{-2}}$)\",\n",
    "        \"Change in Mean NO2 ($\\mathrm{mol \\cdot m^{-2}}$)\",\n",
    "    ],\n",
    "    data_source=\"European Space Agency\",\n",
    ")\n",
    "\n",
    "rd.save_figure(\n",
    "    os.path.join(\n",
    "        \"04-graphics-outputs\",\n",
    "        \"spatial-plots\",\n",
    "        \"south-korea\",\n",
    "        \"south-korea-no2-mean-change-magnitude-jul-2018-2019.png\",\n",
    "    )\n",
    ")"
   ]
  },
  {
   "cell_type": "code",
   "execution_count": null,
   "metadata": {
    "ExecuteTime": {
     "end_time": "2020-10-15T17:11:57.774127Z",
     "start_time": "2020-10-15T17:11:49.695470Z"
    }
   },
   "outputs": [],
   "source": [
    "# Plot and export August 2018-2019 change\n",
    "fig, ax = stl.plot_monthly_comparison(\n",
    "    pre_change=no2_dict[\"2018\"][\"08\"],\n",
    "    post_change=no2_dict[\"2019\"][\"08\"],\n",
    "    extent_file=monthly_means[0],\n",
    "    country_boundaries=[north_korea_boundary_clipped, south_korea_boundary],\n",
    "    country_names=[\"North Korea\", \"South Korea\"],\n",
    "    change_type=\"magnitude\",\n",
    "    location=\"South Korea\",\n",
    "    titles=[\n",
    "        \"August 2018 Mean NO2 ($\\mathrm{mol \\cdot m^{-2}}$)\",\n",
    "        \"August 2019 Mean NO2 ($\\mathrm{mol \\cdot m^{-2}}$)\",\n",
    "        \"Change in Mean NO2 ($\\mathrm{mol \\cdot m^{-2}}$)\",\n",
    "    ],\n",
    "    data_source=\"European Space Agency\",\n",
    ")\n",
    "\n",
    "rd.save_figure(\n",
    "    os.path.join(\n",
    "        \"04-graphics-outputs\",\n",
    "        \"spatial-plots\",\n",
    "        \"south-korea\",\n",
    "        \"south-korea-no2-mean-change-magnitude-aug-2018-2019.png\",\n",
    "    )\n",
    ")"
   ]
  },
  {
   "cell_type": "code",
   "execution_count": null,
   "metadata": {
    "ExecuteTime": {
     "end_time": "2020-10-15T17:12:06.410442Z",
     "start_time": "2020-10-15T17:11:57.776094Z"
    }
   },
   "outputs": [],
   "source": [
    "# Plot and export September 2018-2019 change\n",
    "fig, ax = stl.plot_monthly_comparison(\n",
    "    pre_change=no2_dict[\"2018\"][\"09\"],\n",
    "    post_change=no2_dict[\"2019\"][\"09\"],\n",
    "    extent_file=monthly_means[0],\n",
    "    country_boundaries=[north_korea_boundary_clipped, south_korea_boundary],\n",
    "    country_names=[\"North Korea\", \"South Korea\"],\n",
    "    change_type=\"magnitude\",\n",
    "    location=\"South Korea\",\n",
    "    titles=[\n",
    "        \"September 2018 Mean NO2 ($\\mathrm{mol \\cdot m^{-2}}$)\",\n",
    "        \"September 2019 Mean NO2 ($\\mathrm{mol \\cdot m^{-2}}$)\",\n",
    "        \"Change in Mean NO2 ($\\mathrm{mol \\cdot m^{-2}}$)\",\n",
    "    ],\n",
    "    data_source=\"European Space Agency\",\n",
    ")\n",
    "\n",
    "rd.save_figure(\n",
    "    os.path.join(\n",
    "        \"04-graphics-outputs\",\n",
    "        \"spatial-plots\",\n",
    "        \"south-korea\",\n",
    "        \"south-korea-no2-mean-change-magnitude-sep-2018-2019.png\",\n",
    "    )\n",
    ")"
   ]
  },
  {
   "cell_type": "code",
   "execution_count": null,
   "metadata": {
    "ExecuteTime": {
     "end_time": "2020-10-15T17:12:15.766513Z",
     "start_time": "2020-10-15T17:12:06.413436Z"
    }
   },
   "outputs": [],
   "source": [
    "# Plot and export October 2018-2019 change\n",
    "fig, ax = stl.plot_monthly_comparison(\n",
    "    pre_change=no2_dict[\"2018\"][\"10\"],\n",
    "    post_change=no2_dict[\"2019\"][\"10\"],\n",
    "    extent_file=monthly_means[0],\n",
    "    country_boundaries=[north_korea_boundary_clipped, south_korea_boundary],\n",
    "    country_names=[\"North Korea\", \"South Korea\"],\n",
    "    change_type=\"magnitude\",\n",
    "    location=\"South Korea\",\n",
    "    titles=[\n",
    "        \"October 2018 Mean NO2 ($\\mathrm{mol \\cdot m^{-2}}$)\",\n",
    "        \"October 2019 Mean NO2 ($\\mathrm{mol \\cdot m^{-2}}$)\",\n",
    "        \"Change in Mean NO2 ($\\mathrm{mol \\cdot m^{-2}}$)\",\n",
    "    ],\n",
    "    data_source=\"European Space Agency\",\n",
    ")\n",
    "\n",
    "rd.save_figure(\n",
    "    os.path.join(\n",
    "        \"04-graphics-outputs\",\n",
    "        \"spatial-plots\",\n",
    "        \"south-korea\",\n",
    "        \"south-korea-no2-mean-change-magnitude-oct-2018-2019.png\",\n",
    "    )\n",
    ")"
   ]
  },
  {
   "cell_type": "code",
   "execution_count": null,
   "metadata": {
    "ExecuteTime": {
     "end_time": "2020-10-15T17:12:24.092203Z",
     "start_time": "2020-10-15T17:12:15.769499Z"
    }
   },
   "outputs": [],
   "source": [
    "# Plot and export November 2018-2019 change\n",
    "fig, ax = stl.plot_monthly_comparison(\n",
    "    pre_change=no2_dict[\"2018\"][\"11\"],\n",
    "    post_change=no2_dict[\"2019\"][\"11\"],\n",
    "    extent_file=monthly_means[0],\n",
    "    country_boundaries=[north_korea_boundary_clipped, south_korea_boundary],\n",
    "    country_names=[\"North Korea\", \"South Korea\"],\n",
    "    change_type=\"magnitude\",\n",
    "    location=\"South Korea\",\n",
    "    titles=[\n",
    "        \"November 2018 Mean NO2 ($\\mathrm{mol \\cdot m^{-2}}$)\",\n",
    "        \"November 2019 Mean NO2 ($\\mathrm{mol \\cdot m^{-2}}$)\",\n",
    "        \"Change in Mean NO2 ($\\mathrm{mol \\cdot m^{-2}}$)\",\n",
    "    ],\n",
    "    data_source=\"European Space Agency\",\n",
    ")\n",
    "\n",
    "rd.save_figure(\n",
    "    os.path.join(\n",
    "        \"04-graphics-outputs\",\n",
    "        \"spatial-plots\",\n",
    "        \"south-korea\",\n",
    "        \"south-korea-no2-mean-change-magnitude-nov-2018-2019.png\",\n",
    "    )\n",
    ")"
   ]
  },
  {
   "cell_type": "code",
   "execution_count": null,
   "metadata": {
    "ExecuteTime": {
     "end_time": "2020-10-15T17:12:34.042072Z",
     "start_time": "2020-10-15T17:12:24.095195Z"
    }
   },
   "outputs": [],
   "source": [
    "# Plot and export December 2018-2019 change\n",
    "fig, ax = stl.plot_monthly_comparison(\n",
    "    pre_change=no2_dict[\"2018\"][\"12\"],\n",
    "    post_change=no2_dict[\"2019\"][\"12\"],\n",
    "    extent_file=monthly_means[0],\n",
    "    country_boundaries=[north_korea_boundary_clipped, south_korea_boundary],\n",
    "    country_names=[\"North Korea\", \"South Korea\"],\n",
    "    change_type=\"magnitude\",\n",
    "    location=\"South Korea\",\n",
    "    titles=[\n",
    "        \"December 2018 Mean NO2 ($\\mathrm{mol \\cdot m^{-2}}$)\",\n",
    "        \"December 2019 Mean NO2 ($\\mathrm{mol \\cdot m^{-2}}$)\",\n",
    "        \"Change in Mean NO2 ($\\mathrm{mol \\cdot m^{-2}}$)\",\n",
    "    ],\n",
    "    data_source=\"European Space Agency\",\n",
    ")\n",
    "\n",
    "rd.save_figure(\n",
    "    os.path.join(\n",
    "        \"04-graphics-outputs\",\n",
    "        \"spatial-plots\",\n",
    "        \"south-korea\",\n",
    "        \"south-korea-no2-mean-change-magnitude-dec-2018-2019.png\",\n",
    "    )\n",
    ")"
   ]
  },
  {
   "cell_type": "code",
   "execution_count": null,
   "metadata": {
    "ExecuteTime": {
     "end_time": "2020-10-15T17:12:41.975078Z",
     "start_time": "2020-10-15T17:12:34.045064Z"
    }
   },
   "outputs": [],
   "source": [
    "# Plot and export January 2019-2020 change\n",
    "fig, ax = stl.plot_monthly_comparison(\n",
    "    pre_change=no2_dict[\"2019\"][\"01\"],\n",
    "    post_change=no2_dict[\"2020\"][\"01\"],\n",
    "    extent_file=monthly_means[0],\n",
    "    country_boundaries=[north_korea_boundary_clipped, south_korea_boundary],\n",
    "    country_names=[\"North Korea\", \"South Korea\"],\n",
    "    change_type=\"magnitude\",\n",
    "    location=\"South Korea\",\n",
    "    titles=[\n",
    "        \"January 2019 Mean NO2 ($\\mathrm{mol \\cdot m^{-2}}$)\",\n",
    "        \"January 2020 Mean NO2 ($\\mathrm{mol \\cdot m^{-2}}$)\",\n",
    "        \"Change in Mean NO2 ($\\mathrm{mol \\cdot m^{-2}}$)\",\n",
    "    ],\n",
    "    data_source=\"European Space Agency\",\n",
    ")\n",
    "\n",
    "rd.save_figure(\n",
    "    os.path.join(\n",
    "        \"04-graphics-outputs\",\n",
    "        \"spatial-plots\",\n",
    "        \"south-korea\",\n",
    "        \"south-korea-no2-mean-change-magnitude-jan-2019-2020.png\",\n",
    "    )\n",
    ")"
   ]
  },
  {
   "cell_type": "code",
   "execution_count": null,
   "metadata": {
    "ExecuteTime": {
     "end_time": "2020-10-15T17:12:50.460819Z",
     "start_time": "2020-10-15T17:12:41.977049Z"
    }
   },
   "outputs": [],
   "source": [
    "# Plot and export February 2019-2020 change\n",
    "fig, ax = stl.plot_monthly_comparison(\n",
    "    pre_change=no2_dict[\"2019\"][\"02\"],\n",
    "    post_change=no2_dict[\"2020\"][\"02\"],\n",
    "    extent_file=monthly_means[0],\n",
    "    country_boundaries=[north_korea_boundary_clipped, south_korea_boundary],\n",
    "    country_names=[\"North Korea\", \"South Korea\"],\n",
    "    change_type=\"magnitude\",\n",
    "    location=\"South Korea\",\n",
    "    titles=[\n",
    "        \"February 2019 Mean NO2 ($\\mathrm{mol \\cdot m^{-2}}$)\",\n",
    "        \"February 2020 Mean NO2 ($\\mathrm{mol \\cdot m^{-2}}$)\",\n",
    "        \"Change in Mean NO2 ($\\mathrm{mol \\cdot m^{-2}}$)\",\n",
    "    ],\n",
    "    data_source=\"European Space Agency\",\n",
    ")\n",
    "\n",
    "rd.save_figure(\n",
    "    os.path.join(\n",
    "        \"04-graphics-outputs\",\n",
    "        \"spatial-plots\",\n",
    "        \"south-korea\",\n",
    "        \"south-korea-no2-mean-change-magnitude-feb-2019-2020.png\",\n",
    "    )\n",
    ")"
   ]
  },
  {
   "cell_type": "code",
   "execution_count": null,
   "metadata": {
    "ExecuteTime": {
     "end_time": "2020-10-15T17:12:59.074611Z",
     "start_time": "2020-10-15T17:12:50.463810Z"
    }
   },
   "outputs": [],
   "source": [
    "# Plot and export March 2019-2020 change\n",
    "fig, ax = stl.plot_monthly_comparison(\n",
    "    pre_change=no2_dict[\"2019\"][\"03\"],\n",
    "    post_change=no2_dict[\"2020\"][\"03\"],\n",
    "    extent_file=monthly_means[0],\n",
    "    country_boundaries=[north_korea_boundary_clipped, south_korea_boundary],\n",
    "    country_names=[\"North Korea\", \"South Korea\"],\n",
    "    change_type=\"magnitude\",\n",
    "    location=\"South Korea\",\n",
    "    titles=[\n",
    "        \"March 2019 Mean NO2 ($\\mathrm{mol \\cdot m^{-2}}$)\",\n",
    "        \"March 2020 Mean NO2 ($\\mathrm{mol \\cdot m^{-2}}$)\",\n",
    "        \"Change in Mean NO2 ($\\mathrm{mol \\cdot m^{-2}}$)\",\n",
    "    ],\n",
    "    data_source=\"European Space Agency\",\n",
    ")\n",
    "\n",
    "rd.save_figure(\n",
    "    os.path.join(\n",
    "        \"04-graphics-outputs\",\n",
    "        \"spatial-plots\",\n",
    "        \"south-korea\",\n",
    "        \"south-korea-no2-mean-change-magnitude-mar-2019-2020.png\",\n",
    "    )\n",
    ")"
   ]
  },
  {
   "cell_type": "code",
   "execution_count": null,
   "metadata": {
    "ExecuteTime": {
     "end_time": "2020-10-15T17:13:07.837834Z",
     "start_time": "2020-10-15T17:12:59.077571Z"
    }
   },
   "outputs": [],
   "source": [
    "# Plot and export April 2019-2020 change\n",
    "fig, ax = stl.plot_monthly_comparison(\n",
    "    pre_change=no2_dict[\"2019\"][\"04\"],\n",
    "    post_change=no2_dict[\"2020\"][\"04\"],\n",
    "    extent_file=monthly_means[0],\n",
    "    country_boundaries=[north_korea_boundary_clipped, south_korea_boundary],\n",
    "    country_names=[\"North Korea\", \"South Korea\"],\n",
    "    change_type=\"magnitude\",\n",
    "    location=\"South Korea\",\n",
    "    titles=[\n",
    "        \"April 2019 Mean NO2 ($\\mathrm{mol \\cdot m^{-2}}$)\",\n",
    "        \"April 2020 Mean NO2 ($\\mathrm{mol \\cdot m^{-2}}$)\",\n",
    "        \"Change in Mean NO2 ($\\mathrm{mol \\cdot m^{-2}}$)\",\n",
    "    ],\n",
    "    data_source=\"European Space Agency\",\n",
    ")\n",
    "\n",
    "rd.save_figure(\n",
    "    os.path.join(\n",
    "        \"04-graphics-outputs\",\n",
    "        \"spatial-plots\",\n",
    "        \"south-korea\",\n",
    "        \"south-korea-no2-mean-change-magnitude-apr-2019-2020.png\",\n",
    "    )\n",
    ")"
   ]
  },
  {
   "cell_type": "code",
   "execution_count": null,
   "metadata": {
    "ExecuteTime": {
     "end_time": "2020-10-15T17:13:16.353513Z",
     "start_time": "2020-10-15T17:13:07.837834Z"
    }
   },
   "outputs": [],
   "source": [
    "# Plot and export May 2019-2020 change\n",
    "fig, ax = stl.plot_monthly_comparison(\n",
    "    pre_change=no2_dict[\"2019\"][\"05\"],\n",
    "    post_change=no2_dict[\"2020\"][\"05\"],\n",
    "    extent_file=monthly_means[0],\n",
    "    country_boundaries=[north_korea_boundary_clipped, south_korea_boundary],\n",
    "    country_names=[\"North Korea\", \"South Korea\"],\n",
    "    change_type=\"magnitude\",\n",
    "    location=\"South Korea\",\n",
    "    titles=[\n",
    "        \"May 2019 Mean NO2 ($\\mathrm{mol \\cdot m^{-2}}$)\",\n",
    "        \"May 2020 Mean NO2 ($\\mathrm{mol \\cdot m^{-2}}$)\",\n",
    "        \"Change in Mean NO2 ($\\mathrm{mol \\cdot m^{-2}}$)\",\n",
    "    ],\n",
    "    data_source=\"European Space Agency\",\n",
    ")\n",
    "\n",
    "rd.save_figure(\n",
    "    os.path.join(\n",
    "        \"04-graphics-outputs\",\n",
    "        \"spatial-plots\",\n",
    "        \"south-korea\",\n",
    "        \"south-korea-no2-mean-change-magnitude-may-2019-2020.png\",\n",
    "    )\n",
    ")"
   ]
  },
  {
   "cell_type": "code",
   "execution_count": null,
   "metadata": {
    "ExecuteTime": {
     "end_time": "2020-10-15T17:13:24.407103Z",
     "start_time": "2020-10-15T17:13:16.356507Z"
    }
   },
   "outputs": [],
   "source": [
    "# Plot and export June 2019-2020 change\n",
    "fig, ax = stl.plot_monthly_comparison(\n",
    "    pre_change=no2_dict[\"2019\"][\"06\"],\n",
    "    post_change=no2_dict[\"2020\"][\"06\"],\n",
    "    extent_file=monthly_means[0],\n",
    "    country_boundaries=[north_korea_boundary_clipped, south_korea_boundary],\n",
    "    country_names=[\"North Korea\", \"South Korea\"],\n",
    "    change_type=\"magnitude\",\n",
    "    location=\"South Korea\",\n",
    "    titles=[\n",
    "        \"June 2019 Mean NO2 ($\\mathrm{mol \\cdot m^{-2}}$)\",\n",
    "        \"June 2020 Mean NO2 ($\\mathrm{mol \\cdot m^{-2}}$)\",\n",
    "        \"Change in Mean NO2 ($\\mathrm{mol \\cdot m^{-2}}$)\",\n",
    "    ],\n",
    "    data_source=\"European Space Agency\",\n",
    ")\n",
    "\n",
    "rd.save_figure(\n",
    "    os.path.join(\n",
    "        \"04-graphics-outputs\",\n",
    "        \"spatial-plots\",\n",
    "        \"south-korea\",\n",
    "        \"south-korea-no2-mean-change-magnitude-jun-2019-2020.png\",\n",
    "    )\n",
    ")"
   ]
  },
  {
   "cell_type": "code",
   "execution_count": null,
   "metadata": {
    "ExecuteTime": {
     "end_time": "2020-10-15T17:13:33.441853Z",
     "start_time": "2020-10-15T17:13:24.409099Z"
    }
   },
   "outputs": [],
   "source": [
    "# Plot and export July 2019-2020 change\n",
    "fig, ax = stl.plot_monthly_comparison(\n",
    "    pre_change=no2_dict[\"2019\"][\"07\"],\n",
    "    post_change=no2_dict[\"2020\"][\"07\"],\n",
    "    extent_file=monthly_means[0],\n",
    "    country_boundaries=[north_korea_boundary_clipped, south_korea_boundary],\n",
    "    country_names=[\"North Korea\", \"South Korea\"],\n",
    "    change_type=\"magnitude\",\n",
    "    location=\"South Korea\",\n",
    "    titles=[\n",
    "        \"Jul 2019 Mean NO2 ($\\mathrm{mol \\cdot m^{-2}}$)\",\n",
    "        \"Jul 2020 Mean NO2 ($\\mathrm{mol \\cdot m^{-2}}$)\",\n",
    "        \"Change in Mean NO2 ($\\mathrm{mol \\cdot m^{-2}}$)\",\n",
    "    ],\n",
    "    data_source=\"European Space Agency\",\n",
    ")\n",
    "\n",
    "rd.save_figure(\n",
    "    os.path.join(\n",
    "        \"04-graphics-outputs\",\n",
    "        \"spatial-plots\",\n",
    "        \"south-korea\",\n",
    "        \"south-korea-no2-mean-change-magnitude-jul-2019-2020.png\",\n",
    "    )\n",
    ")"
   ]
  },
  {
   "cell_type": "markdown",
   "metadata": {},
   "source": [
    "### Percent Change"
   ]
  },
  {
   "cell_type": "markdown",
   "metadata": {},
   "source": [
    "#### Georeferenced"
   ]
  },
  {
   "cell_type": "code",
   "execution_count": null,
   "metadata": {
    "ExecuteTime": {
     "end_time": "2020-10-19T15:13:00.694899Z",
     "start_time": "2020-10-19T15:13:00.674953Z"
    }
   },
   "outputs": [],
   "source": [
    "# Extract metadata from GeoTiff\n",
    "metadata = stl.extract_geotiff_metadata(monthly_means[0])\n",
    "metadata"
   ]
  },
  {
   "cell_type": "code",
   "execution_count": null,
   "metadata": {
    "ExecuteTime": {
     "end_time": "2020-10-19T15:14:46.289170Z",
     "start_time": "2020-10-19T15:14:46.085591Z"
    }
   },
   "outputs": [],
   "source": [
    "# Export monthly NO2 change (percent)\n",
    "export_files = [\n",
    "    (\n",
    "        percent_change_jul_2018_2019,\n",
    "        os.path.join(\n",
    "            \"03-processed-data\",\n",
    "            \"raster\",\n",
    "            \"south-korea\",\n",
    "            \"change\",\n",
    "            \"south-korea-no2-mean-change-percent-jul-2018-2019.tif\",\n",
    "        ),\n",
    "    ),\n",
    "    (\n",
    "        percent_change_aug_2018_2019,\n",
    "        os.path.join(\n",
    "            \"03-processed-data\",\n",
    "            \"raster\",\n",
    "            \"south-korea\",\n",
    "            \"change\",\n",
    "            \"south-korea-no2-mean-change-percent-aug-2018-2019.tif\",\n",
    "        ),\n",
    "    ),\n",
    "    (\n",
    "        percent_change_sep_2018_2019,\n",
    "        os.path.join(\n",
    "            \"03-processed-data\",\n",
    "            \"raster\",\n",
    "            \"south-korea\",\n",
    "            \"change\",\n",
    "            \"south-korea-no2-mean-change-percent-sep-2018-2019.tif\",\n",
    "        ),\n",
    "    ),\n",
    "    (\n",
    "        percent_change_oct_2018_2019,\n",
    "        os.path.join(\n",
    "            \"03-processed-data\",\n",
    "            \"raster\",\n",
    "            \"south-korea\",\n",
    "            \"change\",\n",
    "            \"south-korea-no2-mean-change-percent-oct-2018-2019.tif\",\n",
    "        ),\n",
    "    ),\n",
    "    (\n",
    "        percent_change_nov_2018_2019,\n",
    "        os.path.join(\n",
    "            \"03-processed-data\",\n",
    "            \"raster\",\n",
    "            \"south-korea\",\n",
    "            \"change\",\n",
    "            \"south-korea-no2-mean-change-percent-nov-2018-2019.tif\",\n",
    "        ),\n",
    "    ),\n",
    "    (\n",
    "        percent_change_dec_2018_2019,\n",
    "        os.path.join(\n",
    "            \"03-processed-data\",\n",
    "            \"raster\",\n",
    "            \"south-korea\",\n",
    "            \"change\",\n",
    "            \"south-korea-no2-mean-change-percent-dec-2018-2019.tif\",\n",
    "        ),\n",
    "    ),\n",
    "    (\n",
    "        percent_change_jan_2019_2020,\n",
    "        os.path.join(\n",
    "            \"03-processed-data\",\n",
    "            \"raster\",\n",
    "            \"south-korea\",\n",
    "            \"change\",\n",
    "            \"south-korea-no2-mean-change-percent-jan-2019-2020.tif\",\n",
    "        ),\n",
    "    ),\n",
    "    (\n",
    "        percent_change_feb_2019_2020,\n",
    "        os.path.join(\n",
    "            \"03-processed-data\",\n",
    "            \"raster\",\n",
    "            \"south-korea\",\n",
    "            \"change\",\n",
    "            \"south-korea-no2-mean-change-percent-feb-2019-2020.tif\",\n",
    "        ),\n",
    "    ),\n",
    "    (\n",
    "        percent_change_mar_2019_2020,\n",
    "        os.path.join(\n",
    "            \"03-processed-data\",\n",
    "            \"raster\",\n",
    "            \"south-korea\",\n",
    "            \"change\",\n",
    "            \"south-korea-no2-mean-change-percent-mar-2019-2020.tif\",\n",
    "        ),\n",
    "    ),\n",
    "    (\n",
    "        percent_change_apr_2019_2020,\n",
    "        os.path.join(\n",
    "            \"03-processed-data\",\n",
    "            \"raster\",\n",
    "            \"south-korea\",\n",
    "            \"change\",\n",
    "            \"south-korea-no2-mean-change-percent-apr-2019-2020.tif\",\n",
    "        ),\n",
    "    ),\n",
    "    (\n",
    "        percent_change_may_2019_2020,\n",
    "        os.path.join(\n",
    "            \"03-processed-data\",\n",
    "            \"raster\",\n",
    "            \"south-korea\",\n",
    "            \"change\",\n",
    "            \"south-korea-no2-mean-change-percent-may-2019-2020.tif\",\n",
    "        ),\n",
    "    ),\n",
    "    (\n",
    "        percent_change_jun_2019_2020,\n",
    "        os.path.join(\n",
    "            \"03-processed-data\",\n",
    "            \"raster\",\n",
    "            \"south-korea\",\n",
    "            \"change\",\n",
    "            \"south-korea-no2-mean-change-percent-jun-2019-2020.tif\",\n",
    "        ),\n",
    "    ),\n",
    "    (\n",
    "        percent_change_jul_2019_2020,\n",
    "        os.path.join(\n",
    "            \"03-processed-data\",\n",
    "            \"raster\",\n",
    "            \"south-korea\",\n",
    "            \"change\",\n",
    "            \"south-korea-no2-mean-change-percent-jul-2019-2020.tif\",\n",
    "        ),\n",
    "    ),\n",
    "]\n",
    "\n",
    "for (array, outpath) in export_files:\n",
    "    rd.export_array(array, outpath, metadata)"
   ]
  },
  {
   "cell_type": "markdown",
   "metadata": {},
   "source": [
    "#### Non-Georeferenced"
   ]
  },
  {
   "cell_type": "code",
   "execution_count": null,
   "metadata": {
    "ExecuteTime": {
     "end_time": "2020-10-15T17:13:42.683849Z",
     "start_time": "2020-10-15T17:13:33.444845Z"
    }
   },
   "outputs": [],
   "source": [
    "# Plot and export July 2018-2019 change\n",
    "fig, ax = stl.plot_monthly_comparison(\n",
    "    pre_change=no2_dict[\"2018\"][\"07\"],\n",
    "    post_change=no2_dict[\"2019\"][\"07\"],\n",
    "    extent_file=monthly_means[0],\n",
    "    country_boundaries=[north_korea_boundary_clipped, south_korea_boundary],\n",
    "    country_names=[\"North Korea\", \"South Korea\"],\n",
    "    change_type=\"percent\",\n",
    "    location=\"South Korea\",\n",
    "    titles=[\n",
    "        \"July 2018 Mean NO2 ($\\mathrm{mol \\cdot m^{-2}}$)\",\n",
    "        \"July 2019 Mean NO2 ($\\mathrm{mol \\cdot m^{-2}}$)\",\n",
    "        \"Change in Mean NO2 (%)\",\n",
    "    ],\n",
    "    data_source=\"European Space Agency\",\n",
    ")\n",
    "\n",
    "rd.save_figure(\n",
    "    os.path.join(\n",
    "        \"04-graphics-outputs\",\n",
    "        \"spatial-plots\",\n",
    "        \"south-korea\",\n",
    "        \"south-korea-no2-mean-change-percent-jul-2018-2019.png\",\n",
    "    )\n",
    ")"
   ]
  },
  {
   "cell_type": "code",
   "execution_count": null,
   "metadata": {
    "ExecuteTime": {
     "end_time": "2020-10-15T17:13:50.869917Z",
     "start_time": "2020-10-15T17:13:42.686841Z"
    }
   },
   "outputs": [],
   "source": [
    "# Plot and export August 2018-2019 change\n",
    "fig, ax = stl.plot_monthly_comparison(\n",
    "    pre_change=no2_dict[\"2018\"][\"08\"],\n",
    "    post_change=no2_dict[\"2019\"][\"08\"],\n",
    "    extent_file=monthly_means[0],\n",
    "    country_boundaries=[north_korea_boundary_clipped, south_korea_boundary],\n",
    "    country_names=[\"North Korea\", \"South Korea\"],\n",
    "    change_type=\"percent\",\n",
    "    location=\"South Korea\",\n",
    "    titles=[\n",
    "        \"August 2018 Mean NO2 ($\\mathrm{mol \\cdot m^{-2}}$)\",\n",
    "        \"August 2019 Mean NO2 ($\\mathrm{mol \\cdot m^{-2}}$)\",\n",
    "        \"Change in Mean NO2 (%)\",\n",
    "    ],\n",
    "    data_source=\"European Space Agency\",\n",
    ")\n",
    "\n",
    "rd.save_figure(\n",
    "    os.path.join(\n",
    "        \"04-graphics-outputs\",\n",
    "        \"spatial-plots\",\n",
    "        \"south-korea\",\n",
    "        \"south-korea-no2-mean-change-percent-aug-2018-2019.png\",\n",
    "    )\n",
    ")"
   ]
  },
  {
   "cell_type": "code",
   "execution_count": null,
   "metadata": {
    "ExecuteTime": {
     "end_time": "2020-10-15T17:13:58.766254Z",
     "start_time": "2020-10-15T17:13:50.872907Z"
    }
   },
   "outputs": [],
   "source": [
    "# Plot and export September 2018-2019 change\n",
    "fig, ax = stl.plot_monthly_comparison(\n",
    "    pre_change=no2_dict[\"2018\"][\"09\"],\n",
    "    post_change=no2_dict[\"2019\"][\"09\"],\n",
    "    extent_file=monthly_means[0],\n",
    "    country_boundaries=[north_korea_boundary_clipped, south_korea_boundary],\n",
    "    country_names=[\"North Korea\", \"South Korea\"],\n",
    "    change_type=\"percent\",\n",
    "    location=\"South Korea\",\n",
    "    titles=[\n",
    "        \"September 2018 Mean NO2 ($\\mathrm{mol \\cdot m^{-2}}$)\",\n",
    "        \"September 2019 Mean NO2 ($\\mathrm{mol \\cdot m^{-2}}$)\",\n",
    "        \"Change in Mean NO2 (%)\",\n",
    "    ],\n",
    "    data_source=\"European Space Agency\",\n",
    ")\n",
    "\n",
    "rd.save_figure(\n",
    "    os.path.join(\n",
    "        \"04-graphics-outputs\",\n",
    "        \"spatial-plots\",\n",
    "        \"south-korea\",\n",
    "        \"south-korea-no2-mean-change-percent-sep-2018-2019.png\",\n",
    "    )\n",
    ")"
   ]
  },
  {
   "cell_type": "code",
   "execution_count": null,
   "metadata": {
    "ExecuteTime": {
     "end_time": "2020-10-15T17:14:06.243250Z",
     "start_time": "2020-10-15T17:13:58.768263Z"
    }
   },
   "outputs": [],
   "source": [
    "# Plot and export October 2018-2019 change\n",
    "fig, ax = stl.plot_monthly_comparison(\n",
    "    pre_change=no2_dict[\"2018\"][\"10\"],\n",
    "    post_change=no2_dict[\"2019\"][\"10\"],\n",
    "    extent_file=monthly_means[0],\n",
    "    country_boundaries=[north_korea_boundary_clipped, south_korea_boundary],\n",
    "    country_names=[\"North Korea\", \"South Korea\"],\n",
    "    change_type=\"percent\",\n",
    "    location=\"South Korea\",\n",
    "    titles=[\n",
    "        \"October 2018 Mean NO2 ($\\mathrm{mol \\cdot m^{-2}}$)\",\n",
    "        \"October 2019 Mean NO2 ($\\mathrm{mol \\cdot m^{-2}}$)\",\n",
    "        \"Change in Mean NO2 (%)\",\n",
    "    ],\n",
    "    data_source=\"European Space Agency\",\n",
    ")\n",
    "\n",
    "rd.save_figure(\n",
    "    os.path.join(\n",
    "        \"04-graphics-outputs\",\n",
    "        \"spatial-plots\",\n",
    "        \"south-korea\",\n",
    "        \"south-korea-no2-mean-change-percent-oct-2018-2019.png\",\n",
    "    )\n",
    ")"
   ]
  },
  {
   "cell_type": "code",
   "execution_count": null,
   "metadata": {
    "ExecuteTime": {
     "end_time": "2020-10-15T17:14:14.483610Z",
     "start_time": "2020-10-15T17:14:06.257213Z"
    }
   },
   "outputs": [],
   "source": [
    "# Plot and export November 2018-2019 change\n",
    "fig, ax = stl.plot_monthly_comparison(\n",
    "    pre_change=no2_dict[\"2018\"][\"11\"],\n",
    "    post_change=no2_dict[\"2019\"][\"11\"],\n",
    "    extent_file=monthly_means[0],\n",
    "    country_boundaries=[north_korea_boundary_clipped, south_korea_boundary],\n",
    "    country_names=[\"North Korea\", \"South Korea\"],\n",
    "    change_type=\"percent\",\n",
    "    location=\"South Korea\",\n",
    "    titles=[\n",
    "        \"November 2018 Mean NO2 ($\\mathrm{mol \\cdot m^{-2}}$)\",\n",
    "        \"November 2019 Mean NO2 ($\\mathrm{mol \\cdot m^{-2}}$)\",\n",
    "        \"Change in Mean NO2 (%)\",\n",
    "    ],\n",
    "    data_source=\"European Space Agency\",\n",
    ")\n",
    "\n",
    "rd.save_figure(\n",
    "    os.path.join(\n",
    "        \"04-graphics-outputs\",\n",
    "        \"spatial-plots\",\n",
    "        \"south-korea\",\n",
    "        \"south-korea-no2-mean-change-percent-nov-2018-2019.png\",\n",
    "    )\n",
    ")"
   ]
  },
  {
   "cell_type": "code",
   "execution_count": null,
   "metadata": {
    "ExecuteTime": {
     "end_time": "2020-10-15T17:14:22.533323Z",
     "start_time": "2020-10-15T17:14:14.489624Z"
    }
   },
   "outputs": [],
   "source": [
    "# Plot and export December 2018-2019 change\n",
    "fig, ax = stl.plot_monthly_comparison(\n",
    "    pre_change=no2_dict[\"2018\"][\"12\"],\n",
    "    post_change=no2_dict[\"2019\"][\"12\"],\n",
    "    extent_file=monthly_means[0],\n",
    "    country_boundaries=[north_korea_boundary_clipped, south_korea_boundary],\n",
    "    country_names=[\"North Korea\", \"South Korea\"],\n",
    "    change_type=\"percent\",\n",
    "    location=\"South Korea\",\n",
    "    titles=[\n",
    "        \"December 2018 Mean NO2 ($\\mathrm{mol \\cdot m^{-2}}$)\",\n",
    "        \"December 2019 Mean NO2 ($\\mathrm{mol \\cdot m^{-2}}$)\",\n",
    "        \"Change in Mean NO2 (%)\",\n",
    "    ],\n",
    "    data_source=\"European Space Agency\",\n",
    ")\n",
    "\n",
    "rd.save_figure(\n",
    "    os.path.join(\n",
    "        \"04-graphics-outputs\",\n",
    "        \"spatial-plots\",\n",
    "        \"south-korea\",\n",
    "        \"south-korea-no2-mean-change-percent-dec-2018-2019.png\",\n",
    "    )\n",
    ")"
   ]
  },
  {
   "cell_type": "code",
   "execution_count": null,
   "metadata": {
    "ExecuteTime": {
     "end_time": "2020-10-15T17:14:30.818157Z",
     "start_time": "2020-10-15T17:14:22.536317Z"
    }
   },
   "outputs": [],
   "source": [
    "# Plot and export January 2019-2020 change\n",
    "fig, ax = stl.plot_monthly_comparison(\n",
    "    pre_change=no2_dict[\"2019\"][\"01\"],\n",
    "    post_change=no2_dict[\"2020\"][\"01\"],\n",
    "    extent_file=monthly_means[0],\n",
    "    country_boundaries=[north_korea_boundary_clipped, south_korea_boundary],\n",
    "    country_names=[\"North Korea\", \"South Korea\"],\n",
    "    change_type=\"percent\",\n",
    "    location=\"South Korea\",\n",
    "    titles=[\n",
    "        \"January 2019 Mean NO2 ($\\mathrm{mol \\cdot m^{-2}}$)\",\n",
    "        \"January 2020 Mean NO2 ($\\mathrm{mol \\cdot m^{-2}}$)\",\n",
    "        \"Change in Mean NO2 (%)\",\n",
    "    ],\n",
    "    data_source=\"European Space Agency\",\n",
    ")\n",
    "\n",
    "\n",
    "rd.save_figure(\n",
    "    os.path.join(\n",
    "        \"04-graphics-outputs\",\n",
    "        \"spatial-plots\",\n",
    "        \"south-korea\",\n",
    "        \"south-korea-no2-mean-change-percent-jan-2019-2020.png\",\n",
    "    )\n",
    ")"
   ]
  },
  {
   "cell_type": "code",
   "execution_count": null,
   "metadata": {
    "ExecuteTime": {
     "end_time": "2020-10-15T17:14:38.346453Z",
     "start_time": "2020-10-15T17:14:30.820151Z"
    }
   },
   "outputs": [],
   "source": [
    "# Plot and export February 2019-2020 change\n",
    "fig, ax = stl.plot_monthly_comparison(\n",
    "    pre_change=no2_dict[\"2019\"][\"02\"],\n",
    "    post_change=no2_dict[\"2020\"][\"02\"],\n",
    "    extent_file=monthly_means[0],\n",
    "    country_boundaries=[north_korea_boundary_clipped, south_korea_boundary],\n",
    "    country_names=[\"North Korea\", \"South Korea\"],\n",
    "    change_type=\"percent\",\n",
    "    location=\"South Korea\",\n",
    "    titles=[\n",
    "        \"February 2019 Mean NO2 ($\\mathrm{mol \\cdot m^{-2}}$)\",\n",
    "        \"February 2020 Mean NO2 ($\\mathrm{mol \\cdot m^{-2}}$)\",\n",
    "        \"Change in Mean NO2 (%)\",\n",
    "    ],\n",
    "    data_source=\"European Space Agency\",\n",
    ")\n",
    "\n",
    "rd.save_figure(\n",
    "    os.path.join(\n",
    "        \"04-graphics-outputs\",\n",
    "        \"spatial-plots\",\n",
    "        \"south-korea\",\n",
    "        \"south-korea-no2-mean-change-percent-feb-2019-2020.png\",\n",
    "    )\n",
    ")"
   ]
  },
  {
   "cell_type": "code",
   "execution_count": null,
   "metadata": {
    "ExecuteTime": {
     "end_time": "2020-10-15T17:14:46.376095Z",
     "start_time": "2020-10-15T17:14:38.348448Z"
    }
   },
   "outputs": [],
   "source": [
    "# Plot and export March 2019-2020 change\n",
    "fig, ax = stl.plot_monthly_comparison(\n",
    "    pre_change=no2_dict[\"2019\"][\"03\"],\n",
    "    post_change=no2_dict[\"2020\"][\"03\"],\n",
    "    extent_file=monthly_means[0],\n",
    "    country_boundaries=[north_korea_boundary_clipped, south_korea_boundary],\n",
    "    country_names=[\"North Korea\", \"South Korea\"],\n",
    "    change_type=\"percent\",\n",
    "    location=\"South Korea\",\n",
    "    titles=[\n",
    "        \"March 2019 Mean NO2 ($\\mathrm{mol \\cdot m^{-2}}$)\",\n",
    "        \"March 2020 Mean NO2 ($\\mathrm{mol \\cdot m^{-2}}$)\",\n",
    "        \"Change in Mean NO2 (%)\",\n",
    "    ],\n",
    "    data_source=\"European Space Agency\",\n",
    ")\n",
    "\n",
    "rd.save_figure(\n",
    "    os.path.join(\n",
    "        \"04-graphics-outputs\",\n",
    "        \"spatial-plots\",\n",
    "        \"south-korea\",\n",
    "        \"south-korea-no2-mean-change-percent-mar-2019-2020.png\",\n",
    "    )\n",
    ")"
   ]
  },
  {
   "cell_type": "code",
   "execution_count": null,
   "metadata": {
    "ExecuteTime": {
     "end_time": "2020-10-15T17:20:17.312736Z",
     "start_time": "2020-10-15T17:20:08.487389Z"
    }
   },
   "outputs": [],
   "source": [
    "# Plot and export April 2019-2020 change\n",
    "fig, ax = stl.plot_monthly_comparison(\n",
    "    pre_change=no2_dict[\"2019\"][\"04\"],\n",
    "    post_change=no2_dict[\"2020\"][\"04\"],\n",
    "    extent_file=monthly_means[0],\n",
    "    country_boundaries=[north_korea_boundary_clipped, south_korea_boundary],\n",
    "    country_names=[\"North Korea\", \"South Korea\"],\n",
    "    change_type=\"percent\",\n",
    "    location=\"South Korea\",\n",
    "    titles=[\n",
    "        \"April 2019 Mean NO2 ($\\mathrm{mol \\cdot m^{-2}}$)\",\n",
    "        \"April 2020 Mean NO2 ($\\mathrm{mol \\cdot m^{-2}}$)\",\n",
    "        \"Change in Mean NO2 (%)\",\n",
    "    ],\n",
    "    data_source=\"European Space Agency\",\n",
    ")\n",
    "\n",
    "rd.save_figure(\n",
    "    os.path.join(\n",
    "        \"04-graphics-outputs\",\n",
    "        \"spatial-plots\",\n",
    "        \"south-korea\",\n",
    "        \"south-korea-no2-mean-change-percent-apr-2019-2020.png\",\n",
    "    )\n",
    ")"
   ]
  },
  {
   "cell_type": "code",
   "execution_count": null,
   "metadata": {
    "ExecuteTime": {
     "end_time": "2020-10-15T17:15:02.512325Z",
     "start_time": "2020-10-15T17:14:54.647576Z"
    }
   },
   "outputs": [],
   "source": [
    "# Plot and export May 2019-2020 change\n",
    "fig, ax = stl.plot_monthly_comparison(\n",
    "    pre_change=no2_dict[\"2019\"][\"05\"],\n",
    "    post_change=no2_dict[\"2020\"][\"05\"],\n",
    "    extent_file=monthly_means[0],\n",
    "    country_boundaries=[north_korea_boundary_clipped, south_korea_boundary],\n",
    "    country_names=[\"North Korea\", \"South Korea\"],\n",
    "    change_type=\"percent\",\n",
    "    location=\"South Korea\",\n",
    "    titles=[\n",
    "        \"May 2019 Mean NO2 ($\\mathrm{mol \\cdot m^{-2}}$)\",\n",
    "        \"May 2020 Mean NO2 ($\\mathrm{mol \\cdot m^{-2}}$)\",\n",
    "        \"Change in Mean NO2 (%)\",\n",
    "    ],\n",
    "    data_source=\"European Space Agency\",\n",
    ")\n",
    "\n",
    "rd.save_figure(\n",
    "    os.path.join(\n",
    "        \"04-graphics-outputs\",\n",
    "        \"spatial-plots\",\n",
    "        \"south-korea\",\n",
    "        \"south-korea-no2-mean-change-percent-may-2019-2020.png\",\n",
    "    )\n",
    ")"
   ]
  },
  {
   "cell_type": "code",
   "execution_count": null,
   "metadata": {
    "ExecuteTime": {
     "end_time": "2020-10-15T17:15:10.637612Z",
     "start_time": "2020-10-15T17:15:02.515318Z"
    }
   },
   "outputs": [],
   "source": [
    "# Plot and export June 2019-2020 change\n",
    "fig, ax = stl.plot_monthly_comparison(\n",
    "    pre_change=no2_dict[\"2019\"][\"06\"],\n",
    "    post_change=no2_dict[\"2020\"][\"06\"],\n",
    "    extent_file=monthly_means[0],\n",
    "    country_boundaries=[north_korea_boundary_clipped, south_korea_boundary],\n",
    "    country_names=[\"North Korea\", \"South Korea\"],\n",
    "    change_type=\"percent\",\n",
    "    location=\"South Korea\",\n",
    "    titles=[\n",
    "        \"June 2019 Mean NO2 ($\\mathrm{mol \\cdot m^{-2}}$)\",\n",
    "        \"June 2020 Mean NO2 ($\\mathrm{mol \\cdot m^{-2}}$)\",\n",
    "        \"Change in Mean NO2 (%)\",\n",
    "    ],\n",
    "    data_source=\"European Space Agency\",\n",
    ")\n",
    "\n",
    "rd.save_figure(\n",
    "    os.path.join(\n",
    "        \"04-graphics-outputs\",\n",
    "        \"spatial-plots\",\n",
    "        \"south-korea\",\n",
    "        \"south-korea-no2-mean-change-percent-jun-2019-2020.png\",\n",
    "    )\n",
    ")"
   ]
  },
  {
   "cell_type": "code",
   "execution_count": null,
   "metadata": {
    "ExecuteTime": {
     "end_time": "2020-10-15T17:15:18.709905Z",
     "start_time": "2020-10-15T17:15:10.640578Z"
    }
   },
   "outputs": [],
   "source": [
    "# Plot and export July 2019-2020 change\n",
    "fig, ax = stl.plot_monthly_comparison(\n",
    "    pre_change=no2_dict[\"2019\"][\"07\"],\n",
    "    post_change=no2_dict[\"2020\"][\"07\"],\n",
    "    extent_file=monthly_means[0],\n",
    "    country_boundaries=[north_korea_boundary_clipped, south_korea_boundary],\n",
    "    country_names=[\"North Korea\", \"South Korea\"],\n",
    "    change_type=\"percent\",\n",
    "    location=\"South Korea\",\n",
    "    titles=[\n",
    "        \"Jul 2019 Mean NO2 ($\\mathrm{mol \\cdot m^{-2}}$)\",\n",
    "        \"Jul 2020 Mean NO2 ($\\mathrm{mol \\cdot m^{-2}}$)\",\n",
    "        \"Change in Mean NO2 (%)\",\n",
    "    ],\n",
    "    data_source=\"European Space Agency\",\n",
    ")\n",
    "\n",
    "rd.save_figure(\n",
    "    os.path.join(\n",
    "        \"04-graphics-outputs\",\n",
    "        \"spatial-plots\",\n",
    "        \"south-korea\",\n",
    "        \"south-korea-no2-mean-change-percent-jul-2019-2020.png\",\n",
    "    )\n",
    ")"
   ]
  },
  {
   "cell_type": "code",
   "execution_count": null,
   "metadata": {
    "ExecuteTime": {
     "end_time": "2020-10-15T17:15:18.720887Z",
     "start_time": "2020-10-15T17:15:18.711900Z"
    }
   },
   "outputs": [],
   "source": [
    "# Unload Notebook formatter\n",
    "%unload_ext nb_black"
   ]
  }
 ],
 "metadata": {
  "hide_input": false,
  "kernelspec": {
   "display_name": "Python 3",
   "language": "python",
   "name": "python3"
  },
  "language_info": {
   "codemirror_mode": {
    "name": "ipython",
    "version": 3
   },
   "file_extension": ".py",
   "mimetype": "text/x-python",
   "name": "python",
   "nbconvert_exporter": "python",
   "pygments_lexer": "ipython3",
   "version": "3.7.6"
  },
  "toc": {
   "base_numbering": 1,
   "nav_menu": {},
   "number_sections": true,
   "sideBar": true,
   "skip_h1_title": false,
   "title_cell": "Table of Contents",
   "title_sidebar": "Contents",
   "toc_cell": false,
   "toc_position": {},
   "toc_section_display": true,
   "toc_window_display": false
  },
  "varInspector": {
   "cols": {
    "lenName": 16,
    "lenType": 16,
    "lenVar": 40
   },
   "kernels_config": {
    "python": {
     "delete_cmd_postfix": "",
     "delete_cmd_prefix": "del ",
     "library": "var_list.py",
     "varRefreshCmd": "print(var_dic_list())"
    },
    "r": {
     "delete_cmd_postfix": ") ",
     "delete_cmd_prefix": "rm(",
     "library": "var_list.r",
     "varRefreshCmd": "cat(var_dic_list()) "
    }
   },
   "types_to_exclude": [
    "module",
    "function",
    "builtin_function_or_method",
    "instance",
    "_Feature"
   ],
   "window_display": false
  }
 },
 "nbformat": 4,
 "nbformat_minor": 4
}
