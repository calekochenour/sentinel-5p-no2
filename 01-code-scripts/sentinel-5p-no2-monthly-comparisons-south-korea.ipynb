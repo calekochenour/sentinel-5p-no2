{
 "cells": [
  {
   "cell_type": "markdown",
   "metadata": {},
   "source": [
    "# Sentinel-5P Monthly Comparisons"
   ]
  },
  {
   "cell_type": "markdown",
   "metadata": {},
   "source": [
    "# Environment Setup"
   ]
  },
  {
   "cell_type": "code",
   "execution_count": null,
   "metadata": {
    "ExecuteTime": {
     "end_time": "2020-10-23T18:46:06.345373Z",
     "start_time": "2020-10-23T18:46:06.149386Z"
    }
   },
   "outputs": [],
   "source": [
    "# Load Notebook formatter\n",
    "%load_ext nb_black\n",
    "# %reload_ext nb_black"
   ]
  },
  {
   "cell_type": "code",
   "execution_count": null,
   "metadata": {
    "ExecuteTime": {
     "end_time": "2020-10-23T18:46:08.515884Z",
     "start_time": "2020-10-23T18:46:06.349363Z"
    }
   },
   "outputs": [],
   "source": [
    "# Imports\n",
    "import os\n",
    "import glob\n",
    "import matplotlib.pyplot as plt\n",
    "import numpy as np\n",
    "import seaborn as sns\n",
    "import geopandas as gpd\n",
    "import rasterio as rio\n",
    "import earthpy as et\n",
    "import earthpy.plot as ep\n",
    "import radiance as rd\n",
    "import sentinel as stl"
   ]
  },
  {
   "cell_type": "code",
   "execution_count": null,
   "metadata": {
    "ExecuteTime": {
     "end_time": "2020-10-23T18:46:08.532839Z",
     "start_time": "2020-10-23T18:46:08.518876Z"
    }
   },
   "outputs": [],
   "source": [
    "# Set Options\n",
    "sns.set(font_scale=1.5, style=\"whitegrid\")"
   ]
  },
  {
   "cell_type": "code",
   "execution_count": null,
   "metadata": {
    "ExecuteTime": {
     "end_time": "2020-10-23T18:46:08.551789Z",
     "start_time": "2020-10-23T18:46:08.534845Z"
    }
   },
   "outputs": [],
   "source": [
    "# Set working directory\n",
    "os.chdir(\"..\")\n",
    "print(f\"Working directory: {os.getcwd()}\")"
   ]
  },
  {
   "cell_type": "markdown",
   "metadata": {},
   "source": [
    "## Data Acquisition and Preprocessing"
   ]
  },
  {
   "cell_type": "markdown",
   "metadata": {},
   "source": [
    "## Raster"
   ]
  },
  {
   "cell_type": "code",
   "execution_count": null,
   "metadata": {
    "ExecuteTime": {
     "end_time": "2020-10-23T18:46:08.569751Z",
     "start_time": "2020-10-23T18:46:08.554780Z"
    }
   },
   "outputs": [],
   "source": [
    "# Get all mean files into list\n",
    "monthly_means = glob.glob(\n",
    "    os.path.join(\n",
    "        \"03-processed-data\",\n",
    "        \"raster\",\n",
    "        \"south-korea\",\n",
    "        \"statistics\",\n",
    "        \"monthly\",\n",
    "        \"*MEAN*tif\",\n",
    "    )\n",
    ")"
   ]
  },
  {
   "cell_type": "code",
   "execution_count": null,
   "metadata": {
    "ExecuteTime": {
     "end_time": "2020-10-23T18:46:09.026518Z",
     "start_time": "2020-10-23T18:46:08.572733Z"
    }
   },
   "outputs": [],
   "source": [
    "# Read monthly mean GeoTiffs into arrays and store in dictionary\n",
    "no2_dict = {}\n",
    "for geotiff in monthly_means:\n",
    "    # Read GeoTiff into array\n",
    "    with rio.open(geotiff) as src:\n",
    "        array = src.read(1)\n",
    "    # Replace NAN values with 0.0 if necessary\n",
    "    # Counts number of isnan() results that are True\n",
    "    if np.count_nonzero(np.isnan(array)) > 0:\n",
    "        np.nan_to_num(array, copy=False, nan=0.0)\n",
    "    # CONVERT UNITS FROM MOL/M2 to MOLECULES/CM2\n",
    "    # Store in dictionary, indexed by dictionary[YEAR][MONTH]\n",
    "    year, month = (\n",
    "        os.path.basename(geotiff)[16:20],\n",
    "        os.path.basename(geotiff)[20:22],\n",
    "    )\n",
    "    if year not in no2_dict.keys():\n",
    "        no2_dict[year] = {}\n",
    "    if month not in no2_dict[year].keys():\n",
    "        no2_dict[year][month] = array"
   ]
  },
  {
   "cell_type": "code",
   "execution_count": null,
   "metadata": {
    "ExecuteTime": {
     "end_time": "2020-10-23T18:46:09.040481Z",
     "start_time": "2020-10-23T18:46:09.030507Z"
    }
   },
   "outputs": [],
   "source": [
    "# Check top-level keys (years)\n",
    "no2_dict.keys()"
   ]
  },
  {
   "cell_type": "code",
   "execution_count": null,
   "metadata": {
    "ExecuteTime": {
     "end_time": "2020-10-23T18:46:09.053446Z",
     "start_time": "2020-10-23T18:46:09.043472Z"
    }
   },
   "outputs": [],
   "source": [
    "# Check second-level keys (months)\n",
    "no2_dict[\"2020\"].keys()"
   ]
  },
  {
   "cell_type": "code",
   "execution_count": null,
   "metadata": {
    "ExecuteTime": {
     "end_time": "2020-10-23T18:46:09.069403Z",
     "start_time": "2020-10-23T18:46:09.056437Z"
    }
   },
   "outputs": [],
   "source": [
    "# Check single entry\n",
    "no2_dict[\"2020\"][\"05\"].shape"
   ]
  },
  {
   "cell_type": "markdown",
   "metadata": {},
   "source": [
    "## Vector"
   ]
  },
  {
   "cell_type": "code",
   "execution_count": null,
   "metadata": {
    "ExecuteTime": {
     "end_time": "2020-10-23T18:46:09.095334Z",
     "start_time": "2020-10-23T18:46:09.072395Z"
    }
   },
   "outputs": [],
   "source": [
    "# Extract plotting extent\n",
    "south_korea_extent = stl.extract_plotting_extent(monthly_means[0])\n",
    "print(f\"South Korea Extent: {south_korea_extent}\")"
   ]
  },
  {
   "cell_type": "code",
   "execution_count": null,
   "metadata": {
    "ExecuteTime": {
     "end_time": "2020-10-23T18:46:09.481022Z",
     "start_time": "2020-10-23T18:46:09.097329Z"
    }
   },
   "outputs": [],
   "source": [
    "# Define path to South Korea shapefile\n",
    "south_korea_shp_path = os.path.join(\n",
    "    \"02-raw-data\", \"vector\", \"south-korea\", \"gadm36_south_korea.shp\"\n",
    ")\n",
    "\n",
    "# Read South Korea shapefile into geodataframe and project if necessary\n",
    "south_korea_boundary = stl.project_vector(\n",
    "    vector_path=south_korea_shp_path, raster_path=monthly_means[0]\n",
    ")\n",
    "\n",
    "# Create extent polygon\n",
    "south_korea_polygon = stl.create_polygon_from_extent(south_korea_extent)\n",
    "\n",
    "print(f\"South Korea CRS: {south_korea_boundary.crs}\")\n",
    "print(f\"South Korea Bounds:\\n{south_korea_boundary.bounds.loc[0]}\")"
   ]
  },
  {
   "cell_type": "code",
   "execution_count": null,
   "metadata": {
    "ExecuteTime": {
     "end_time": "2020-10-23T18:46:12.959473Z",
     "start_time": "2020-10-23T18:46:09.483014Z"
    }
   },
   "outputs": [],
   "source": [
    "# Define path to North Korea shapefile\n",
    "north_korea_shp_path = os.path.join(\n",
    "    \"02-raw-data\", \"vector\", \"north-korea\", \"gadm36_north_korea.shp\"\n",
    ")\n",
    "\n",
    "# Read North Korea shapefile into geodataframe and project if necessary\n",
    "north_korea_boundary = stl.project_vector(\n",
    "    vector_path=north_korea_shp_path, raster_path=monthly_means[0]\n",
    ")\n",
    "\n",
    "print(f\"North Korea CRS: {north_korea_boundary.crs}\")\n",
    "print(f\"North Korea Bounds:\\n{north_korea_boundary.bounds.loc[0]}\")\n",
    "\n",
    "# Clip North Korea to South Korea extent polygon\n",
    "north_korea_boundary_clipped = gpd.clip(\n",
    "    gpd.GeoDataFrame(\n",
    "        geometry=[south_korea_polygon], crs=north_korea_boundary.crs\n",
    "    ),\n",
    "    north_korea_boundary,\n",
    ")\n",
    "\n",
    "print(f\"\\nNorth Korea Clipped CRS: {north_korea_boundary_clipped.crs}\")\n",
    "print(\n",
    "    f\"North Korea Clipped Bounds:\\n{north_korea_boundary_clipped.bounds.loc[0]}\"\n",
    ")"
   ]
  },
  {
   "cell_type": "code",
   "execution_count": null,
   "metadata": {
    "ExecuteTime": {
     "end_time": "2020-10-23T18:46:13.387998Z",
     "start_time": "2020-10-23T18:46:12.962463Z"
    }
   },
   "outputs": [],
   "source": [
    "# Display clipped boundary\n",
    "north_korea_boundary_clipped.boundary.plot()"
   ]
  },
  {
   "cell_type": "markdown",
   "metadata": {},
   "source": [
    "# Data Processing"
   ]
  },
  {
   "cell_type": "markdown",
   "metadata": {},
   "source": [
    "## Magnitude Change"
   ]
  },
  {
   "cell_type": "code",
   "execution_count": null,
   "metadata": {
    "ExecuteTime": {
     "end_time": "2020-10-23T18:46:13.462314Z",
     "start_time": "2020-10-23T18:46:13.390993Z"
    }
   },
   "outputs": [],
   "source": [
    "# Calculate magnitude change\n",
    "magnitude_change_jul_2018_2019 = stl.calculate_magnitude_change(\n",
    "    pre_change=no2_dict[\"2018\"][\"07\"], post_change=no2_dict[\"2019\"][\"07\"]\n",
    ")\n",
    "\n",
    "magnitude_change_aug_2018_2019 = stl.calculate_magnitude_change(\n",
    "    pre_change=no2_dict[\"2018\"][\"08\"], post_change=no2_dict[\"2019\"][\"08\"]\n",
    ")\n",
    "\n",
    "magnitude_change_sep_2018_2019 = stl.calculate_magnitude_change(\n",
    "    pre_change=no2_dict[\"2018\"][\"09\"], post_change=no2_dict[\"2019\"][\"09\"]\n",
    ")\n",
    "\n",
    "magnitude_change_oct_2018_2019 = stl.calculate_magnitude_change(\n",
    "    pre_change=no2_dict[\"2018\"][\"10\"], post_change=no2_dict[\"2019\"][\"10\"]\n",
    ")\n",
    "\n",
    "magnitude_change_nov_2018_2019 = stl.calculate_magnitude_change(\n",
    "    pre_change=no2_dict[\"2018\"][\"11\"], post_change=no2_dict[\"2019\"][\"11\"]\n",
    ")\n",
    "\n",
    "magnitude_change_dec_2018_2019 = stl.calculate_magnitude_change(\n",
    "    pre_change=no2_dict[\"2018\"][\"12\"], post_change=no2_dict[\"2019\"][\"12\"]\n",
    ")\n",
    "\n",
    "magnitude_change_jan_2019_2020 = stl.calculate_magnitude_change(\n",
    "    pre_change=no2_dict[\"2019\"][\"01\"], post_change=no2_dict[\"2020\"][\"01\"]\n",
    ")\n",
    "\n",
    "magnitude_change_feb_2019_2020 = stl.calculate_magnitude_change(\n",
    "    pre_change=no2_dict[\"2019\"][\"02\"], post_change=no2_dict[\"2020\"][\"02\"]\n",
    ")\n",
    "\n",
    "magnitude_change_mar_2019_2020 = stl.calculate_magnitude_change(\n",
    "    pre_change=no2_dict[\"2019\"][\"03\"], post_change=no2_dict[\"2020\"][\"03\"]\n",
    ")\n",
    "\n",
    "magnitude_change_apr_2019_2020 = stl.calculate_magnitude_change(\n",
    "    pre_change=no2_dict[\"2019\"][\"04\"], post_change=no2_dict[\"2020\"][\"04\"]\n",
    ")\n",
    "\n",
    "magnitude_change_may_2019_2020 = stl.calculate_magnitude_change(\n",
    "    pre_change=no2_dict[\"2019\"][\"05\"], post_change=no2_dict[\"2020\"][\"05\"]\n",
    ")\n",
    "\n",
    "magnitude_change_jun_2019_2020 = stl.calculate_magnitude_change(\n",
    "    pre_change=no2_dict[\"2019\"][\"06\"], post_change=no2_dict[\"2020\"][\"06\"]\n",
    ")\n",
    "\n",
    "magnitude_change_jul_2019_2020 = stl.calculate_magnitude_change(\n",
    "    pre_change=no2_dict[\"2019\"][\"07\"], post_change=no2_dict[\"2020\"][\"07\"]\n",
    ")"
   ]
  },
  {
   "cell_type": "markdown",
   "metadata": {},
   "source": [
    "## Percent Change"
   ]
  },
  {
   "cell_type": "code",
   "execution_count": null,
   "metadata": {
    "ExecuteTime": {
     "end_time": "2020-10-23T18:46:13.553584Z",
     "start_time": "2020-10-23T18:46:13.464310Z"
    }
   },
   "outputs": [],
   "source": [
    "# Calculate percent change\n",
    "percent_change_jul_2018_2019 = stl.calculate_percent_change(\n",
    "    pre_change=no2_dict[\"2018\"][\"07\"], post_change=no2_dict[\"2019\"][\"07\"]\n",
    ")\n",
    "\n",
    "percent_change_aug_2018_2019 = stl.calculate_percent_change(\n",
    "    pre_change=no2_dict[\"2018\"][\"08\"], post_change=no2_dict[\"2019\"][\"08\"]\n",
    ")\n",
    "\n",
    "percent_change_sep_2018_2019 = stl.calculate_percent_change(\n",
    "    pre_change=no2_dict[\"2018\"][\"09\"], post_change=no2_dict[\"2019\"][\"09\"]\n",
    ")\n",
    "\n",
    "percent_change_oct_2018_2019 = stl.calculate_percent_change(\n",
    "    pre_change=no2_dict[\"2018\"][\"10\"], post_change=no2_dict[\"2019\"][\"10\"]\n",
    ")\n",
    "\n",
    "percent_change_nov_2018_2019 = stl.calculate_percent_change(\n",
    "    pre_change=no2_dict[\"2018\"][\"11\"], post_change=no2_dict[\"2019\"][\"11\"]\n",
    ")\n",
    "\n",
    "percent_change_dec_2018_2019 = stl.calculate_percent_change(\n",
    "    pre_change=no2_dict[\"2018\"][\"12\"], post_change=no2_dict[\"2019\"][\"12\"]\n",
    ")\n",
    "\n",
    "percent_change_jan_2019_2020 = stl.calculate_percent_change(\n",
    "    pre_change=no2_dict[\"2019\"][\"01\"], post_change=no2_dict[\"2020\"][\"01\"]\n",
    ")\n",
    "\n",
    "percent_change_feb_2019_2020 = stl.calculate_percent_change(\n",
    "    pre_change=no2_dict[\"2019\"][\"02\"], post_change=no2_dict[\"2020\"][\"02\"]\n",
    ")\n",
    "\n",
    "percent_change_mar_2019_2020 = stl.calculate_percent_change(\n",
    "    pre_change=no2_dict[\"2019\"][\"03\"], post_change=no2_dict[\"2020\"][\"03\"]\n",
    ")\n",
    "\n",
    "percent_change_apr_2019_2020 = stl.calculate_percent_change(\n",
    "    pre_change=no2_dict[\"2019\"][\"04\"], post_change=no2_dict[\"2020\"][\"04\"]\n",
    ")\n",
    "\n",
    "percent_change_may_2019_2020 = stl.calculate_percent_change(\n",
    "    pre_change=no2_dict[\"2019\"][\"05\"], post_change=no2_dict[\"2020\"][\"05\"]\n",
    ")\n",
    "\n",
    "percent_change_jun_2019_2020 = stl.calculate_percent_change(\n",
    "    pre_change=no2_dict[\"2019\"][\"06\"], post_change=no2_dict[\"2020\"][\"06\"]\n",
    ")\n",
    "\n",
    "percent_change_jul_2019_2020 = stl.calculate_percent_change(\n",
    "    pre_change=no2_dict[\"2019\"][\"07\"], post_change=no2_dict[\"2020\"][\"07\"]\n",
    ")"
   ]
  },
  {
   "cell_type": "markdown",
   "metadata": {},
   "source": [
    "# Data Visualization"
   ]
  },
  {
   "cell_type": "markdown",
   "metadata": {},
   "source": [
    "## Monthly Means"
   ]
  },
  {
   "cell_type": "code",
   "execution_count": null,
   "metadata": {
    "ExecuteTime": {
     "end_time": "2020-10-23T18:46:13.586496Z",
     "start_time": "2020-10-23T18:46:13.556576Z"
    }
   },
   "outputs": [],
   "source": [
    "# Create stack of all months (25 in total)\n",
    "no2_months_stack = np.stack(\n",
    "    [\n",
    "        no2_dict[year][month]\n",
    "        for year in no2_dict.keys()\n",
    "        for month in no2_dict[year].keys()\n",
    "    ]\n",
    ")\n",
    "\n",
    "# Check shape (bands, rows, columns)\n",
    "print(f\"Data stack shape (bands, rows, columns): {no2_months_stack.shape}\")\n",
    "\n",
    "# Check if the order is correct; compare first month of data (July 2018)\n",
    "print(\n",
    "    f\"Data order correct: {np.array_equal(no2_months_stack[0], no2_dict['2018']['07'])}\"\n",
    ")"
   ]
  },
  {
   "cell_type": "code",
   "execution_count": null,
   "metadata": {
    "ExecuteTime": {
     "end_time": "2020-10-23T18:48:50.615294Z",
     "start_time": "2020-10-23T18:46:13.588490Z"
    },
    "scrolled": false
   },
   "outputs": [],
   "source": [
    "# Set titles for data stack\n",
    "titles = [\n",
    "    \"Jul 2018\",\n",
    "    \"Aug 2018\",\n",
    "    \"Sep 2018\",\n",
    "    \"Oct 2018\",\n",
    "    \"Nov 2018\",\n",
    "    \"Dec 2018\",\n",
    "    \"Jan 2019\",\n",
    "    \"Feb 2019\",\n",
    "    \"Mar 2019\",\n",
    "    \"Apr 2019\",\n",
    "    \"May 2019\",\n",
    "    \"Jun 2019\",\n",
    "    \"Jul 2019\",\n",
    "    \"Aug 2019\",\n",
    "    \"Sep 2019\",\n",
    "    \"Oct 2019\",\n",
    "    \"Nov 2019\",\n",
    "    \"Dec 2019\",\n",
    "    \"Jan 2020\",\n",
    "    \"Feb 2020\",\n",
    "    \"Mar 2020\",\n",
    "    \"Apr 2020\",\n",
    "    \"May 2020\",\n",
    "    \"Jun 2020\",\n",
    "    \"Jul 2020\",\n",
    "]\n",
    "\n",
    "# Plot all stack bands (monthly means)\n",
    "with plt.style.context(\"dark_background\"):\n",
    "    # Initialize figure/axes\n",
    "    fig, ax = plt.subplots(nrows=8, ncols=3, figsize=(20, 40))\n",
    "    plt.suptitle(\"South Korea NO2 Monthly Means, Jul 2018 - Jun 2020\", size=24)\n",
    "    plt.subplots_adjust(top=0.955)\n",
    "\n",
    "    # Loop through all axes\n",
    "    for (band, axis) in enumerate(fig.axes):\n",
    "        # Plot monthly mean NO2 data\n",
    "        ep.plot_bands(\n",
    "            arr=no2_months_stack[band],\n",
    "            cmap=\"inferno\",\n",
    "            title=titles[band],\n",
    "            extent=south_korea_extent,\n",
    "            vmin=0,\n",
    "            vmax=no2_months_stack.max(),\n",
    "            ax=axis,\n",
    "        )\n",
    "\n",
    "        # Add country boundaries and legend to axes\n",
    "        north_korea_boundary_clipped.boundary.plot(\n",
    "            edgecolor=\"#e41a1c\",\n",
    "            linewidth=0.5,\n",
    "            ax=axis,\n",
    "            alpha=1,\n",
    "            label=\"North Korea\",\n",
    "        )\n",
    "        south_korea_boundary.boundary.plot(\n",
    "            edgecolor=\"#1b7837\",\n",
    "            linewidth=0.5,\n",
    "            ax=axis,\n",
    "            alpha=1,\n",
    "            label=\"South Korea\",\n",
    "        )\n",
    "        axis.legend(\n",
    "            shadow=True, edgecolor=\"white\", fontsize=10, loc=\"lower right\"\n",
    "        )\n",
    "\n",
    "    # Add caption\n",
    "    fig.text(\n",
    "        0.5,\n",
    "        0.11,\n",
    "        f\"Data Source: European Space Agency\",\n",
    "        ha=\"center\",\n",
    "        fontsize=16,\n",
    "    )"
   ]
  },
  {
   "cell_type": "markdown",
   "metadata": {},
   "source": [
    "## Monthly Comparison"
   ]
  },
  {
   "cell_type": "markdown",
   "metadata": {},
   "source": [
    "### Magnitude Change"
   ]
  },
  {
   "cell_type": "code",
   "execution_count": null,
   "metadata": {
    "ExecuteTime": {
     "end_time": "2020-10-23T18:48:55.218822Z",
     "start_time": "2020-10-23T18:48:50.618285Z"
    }
   },
   "outputs": [],
   "source": [
    "# Plot July 2018-2019 change\n",
    "fig, ax = stl.plot_monthly_comparison(\n",
    "    pre_change=no2_dict[\"2018\"][\"07\"],\n",
    "    post_change=no2_dict[\"2019\"][\"07\"],\n",
    "    extent_file=monthly_means[0],\n",
    "    country_boundaries=[north_korea_boundary_clipped, south_korea_boundary],\n",
    "    country_names=[\"North Korea\", \"South Korea\"],\n",
    "    change_type=\"magnitude\",\n",
    "    location=\"South Korea\",\n",
    "    titles=[\n",
    "        \"July 2018 Mean NO2 ($\\mathrm{mol \\cdot m^{-2}}$)\",\n",
    "        \"July 2019 Mean NO2 ($\\mathrm{mol \\cdot m^{-2}}$)\",\n",
    "        \"Change in Mean NO2 ($\\mathrm{mol \\cdot m^{-2}}$)\",\n",
    "    ],\n",
    "    data_source=\"European Space Agency\",\n",
    ")"
   ]
  },
  {
   "cell_type": "code",
   "execution_count": null,
   "metadata": {
    "ExecuteTime": {
     "end_time": "2020-10-23T18:48:59.463250Z",
     "start_time": "2020-10-23T18:48:55.221304Z"
    }
   },
   "outputs": [],
   "source": [
    "# Plot August 2018-2019 change\n",
    "fig, ax = stl.plot_monthly_comparison(\n",
    "    pre_change=no2_dict[\"2018\"][\"08\"],\n",
    "    post_change=no2_dict[\"2019\"][\"08\"],\n",
    "    extent_file=monthly_means[0],\n",
    "    country_boundaries=[north_korea_boundary_clipped, south_korea_boundary],\n",
    "    country_names=[\"North Korea\", \"South Korea\"],\n",
    "    change_type=\"magnitude\",\n",
    "    location=\"South Korea\",\n",
    "    titles=[\n",
    "        \"August 2018 Mean NO2 ($\\mathrm{mol \\cdot m^{-2}}$)\",\n",
    "        \"August 2019 Mean NO2 ($\\mathrm{mol \\cdot m^{-2}}$)\",\n",
    "        \"Change in Mean NO2 ($\\mathrm{mol \\cdot m^{-2}}$)\",\n",
    "    ],\n",
    "    data_source=\"European Space Agency\",\n",
    ")"
   ]
  },
  {
   "cell_type": "code",
   "execution_count": null,
   "metadata": {
    "ExecuteTime": {
     "end_time": "2020-10-23T18:49:03.602014Z",
     "start_time": "2020-10-23T18:48:59.466241Z"
    }
   },
   "outputs": [],
   "source": [
    "# Plot September 2018-2019 change\n",
    "fig, ax = stl.plot_monthly_comparison(\n",
    "    pre_change=no2_dict[\"2018\"][\"09\"],\n",
    "    post_change=no2_dict[\"2019\"][\"09\"],\n",
    "    extent_file=monthly_means[0],\n",
    "    country_boundaries=[north_korea_boundary_clipped, south_korea_boundary],\n",
    "    country_names=[\"North Korea\", \"South Korea\"],\n",
    "    change_type=\"magnitude\",\n",
    "    location=\"South Korea\",\n",
    "    titles=[\n",
    "        \"September 2018 Mean NO2 ($\\mathrm{mol \\cdot m^{-2}}$)\",\n",
    "        \"September 2019 Mean NO2 ($\\mathrm{mol \\cdot m^{-2}}$)\",\n",
    "        \"Change in Mean NO2 ($\\mathrm{mol \\cdot m^{-2}}$)\",\n",
    "    ],\n",
    "    data_source=\"European Space Agency\",\n",
    ")"
   ]
  },
  {
   "cell_type": "code",
   "execution_count": null,
   "metadata": {
    "ExecuteTime": {
     "end_time": "2020-10-23T18:49:07.550458Z",
     "start_time": "2020-10-23T18:49:03.604008Z"
    }
   },
   "outputs": [],
   "source": [
    "# Plot October 2018-2019 change\n",
    "fig, ax = stl.plot_monthly_comparison(\n",
    "    pre_change=no2_dict[\"2018\"][\"10\"],\n",
    "    post_change=no2_dict[\"2019\"][\"10\"],\n",
    "    extent_file=monthly_means[0],\n",
    "    country_boundaries=[north_korea_boundary_clipped, south_korea_boundary],\n",
    "    country_names=[\"North Korea\", \"South Korea\"],\n",
    "    change_type=\"magnitude\",\n",
    "    location=\"South Korea\",\n",
    "    titles=[\n",
    "        \"October 2018 Mean NO2 ($\\mathrm{mol \\cdot m^{-2}}$)\",\n",
    "        \"October 2019 Mean NO2 ($\\mathrm{mol \\cdot m^{-2}}$)\",\n",
    "        \"Change in Mean NO2 ($\\mathrm{mol \\cdot m^{-2}}$)\",\n",
    "    ],\n",
    "    data_source=\"European Space Agency\",\n",
    ")"
   ]
  },
  {
   "cell_type": "code",
   "execution_count": null,
   "metadata": {
    "ExecuteTime": {
     "end_time": "2020-10-23T18:49:11.538797Z",
     "start_time": "2020-10-23T18:49:07.556417Z"
    }
   },
   "outputs": [],
   "source": [
    "# Plot November 2018-2019 change\n",
    "fig, ax = stl.plot_monthly_comparison(\n",
    "    pre_change=no2_dict[\"2018\"][\"11\"],\n",
    "    post_change=no2_dict[\"2019\"][\"11\"],\n",
    "    extent_file=monthly_means[0],\n",
    "    country_boundaries=[north_korea_boundary_clipped, south_korea_boundary],\n",
    "    country_names=[\"North Korea\", \"South Korea\"],\n",
    "    change_type=\"magnitude\",\n",
    "    location=\"South Korea\",\n",
    "    titles=[\n",
    "        \"November 2018 Mean NO2 ($\\mathrm{mol \\cdot m^{-2}}$)\",\n",
    "        \"November 2019 Mean NO2 ($\\mathrm{mol \\cdot m^{-2}}$)\",\n",
    "        \"Change in Mean NO2 ($\\mathrm{mol \\cdot m^{-2}}$)\",\n",
    "    ],\n",
    "    data_source=\"European Space Agency\",\n",
    ")"
   ]
  },
  {
   "cell_type": "code",
   "execution_count": null,
   "metadata": {
    "ExecuteTime": {
     "end_time": "2020-10-23T18:49:15.983465Z",
     "start_time": "2020-10-23T18:49:11.543399Z"
    }
   },
   "outputs": [],
   "source": [
    "# Plot December 2018-2019 change\n",
    "fig, ax = stl.plot_monthly_comparison(\n",
    "    pre_change=no2_dict[\"2018\"][\"12\"],\n",
    "    post_change=no2_dict[\"2019\"][\"12\"],\n",
    "    extent_file=monthly_means[0],\n",
    "    country_boundaries=[north_korea_boundary_clipped, south_korea_boundary],\n",
    "    country_names=[\"North Korea\", \"South Korea\"],\n",
    "    change_type=\"magnitude\",\n",
    "    location=\"South Korea\",\n",
    "    titles=[\n",
    "        \"December 2018 Mean NO2 ($\\mathrm{mol \\cdot m^{-2}}$)\",\n",
    "        \"December 2019 Mean NO2 ($\\mathrm{mol \\cdot m^{-2}}$)\",\n",
    "        \"Change in Mean NO2 ($\\mathrm{mol \\cdot m^{-2}}$)\",\n",
    "    ],\n",
    "    data_source=\"European Space Agency\",\n",
    ")"
   ]
  },
  {
   "cell_type": "code",
   "execution_count": null,
   "metadata": {
    "ExecuteTime": {
     "end_time": "2020-10-23T18:49:20.366436Z",
     "start_time": "2020-10-23T18:49:15.986496Z"
    }
   },
   "outputs": [],
   "source": [
    "# Plot January 2019-2020 change\n",
    "fig, ax = stl.plot_monthly_comparison(\n",
    "    pre_change=no2_dict[\"2019\"][\"01\"],\n",
    "    post_change=no2_dict[\"2020\"][\"01\"],\n",
    "    extent_file=monthly_means[0],\n",
    "    country_boundaries=[north_korea_boundary_clipped, south_korea_boundary],\n",
    "    country_names=[\"North Korea\", \"South Korea\"],\n",
    "    change_type=\"magnitude\",\n",
    "    location=\"South Korea\",\n",
    "    titles=[\n",
    "        \"January 2019 Mean NO2 ($\\mathrm{mol \\cdot m^{-2}}$)\",\n",
    "        \"January 2020 Mean NO2 ($\\mathrm{mol \\cdot m^{-2}}$)\",\n",
    "        \"Change in Mean NO2 ($\\mathrm{mol \\cdot m^{-2}}$)\",\n",
    "    ],\n",
    "    data_source=\"European Space Agency\",\n",
    ")"
   ]
  },
  {
   "cell_type": "code",
   "execution_count": null,
   "metadata": {
    "ExecuteTime": {
     "end_time": "2020-10-23T18:49:24.417505Z",
     "start_time": "2020-10-23T18:49:20.368431Z"
    }
   },
   "outputs": [],
   "source": [
    "# Plot February 2019-2020 change\n",
    "fig, ax = stl.plot_monthly_comparison(\n",
    "    pre_change=no2_dict[\"2019\"][\"02\"],\n",
    "    post_change=no2_dict[\"2020\"][\"02\"],\n",
    "    extent_file=monthly_means[0],\n",
    "    country_boundaries=[north_korea_boundary_clipped, south_korea_boundary],\n",
    "    country_names=[\"North Korea\", \"South Korea\"],\n",
    "    change_type=\"magnitude\",\n",
    "    location=\"South Korea\",\n",
    "    titles=[\n",
    "        \"February 2019 Mean NO2 ($\\mathrm{mol \\cdot m^{-2}}$)\",\n",
    "        \"February 2020 Mean NO2 ($\\mathrm{mol \\cdot m^{-2}}$)\",\n",
    "        \"Change in Mean NO2 ($\\mathrm{mol \\cdot m^{-2}}$)\",\n",
    "    ],\n",
    "    data_source=\"European Space Agency\",\n",
    ")"
   ]
  },
  {
   "cell_type": "code",
   "execution_count": null,
   "metadata": {
    "ExecuteTime": {
     "end_time": "2020-10-23T18:49:28.986798Z",
     "start_time": "2020-10-23T18:49:24.420498Z"
    }
   },
   "outputs": [],
   "source": [
    "# Plot March 2019-2020 change\n",
    "fig, ax = stl.plot_monthly_comparison(\n",
    "    pre_change=no2_dict[\"2019\"][\"03\"],\n",
    "    post_change=no2_dict[\"2020\"][\"03\"],\n",
    "    extent_file=monthly_means[0],\n",
    "    country_boundaries=[north_korea_boundary_clipped, south_korea_boundary],\n",
    "    country_names=[\"North Korea\", \"South Korea\"],\n",
    "    change_type=\"magnitude\",\n",
    "    location=\"South Korea\",\n",
    "    titles=[\n",
    "        \"March 2019 Mean NO2 ($\\mathrm{mol \\cdot m^{-2}}$)\",\n",
    "        \"March 2020 Mean NO2 ($\\mathrm{mol \\cdot m^{-2}}$)\",\n",
    "        \"Change in Mean NO2 ($\\mathrm{mol \\cdot m^{-2}}$)\",\n",
    "    ],\n",
    "    data_source=\"European Space Agency\",\n",
    ")"
   ]
  },
  {
   "cell_type": "code",
   "execution_count": null,
   "metadata": {
    "ExecuteTime": {
     "end_time": "2020-10-23T18:49:33.444774Z",
     "start_time": "2020-10-23T18:49:28.988790Z"
    }
   },
   "outputs": [],
   "source": [
    "# Plot April 2019-2020 change\n",
    "fig, ax = stl.plot_monthly_comparison(\n",
    "    pre_change=no2_dict[\"2019\"][\"04\"],\n",
    "    post_change=no2_dict[\"2020\"][\"04\"],\n",
    "    extent_file=monthly_means[0],\n",
    "    country_boundaries=[north_korea_boundary_clipped, south_korea_boundary],\n",
    "    country_names=[\"North Korea\", \"South Korea\"],\n",
    "    change_type=\"magnitude\",\n",
    "    location=\"South Korea\",\n",
    "    titles=[\n",
    "        \"April 2019 Mean NO2 ($\\mathrm{mol \\cdot m^{-2}}$)\",\n",
    "        \"April 2020 Mean NO2 ($\\mathrm{mol \\cdot m^{-2}}$)\",\n",
    "        \"Change in Mean NO2 ($\\mathrm{mol \\cdot m^{-2}}$)\",\n",
    "    ],\n",
    "    data_source=\"European Space Agency\",\n",
    ")"
   ]
  },
  {
   "cell_type": "code",
   "execution_count": null,
   "metadata": {
    "ExecuteTime": {
     "end_time": "2020-10-23T18:49:38.599380Z",
     "start_time": "2020-10-23T18:49:33.447765Z"
    }
   },
   "outputs": [],
   "source": [
    "# Plot May 2019-2020 change\n",
    "fig, ax = stl.plot_monthly_comparison(\n",
    "    pre_change=no2_dict[\"2019\"][\"05\"],\n",
    "    post_change=no2_dict[\"2020\"][\"05\"],\n",
    "    extent_file=monthly_means[0],\n",
    "    country_boundaries=[north_korea_boundary_clipped, south_korea_boundary],\n",
    "    country_names=[\"North Korea\", \"South Korea\"],\n",
    "    change_type=\"magnitude\",\n",
    "    location=\"South Korea\",\n",
    "    titles=[\n",
    "        \"May 2019 Mean NO2 ($\\mathrm{mol \\cdot m^{-2}}$)\",\n",
    "        \"May 2020 Mean NO2 ($\\mathrm{mol \\cdot m^{-2}}$)\",\n",
    "        \"Change in Mean NO2 ($\\mathrm{mol \\cdot m^{-2}}$)\",\n",
    "    ],\n",
    "    data_source=\"European Space Agency\",\n",
    ")"
   ]
  },
  {
   "cell_type": "code",
   "execution_count": null,
   "metadata": {
    "ExecuteTime": {
     "end_time": "2020-10-23T18:49:43.458242Z",
     "start_time": "2020-10-23T18:49:38.602373Z"
    }
   },
   "outputs": [],
   "source": [
    "# Plot June 2019-2020 change\n",
    "fig, ax = stl.plot_monthly_comparison(\n",
    "    pre_change=no2_dict[\"2019\"][\"06\"],\n",
    "    post_change=no2_dict[\"2020\"][\"06\"],\n",
    "    extent_file=monthly_means[0],\n",
    "    country_boundaries=[north_korea_boundary_clipped, south_korea_boundary],\n",
    "    country_names=[\"North Korea\", \"South Korea\"],\n",
    "    change_type=\"magnitude\",\n",
    "    location=\"South Korea\",\n",
    "    titles=[\n",
    "        \"June 2019 Mean NO2 ($\\mathrm{mol \\cdot m^{-2}}$)\",\n",
    "        \"June 2020 Mean NO2 ($\\mathrm{mol \\cdot m^{-2}}$)\",\n",
    "        \"Change in Mean NO2 ($\\mathrm{mol \\cdot m^{-2}}$)\",\n",
    "    ],\n",
    "    data_source=\"European Space Agency\",\n",
    ")"
   ]
  },
  {
   "cell_type": "code",
   "execution_count": null,
   "metadata": {
    "ExecuteTime": {
     "end_time": "2020-10-23T18:49:49.599490Z",
     "start_time": "2020-10-23T18:49:43.461270Z"
    }
   },
   "outputs": [],
   "source": [
    "# Plot July 2019-2020 change\n",
    "fig, ax = stl.plot_monthly_comparison(\n",
    "    pre_change=no2_dict[\"2019\"][\"07\"],\n",
    "    post_change=no2_dict[\"2020\"][\"07\"],\n",
    "    extent_file=monthly_means[0],\n",
    "    country_boundaries=[north_korea_boundary_clipped, south_korea_boundary],\n",
    "    country_names=[\"North Korea\", \"South Korea\"],\n",
    "    change_type=\"magnitude\",\n",
    "    location=\"South Korea\",\n",
    "    titles=[\n",
    "        \"Jul 2019 Mean NO2 ($\\mathrm{mol \\cdot m^{-2}}$)\",\n",
    "        \"Jul 2020 Mean NO2 ($\\mathrm{mol \\cdot m^{-2}}$)\",\n",
    "        \"Change in Mean NO2 ($\\mathrm{mol \\cdot m^{-2}}$)\",\n",
    "    ],\n",
    "    data_source=\"European Space Agency\",\n",
    ")"
   ]
  },
  {
   "cell_type": "markdown",
   "metadata": {},
   "source": [
    "### Percent Change"
   ]
  },
  {
   "cell_type": "code",
   "execution_count": null,
   "metadata": {
    "ExecuteTime": {
     "end_time": "2020-10-23T18:49:55.019457Z",
     "start_time": "2020-10-23T18:49:49.602482Z"
    }
   },
   "outputs": [],
   "source": [
    "# Plot July 2018-2019 change\n",
    "fig, ax = stl.plot_monthly_comparison(\n",
    "    pre_change=no2_dict[\"2018\"][\"07\"],\n",
    "    post_change=no2_dict[\"2019\"][\"07\"],\n",
    "    extent_file=monthly_means[0],\n",
    "    country_boundaries=[north_korea_boundary_clipped, south_korea_boundary],\n",
    "    country_names=[\"North Korea\", \"South Korea\"],\n",
    "    change_type=\"percent\",\n",
    "    location=\"South Korea\",\n",
    "    titles=[\n",
    "        \"July 2018 Mean NO2 ($\\mathrm{mol \\cdot m^{-2}}$)\",\n",
    "        \"July 2019 Mean NO2 ($\\mathrm{mol \\cdot m^{-2}}$)\",\n",
    "        \"Change in Mean NO2 (%)\",\n",
    "    ],\n",
    "    data_source=\"European Space Agency\",\n",
    ")"
   ]
  },
  {
   "cell_type": "code",
   "execution_count": null,
   "metadata": {
    "ExecuteTime": {
     "end_time": "2020-10-23T18:49:59.769887Z",
     "start_time": "2020-10-23T18:49:55.019457Z"
    }
   },
   "outputs": [],
   "source": [
    "# Plot August 2018-2019 change\n",
    "fig, ax = stl.plot_monthly_comparison(\n",
    "    pre_change=no2_dict[\"2018\"][\"08\"],\n",
    "    post_change=no2_dict[\"2019\"][\"08\"],\n",
    "    extent_file=monthly_means[0],\n",
    "    country_boundaries=[north_korea_boundary_clipped, south_korea_boundary],\n",
    "    country_names=[\"North Korea\", \"South Korea\"],\n",
    "    change_type=\"percent\",\n",
    "    location=\"South Korea\",\n",
    "    titles=[\n",
    "        \"August 2018 Mean NO2 ($\\mathrm{mol \\cdot m^{-2}}$)\",\n",
    "        \"August 2019 Mean NO2 ($\\mathrm{mol \\cdot m^{-2}}$)\",\n",
    "        \"Change in Mean NO2 (%)\",\n",
    "    ],\n",
    "    data_source=\"European Space Agency\",\n",
    ")"
   ]
  },
  {
   "cell_type": "code",
   "execution_count": null,
   "metadata": {
    "ExecuteTime": {
     "end_time": "2020-10-23T18:50:04.137371Z",
     "start_time": "2020-10-23T18:49:59.772860Z"
    }
   },
   "outputs": [],
   "source": [
    "# Plot September 2018-2019 change\n",
    "fig, ax = stl.plot_monthly_comparison(\n",
    "    pre_change=no2_dict[\"2018\"][\"09\"],\n",
    "    post_change=no2_dict[\"2019\"][\"09\"],\n",
    "    extent_file=monthly_means[0],\n",
    "    country_boundaries=[north_korea_boundary_clipped, south_korea_boundary],\n",
    "    country_names=[\"North Korea\", \"South Korea\"],\n",
    "    change_type=\"percent\",\n",
    "    location=\"South Korea\",\n",
    "    titles=[\n",
    "        \"September 2018 Mean NO2 ($\\mathrm{mol \\cdot m^{-2}}$)\",\n",
    "        \"September 2019 Mean NO2 ($\\mathrm{mol \\cdot m^{-2}}$)\",\n",
    "        \"Change in Mean NO2 (%)\",\n",
    "    ],\n",
    "    data_source=\"European Space Agency\",\n",
    ")"
   ]
  },
  {
   "cell_type": "code",
   "execution_count": null,
   "metadata": {
    "ExecuteTime": {
     "end_time": "2020-10-23T18:50:08.479832Z",
     "start_time": "2020-10-23T18:50:04.139373Z"
    }
   },
   "outputs": [],
   "source": [
    "# Plot October 2018-2019 change\n",
    "fig, ax = stl.plot_monthly_comparison(\n",
    "    pre_change=no2_dict[\"2018\"][\"10\"],\n",
    "    post_change=no2_dict[\"2019\"][\"10\"],\n",
    "    extent_file=monthly_means[0],\n",
    "    country_boundaries=[north_korea_boundary_clipped, south_korea_boundary],\n",
    "    country_names=[\"North Korea\", \"South Korea\"],\n",
    "    change_type=\"percent\",\n",
    "    location=\"South Korea\",\n",
    "    titles=[\n",
    "        \"October 2018 Mean NO2 ($\\mathrm{mol \\cdot m^{-2}}$)\",\n",
    "        \"October 2019 Mean NO2 ($\\mathrm{mol \\cdot m^{-2}}$)\",\n",
    "        \"Change in Mean NO2 (%)\",\n",
    "    ],\n",
    "    data_source=\"European Space Agency\",\n",
    ")"
   ]
  },
  {
   "cell_type": "code",
   "execution_count": null,
   "metadata": {
    "ExecuteTime": {
     "end_time": "2020-10-23T18:50:12.830154Z",
     "start_time": "2020-10-23T18:50:08.482820Z"
    }
   },
   "outputs": [],
   "source": [
    "# Plot November 2018-2019 change\n",
    "fig, ax = stl.plot_monthly_comparison(\n",
    "    pre_change=no2_dict[\"2018\"][\"11\"],\n",
    "    post_change=no2_dict[\"2019\"][\"11\"],\n",
    "    extent_file=monthly_means[0],\n",
    "    country_boundaries=[north_korea_boundary_clipped, south_korea_boundary],\n",
    "    country_names=[\"North Korea\", \"South Korea\"],\n",
    "    change_type=\"percent\",\n",
    "    location=\"South Korea\",\n",
    "    titles=[\n",
    "        \"November 2018 Mean NO2 ($\\mathrm{mol \\cdot m^{-2}}$)\",\n",
    "        \"November 2019 Mean NO2 ($\\mathrm{mol \\cdot m^{-2}}$)\",\n",
    "        \"Change in Mean NO2 (%)\",\n",
    "    ],\n",
    "    data_source=\"European Space Agency\",\n",
    ")"
   ]
  },
  {
   "cell_type": "code",
   "execution_count": null,
   "metadata": {
    "ExecuteTime": {
     "end_time": "2020-10-23T18:50:17.523642Z",
     "start_time": "2020-10-23T18:50:12.832149Z"
    }
   },
   "outputs": [],
   "source": [
    "# Plot December 2018-2019 change\n",
    "fig, ax = stl.plot_monthly_comparison(\n",
    "    pre_change=no2_dict[\"2018\"][\"12\"],\n",
    "    post_change=no2_dict[\"2019\"][\"12\"],\n",
    "    extent_file=monthly_means[0],\n",
    "    country_boundaries=[north_korea_boundary_clipped, south_korea_boundary],\n",
    "    country_names=[\"North Korea\", \"South Korea\"],\n",
    "    change_type=\"percent\",\n",
    "    location=\"South Korea\",\n",
    "    titles=[\n",
    "        \"December 2018 Mean NO2 ($\\mathrm{mol \\cdot m^{-2}}$)\",\n",
    "        \"December 2019 Mean NO2 ($\\mathrm{mol \\cdot m^{-2}}$)\",\n",
    "        \"Change in Mean NO2 (%)\",\n",
    "    ],\n",
    "    data_source=\"European Space Agency\",\n",
    ")"
   ]
  },
  {
   "cell_type": "code",
   "execution_count": null,
   "metadata": {
    "ExecuteTime": {
     "end_time": "2020-10-23T18:50:22.453871Z",
     "start_time": "2020-10-23T18:50:17.527632Z"
    }
   },
   "outputs": [],
   "source": [
    "# Plot January 2019-2020 change\n",
    "fig, ax = stl.plot_monthly_comparison(\n",
    "    pre_change=no2_dict[\"2019\"][\"01\"],\n",
    "    post_change=no2_dict[\"2020\"][\"01\"],\n",
    "    extent_file=monthly_means[0],\n",
    "    country_boundaries=[north_korea_boundary_clipped, south_korea_boundary],\n",
    "    country_names=[\"North Korea\", \"South Korea\"],\n",
    "    change_type=\"percent\",\n",
    "    location=\"South Korea\",\n",
    "    titles=[\n",
    "        \"January 2019 Mean NO2 ($\\mathrm{mol \\cdot m^{-2}}$)\",\n",
    "        \"January 2020 Mean NO2 ($\\mathrm{mol \\cdot m^{-2}}$)\",\n",
    "        \"Change in Mean NO2 (%)\",\n",
    "    ],\n",
    "    data_source=\"European Space Agency\",\n",
    ")"
   ]
  },
  {
   "cell_type": "code",
   "execution_count": null,
   "metadata": {
    "ExecuteTime": {
     "end_time": "2020-10-23T18:50:26.946595Z",
     "start_time": "2020-10-23T18:50:22.456862Z"
    }
   },
   "outputs": [],
   "source": [
    "# Plot February 2019-2020 change\n",
    "fig, ax = stl.plot_monthly_comparison(\n",
    "    pre_change=no2_dict[\"2019\"][\"02\"],\n",
    "    post_change=no2_dict[\"2020\"][\"02\"],\n",
    "    extent_file=monthly_means[0],\n",
    "    country_boundaries=[north_korea_boundary_clipped, south_korea_boundary],\n",
    "    country_names=[\"North Korea\", \"South Korea\"],\n",
    "    change_type=\"percent\",\n",
    "    location=\"South Korea\",\n",
    "    titles=[\n",
    "        \"February 2019 Mean NO2 ($\\mathrm{mol \\cdot m^{-2}}$)\",\n",
    "        \"February 2020 Mean NO2 ($\\mathrm{mol \\cdot m^{-2}}$)\",\n",
    "        \"Change in Mean NO2 (%)\",\n",
    "    ],\n",
    "    data_source=\"European Space Agency\",\n",
    ")"
   ]
  },
  {
   "cell_type": "code",
   "execution_count": null,
   "metadata": {
    "ExecuteTime": {
     "end_time": "2020-10-23T18:50:31.288116Z",
     "start_time": "2020-10-23T18:50:26.949554Z"
    }
   },
   "outputs": [],
   "source": [
    "# Plot March 2019-2020 change\n",
    "fig, ax = stl.plot_monthly_comparison(\n",
    "    pre_change=no2_dict[\"2019\"][\"03\"],\n",
    "    post_change=no2_dict[\"2020\"][\"03\"],\n",
    "    extent_file=monthly_means[0],\n",
    "    country_boundaries=[north_korea_boundary_clipped, south_korea_boundary],\n",
    "    country_names=[\"North Korea\", \"South Korea\"],\n",
    "    change_type=\"percent\",\n",
    "    location=\"South Korea\",\n",
    "    titles=[\n",
    "        \"March 2019 Mean NO2 ($\\mathrm{mol \\cdot m^{-2}}$)\",\n",
    "        \"March 2020 Mean NO2 ($\\mathrm{mol \\cdot m^{-2}}$)\",\n",
    "        \"Change in Mean NO2 (%)\",\n",
    "    ],\n",
    "    data_source=\"European Space Agency\",\n",
    ")"
   ]
  },
  {
   "cell_type": "code",
   "execution_count": null,
   "metadata": {
    "ExecuteTime": {
     "end_time": "2020-10-23T18:50:35.969689Z",
     "start_time": "2020-10-23T18:50:31.290111Z"
    }
   },
   "outputs": [],
   "source": [
    "# Plot April 2019-2020 change\n",
    "fig, ax = stl.plot_monthly_comparison(\n",
    "    pre_change=no2_dict[\"2019\"][\"04\"],\n",
    "    post_change=no2_dict[\"2020\"][\"04\"],\n",
    "    extent_file=monthly_means[0],\n",
    "    country_boundaries=[north_korea_boundary_clipped, south_korea_boundary],\n",
    "    country_names=[\"North Korea\", \"South Korea\"],\n",
    "    change_type=\"percent\",\n",
    "    location=\"South Korea\",\n",
    "    titles=[\n",
    "        \"April 2019 Mean NO2 ($\\mathrm{mol \\cdot m^{-2}}$)\",\n",
    "        \"April 2020 Mean NO2 ($\\mathrm{mol \\cdot m^{-2}}$)\",\n",
    "        \"Change in Mean NO2 (%)\",\n",
    "    ],\n",
    "    data_source=\"European Space Agency\",\n",
    ")"
   ]
  },
  {
   "cell_type": "code",
   "execution_count": null,
   "metadata": {
    "ExecuteTime": {
     "end_time": "2020-10-23T18:50:40.118088Z",
     "start_time": "2020-10-23T18:50:35.972680Z"
    }
   },
   "outputs": [],
   "source": [
    "# Plot May 2019-2020 change\n",
    "fig, ax = stl.plot_monthly_comparison(\n",
    "    pre_change=no2_dict[\"2019\"][\"05\"],\n",
    "    post_change=no2_dict[\"2020\"][\"05\"],\n",
    "    extent_file=monthly_means[0],\n",
    "    country_boundaries=[north_korea_boundary_clipped, south_korea_boundary],\n",
    "    country_names=[\"North Korea\", \"South Korea\"],\n",
    "    change_type=\"percent\",\n",
    "    location=\"South Korea\",\n",
    "    titles=[\n",
    "        \"May 2019 Mean NO2 ($\\mathrm{mol \\cdot m^{-2}}$)\",\n",
    "        \"May 2020 Mean NO2 ($\\mathrm{mol \\cdot m^{-2}}$)\",\n",
    "        \"Change in Mean NO2 (%)\",\n",
    "    ],\n",
    "    data_source=\"European Space Agency\",\n",
    ")"
   ]
  },
  {
   "cell_type": "code",
   "execution_count": null,
   "metadata": {
    "ExecuteTime": {
     "end_time": "2020-10-23T18:50:44.535963Z",
     "start_time": "2020-10-23T18:50:40.121080Z"
    }
   },
   "outputs": [],
   "source": [
    "# Plot June 2019-2020 change\n",
    "fig, ax = stl.plot_monthly_comparison(\n",
    "    pre_change=no2_dict[\"2019\"][\"06\"],\n",
    "    post_change=no2_dict[\"2020\"][\"06\"],\n",
    "    extent_file=monthly_means[0],\n",
    "    country_boundaries=[north_korea_boundary_clipped, south_korea_boundary],\n",
    "    country_names=[\"North Korea\", \"South Korea\"],\n",
    "    change_type=\"percent\",\n",
    "    location=\"South Korea\",\n",
    "    titles=[\n",
    "        \"June 2019 Mean NO2 ($\\mathrm{mol \\cdot m^{-2}}$)\",\n",
    "        \"June 2020 Mean NO2 ($\\mathrm{mol \\cdot m^{-2}}$)\",\n",
    "        \"Change in Mean NO2 (%)\",\n",
    "    ],\n",
    "    data_source=\"European Space Agency\",\n",
    ")"
   ]
  },
  {
   "cell_type": "code",
   "execution_count": null,
   "metadata": {
    "ExecuteTime": {
     "end_time": "2020-10-23T18:50:49.024112Z",
     "start_time": "2020-10-23T18:50:44.538955Z"
    }
   },
   "outputs": [],
   "source": [
    "# Plot July 2019-2020 change\n",
    "fig, ax = stl.plot_monthly_comparison(\n",
    "    pre_change=no2_dict[\"2019\"][\"07\"],\n",
    "    post_change=no2_dict[\"2020\"][\"07\"],\n",
    "    extent_file=monthly_means[0],\n",
    "    country_boundaries=[north_korea_boundary_clipped, south_korea_boundary],\n",
    "    country_names=[\"North Korea\", \"South Korea\"],\n",
    "    change_type=\"percent\",\n",
    "    location=\"South Korea\",\n",
    "    titles=[\n",
    "        \"Jul 2019 Mean NO2 ($\\mathrm{mol \\cdot m^{-2}}$)\",\n",
    "        \"Jul 2020 Mean NO2 ($\\mathrm{mol \\cdot m^{-2}}$)\",\n",
    "        \"Change in Mean NO2 (%)\",\n",
    "    ],\n",
    "    data_source=\"European Space Agency\",\n",
    ")"
   ]
  },
  {
   "cell_type": "markdown",
   "metadata": {},
   "source": [
    "# Data Export"
   ]
  },
  {
   "cell_type": "markdown",
   "metadata": {},
   "source": [
    "## Monthly Means"
   ]
  },
  {
   "cell_type": "code",
   "execution_count": null,
   "metadata": {
    "ExecuteTime": {
     "start_time": "2020-10-23T18:46:06.416Z"
    },
    "scrolled": false
   },
   "outputs": [],
   "source": [
    "# Plot and export all stack bands (monthly means)\n",
    "with plt.style.context(\"dark_background\"):\n",
    "    # Initialize figure/axes\n",
    "    fig, ax = plt.subplots(nrows=8, ncols=3, figsize=(20, 40))\n",
    "    plt.suptitle(\"South Korea NO2 Monthly Means, Jul 2018 - Jun 2020\", size=24)\n",
    "    plt.subplots_adjust(top=0.955)\n",
    "\n",
    "    # Loop through all axes\n",
    "    for (band, axis) in enumerate(fig.axes):\n",
    "        # Plot monthly mean NO2 data\n",
    "        ep.plot_bands(\n",
    "            arr=no2_months_stack[band],\n",
    "            cmap=\"inferno\",\n",
    "            title=titles[band],\n",
    "            extent=south_korea_extent,\n",
    "            vmin=0,\n",
    "            vmax=no2_months_stack.max(),\n",
    "            ax=axis,\n",
    "        )\n",
    "\n",
    "        # Add country boundaries and legend to axes\n",
    "        north_korea_boundary_clipped.boundary.plot(\n",
    "            edgecolor=\"#e41a1c\",\n",
    "            linewidth=0.5,\n",
    "            ax=axis,\n",
    "            alpha=1,\n",
    "            label=\"North Korea\",\n",
    "        )\n",
    "        south_korea_boundary.boundary.plot(\n",
    "            edgecolor=\"#1b7837\",\n",
    "            linewidth=0.5,\n",
    "            ax=axis,\n",
    "            alpha=1,\n",
    "            label=\"South Korea\",\n",
    "        )\n",
    "        axis.legend(\n",
    "            shadow=True, edgecolor=\"white\", fontsize=10, loc=\"lower right\"\n",
    "        )\n",
    "\n",
    "    # Add caption\n",
    "    fig.text(\n",
    "        0.5,\n",
    "        0.11,\n",
    "        f\"Data Source: European Space Agency\",\n",
    "        ha=\"center\",\n",
    "        fontsize=16,\n",
    "    )\n",
    "\n",
    "rd.save_figure(\n",
    "    os.path.join(\n",
    "        \"04-graphics-outputs\",\n",
    "        \"spatial-plots\",\n",
    "        \"south-korea\",\n",
    "        \"south-korea-no2-monthly-means-jul-2018-jun-2020.png\",\n",
    "    )\n",
    ")"
   ]
  },
  {
   "cell_type": "markdown",
   "metadata": {},
   "source": [
    "## Magnitude Change"
   ]
  },
  {
   "cell_type": "markdown",
   "metadata": {},
   "source": [
    "### Georeferenced"
   ]
  },
  {
   "cell_type": "code",
   "execution_count": null,
   "metadata": {
    "ExecuteTime": {
     "start_time": "2020-10-23T18:46:06.422Z"
    }
   },
   "outputs": [],
   "source": [
    "# Extract metadata from GeoTiff\n",
    "metadata = stl.extract_geotiff_metadata(monthly_means[0])\n",
    "metadata"
   ]
  },
  {
   "cell_type": "code",
   "execution_count": null,
   "metadata": {
    "ExecuteTime": {
     "start_time": "2020-10-23T18:46:06.425Z"
    }
   },
   "outputs": [],
   "source": [
    "# Export monthly NO2 change (magnitude)\n",
    "export_files = [\n",
    "    (\n",
    "        magnitude_change_jul_2018_2019,\n",
    "        os.path.join(\n",
    "            \"03-processed-data\",\n",
    "            \"raster\",\n",
    "            \"south-korea\",\n",
    "            \"change\",\n",
    "            \"south-korea-no2-mean-change-magnitude-jul-2018-2019.tif\",\n",
    "        ),\n",
    "    ),\n",
    "    (\n",
    "        magnitude_change_aug_2018_2019,\n",
    "        os.path.join(\n",
    "            \"03-processed-data\",\n",
    "            \"raster\",\n",
    "            \"south-korea\",\n",
    "            \"change\",\n",
    "            \"south-korea-no2-mean-change-magnitude-aug-2018-2019.tif\",\n",
    "        ),\n",
    "    ),\n",
    "    (\n",
    "        magnitude_change_sep_2018_2019,\n",
    "        os.path.join(\n",
    "            \"03-processed-data\",\n",
    "            \"raster\",\n",
    "            \"south-korea\",\n",
    "            \"change\",\n",
    "            \"south-korea-no2-mean-change-magnitude-sep-2018-2019.tif\",\n",
    "        ),\n",
    "    ),\n",
    "    (\n",
    "        magnitude_change_oct_2018_2019,\n",
    "        os.path.join(\n",
    "            \"03-processed-data\",\n",
    "            \"raster\",\n",
    "            \"south-korea\",\n",
    "            \"change\",\n",
    "            \"south-korea-no2-mean-change-magnitude-oct-2018-2019.tif\",\n",
    "        ),\n",
    "    ),\n",
    "    (\n",
    "        magnitude_change_nov_2018_2019,\n",
    "        os.path.join(\n",
    "            \"03-processed-data\",\n",
    "            \"raster\",\n",
    "            \"south-korea\",\n",
    "            \"change\",\n",
    "            \"south-korea-no2-mean-change-magnitude-nov-2018-2019.tif\",\n",
    "        ),\n",
    "    ),\n",
    "    (\n",
    "        magnitude_change_dec_2018_2019,\n",
    "        os.path.join(\n",
    "            \"03-processed-data\",\n",
    "            \"raster\",\n",
    "            \"south-korea\",\n",
    "            \"change\",\n",
    "            \"south-korea-no2-mean-change-magnitude-dec-2018-2019.tif\",\n",
    "        ),\n",
    "    ),\n",
    "    (\n",
    "        magnitude_change_jan_2019_2020,\n",
    "        os.path.join(\n",
    "            \"03-processed-data\",\n",
    "            \"raster\",\n",
    "            \"south-korea\",\n",
    "            \"change\",\n",
    "            \"south-korea-no2-mean-change-magnitude-jan-2019-2020.tif\",\n",
    "        ),\n",
    "    ),\n",
    "    (\n",
    "        magnitude_change_feb_2019_2020,\n",
    "        os.path.join(\n",
    "            \"03-processed-data\",\n",
    "            \"raster\",\n",
    "            \"south-korea\",\n",
    "            \"change\",\n",
    "            \"south-korea-no2-mean-change-magnitude-feb-2019-2020.tif\",\n",
    "        ),\n",
    "    ),\n",
    "    (\n",
    "        magnitude_change_mar_2019_2020,\n",
    "        os.path.join(\n",
    "            \"03-processed-data\",\n",
    "            \"raster\",\n",
    "            \"south-korea\",\n",
    "            \"change\",\n",
    "            \"south-korea-no2-mean-change-magnitude-mar-2019-2020.tif\",\n",
    "        ),\n",
    "    ),\n",
    "    (\n",
    "        magnitude_change_apr_2019_2020,\n",
    "        os.path.join(\n",
    "            \"03-processed-data\",\n",
    "            \"raster\",\n",
    "            \"south-korea\",\n",
    "            \"change\",\n",
    "            \"south-korea-no2-mean-change-magnitude-apr-2019-2020.tif\",\n",
    "        ),\n",
    "    ),\n",
    "    (\n",
    "        magnitude_change_may_2019_2020,\n",
    "        os.path.join(\n",
    "            \"03-processed-data\",\n",
    "            \"raster\",\n",
    "            \"south-korea\",\n",
    "            \"change\",\n",
    "            \"south-korea-no2-mean-change-magnitude-may-2019-2020.tif\",\n",
    "        ),\n",
    "    ),\n",
    "    (\n",
    "        magnitude_change_jun_2019_2020,\n",
    "        os.path.join(\n",
    "            \"03-processed-data\",\n",
    "            \"raster\",\n",
    "            \"south-korea\",\n",
    "            \"change\",\n",
    "            \"south-korea-no2-mean-change-magnitude-jun-2019-2020.tif\",\n",
    "        ),\n",
    "    ),\n",
    "    (\n",
    "        magnitude_change_jul_2019_2020,\n",
    "        os.path.join(\n",
    "            \"03-processed-data\",\n",
    "            \"raster\",\n",
    "            \"south-korea\",\n",
    "            \"change\",\n",
    "            \"south-korea-no2-mean-change-magnitude-jul-2019-2020.tif\",\n",
    "        ),\n",
    "    ),\n",
    "]\n",
    "\n",
    "for (array, outpath) in export_files:\n",
    "    rd.export_array(array, outpath, metadata)"
   ]
  },
  {
   "cell_type": "markdown",
   "metadata": {},
   "source": [
    "### Non-Georeferenced"
   ]
  },
  {
   "cell_type": "code",
   "execution_count": null,
   "metadata": {
    "ExecuteTime": {
     "start_time": "2020-10-23T18:46:06.431Z"
    }
   },
   "outputs": [],
   "source": [
    "# Plot and export July 2018-2019 change\n",
    "fig, ax = stl.plot_monthly_comparison(\n",
    "    pre_change=no2_dict[\"2018\"][\"07\"],\n",
    "    post_change=no2_dict[\"2019\"][\"07\"],\n",
    "    extent_file=monthly_means[0],\n",
    "    country_boundaries=[north_korea_boundary_clipped, south_korea_boundary],\n",
    "    country_names=[\"North Korea\", \"South Korea\"],\n",
    "    change_type=\"magnitude\",\n",
    "    location=\"South Korea\",\n",
    "    titles=[\n",
    "        \"July 2018 Mean NO2 ($\\mathrm{mol \\cdot m^{-2}}$)\",\n",
    "        \"July 2019 Mean NO2 ($\\mathrm{mol \\cdot m^{-2}}$)\",\n",
    "        \"Change in Mean NO2 ($\\mathrm{mol \\cdot m^{-2}}$)\",\n",
    "    ],\n",
    "    data_source=\"European Space Agency\",\n",
    ")\n",
    "\n",
    "rd.save_figure(\n",
    "    os.path.join(\n",
    "        \"04-graphics-outputs\",\n",
    "        \"spatial-plots\",\n",
    "        \"south-korea\",\n",
    "        \"south-korea-no2-mean-change-magnitude-jul-2018-2019.png\",\n",
    "    )\n",
    ")"
   ]
  },
  {
   "cell_type": "code",
   "execution_count": null,
   "metadata": {
    "ExecuteTime": {
     "start_time": "2020-10-23T18:46:06.435Z"
    }
   },
   "outputs": [],
   "source": [
    "# Plot and export August 2018-2019 change\n",
    "fig, ax = stl.plot_monthly_comparison(\n",
    "    pre_change=no2_dict[\"2018\"][\"08\"],\n",
    "    post_change=no2_dict[\"2019\"][\"08\"],\n",
    "    extent_file=monthly_means[0],\n",
    "    country_boundaries=[north_korea_boundary_clipped, south_korea_boundary],\n",
    "    country_names=[\"North Korea\", \"South Korea\"],\n",
    "    change_type=\"magnitude\",\n",
    "    location=\"South Korea\",\n",
    "    titles=[\n",
    "        \"August 2018 Mean NO2 ($\\mathrm{mol \\cdot m^{-2}}$)\",\n",
    "        \"August 2019 Mean NO2 ($\\mathrm{mol \\cdot m^{-2}}$)\",\n",
    "        \"Change in Mean NO2 ($\\mathrm{mol \\cdot m^{-2}}$)\",\n",
    "    ],\n",
    "    data_source=\"European Space Agency\",\n",
    ")\n",
    "\n",
    "rd.save_figure(\n",
    "    os.path.join(\n",
    "        \"04-graphics-outputs\",\n",
    "        \"spatial-plots\",\n",
    "        \"south-korea\",\n",
    "        \"south-korea-no2-mean-change-magnitude-aug-2018-2019.png\",\n",
    "    )\n",
    ")"
   ]
  },
  {
   "cell_type": "code",
   "execution_count": null,
   "metadata": {
    "ExecuteTime": {
     "start_time": "2020-10-23T18:46:06.440Z"
    }
   },
   "outputs": [],
   "source": [
    "# Plot and export September 2018-2019 change\n",
    "fig, ax = stl.plot_monthly_comparison(\n",
    "    pre_change=no2_dict[\"2018\"][\"09\"],\n",
    "    post_change=no2_dict[\"2019\"][\"09\"],\n",
    "    extent_file=monthly_means[0],\n",
    "    country_boundaries=[north_korea_boundary_clipped, south_korea_boundary],\n",
    "    country_names=[\"North Korea\", \"South Korea\"],\n",
    "    change_type=\"magnitude\",\n",
    "    location=\"South Korea\",\n",
    "    titles=[\n",
    "        \"September 2018 Mean NO2 ($\\mathrm{mol \\cdot m^{-2}}$)\",\n",
    "        \"September 2019 Mean NO2 ($\\mathrm{mol \\cdot m^{-2}}$)\",\n",
    "        \"Change in Mean NO2 ($\\mathrm{mol \\cdot m^{-2}}$)\",\n",
    "    ],\n",
    "    data_source=\"European Space Agency\",\n",
    ")\n",
    "\n",
    "rd.save_figure(\n",
    "    os.path.join(\n",
    "        \"04-graphics-outputs\",\n",
    "        \"spatial-plots\",\n",
    "        \"south-korea\",\n",
    "        \"south-korea-no2-mean-change-magnitude-sep-2018-2019.png\",\n",
    "    )\n",
    ")"
   ]
  },
  {
   "cell_type": "code",
   "execution_count": null,
   "metadata": {
    "ExecuteTime": {
     "start_time": "2020-10-23T18:46:06.445Z"
    }
   },
   "outputs": [],
   "source": [
    "# Plot and export October 2018-2019 change\n",
    "fig, ax = stl.plot_monthly_comparison(\n",
    "    pre_change=no2_dict[\"2018\"][\"10\"],\n",
    "    post_change=no2_dict[\"2019\"][\"10\"],\n",
    "    extent_file=monthly_means[0],\n",
    "    country_boundaries=[north_korea_boundary_clipped, south_korea_boundary],\n",
    "    country_names=[\"North Korea\", \"South Korea\"],\n",
    "    change_type=\"magnitude\",\n",
    "    location=\"South Korea\",\n",
    "    titles=[\n",
    "        \"October 2018 Mean NO2 ($\\mathrm{mol \\cdot m^{-2}}$)\",\n",
    "        \"October 2019 Mean NO2 ($\\mathrm{mol \\cdot m^{-2}}$)\",\n",
    "        \"Change in Mean NO2 ($\\mathrm{mol \\cdot m^{-2}}$)\",\n",
    "    ],\n",
    "    data_source=\"European Space Agency\",\n",
    ")\n",
    "\n",
    "rd.save_figure(\n",
    "    os.path.join(\n",
    "        \"04-graphics-outputs\",\n",
    "        \"spatial-plots\",\n",
    "        \"south-korea\",\n",
    "        \"south-korea-no2-mean-change-magnitude-oct-2018-2019.png\",\n",
    "    )\n",
    ")"
   ]
  },
  {
   "cell_type": "code",
   "execution_count": null,
   "metadata": {
    "ExecuteTime": {
     "start_time": "2020-10-23T18:46:06.452Z"
    }
   },
   "outputs": [],
   "source": [
    "# Plot and export November 2018-2019 change\n",
    "fig, ax = stl.plot_monthly_comparison(\n",
    "    pre_change=no2_dict[\"2018\"][\"11\"],\n",
    "    post_change=no2_dict[\"2019\"][\"11\"],\n",
    "    extent_file=monthly_means[0],\n",
    "    country_boundaries=[north_korea_boundary_clipped, south_korea_boundary],\n",
    "    country_names=[\"North Korea\", \"South Korea\"],\n",
    "    change_type=\"magnitude\",\n",
    "    location=\"South Korea\",\n",
    "    titles=[\n",
    "        \"November 2018 Mean NO2 ($\\mathrm{mol \\cdot m^{-2}}$)\",\n",
    "        \"November 2019 Mean NO2 ($\\mathrm{mol \\cdot m^{-2}}$)\",\n",
    "        \"Change in Mean NO2 ($\\mathrm{mol \\cdot m^{-2}}$)\",\n",
    "    ],\n",
    "    data_source=\"European Space Agency\",\n",
    ")\n",
    "\n",
    "rd.save_figure(\n",
    "    os.path.join(\n",
    "        \"04-graphics-outputs\",\n",
    "        \"spatial-plots\",\n",
    "        \"south-korea\",\n",
    "        \"south-korea-no2-mean-change-magnitude-nov-2018-2019.png\",\n",
    "    )\n",
    ")"
   ]
  },
  {
   "cell_type": "code",
   "execution_count": null,
   "metadata": {
    "ExecuteTime": {
     "start_time": "2020-10-23T18:46:06.458Z"
    }
   },
   "outputs": [],
   "source": [
    "# Plot and export December 2018-2019 change\n",
    "fig, ax = stl.plot_monthly_comparison(\n",
    "    pre_change=no2_dict[\"2018\"][\"12\"],\n",
    "    post_change=no2_dict[\"2019\"][\"12\"],\n",
    "    extent_file=monthly_means[0],\n",
    "    country_boundaries=[north_korea_boundary_clipped, south_korea_boundary],\n",
    "    country_names=[\"North Korea\", \"South Korea\"],\n",
    "    change_type=\"magnitude\",\n",
    "    location=\"South Korea\",\n",
    "    titles=[\n",
    "        \"December 2018 Mean NO2 ($\\mathrm{mol \\cdot m^{-2}}$)\",\n",
    "        \"December 2019 Mean NO2 ($\\mathrm{mol \\cdot m^{-2}}$)\",\n",
    "        \"Change in Mean NO2 ($\\mathrm{mol \\cdot m^{-2}}$)\",\n",
    "    ],\n",
    "    data_source=\"European Space Agency\",\n",
    ")\n",
    "\n",
    "rd.save_figure(\n",
    "    os.path.join(\n",
    "        \"04-graphics-outputs\",\n",
    "        \"spatial-plots\",\n",
    "        \"south-korea\",\n",
    "        \"south-korea-no2-mean-change-magnitude-dec-2018-2019.png\",\n",
    "    )\n",
    ")"
   ]
  },
  {
   "cell_type": "code",
   "execution_count": null,
   "metadata": {
    "ExecuteTime": {
     "start_time": "2020-10-23T18:46:06.463Z"
    }
   },
   "outputs": [],
   "source": [
    "# Plot and export January 2019-2020 change\n",
    "fig, ax = stl.plot_monthly_comparison(\n",
    "    pre_change=no2_dict[\"2019\"][\"01\"],\n",
    "    post_change=no2_dict[\"2020\"][\"01\"],\n",
    "    extent_file=monthly_means[0],\n",
    "    country_boundaries=[north_korea_boundary_clipped, south_korea_boundary],\n",
    "    country_names=[\"North Korea\", \"South Korea\"],\n",
    "    change_type=\"magnitude\",\n",
    "    location=\"South Korea\",\n",
    "    titles=[\n",
    "        \"January 2019 Mean NO2 ($\\mathrm{mol \\cdot m^{-2}}$)\",\n",
    "        \"January 2020 Mean NO2 ($\\mathrm{mol \\cdot m^{-2}}$)\",\n",
    "        \"Change in Mean NO2 ($\\mathrm{mol \\cdot m^{-2}}$)\",\n",
    "    ],\n",
    "    data_source=\"European Space Agency\",\n",
    ")\n",
    "\n",
    "rd.save_figure(\n",
    "    os.path.join(\n",
    "        \"04-graphics-outputs\",\n",
    "        \"spatial-plots\",\n",
    "        \"south-korea\",\n",
    "        \"south-korea-no2-mean-change-magnitude-jan-2019-2020.png\",\n",
    "    )\n",
    ")"
   ]
  },
  {
   "cell_type": "code",
   "execution_count": null,
   "metadata": {
    "ExecuteTime": {
     "start_time": "2020-10-23T18:46:06.468Z"
    }
   },
   "outputs": [],
   "source": [
    "# Plot and export February 2019-2020 change\n",
    "fig, ax = stl.plot_monthly_comparison(\n",
    "    pre_change=no2_dict[\"2019\"][\"02\"],\n",
    "    post_change=no2_dict[\"2020\"][\"02\"],\n",
    "    extent_file=monthly_means[0],\n",
    "    country_boundaries=[north_korea_boundary_clipped, south_korea_boundary],\n",
    "    country_names=[\"North Korea\", \"South Korea\"],\n",
    "    change_type=\"magnitude\",\n",
    "    location=\"South Korea\",\n",
    "    titles=[\n",
    "        \"February 2019 Mean NO2 ($\\mathrm{mol \\cdot m^{-2}}$)\",\n",
    "        \"February 2020 Mean NO2 ($\\mathrm{mol \\cdot m^{-2}}$)\",\n",
    "        \"Change in Mean NO2 ($\\mathrm{mol \\cdot m^{-2}}$)\",\n",
    "    ],\n",
    "    data_source=\"European Space Agency\",\n",
    ")\n",
    "\n",
    "rd.save_figure(\n",
    "    os.path.join(\n",
    "        \"04-graphics-outputs\",\n",
    "        \"spatial-plots\",\n",
    "        \"south-korea\",\n",
    "        \"south-korea-no2-mean-change-magnitude-feb-2019-2020.png\",\n",
    "    )\n",
    ")"
   ]
  },
  {
   "cell_type": "code",
   "execution_count": null,
   "metadata": {
    "ExecuteTime": {
     "start_time": "2020-10-23T18:46:06.472Z"
    }
   },
   "outputs": [],
   "source": [
    "# Plot and export March 2019-2020 change\n",
    "fig, ax = stl.plot_monthly_comparison(\n",
    "    pre_change=no2_dict[\"2019\"][\"03\"],\n",
    "    post_change=no2_dict[\"2020\"][\"03\"],\n",
    "    extent_file=monthly_means[0],\n",
    "    country_boundaries=[north_korea_boundary_clipped, south_korea_boundary],\n",
    "    country_names=[\"North Korea\", \"South Korea\"],\n",
    "    change_type=\"magnitude\",\n",
    "    location=\"South Korea\",\n",
    "    titles=[\n",
    "        \"March 2019 Mean NO2 ($\\mathrm{mol \\cdot m^{-2}}$)\",\n",
    "        \"March 2020 Mean NO2 ($\\mathrm{mol \\cdot m^{-2}}$)\",\n",
    "        \"Change in Mean NO2 ($\\mathrm{mol \\cdot m^{-2}}$)\",\n",
    "    ],\n",
    "    data_source=\"European Space Agency\",\n",
    ")\n",
    "\n",
    "rd.save_figure(\n",
    "    os.path.join(\n",
    "        \"04-graphics-outputs\",\n",
    "        \"spatial-plots\",\n",
    "        \"south-korea\",\n",
    "        \"south-korea-no2-mean-change-magnitude-mar-2019-2020.png\",\n",
    "    )\n",
    ")"
   ]
  },
  {
   "cell_type": "code",
   "execution_count": null,
   "metadata": {
    "ExecuteTime": {
     "start_time": "2020-10-23T18:46:06.476Z"
    }
   },
   "outputs": [],
   "source": [
    "# Plot and export April 2019-2020 change\n",
    "fig, ax = stl.plot_monthly_comparison(\n",
    "    pre_change=no2_dict[\"2019\"][\"04\"],\n",
    "    post_change=no2_dict[\"2020\"][\"04\"],\n",
    "    extent_file=monthly_means[0],\n",
    "    country_boundaries=[north_korea_boundary_clipped, south_korea_boundary],\n",
    "    country_names=[\"North Korea\", \"South Korea\"],\n",
    "    change_type=\"magnitude\",\n",
    "    location=\"South Korea\",\n",
    "    titles=[\n",
    "        \"April 2019 Mean NO2 ($\\mathrm{mol \\cdot m^{-2}}$)\",\n",
    "        \"April 2020 Mean NO2 ($\\mathrm{mol \\cdot m^{-2}}$)\",\n",
    "        \"Change in Mean NO2 ($\\mathrm{mol \\cdot m^{-2}}$)\",\n",
    "    ],\n",
    "    data_source=\"European Space Agency\",\n",
    ")\n",
    "\n",
    "rd.save_figure(\n",
    "    os.path.join(\n",
    "        \"04-graphics-outputs\",\n",
    "        \"spatial-plots\",\n",
    "        \"south-korea\",\n",
    "        \"south-korea-no2-mean-change-magnitude-apr-2019-2020.png\",\n",
    "    )\n",
    ")"
   ]
  },
  {
   "cell_type": "code",
   "execution_count": null,
   "metadata": {
    "ExecuteTime": {
     "start_time": "2020-10-23T18:46:06.480Z"
    }
   },
   "outputs": [],
   "source": [
    "# Plot and export May 2019-2020 change\n",
    "fig, ax = stl.plot_monthly_comparison(\n",
    "    pre_change=no2_dict[\"2019\"][\"05\"],\n",
    "    post_change=no2_dict[\"2020\"][\"05\"],\n",
    "    extent_file=monthly_means[0],\n",
    "    country_boundaries=[north_korea_boundary_clipped, south_korea_boundary],\n",
    "    country_names=[\"North Korea\", \"South Korea\"],\n",
    "    change_type=\"magnitude\",\n",
    "    location=\"South Korea\",\n",
    "    titles=[\n",
    "        \"May 2019 Mean NO2 ($\\mathrm{mol \\cdot m^{-2}}$)\",\n",
    "        \"May 2020 Mean NO2 ($\\mathrm{mol \\cdot m^{-2}}$)\",\n",
    "        \"Change in Mean NO2 ($\\mathrm{mol \\cdot m^{-2}}$)\",\n",
    "    ],\n",
    "    data_source=\"European Space Agency\",\n",
    ")\n",
    "\n",
    "rd.save_figure(\n",
    "    os.path.join(\n",
    "        \"04-graphics-outputs\",\n",
    "        \"spatial-plots\",\n",
    "        \"south-korea\",\n",
    "        \"south-korea-no2-mean-change-magnitude-may-2019-2020.png\",\n",
    "    )\n",
    ")"
   ]
  },
  {
   "cell_type": "code",
   "execution_count": null,
   "metadata": {
    "ExecuteTime": {
     "start_time": "2020-10-23T18:46:06.484Z"
    }
   },
   "outputs": [],
   "source": [
    "# Plot and export June 2019-2020 change\n",
    "fig, ax = stl.plot_monthly_comparison(\n",
    "    pre_change=no2_dict[\"2019\"][\"06\"],\n",
    "    post_change=no2_dict[\"2020\"][\"06\"],\n",
    "    extent_file=monthly_means[0],\n",
    "    country_boundaries=[north_korea_boundary_clipped, south_korea_boundary],\n",
    "    country_names=[\"North Korea\", \"South Korea\"],\n",
    "    change_type=\"magnitude\",\n",
    "    location=\"South Korea\",\n",
    "    titles=[\n",
    "        \"June 2019 Mean NO2 ($\\mathrm{mol \\cdot m^{-2}}$)\",\n",
    "        \"June 2020 Mean NO2 ($\\mathrm{mol \\cdot m^{-2}}$)\",\n",
    "        \"Change in Mean NO2 ($\\mathrm{mol \\cdot m^{-2}}$)\",\n",
    "    ],\n",
    "    data_source=\"European Space Agency\",\n",
    ")\n",
    "\n",
    "rd.save_figure(\n",
    "    os.path.join(\n",
    "        \"04-graphics-outputs\",\n",
    "        \"spatial-plots\",\n",
    "        \"south-korea\",\n",
    "        \"south-korea-no2-mean-change-magnitude-jun-2019-2020.png\",\n",
    "    )\n",
    ")"
   ]
  },
  {
   "cell_type": "code",
   "execution_count": null,
   "metadata": {
    "ExecuteTime": {
     "start_time": "2020-10-23T18:46:06.490Z"
    }
   },
   "outputs": [],
   "source": [
    "# Plot and export July 2019-2020 change\n",
    "fig, ax = stl.plot_monthly_comparison(\n",
    "    pre_change=no2_dict[\"2019\"][\"07\"],\n",
    "    post_change=no2_dict[\"2020\"][\"07\"],\n",
    "    extent_file=monthly_means[0],\n",
    "    country_boundaries=[north_korea_boundary_clipped, south_korea_boundary],\n",
    "    country_names=[\"North Korea\", \"South Korea\"],\n",
    "    change_type=\"magnitude\",\n",
    "    location=\"South Korea\",\n",
    "    titles=[\n",
    "        \"Jul 2019 Mean NO2 ($\\mathrm{mol \\cdot m^{-2}}$)\",\n",
    "        \"Jul 2020 Mean NO2 ($\\mathrm{mol \\cdot m^{-2}}$)\",\n",
    "        \"Change in Mean NO2 ($\\mathrm{mol \\cdot m^{-2}}$)\",\n",
    "    ],\n",
    "    data_source=\"European Space Agency\",\n",
    ")\n",
    "\n",
    "rd.save_figure(\n",
    "    os.path.join(\n",
    "        \"04-graphics-outputs\",\n",
    "        \"spatial-plots\",\n",
    "        \"south-korea\",\n",
    "        \"south-korea-no2-mean-change-magnitude-jul-2019-2020.png\",\n",
    "    )\n",
    ")"
   ]
  },
  {
   "cell_type": "markdown",
   "metadata": {},
   "source": [
    "## Percent Change"
   ]
  },
  {
   "cell_type": "markdown",
   "metadata": {},
   "source": [
    "### Georeferenced"
   ]
  },
  {
   "cell_type": "code",
   "execution_count": null,
   "metadata": {
    "ExecuteTime": {
     "start_time": "2020-10-23T18:46:06.495Z"
    }
   },
   "outputs": [],
   "source": [
    "# Extract metadata from GeoTiff\n",
    "metadata = stl.extract_geotiff_metadata(monthly_means[0])\n",
    "metadata"
   ]
  },
  {
   "cell_type": "code",
   "execution_count": null,
   "metadata": {
    "ExecuteTime": {
     "start_time": "2020-10-23T18:46:06.500Z"
    }
   },
   "outputs": [],
   "source": [
    "# Export monthly NO2 change (percent)\n",
    "export_files = [\n",
    "    (\n",
    "        percent_change_jul_2018_2019,\n",
    "        os.path.join(\n",
    "            \"03-processed-data\",\n",
    "            \"raster\",\n",
    "            \"south-korea\",\n",
    "            \"change\",\n",
    "            \"south-korea-no2-mean-change-percent-jul-2018-2019.tif\",\n",
    "        ),\n",
    "    ),\n",
    "    (\n",
    "        percent_change_aug_2018_2019,\n",
    "        os.path.join(\n",
    "            \"03-processed-data\",\n",
    "            \"raster\",\n",
    "            \"south-korea\",\n",
    "            \"change\",\n",
    "            \"south-korea-no2-mean-change-percent-aug-2018-2019.tif\",\n",
    "        ),\n",
    "    ),\n",
    "    (\n",
    "        percent_change_sep_2018_2019,\n",
    "        os.path.join(\n",
    "            \"03-processed-data\",\n",
    "            \"raster\",\n",
    "            \"south-korea\",\n",
    "            \"change\",\n",
    "            \"south-korea-no2-mean-change-percent-sep-2018-2019.tif\",\n",
    "        ),\n",
    "    ),\n",
    "    (\n",
    "        percent_change_oct_2018_2019,\n",
    "        os.path.join(\n",
    "            \"03-processed-data\",\n",
    "            \"raster\",\n",
    "            \"south-korea\",\n",
    "            \"change\",\n",
    "            \"south-korea-no2-mean-change-percent-oct-2018-2019.tif\",\n",
    "        ),\n",
    "    ),\n",
    "    (\n",
    "        percent_change_nov_2018_2019,\n",
    "        os.path.join(\n",
    "            \"03-processed-data\",\n",
    "            \"raster\",\n",
    "            \"south-korea\",\n",
    "            \"change\",\n",
    "            \"south-korea-no2-mean-change-percent-nov-2018-2019.tif\",\n",
    "        ),\n",
    "    ),\n",
    "    (\n",
    "        percent_change_dec_2018_2019,\n",
    "        os.path.join(\n",
    "            \"03-processed-data\",\n",
    "            \"raster\",\n",
    "            \"south-korea\",\n",
    "            \"change\",\n",
    "            \"south-korea-no2-mean-change-percent-dec-2018-2019.tif\",\n",
    "        ),\n",
    "    ),\n",
    "    (\n",
    "        percent_change_jan_2019_2020,\n",
    "        os.path.join(\n",
    "            \"03-processed-data\",\n",
    "            \"raster\",\n",
    "            \"south-korea\",\n",
    "            \"change\",\n",
    "            \"south-korea-no2-mean-change-percent-jan-2019-2020.tif\",\n",
    "        ),\n",
    "    ),\n",
    "    (\n",
    "        percent_change_feb_2019_2020,\n",
    "        os.path.join(\n",
    "            \"03-processed-data\",\n",
    "            \"raster\",\n",
    "            \"south-korea\",\n",
    "            \"change\",\n",
    "            \"south-korea-no2-mean-change-percent-feb-2019-2020.tif\",\n",
    "        ),\n",
    "    ),\n",
    "    (\n",
    "        percent_change_mar_2019_2020,\n",
    "        os.path.join(\n",
    "            \"03-processed-data\",\n",
    "            \"raster\",\n",
    "            \"south-korea\",\n",
    "            \"change\",\n",
    "            \"south-korea-no2-mean-change-percent-mar-2019-2020.tif\",\n",
    "        ),\n",
    "    ),\n",
    "    (\n",
    "        percent_change_apr_2019_2020,\n",
    "        os.path.join(\n",
    "            \"03-processed-data\",\n",
    "            \"raster\",\n",
    "            \"south-korea\",\n",
    "            \"change\",\n",
    "            \"south-korea-no2-mean-change-percent-apr-2019-2020.tif\",\n",
    "        ),\n",
    "    ),\n",
    "    (\n",
    "        percent_change_may_2019_2020,\n",
    "        os.path.join(\n",
    "            \"03-processed-data\",\n",
    "            \"raster\",\n",
    "            \"south-korea\",\n",
    "            \"change\",\n",
    "            \"south-korea-no2-mean-change-percent-may-2019-2020.tif\",\n",
    "        ),\n",
    "    ),\n",
    "    (\n",
    "        percent_change_jun_2019_2020,\n",
    "        os.path.join(\n",
    "            \"03-processed-data\",\n",
    "            \"raster\",\n",
    "            \"south-korea\",\n",
    "            \"change\",\n",
    "            \"south-korea-no2-mean-change-percent-jun-2019-2020.tif\",\n",
    "        ),\n",
    "    ),\n",
    "    (\n",
    "        percent_change_jul_2019_2020,\n",
    "        os.path.join(\n",
    "            \"03-processed-data\",\n",
    "            \"raster\",\n",
    "            \"south-korea\",\n",
    "            \"change\",\n",
    "            \"south-korea-no2-mean-change-percent-jul-2019-2020.tif\",\n",
    "        ),\n",
    "    ),\n",
    "]\n",
    "\n",
    "for (array, outpath) in export_files:\n",
    "    rd.export_array(array, outpath, metadata)"
   ]
  },
  {
   "cell_type": "markdown",
   "metadata": {},
   "source": [
    "### Non-Georeferenced"
   ]
  },
  {
   "cell_type": "markdown",
   "metadata": {},
   "source": [
    "#### Regular Scale"
   ]
  },
  {
   "cell_type": "code",
   "execution_count": null,
   "metadata": {
    "ExecuteTime": {
     "start_time": "2020-10-23T18:46:06.506Z"
    }
   },
   "outputs": [],
   "source": [
    "# Plot and export July 2018-2019 change\n",
    "fig, ax = stl.plot_monthly_comparison(\n",
    "    pre_change=no2_dict[\"2018\"][\"07\"],\n",
    "    post_change=no2_dict[\"2019\"][\"07\"],\n",
    "    extent_file=monthly_means[0],\n",
    "    country_boundaries=[north_korea_boundary_clipped, south_korea_boundary],\n",
    "    country_names=[\"North Korea\", \"South Korea\"],\n",
    "    change_type=\"percent\",\n",
    "    location=\"South Korea\",\n",
    "    titles=[\n",
    "        \"July 2018 Mean NO2 ($\\mathrm{mol \\cdot m^{-2}}$)\",\n",
    "        \"July 2019 Mean NO2 ($\\mathrm{mol \\cdot m^{-2}}$)\",\n",
    "        \"Change in Mean NO2 (%)\",\n",
    "    ],\n",
    "    data_source=\"European Space Agency\",\n",
    ")\n",
    "\n",
    "rd.save_figure(\n",
    "    os.path.join(\n",
    "        \"04-graphics-outputs\",\n",
    "        \"spatial-plots\",\n",
    "        \"south-korea\",\n",
    "        \"south-korea-no2-mean-change-percent-jul-2018-2019.png\",\n",
    "    )\n",
    ")"
   ]
  },
  {
   "cell_type": "code",
   "execution_count": null,
   "metadata": {
    "ExecuteTime": {
     "start_time": "2020-10-23T18:46:06.512Z"
    }
   },
   "outputs": [],
   "source": [
    "# Plot and export August 2018-2019 change\n",
    "fig, ax = stl.plot_monthly_comparison(\n",
    "    pre_change=no2_dict[\"2018\"][\"08\"],\n",
    "    post_change=no2_dict[\"2019\"][\"08\"],\n",
    "    extent_file=monthly_means[0],\n",
    "    country_boundaries=[north_korea_boundary_clipped, south_korea_boundary],\n",
    "    country_names=[\"North Korea\", \"South Korea\"],\n",
    "    change_type=\"percent\",\n",
    "    location=\"South Korea\",\n",
    "    titles=[\n",
    "        \"August 2018 Mean NO2 ($\\mathrm{mol \\cdot m^{-2}}$)\",\n",
    "        \"August 2019 Mean NO2 ($\\mathrm{mol \\cdot m^{-2}}$)\",\n",
    "        \"Change in Mean NO2 (%)\",\n",
    "    ],\n",
    "    data_source=\"European Space Agency\",\n",
    ")\n",
    "\n",
    "rd.save_figure(\n",
    "    os.path.join(\n",
    "        \"04-graphics-outputs\",\n",
    "        \"spatial-plots\",\n",
    "        \"south-korea\",\n",
    "        \"south-korea-no2-mean-change-percent-aug-2018-2019.png\",\n",
    "    )\n",
    ")"
   ]
  },
  {
   "cell_type": "code",
   "execution_count": null,
   "metadata": {
    "ExecuteTime": {
     "start_time": "2020-10-23T18:46:06.516Z"
    }
   },
   "outputs": [],
   "source": [
    "# Plot and export September 2018-2019 change\n",
    "fig, ax = stl.plot_monthly_comparison(\n",
    "    pre_change=no2_dict[\"2018\"][\"09\"],\n",
    "    post_change=no2_dict[\"2019\"][\"09\"],\n",
    "    extent_file=monthly_means[0],\n",
    "    country_boundaries=[north_korea_boundary_clipped, south_korea_boundary],\n",
    "    country_names=[\"North Korea\", \"South Korea\"],\n",
    "    change_type=\"percent\",\n",
    "    location=\"South Korea\",\n",
    "    titles=[\n",
    "        \"September 2018 Mean NO2 ($\\mathrm{mol \\cdot m^{-2}}$)\",\n",
    "        \"September 2019 Mean NO2 ($\\mathrm{mol \\cdot m^{-2}}$)\",\n",
    "        \"Change in Mean NO2 (%)\",\n",
    "    ],\n",
    "    data_source=\"European Space Agency\",\n",
    ")\n",
    "\n",
    "rd.save_figure(\n",
    "    os.path.join(\n",
    "        \"04-graphics-outputs\",\n",
    "        \"spatial-plots\",\n",
    "        \"south-korea\",\n",
    "        \"south-korea-no2-mean-change-percent-sep-2018-2019.png\",\n",
    "    )\n",
    ")"
   ]
  },
  {
   "cell_type": "code",
   "execution_count": null,
   "metadata": {
    "ExecuteTime": {
     "start_time": "2020-10-23T18:46:06.522Z"
    }
   },
   "outputs": [],
   "source": [
    "# Plot and export October 2018-2019 change\n",
    "fig, ax = stl.plot_monthly_comparison(\n",
    "    pre_change=no2_dict[\"2018\"][\"10\"],\n",
    "    post_change=no2_dict[\"2019\"][\"10\"],\n",
    "    extent_file=monthly_means[0],\n",
    "    country_boundaries=[north_korea_boundary_clipped, south_korea_boundary],\n",
    "    country_names=[\"North Korea\", \"South Korea\"],\n",
    "    change_type=\"percent\",\n",
    "    location=\"South Korea\",\n",
    "    titles=[\n",
    "        \"October 2018 Mean NO2 ($\\mathrm{mol \\cdot m^{-2}}$)\",\n",
    "        \"October 2019 Mean NO2 ($\\mathrm{mol \\cdot m^{-2}}$)\",\n",
    "        \"Change in Mean NO2 (%)\",\n",
    "    ],\n",
    "    data_source=\"European Space Agency\",\n",
    ")\n",
    "\n",
    "rd.save_figure(\n",
    "    os.path.join(\n",
    "        \"04-graphics-outputs\",\n",
    "        \"spatial-plots\",\n",
    "        \"south-korea\",\n",
    "        \"south-korea-no2-mean-change-percent-oct-2018-2019.png\",\n",
    "    )\n",
    ")"
   ]
  },
  {
   "cell_type": "code",
   "execution_count": null,
   "metadata": {
    "ExecuteTime": {
     "start_time": "2020-10-23T18:46:06.526Z"
    }
   },
   "outputs": [],
   "source": [
    "# Plot and export November 2018-2019 change\n",
    "fig, ax = stl.plot_monthly_comparison(\n",
    "    pre_change=no2_dict[\"2018\"][\"11\"],\n",
    "    post_change=no2_dict[\"2019\"][\"11\"],\n",
    "    extent_file=monthly_means[0],\n",
    "    country_boundaries=[north_korea_boundary_clipped, south_korea_boundary],\n",
    "    country_names=[\"North Korea\", \"South Korea\"],\n",
    "    change_type=\"percent\",\n",
    "    location=\"South Korea\",\n",
    "    titles=[\n",
    "        \"November 2018 Mean NO2 ($\\mathrm{mol \\cdot m^{-2}}$)\",\n",
    "        \"November 2019 Mean NO2 ($\\mathrm{mol \\cdot m^{-2}}$)\",\n",
    "        \"Change in Mean NO2 (%)\",\n",
    "    ],\n",
    "    data_source=\"European Space Agency\",\n",
    ")\n",
    "\n",
    "rd.save_figure(\n",
    "    os.path.join(\n",
    "        \"04-graphics-outputs\",\n",
    "        \"spatial-plots\",\n",
    "        \"south-korea\",\n",
    "        \"south-korea-no2-mean-change-percent-nov-2018-2019.png\",\n",
    "    )\n",
    ")"
   ]
  },
  {
   "cell_type": "code",
   "execution_count": null,
   "metadata": {
    "ExecuteTime": {
     "start_time": "2020-10-23T18:46:06.529Z"
    }
   },
   "outputs": [],
   "source": [
    "# Plot and export December 2018-2019 change\n",
    "fig, ax = stl.plot_monthly_comparison(\n",
    "    pre_change=no2_dict[\"2018\"][\"12\"],\n",
    "    post_change=no2_dict[\"2019\"][\"12\"],\n",
    "    extent_file=monthly_means[0],\n",
    "    country_boundaries=[north_korea_boundary_clipped, south_korea_boundary],\n",
    "    country_names=[\"North Korea\", \"South Korea\"],\n",
    "    change_type=\"percent\",\n",
    "    location=\"South Korea\",\n",
    "    titles=[\n",
    "        \"December 2018 Mean NO2 ($\\mathrm{mol \\cdot m^{-2}}$)\",\n",
    "        \"December 2019 Mean NO2 ($\\mathrm{mol \\cdot m^{-2}}$)\",\n",
    "        \"Change in Mean NO2 (%)\",\n",
    "    ],\n",
    "    data_source=\"European Space Agency\",\n",
    ")\n",
    "\n",
    "rd.save_figure(\n",
    "    os.path.join(\n",
    "        \"04-graphics-outputs\",\n",
    "        \"spatial-plots\",\n",
    "        \"south-korea\",\n",
    "        \"south-korea-no2-mean-change-percent-dec-2018-2019.png\",\n",
    "    )\n",
    ")"
   ]
  },
  {
   "cell_type": "code",
   "execution_count": null,
   "metadata": {
    "ExecuteTime": {
     "start_time": "2020-10-23T18:46:06.534Z"
    }
   },
   "outputs": [],
   "source": [
    "# Plot and export January 2019-2020 change\n",
    "fig, ax = stl.plot_monthly_comparison(\n",
    "    pre_change=no2_dict[\"2019\"][\"01\"],\n",
    "    post_change=no2_dict[\"2020\"][\"01\"],\n",
    "    extent_file=monthly_means[0],\n",
    "    country_boundaries=[north_korea_boundary_clipped, south_korea_boundary],\n",
    "    country_names=[\"North Korea\", \"South Korea\"],\n",
    "    change_type=\"percent\",\n",
    "    location=\"South Korea\",\n",
    "    titles=[\n",
    "        \"January 2019 Mean NO2 ($\\mathrm{mol \\cdot m^{-2}}$)\",\n",
    "        \"January 2020 Mean NO2 ($\\mathrm{mol \\cdot m^{-2}}$)\",\n",
    "        \"Change in Mean NO2 (%)\",\n",
    "    ],\n",
    "    data_source=\"European Space Agency\",\n",
    ")\n",
    "\n",
    "\n",
    "rd.save_figure(\n",
    "    os.path.join(\n",
    "        \"04-graphics-outputs\",\n",
    "        \"spatial-plots\",\n",
    "        \"south-korea\",\n",
    "        \"south-korea-no2-mean-change-percent-jan-2019-2020.png\",\n",
    "    )\n",
    ")"
   ]
  },
  {
   "cell_type": "code",
   "execution_count": null,
   "metadata": {
    "ExecuteTime": {
     "start_time": "2020-10-23T18:46:06.538Z"
    }
   },
   "outputs": [],
   "source": [
    "# Plot and export February 2019-2020 change\n",
    "fig, ax = stl.plot_monthly_comparison(\n",
    "    pre_change=no2_dict[\"2019\"][\"02\"],\n",
    "    post_change=no2_dict[\"2020\"][\"02\"],\n",
    "    extent_file=monthly_means[0],\n",
    "    country_boundaries=[north_korea_boundary_clipped, south_korea_boundary],\n",
    "    country_names=[\"North Korea\", \"South Korea\"],\n",
    "    change_type=\"percent\",\n",
    "    location=\"South Korea\",\n",
    "    titles=[\n",
    "        \"February 2019 Mean NO2 ($\\mathrm{mol \\cdot m^{-2}}$)\",\n",
    "        \"February 2020 Mean NO2 ($\\mathrm{mol \\cdot m^{-2}}$)\",\n",
    "        \"Change in Mean NO2 (%)\",\n",
    "    ],\n",
    "    data_source=\"European Space Agency\",\n",
    ")\n",
    "\n",
    "rd.save_figure(\n",
    "    os.path.join(\n",
    "        \"04-graphics-outputs\",\n",
    "        \"spatial-plots\",\n",
    "        \"south-korea\",\n",
    "        \"south-korea-no2-mean-change-percent-feb-2019-2020.png\",\n",
    "    )\n",
    ")"
   ]
  },
  {
   "cell_type": "code",
   "execution_count": null,
   "metadata": {
    "ExecuteTime": {
     "start_time": "2020-10-23T18:46:06.544Z"
    }
   },
   "outputs": [],
   "source": [
    "# Plot and export March 2019-2020 change\n",
    "fig, ax = stl.plot_monthly_comparison(\n",
    "    pre_change=no2_dict[\"2019\"][\"03\"],\n",
    "    post_change=no2_dict[\"2020\"][\"03\"],\n",
    "    extent_file=monthly_means[0],\n",
    "    country_boundaries=[north_korea_boundary_clipped, south_korea_boundary],\n",
    "    country_names=[\"North Korea\", \"South Korea\"],\n",
    "    change_type=\"percent\",\n",
    "    location=\"South Korea\",\n",
    "    titles=[\n",
    "        \"March 2019 Mean NO2 ($\\mathrm{mol \\cdot m^{-2}}$)\",\n",
    "        \"March 2020 Mean NO2 ($\\mathrm{mol \\cdot m^{-2}}$)\",\n",
    "        \"Change in Mean NO2 (%)\",\n",
    "    ],\n",
    "    data_source=\"European Space Agency\",\n",
    ")\n",
    "\n",
    "rd.save_figure(\n",
    "    os.path.join(\n",
    "        \"04-graphics-outputs\",\n",
    "        \"spatial-plots\",\n",
    "        \"south-korea\",\n",
    "        \"south-korea-no2-mean-change-percent-mar-2019-2020.png\",\n",
    "    )\n",
    ")"
   ]
  },
  {
   "cell_type": "code",
   "execution_count": null,
   "metadata": {
    "ExecuteTime": {
     "start_time": "2020-10-23T18:46:06.548Z"
    }
   },
   "outputs": [],
   "source": [
    "# Plot and export April 2019-2020 change\n",
    "fig, ax = stl.plot_monthly_comparison(\n",
    "    pre_change=no2_dict[\"2019\"][\"04\"],\n",
    "    post_change=no2_dict[\"2020\"][\"04\"],\n",
    "    extent_file=monthly_means[0],\n",
    "    country_boundaries=[north_korea_boundary_clipped, south_korea_boundary],\n",
    "    country_names=[\"North Korea\", \"South Korea\"],\n",
    "    change_type=\"percent\",\n",
    "    location=\"South Korea\",\n",
    "    titles=[\n",
    "        \"April 2019 Mean NO2 ($\\mathrm{mol \\cdot m^{-2}}$)\",\n",
    "        \"April 2020 Mean NO2 ($\\mathrm{mol \\cdot m^{-2}}$)\",\n",
    "        \"Change in Mean NO2 (%)\",\n",
    "    ],\n",
    "    data_source=\"European Space Agency\",\n",
    ")\n",
    "\n",
    "rd.save_figure(\n",
    "    os.path.join(\n",
    "        \"04-graphics-outputs\",\n",
    "        \"spatial-plots\",\n",
    "        \"south-korea\",\n",
    "        \"south-korea-no2-mean-change-percent-apr-2019-2020.png\",\n",
    "    )\n",
    ")"
   ]
  },
  {
   "cell_type": "code",
   "execution_count": null,
   "metadata": {
    "ExecuteTime": {
     "start_time": "2020-10-23T18:46:06.552Z"
    }
   },
   "outputs": [],
   "source": [
    "# Plot and export May 2019-2020 change\n",
    "fig, ax = stl.plot_monthly_comparison(\n",
    "    pre_change=no2_dict[\"2019\"][\"05\"],\n",
    "    post_change=no2_dict[\"2020\"][\"05\"],\n",
    "    extent_file=monthly_means[0],\n",
    "    country_boundaries=[north_korea_boundary_clipped, south_korea_boundary],\n",
    "    country_names=[\"North Korea\", \"South Korea\"],\n",
    "    change_type=\"percent\",\n",
    "    location=\"South Korea\",\n",
    "    titles=[\n",
    "        \"May 2019 Mean NO2 ($\\mathrm{mol \\cdot m^{-2}}$)\",\n",
    "        \"May 2020 Mean NO2 ($\\mathrm{mol \\cdot m^{-2}}$)\",\n",
    "        \"Change in Mean NO2 (%)\",\n",
    "    ],\n",
    "    data_source=\"European Space Agency\",\n",
    ")\n",
    "\n",
    "rd.save_figure(\n",
    "    os.path.join(\n",
    "        \"04-graphics-outputs\",\n",
    "        \"spatial-plots\",\n",
    "        \"south-korea\",\n",
    "        \"south-korea-no2-mean-change-percent-may-2019-2020.png\",\n",
    "    )\n",
    ")"
   ]
  },
  {
   "cell_type": "code",
   "execution_count": null,
   "metadata": {
    "ExecuteTime": {
     "start_time": "2020-10-23T18:46:06.556Z"
    }
   },
   "outputs": [],
   "source": [
    "# Plot and export June 2019-2020 change\n",
    "fig, ax = stl.plot_monthly_comparison(\n",
    "    pre_change=no2_dict[\"2019\"][\"06\"],\n",
    "    post_change=no2_dict[\"2020\"][\"06\"],\n",
    "    extent_file=monthly_means[0],\n",
    "    country_boundaries=[north_korea_boundary_clipped, south_korea_boundary],\n",
    "    country_names=[\"North Korea\", \"South Korea\"],\n",
    "    change_type=\"percent\",\n",
    "    location=\"South Korea\",\n",
    "    titles=[\n",
    "        \"June 2019 Mean NO2 ($\\mathrm{mol \\cdot m^{-2}}$)\",\n",
    "        \"June 2020 Mean NO2 ($\\mathrm{mol \\cdot m^{-2}}$)\",\n",
    "        \"Change in Mean NO2 (%)\",\n",
    "    ],\n",
    "    data_source=\"European Space Agency\",\n",
    ")\n",
    "\n",
    "rd.save_figure(\n",
    "    os.path.join(\n",
    "        \"04-graphics-outputs\",\n",
    "        \"spatial-plots\",\n",
    "        \"south-korea\",\n",
    "        \"south-korea-no2-mean-change-percent-jun-2019-2020.png\",\n",
    "    )\n",
    ")"
   ]
  },
  {
   "cell_type": "code",
   "execution_count": null,
   "metadata": {
    "ExecuteTime": {
     "start_time": "2020-10-23T18:46:06.560Z"
    }
   },
   "outputs": [],
   "source": [
    "# Plot and export July 2019-2020 change\n",
    "fig, ax = stl.plot_monthly_comparison(\n",
    "    pre_change=no2_dict[\"2019\"][\"07\"],\n",
    "    post_change=no2_dict[\"2020\"][\"07\"],\n",
    "    extent_file=monthly_means[0],\n",
    "    country_boundaries=[north_korea_boundary_clipped, south_korea_boundary],\n",
    "    country_names=[\"North Korea\", \"South Korea\"],\n",
    "    change_type=\"percent\",\n",
    "    location=\"South Korea\",\n",
    "    titles=[\n",
    "        \"Jul 2019 Mean NO2 ($\\mathrm{mol \\cdot m^{-2}}$)\",\n",
    "        \"Jul 2020 Mean NO2 ($\\mathrm{mol \\cdot m^{-2}}$)\",\n",
    "        \"Change in Mean NO2 (%)\",\n",
    "    ],\n",
    "    data_source=\"European Space Agency\",\n",
    ")\n",
    "\n",
    "rd.save_figure(\n",
    "    os.path.join(\n",
    "        \"04-graphics-outputs\",\n",
    "        \"spatial-plots\",\n",
    "        \"south-korea\",\n",
    "        \"south-korea-no2-mean-change-percent-jul-2019-2020.png\",\n",
    "    )\n",
    ")"
   ]
  },
  {
   "cell_type": "markdown",
   "metadata": {},
   "source": [
    "#### Limited Scale"
   ]
  },
  {
   "cell_type": "code",
   "execution_count": null,
   "metadata": {
    "ExecuteTime": {
     "start_time": "2020-10-23T18:46:06.567Z"
    }
   },
   "outputs": [],
   "source": [
    "# Plot and export July 2018-2019 change\n",
    "fig, ax = stl.plot_monthly_comparison_limit_scale(\n",
    "    pre_change=no2_dict[\"2018\"][\"07\"],\n",
    "    post_change=no2_dict[\"2019\"][\"07\"],\n",
    "    extent_file=monthly_means[0],\n",
    "    country_boundaries=[north_korea_boundary_clipped, south_korea_boundary],\n",
    "    country_names=[\"North Korea\", \"South Korea\"],\n",
    "    change_type=\"percent\",\n",
    "    location=\"South Korea\",\n",
    "    titles=[\n",
    "        \"July 2018 Mean NO2 ($\\mathrm{mol \\cdot m^{-2}}$)\",\n",
    "        \"July 2019 Mean NO2 ($\\mathrm{mol \\cdot m^{-2}}$)\",\n",
    "        \"Change in Mean NO2 (%)\",\n",
    "    ],\n",
    "    data_source=\"European Space Agency\",\n",
    ")\n",
    "\n",
    "rd.save_figure(\n",
    "    os.path.join(\n",
    "        \"04-graphics-outputs\",\n",
    "        \"spatial-plots\",\n",
    "        \"south-korea\",\n",
    "        \"south-korea-no2-mean-change-percent-limited-scale-jul-2018-2019.png\",\n",
    "    )\n",
    ")"
   ]
  },
  {
   "cell_type": "code",
   "execution_count": null,
   "metadata": {
    "ExecuteTime": {
     "start_time": "2020-10-23T18:46:06.571Z"
    }
   },
   "outputs": [],
   "source": [
    "# Plot and export August 2018-2019 change\n",
    "fig, ax = stl.plot_monthly_comparison_limit_scale(\n",
    "    pre_change=no2_dict[\"2018\"][\"08\"],\n",
    "    post_change=no2_dict[\"2019\"][\"08\"],\n",
    "    extent_file=monthly_means[0],\n",
    "    country_boundaries=[north_korea_boundary_clipped, south_korea_boundary],\n",
    "    country_names=[\"North Korea\", \"South Korea\"],\n",
    "    change_type=\"percent\",\n",
    "    location=\"South Korea\",\n",
    "    titles=[\n",
    "        \"August 2018 Mean NO2 ($\\mathrm{mol \\cdot m^{-2}}$)\",\n",
    "        \"August 2019 Mean NO2 ($\\mathrm{mol \\cdot m^{-2}}$)\",\n",
    "        \"Change in Mean NO2 (%)\",\n",
    "    ],\n",
    "    data_source=\"European Space Agency\",\n",
    ")\n",
    "\n",
    "rd.save_figure(\n",
    "    os.path.join(\n",
    "        \"04-graphics-outputs\",\n",
    "        \"spatial-plots\",\n",
    "        \"south-korea\",\n",
    "        \"south-korea-no2-mean-change-percent-limited-scale-aug-2018-2019.png\",\n",
    "    )\n",
    ")"
   ]
  },
  {
   "cell_type": "code",
   "execution_count": null,
   "metadata": {
    "ExecuteTime": {
     "start_time": "2020-10-23T18:46:06.575Z"
    }
   },
   "outputs": [],
   "source": [
    "# Plot and export September 2018-2019 change\n",
    "fig, ax = stl.plot_monthly_comparison_limit_scale(\n",
    "    pre_change=no2_dict[\"2018\"][\"09\"],\n",
    "    post_change=no2_dict[\"2019\"][\"09\"],\n",
    "    extent_file=monthly_means[0],\n",
    "    country_boundaries=[north_korea_boundary_clipped, south_korea_boundary],\n",
    "    country_names=[\"North Korea\", \"South Korea\"],\n",
    "    change_type=\"percent\",\n",
    "    location=\"South Korea\",\n",
    "    titles=[\n",
    "        \"September 2018 Mean NO2 ($\\mathrm{mol \\cdot m^{-2}}$)\",\n",
    "        \"September 2019 Mean NO2 ($\\mathrm{mol \\cdot m^{-2}}$)\",\n",
    "        \"Change in Mean NO2 (%)\",\n",
    "    ],\n",
    "    data_source=\"European Space Agency\",\n",
    ")\n",
    "\n",
    "rd.save_figure(\n",
    "    os.path.join(\n",
    "        \"04-graphics-outputs\",\n",
    "        \"spatial-plots\",\n",
    "        \"south-korea\",\n",
    "        \"south-korea-no2-mean-change-percent-limited-scale-sep-2018-2019.png\",\n",
    "    )\n",
    ")"
   ]
  },
  {
   "cell_type": "code",
   "execution_count": null,
   "metadata": {
    "ExecuteTime": {
     "start_time": "2020-10-23T18:46:06.579Z"
    }
   },
   "outputs": [],
   "source": [
    "# Plot and export October 2018-2019 change\n",
    "fig, ax = stl.plot_monthly_comparison_limit_scale(\n",
    "    pre_change=no2_dict[\"2018\"][\"10\"],\n",
    "    post_change=no2_dict[\"2019\"][\"10\"],\n",
    "    extent_file=monthly_means[0],\n",
    "    country_boundaries=[north_korea_boundary_clipped, south_korea_boundary],\n",
    "    country_names=[\"North Korea\", \"South Korea\"],\n",
    "    change_type=\"percent\",\n",
    "    location=\"South Korea\",\n",
    "    titles=[\n",
    "        \"October 2018 Mean NO2 ($\\mathrm{mol \\cdot m^{-2}}$)\",\n",
    "        \"October 2019 Mean NO2 ($\\mathrm{mol \\cdot m^{-2}}$)\",\n",
    "        \"Change in Mean NO2 (%)\",\n",
    "    ],\n",
    "    data_source=\"European Space Agency\",\n",
    ")\n",
    "\n",
    "rd.save_figure(\n",
    "    os.path.join(\n",
    "        \"04-graphics-outputs\",\n",
    "        \"spatial-plots\",\n",
    "        \"south-korea\",\n",
    "        \"south-korea-no2-mean-change-percent-limited-scale-oct-2018-2019.png\",\n",
    "    )\n",
    ")"
   ]
  },
  {
   "cell_type": "code",
   "execution_count": null,
   "metadata": {
    "ExecuteTime": {
     "start_time": "2020-10-23T18:46:06.584Z"
    }
   },
   "outputs": [],
   "source": [
    "# Plot and export November 2018-2019 change\n",
    "fig, ax = stl.plot_monthly_comparison_limit_scale(\n",
    "    pre_change=no2_dict[\"2018\"][\"11\"],\n",
    "    post_change=no2_dict[\"2019\"][\"11\"],\n",
    "    extent_file=monthly_means[0],\n",
    "    country_boundaries=[north_korea_boundary_clipped, south_korea_boundary],\n",
    "    country_names=[\"North Korea\", \"South Korea\"],\n",
    "    change_type=\"percent\",\n",
    "    location=\"South Korea\",\n",
    "    titles=[\n",
    "        \"November 2018 Mean NO2 ($\\mathrm{mol \\cdot m^{-2}}$)\",\n",
    "        \"November 2019 Mean NO2 ($\\mathrm{mol \\cdot m^{-2}}$)\",\n",
    "        \"Change in Mean NO2 (%)\",\n",
    "    ],\n",
    "    data_source=\"European Space Agency\",\n",
    ")\n",
    "\n",
    "rd.save_figure(\n",
    "    os.path.join(\n",
    "        \"04-graphics-outputs\",\n",
    "        \"spatial-plots\",\n",
    "        \"south-korea\",\n",
    "        \"south-korea-no2-mean-change-percent-limited-scale-nov-2018-2019.png\",\n",
    "    )\n",
    ")"
   ]
  },
  {
   "cell_type": "code",
   "execution_count": null,
   "metadata": {
    "ExecuteTime": {
     "start_time": "2020-10-23T18:46:06.587Z"
    }
   },
   "outputs": [],
   "source": [
    "# Plot and export December 2018-2019 change\n",
    "fig, ax = stl.plot_monthly_comparison_limit_scale(\n",
    "    pre_change=no2_dict[\"2018\"][\"12\"],\n",
    "    post_change=no2_dict[\"2019\"][\"12\"],\n",
    "    extent_file=monthly_means[0],\n",
    "    country_boundaries=[north_korea_boundary_clipped, south_korea_boundary],\n",
    "    country_names=[\"North Korea\", \"South Korea\"],\n",
    "    change_type=\"percent\",\n",
    "    location=\"South Korea\",\n",
    "    titles=[\n",
    "        \"December 2018 Mean NO2 ($\\mathrm{mol \\cdot m^{-2}}$)\",\n",
    "        \"December 2019 Mean NO2 ($\\mathrm{mol \\cdot m^{-2}}$)\",\n",
    "        \"Change in Mean NO2 (%)\",\n",
    "    ],\n",
    "    data_source=\"European Space Agency\",\n",
    ")\n",
    "\n",
    "rd.save_figure(\n",
    "    os.path.join(\n",
    "        \"04-graphics-outputs\",\n",
    "        \"spatial-plots\",\n",
    "        \"south-korea\",\n",
    "        \"south-korea-no2-mean-change-percent-limited-scale-dec-2018-2019.png\",\n",
    "    )\n",
    ")"
   ]
  },
  {
   "cell_type": "code",
   "execution_count": null,
   "metadata": {
    "ExecuteTime": {
     "start_time": "2020-10-23T18:46:06.592Z"
    }
   },
   "outputs": [],
   "source": [
    "# Plot and export January 2019-2020 change\n",
    "fig, ax = stl.plot_monthly_comparison_limit_scale(\n",
    "    pre_change=no2_dict[\"2019\"][\"01\"],\n",
    "    post_change=no2_dict[\"2020\"][\"01\"],\n",
    "    extent_file=monthly_means[0],\n",
    "    country_boundaries=[north_korea_boundary_clipped, south_korea_boundary],\n",
    "    country_names=[\"North Korea\", \"South Korea\"],\n",
    "    change_type=\"percent\",\n",
    "    location=\"South Korea\",\n",
    "    titles=[\n",
    "        \"January 2019 Mean NO2 ($\\mathrm{mol \\cdot m^{-2}}$)\",\n",
    "        \"January 2020 Mean NO2 ($\\mathrm{mol \\cdot m^{-2}}$)\",\n",
    "        \"Change in Mean NO2 (%)\",\n",
    "    ],\n",
    "    data_source=\"European Space Agency\",\n",
    ")\n",
    "\n",
    "\n",
    "rd.save_figure(\n",
    "    os.path.join(\n",
    "        \"04-graphics-outputs\",\n",
    "        \"spatial-plots\",\n",
    "        \"south-korea\",\n",
    "        \"south-korea-no2-mean-change-percent-limited-scale-jan-2019-2020.png\",\n",
    "    )\n",
    ")"
   ]
  },
  {
   "cell_type": "code",
   "execution_count": null,
   "metadata": {
    "ExecuteTime": {
     "start_time": "2020-10-23T18:46:06.598Z"
    }
   },
   "outputs": [],
   "source": [
    "# Plot and export February 2019-2020 change\n",
    "fig, ax = stl.plot_monthly_comparison_limit_scale(\n",
    "    pre_change=no2_dict[\"2019\"][\"02\"],\n",
    "    post_change=no2_dict[\"2020\"][\"02\"],\n",
    "    extent_file=monthly_means[0],\n",
    "    country_boundaries=[north_korea_boundary_clipped, south_korea_boundary],\n",
    "    country_names=[\"North Korea\", \"South Korea\"],\n",
    "    change_type=\"percent\",\n",
    "    location=\"South Korea\",\n",
    "    titles=[\n",
    "        \"February 2019 Mean NO2 ($\\mathrm{mol \\cdot m^{-2}}$)\",\n",
    "        \"February 2020 Mean NO2 ($\\mathrm{mol \\cdot m^{-2}}$)\",\n",
    "        \"Change in Mean NO2 (%)\",\n",
    "    ],\n",
    "    data_source=\"European Space Agency\",\n",
    ")\n",
    "\n",
    "rd.save_figure(\n",
    "    os.path.join(\n",
    "        \"04-graphics-outputs\",\n",
    "        \"spatial-plots\",\n",
    "        \"south-korea\",\n",
    "        \"south-korea-no2-mean-change-percent-limited-scale-feb-2019-2020.png\",\n",
    "    )\n",
    ")"
   ]
  },
  {
   "cell_type": "code",
   "execution_count": null,
   "metadata": {
    "ExecuteTime": {
     "start_time": "2020-10-23T18:46:06.602Z"
    }
   },
   "outputs": [],
   "source": [
    "# Plot and export March 2019-2020 change\n",
    "fig, ax = stl.plot_monthly_comparison_limit_scale(\n",
    "    pre_change=no2_dict[\"2019\"][\"03\"],\n",
    "    post_change=no2_dict[\"2020\"][\"03\"],\n",
    "    extent_file=monthly_means[0],\n",
    "    country_boundaries=[north_korea_boundary_clipped, south_korea_boundary],\n",
    "    country_names=[\"North Korea\", \"South Korea\"],\n",
    "    change_type=\"percent\",\n",
    "    location=\"South Korea\",\n",
    "    titles=[\n",
    "        \"March 2019 Mean NO2 ($\\mathrm{mol \\cdot m^{-2}}$)\",\n",
    "        \"March 2020 Mean NO2 ($\\mathrm{mol \\cdot m^{-2}}$)\",\n",
    "        \"Change in Mean NO2 (%)\",\n",
    "    ],\n",
    "    data_source=\"European Space Agency\",\n",
    ")\n",
    "\n",
    "rd.save_figure(\n",
    "    os.path.join(\n",
    "        \"04-graphics-outputs\",\n",
    "        \"spatial-plots\",\n",
    "        \"south-korea\",\n",
    "        \"south-korea-no2-mean-change-percent-limited-scale-mar-2019-2020.png\",\n",
    "    )\n",
    ")"
   ]
  },
  {
   "cell_type": "code",
   "execution_count": null,
   "metadata": {
    "ExecuteTime": {
     "start_time": "2020-10-23T18:46:06.606Z"
    }
   },
   "outputs": [],
   "source": [
    "# Plot and export April 2019-2020 change\n",
    "fig, ax = stl.plot_monthly_comparison_limit_scale(\n",
    "    pre_change=no2_dict[\"2019\"][\"04\"],\n",
    "    post_change=no2_dict[\"2020\"][\"04\"],\n",
    "    extent_file=monthly_means[0],\n",
    "    country_boundaries=[north_korea_boundary_clipped, south_korea_boundary],\n",
    "    country_names=[\"North Korea\", \"South Korea\"],\n",
    "    change_type=\"percent\",\n",
    "    location=\"South Korea\",\n",
    "    titles=[\n",
    "        \"April 2019 Mean NO2 ($\\mathrm{mol \\cdot m^{-2}}$)\",\n",
    "        \"April 2020 Mean NO2 ($\\mathrm{mol \\cdot m^{-2}}$)\",\n",
    "        \"Change in Mean NO2 (%)\",\n",
    "    ],\n",
    "    data_source=\"European Space Agency\",\n",
    ")\n",
    "\n",
    "rd.save_figure(\n",
    "    os.path.join(\n",
    "        \"04-graphics-outputs\",\n",
    "        \"spatial-plots\",\n",
    "        \"south-korea\",\n",
    "        \"south-korea-no2-mean-change-percent-limited-scale-apr-2019-2020.png\",\n",
    "    )\n",
    ")"
   ]
  },
  {
   "cell_type": "code",
   "execution_count": null,
   "metadata": {
    "ExecuteTime": {
     "start_time": "2020-10-23T18:46:06.611Z"
    }
   },
   "outputs": [],
   "source": [
    "# Plot and export May 2019-2020 change\n",
    "fig, ax = stl.plot_monthly_comparison_limit_scale(\n",
    "    pre_change=no2_dict[\"2019\"][\"05\"],\n",
    "    post_change=no2_dict[\"2020\"][\"05\"],\n",
    "    extent_file=monthly_means[0],\n",
    "    country_boundaries=[north_korea_boundary_clipped, south_korea_boundary],\n",
    "    country_names=[\"North Korea\", \"South Korea\"],\n",
    "    change_type=\"percent\",\n",
    "    location=\"South Korea\",\n",
    "    titles=[\n",
    "        \"May 2019 Mean NO2 ($\\mathrm{mol \\cdot m^{-2}}$)\",\n",
    "        \"May 2020 Mean NO2 ($\\mathrm{mol \\cdot m^{-2}}$)\",\n",
    "        \"Change in Mean NO2 (%)\",\n",
    "    ],\n",
    "    data_source=\"European Space Agency\",\n",
    ")\n",
    "\n",
    "rd.save_figure(\n",
    "    os.path.join(\n",
    "        \"04-graphics-outputs\",\n",
    "        \"spatial-plots\",\n",
    "        \"south-korea\",\n",
    "        \"south-korea-no2-mean-change-percent-limited-scale-may-2019-2020.png\",\n",
    "    )\n",
    ")"
   ]
  },
  {
   "cell_type": "code",
   "execution_count": null,
   "metadata": {
    "ExecuteTime": {
     "start_time": "2020-10-23T18:46:06.617Z"
    }
   },
   "outputs": [],
   "source": [
    "# Plot and export June 2019-2020 change\n",
    "fig, ax = stl.plot_monthly_comparison_limit_scale(\n",
    "    pre_change=no2_dict[\"2019\"][\"06\"],\n",
    "    post_change=no2_dict[\"2020\"][\"06\"],\n",
    "    extent_file=monthly_means[0],\n",
    "    country_boundaries=[north_korea_boundary_clipped, south_korea_boundary],\n",
    "    country_names=[\"North Korea\", \"South Korea\"],\n",
    "    change_type=\"percent\",\n",
    "    location=\"South Korea\",\n",
    "    titles=[\n",
    "        \"June 2019 Mean NO2 ($\\mathrm{mol \\cdot m^{-2}}$)\",\n",
    "        \"June 2020 Mean NO2 ($\\mathrm{mol \\cdot m^{-2}}$)\",\n",
    "        \"Change in Mean NO2 (%)\",\n",
    "    ],\n",
    "    data_source=\"European Space Agency\",\n",
    ")\n",
    "\n",
    "rd.save_figure(\n",
    "    os.path.join(\n",
    "        \"04-graphics-outputs\",\n",
    "        \"spatial-plots\",\n",
    "        \"south-korea\",\n",
    "        \"south-korea-no2-mean-change-percent-limited-scale-jun-2019-2020.png\",\n",
    "    )\n",
    ")"
   ]
  },
  {
   "cell_type": "code",
   "execution_count": null,
   "metadata": {
    "ExecuteTime": {
     "start_time": "2020-10-23T18:46:06.621Z"
    }
   },
   "outputs": [],
   "source": [
    "# Plot and export July 2019-2020 change\n",
    "fig, ax = stl.plot_monthly_comparison_limit_scale(\n",
    "    pre_change=no2_dict[\"2019\"][\"07\"],\n",
    "    post_change=no2_dict[\"2020\"][\"07\"],\n",
    "    extent_file=monthly_means[0],\n",
    "    country_boundaries=[north_korea_boundary_clipped, south_korea_boundary],\n",
    "    country_names=[\"North Korea\", \"South Korea\"],\n",
    "    change_type=\"percent\",\n",
    "    location=\"South Korea\",\n",
    "    titles=[\n",
    "        \"Jul 2019 Mean NO2 ($\\mathrm{mol \\cdot m^{-2}}$)\",\n",
    "        \"Jul 2020 Mean NO2 ($\\mathrm{mol \\cdot m^{-2}}$)\",\n",
    "        \"Change in Mean NO2 (%)\",\n",
    "    ],\n",
    "    data_source=\"European Space Agency\",\n",
    ")\n",
    "\n",
    "rd.save_figure(\n",
    "    os.path.join(\n",
    "        \"04-graphics-outputs\",\n",
    "        \"spatial-plots\",\n",
    "        \"south-korea\",\n",
    "        \"south-korea-no2-mean-change-percent-limited-scale-jul-2019-2020.png\",\n",
    "    )\n",
    ")"
   ]
  },
  {
   "cell_type": "code",
   "execution_count": null,
   "metadata": {
    "ExecuteTime": {
     "start_time": "2020-10-23T18:46:06.625Z"
    }
   },
   "outputs": [],
   "source": [
    "# Unload Notebook formatter\n",
    "%unload_ext nb_black"
   ]
  }
 ],
 "metadata": {
  "hide_input": false,
  "kernelspec": {
   "display_name": "Python 3",
   "language": "python",
   "name": "python3"
  },
  "language_info": {
   "codemirror_mode": {
    "name": "ipython",
    "version": 3
   },
   "file_extension": ".py",
   "mimetype": "text/x-python",
   "name": "python",
   "nbconvert_exporter": "python",
   "pygments_lexer": "ipython3",
   "version": "3.7.6"
  },
  "toc": {
   "base_numbering": 1,
   "nav_menu": {
    "height": "344px",
    "width": "268px"
   },
   "number_sections": true,
   "sideBar": true,
   "skip_h1_title": false,
   "title_cell": "Table of Contents",
   "title_sidebar": "Contents",
   "toc_cell": false,
   "toc_position": {},
   "toc_section_display": true,
   "toc_window_display": true
  },
  "varInspector": {
   "cols": {
    "lenName": 16,
    "lenType": 16,
    "lenVar": 40
   },
   "kernels_config": {
    "python": {
     "delete_cmd_postfix": "",
     "delete_cmd_prefix": "del ",
     "library": "var_list.py",
     "varRefreshCmd": "print(var_dic_list())"
    },
    "r": {
     "delete_cmd_postfix": ") ",
     "delete_cmd_prefix": "rm(",
     "library": "var_list.r",
     "varRefreshCmd": "cat(var_dic_list()) "
    }
   },
   "types_to_exclude": [
    "module",
    "function",
    "builtin_function_or_method",
    "instance",
    "_Feature"
   ],
   "window_display": false
  }
 },
 "nbformat": 4,
 "nbformat_minor": 4
}
