{
 "cells": [
  {
   "cell_type": "markdown",
   "metadata": {},
   "source": [
    "# Sentinel-5P Monthly Comparisons"
   ]
  },
  {
   "cell_type": "markdown",
   "metadata": {},
   "source": [
    "## Environment Setup"
   ]
  },
  {
   "cell_type": "code",
   "execution_count": null,
   "metadata": {
    "ExecuteTime": {
     "end_time": "2020-10-22T18:26:49.292243Z",
     "start_time": "2020-10-22T18:26:49.126686Z"
    }
   },
   "outputs": [],
   "source": [
    "# Load Notebook formatter\n",
    "%load_ext nb_black\n",
    "# %reload_ext nb_black"
   ]
  },
  {
   "cell_type": "code",
   "execution_count": null,
   "metadata": {
    "ExecuteTime": {
     "end_time": "2020-10-22T18:26:51.443807Z",
     "start_time": "2020-10-22T18:26:49.295235Z"
    }
   },
   "outputs": [],
   "source": [
    "# Imports\n",
    "import os\n",
    "import glob\n",
    "import matplotlib.pyplot as plt\n",
    "import numpy as np\n",
    "import seaborn as sns\n",
    "import geopandas as gpd\n",
    "import rasterio as rio\n",
    "import earthpy as et\n",
    "import earthpy.plot as ep\n",
    "import radiance as rd\n",
    "import sentinel as stl"
   ]
  },
  {
   "cell_type": "code",
   "execution_count": null,
   "metadata": {
    "ExecuteTime": {
     "end_time": "2020-10-22T18:26:51.459769Z",
     "start_time": "2020-10-22T18:26:51.446799Z"
    }
   },
   "outputs": [],
   "source": [
    "# Set Options\n",
    "sns.set(font_scale=1.5, style=\"whitegrid\")"
   ]
  },
  {
   "cell_type": "code",
   "execution_count": null,
   "metadata": {
    "ExecuteTime": {
     "end_time": "2020-10-22T18:26:51.477719Z",
     "start_time": "2020-10-22T18:26:51.462756Z"
    }
   },
   "outputs": [],
   "source": [
    "# Set working directory\n",
    "os.chdir(\"..\")\n",
    "print(f\"Working directory: {os.getcwd()}\")"
   ]
  },
  {
   "cell_type": "markdown",
   "metadata": {},
   "source": [
    "## Data Acquisition and Preprocessing"
   ]
  },
  {
   "cell_type": "markdown",
   "metadata": {},
   "source": [
    "### Raster"
   ]
  },
  {
   "cell_type": "code",
   "execution_count": null,
   "metadata": {
    "ExecuteTime": {
     "end_time": "2020-10-22T18:26:51.493674Z",
     "start_time": "2020-10-22T18:26:51.480736Z"
    }
   },
   "outputs": [],
   "source": [
    "# Get all mean files into list\n",
    "monthly_means = glob.glob(\n",
    "    os.path.join(\n",
    "        \"03-processed-data\",\n",
    "        \"raster\",\n",
    "        \"singapore\",\n",
    "        \"statistics\",\n",
    "        \"monthly\",\n",
    "        \"*MEAN*tif\",\n",
    "    )\n",
    ")"
   ]
  },
  {
   "cell_type": "code",
   "execution_count": null,
   "metadata": {
    "ExecuteTime": {
     "end_time": "2020-10-22T18:26:51.673195Z",
     "start_time": "2020-10-22T18:26:51.495680Z"
    }
   },
   "outputs": [],
   "source": [
    "# Read monthly mean GeoTiffs into arrays and store in dictionary\n",
    "no2_dict = {}\n",
    "for geotiff in monthly_means:\n",
    "    # Read GeoTiff into array\n",
    "    with rio.open(geotiff) as src:\n",
    "        array = src.read(1)\n",
    "    # Replace NAN values with 0.0 if necessary\n",
    "    # Counts number of isnan() results that are True\n",
    "    if np.count_nonzero(np.isnan(array)) > 0:\n",
    "        np.nan_to_num(array, copy=False, nan=0.0)\n",
    "    # CONVERT UNITS FROM MOL/M2 to MOLECULES/CM2\n",
    "    # Store in dictionary, indexed by dictionary[YEAR][MONTH]\n",
    "    year, month = (\n",
    "        os.path.basename(geotiff)[16:20],\n",
    "        os.path.basename(geotiff)[20:22],\n",
    "    )\n",
    "    if year not in no2_dict.keys():\n",
    "        no2_dict[year] = {}\n",
    "    if month not in no2_dict[year].keys():\n",
    "        no2_dict[year][month] = array"
   ]
  },
  {
   "cell_type": "code",
   "execution_count": null,
   "metadata": {
    "ExecuteTime": {
     "end_time": "2020-10-22T18:26:51.688155Z",
     "start_time": "2020-10-22T18:26:51.677184Z"
    }
   },
   "outputs": [],
   "source": [
    "# Check top-level keys (years)\n",
    "no2_dict.keys()"
   ]
  },
  {
   "cell_type": "code",
   "execution_count": null,
   "metadata": {
    "ExecuteTime": {
     "end_time": "2020-10-22T18:26:51.700155Z",
     "start_time": "2020-10-22T18:26:51.691147Z"
    }
   },
   "outputs": [],
   "source": [
    "# Check second-level keys (months)\n",
    "no2_dict[\"2020\"].keys()"
   ]
  },
  {
   "cell_type": "code",
   "execution_count": null,
   "metadata": {
    "ExecuteTime": {
     "end_time": "2020-10-22T18:26:51.714085Z",
     "start_time": "2020-10-22T18:26:51.702126Z"
    }
   },
   "outputs": [],
   "source": [
    "# Check single entry\n",
    "no2_dict[\"2020\"][\"05\"].shape"
   ]
  },
  {
   "cell_type": "markdown",
   "metadata": {},
   "source": [
    "### Vector"
   ]
  },
  {
   "cell_type": "code",
   "execution_count": null,
   "metadata": {
    "ExecuteTime": {
     "end_time": "2020-10-22T18:26:51.737024Z",
     "start_time": "2020-10-22T18:26:51.717078Z"
    }
   },
   "outputs": [],
   "source": [
    "# Extract plotting extent\n",
    "singapore_extent = stl.extract_plotting_extent(monthly_means[0])\n",
    "print(f\"Singapore Extent: {singapore_extent}\")"
   ]
  },
  {
   "cell_type": "code",
   "execution_count": null,
   "metadata": {
    "ExecuteTime": {
     "end_time": "2020-10-22T18:26:51.881655Z",
     "start_time": "2020-10-22T18:26:51.740025Z"
    }
   },
   "outputs": [],
   "source": [
    "# Define path to Singapore shapefile\n",
    "singapore_shp_path = os.path.join(\n",
    "    \"02-raw-data\", \"vector\", \"singapore\", \"gadm36_singapore.shp\"\n",
    ")\n",
    "\n",
    "# Read Singapore shapefile into geodataframe and project if necessary\n",
    "singapore_boundary = stl.project_vector(\n",
    "    vector_path=singapore_shp_path, raster_path=monthly_means[0]\n",
    ")\n",
    "\n",
    "# Create extent polygon\n",
    "singapore_polygon = stl.create_polygon_from_extent(singapore_extent)\n",
    "\n",
    "print(f\"Singapore CRS: {singapore_boundary.crs}\")\n",
    "print(f\"Singapore Bounds:\\n{singapore_boundary.bounds.loc[0]}\")"
   ]
  },
  {
   "cell_type": "code",
   "execution_count": null,
   "metadata": {
    "ExecuteTime": {
     "end_time": "2020-10-22T18:26:53.514142Z",
     "start_time": "2020-10-22T18:26:51.883632Z"
    }
   },
   "outputs": [],
   "source": [
    "# Define path to Malaysia shapefile\n",
    "malaysia_shp_path = os.path.join(\n",
    "    \"02-raw-data\", \"vector\", \"malaysia\", \"gadm36_malaysia.shp\"\n",
    ")\n",
    "\n",
    "# Read Malaysia shapefile into geodataframe and project if necessary\n",
    "malaysia_boundary = stl.project_vector(\n",
    "    vector_path=malaysia_shp_path, raster_path=monthly_means[0]\n",
    ")\n",
    "\n",
    "print(f\"Malaysia CRS: {malaysia_boundary.crs}\")\n",
    "print(f\"Malaysia Bounds:\\n{malaysia_boundary.bounds.loc[0]}\")\n",
    "\n",
    "# Clip Malaysia to Singapore extent polygon\n",
    "malaysia_boundary_clipped = gpd.clip(\n",
    "    gpd.GeoDataFrame(geometry=[singapore_polygon], crs=malaysia_boundary.crs),\n",
    "    malaysia_boundary,\n",
    ")\n",
    "\n",
    "print(f\"\\nMalaysia Clipped CRS: {malaysia_boundary_clipped.crs}\")\n",
    "print(\n",
    "    f\"North Korea Clipped Bounds:\\n{malaysia_boundary_clipped.bounds.loc[0]}\"\n",
    ")"
   ]
  },
  {
   "cell_type": "code",
   "execution_count": null,
   "metadata": {
    "ExecuteTime": {
     "end_time": "2020-10-22T18:26:53.837309Z",
     "start_time": "2020-10-22T18:26:53.517149Z"
    }
   },
   "outputs": [],
   "source": [
    "# Display clipped boundary\n",
    "malaysia_boundary_clipped.boundary.plot()"
   ]
  },
  {
   "cell_type": "markdown",
   "metadata": {},
   "source": [
    "## Data Processing"
   ]
  },
  {
   "cell_type": "markdown",
   "metadata": {},
   "source": [
    "### Magnitude Change"
   ]
  },
  {
   "cell_type": "code",
   "execution_count": null,
   "metadata": {
    "ExecuteTime": {
     "end_time": "2020-10-22T18:26:53.900109Z",
     "start_time": "2020-10-22T18:26:53.839272Z"
    }
   },
   "outputs": [],
   "source": [
    "# Calculate magnitude change\n",
    "magnitude_change_jul_2018_2019 = stl.calculate_magnitude_change(\n",
    "    pre_change=no2_dict[\"2018\"][\"07\"], post_change=no2_dict[\"2019\"][\"07\"]\n",
    ")\n",
    "\n",
    "magnitude_change_aug_2018_2019 = stl.calculate_magnitude_change(\n",
    "    pre_change=no2_dict[\"2018\"][\"08\"], post_change=no2_dict[\"2019\"][\"08\"]\n",
    ")\n",
    "\n",
    "magnitude_change_sep_2018_2019 = stl.calculate_magnitude_change(\n",
    "    pre_change=no2_dict[\"2018\"][\"09\"], post_change=no2_dict[\"2019\"][\"09\"]\n",
    ")\n",
    "\n",
    "magnitude_change_oct_2018_2019 = stl.calculate_magnitude_change(\n",
    "    pre_change=no2_dict[\"2018\"][\"10\"], post_change=no2_dict[\"2019\"][\"10\"]\n",
    ")\n",
    "\n",
    "magnitude_change_nov_2018_2019 = stl.calculate_magnitude_change(\n",
    "    pre_change=no2_dict[\"2018\"][\"11\"], post_change=no2_dict[\"2019\"][\"11\"]\n",
    ")\n",
    "\n",
    "magnitude_change_dec_2018_2019 = stl.calculate_magnitude_change(\n",
    "    pre_change=no2_dict[\"2018\"][\"12\"], post_change=no2_dict[\"2019\"][\"12\"]\n",
    ")\n",
    "\n",
    "magnitude_change_jan_2019_2020 = stl.calculate_magnitude_change(\n",
    "    pre_change=no2_dict[\"2019\"][\"01\"], post_change=no2_dict[\"2020\"][\"01\"]\n",
    ")\n",
    "\n",
    "magnitude_change_feb_2019_2020 = stl.calculate_magnitude_change(\n",
    "    pre_change=no2_dict[\"2019\"][\"02\"], post_change=no2_dict[\"2020\"][\"02\"]\n",
    ")\n",
    "\n",
    "magnitude_change_mar_2019_2020 = stl.calculate_magnitude_change(\n",
    "    pre_change=no2_dict[\"2019\"][\"03\"], post_change=no2_dict[\"2020\"][\"03\"]\n",
    ")\n",
    "\n",
    "magnitude_change_apr_2019_2020 = stl.calculate_magnitude_change(\n",
    "    pre_change=no2_dict[\"2019\"][\"04\"], post_change=no2_dict[\"2020\"][\"04\"]\n",
    ")\n",
    "\n",
    "magnitude_change_may_2019_2020 = stl.calculate_magnitude_change(\n",
    "    pre_change=no2_dict[\"2019\"][\"05\"], post_change=no2_dict[\"2020\"][\"05\"]\n",
    ")\n",
    "\n",
    "magnitude_change_jun_2019_2020 = stl.calculate_magnitude_change(\n",
    "    pre_change=no2_dict[\"2019\"][\"06\"], post_change=no2_dict[\"2020\"][\"06\"]\n",
    ")\n",
    "\n",
    "magnitude_change_jul_2019_2020 = stl.calculate_magnitude_change(\n",
    "    pre_change=no2_dict[\"2019\"][\"07\"], post_change=no2_dict[\"2020\"][\"07\"]\n",
    ")"
   ]
  },
  {
   "cell_type": "markdown",
   "metadata": {},
   "source": [
    "### Percent Change"
   ]
  },
  {
   "cell_type": "code",
   "execution_count": null,
   "metadata": {
    "ExecuteTime": {
     "end_time": "2020-10-22T18:26:53.961523Z",
     "start_time": "2020-10-22T18:26:53.902105Z"
    }
   },
   "outputs": [],
   "source": [
    "# Calculate percent change\n",
    "percent_change_jul_2018_2019 = stl.calculate_percent_change(\n",
    "    pre_change=no2_dict[\"2018\"][\"07\"], post_change=no2_dict[\"2019\"][\"07\"]\n",
    ")\n",
    "\n",
    "percent_change_aug_2018_2019 = stl.calculate_percent_change(\n",
    "    pre_change=no2_dict[\"2018\"][\"08\"], post_change=no2_dict[\"2019\"][\"08\"]\n",
    ")\n",
    "\n",
    "percent_change_sep_2018_2019 = stl.calculate_percent_change(\n",
    "    pre_change=no2_dict[\"2018\"][\"09\"], post_change=no2_dict[\"2019\"][\"09\"]\n",
    ")\n",
    "\n",
    "percent_change_oct_2018_2019 = stl.calculate_percent_change(\n",
    "    pre_change=no2_dict[\"2018\"][\"10\"], post_change=no2_dict[\"2019\"][\"10\"]\n",
    ")\n",
    "\n",
    "percent_change_nov_2018_2019 = stl.calculate_percent_change(\n",
    "    pre_change=no2_dict[\"2018\"][\"11\"], post_change=no2_dict[\"2019\"][\"11\"]\n",
    ")\n",
    "\n",
    "percent_change_dec_2018_2019 = stl.calculate_percent_change(\n",
    "    pre_change=no2_dict[\"2018\"][\"12\"], post_change=no2_dict[\"2019\"][\"12\"]\n",
    ")\n",
    "\n",
    "percent_change_jan_2019_2020 = stl.calculate_percent_change(\n",
    "    pre_change=no2_dict[\"2019\"][\"01\"], post_change=no2_dict[\"2020\"][\"01\"]\n",
    ")\n",
    "\n",
    "percent_change_feb_2019_2020 = stl.calculate_percent_change(\n",
    "    pre_change=no2_dict[\"2019\"][\"02\"], post_change=no2_dict[\"2020\"][\"02\"]\n",
    ")\n",
    "\n",
    "percent_change_mar_2019_2020 = stl.calculate_percent_change(\n",
    "    pre_change=no2_dict[\"2019\"][\"03\"], post_change=no2_dict[\"2020\"][\"03\"]\n",
    ")\n",
    "\n",
    "percent_change_apr_2019_2020 = stl.calculate_percent_change(\n",
    "    pre_change=no2_dict[\"2019\"][\"04\"], post_change=no2_dict[\"2020\"][\"04\"]\n",
    ")\n",
    "\n",
    "percent_change_may_2019_2020 = stl.calculate_percent_change(\n",
    "    pre_change=no2_dict[\"2019\"][\"05\"], post_change=no2_dict[\"2020\"][\"05\"]\n",
    ")\n",
    "\n",
    "percent_change_jun_2019_2020 = stl.calculate_percent_change(\n",
    "    pre_change=no2_dict[\"2019\"][\"06\"], post_change=no2_dict[\"2020\"][\"06\"]\n",
    ")\n",
    "\n",
    "percent_change_jul_2019_2020 = stl.calculate_percent_change(\n",
    "    pre_change=no2_dict[\"2019\"][\"07\"], post_change=no2_dict[\"2020\"][\"07\"]\n",
    ")"
   ]
  },
  {
   "cell_type": "markdown",
   "metadata": {},
   "source": [
    "## Data Visualization"
   ]
  },
  {
   "cell_type": "markdown",
   "metadata": {},
   "source": [
    "### Monthly Means"
   ]
  },
  {
   "cell_type": "code",
   "execution_count": null,
   "metadata": {
    "ExecuteTime": {
     "end_time": "2020-10-22T18:26:53.980438Z",
     "start_time": "2020-10-22T18:26:53.963483Z"
    }
   },
   "outputs": [],
   "source": [
    "# Create stack of all months (25 in total)\n",
    "no2_months_stack = np.stack(\n",
    "    [\n",
    "        no2_dict[year][month]\n",
    "        for year in no2_dict.keys()\n",
    "        for month in no2_dict[year].keys()\n",
    "    ]\n",
    ")\n",
    "\n",
    "# Check shape (bands, rows, columns)\n",
    "print(f\"Data stack shape (bands, rows, columns): {no2_months_stack.shape}\")\n",
    "\n",
    "# Check if the order is correct; compare first month of data (July 2018)\n",
    "print(\n",
    "    f\"Data order correct: {np.array_equal(no2_months_stack[0], no2_dict['2018']['07'])}\"\n",
    ")"
   ]
  },
  {
   "cell_type": "code",
   "execution_count": null,
   "metadata": {
    "ExecuteTime": {
     "end_time": "2020-10-22T18:27:41.339804Z",
     "start_time": "2020-10-22T18:26:53.983431Z"
    },
    "scrolled": false
   },
   "outputs": [],
   "source": [
    "# Set titles for data stack\n",
    "titles = [\n",
    "    \"Jul 2018\",\n",
    "    \"Aug 2018\",\n",
    "    \"Sep 2018\",\n",
    "    \"Oct 2018\",\n",
    "    \"Nov 2018\",\n",
    "    \"Dec 2018\",\n",
    "    \"Jan 2019\",\n",
    "    \"Feb 2019\",\n",
    "    \"Mar 2019\",\n",
    "    \"Apr 2019\",\n",
    "    \"May 2019\",\n",
    "    \"Jun 2019\",\n",
    "    \"Jul 2019\",\n",
    "    \"Aug 2019\",\n",
    "    \"Sep 2019\",\n",
    "    \"Oct 2019\",\n",
    "    \"Nov 2019\",\n",
    "    \"Dec 2019\",\n",
    "    \"Jan 2020\",\n",
    "    \"Feb 2020\",\n",
    "    \"Mar 2020\",\n",
    "    \"Apr 2020\",\n",
    "    \"May 2020\",\n",
    "    \"Jun 2020\",\n",
    "    \"Jul 2020\",\n",
    "]\n",
    "\n",
    "# Plot all stack bands (monthly means)\n",
    "with plt.style.context(\"dark_background\"):\n",
    "    # Initialize figure/axes\n",
    "    fig, ax = plt.subplots(nrows=8, ncols=3, figsize=(20, 40))\n",
    "    plt.suptitle(\"Singapore NO2 Monthly Means, Jul 2018 - Jun 2020\", size=24)\n",
    "    plt.subplots_adjust(top=0.955)\n",
    "\n",
    "    # Loop through all axes\n",
    "    for (band, axis) in enumerate(fig.axes):\n",
    "        # Plot monthly mean NO2 data\n",
    "        ep.plot_bands(\n",
    "            arr=no2_months_stack[band],\n",
    "            cmap=\"inferno\",\n",
    "            title=titles[band],\n",
    "            extent=singapore_extent,\n",
    "            vmin=0,\n",
    "            vmax=no2_months_stack.max(),\n",
    "            ax=axis,\n",
    "        )\n",
    "\n",
    "        # Add country boundaries and legend to axes\n",
    "        malaysia_boundary_clipped.boundary.plot(\n",
    "            edgecolor=\"#e41a1c\",\n",
    "            linewidth=0.5,\n",
    "            ax=axis,\n",
    "            alpha=1,\n",
    "            label=\"Malaysia\",\n",
    "        )\n",
    "        singapore_boundary.boundary.plot(\n",
    "            edgecolor=\"#1b7837\",\n",
    "            linewidth=0.5,\n",
    "            ax=axis,\n",
    "            alpha=1,\n",
    "            label=\"Singapore\",\n",
    "        )\n",
    "        axis.legend(\n",
    "            shadow=True, edgecolor=\"white\", fontsize=10, loc=\"lower right\"\n",
    "        )\n",
    "\n",
    "    # Add caption\n",
    "    fig.text(\n",
    "        0.5,\n",
    "        0.11,\n",
    "        f\"Data Source: European Space Agency\",\n",
    "        ha=\"center\",\n",
    "        fontsize=16,\n",
    "    )"
   ]
  },
  {
   "cell_type": "markdown",
   "metadata": {},
   "source": [
    "### Monthly Comparison"
   ]
  },
  {
   "cell_type": "markdown",
   "metadata": {},
   "source": [
    "#### Magnitude Change"
   ]
  },
  {
   "cell_type": "code",
   "execution_count": null,
   "metadata": {
    "ExecuteTime": {
     "end_time": "2020-10-22T18:27:43.286988Z",
     "start_time": "2020-10-22T18:27:41.341801Z"
    }
   },
   "outputs": [],
   "source": [
    "# Plot July 2018-2019 change\n",
    "fig, ax = stl.plot_monthly_comparison(\n",
    "    pre_change=no2_dict[\"2018\"][\"07\"],\n",
    "    post_change=no2_dict[\"2019\"][\"07\"],\n",
    "    extent_file=monthly_means[0],\n",
    "    country_boundaries=[malaysia_boundary_clipped, singapore_boundary],\n",
    "    country_names=[\"Malaysia\", \"Singapore\"],\n",
    "    change_type=\"magnitude\",\n",
    "    location=\"Singapore\",\n",
    "    titles=[\n",
    "        \"July 2018 Mean NO2 ($\\mathrm{mol \\cdot m^{-2}}$)\",\n",
    "        \"July 2019 Mean NO2 ($\\mathrm{mol \\cdot m^{-2}}$)\",\n",
    "        \"Change in Mean NO2 ($\\mathrm{mol \\cdot m^{-2}}$)\",\n",
    "    ],\n",
    "    data_source=\"European Space Agency\",\n",
    ")"
   ]
  },
  {
   "cell_type": "code",
   "execution_count": null,
   "metadata": {
    "ExecuteTime": {
     "end_time": "2020-10-22T18:27:44.687725Z",
     "start_time": "2020-10-22T18:27:43.288983Z"
    }
   },
   "outputs": [],
   "source": [
    "# Plot August 2018-2019 change\n",
    "fig, ax = stl.plot_monthly_comparison(\n",
    "    pre_change=no2_dict[\"2018\"][\"08\"],\n",
    "    post_change=no2_dict[\"2019\"][\"08\"],\n",
    "    extent_file=monthly_means[0],\n",
    "    country_boundaries=[malaysia_boundary_clipped, singapore_boundary],\n",
    "    country_names=[\"Malaysia\", \"Singapore\"],\n",
    "    change_type=\"magnitude\",\n",
    "    location=\"Singapore\",\n",
    "    titles=[\n",
    "        \"August 2018 Mean NO2 ($\\mathrm{mol \\cdot m^{-2}}$)\",\n",
    "        \"August 2019 Mean NO2 ($\\mathrm{mol \\cdot m^{-2}}$)\",\n",
    "        \"Change in Mean NO2 ($\\mathrm{mol \\cdot m^{-2}}$)\",\n",
    "    ],\n",
    "    data_source=\"European Space Agency\",\n",
    ")"
   ]
  },
  {
   "cell_type": "code",
   "execution_count": null,
   "metadata": {
    "ExecuteTime": {
     "end_time": "2020-10-22T18:27:46.057954Z",
     "start_time": "2020-10-22T18:27:44.689727Z"
    }
   },
   "outputs": [],
   "source": [
    "# Plot September 2018-2019 change\n",
    "fig, ax = stl.plot_monthly_comparison(\n",
    "    pre_change=no2_dict[\"2018\"][\"09\"],\n",
    "    post_change=no2_dict[\"2019\"][\"09\"],\n",
    "    extent_file=monthly_means[0],\n",
    "    country_boundaries=[malaysia_boundary_clipped, singapore_boundary],\n",
    "    country_names=[\"Malaysia\", \"Singapore\"],\n",
    "    change_type=\"magnitude\",\n",
    "    location=\"Singapore\",\n",
    "    titles=[\n",
    "        \"September 2018 Mean NO2 ($\\mathrm{mol \\cdot m^{-2}}$)\",\n",
    "        \"September 2019 Mean NO2 ($\\mathrm{mol \\cdot m^{-2}}$)\",\n",
    "        \"Change in Mean NO2 ($\\mathrm{mol \\cdot m^{-2}}$)\",\n",
    "    ],\n",
    "    data_source=\"European Space Agency\",\n",
    ")"
   ]
  },
  {
   "cell_type": "code",
   "execution_count": null,
   "metadata": {
    "ExecuteTime": {
     "end_time": "2020-10-22T18:27:47.522871Z",
     "start_time": "2020-10-22T18:27:46.059972Z"
    }
   },
   "outputs": [],
   "source": [
    "# Plot October 2018-2019 change\n",
    "fig, ax = stl.plot_monthly_comparison(\n",
    "    pre_change=no2_dict[\"2018\"][\"10\"],\n",
    "    post_change=no2_dict[\"2019\"][\"10\"],\n",
    "    extent_file=monthly_means[0],\n",
    "    country_boundaries=[malaysia_boundary_clipped, singapore_boundary],\n",
    "    country_names=[\"Malaysia\", \"Singapore\"],\n",
    "    change_type=\"magnitude\",\n",
    "    location=\"Singapore\",\n",
    "    titles=[\n",
    "        \"October 2018 Mean NO2 ($\\mathrm{mol \\cdot m^{-2}}$)\",\n",
    "        \"October 2019 Mean NO2 ($\\mathrm{mol \\cdot m^{-2}}$)\",\n",
    "        \"Change in Mean NO2 ($\\mathrm{mol \\cdot m^{-2}}$)\",\n",
    "    ],\n",
    "    data_source=\"European Space Agency\",\n",
    ")"
   ]
  },
  {
   "cell_type": "code",
   "execution_count": null,
   "metadata": {
    "ExecuteTime": {
     "end_time": "2020-10-22T18:27:49.038523Z",
     "start_time": "2020-10-22T18:27:47.530851Z"
    }
   },
   "outputs": [],
   "source": [
    "# Plot November 2018-2019 change\n",
    "fig, ax = stl.plot_monthly_comparison(\n",
    "    pre_change=no2_dict[\"2018\"][\"11\"],\n",
    "    post_change=no2_dict[\"2019\"][\"11\"],\n",
    "    extent_file=monthly_means[0],\n",
    "    country_boundaries=[malaysia_boundary_clipped, singapore_boundary],\n",
    "    country_names=[\"Malaysia\", \"Singapore\"],\n",
    "    change_type=\"magnitude\",\n",
    "    location=\"Singapore\",\n",
    "    titles=[\n",
    "        \"November 2018 Mean NO2 ($\\mathrm{mol \\cdot m^{-2}}$)\",\n",
    "        \"November 2019 Mean NO2 ($\\mathrm{mol \\cdot m^{-2}}$)\",\n",
    "        \"Change in Mean NO2 ($\\mathrm{mol \\cdot m^{-2}}$)\",\n",
    "    ],\n",
    "    data_source=\"European Space Agency\",\n",
    ")"
   ]
  },
  {
   "cell_type": "code",
   "execution_count": null,
   "metadata": {
    "ExecuteTime": {
     "end_time": "2020-10-22T18:27:50.574451Z",
     "start_time": "2020-10-22T18:27:49.042513Z"
    }
   },
   "outputs": [],
   "source": [
    "# Plot December 2018-2019 change\n",
    "fig, ax = stl.plot_monthly_comparison(\n",
    "    pre_change=no2_dict[\"2018\"][\"12\"],\n",
    "    post_change=no2_dict[\"2019\"][\"12\"],\n",
    "    extent_file=monthly_means[0],\n",
    "    country_boundaries=[malaysia_boundary_clipped, singapore_boundary],\n",
    "    country_names=[\"Malaysia\", \"Singapore\"],\n",
    "    change_type=\"magnitude\",\n",
    "    location=\"Singapore\",\n",
    "    titles=[\n",
    "        \"December 2018 Mean NO2 ($\\mathrm{mol \\cdot m^{-2}}$)\",\n",
    "        \"December 2019 Mean NO2 ($\\mathrm{mol \\cdot m^{-2}}$)\",\n",
    "        \"Change in Mean NO2 ($\\mathrm{mol \\cdot m^{-2}}$)\",\n",
    "    ],\n",
    "    data_source=\"European Space Agency\",\n",
    ")"
   ]
  },
  {
   "cell_type": "code",
   "execution_count": null,
   "metadata": {
    "ExecuteTime": {
     "end_time": "2020-10-22T18:27:52.022001Z",
     "start_time": "2020-10-22T18:27:50.576444Z"
    }
   },
   "outputs": [],
   "source": [
    "# Plot January 2019-2020 change\n",
    "fig, ax = stl.plot_monthly_comparison(\n",
    "    pre_change=no2_dict[\"2019\"][\"01\"],\n",
    "    post_change=no2_dict[\"2020\"][\"01\"],\n",
    "    extent_file=monthly_means[0],\n",
    "    country_boundaries=[malaysia_boundary_clipped, singapore_boundary],\n",
    "    country_names=[\"Malaysia\", \"Singapore\"],\n",
    "    change_type=\"magnitude\",\n",
    "    location=\"Singapore\",\n",
    "    titles=[\n",
    "        \"January 2019 Mean NO2 ($\\mathrm{mol \\cdot m^{-2}}$)\",\n",
    "        \"January 2020 Mean NO2 ($\\mathrm{mol \\cdot m^{-2}}$)\",\n",
    "        \"Change in Mean NO2 ($\\mathrm{mol \\cdot m^{-2}}$)\",\n",
    "    ],\n",
    "    data_source=\"European Space Agency\",\n",
    ")"
   ]
  },
  {
   "cell_type": "code",
   "execution_count": null,
   "metadata": {
    "ExecuteTime": {
     "end_time": "2020-10-22T18:27:53.463748Z",
     "start_time": "2020-10-22T18:27:52.024992Z"
    }
   },
   "outputs": [],
   "source": [
    "# Plot February 2019-2020 change\n",
    "fig, ax = stl.plot_monthly_comparison(\n",
    "    pre_change=no2_dict[\"2019\"][\"02\"],\n",
    "    post_change=no2_dict[\"2020\"][\"02\"],\n",
    "    extent_file=monthly_means[0],\n",
    "    country_boundaries=[malaysia_boundary_clipped, singapore_boundary],\n",
    "    country_names=[\"Malaysia\", \"Singapore\"],\n",
    "    change_type=\"magnitude\",\n",
    "    location=\"Singapore\",\n",
    "    titles=[\n",
    "        \"February 2019 Mean NO2 ($\\mathrm{mol \\cdot m^{-2}}$)\",\n",
    "        \"February 2020 Mean NO2 ($\\mathrm{mol \\cdot m^{-2}}$)\",\n",
    "        \"Change in Mean NO2 ($\\mathrm{mol \\cdot m^{-2}}$)\",\n",
    "    ],\n",
    "    data_source=\"European Space Agency\",\n",
    ")"
   ]
  },
  {
   "cell_type": "code",
   "execution_count": null,
   "metadata": {
    "ExecuteTime": {
     "end_time": "2020-10-22T18:27:54.868835Z",
     "start_time": "2020-10-22T18:27:53.466711Z"
    }
   },
   "outputs": [],
   "source": [
    "# Plot March 2019-2020 change\n",
    "fig, ax = stl.plot_monthly_comparison(\n",
    "    pre_change=no2_dict[\"2019\"][\"03\"],\n",
    "    post_change=no2_dict[\"2020\"][\"03\"],\n",
    "    extent_file=monthly_means[0],\n",
    "    country_boundaries=[malaysia_boundary_clipped, singapore_boundary],\n",
    "    country_names=[\"Malaysia\", \"Singapore\"],\n",
    "    change_type=\"magnitude\",\n",
    "    location=\"Singapore\",\n",
    "    titles=[\n",
    "        \"March 2019 Mean NO2 ($\\mathrm{mol \\cdot m^{-2}}$)\",\n",
    "        \"March 2020 Mean NO2 ($\\mathrm{mol \\cdot m^{-2}}$)\",\n",
    "        \"Change in Mean NO2 ($\\mathrm{mol \\cdot m^{-2}}$)\",\n",
    "    ],\n",
    "    data_source=\"European Space Agency\",\n",
    ")"
   ]
  },
  {
   "cell_type": "code",
   "execution_count": null,
   "metadata": {
    "ExecuteTime": {
     "end_time": "2020-10-22T18:27:56.234039Z",
     "start_time": "2020-10-22T18:27:54.870803Z"
    }
   },
   "outputs": [],
   "source": [
    "# Plot April 2019-2020 change\n",
    "fig, ax = stl.plot_monthly_comparison(\n",
    "    pre_change=no2_dict[\"2019\"][\"04\"],\n",
    "    post_change=no2_dict[\"2020\"][\"04\"],\n",
    "    extent_file=monthly_means[0],\n",
    "    country_boundaries=[malaysia_boundary_clipped, singapore_boundary],\n",
    "    country_names=[\"Malaysia\", \"Singapore\"],\n",
    "    change_type=\"magnitude\",\n",
    "    location=\"Singapore\",\n",
    "    titles=[\n",
    "        \"April 2019 Mean NO2 ($\\mathrm{mol \\cdot m^{-2}}$)\",\n",
    "        \"April 2020 Mean NO2 ($\\mathrm{mol \\cdot m^{-2}}$)\",\n",
    "        \"Change in Mean NO2 ($\\mathrm{mol \\cdot m^{-2}}$)\",\n",
    "    ],\n",
    "    data_source=\"European Space Agency\",\n",
    ")"
   ]
  },
  {
   "cell_type": "code",
   "execution_count": null,
   "metadata": {
    "ExecuteTime": {
     "end_time": "2020-10-22T18:27:57.738859Z",
     "start_time": "2020-10-22T18:27:56.236033Z"
    }
   },
   "outputs": [],
   "source": [
    "# Plot May 2019-2020 change\n",
    "fig, ax = stl.plot_monthly_comparison(\n",
    "    pre_change=no2_dict[\"2019\"][\"05\"],\n",
    "    post_change=no2_dict[\"2020\"][\"05\"],\n",
    "    extent_file=monthly_means[0],\n",
    "    country_boundaries=[malaysia_boundary_clipped, singapore_boundary],\n",
    "    country_names=[\"Malaysia\", \"Singapore\"],\n",
    "    change_type=\"magnitude\",\n",
    "    location=\"Singapore\",\n",
    "    titles=[\n",
    "        \"May 2019 Mean NO2 ($\\mathrm{mol \\cdot m^{-2}}$)\",\n",
    "        \"May 2020 Mean NO2 ($\\mathrm{mol \\cdot m^{-2}}$)\",\n",
    "        \"Change in Mean NO2 ($\\mathrm{mol \\cdot m^{-2}}$)\",\n",
    "    ],\n",
    "    data_source=\"European Space Agency\",\n",
    ")"
   ]
  },
  {
   "cell_type": "code",
   "execution_count": null,
   "metadata": {
    "ExecuteTime": {
     "end_time": "2020-10-22T18:27:59.344626Z",
     "start_time": "2020-10-22T18:27:57.740855Z"
    }
   },
   "outputs": [],
   "source": [
    "# Plot June 2019-2020 change\n",
    "fig, ax = stl.plot_monthly_comparison(\n",
    "    pre_change=no2_dict[\"2019\"][\"06\"],\n",
    "    post_change=no2_dict[\"2020\"][\"06\"],\n",
    "    extent_file=monthly_means[0],\n",
    "    country_boundaries=[malaysia_boundary_clipped, singapore_boundary],\n",
    "    country_names=[\"Malaysia\", \"Singapore\"],\n",
    "    change_type=\"magnitude\",\n",
    "    location=\"Singapore\",\n",
    "    titles=[\n",
    "        \"June 2019 Mean NO2 ($\\mathrm{mol \\cdot m^{-2}}$)\",\n",
    "        \"June 2020 Mean NO2 ($\\mathrm{mol \\cdot m^{-2}}$)\",\n",
    "        \"Change in Mean NO2 ($\\mathrm{mol \\cdot m^{-2}}$)\",\n",
    "    ],\n",
    "    data_source=\"European Space Agency\",\n",
    ")"
   ]
  },
  {
   "cell_type": "code",
   "execution_count": null,
   "metadata": {
    "ExecuteTime": {
     "end_time": "2020-10-22T18:28:00.823752Z",
     "start_time": "2020-10-22T18:27:59.346607Z"
    }
   },
   "outputs": [],
   "source": [
    "# Plot July 2019-2020 change\n",
    "fig, ax = stl.plot_monthly_comparison(\n",
    "    pre_change=no2_dict[\"2019\"][\"07\"],\n",
    "    post_change=no2_dict[\"2020\"][\"07\"],\n",
    "    extent_file=monthly_means[0],\n",
    "    country_boundaries=[malaysia_boundary_clipped, singapore_boundary],\n",
    "    country_names=[\"Malaysia\", \"Singapore\"],\n",
    "    change_type=\"magnitude\",\n",
    "    location=\"Singapore\",\n",
    "    titles=[\n",
    "        \"Jul 2019 Mean NO2 ($\\mathrm{mol \\cdot m^{-2}}$)\",\n",
    "        \"Jul 2020 Mean NO2 ($\\mathrm{mol \\cdot m^{-2}}$)\",\n",
    "        \"Change in Mean NO2 ($\\mathrm{mol \\cdot m^{-2}}$)\",\n",
    "    ],\n",
    "    data_source=\"European Space Agency\",\n",
    ")"
   ]
  },
  {
   "cell_type": "markdown",
   "metadata": {},
   "source": [
    "#### Percent Change"
   ]
  },
  {
   "cell_type": "code",
   "execution_count": null,
   "metadata": {
    "ExecuteTime": {
     "end_time": "2020-10-22T18:28:02.215020Z",
     "start_time": "2020-10-22T18:28:00.825712Z"
    }
   },
   "outputs": [],
   "source": [
    "# Plot July 2018-2019 change\n",
    "fig, ax = stl.plot_monthly_comparison(\n",
    "    pre_change=no2_dict[\"2018\"][\"07\"],\n",
    "    post_change=no2_dict[\"2019\"][\"07\"],\n",
    "    extent_file=monthly_means[0],\n",
    "    country_boundaries=[malaysia_boundary_clipped, singapore_boundary],\n",
    "    country_names=[\"Malaysia\", \"Singapore\"],\n",
    "    change_type=\"percent\",\n",
    "    location=\"Singapore\",\n",
    "    titles=[\n",
    "        \"July 2018 Mean NO2 ($\\mathrm{mol \\cdot m^{-2}}$)\",\n",
    "        \"July 2019 Mean NO2 ($\\mathrm{mol \\cdot m^{-2}}$)\",\n",
    "        \"Change in Mean NO2 (%)\",\n",
    "    ],\n",
    "    data_source=\"European Space Agency\",\n",
    ")"
   ]
  },
  {
   "cell_type": "code",
   "execution_count": null,
   "metadata": {
    "ExecuteTime": {
     "end_time": "2020-10-22T18:28:03.524206Z",
     "start_time": "2020-10-22T18:28:02.217015Z"
    }
   },
   "outputs": [],
   "source": [
    "# Plot August 2018-2019 change\n",
    "fig, ax = stl.plot_monthly_comparison(\n",
    "    pre_change=no2_dict[\"2018\"][\"08\"],\n",
    "    post_change=no2_dict[\"2019\"][\"08\"],\n",
    "    extent_file=monthly_means[0],\n",
    "    country_boundaries=[malaysia_boundary_clipped, singapore_boundary],\n",
    "    country_names=[\"Malaysia\", \"Singapore\"],\n",
    "    change_type=\"percent\",\n",
    "    location=\"Singapore\",\n",
    "    titles=[\n",
    "        \"August 2018 Mean NO2 ($\\mathrm{mol \\cdot m^{-2}}$)\",\n",
    "        \"August 2019 Mean NO2 ($\\mathrm{mol \\cdot m^{-2}}$)\",\n",
    "        \"Change in Mean NO2 (%)\",\n",
    "    ],\n",
    "    data_source=\"European Space Agency\",\n",
    ")"
   ]
  },
  {
   "cell_type": "code",
   "execution_count": null,
   "metadata": {
    "ExecuteTime": {
     "end_time": "2020-10-22T18:28:04.942469Z",
     "start_time": "2020-10-22T18:28:03.526200Z"
    }
   },
   "outputs": [],
   "source": [
    "# Plot September 2018-2019 change\n",
    "fig, ax = stl.plot_monthly_comparison(\n",
    "    pre_change=no2_dict[\"2018\"][\"09\"],\n",
    "    post_change=no2_dict[\"2019\"][\"09\"],\n",
    "    extent_file=monthly_means[0],\n",
    "    country_boundaries=[malaysia_boundary_clipped, singapore_boundary],\n",
    "    country_names=[\"Malaysia\", \"Singapore\"],\n",
    "    change_type=\"percent\",\n",
    "    location=\"Singapore\",\n",
    "    titles=[\n",
    "        \"September 2018 Mean NO2 ($\\mathrm{mol \\cdot m^{-2}}$)\",\n",
    "        \"September 2019 Mean NO2 ($\\mathrm{mol \\cdot m^{-2}}$)\",\n",
    "        \"Change in Mean NO2 (%)\",\n",
    "    ],\n",
    "    data_source=\"European Space Agency\",\n",
    ")"
   ]
  },
  {
   "cell_type": "code",
   "execution_count": null,
   "metadata": {
    "ExecuteTime": {
     "end_time": "2020-10-22T18:28:06.461784Z",
     "start_time": "2020-10-22T18:28:04.944465Z"
    }
   },
   "outputs": [],
   "source": [
    "# Plot October 2018-2019 change\n",
    "fig, ax = stl.plot_monthly_comparison(\n",
    "    pre_change=no2_dict[\"2018\"][\"10\"],\n",
    "    post_change=no2_dict[\"2019\"][\"10\"],\n",
    "    extent_file=monthly_means[0],\n",
    "    country_boundaries=[malaysia_boundary_clipped, singapore_boundary],\n",
    "    country_names=[\"Malaysia\", \"Singapore\"],\n",
    "    change_type=\"percent\",\n",
    "    location=\"Singapore\",\n",
    "    titles=[\n",
    "        \"October 2018 Mean NO2 ($\\mathrm{mol \\cdot m^{-2}}$)\",\n",
    "        \"October 2019 Mean NO2 ($\\mathrm{mol \\cdot m^{-2}}$)\",\n",
    "        \"Change in Mean NO2 (%)\",\n",
    "    ],\n",
    "    data_source=\"European Space Agency\",\n",
    ")"
   ]
  },
  {
   "cell_type": "code",
   "execution_count": null,
   "metadata": {
    "ExecuteTime": {
     "end_time": "2020-10-22T18:28:08.171136Z",
     "start_time": "2020-10-22T18:28:06.463779Z"
    }
   },
   "outputs": [],
   "source": [
    "# Plot November 2018-2019 change\n",
    "fig, ax = stl.plot_monthly_comparison(\n",
    "    pre_change=no2_dict[\"2018\"][\"11\"],\n",
    "    post_change=no2_dict[\"2019\"][\"11\"],\n",
    "    extent_file=monthly_means[0],\n",
    "    country_boundaries=[malaysia_boundary_clipped, singapore_boundary],\n",
    "    country_names=[\"Malaysia\", \"Singapore\"],\n",
    "    change_type=\"percent\",\n",
    "    location=\"Singapore\",\n",
    "    titles=[\n",
    "        \"November 2018 Mean NO2 ($\\mathrm{mol \\cdot m^{-2}}$)\",\n",
    "        \"November 2019 Mean NO2 ($\\mathrm{mol \\cdot m^{-2}}$)\",\n",
    "        \"Change in Mean NO2 (%)\",\n",
    "    ],\n",
    "    data_source=\"European Space Agency\",\n",
    ")"
   ]
  },
  {
   "cell_type": "code",
   "execution_count": null,
   "metadata": {
    "ExecuteTime": {
     "end_time": "2020-10-22T18:28:09.512647Z",
     "start_time": "2020-10-22T18:28:08.173092Z"
    }
   },
   "outputs": [],
   "source": [
    "# Plot December 2018-2019 change\n",
    "fig, ax = stl.plot_monthly_comparison(\n",
    "    pre_change=no2_dict[\"2018\"][\"12\"],\n",
    "    post_change=no2_dict[\"2019\"][\"12\"],\n",
    "    extent_file=monthly_means[0],\n",
    "    country_boundaries=[malaysia_boundary_clipped, singapore_boundary],\n",
    "    country_names=[\"Malaysia\", \"Singapore\"],\n",
    "    change_type=\"percent\",\n",
    "    location=\"Singapore\",\n",
    "    titles=[\n",
    "        \"December 2018 Mean NO2 ($\\mathrm{mol \\cdot m^{-2}}$)\",\n",
    "        \"December 2019 Mean NO2 ($\\mathrm{mol \\cdot m^{-2}}$)\",\n",
    "        \"Change in Mean NO2 (%)\",\n",
    "    ],\n",
    "    data_source=\"European Space Agency\",\n",
    ")"
   ]
  },
  {
   "cell_type": "code",
   "execution_count": null,
   "metadata": {
    "ExecuteTime": {
     "end_time": "2020-10-22T18:28:11.106684Z",
     "start_time": "2020-10-22T18:28:09.515639Z"
    }
   },
   "outputs": [],
   "source": [
    "# Plot January 2019-2020 change\n",
    "fig, ax = stl.plot_monthly_comparison(\n",
    "    pre_change=no2_dict[\"2019\"][\"01\"],\n",
    "    post_change=no2_dict[\"2020\"][\"01\"],\n",
    "    extent_file=monthly_means[0],\n",
    "    country_boundaries=[malaysia_boundary_clipped, singapore_boundary],\n",
    "    country_names=[\"Malaysia\", \"Singapore\"],\n",
    "    change_type=\"percent\",\n",
    "    location=\"Singapore\",\n",
    "    titles=[\n",
    "        \"January 2019 Mean NO2 ($\\mathrm{mol \\cdot m^{-2}}$)\",\n",
    "        \"January 2020 Mean NO2 ($\\mathrm{mol \\cdot m^{-2}}$)\",\n",
    "        \"Change in Mean NO2 (%)\",\n",
    "    ],\n",
    "    data_source=\"European Space Agency\",\n",
    ")"
   ]
  },
  {
   "cell_type": "code",
   "execution_count": null,
   "metadata": {
    "ExecuteTime": {
     "end_time": "2020-10-22T18:28:12.825661Z",
     "start_time": "2020-10-22T18:28:11.108679Z"
    }
   },
   "outputs": [],
   "source": [
    "# Plot February 2019-2020 change\n",
    "fig, ax = stl.plot_monthly_comparison(\n",
    "    pre_change=no2_dict[\"2019\"][\"02\"],\n",
    "    post_change=no2_dict[\"2020\"][\"02\"],\n",
    "    extent_file=monthly_means[0],\n",
    "    country_boundaries=[malaysia_boundary_clipped, singapore_boundary],\n",
    "    country_names=[\"Malaysia\", \"Singapore\"],\n",
    "    change_type=\"percent\",\n",
    "    location=\"Singapore\",\n",
    "    titles=[\n",
    "        \"February 2019 Mean NO2 ($\\mathrm{mol \\cdot m^{-2}}$)\",\n",
    "        \"February 2020 Mean NO2 ($\\mathrm{mol \\cdot m^{-2}}$)\",\n",
    "        \"Change in Mean NO2 (%)\",\n",
    "    ],\n",
    "    data_source=\"European Space Agency\",\n",
    ")"
   ]
  },
  {
   "cell_type": "code",
   "execution_count": null,
   "metadata": {
    "ExecuteTime": {
     "end_time": "2020-10-22T18:28:14.403051Z",
     "start_time": "2020-10-22T18:28:12.827656Z"
    }
   },
   "outputs": [],
   "source": [
    "# Plot March 2019-2020 change\n",
    "fig, ax = stl.plot_monthly_comparison(\n",
    "    pre_change=no2_dict[\"2019\"][\"03\"],\n",
    "    post_change=no2_dict[\"2020\"][\"03\"],\n",
    "    extent_file=monthly_means[0],\n",
    "    country_boundaries=[malaysia_boundary_clipped, singapore_boundary],\n",
    "    country_names=[\"Malaysia\", \"Singapore\"],\n",
    "    change_type=\"percent\",\n",
    "    location=\"Singapore\",\n",
    "    titles=[\n",
    "        \"March 2019 Mean NO2 ($\\mathrm{mol \\cdot m^{-2}}$)\",\n",
    "        \"March 2020 Mean NO2 ($\\mathrm{mol \\cdot m^{-2}}$)\",\n",
    "        \"Change in Mean NO2 (%)\",\n",
    "    ],\n",
    "    data_source=\"European Space Agency\",\n",
    ")"
   ]
  },
  {
   "cell_type": "code",
   "execution_count": null,
   "metadata": {
    "ExecuteTime": {
     "end_time": "2020-10-22T18:28:16.122481Z",
     "start_time": "2020-10-22T18:28:14.405046Z"
    }
   },
   "outputs": [],
   "source": [
    "# Plot April 2019-2020 change\n",
    "fig, ax = stl.plot_monthly_comparison(\n",
    "    pre_change=no2_dict[\"2019\"][\"04\"],\n",
    "    post_change=no2_dict[\"2020\"][\"04\"],\n",
    "    extent_file=monthly_means[0],\n",
    "    country_boundaries=[malaysia_boundary_clipped, singapore_boundary],\n",
    "    country_names=[\"Malaysia\", \"Singapore\"],\n",
    "    change_type=\"percent\",\n",
    "    location=\"Singapore\",\n",
    "    titles=[\n",
    "        \"April 2019 Mean NO2 ($\\mathrm{mol \\cdot m^{-2}}$)\",\n",
    "        \"April 2020 Mean NO2 ($\\mathrm{mol \\cdot m^{-2}}$)\",\n",
    "        \"Change in Mean NO2 (%)\",\n",
    "    ],\n",
    "    data_source=\"European Space Agency\",\n",
    ")"
   ]
  },
  {
   "cell_type": "code",
   "execution_count": null,
   "metadata": {
    "ExecuteTime": {
     "end_time": "2020-10-22T18:28:17.468460Z",
     "start_time": "2020-10-22T18:28:16.124477Z"
    }
   },
   "outputs": [],
   "source": [
    "# Plot May 2019-2020 change\n",
    "fig, ax = stl.plot_monthly_comparison(\n",
    "    pre_change=no2_dict[\"2019\"][\"05\"],\n",
    "    post_change=no2_dict[\"2020\"][\"05\"],\n",
    "    extent_file=monthly_means[0],\n",
    "    country_boundaries=[malaysia_boundary_clipped, singapore_boundary],\n",
    "    country_names=[\"Malaysia\", \"Singapore\"],\n",
    "    change_type=\"percent\",\n",
    "    location=\"Singapore\",\n",
    "    titles=[\n",
    "        \"May 2019 Mean NO2 ($\\mathrm{mol \\cdot m^{-2}}$)\",\n",
    "        \"May 2020 Mean NO2 ($\\mathrm{mol \\cdot m^{-2}}$)\",\n",
    "        \"Change in Mean NO2 (%)\",\n",
    "    ],\n",
    "    data_source=\"European Space Agency\",\n",
    ")"
   ]
  },
  {
   "cell_type": "code",
   "execution_count": null,
   "metadata": {
    "ExecuteTime": {
     "end_time": "2020-10-22T18:28:18.783462Z",
     "start_time": "2020-10-22T18:28:17.470479Z"
    }
   },
   "outputs": [],
   "source": [
    "# Plot June 2019-2020 change\n",
    "fig, ax = stl.plot_monthly_comparison(\n",
    "    pre_change=no2_dict[\"2019\"][\"06\"],\n",
    "    post_change=no2_dict[\"2020\"][\"06\"],\n",
    "    extent_file=monthly_means[0],\n",
    "    country_boundaries=[malaysia_boundary_clipped, singapore_boundary],\n",
    "    country_names=[\"Malaysia\", \"Singapore\"],\n",
    "    change_type=\"percent\",\n",
    "    location=\"Singapore\",\n",
    "    titles=[\n",
    "        \"June 2019 Mean NO2 ($\\mathrm{mol \\cdot m^{-2}}$)\",\n",
    "        \"June 2020 Mean NO2 ($\\mathrm{mol \\cdot m^{-2}}$)\",\n",
    "        \"Change in Mean NO2 (%)\",\n",
    "    ],\n",
    "    data_source=\"European Space Agency\",\n",
    ")"
   ]
  },
  {
   "cell_type": "code",
   "execution_count": null,
   "metadata": {
    "ExecuteTime": {
     "end_time": "2020-10-22T18:28:20.112186Z",
     "start_time": "2020-10-22T18:28:18.785443Z"
    }
   },
   "outputs": [],
   "source": [
    "# Plot July 2019-2020 change\n",
    "fig, ax = stl.plot_monthly_comparison(\n",
    "    pre_change=no2_dict[\"2019\"][\"07\"],\n",
    "    post_change=no2_dict[\"2020\"][\"07\"],\n",
    "    extent_file=monthly_means[0],\n",
    "    country_boundaries=[malaysia_boundary_clipped, singapore_boundary],\n",
    "    country_names=[\"Malaysia\", \"Singapore\"],\n",
    "    change_type=\"percent\",\n",
    "    location=\"Singapore\",\n",
    "    titles=[\n",
    "        \"Jul 2019 Mean NO2 ($\\mathrm{mol \\cdot m^{-2}}$)\",\n",
    "        \"Jul 2020 Mean NO2 ($\\mathrm{mol \\cdot m^{-2}}$)\",\n",
    "        \"Change in Mean NO2 (%)\",\n",
    "    ],\n",
    "    data_source=\"European Space Agency\",\n",
    ")"
   ]
  },
  {
   "cell_type": "markdown",
   "metadata": {},
   "source": [
    "# Data Export"
   ]
  },
  {
   "cell_type": "markdown",
   "metadata": {},
   "source": [
    "### Monthly Means"
   ]
  },
  {
   "cell_type": "code",
   "execution_count": null,
   "metadata": {
    "ExecuteTime": {
     "end_time": "2020-10-22T18:29:21.391433Z",
     "start_time": "2020-10-22T18:28:20.115179Z"
    },
    "scrolled": false
   },
   "outputs": [],
   "source": [
    "# Plot and export all stack bands (monthly means)\n",
    "with plt.style.context(\"dark_background\"):\n",
    "    # Initialize figure/axes\n",
    "    fig, ax = plt.subplots(nrows=8, ncols=3, figsize=(20, 40))\n",
    "    plt.suptitle(\"Singapore NO2 Monthly Means, Jul 2018 - Jun 2020\", size=24)\n",
    "    plt.subplots_adjust(top=0.955)\n",
    "\n",
    "    # Loop through all axes\n",
    "    for (band, axis) in enumerate(fig.axes):\n",
    "        # Plot monthly mean NO2 data\n",
    "        ep.plot_bands(\n",
    "            arr=no2_months_stack[band],\n",
    "            cmap=\"inferno\",\n",
    "            title=titles[band],\n",
    "            extent=singapore_extent,\n",
    "            vmin=0,\n",
    "            vmax=no2_months_stack.max(),\n",
    "            ax=axis,\n",
    "        )\n",
    "\n",
    "        # Add country boundaries and legend to axes\n",
    "        malaysia_boundary_clipped.boundary.plot(\n",
    "            edgecolor=\"#e41a1c\",\n",
    "            linewidth=0.5,\n",
    "            ax=axis,\n",
    "            alpha=1,\n",
    "            label=\"Malaysia\",\n",
    "        )\n",
    "        singapore_boundary.boundary.plot(\n",
    "            edgecolor=\"#1b7837\",\n",
    "            linewidth=0.5,\n",
    "            ax=axis,\n",
    "            alpha=1,\n",
    "            label=\"Singapore\",\n",
    "        )\n",
    "        axis.legend(\n",
    "            shadow=True, edgecolor=\"white\", fontsize=10, loc=\"lower right\"\n",
    "        )\n",
    "\n",
    "    # Add caption\n",
    "    fig.text(\n",
    "        0.5,\n",
    "        0.11,\n",
    "        f\"Data Source: European Space Agency\",\n",
    "        ha=\"center\",\n",
    "        fontsize=16,\n",
    "    )\n",
    "\n",
    "rd.save_figure(\n",
    "    os.path.join(\n",
    "        \"04-graphics-outputs\",\n",
    "        \"spatial-plots\",\n",
    "        \"singapore\",\n",
    "        \"singapore-no2-monthly-means-jul-2018-jun-2020.png\",\n",
    "    )\n",
    ")"
   ]
  },
  {
   "cell_type": "markdown",
   "metadata": {},
   "source": [
    "### Magnitude Change"
   ]
  },
  {
   "cell_type": "markdown",
   "metadata": {},
   "source": [
    "#### Georeferenced"
   ]
  },
  {
   "cell_type": "code",
   "execution_count": null,
   "metadata": {
    "ExecuteTime": {
     "end_time": "2020-10-22T18:29:21.407395Z",
     "start_time": "2020-10-22T18:29:21.393427Z"
    }
   },
   "outputs": [],
   "source": [
    "# Extract metadata from GeoTiff\n",
    "metadata = stl.extract_geotiff_metadata(monthly_means[0])\n",
    "metadata"
   ]
  },
  {
   "cell_type": "code",
   "execution_count": null,
   "metadata": {
    "ExecuteTime": {
     "end_time": "2020-10-22T18:29:21.752465Z",
     "start_time": "2020-10-22T18:29:21.409383Z"
    }
   },
   "outputs": [],
   "source": [
    "# Export monthly NO2 change (magnitude)\n",
    "export_files = [\n",
    "    (\n",
    "        magnitude_change_jul_2018_2019,\n",
    "        os.path.join(\n",
    "            \"03-processed-data\",\n",
    "            \"raster\",\n",
    "            \"singapore\",\n",
    "            \"change\",\n",
    "            \"singapore-no2-mean-change-magnitude-jul-2018-2019.tif\",\n",
    "        ),\n",
    "    ),\n",
    "    (\n",
    "        magnitude_change_aug_2018_2019,\n",
    "        os.path.join(\n",
    "            \"03-processed-data\",\n",
    "            \"raster\",\n",
    "            \"singapore\",\n",
    "            \"change\",\n",
    "            \"singapore-no2-mean-change-magnitude-aug-2018-2019.tif\",\n",
    "        ),\n",
    "    ),\n",
    "    (\n",
    "        magnitude_change_sep_2018_2019,\n",
    "        os.path.join(\n",
    "            \"03-processed-data\",\n",
    "            \"raster\",\n",
    "            \"singapore\",\n",
    "            \"change\",\n",
    "            \"singapore-no2-mean-change-magnitude-sep-2018-2019.tif\",\n",
    "        ),\n",
    "    ),\n",
    "    (\n",
    "        magnitude_change_oct_2018_2019,\n",
    "        os.path.join(\n",
    "            \"03-processed-data\",\n",
    "            \"raster\",\n",
    "            \"singapore\",\n",
    "            \"change\",\n",
    "            \"singapore-no2-mean-change-magnitude-oct-2018-2019.tif\",\n",
    "        ),\n",
    "    ),\n",
    "    (\n",
    "        magnitude_change_nov_2018_2019,\n",
    "        os.path.join(\n",
    "            \"03-processed-data\",\n",
    "            \"raster\",\n",
    "            \"singapore\",\n",
    "            \"change\",\n",
    "            \"singapore-no2-mean-change-magnitude-nov-2018-2019.tif\",\n",
    "        ),\n",
    "    ),\n",
    "    (\n",
    "        magnitude_change_dec_2018_2019,\n",
    "        os.path.join(\n",
    "            \"03-processed-data\",\n",
    "            \"raster\",\n",
    "            \"singapore\",\n",
    "            \"change\",\n",
    "            \"singapore-no2-mean-change-magnitude-dec-2018-2019.tif\",\n",
    "        ),\n",
    "    ),\n",
    "    (\n",
    "        magnitude_change_jan_2019_2020,\n",
    "        os.path.join(\n",
    "            \"03-processed-data\",\n",
    "            \"raster\",\n",
    "            \"singapore\",\n",
    "            \"change\",\n",
    "            \"singapore-no2-mean-change-magnitude-jan-2019-2020.tif\",\n",
    "        ),\n",
    "    ),\n",
    "    (\n",
    "        magnitude_change_feb_2019_2020,\n",
    "        os.path.join(\n",
    "            \"03-processed-data\",\n",
    "            \"raster\",\n",
    "            \"singapore\",\n",
    "            \"change\",\n",
    "            \"singapore-no2-mean-change-magnitude-feb-2019-2020.tif\",\n",
    "        ),\n",
    "    ),\n",
    "    (\n",
    "        magnitude_change_mar_2019_2020,\n",
    "        os.path.join(\n",
    "            \"03-processed-data\",\n",
    "            \"raster\",\n",
    "            \"singapore\",\n",
    "            \"change\",\n",
    "            \"singapore-no2-mean-change-magnitude-mar-2019-2020.tif\",\n",
    "        ),\n",
    "    ),\n",
    "    (\n",
    "        magnitude_change_apr_2019_2020,\n",
    "        os.path.join(\n",
    "            \"03-processed-data\",\n",
    "            \"raster\",\n",
    "            \"singapore\",\n",
    "            \"change\",\n",
    "            \"singapore-no2-mean-change-magnitude-apr-2019-2020.tif\",\n",
    "        ),\n",
    "    ),\n",
    "    (\n",
    "        magnitude_change_may_2019_2020,\n",
    "        os.path.join(\n",
    "            \"03-processed-data\",\n",
    "            \"raster\",\n",
    "            \"singapore\",\n",
    "            \"change\",\n",
    "            \"singapore-no2-mean-change-magnitude-may-2019-2020.tif\",\n",
    "        ),\n",
    "    ),\n",
    "    (\n",
    "        magnitude_change_jun_2019_2020,\n",
    "        os.path.join(\n",
    "            \"03-processed-data\",\n",
    "            \"raster\",\n",
    "            \"singapore\",\n",
    "            \"change\",\n",
    "            \"singapore-no2-mean-change-magnitude-jun-2019-2020.tif\",\n",
    "        ),\n",
    "    ),\n",
    "    (\n",
    "        magnitude_change_jul_2019_2020,\n",
    "        os.path.join(\n",
    "            \"03-processed-data\",\n",
    "            \"raster\",\n",
    "            \"singapore\",\n",
    "            \"change\",\n",
    "            \"singapore-no2-mean-change-magnitude-jul-2019-2020.tif\",\n",
    "        ),\n",
    "    ),\n",
    "]\n",
    "\n",
    "for (array, outpath) in export_files:\n",
    "    rd.export_array(array, outpath, metadata)"
   ]
  },
  {
   "cell_type": "markdown",
   "metadata": {},
   "source": [
    "#### Non-Georeferenced"
   ]
  },
  {
   "cell_type": "code",
   "execution_count": null,
   "metadata": {
    "ExecuteTime": {
     "end_time": "2020-10-22T18:29:27.180276Z",
     "start_time": "2020-10-22T18:29:21.754460Z"
    }
   },
   "outputs": [],
   "source": [
    "# Plot and export July 2018-2019 change\n",
    "fig, ax = stl.plot_monthly_comparison(\n",
    "    pre_change=no2_dict[\"2018\"][\"07\"],\n",
    "    post_change=no2_dict[\"2019\"][\"07\"],\n",
    "    extent_file=monthly_means[0],\n",
    "    country_boundaries=[malaysia_boundary_clipped, singapore_boundary],\n",
    "    country_names=[\"Malaysia\", \"Singapore\"],\n",
    "    change_type=\"magnitude\",\n",
    "    location=\"Singapore\",\n",
    "    titles=[\n",
    "        \"July 2018 Mean NO2 ($\\mathrm{mol \\cdot m^{-2}}$)\",\n",
    "        \"July 2019 Mean NO2 ($\\mathrm{mol \\cdot m^{-2}}$)\",\n",
    "        \"Change in Mean NO2 ($\\mathrm{mol \\cdot m^{-2}}$)\",\n",
    "    ],\n",
    "    data_source=\"European Space Agency\",\n",
    ")\n",
    "\n",
    "rd.save_figure(\n",
    "    os.path.join(\n",
    "        \"04-graphics-outputs\",\n",
    "        \"spatial-plots\",\n",
    "        \"singapore\",\n",
    "        \"singapore-no2-mean-change-magnitude-jul-2018-2019.png\",\n",
    "    )\n",
    ")"
   ]
  },
  {
   "cell_type": "code",
   "execution_count": null,
   "metadata": {
    "ExecuteTime": {
     "end_time": "2020-10-22T18:29:32.105925Z",
     "start_time": "2020-10-22T18:29:27.184264Z"
    }
   },
   "outputs": [],
   "source": [
    "# Plot and export August 2018-2019 change\n",
    "fig, ax = stl.plot_monthly_comparison(\n",
    "    pre_change=no2_dict[\"2018\"][\"08\"],\n",
    "    post_change=no2_dict[\"2019\"][\"08\"],\n",
    "    extent_file=monthly_means[0],\n",
    "    country_boundaries=[malaysia_boundary_clipped, singapore_boundary],\n",
    "    country_names=[\"Malaysia\", \"Singapore\"],\n",
    "    change_type=\"magnitude\",\n",
    "    location=\"Singapore\",\n",
    "    titles=[\n",
    "        \"August 2018 Mean NO2 ($\\mathrm{mol \\cdot m^{-2}}$)\",\n",
    "        \"August 2019 Mean NO2 ($\\mathrm{mol \\cdot m^{-2}}$)\",\n",
    "        \"Change in Mean NO2 ($\\mathrm{mol \\cdot m^{-2}}$)\",\n",
    "    ],\n",
    "    data_source=\"European Space Agency\",\n",
    ")\n",
    "\n",
    "rd.save_figure(\n",
    "    os.path.join(\n",
    "        \"04-graphics-outputs\",\n",
    "        \"spatial-plots\",\n",
    "        \"singapore\",\n",
    "        \"singapore-no2-mean-change-magnitude-aug-2018-2019.png\",\n",
    "    )\n",
    ")"
   ]
  },
  {
   "cell_type": "code",
   "execution_count": null,
   "metadata": {
    "ExecuteTime": {
     "end_time": "2020-10-22T18:29:36.646718Z",
     "start_time": "2020-10-22T18:29:32.107922Z"
    }
   },
   "outputs": [],
   "source": [
    "# Plot and export September 2018-2019 change\n",
    "fig, ax = stl.plot_monthly_comparison(\n",
    "    pre_change=no2_dict[\"2018\"][\"09\"],\n",
    "    post_change=no2_dict[\"2019\"][\"09\"],\n",
    "    extent_file=monthly_means[0],\n",
    "    country_boundaries=[malaysia_boundary_clipped, singapore_boundary],\n",
    "    country_names=[\"Malaysia\", \"Singapore\"],\n",
    "    change_type=\"magnitude\",\n",
    "    location=\"Singapore\",\n",
    "    titles=[\n",
    "        \"September 2018 Mean NO2 ($\\mathrm{mol \\cdot m^{-2}}$)\",\n",
    "        \"September 2019 Mean NO2 ($\\mathrm{mol \\cdot m^{-2}}$)\",\n",
    "        \"Change in Mean NO2 ($\\mathrm{mol \\cdot m^{-2}}$)\",\n",
    "    ],\n",
    "    data_source=\"European Space Agency\",\n",
    ")\n",
    "\n",
    "rd.save_figure(\n",
    "    os.path.join(\n",
    "        \"04-graphics-outputs\",\n",
    "        \"spatial-plots\",\n",
    "        \"singapore\",\n",
    "        \"singapore-no2-mean-change-magnitude-sep-2018-2019.png\",\n",
    "    )\n",
    ")"
   ]
  },
  {
   "cell_type": "code",
   "execution_count": null,
   "metadata": {
    "ExecuteTime": {
     "end_time": "2020-10-22T18:29:40.760627Z",
     "start_time": "2020-10-22T18:29:36.648687Z"
    }
   },
   "outputs": [],
   "source": [
    "# Plot and export October 2018-2019 change\n",
    "fig, ax = stl.plot_monthly_comparison(\n",
    "    pre_change=no2_dict[\"2018\"][\"10\"],\n",
    "    post_change=no2_dict[\"2019\"][\"10\"],\n",
    "    extent_file=monthly_means[0],\n",
    "    country_boundaries=[malaysia_boundary_clipped, singapore_boundary],\n",
    "    country_names=[\"Malaysia\", \"Singapore\"],\n",
    "    change_type=\"magnitude\",\n",
    "    location=\"Singapore\",\n",
    "    titles=[\n",
    "        \"October 2018 Mean NO2 ($\\mathrm{mol \\cdot m^{-2}}$)\",\n",
    "        \"October 2019 Mean NO2 ($\\mathrm{mol \\cdot m^{-2}}$)\",\n",
    "        \"Change in Mean NO2 ($\\mathrm{mol \\cdot m^{-2}}$)\",\n",
    "    ],\n",
    "    data_source=\"European Space Agency\",\n",
    ")\n",
    "\n",
    "rd.save_figure(\n",
    "    os.path.join(\n",
    "        \"04-graphics-outputs\",\n",
    "        \"spatial-plots\",\n",
    "        \"singapore\",\n",
    "        \"singapore-no2-mean-change-magnitude-oct-2018-2019.png\",\n",
    "    )\n",
    ")"
   ]
  },
  {
   "cell_type": "code",
   "execution_count": null,
   "metadata": {
    "ExecuteTime": {
     "end_time": "2020-10-22T18:29:45.505539Z",
     "start_time": "2020-10-22T18:29:40.762593Z"
    }
   },
   "outputs": [],
   "source": [
    "# Plot and export November 2018-2019 change\n",
    "fig, ax = stl.plot_monthly_comparison(\n",
    "    pre_change=no2_dict[\"2018\"][\"11\"],\n",
    "    post_change=no2_dict[\"2019\"][\"11\"],\n",
    "    extent_file=monthly_means[0],\n",
    "    country_boundaries=[malaysia_boundary_clipped, singapore_boundary],\n",
    "    country_names=[\"Malaysia\", \"Singapore\"],\n",
    "    change_type=\"magnitude\",\n",
    "    location=\"Singapore\",\n",
    "    titles=[\n",
    "        \"November 2018 Mean NO2 ($\\mathrm{mol \\cdot m^{-2}}$)\",\n",
    "        \"November 2019 Mean NO2 ($\\mathrm{mol \\cdot m^{-2}}$)\",\n",
    "        \"Change in Mean NO2 ($\\mathrm{mol \\cdot m^{-2}}$)\",\n",
    "    ],\n",
    "    data_source=\"European Space Agency\",\n",
    ")\n",
    "\n",
    "rd.save_figure(\n",
    "    os.path.join(\n",
    "        \"04-graphics-outputs\",\n",
    "        \"spatial-plots\",\n",
    "        \"singapore\",\n",
    "        \"singapore-no2-mean-change-magnitude-nov-2018-2019.png\",\n",
    "    )\n",
    ")"
   ]
  },
  {
   "cell_type": "code",
   "execution_count": null,
   "metadata": {
    "ExecuteTime": {
     "end_time": "2020-10-22T18:29:50.058886Z",
     "start_time": "2020-10-22T18:29:45.507534Z"
    }
   },
   "outputs": [],
   "source": [
    "# Plot and export December 2018-2019 change\n",
    "fig, ax = stl.plot_monthly_comparison(\n",
    "    pre_change=no2_dict[\"2018\"][\"12\"],\n",
    "    post_change=no2_dict[\"2019\"][\"12\"],\n",
    "    extent_file=monthly_means[0],\n",
    "    country_boundaries=[malaysia_boundary_clipped, singapore_boundary],\n",
    "    country_names=[\"Malaysia\", \"Singapore\"],\n",
    "    change_type=\"magnitude\",\n",
    "    location=\"Singapore\",\n",
    "    titles=[\n",
    "        \"December 2018 Mean NO2 ($\\mathrm{mol \\cdot m^{-2}}$)\",\n",
    "        \"December 2019 Mean NO2 ($\\mathrm{mol \\cdot m^{-2}}$)\",\n",
    "        \"Change in Mean NO2 ($\\mathrm{mol \\cdot m^{-2}}$)\",\n",
    "    ],\n",
    "    data_source=\"European Space Agency\",\n",
    ")\n",
    "\n",
    "rd.save_figure(\n",
    "    os.path.join(\n",
    "        \"04-graphics-outputs\",\n",
    "        \"spatial-plots\",\n",
    "        \"singapore\",\n",
    "        \"singapore-no2-mean-change-magnitude-dec-2018-2019.png\",\n",
    "    )\n",
    ")"
   ]
  },
  {
   "cell_type": "code",
   "execution_count": null,
   "metadata": {
    "ExecuteTime": {
     "end_time": "2020-10-22T18:29:54.219667Z",
     "start_time": "2020-10-22T18:29:50.060872Z"
    }
   },
   "outputs": [],
   "source": [
    "# Plot and export January 2019-2020 change\n",
    "fig, ax = stl.plot_monthly_comparison(\n",
    "    pre_change=no2_dict[\"2019\"][\"01\"],\n",
    "    post_change=no2_dict[\"2020\"][\"01\"],\n",
    "    extent_file=monthly_means[0],\n",
    "    country_boundaries=[malaysia_boundary_clipped, singapore_boundary],\n",
    "    country_names=[\"Malaysia\", \"Singapore\"],\n",
    "    change_type=\"magnitude\",\n",
    "    location=\"Singapore\",\n",
    "    titles=[\n",
    "        \"January 2019 Mean NO2 ($\\mathrm{mol \\cdot m^{-2}}$)\",\n",
    "        \"January 2020 Mean NO2 ($\\mathrm{mol \\cdot m^{-2}}$)\",\n",
    "        \"Change in Mean NO2 ($\\mathrm{mol \\cdot m^{-2}}$)\",\n",
    "    ],\n",
    "    data_source=\"European Space Agency\",\n",
    ")\n",
    "\n",
    "rd.save_figure(\n",
    "    os.path.join(\n",
    "        \"04-graphics-outputs\",\n",
    "        \"spatial-plots\",\n",
    "        \"singapore\",\n",
    "        \"singapore-no2-mean-change-magnitude-jan-2019-2020.png\",\n",
    "    )\n",
    ")"
   ]
  },
  {
   "cell_type": "code",
   "execution_count": null,
   "metadata": {
    "ExecuteTime": {
     "end_time": "2020-10-22T18:29:58.229599Z",
     "start_time": "2020-10-22T18:29:54.221664Z"
    }
   },
   "outputs": [],
   "source": [
    "# Plot and export February 2019-2020 change\n",
    "fig, ax = stl.plot_monthly_comparison(\n",
    "    pre_change=no2_dict[\"2019\"][\"02\"],\n",
    "    post_change=no2_dict[\"2020\"][\"02\"],\n",
    "    extent_file=monthly_means[0],\n",
    "    country_boundaries=[malaysia_boundary_clipped, singapore_boundary],\n",
    "    country_names=[\"Malaysia\", \"Singapore\"],\n",
    "    change_type=\"magnitude\",\n",
    "    location=\"Singapore\",\n",
    "    titles=[\n",
    "        \"February 2019 Mean NO2 ($\\mathrm{mol \\cdot m^{-2}}$)\",\n",
    "        \"February 2020 Mean NO2 ($\\mathrm{mol \\cdot m^{-2}}$)\",\n",
    "        \"Change in Mean NO2 ($\\mathrm{mol \\cdot m^{-2}}$)\",\n",
    "    ],\n",
    "    data_source=\"European Space Agency\",\n",
    ")\n",
    "\n",
    "rd.save_figure(\n",
    "    os.path.join(\n",
    "        \"04-graphics-outputs\",\n",
    "        \"spatial-plots\",\n",
    "        \"singapore\",\n",
    "        \"singapore-no2-mean-change-magnitude-feb-2019-2020.png\",\n",
    "    )\n",
    ")"
   ]
  },
  {
   "cell_type": "code",
   "execution_count": null,
   "metadata": {
    "ExecuteTime": {
     "end_time": "2020-10-22T18:30:02.268171Z",
     "start_time": "2020-10-22T18:29:58.231595Z"
    }
   },
   "outputs": [],
   "source": [
    "# Plot and export March 2019-2020 change\n",
    "fig, ax = stl.plot_monthly_comparison(\n",
    "    pre_change=no2_dict[\"2019\"][\"03\"],\n",
    "    post_change=no2_dict[\"2020\"][\"03\"],\n",
    "    extent_file=monthly_means[0],\n",
    "    country_boundaries=[malaysia_boundary_clipped, singapore_boundary],\n",
    "    country_names=[\"Malaysia\", \"Singapore\"],\n",
    "    change_type=\"magnitude\",\n",
    "    location=\"Singapore\",\n",
    "    titles=[\n",
    "        \"March 2019 Mean NO2 ($\\mathrm{mol \\cdot m^{-2}}$)\",\n",
    "        \"March 2020 Mean NO2 ($\\mathrm{mol \\cdot m^{-2}}$)\",\n",
    "        \"Change in Mean NO2 ($\\mathrm{mol \\cdot m^{-2}}$)\",\n",
    "    ],\n",
    "    data_source=\"European Space Agency\",\n",
    ")\n",
    "\n",
    "rd.save_figure(\n",
    "    os.path.join(\n",
    "        \"04-graphics-outputs\",\n",
    "        \"spatial-plots\",\n",
    "        \"singapore\",\n",
    "        \"singapore-no2-mean-change-magnitude-mar-2019-2020.png\",\n",
    "    )\n",
    ")"
   ]
  },
  {
   "cell_type": "code",
   "execution_count": null,
   "metadata": {
    "ExecuteTime": {
     "end_time": "2020-10-22T18:30:06.918527Z",
     "start_time": "2020-10-22T18:30:02.270162Z"
    }
   },
   "outputs": [],
   "source": [
    "# Plot and export April 2019-2020 change\n",
    "fig, ax = stl.plot_monthly_comparison(\n",
    "    pre_change=no2_dict[\"2019\"][\"04\"],\n",
    "    post_change=no2_dict[\"2020\"][\"04\"],\n",
    "    extent_file=monthly_means[0],\n",
    "    country_boundaries=[malaysia_boundary_clipped, singapore_boundary],\n",
    "    country_names=[\"Malaysia\", \"Singapore\"],\n",
    "    change_type=\"magnitude\",\n",
    "    location=\"Singapore\",\n",
    "    titles=[\n",
    "        \"April 2019 Mean NO2 ($\\mathrm{mol \\cdot m^{-2}}$)\",\n",
    "        \"April 2020 Mean NO2 ($\\mathrm{mol \\cdot m^{-2}}$)\",\n",
    "        \"Change in Mean NO2 ($\\mathrm{mol \\cdot m^{-2}}$)\",\n",
    "    ],\n",
    "    data_source=\"European Space Agency\",\n",
    ")\n",
    "\n",
    "rd.save_figure(\n",
    "    os.path.join(\n",
    "        \"04-graphics-outputs\",\n",
    "        \"spatial-plots\",\n",
    "        \"singapore\",\n",
    "        \"singapore-no2-mean-change-magnitude-apr-2019-2020.png\",\n",
    "    )\n",
    ")"
   ]
  },
  {
   "cell_type": "code",
   "execution_count": null,
   "metadata": {
    "ExecuteTime": {
     "end_time": "2020-10-22T18:30:11.401470Z",
     "start_time": "2020-10-22T18:30:06.920521Z"
    }
   },
   "outputs": [],
   "source": [
    "# Plot and export May 2019-2020 change\n",
    "fig, ax = stl.plot_monthly_comparison(\n",
    "    pre_change=no2_dict[\"2019\"][\"05\"],\n",
    "    post_change=no2_dict[\"2020\"][\"05\"],\n",
    "    extent_file=monthly_means[0],\n",
    "    country_boundaries=[malaysia_boundary_clipped, singapore_boundary],\n",
    "    country_names=[\"Malaysia\", \"Singapore\"],\n",
    "    change_type=\"magnitude\",\n",
    "    location=\"Singapore\",\n",
    "    titles=[\n",
    "        \"May 2019 Mean NO2 ($\\mathrm{mol \\cdot m^{-2}}$)\",\n",
    "        \"May 2020 Mean NO2 ($\\mathrm{mol \\cdot m^{-2}}$)\",\n",
    "        \"Change in Mean NO2 ($\\mathrm{mol \\cdot m^{-2}}$)\",\n",
    "    ],\n",
    "    data_source=\"European Space Agency\",\n",
    ")\n",
    "\n",
    "rd.save_figure(\n",
    "    os.path.join(\n",
    "        \"04-graphics-outputs\",\n",
    "        \"spatial-plots\",\n",
    "        \"singapore\",\n",
    "        \"singapore-no2-mean-change-magnitude-may-2019-2020.png\",\n",
    "    )\n",
    ")"
   ]
  },
  {
   "cell_type": "code",
   "execution_count": null,
   "metadata": {
    "ExecuteTime": {
     "end_time": "2020-10-22T18:30:15.948887Z",
     "start_time": "2020-10-22T18:30:11.403464Z"
    }
   },
   "outputs": [],
   "source": [
    "# Plot and export June 2019-2020 change\n",
    "fig, ax = stl.plot_monthly_comparison(\n",
    "    pre_change=no2_dict[\"2019\"][\"06\"],\n",
    "    post_change=no2_dict[\"2020\"][\"06\"],\n",
    "    extent_file=monthly_means[0],\n",
    "    country_boundaries=[malaysia_boundary_clipped, singapore_boundary],\n",
    "    country_names=[\"Malaysia\", \"Singapore\"],\n",
    "    change_type=\"magnitude\",\n",
    "    location=\"Singapore\",\n",
    "    titles=[\n",
    "        \"June 2019 Mean NO2 ($\\mathrm{mol \\cdot m^{-2}}$)\",\n",
    "        \"June 2020 Mean NO2 ($\\mathrm{mol \\cdot m^{-2}}$)\",\n",
    "        \"Change in Mean NO2 ($\\mathrm{mol \\cdot m^{-2}}$)\",\n",
    "    ],\n",
    "    data_source=\"European Space Agency\",\n",
    ")\n",
    "\n",
    "rd.save_figure(\n",
    "    os.path.join(\n",
    "        \"04-graphics-outputs\",\n",
    "        \"spatial-plots\",\n",
    "        \"singapore\",\n",
    "        \"singapore-no2-mean-change-magnitude-jun-2019-2020.png\",\n",
    "    )\n",
    ")"
   ]
  },
  {
   "cell_type": "code",
   "execution_count": null,
   "metadata": {
    "ExecuteTime": {
     "end_time": "2020-10-22T18:30:20.140022Z",
     "start_time": "2020-10-22T18:30:15.950881Z"
    }
   },
   "outputs": [],
   "source": [
    "# Plot and export July 2019-2020 change\n",
    "fig, ax = stl.plot_monthly_comparison(\n",
    "    pre_change=no2_dict[\"2019\"][\"07\"],\n",
    "    post_change=no2_dict[\"2020\"][\"07\"],\n",
    "    extent_file=monthly_means[0],\n",
    "    country_boundaries=[malaysia_boundary_clipped, singapore_boundary],\n",
    "    country_names=[\"Malaysia\", \"Singapore\"],\n",
    "    change_type=\"magnitude\",\n",
    "    location=\"Singapore\",\n",
    "    titles=[\n",
    "        \"Jul 2019 Mean NO2 ($\\mathrm{mol \\cdot m^{-2}}$)\",\n",
    "        \"Jul 2020 Mean NO2 ($\\mathrm{mol \\cdot m^{-2}}$)\",\n",
    "        \"Change in Mean NO2 ($\\mathrm{mol \\cdot m^{-2}}$)\",\n",
    "    ],\n",
    "    data_source=\"European Space Agency\",\n",
    ")\n",
    "\n",
    "rd.save_figure(\n",
    "    os.path.join(\n",
    "        \"04-graphics-outputs\",\n",
    "        \"spatial-plots\",\n",
    "        \"singapore\",\n",
    "        \"singapore-no2-mean-change-magnitude-jul-2019-2020.png\",\n",
    "    )\n",
    ")"
   ]
  },
  {
   "cell_type": "markdown",
   "metadata": {},
   "source": [
    "### Percent Change"
   ]
  },
  {
   "cell_type": "markdown",
   "metadata": {},
   "source": [
    "#### Georeferenced"
   ]
  },
  {
   "cell_type": "code",
   "execution_count": null,
   "metadata": {
    "ExecuteTime": {
     "end_time": "2020-10-22T18:30:20.158970Z",
     "start_time": "2020-10-22T18:30:20.141039Z"
    }
   },
   "outputs": [],
   "source": [
    "# Extract metadata from GeoTiff\n",
    "metadata = stl.extract_geotiff_metadata(monthly_means[0])\n",
    "metadata"
   ]
  },
  {
   "cell_type": "code",
   "execution_count": null,
   "metadata": {
    "ExecuteTime": {
     "end_time": "2020-10-22T18:30:20.460170Z",
     "start_time": "2020-10-22T18:30:20.161963Z"
    }
   },
   "outputs": [],
   "source": [
    "# Export monthly NO2 change (percent)\n",
    "export_files = [\n",
    "    (\n",
    "        percent_change_jul_2018_2019,\n",
    "        os.path.join(\n",
    "            \"03-processed-data\",\n",
    "            \"raster\",\n",
    "            \"singapore\",\n",
    "            \"change\",\n",
    "            \"singapore-no2-mean-change-percent-jul-2018-2019.tif\",\n",
    "        ),\n",
    "    ),\n",
    "    (\n",
    "        percent_change_aug_2018_2019,\n",
    "        os.path.join(\n",
    "            \"03-processed-data\",\n",
    "            \"raster\",\n",
    "            \"singapore\",\n",
    "            \"change\",\n",
    "            \"singapore-no2-mean-change-percent-aug-2018-2019.tif\",\n",
    "        ),\n",
    "    ),\n",
    "    (\n",
    "        percent_change_sep_2018_2019,\n",
    "        os.path.join(\n",
    "            \"03-processed-data\",\n",
    "            \"raster\",\n",
    "            \"singapore\",\n",
    "            \"change\",\n",
    "            \"singapore-no2-mean-change-percent-sep-2018-2019.tif\",\n",
    "        ),\n",
    "    ),\n",
    "    (\n",
    "        percent_change_oct_2018_2019,\n",
    "        os.path.join(\n",
    "            \"03-processed-data\",\n",
    "            \"raster\",\n",
    "            \"singapore\",\n",
    "            \"change\",\n",
    "            \"singapore-no2-mean-change-percent-oct-2018-2019.tif\",\n",
    "        ),\n",
    "    ),\n",
    "    (\n",
    "        percent_change_nov_2018_2019,\n",
    "        os.path.join(\n",
    "            \"03-processed-data\",\n",
    "            \"raster\",\n",
    "            \"singapore\",\n",
    "            \"change\",\n",
    "            \"singapore-no2-mean-change-percent-nov-2018-2019.tif\",\n",
    "        ),\n",
    "    ),\n",
    "    (\n",
    "        percent_change_dec_2018_2019,\n",
    "        os.path.join(\n",
    "            \"03-processed-data\",\n",
    "            \"raster\",\n",
    "            \"singapore\",\n",
    "            \"change\",\n",
    "            \"singapore-no2-mean-change-percent-dec-2018-2019.tif\",\n",
    "        ),\n",
    "    ),\n",
    "    (\n",
    "        percent_change_jan_2019_2020,\n",
    "        os.path.join(\n",
    "            \"03-processed-data\",\n",
    "            \"raster\",\n",
    "            \"singapore\",\n",
    "            \"change\",\n",
    "            \"singapore-no2-mean-change-percent-jan-2019-2020.tif\",\n",
    "        ),\n",
    "    ),\n",
    "    (\n",
    "        percent_change_feb_2019_2020,\n",
    "        os.path.join(\n",
    "            \"03-processed-data\",\n",
    "            \"raster\",\n",
    "            \"singapore\",\n",
    "            \"change\",\n",
    "            \"singapore-no2-mean-change-percent-feb-2019-2020.tif\",\n",
    "        ),\n",
    "    ),\n",
    "    (\n",
    "        percent_change_mar_2019_2020,\n",
    "        os.path.join(\n",
    "            \"03-processed-data\",\n",
    "            \"raster\",\n",
    "            \"singapore\",\n",
    "            \"change\",\n",
    "            \"singapore-no2-mean-change-percent-mar-2019-2020.tif\",\n",
    "        ),\n",
    "    ),\n",
    "    (\n",
    "        percent_change_apr_2019_2020,\n",
    "        os.path.join(\n",
    "            \"03-processed-data\",\n",
    "            \"raster\",\n",
    "            \"singapore\",\n",
    "            \"change\",\n",
    "            \"singapore-no2-mean-change-percent-apr-2019-2020.tif\",\n",
    "        ),\n",
    "    ),\n",
    "    (\n",
    "        percent_change_may_2019_2020,\n",
    "        os.path.join(\n",
    "            \"03-processed-data\",\n",
    "            \"raster\",\n",
    "            \"singapore\",\n",
    "            \"change\",\n",
    "            \"singapore-no2-mean-change-percent-may-2019-2020.tif\",\n",
    "        ),\n",
    "    ),\n",
    "    (\n",
    "        percent_change_jun_2019_2020,\n",
    "        os.path.join(\n",
    "            \"03-processed-data\",\n",
    "            \"raster\",\n",
    "            \"singapore\",\n",
    "            \"change\",\n",
    "            \"singapore-no2-mean-change-percent-jun-2019-2020.tif\",\n",
    "        ),\n",
    "    ),\n",
    "    (\n",
    "        percent_change_jul_2019_2020,\n",
    "        os.path.join(\n",
    "            \"03-processed-data\",\n",
    "            \"raster\",\n",
    "            \"singapore\",\n",
    "            \"change\",\n",
    "            \"singapore-no2-mean-change-percent-jul-2019-2020.tif\",\n",
    "        ),\n",
    "    ),\n",
    "]\n",
    "\n",
    "for (array, outpath) in export_files:\n",
    "    rd.export_array(array, outpath, metadata)"
   ]
  },
  {
   "cell_type": "markdown",
   "metadata": {},
   "source": [
    "#### Non-Georeferenced"
   ]
  },
  {
   "cell_type": "markdown",
   "metadata": {},
   "source": [
    "##### Regular Scale"
   ]
  },
  {
   "cell_type": "code",
   "execution_count": null,
   "metadata": {
    "ExecuteTime": {
     "end_time": "2020-10-22T18:30:26.011186Z",
     "start_time": "2020-10-22T18:30:20.462165Z"
    }
   },
   "outputs": [],
   "source": [
    "# Plot and export July 2018-2019 change\n",
    "fig, ax = stl.plot_monthly_comparison(\n",
    "    pre_change=no2_dict[\"2018\"][\"07\"],\n",
    "    post_change=no2_dict[\"2019\"][\"07\"],\n",
    "    extent_file=monthly_means[0],\n",
    "    country_boundaries=[malaysia_boundary_clipped, singapore_boundary],\n",
    "    country_names=[\"Malaysia\", \"Singapore\"],\n",
    "    change_type=\"percent\",\n",
    "    location=\"Singapore\",\n",
    "    titles=[\n",
    "        \"July 2018 Mean NO2 ($\\mathrm{mol \\cdot m^{-2}}$)\",\n",
    "        \"July 2019 Mean NO2 ($\\mathrm{mol \\cdot m^{-2}}$)\",\n",
    "        \"Change in Mean NO2 (%)\",\n",
    "    ],\n",
    "    data_source=\"European Space Agency\",\n",
    ")\n",
    "\n",
    "rd.save_figure(\n",
    "    os.path.join(\n",
    "        \"04-graphics-outputs\",\n",
    "        \"spatial-plots\",\n",
    "        \"singapore\",\n",
    "        \"singapore-no2-mean-change-percent-jul-2018-2019.png\",\n",
    "    )\n",
    ")"
   ]
  },
  {
   "cell_type": "code",
   "execution_count": null,
   "metadata": {
    "ExecuteTime": {
     "end_time": "2020-10-22T18:30:31.064274Z",
     "start_time": "2020-10-22T18:30:26.013189Z"
    }
   },
   "outputs": [],
   "source": [
    "# Plot and export August 2018-2019 change\n",
    "fig, ax = stl.plot_monthly_comparison(\n",
    "    pre_change=no2_dict[\"2018\"][\"08\"],\n",
    "    post_change=no2_dict[\"2019\"][\"08\"],\n",
    "    extent_file=monthly_means[0],\n",
    "    country_boundaries=[malaysia_boundary_clipped, singapore_boundary],\n",
    "    country_names=[\"Malaysia\", \"Singapore\"],\n",
    "    change_type=\"percent\",\n",
    "    location=\"Singapore\",\n",
    "    titles=[\n",
    "        \"August 2018 Mean NO2 ($\\mathrm{mol \\cdot m^{-2}}$)\",\n",
    "        \"August 2019 Mean NO2 ($\\mathrm{mol \\cdot m^{-2}}$)\",\n",
    "        \"Change in Mean NO2 (%)\",\n",
    "    ],\n",
    "    data_source=\"European Space Agency\",\n",
    ")\n",
    "\n",
    "rd.save_figure(\n",
    "    os.path.join(\n",
    "        \"04-graphics-outputs\",\n",
    "        \"spatial-plots\",\n",
    "        \"singapore\",\n",
    "        \"singapore-no2-mean-change-percent-aug-2018-2019.png\",\n",
    "    )\n",
    ")"
   ]
  },
  {
   "cell_type": "code",
   "execution_count": null,
   "metadata": {
    "ExecuteTime": {
     "end_time": "2020-10-22T18:30:35.613926Z",
     "start_time": "2020-10-22T18:30:31.066236Z"
    }
   },
   "outputs": [],
   "source": [
    "# Plot and export September 2018-2019 change\n",
    "fig, ax = stl.plot_monthly_comparison(\n",
    "    pre_change=no2_dict[\"2018\"][\"09\"],\n",
    "    post_change=no2_dict[\"2019\"][\"09\"],\n",
    "    extent_file=monthly_means[0],\n",
    "    country_boundaries=[malaysia_boundary_clipped, singapore_boundary],\n",
    "    country_names=[\"Malaysia\", \"Singapore\"],\n",
    "    change_type=\"percent\",\n",
    "    location=\"Singapore\",\n",
    "    titles=[\n",
    "        \"September 2018 Mean NO2 ($\\mathrm{mol \\cdot m^{-2}}$)\",\n",
    "        \"September 2019 Mean NO2 ($\\mathrm{mol \\cdot m^{-2}}$)\",\n",
    "        \"Change in Mean NO2 (%)\",\n",
    "    ],\n",
    "    data_source=\"European Space Agency\",\n",
    ")\n",
    "\n",
    "rd.save_figure(\n",
    "    os.path.join(\n",
    "        \"04-graphics-outputs\",\n",
    "        \"spatial-plots\",\n",
    "        \"singapore\",\n",
    "        \"singapore-no2-mean-change-percent-sep-2018-2019.png\",\n",
    "    )\n",
    ")"
   ]
  },
  {
   "cell_type": "code",
   "execution_count": null,
   "metadata": {
    "ExecuteTime": {
     "end_time": "2020-10-22T18:30:41.216276Z",
     "start_time": "2020-10-22T18:30:35.616917Z"
    }
   },
   "outputs": [],
   "source": [
    "# Plot and export October 2018-2019 change\n",
    "fig, ax = stl.plot_monthly_comparison(\n",
    "    pre_change=no2_dict[\"2018\"][\"10\"],\n",
    "    post_change=no2_dict[\"2019\"][\"10\"],\n",
    "    extent_file=monthly_means[0],\n",
    "    country_boundaries=[malaysia_boundary_clipped, singapore_boundary],\n",
    "    country_names=[\"Malaysia\", \"Singapore\"],\n",
    "    change_type=\"percent\",\n",
    "    location=\"Singapore\",\n",
    "    titles=[\n",
    "        \"October 2018 Mean NO2 ($\\mathrm{mol \\cdot m^{-2}}$)\",\n",
    "        \"October 2019 Mean NO2 ($\\mathrm{mol \\cdot m^{-2}}$)\",\n",
    "        \"Change in Mean NO2 (%)\",\n",
    "    ],\n",
    "    data_source=\"European Space Agency\",\n",
    ")\n",
    "\n",
    "rd.save_figure(\n",
    "    os.path.join(\n",
    "        \"04-graphics-outputs\",\n",
    "        \"spatial-plots\",\n",
    "        \"singapore\",\n",
    "        \"singapore-no2-mean-change-percent-oct-2018-2019.png\",\n",
    "    )\n",
    ")"
   ]
  },
  {
   "cell_type": "code",
   "execution_count": null,
   "metadata": {
    "ExecuteTime": {
     "end_time": "2020-10-22T18:30:46.318557Z",
     "start_time": "2020-10-22T18:30:41.218271Z"
    }
   },
   "outputs": [],
   "source": [
    "# Plot and export November 2018-2019 change\n",
    "fig, ax = stl.plot_monthly_comparison(\n",
    "    pre_change=no2_dict[\"2018\"][\"11\"],\n",
    "    post_change=no2_dict[\"2019\"][\"11\"],\n",
    "    extent_file=monthly_means[0],\n",
    "    country_boundaries=[malaysia_boundary_clipped, singapore_boundary],\n",
    "    country_names=[\"Malaysia\", \"Singapore\"],\n",
    "    change_type=\"percent\",\n",
    "    location=\"Singapore\",\n",
    "    titles=[\n",
    "        \"November 2018 Mean NO2 ($\\mathrm{mol \\cdot m^{-2}}$)\",\n",
    "        \"November 2019 Mean NO2 ($\\mathrm{mol \\cdot m^{-2}}$)\",\n",
    "        \"Change in Mean NO2 (%)\",\n",
    "    ],\n",
    "    data_source=\"European Space Agency\",\n",
    ")\n",
    "\n",
    "rd.save_figure(\n",
    "    os.path.join(\n",
    "        \"04-graphics-outputs\",\n",
    "        \"spatial-plots\",\n",
    "        \"singapore\",\n",
    "        \"singapore-no2-mean-change-percent-nov-2018-2019.png\",\n",
    "    )\n",
    ")"
   ]
  },
  {
   "cell_type": "code",
   "execution_count": null,
   "metadata": {
    "ExecuteTime": {
     "end_time": "2020-10-22T18:30:50.754718Z",
     "start_time": "2020-10-22T18:30:46.335513Z"
    }
   },
   "outputs": [],
   "source": [
    "# Plot and export December 2018-2019 change\n",
    "fig, ax = stl.plot_monthly_comparison(\n",
    "    pre_change=no2_dict[\"2018\"][\"12\"],\n",
    "    post_change=no2_dict[\"2019\"][\"12\"],\n",
    "    extent_file=monthly_means[0],\n",
    "    country_boundaries=[malaysia_boundary_clipped, singapore_boundary],\n",
    "    country_names=[\"Malaysia\", \"Singapore\"],\n",
    "    change_type=\"percent\",\n",
    "    location=\"Singapore\",\n",
    "    titles=[\n",
    "        \"December 2018 Mean NO2 ($\\mathrm{mol \\cdot m^{-2}}$)\",\n",
    "        \"December 2019 Mean NO2 ($\\mathrm{mol \\cdot m^{-2}}$)\",\n",
    "        \"Change in Mean NO2 (%)\",\n",
    "    ],\n",
    "    data_source=\"European Space Agency\",\n",
    ")\n",
    "\n",
    "rd.save_figure(\n",
    "    os.path.join(\n",
    "        \"04-graphics-outputs\",\n",
    "        \"spatial-plots\",\n",
    "        \"singapore\",\n",
    "        \"singapore-no2-mean-change-percent-dec-2018-2019.png\",\n",
    "    )\n",
    ")"
   ]
  },
  {
   "cell_type": "code",
   "execution_count": null,
   "metadata": {
    "ExecuteTime": {
     "end_time": "2020-10-22T18:30:55.165999Z",
     "start_time": "2020-10-22T18:30:50.760671Z"
    }
   },
   "outputs": [],
   "source": [
    "# Plot and export January 2019-2020 change\n",
    "fig, ax = stl.plot_monthly_comparison(\n",
    "    pre_change=no2_dict[\"2019\"][\"01\"],\n",
    "    post_change=no2_dict[\"2020\"][\"01\"],\n",
    "    extent_file=monthly_means[0],\n",
    "    country_boundaries=[malaysia_boundary_clipped, singapore_boundary],\n",
    "    country_names=[\"Malaysia\", \"Singapore\"],\n",
    "    change_type=\"percent\",\n",
    "    location=\"Singapore\",\n",
    "    titles=[\n",
    "        \"January 2019 Mean NO2 ($\\mathrm{mol \\cdot m^{-2}}$)\",\n",
    "        \"January 2020 Mean NO2 ($\\mathrm{mol \\cdot m^{-2}}$)\",\n",
    "        \"Change in Mean NO2 (%)\",\n",
    "    ],\n",
    "    data_source=\"European Space Agency\",\n",
    ")\n",
    "\n",
    "rd.save_figure(\n",
    "    os.path.join(\n",
    "        \"04-graphics-outputs\",\n",
    "        \"spatial-plots\",\n",
    "        \"singapore\",\n",
    "        \"singapore-no2-mean-change-percent-jan-2019-2020.png\",\n",
    "    )\n",
    ")"
   ]
  },
  {
   "cell_type": "code",
   "execution_count": null,
   "metadata": {
    "ExecuteTime": {
     "end_time": "2020-10-22T18:30:59.849584Z",
     "start_time": "2020-10-22T18:30:55.167958Z"
    }
   },
   "outputs": [],
   "source": [
    "# Plot and export February 2019-2020 change\n",
    "fig, ax = stl.plot_monthly_comparison(\n",
    "    pre_change=no2_dict[\"2019\"][\"02\"],\n",
    "    post_change=no2_dict[\"2020\"][\"02\"],\n",
    "    extent_file=monthly_means[0],\n",
    "    country_boundaries=[malaysia_boundary_clipped, singapore_boundary],\n",
    "    country_names=[\"Malaysia\", \"Singapore\"],\n",
    "    change_type=\"percent\",\n",
    "    location=\"Singapore\",\n",
    "    titles=[\n",
    "        \"February 2019 Mean NO2 ($\\mathrm{mol \\cdot m^{-2}}$)\",\n",
    "        \"February 2020 Mean NO2 ($\\mathrm{mol \\cdot m^{-2}}$)\",\n",
    "        \"Change in Mean NO2 (%)\",\n",
    "    ],\n",
    "    data_source=\"European Space Agency\",\n",
    ")\n",
    "\n",
    "rd.save_figure(\n",
    "    os.path.join(\n",
    "        \"04-graphics-outputs\",\n",
    "        \"spatial-plots\",\n",
    "        \"singapore\",\n",
    "        \"singapore-no2-mean-change-percent-feb-2019-2020.png\",\n",
    "    )\n",
    ")"
   ]
  },
  {
   "cell_type": "code",
   "execution_count": null,
   "metadata": {
    "ExecuteTime": {
     "end_time": "2020-10-22T18:31:04.936905Z",
     "start_time": "2020-10-22T18:30:59.852561Z"
    }
   },
   "outputs": [],
   "source": [
    "# Plot and export March 2019-2020 change\n",
    "fig, ax = stl.plot_monthly_comparison(\n",
    "    pre_change=no2_dict[\"2019\"][\"03\"],\n",
    "    post_change=no2_dict[\"2020\"][\"03\"],\n",
    "    extent_file=monthly_means[0],\n",
    "    country_boundaries=[malaysia_boundary_clipped, singapore_boundary],\n",
    "    country_names=[\"Malaysia\", \"Singapore\"],\n",
    "    change_type=\"percent\",\n",
    "    location=\"Singapore\",\n",
    "    titles=[\n",
    "        \"March 2019 Mean NO2 ($\\mathrm{mol \\cdot m^{-2}}$)\",\n",
    "        \"March 2020 Mean NO2 ($\\mathrm{mol \\cdot m^{-2}}$)\",\n",
    "        \"Change in Mean NO2 (%)\",\n",
    "    ],\n",
    "    data_source=\"European Space Agency\",\n",
    ")\n",
    "\n",
    "rd.save_figure(\n",
    "    os.path.join(\n",
    "        \"04-graphics-outputs\",\n",
    "        \"spatial-plots\",\n",
    "        \"singapore\",\n",
    "        \"singapore-no2-mean-change-percent-mar-2019-2020.png\",\n",
    "    )\n",
    ")"
   ]
  },
  {
   "cell_type": "code",
   "execution_count": null,
   "metadata": {
    "ExecuteTime": {
     "end_time": "2020-10-22T18:31:09.569119Z",
     "start_time": "2020-10-22T18:31:04.938907Z"
    }
   },
   "outputs": [],
   "source": [
    "# Plot and export April 2019-2020 change\n",
    "fig, ax = stl.plot_monthly_comparison(\n",
    "    pre_change=no2_dict[\"2019\"][\"04\"],\n",
    "    post_change=no2_dict[\"2020\"][\"04\"],\n",
    "    extent_file=monthly_means[0],\n",
    "    country_boundaries=[malaysia_boundary_clipped, singapore_boundary],\n",
    "    country_names=[\"Malaysia\", \"Singapore\"],\n",
    "    change_type=\"percent\",\n",
    "    location=\"Singapore\",\n",
    "    titles=[\n",
    "        \"April 2019 Mean NO2 ($\\mathrm{mol \\cdot m^{-2}}$)\",\n",
    "        \"April 2020 Mean NO2 ($\\mathrm{mol \\cdot m^{-2}}$)\",\n",
    "        \"Change in Mean NO2 (%)\",\n",
    "    ],\n",
    "    data_source=\"European Space Agency\",\n",
    ")\n",
    "\n",
    "rd.save_figure(\n",
    "    os.path.join(\n",
    "        \"04-graphics-outputs\",\n",
    "        \"spatial-plots\",\n",
    "        \"singapore\",\n",
    "        \"singapore-no2-mean-change-percent-apr-2019-2020.png\",\n",
    "    )\n",
    ")"
   ]
  },
  {
   "cell_type": "code",
   "execution_count": null,
   "metadata": {
    "ExecuteTime": {
     "end_time": "2020-10-22T18:31:14.417231Z",
     "start_time": "2020-10-22T18:31:09.572117Z"
    }
   },
   "outputs": [],
   "source": [
    "# Plot and export May 2019-2020 change\n",
    "fig, ax = stl.plot_monthly_comparison(\n",
    "    pre_change=no2_dict[\"2019\"][\"05\"],\n",
    "    post_change=no2_dict[\"2020\"][\"05\"],\n",
    "    extent_file=monthly_means[0],\n",
    "    country_boundaries=[malaysia_boundary_clipped, singapore_boundary],\n",
    "    country_names=[\"Malaysia\", \"Singapore\"],\n",
    "    change_type=\"percent\",\n",
    "    location=\"Singapore\",\n",
    "    titles=[\n",
    "        \"May 2019 Mean NO2 ($\\mathrm{mol \\cdot m^{-2}}$)\",\n",
    "        \"May 2020 Mean NO2 ($\\mathrm{mol \\cdot m^{-2}}$)\",\n",
    "        \"Change in Mean NO2 (%)\",\n",
    "    ],\n",
    "    data_source=\"European Space Agency\",\n",
    ")\n",
    "\n",
    "rd.save_figure(\n",
    "    os.path.join(\n",
    "        \"04-graphics-outputs\",\n",
    "        \"spatial-plots\",\n",
    "        \"singapore\",\n",
    "        \"singapore-no2-mean-change-percent-may-2019-2020.png\",\n",
    "    )\n",
    ")"
   ]
  },
  {
   "cell_type": "code",
   "execution_count": null,
   "metadata": {
    "ExecuteTime": {
     "end_time": "2020-10-22T18:31:19.039419Z",
     "start_time": "2020-10-22T18:31:14.419226Z"
    }
   },
   "outputs": [],
   "source": [
    "# Plot and export June 2019-2020 change\n",
    "fig, ax = stl.plot_monthly_comparison(\n",
    "    pre_change=no2_dict[\"2019\"][\"06\"],\n",
    "    post_change=no2_dict[\"2020\"][\"06\"],\n",
    "    extent_file=monthly_means[0],\n",
    "    country_boundaries=[malaysia_boundary_clipped, singapore_boundary],\n",
    "    country_names=[\"Malaysia\", \"Singapore\"],\n",
    "    change_type=\"percent\",\n",
    "    location=\"Singapore\",\n",
    "    titles=[\n",
    "        \"June 2019 Mean NO2 ($\\mathrm{mol \\cdot m^{-2}}$)\",\n",
    "        \"June 2020 Mean NO2 ($\\mathrm{mol \\cdot m^{-2}}$)\",\n",
    "        \"Change in Mean NO2 (%)\",\n",
    "    ],\n",
    "    data_source=\"European Space Agency\",\n",
    ")\n",
    "\n",
    "rd.save_figure(\n",
    "    os.path.join(\n",
    "        \"04-graphics-outputs\",\n",
    "        \"spatial-plots\",\n",
    "        \"singapore\",\n",
    "        \"singapore-no2-mean-change-percent-jun-2019-2020.png\",\n",
    "    )\n",
    ")"
   ]
  },
  {
   "cell_type": "code",
   "execution_count": null,
   "metadata": {
    "ExecuteTime": {
     "end_time": "2020-10-22T18:31:23.922009Z",
     "start_time": "2020-10-22T18:31:19.041415Z"
    },
    "scrolled": false
   },
   "outputs": [],
   "source": [
    "# Plot and export July 2019-2020 change\n",
    "fig, ax = stl.plot_monthly_comparison(\n",
    "    pre_change=no2_dict[\"2019\"][\"07\"],\n",
    "    post_change=no2_dict[\"2020\"][\"07\"],\n",
    "    extent_file=monthly_means[0],\n",
    "    country_boundaries=[malaysia_boundary_clipped, singapore_boundary],\n",
    "    country_names=[\"Malaysia\", \"Singapore\"],\n",
    "    change_type=\"percent\",\n",
    "    location=\"Singapore\",\n",
    "    titles=[\n",
    "        \"Jul 2019 Mean NO2 ($\\mathrm{mol \\cdot m^{-2}}$)\",\n",
    "        \"Jul 2020 Mean NO2 ($\\mathrm{mol \\cdot m^{-2}}$)\",\n",
    "        \"Change in Mean NO2 (%)\",\n",
    "    ],\n",
    "    data_source=\"European Space Agency\",\n",
    ")\n",
    "\n",
    "rd.save_figure(\n",
    "    os.path.join(\n",
    "        \"04-graphics-outputs\",\n",
    "        \"spatial-plots\",\n",
    "        \"singapore\",\n",
    "        \"singapore-no2-mean-change-percent-jul-2019-2020.png\",\n",
    "    )\n",
    ")"
   ]
  },
  {
   "cell_type": "markdown",
   "metadata": {},
   "source": [
    "##### Limited Scale"
   ]
  },
  {
   "cell_type": "code",
   "execution_count": null,
   "metadata": {},
   "outputs": [],
   "source": [
    "# Plot and export July 2018-2019 change\n",
    "fig, ax = stl.plot_monthly_comparison_limit_scale(\n",
    "    pre_change=no2_dict[\"2018\"][\"07\"],\n",
    "    post_change=no2_dict[\"2019\"][\"07\"],\n",
    "    extent_file=monthly_means[0],\n",
    "    country_boundaries=[malaysia_boundary_clipped, singapore_boundary],\n",
    "    country_names=[\"Malaysia\", \"Singapore\"],\n",
    "    change_type=\"percent\",\n",
    "    location=\"Singapore\",\n",
    "    titles=[\n",
    "        \"July 2018 Mean NO2 ($\\mathrm{mol \\cdot m^{-2}}$)\",\n",
    "        \"July 2019 Mean NO2 ($\\mathrm{mol \\cdot m^{-2}}$)\",\n",
    "        \"Change in Mean NO2 (%)\",\n",
    "    ],\n",
    "    data_source=\"European Space Agency\",\n",
    ")\n",
    "\n",
    "rd.save_figure(\n",
    "    os.path.join(\n",
    "        \"04-graphics-outputs\",\n",
    "        \"spatial-plots\",\n",
    "        \"singapore\",\n",
    "        \"singapore-no2-mean-change-percent-limited-scale-jul-2018-2019.png\",\n",
    "    )\n",
    ")"
   ]
  },
  {
   "cell_type": "code",
   "execution_count": null,
   "metadata": {},
   "outputs": [],
   "source": [
    "# Plot and export August 2018-2019 change\n",
    "fig, ax = stl.plot_monthly_comparison_limit_scale(\n",
    "    pre_change=no2_dict[\"2018\"][\"08\"],\n",
    "    post_change=no2_dict[\"2019\"][\"08\"],\n",
    "    extent_file=monthly_means[0],\n",
    "    country_boundaries=[malaysia_boundary_clipped, singapore_boundary],\n",
    "    country_names=[\"Malaysia\", \"Singapore\"],\n",
    "    change_type=\"percent\",\n",
    "    location=\"Singapore\",\n",
    "    titles=[\n",
    "        \"August 2018 Mean NO2 ($\\mathrm{mol \\cdot m^{-2}}$)\",\n",
    "        \"August 2019 Mean NO2 ($\\mathrm{mol \\cdot m^{-2}}$)\",\n",
    "        \"Change in Mean NO2 (%)\",\n",
    "    ],\n",
    "    data_source=\"European Space Agency\",\n",
    ")\n",
    "\n",
    "rd.save_figure(\n",
    "    os.path.join(\n",
    "        \"04-graphics-outputs\",\n",
    "        \"spatial-plots\",\n",
    "        \"singapore\",\n",
    "        \"singapore-no2-mean-change-percent-limited-scale-aug-2018-2019.png\",\n",
    "    )\n",
    ")"
   ]
  },
  {
   "cell_type": "code",
   "execution_count": null,
   "metadata": {},
   "outputs": [],
   "source": [
    "# Plot and export September 2018-2019 change\n",
    "fig, ax = stl.plot_monthly_comparison_limit_scale(\n",
    "    pre_change=no2_dict[\"2018\"][\"09\"],\n",
    "    post_change=no2_dict[\"2019\"][\"09\"],\n",
    "    extent_file=monthly_means[0],\n",
    "    country_boundaries=[malaysia_boundary_clipped, singapore_boundary],\n",
    "    country_names=[\"Malaysia\", \"Singapore\"],\n",
    "    change_type=\"percent\",\n",
    "    location=\"Singapore\",\n",
    "    titles=[\n",
    "        \"September 2018 Mean NO2 ($\\mathrm{mol \\cdot m^{-2}}$)\",\n",
    "        \"September 2019 Mean NO2 ($\\mathrm{mol \\cdot m^{-2}}$)\",\n",
    "        \"Change in Mean NO2 (%)\",\n",
    "    ],\n",
    "    data_source=\"European Space Agency\",\n",
    ")\n",
    "\n",
    "rd.save_figure(\n",
    "    os.path.join(\n",
    "        \"04-graphics-outputs\",\n",
    "        \"spatial-plots\",\n",
    "        \"singapore\",\n",
    "        \"singapore-no2-mean-change-percent-limited-scale-sep-2018-2019.png\",\n",
    "    )\n",
    ")"
   ]
  },
  {
   "cell_type": "code",
   "execution_count": null,
   "metadata": {},
   "outputs": [],
   "source": [
    "# Plot and export October 2018-2019 change\n",
    "fig, ax = stl.plot_monthly_comparison_limit_scale(\n",
    "    pre_change=no2_dict[\"2018\"][\"10\"],\n",
    "    post_change=no2_dict[\"2019\"][\"10\"],\n",
    "    extent_file=monthly_means[0],\n",
    "    country_boundaries=[malaysia_boundary_clipped, singapore_boundary],\n",
    "    country_names=[\"Malaysia\", \"Singapore\"],\n",
    "    change_type=\"percent\",\n",
    "    location=\"Singapore\",\n",
    "    titles=[\n",
    "        \"October 2018 Mean NO2 ($\\mathrm{mol \\cdot m^{-2}}$)\",\n",
    "        \"October 2019 Mean NO2 ($\\mathrm{mol \\cdot m^{-2}}$)\",\n",
    "        \"Change in Mean NO2 (%)\",\n",
    "    ],\n",
    "    data_source=\"European Space Agency\",\n",
    ")\n",
    "\n",
    "rd.save_figure(\n",
    "    os.path.join(\n",
    "        \"04-graphics-outputs\",\n",
    "        \"spatial-plots\",\n",
    "        \"singapore\",\n",
    "        \"singapore-no2-mean-change-percent-limited-scale-oct-2018-2019.png\",\n",
    "    )\n",
    ")"
   ]
  },
  {
   "cell_type": "code",
   "execution_count": null,
   "metadata": {},
   "outputs": [],
   "source": [
    "# Plot and export November 2018-2019 change\n",
    "fig, ax = stl.plot_monthly_comparison_limit_scale(\n",
    "    pre_change=no2_dict[\"2018\"][\"11\"],\n",
    "    post_change=no2_dict[\"2019\"][\"11\"],\n",
    "    extent_file=monthly_means[0],\n",
    "    country_boundaries=[malaysia_boundary_clipped, singapore_boundary],\n",
    "    country_names=[\"Malaysia\", \"Singapore\"],\n",
    "    change_type=\"percent\",\n",
    "    location=\"Singapore\",\n",
    "    titles=[\n",
    "        \"November 2018 Mean NO2 ($\\mathrm{mol \\cdot m^{-2}}$)\",\n",
    "        \"November 2019 Mean NO2 ($\\mathrm{mol \\cdot m^{-2}}$)\",\n",
    "        \"Change in Mean NO2 (%)\",\n",
    "    ],\n",
    "    data_source=\"European Space Agency\",\n",
    ")\n",
    "\n",
    "rd.save_figure(\n",
    "    os.path.join(\n",
    "        \"04-graphics-outputs\",\n",
    "        \"spatial-plots\",\n",
    "        \"singapore\",\n",
    "        \"singapore-no2-mean-change-percent-limited-scale-nov-2018-2019.png\",\n",
    "    )\n",
    ")"
   ]
  },
  {
   "cell_type": "code",
   "execution_count": null,
   "metadata": {},
   "outputs": [],
   "source": [
    "# Plot and export December 2018-2019 change\n",
    "fig, ax = stl.plot_monthly_comparison_limit_scale(\n",
    "    pre_change=no2_dict[\"2018\"][\"12\"],\n",
    "    post_change=no2_dict[\"2019\"][\"12\"],\n",
    "    extent_file=monthly_means[0],\n",
    "    country_boundaries=[malaysia_boundary_clipped, singapore_boundary],\n",
    "    country_names=[\"Malaysia\", \"Singapore\"],\n",
    "    change_type=\"percent\",\n",
    "    location=\"Singapore\",\n",
    "    titles=[\n",
    "        \"December 2018 Mean NO2 ($\\mathrm{mol \\cdot m^{-2}}$)\",\n",
    "        \"December 2019 Mean NO2 ($\\mathrm{mol \\cdot m^{-2}}$)\",\n",
    "        \"Change in Mean NO2 (%)\",\n",
    "    ],\n",
    "    data_source=\"European Space Agency\",\n",
    ")\n",
    "\n",
    "rd.save_figure(\n",
    "    os.path.join(\n",
    "        \"04-graphics-outputs\",\n",
    "        \"spatial-plots\",\n",
    "        \"singapore\",\n",
    "        \"singapore-no2-mean-change-percent-limited-scale-dec-2018-2019.png\",\n",
    "    )\n",
    ")"
   ]
  },
  {
   "cell_type": "code",
   "execution_count": null,
   "metadata": {},
   "outputs": [],
   "source": [
    "# Plot and export January 2019-2020 change\n",
    "fig, ax = stl.plot_monthly_comparison_limit_scale(\n",
    "    pre_change=no2_dict[\"2019\"][\"01\"],\n",
    "    post_change=no2_dict[\"2020\"][\"01\"],\n",
    "    extent_file=monthly_means[0],\n",
    "    country_boundaries=[malaysia_boundary_clipped, singapore_boundary],\n",
    "    country_names=[\"Malaysia\", \"Singapore\"],\n",
    "    change_type=\"percent\",\n",
    "    location=\"Singapore\",\n",
    "    titles=[\n",
    "        \"January 2019 Mean NO2 ($\\mathrm{mol \\cdot m^{-2}}$)\",\n",
    "        \"January 2020 Mean NO2 ($\\mathrm{mol \\cdot m^{-2}}$)\",\n",
    "        \"Change in Mean NO2 (%)\",\n",
    "    ],\n",
    "    data_source=\"European Space Agency\",\n",
    ")\n",
    "\n",
    "rd.save_figure(\n",
    "    os.path.join(\n",
    "        \"04-graphics-outputs\",\n",
    "        \"spatial-plots\",\n",
    "        \"singapore\",\n",
    "        \"singapore-no2-mean-change-percent-limited-scale-jan-2019-2020.png\",\n",
    "    )\n",
    ")"
   ]
  },
  {
   "cell_type": "code",
   "execution_count": null,
   "metadata": {},
   "outputs": [],
   "source": [
    "# Plot and export February 2019-2020 change\n",
    "fig, ax = stl.plot_monthly_comparison_limit_scale(\n",
    "    pre_change=no2_dict[\"2019\"][\"02\"],\n",
    "    post_change=no2_dict[\"2020\"][\"02\"],\n",
    "    extent_file=monthly_means[0],\n",
    "    country_boundaries=[malaysia_boundary_clipped, singapore_boundary],\n",
    "    country_names=[\"Malaysia\", \"Singapore\"],\n",
    "    change_type=\"percent\",\n",
    "    location=\"Singapore\",\n",
    "    titles=[\n",
    "        \"February 2019 Mean NO2 ($\\mathrm{mol \\cdot m^{-2}}$)\",\n",
    "        \"February 2020 Mean NO2 ($\\mathrm{mol \\cdot m^{-2}}$)\",\n",
    "        \"Change in Mean NO2 (%)\",\n",
    "    ],\n",
    "    data_source=\"European Space Agency\",\n",
    ")\n",
    "\n",
    "rd.save_figure(\n",
    "    os.path.join(\n",
    "        \"04-graphics-outputs\",\n",
    "        \"spatial-plots\",\n",
    "        \"singapore\",\n",
    "        \"singapore-no2-mean-change-percent-limited-scale-feb-2019-2020.png\",\n",
    "    )\n",
    ")"
   ]
  },
  {
   "cell_type": "code",
   "execution_count": null,
   "metadata": {},
   "outputs": [],
   "source": [
    "# Plot and export March 2019-2020 change\n",
    "fig, ax = stl.plot_monthly_comparison_limit_scale(\n",
    "    pre_change=no2_dict[\"2019\"][\"03\"],\n",
    "    post_change=no2_dict[\"2020\"][\"03\"],\n",
    "    extent_file=monthly_means[0],\n",
    "    country_boundaries=[malaysia_boundary_clipped, singapore_boundary],\n",
    "    country_names=[\"Malaysia\", \"Singapore\"],\n",
    "    change_type=\"percent\",\n",
    "    location=\"Singapore\",\n",
    "    titles=[\n",
    "        \"March 2019 Mean NO2 ($\\mathrm{mol \\cdot m^{-2}}$)\",\n",
    "        \"March 2020 Mean NO2 ($\\mathrm{mol \\cdot m^{-2}}$)\",\n",
    "        \"Change in Mean NO2 (%)\",\n",
    "    ],\n",
    "    data_source=\"European Space Agency\",\n",
    ")\n",
    "\n",
    "rd.save_figure(\n",
    "    os.path.join(\n",
    "        \"04-graphics-outputs\",\n",
    "        \"spatial-plots\",\n",
    "        \"singapore\",\n",
    "        \"singapore-no2-mean-change-percent-limited-scale-mar-2019-2020.png\",\n",
    "    )\n",
    ")"
   ]
  },
  {
   "cell_type": "code",
   "execution_count": null,
   "metadata": {},
   "outputs": [],
   "source": [
    "# Plot and export April 2019-2020 change\n",
    "fig, ax = stl.plot_monthly_comparison_limit_scale(\n",
    "    pre_change=no2_dict[\"2019\"][\"04\"],\n",
    "    post_change=no2_dict[\"2020\"][\"04\"],\n",
    "    extent_file=monthly_means[0],\n",
    "    country_boundaries=[malaysia_boundary_clipped, singapore_boundary],\n",
    "    country_names=[\"Malaysia\", \"Singapore\"],\n",
    "    change_type=\"percent\",\n",
    "    location=\"Singapore\",\n",
    "    titles=[\n",
    "        \"April 2019 Mean NO2 ($\\mathrm{mol \\cdot m^{-2}}$)\",\n",
    "        \"April 2020 Mean NO2 ($\\mathrm{mol \\cdot m^{-2}}$)\",\n",
    "        \"Change in Mean NO2 (%)\",\n",
    "    ],\n",
    "    data_source=\"European Space Agency\",\n",
    ")\n",
    "\n",
    "rd.save_figure(\n",
    "    os.path.join(\n",
    "        \"04-graphics-outputs\",\n",
    "        \"spatial-plots\",\n",
    "        \"singapore\",\n",
    "        \"singapore-no2-mean-change-percent-limited-scale-apr-2019-2020.png\",\n",
    "    )\n",
    ")"
   ]
  },
  {
   "cell_type": "code",
   "execution_count": null,
   "metadata": {},
   "outputs": [],
   "source": [
    "# Plot and export May 2019-2020 change\n",
    "fig, ax = stl.plot_monthly_comparison_limit_scale(\n",
    "    pre_change=no2_dict[\"2019\"][\"05\"],\n",
    "    post_change=no2_dict[\"2020\"][\"05\"],\n",
    "    extent_file=monthly_means[0],\n",
    "    country_boundaries=[malaysia_boundary_clipped, singapore_boundary],\n",
    "    country_names=[\"Malaysia\", \"Singapore\"],\n",
    "    change_type=\"percent\",\n",
    "    location=\"Singapore\",\n",
    "    titles=[\n",
    "        \"May 2019 Mean NO2 ($\\mathrm{mol \\cdot m^{-2}}$)\",\n",
    "        \"May 2020 Mean NO2 ($\\mathrm{mol \\cdot m^{-2}}$)\",\n",
    "        \"Change in Mean NO2 (%)\",\n",
    "    ],\n",
    "    data_source=\"European Space Agency\",\n",
    ")\n",
    "\n",
    "rd.save_figure(\n",
    "    os.path.join(\n",
    "        \"04-graphics-outputs\",\n",
    "        \"spatial-plots\",\n",
    "        \"singapore\",\n",
    "        \"singapore-no2-mean-change-percent-limited-scale-may-2019-2020.png\",\n",
    "    )\n",
    ")"
   ]
  },
  {
   "cell_type": "code",
   "execution_count": null,
   "metadata": {},
   "outputs": [],
   "source": [
    "# Plot and export June 2019-2020 change\n",
    "fig, ax = stl.plot_monthly_comparison_limit_scale(\n",
    "    pre_change=no2_dict[\"2019\"][\"06\"],\n",
    "    post_change=no2_dict[\"2020\"][\"06\"],\n",
    "    extent_file=monthly_means[0],\n",
    "    country_boundaries=[malaysia_boundary_clipped, singapore_boundary],\n",
    "    country_names=[\"Malaysia\", \"Singapore\"],\n",
    "    change_type=\"percent\",\n",
    "    location=\"Singapore\",\n",
    "    titles=[\n",
    "        \"June 2019 Mean NO2 ($\\mathrm{mol \\cdot m^{-2}}$)\",\n",
    "        \"June 2020 Mean NO2 ($\\mathrm{mol \\cdot m^{-2}}$)\",\n",
    "        \"Change in Mean NO2 (%)\",\n",
    "    ],\n",
    "    data_source=\"European Space Agency\",\n",
    ")\n",
    "\n",
    "rd.save_figure(\n",
    "    os.path.join(\n",
    "        \"04-graphics-outputs\",\n",
    "        \"spatial-plots\",\n",
    "        \"singapore\",\n",
    "        \"singapore-no2-mean-change-percent-limited-scale-jun-2019-2020.png\",\n",
    "    )\n",
    ")"
   ]
  },
  {
   "cell_type": "code",
   "execution_count": null,
   "metadata": {},
   "outputs": [],
   "source": [
    "# Plot and export July 2019-2020 change\n",
    "fig, ax = stl.plot_monthly_comparison_limit_scale(\n",
    "    pre_change=no2_dict[\"2019\"][\"07\"],\n",
    "    post_change=no2_dict[\"2020\"][\"07\"],\n",
    "    extent_file=monthly_means[0],\n",
    "    country_boundaries=[malaysia_boundary_clipped, singapore_boundary],\n",
    "    country_names=[\"Malaysia\", \"Singapore\"],\n",
    "    change_type=\"percent\",\n",
    "    location=\"Singapore\",\n",
    "    titles=[\n",
    "        \"Jul 2019 Mean NO2 ($\\mathrm{mol \\cdot m^{-2}}$)\",\n",
    "        \"Jul 2020 Mean NO2 ($\\mathrm{mol \\cdot m^{-2}}$)\",\n",
    "        \"Change in Mean NO2 (%)\",\n",
    "    ],\n",
    "    data_source=\"European Space Agency\",\n",
    ")\n",
    "\n",
    "rd.save_figure(\n",
    "    os.path.join(\n",
    "        \"04-graphics-outputs\",\n",
    "        \"spatial-plots\",\n",
    "        \"singapore\",\n",
    "        \"singapore-no2-mean-change-percent-limited-scale-jul-2019-2020.png\",\n",
    "    )\n",
    ")"
   ]
  },
  {
   "cell_type": "code",
   "execution_count": null,
   "metadata": {
    "ExecuteTime": {
     "end_time": "2020-10-22T18:31:23.932945Z",
     "start_time": "2020-10-22T18:31:23.923967Z"
    }
   },
   "outputs": [],
   "source": [
    "# Unload Notebook formatter\n",
    "%unload_ext nb_black"
   ]
  }
 ],
 "metadata": {
  "hide_input": false,
  "kernelspec": {
   "display_name": "Python 3",
   "language": "python",
   "name": "python3"
  },
  "language_info": {
   "codemirror_mode": {
    "name": "ipython",
    "version": 3
   },
   "file_extension": ".py",
   "mimetype": "text/x-python",
   "name": "python",
   "nbconvert_exporter": "python",
   "pygments_lexer": "ipython3",
   "version": "3.7.6"
  },
  "toc": {
   "base_numbering": 1,
   "nav_menu": {},
   "number_sections": true,
   "sideBar": true,
   "skip_h1_title": false,
   "title_cell": "Table of Contents",
   "title_sidebar": "Contents",
   "toc_cell": false,
   "toc_position": {},
   "toc_section_display": true,
   "toc_window_display": false
  },
  "varInspector": {
   "cols": {
    "lenName": 16,
    "lenType": 16,
    "lenVar": 40
   },
   "kernels_config": {
    "python": {
     "delete_cmd_postfix": "",
     "delete_cmd_prefix": "del ",
     "library": "var_list.py",
     "varRefreshCmd": "print(var_dic_list())"
    },
    "r": {
     "delete_cmd_postfix": ") ",
     "delete_cmd_prefix": "rm(",
     "library": "var_list.r",
     "varRefreshCmd": "cat(var_dic_list()) "
    }
   },
   "types_to_exclude": [
    "module",
    "function",
    "builtin_function_or_method",
    "instance",
    "_Feature"
   ],
   "window_display": false
  }
 },
 "nbformat": 4,
 "nbformat_minor": 4
}
