{
 "cells": [
  {
   "cell_type": "markdown",
   "metadata": {},
   "source": [
    "# Sentinel-5P Monthly Comparisons"
   ]
  },
  {
   "cell_type": "markdown",
   "metadata": {},
   "source": [
    "# Environment Setup"
   ]
  },
  {
   "cell_type": "code",
   "execution_count": null,
   "metadata": {
    "ExecuteTime": {
     "end_time": "2020-10-23T18:45:36.631608Z",
     "start_time": "2020-10-23T18:45:36.386264Z"
    }
   },
   "outputs": [],
   "source": [
    "# Load Notebook formatter\n",
    "%load_ext nb_black\n",
    "# %reload_ext nb_black"
   ]
  },
  {
   "cell_type": "code",
   "execution_count": null,
   "metadata": {
    "ExecuteTime": {
     "end_time": "2020-10-23T18:45:43.015265Z",
     "start_time": "2020-10-23T18:45:36.634600Z"
    }
   },
   "outputs": [],
   "source": [
    "# Imports\n",
    "import os\n",
    "import glob\n",
    "import matplotlib.pyplot as plt\n",
    "import numpy as np\n",
    "import seaborn as sns\n",
    "import geopandas as gpd\n",
    "import rasterio as rio\n",
    "import earthpy as et\n",
    "import earthpy.plot as ep\n",
    "import radiance as rd\n",
    "import sentinel as stl"
   ]
  },
  {
   "cell_type": "code",
   "execution_count": null,
   "metadata": {
    "ExecuteTime": {
     "end_time": "2020-10-23T18:45:43.031222Z",
     "start_time": "2020-10-23T18:45:43.018258Z"
    }
   },
   "outputs": [],
   "source": [
    "# Set Options\n",
    "sns.set(font_scale=1.5, style=\"whitegrid\")"
   ]
  },
  {
   "cell_type": "code",
   "execution_count": null,
   "metadata": {
    "ExecuteTime": {
     "end_time": "2020-10-23T18:45:43.050172Z",
     "start_time": "2020-10-23T18:45:43.034223Z"
    }
   },
   "outputs": [],
   "source": [
    "# Set working directory\n",
    "os.chdir(\"..\")\n",
    "print(f\"Working directory: {os.getcwd()}\")"
   ]
  },
  {
   "cell_type": "markdown",
   "metadata": {},
   "source": [
    "# Data Acquisition and Preprocessing"
   ]
  },
  {
   "cell_type": "markdown",
   "metadata": {},
   "source": [
    "## Raster"
   ]
  },
  {
   "cell_type": "code",
   "execution_count": null,
   "metadata": {
    "ExecuteTime": {
     "end_time": "2020-10-23T18:45:43.065142Z",
     "start_time": "2020-10-23T18:45:43.052166Z"
    }
   },
   "outputs": [],
   "source": [
    "# Get all mean files into list\n",
    "monthly_means = glob.glob(\n",
    "    os.path.join(\n",
    "        \"03-processed-data\",\n",
    "        \"raster\",\n",
    "        \"singapore\",\n",
    "        \"statistics\",\n",
    "        \"monthly\",\n",
    "        \"*MEAN*tif\",\n",
    "    )\n",
    ")"
   ]
  },
  {
   "cell_type": "code",
   "execution_count": null,
   "metadata": {
    "ExecuteTime": {
     "end_time": "2020-10-23T18:45:43.287536Z",
     "start_time": "2020-10-23T18:45:43.067126Z"
    }
   },
   "outputs": [],
   "source": [
    "# Read monthly mean GeoTiffs into arrays and store in dictionary\n",
    "no2_dict = {}\n",
    "for geotiff in monthly_means:\n",
    "    # Read GeoTiff into array\n",
    "    with rio.open(geotiff) as src:\n",
    "        array = src.read(1)\n",
    "    # Replace NAN values with 0.0 if necessary\n",
    "    # Counts number of isnan() results that are True\n",
    "    if np.count_nonzero(np.isnan(array)) > 0:\n",
    "        np.nan_to_num(array, copy=False, nan=0.0)\n",
    "    # CONVERT UNITS FROM MOL/M2 to MOLECULES/CM2\n",
    "    # Store in dictionary, indexed by dictionary[YEAR][MONTH]\n",
    "    year, month = (\n",
    "        os.path.basename(geotiff)[16:20],\n",
    "        os.path.basename(geotiff)[20:22],\n",
    "    )\n",
    "    if year not in no2_dict.keys():\n",
    "        no2_dict[year] = {}\n",
    "    if month not in no2_dict[year].keys():\n",
    "        no2_dict[year][month] = array"
   ]
  },
  {
   "cell_type": "code",
   "execution_count": null,
   "metadata": {
    "ExecuteTime": {
     "end_time": "2020-10-23T18:45:43.301499Z",
     "start_time": "2020-10-23T18:45:43.291528Z"
    }
   },
   "outputs": [],
   "source": [
    "# Check top-level keys (years)\n",
    "no2_dict.keys()"
   ]
  },
  {
   "cell_type": "code",
   "execution_count": null,
   "metadata": {
    "ExecuteTime": {
     "end_time": "2020-10-23T18:45:43.314466Z",
     "start_time": "2020-10-23T18:45:43.303514Z"
    }
   },
   "outputs": [],
   "source": [
    "# Check second-level keys (months)\n",
    "no2_dict[\"2020\"].keys()"
   ]
  },
  {
   "cell_type": "code",
   "execution_count": null,
   "metadata": {
    "ExecuteTime": {
     "end_time": "2020-10-23T18:45:43.326432Z",
     "start_time": "2020-10-23T18:45:43.316460Z"
    }
   },
   "outputs": [],
   "source": [
    "# Check single entry\n",
    "no2_dict[\"2020\"][\"05\"].shape"
   ]
  },
  {
   "cell_type": "markdown",
   "metadata": {},
   "source": [
    "## Vector"
   ]
  },
  {
   "cell_type": "code",
   "execution_count": null,
   "metadata": {
    "ExecuteTime": {
     "end_time": "2020-10-23T18:45:43.345385Z",
     "start_time": "2020-10-23T18:45:43.328428Z"
    }
   },
   "outputs": [],
   "source": [
    "# Extract plotting extent\n",
    "singapore_extent = stl.extract_plotting_extent(monthly_means[0])\n",
    "print(f\"Singapore Extent: {singapore_extent}\")"
   ]
  },
  {
   "cell_type": "code",
   "execution_count": null,
   "metadata": {
    "ExecuteTime": {
     "end_time": "2020-10-23T18:45:43.527652Z",
     "start_time": "2020-10-23T18:45:43.347378Z"
    }
   },
   "outputs": [],
   "source": [
    "# Define path to Singapore shapefile\n",
    "singapore_shp_path = os.path.join(\n",
    "    \"02-raw-data\", \"vector\", \"singapore\", \"gadm36_singapore.shp\"\n",
    ")\n",
    "\n",
    "# Read Singapore shapefile into geodataframe and project if necessary\n",
    "singapore_boundary = stl.project_vector(\n",
    "    vector_path=singapore_shp_path, raster_path=monthly_means[0]\n",
    ")\n",
    "\n",
    "# Create extent polygon\n",
    "singapore_polygon = stl.create_polygon_from_extent(singapore_extent)\n",
    "\n",
    "print(f\"Singapore CRS: {singapore_boundary.crs}\")\n",
    "print(f\"Singapore Bounds:\\n{singapore_boundary.bounds.loc[0]}\")"
   ]
  },
  {
   "cell_type": "code",
   "execution_count": null,
   "metadata": {
    "ExecuteTime": {
     "end_time": "2020-10-23T18:45:45.419259Z",
     "start_time": "2020-10-23T18:45:43.529637Z"
    }
   },
   "outputs": [],
   "source": [
    "# Define path to Malaysia shapefile\n",
    "malaysia_shp_path = os.path.join(\n",
    "    \"02-raw-data\", \"vector\", \"malaysia\", \"gadm36_malaysia.shp\"\n",
    ")\n",
    "\n",
    "# Read Malaysia shapefile into geodataframe and project if necessary\n",
    "malaysia_boundary = stl.project_vector(\n",
    "    vector_path=malaysia_shp_path, raster_path=monthly_means[0]\n",
    ")\n",
    "\n",
    "print(f\"Malaysia CRS: {malaysia_boundary.crs}\")\n",
    "print(f\"Malaysia Bounds:\\n{malaysia_boundary.bounds.loc[0]}\")\n",
    "\n",
    "# Clip Malaysia to Singapore extent polygon\n",
    "malaysia_boundary_clipped = gpd.clip(\n",
    "    gpd.GeoDataFrame(geometry=[singapore_polygon], crs=malaysia_boundary.crs),\n",
    "    malaysia_boundary,\n",
    ")\n",
    "\n",
    "print(f\"\\nMalaysia Clipped CRS: {malaysia_boundary_clipped.crs}\")\n",
    "print(\n",
    "    f\"North Korea Clipped Bounds:\\n{malaysia_boundary_clipped.bounds.loc[0]}\"\n",
    ")"
   ]
  },
  {
   "cell_type": "code",
   "execution_count": null,
   "metadata": {
    "ExecuteTime": {
     "end_time": "2020-10-23T18:45:45.760334Z",
     "start_time": "2020-10-23T18:45:45.421241Z"
    }
   },
   "outputs": [],
   "source": [
    "# Display clipped boundary\n",
    "malaysia_boundary_clipped.boundary.plot()"
   ]
  },
  {
   "cell_type": "markdown",
   "metadata": {},
   "source": [
    "# Data Processing"
   ]
  },
  {
   "cell_type": "markdown",
   "metadata": {},
   "source": [
    "## Magnitude Change"
   ]
  },
  {
   "cell_type": "code",
   "execution_count": null,
   "metadata": {
    "ExecuteTime": {
     "end_time": "2020-10-23T18:45:45.816219Z",
     "start_time": "2020-10-23T18:45:45.763325Z"
    }
   },
   "outputs": [],
   "source": [
    "# Calculate magnitude change\n",
    "magnitude_change_jul_2018_2019 = stl.calculate_magnitude_change(\n",
    "    pre_change=no2_dict[\"2018\"][\"07\"], post_change=no2_dict[\"2019\"][\"07\"]\n",
    ")\n",
    "\n",
    "magnitude_change_aug_2018_2019 = stl.calculate_magnitude_change(\n",
    "    pre_change=no2_dict[\"2018\"][\"08\"], post_change=no2_dict[\"2019\"][\"08\"]\n",
    ")\n",
    "\n",
    "magnitude_change_sep_2018_2019 = stl.calculate_magnitude_change(\n",
    "    pre_change=no2_dict[\"2018\"][\"09\"], post_change=no2_dict[\"2019\"][\"09\"]\n",
    ")\n",
    "\n",
    "magnitude_change_oct_2018_2019 = stl.calculate_magnitude_change(\n",
    "    pre_change=no2_dict[\"2018\"][\"10\"], post_change=no2_dict[\"2019\"][\"10\"]\n",
    ")\n",
    "\n",
    "magnitude_change_nov_2018_2019 = stl.calculate_magnitude_change(\n",
    "    pre_change=no2_dict[\"2018\"][\"11\"], post_change=no2_dict[\"2019\"][\"11\"]\n",
    ")\n",
    "\n",
    "magnitude_change_dec_2018_2019 = stl.calculate_magnitude_change(\n",
    "    pre_change=no2_dict[\"2018\"][\"12\"], post_change=no2_dict[\"2019\"][\"12\"]\n",
    ")\n",
    "\n",
    "magnitude_change_jan_2019_2020 = stl.calculate_magnitude_change(\n",
    "    pre_change=no2_dict[\"2019\"][\"01\"], post_change=no2_dict[\"2020\"][\"01\"]\n",
    ")\n",
    "\n",
    "magnitude_change_feb_2019_2020 = stl.calculate_magnitude_change(\n",
    "    pre_change=no2_dict[\"2019\"][\"02\"], post_change=no2_dict[\"2020\"][\"02\"]\n",
    ")\n",
    "\n",
    "magnitude_change_mar_2019_2020 = stl.calculate_magnitude_change(\n",
    "    pre_change=no2_dict[\"2019\"][\"03\"], post_change=no2_dict[\"2020\"][\"03\"]\n",
    ")\n",
    "\n",
    "magnitude_change_apr_2019_2020 = stl.calculate_magnitude_change(\n",
    "    pre_change=no2_dict[\"2019\"][\"04\"], post_change=no2_dict[\"2020\"][\"04\"]\n",
    ")\n",
    "\n",
    "magnitude_change_may_2019_2020 = stl.calculate_magnitude_change(\n",
    "    pre_change=no2_dict[\"2019\"][\"05\"], post_change=no2_dict[\"2020\"][\"05\"]\n",
    ")\n",
    "\n",
    "magnitude_change_jun_2019_2020 = stl.calculate_magnitude_change(\n",
    "    pre_change=no2_dict[\"2019\"][\"06\"], post_change=no2_dict[\"2020\"][\"06\"]\n",
    ")\n",
    "\n",
    "magnitude_change_jul_2019_2020 = stl.calculate_magnitude_change(\n",
    "    pre_change=no2_dict[\"2019\"][\"07\"], post_change=no2_dict[\"2020\"][\"07\"]\n",
    ")"
   ]
  },
  {
   "cell_type": "markdown",
   "metadata": {},
   "source": [
    "## Percent Change"
   ]
  },
  {
   "cell_type": "code",
   "execution_count": null,
   "metadata": {
    "ExecuteTime": {
     "end_time": "2020-10-23T18:45:45.871062Z",
     "start_time": "2020-10-23T18:45:45.818205Z"
    }
   },
   "outputs": [],
   "source": [
    "# Calculate percent change\n",
    "percent_change_jul_2018_2019 = stl.calculate_percent_change(\n",
    "    pre_change=no2_dict[\"2018\"][\"07\"], post_change=no2_dict[\"2019\"][\"07\"]\n",
    ")\n",
    "\n",
    "percent_change_aug_2018_2019 = stl.calculate_percent_change(\n",
    "    pre_change=no2_dict[\"2018\"][\"08\"], post_change=no2_dict[\"2019\"][\"08\"]\n",
    ")\n",
    "\n",
    "percent_change_sep_2018_2019 = stl.calculate_percent_change(\n",
    "    pre_change=no2_dict[\"2018\"][\"09\"], post_change=no2_dict[\"2019\"][\"09\"]\n",
    ")\n",
    "\n",
    "percent_change_oct_2018_2019 = stl.calculate_percent_change(\n",
    "    pre_change=no2_dict[\"2018\"][\"10\"], post_change=no2_dict[\"2019\"][\"10\"]\n",
    ")\n",
    "\n",
    "percent_change_nov_2018_2019 = stl.calculate_percent_change(\n",
    "    pre_change=no2_dict[\"2018\"][\"11\"], post_change=no2_dict[\"2019\"][\"11\"]\n",
    ")\n",
    "\n",
    "percent_change_dec_2018_2019 = stl.calculate_percent_change(\n",
    "    pre_change=no2_dict[\"2018\"][\"12\"], post_change=no2_dict[\"2019\"][\"12\"]\n",
    ")\n",
    "\n",
    "percent_change_jan_2019_2020 = stl.calculate_percent_change(\n",
    "    pre_change=no2_dict[\"2019\"][\"01\"], post_change=no2_dict[\"2020\"][\"01\"]\n",
    ")\n",
    "\n",
    "percent_change_feb_2019_2020 = stl.calculate_percent_change(\n",
    "    pre_change=no2_dict[\"2019\"][\"02\"], post_change=no2_dict[\"2020\"][\"02\"]\n",
    ")\n",
    "\n",
    "percent_change_mar_2019_2020 = stl.calculate_percent_change(\n",
    "    pre_change=no2_dict[\"2019\"][\"03\"], post_change=no2_dict[\"2020\"][\"03\"]\n",
    ")\n",
    "\n",
    "percent_change_apr_2019_2020 = stl.calculate_percent_change(\n",
    "    pre_change=no2_dict[\"2019\"][\"04\"], post_change=no2_dict[\"2020\"][\"04\"]\n",
    ")\n",
    "\n",
    "percent_change_may_2019_2020 = stl.calculate_percent_change(\n",
    "    pre_change=no2_dict[\"2019\"][\"05\"], post_change=no2_dict[\"2020\"][\"05\"]\n",
    ")\n",
    "\n",
    "percent_change_jun_2019_2020 = stl.calculate_percent_change(\n",
    "    pre_change=no2_dict[\"2019\"][\"06\"], post_change=no2_dict[\"2020\"][\"06\"]\n",
    ")\n",
    "\n",
    "percent_change_jul_2019_2020 = stl.calculate_percent_change(\n",
    "    pre_change=no2_dict[\"2019\"][\"07\"], post_change=no2_dict[\"2020\"][\"07\"]\n",
    ")"
   ]
  },
  {
   "cell_type": "markdown",
   "metadata": {},
   "source": [
    "# Data Visualization"
   ]
  },
  {
   "cell_type": "markdown",
   "metadata": {},
   "source": [
    "## Monthly Means"
   ]
  },
  {
   "cell_type": "code",
   "execution_count": null,
   "metadata": {
    "ExecuteTime": {
     "end_time": "2020-10-23T18:45:45.888991Z",
     "start_time": "2020-10-23T18:45:45.874030Z"
    }
   },
   "outputs": [],
   "source": [
    "# Create stack of all months (25 in total)\n",
    "no2_months_stack = np.stack(\n",
    "    [\n",
    "        no2_dict[year][month]\n",
    "        for year in no2_dict.keys()\n",
    "        for month in no2_dict[year].keys()\n",
    "    ]\n",
    ")\n",
    "\n",
    "# Check shape (bands, rows, columns)\n",
    "print(f\"Data stack shape (bands, rows, columns): {no2_months_stack.shape}\")\n",
    "\n",
    "# Check if the order is correct; compare first month of data (July 2018)\n",
    "print(\n",
    "    f\"Data order correct: {np.array_equal(no2_months_stack[0], no2_dict['2018']['07'])}\"\n",
    ")"
   ]
  },
  {
   "cell_type": "code",
   "execution_count": null,
   "metadata": {
    "ExecuteTime": {
     "end_time": "2020-10-23T18:46:37.046330Z",
     "start_time": "2020-10-23T18:45:45.891981Z"
    },
    "scrolled": false
   },
   "outputs": [],
   "source": [
    "# Set titles for data stack\n",
    "titles = [\n",
    "    \"Jul 2018\",\n",
    "    \"Aug 2018\",\n",
    "    \"Sep 2018\",\n",
    "    \"Oct 2018\",\n",
    "    \"Nov 2018\",\n",
    "    \"Dec 2018\",\n",
    "    \"Jan 2019\",\n",
    "    \"Feb 2019\",\n",
    "    \"Mar 2019\",\n",
    "    \"Apr 2019\",\n",
    "    \"May 2019\",\n",
    "    \"Jun 2019\",\n",
    "    \"Jul 2019\",\n",
    "    \"Aug 2019\",\n",
    "    \"Sep 2019\",\n",
    "    \"Oct 2019\",\n",
    "    \"Nov 2019\",\n",
    "    \"Dec 2019\",\n",
    "    \"Jan 2020\",\n",
    "    \"Feb 2020\",\n",
    "    \"Mar 2020\",\n",
    "    \"Apr 2020\",\n",
    "    \"May 2020\",\n",
    "    \"Jun 2020\",\n",
    "    \"Jul 2020\",\n",
    "]\n",
    "\n",
    "# Plot all stack bands (monthly means)\n",
    "with plt.style.context(\"dark_background\"):\n",
    "    # Initialize figure/axes\n",
    "    fig, ax = plt.subplots(nrows=8, ncols=3, figsize=(20, 40))\n",
    "    plt.suptitle(\"Singapore NO2 Monthly Means, Jul 2018 - Jun 2020\", size=24)\n",
    "    plt.subplots_adjust(top=0.955)\n",
    "\n",
    "    # Loop through all axes\n",
    "    for (band, axis) in enumerate(fig.axes):\n",
    "        # Plot monthly mean NO2 data\n",
    "        ep.plot_bands(\n",
    "            arr=no2_months_stack[band],\n",
    "            cmap=\"inferno\",\n",
    "            title=titles[band],\n",
    "            extent=singapore_extent,\n",
    "            vmin=0,\n",
    "            vmax=no2_months_stack.max(),\n",
    "            ax=axis,\n",
    "        )\n",
    "\n",
    "        # Add country boundaries and legend to axes\n",
    "        malaysia_boundary_clipped.boundary.plot(\n",
    "            edgecolor=\"#e41a1c\",\n",
    "            linewidth=0.5,\n",
    "            ax=axis,\n",
    "            alpha=1,\n",
    "            label=\"Malaysia\",\n",
    "        )\n",
    "        singapore_boundary.boundary.plot(\n",
    "            edgecolor=\"#1b7837\",\n",
    "            linewidth=0.5,\n",
    "            ax=axis,\n",
    "            alpha=1,\n",
    "            label=\"Singapore\",\n",
    "        )\n",
    "        axis.legend(\n",
    "            shadow=True, edgecolor=\"white\", fontsize=10, loc=\"lower right\"\n",
    "        )\n",
    "\n",
    "    # Add caption\n",
    "    fig.text(\n",
    "        0.5,\n",
    "        0.11,\n",
    "        f\"Data Source: European Space Agency\",\n",
    "        ha=\"center\",\n",
    "        fontsize=16,\n",
    "    )"
   ]
  },
  {
   "cell_type": "markdown",
   "metadata": {},
   "source": [
    "## Monthly Comparison"
   ]
  },
  {
   "cell_type": "markdown",
   "metadata": {},
   "source": [
    "### Magnitude Change"
   ]
  },
  {
   "cell_type": "code",
   "execution_count": null,
   "metadata": {
    "ExecuteTime": {
     "end_time": "2020-10-23T18:46:38.854425Z",
     "start_time": "2020-10-23T18:46:37.048325Z"
    }
   },
   "outputs": [],
   "source": [
    "# Plot July 2018-2019 change\n",
    "fig, ax = stl.plot_monthly_comparison(\n",
    "    pre_change=no2_dict[\"2018\"][\"07\"],\n",
    "    post_change=no2_dict[\"2019\"][\"07\"],\n",
    "    extent_file=monthly_means[0],\n",
    "    country_boundaries=[malaysia_boundary_clipped, singapore_boundary],\n",
    "    country_names=[\"Malaysia\", \"Singapore\"],\n",
    "    change_type=\"magnitude\",\n",
    "    location=\"Singapore\",\n",
    "    titles=[\n",
    "        \"July 2018 Mean NO2 ($\\mathrm{mol \\cdot m^{-2}}$)\",\n",
    "        \"July 2019 Mean NO2 ($\\mathrm{mol \\cdot m^{-2}}$)\",\n",
    "        \"Change in Mean NO2 ($\\mathrm{mol \\cdot m^{-2}}$)\",\n",
    "    ],\n",
    "    data_source=\"European Space Agency\",\n",
    ")"
   ]
  },
  {
   "cell_type": "code",
   "execution_count": null,
   "metadata": {
    "ExecuteTime": {
     "end_time": "2020-10-23T18:46:40.275109Z",
     "start_time": "2020-10-23T18:46:38.856420Z"
    }
   },
   "outputs": [],
   "source": [
    "# Plot August 2018-2019 change\n",
    "fig, ax = stl.plot_monthly_comparison(\n",
    "    pre_change=no2_dict[\"2018\"][\"08\"],\n",
    "    post_change=no2_dict[\"2019\"][\"08\"],\n",
    "    extent_file=monthly_means[0],\n",
    "    country_boundaries=[malaysia_boundary_clipped, singapore_boundary],\n",
    "    country_names=[\"Malaysia\", \"Singapore\"],\n",
    "    change_type=\"magnitude\",\n",
    "    location=\"Singapore\",\n",
    "    titles=[\n",
    "        \"August 2018 Mean NO2 ($\\mathrm{mol \\cdot m^{-2}}$)\",\n",
    "        \"August 2019 Mean NO2 ($\\mathrm{mol \\cdot m^{-2}}$)\",\n",
    "        \"Change in Mean NO2 ($\\mathrm{mol \\cdot m^{-2}}$)\",\n",
    "    ],\n",
    "    data_source=\"European Space Agency\",\n",
    ")"
   ]
  },
  {
   "cell_type": "code",
   "execution_count": null,
   "metadata": {
    "ExecuteTime": {
     "end_time": "2020-10-23T18:46:41.665443Z",
     "start_time": "2020-10-23T18:46:40.277104Z"
    }
   },
   "outputs": [],
   "source": [
    "# Plot September 2018-2019 change\n",
    "fig, ax = stl.plot_monthly_comparison(\n",
    "    pre_change=no2_dict[\"2018\"][\"09\"],\n",
    "    post_change=no2_dict[\"2019\"][\"09\"],\n",
    "    extent_file=monthly_means[0],\n",
    "    country_boundaries=[malaysia_boundary_clipped, singapore_boundary],\n",
    "    country_names=[\"Malaysia\", \"Singapore\"],\n",
    "    change_type=\"magnitude\",\n",
    "    location=\"Singapore\",\n",
    "    titles=[\n",
    "        \"September 2018 Mean NO2 ($\\mathrm{mol \\cdot m^{-2}}$)\",\n",
    "        \"September 2019 Mean NO2 ($\\mathrm{mol \\cdot m^{-2}}$)\",\n",
    "        \"Change in Mean NO2 ($\\mathrm{mol \\cdot m^{-2}}$)\",\n",
    "    ],\n",
    "    data_source=\"European Space Agency\",\n",
    ")"
   ]
  },
  {
   "cell_type": "code",
   "execution_count": null,
   "metadata": {
    "ExecuteTime": {
     "end_time": "2020-10-23T18:46:42.969619Z",
     "start_time": "2020-10-23T18:46:41.667440Z"
    }
   },
   "outputs": [],
   "source": [
    "# Plot October 2018-2019 change\n",
    "fig, ax = stl.plot_monthly_comparison(\n",
    "    pre_change=no2_dict[\"2018\"][\"10\"],\n",
    "    post_change=no2_dict[\"2019\"][\"10\"],\n",
    "    extent_file=monthly_means[0],\n",
    "    country_boundaries=[malaysia_boundary_clipped, singapore_boundary],\n",
    "    country_names=[\"Malaysia\", \"Singapore\"],\n",
    "    change_type=\"magnitude\",\n",
    "    location=\"Singapore\",\n",
    "    titles=[\n",
    "        \"October 2018 Mean NO2 ($\\mathrm{mol \\cdot m^{-2}}$)\",\n",
    "        \"October 2019 Mean NO2 ($\\mathrm{mol \\cdot m^{-2}}$)\",\n",
    "        \"Change in Mean NO2 ($\\mathrm{mol \\cdot m^{-2}}$)\",\n",
    "    ],\n",
    "    data_source=\"European Space Agency\",\n",
    ")"
   ]
  },
  {
   "cell_type": "code",
   "execution_count": null,
   "metadata": {
    "ExecuteTime": {
     "end_time": "2020-10-23T18:46:44.416275Z",
     "start_time": "2020-10-23T18:46:42.976602Z"
    }
   },
   "outputs": [],
   "source": [
    "# Plot November 2018-2019 change\n",
    "fig, ax = stl.plot_monthly_comparison(\n",
    "    pre_change=no2_dict[\"2018\"][\"11\"],\n",
    "    post_change=no2_dict[\"2019\"][\"11\"],\n",
    "    extent_file=monthly_means[0],\n",
    "    country_boundaries=[malaysia_boundary_clipped, singapore_boundary],\n",
    "    country_names=[\"Malaysia\", \"Singapore\"],\n",
    "    change_type=\"magnitude\",\n",
    "    location=\"Singapore\",\n",
    "    titles=[\n",
    "        \"November 2018 Mean NO2 ($\\mathrm{mol \\cdot m^{-2}}$)\",\n",
    "        \"November 2019 Mean NO2 ($\\mathrm{mol \\cdot m^{-2}}$)\",\n",
    "        \"Change in Mean NO2 ($\\mathrm{mol \\cdot m^{-2}}$)\",\n",
    "    ],\n",
    "    data_source=\"European Space Agency\",\n",
    ")"
   ]
  },
  {
   "cell_type": "code",
   "execution_count": null,
   "metadata": {
    "ExecuteTime": {
     "end_time": "2020-10-23T18:46:46.109898Z",
     "start_time": "2020-10-23T18:46:44.420270Z"
    }
   },
   "outputs": [],
   "source": [
    "# Plot December 2018-2019 change\n",
    "fig, ax = stl.plot_monthly_comparison(\n",
    "    pre_change=no2_dict[\"2018\"][\"12\"],\n",
    "    post_change=no2_dict[\"2019\"][\"12\"],\n",
    "    extent_file=monthly_means[0],\n",
    "    country_boundaries=[malaysia_boundary_clipped, singapore_boundary],\n",
    "    country_names=[\"Malaysia\", \"Singapore\"],\n",
    "    change_type=\"magnitude\",\n",
    "    location=\"Singapore\",\n",
    "    titles=[\n",
    "        \"December 2018 Mean NO2 ($\\mathrm{mol \\cdot m^{-2}}$)\",\n",
    "        \"December 2019 Mean NO2 ($\\mathrm{mol \\cdot m^{-2}}$)\",\n",
    "        \"Change in Mean NO2 ($\\mathrm{mol \\cdot m^{-2}}$)\",\n",
    "    ],\n",
    "    data_source=\"European Space Agency\",\n",
    ")"
   ]
  },
  {
   "cell_type": "code",
   "execution_count": null,
   "metadata": {
    "ExecuteTime": {
     "end_time": "2020-10-23T18:46:47.685093Z",
     "start_time": "2020-10-23T18:46:46.111894Z"
    }
   },
   "outputs": [],
   "source": [
    "# Plot January 2019-2020 change\n",
    "fig, ax = stl.plot_monthly_comparison(\n",
    "    pre_change=no2_dict[\"2019\"][\"01\"],\n",
    "    post_change=no2_dict[\"2020\"][\"01\"],\n",
    "    extent_file=monthly_means[0],\n",
    "    country_boundaries=[malaysia_boundary_clipped, singapore_boundary],\n",
    "    country_names=[\"Malaysia\", \"Singapore\"],\n",
    "    change_type=\"magnitude\",\n",
    "    location=\"Singapore\",\n",
    "    titles=[\n",
    "        \"January 2019 Mean NO2 ($\\mathrm{mol \\cdot m^{-2}}$)\",\n",
    "        \"January 2020 Mean NO2 ($\\mathrm{mol \\cdot m^{-2}}$)\",\n",
    "        \"Change in Mean NO2 ($\\mathrm{mol \\cdot m^{-2}}$)\",\n",
    "    ],\n",
    "    data_source=\"European Space Agency\",\n",
    ")"
   ]
  },
  {
   "cell_type": "code",
   "execution_count": null,
   "metadata": {
    "ExecuteTime": {
     "end_time": "2020-10-23T18:46:49.062848Z",
     "start_time": "2020-10-23T18:46:47.687082Z"
    }
   },
   "outputs": [],
   "source": [
    "# Plot February 2019-2020 change\n",
    "fig, ax = stl.plot_monthly_comparison(\n",
    "    pre_change=no2_dict[\"2019\"][\"02\"],\n",
    "    post_change=no2_dict[\"2020\"][\"02\"],\n",
    "    extent_file=monthly_means[0],\n",
    "    country_boundaries=[malaysia_boundary_clipped, singapore_boundary],\n",
    "    country_names=[\"Malaysia\", \"Singapore\"],\n",
    "    change_type=\"magnitude\",\n",
    "    location=\"Singapore\",\n",
    "    titles=[\n",
    "        \"February 2019 Mean NO2 ($\\mathrm{mol \\cdot m^{-2}}$)\",\n",
    "        \"February 2020 Mean NO2 ($\\mathrm{mol \\cdot m^{-2}}$)\",\n",
    "        \"Change in Mean NO2 ($\\mathrm{mol \\cdot m^{-2}}$)\",\n",
    "    ],\n",
    "    data_source=\"European Space Agency\",\n",
    ")"
   ]
  },
  {
   "cell_type": "code",
   "execution_count": null,
   "metadata": {
    "ExecuteTime": {
     "end_time": "2020-10-23T18:46:50.461200Z",
     "start_time": "2020-10-23T18:46:49.064842Z"
    }
   },
   "outputs": [],
   "source": [
    "# Plot March 2019-2020 change\n",
    "fig, ax = stl.plot_monthly_comparison(\n",
    "    pre_change=no2_dict[\"2019\"][\"03\"],\n",
    "    post_change=no2_dict[\"2020\"][\"03\"],\n",
    "    extent_file=monthly_means[0],\n",
    "    country_boundaries=[malaysia_boundary_clipped, singapore_boundary],\n",
    "    country_names=[\"Malaysia\", \"Singapore\"],\n",
    "    change_type=\"magnitude\",\n",
    "    location=\"Singapore\",\n",
    "    titles=[\n",
    "        \"March 2019 Mean NO2 ($\\mathrm{mol \\cdot m^{-2}}$)\",\n",
    "        \"March 2020 Mean NO2 ($\\mathrm{mol \\cdot m^{-2}}$)\",\n",
    "        \"Change in Mean NO2 ($\\mathrm{mol \\cdot m^{-2}}$)\",\n",
    "    ],\n",
    "    data_source=\"European Space Agency\",\n",
    ")"
   ]
  },
  {
   "cell_type": "code",
   "execution_count": null,
   "metadata": {
    "ExecuteTime": {
     "end_time": "2020-10-23T18:46:51.804095Z",
     "start_time": "2020-10-23T18:46:50.463194Z"
    }
   },
   "outputs": [],
   "source": [
    "# Plot April 2019-2020 change\n",
    "fig, ax = stl.plot_monthly_comparison(\n",
    "    pre_change=no2_dict[\"2019\"][\"04\"],\n",
    "    post_change=no2_dict[\"2020\"][\"04\"],\n",
    "    extent_file=monthly_means[0],\n",
    "    country_boundaries=[malaysia_boundary_clipped, singapore_boundary],\n",
    "    country_names=[\"Malaysia\", \"Singapore\"],\n",
    "    change_type=\"magnitude\",\n",
    "    location=\"Singapore\",\n",
    "    titles=[\n",
    "        \"April 2019 Mean NO2 ($\\mathrm{mol \\cdot m^{-2}}$)\",\n",
    "        \"April 2020 Mean NO2 ($\\mathrm{mol \\cdot m^{-2}}$)\",\n",
    "        \"Change in Mean NO2 ($\\mathrm{mol \\cdot m^{-2}}$)\",\n",
    "    ],\n",
    "    data_source=\"European Space Agency\",\n",
    ")"
   ]
  },
  {
   "cell_type": "code",
   "execution_count": null,
   "metadata": {
    "ExecuteTime": {
     "end_time": "2020-10-23T18:46:53.232102Z",
     "start_time": "2020-10-23T18:46:51.806089Z"
    }
   },
   "outputs": [],
   "source": [
    "# Plot May 2019-2020 change\n",
    "fig, ax = stl.plot_monthly_comparison(\n",
    "    pre_change=no2_dict[\"2019\"][\"05\"],\n",
    "    post_change=no2_dict[\"2020\"][\"05\"],\n",
    "    extent_file=monthly_means[0],\n",
    "    country_boundaries=[malaysia_boundary_clipped, singapore_boundary],\n",
    "    country_names=[\"Malaysia\", \"Singapore\"],\n",
    "    change_type=\"magnitude\",\n",
    "    location=\"Singapore\",\n",
    "    titles=[\n",
    "        \"May 2019 Mean NO2 ($\\mathrm{mol \\cdot m^{-2}}$)\",\n",
    "        \"May 2020 Mean NO2 ($\\mathrm{mol \\cdot m^{-2}}$)\",\n",
    "        \"Change in Mean NO2 ($\\mathrm{mol \\cdot m^{-2}}$)\",\n",
    "    ],\n",
    "    data_source=\"European Space Agency\",\n",
    ")"
   ]
  },
  {
   "cell_type": "code",
   "execution_count": null,
   "metadata": {
    "ExecuteTime": {
     "end_time": "2020-10-23T18:46:54.875922Z",
     "start_time": "2020-10-23T18:46:53.235095Z"
    }
   },
   "outputs": [],
   "source": [
    "# Plot June 2019-2020 change\n",
    "fig, ax = stl.plot_monthly_comparison(\n",
    "    pre_change=no2_dict[\"2019\"][\"06\"],\n",
    "    post_change=no2_dict[\"2020\"][\"06\"],\n",
    "    extent_file=monthly_means[0],\n",
    "    country_boundaries=[malaysia_boundary_clipped, singapore_boundary],\n",
    "    country_names=[\"Malaysia\", \"Singapore\"],\n",
    "    change_type=\"magnitude\",\n",
    "    location=\"Singapore\",\n",
    "    titles=[\n",
    "        \"June 2019 Mean NO2 ($\\mathrm{mol \\cdot m^{-2}}$)\",\n",
    "        \"June 2020 Mean NO2 ($\\mathrm{mol \\cdot m^{-2}}$)\",\n",
    "        \"Change in Mean NO2 ($\\mathrm{mol \\cdot m^{-2}}$)\",\n",
    "    ],\n",
    "    data_source=\"European Space Agency\",\n",
    ")"
   ]
  },
  {
   "cell_type": "code",
   "execution_count": null,
   "metadata": {
    "ExecuteTime": {
     "end_time": "2020-10-23T18:46:56.454152Z",
     "start_time": "2020-10-23T18:46:54.878914Z"
    }
   },
   "outputs": [],
   "source": [
    "# Plot July 2019-2020 change\n",
    "fig, ax = stl.plot_monthly_comparison(\n",
    "    pre_change=no2_dict[\"2019\"][\"07\"],\n",
    "    post_change=no2_dict[\"2020\"][\"07\"],\n",
    "    extent_file=monthly_means[0],\n",
    "    country_boundaries=[malaysia_boundary_clipped, singapore_boundary],\n",
    "    country_names=[\"Malaysia\", \"Singapore\"],\n",
    "    change_type=\"magnitude\",\n",
    "    location=\"Singapore\",\n",
    "    titles=[\n",
    "        \"Jul 2019 Mean NO2 ($\\mathrm{mol \\cdot m^{-2}}$)\",\n",
    "        \"Jul 2020 Mean NO2 ($\\mathrm{mol \\cdot m^{-2}}$)\",\n",
    "        \"Change in Mean NO2 ($\\mathrm{mol \\cdot m^{-2}}$)\",\n",
    "    ],\n",
    "    data_source=\"European Space Agency\",\n",
    ")"
   ]
  },
  {
   "cell_type": "markdown",
   "metadata": {},
   "source": [
    "### Percent Change"
   ]
  },
  {
   "cell_type": "code",
   "execution_count": null,
   "metadata": {
    "ExecuteTime": {
     "end_time": "2020-10-23T18:46:58.223037Z",
     "start_time": "2020-10-23T18:46:56.457145Z"
    }
   },
   "outputs": [],
   "source": [
    "# Plot July 2018-2019 change\n",
    "fig, ax = stl.plot_monthly_comparison(\n",
    "    pre_change=no2_dict[\"2018\"][\"07\"],\n",
    "    post_change=no2_dict[\"2019\"][\"07\"],\n",
    "    extent_file=monthly_means[0],\n",
    "    country_boundaries=[malaysia_boundary_clipped, singapore_boundary],\n",
    "    country_names=[\"Malaysia\", \"Singapore\"],\n",
    "    change_type=\"percent\",\n",
    "    location=\"Singapore\",\n",
    "    titles=[\n",
    "        \"July 2018 Mean NO2 ($\\mathrm{mol \\cdot m^{-2}}$)\",\n",
    "        \"July 2019 Mean NO2 ($\\mathrm{mol \\cdot m^{-2}}$)\",\n",
    "        \"Change in Mean NO2 (%)\",\n",
    "    ],\n",
    "    data_source=\"European Space Agency\",\n",
    ")"
   ]
  },
  {
   "cell_type": "code",
   "execution_count": null,
   "metadata": {
    "ExecuteTime": {
     "end_time": "2020-10-23T18:46:59.578708Z",
     "start_time": "2020-10-23T18:46:58.225031Z"
    }
   },
   "outputs": [],
   "source": [
    "# Plot August 2018-2019 change\n",
    "fig, ax = stl.plot_monthly_comparison(\n",
    "    pre_change=no2_dict[\"2018\"][\"08\"],\n",
    "    post_change=no2_dict[\"2019\"][\"08\"],\n",
    "    extent_file=monthly_means[0],\n",
    "    country_boundaries=[malaysia_boundary_clipped, singapore_boundary],\n",
    "    country_names=[\"Malaysia\", \"Singapore\"],\n",
    "    change_type=\"percent\",\n",
    "    location=\"Singapore\",\n",
    "    titles=[\n",
    "        \"August 2018 Mean NO2 ($\\mathrm{mol \\cdot m^{-2}}$)\",\n",
    "        \"August 2019 Mean NO2 ($\\mathrm{mol \\cdot m^{-2}}$)\",\n",
    "        \"Change in Mean NO2 (%)\",\n",
    "    ],\n",
    "    data_source=\"European Space Agency\",\n",
    ")"
   ]
  },
  {
   "cell_type": "code",
   "execution_count": null,
   "metadata": {
    "ExecuteTime": {
     "end_time": "2020-10-23T18:47:01.084633Z",
     "start_time": "2020-10-23T18:46:59.580693Z"
    }
   },
   "outputs": [],
   "source": [
    "# Plot September 2018-2019 change\n",
    "fig, ax = stl.plot_monthly_comparison(\n",
    "    pre_change=no2_dict[\"2018\"][\"09\"],\n",
    "    post_change=no2_dict[\"2019\"][\"09\"],\n",
    "    extent_file=monthly_means[0],\n",
    "    country_boundaries=[malaysia_boundary_clipped, singapore_boundary],\n",
    "    country_names=[\"Malaysia\", \"Singapore\"],\n",
    "    change_type=\"percent\",\n",
    "    location=\"Singapore\",\n",
    "    titles=[\n",
    "        \"September 2018 Mean NO2 ($\\mathrm{mol \\cdot m^{-2}}$)\",\n",
    "        \"September 2019 Mean NO2 ($\\mathrm{mol \\cdot m^{-2}}$)\",\n",
    "        \"Change in Mean NO2 (%)\",\n",
    "    ],\n",
    "    data_source=\"European Space Agency\",\n",
    ")"
   ]
  },
  {
   "cell_type": "code",
   "execution_count": null,
   "metadata": {
    "ExecuteTime": {
     "end_time": "2020-10-23T18:47:02.680063Z",
     "start_time": "2020-10-23T18:47:01.086627Z"
    }
   },
   "outputs": [],
   "source": [
    "# Plot October 2018-2019 change\n",
    "fig, ax = stl.plot_monthly_comparison(\n",
    "    pre_change=no2_dict[\"2018\"][\"10\"],\n",
    "    post_change=no2_dict[\"2019\"][\"10\"],\n",
    "    extent_file=monthly_means[0],\n",
    "    country_boundaries=[malaysia_boundary_clipped, singapore_boundary],\n",
    "    country_names=[\"Malaysia\", \"Singapore\"],\n",
    "    change_type=\"percent\",\n",
    "    location=\"Singapore\",\n",
    "    titles=[\n",
    "        \"October 2018 Mean NO2 ($\\mathrm{mol \\cdot m^{-2}}$)\",\n",
    "        \"October 2019 Mean NO2 ($\\mathrm{mol \\cdot m^{-2}}$)\",\n",
    "        \"Change in Mean NO2 (%)\",\n",
    "    ],\n",
    "    data_source=\"European Space Agency\",\n",
    ")"
   ]
  },
  {
   "cell_type": "code",
   "execution_count": null,
   "metadata": {
    "ExecuteTime": {
     "end_time": "2020-10-23T18:47:04.445258Z",
     "start_time": "2020-10-23T18:47:02.682058Z"
    }
   },
   "outputs": [],
   "source": [
    "# Plot November 2018-2019 change\n",
    "fig, ax = stl.plot_monthly_comparison(\n",
    "    pre_change=no2_dict[\"2018\"][\"11\"],\n",
    "    post_change=no2_dict[\"2019\"][\"11\"],\n",
    "    extent_file=monthly_means[0],\n",
    "    country_boundaries=[malaysia_boundary_clipped, singapore_boundary],\n",
    "    country_names=[\"Malaysia\", \"Singapore\"],\n",
    "    change_type=\"percent\",\n",
    "    location=\"Singapore\",\n",
    "    titles=[\n",
    "        \"November 2018 Mean NO2 ($\\mathrm{mol \\cdot m^{-2}}$)\",\n",
    "        \"November 2019 Mean NO2 ($\\mathrm{mol \\cdot m^{-2}}$)\",\n",
    "        \"Change in Mean NO2 (%)\",\n",
    "    ],\n",
    "    data_source=\"European Space Agency\",\n",
    ")"
   ]
  },
  {
   "cell_type": "code",
   "execution_count": null,
   "metadata": {
    "ExecuteTime": {
     "end_time": "2020-10-23T18:47:06.141948Z",
     "start_time": "2020-10-23T18:47:04.447263Z"
    }
   },
   "outputs": [],
   "source": [
    "# Plot December 2018-2019 change\n",
    "fig, ax = stl.plot_monthly_comparison(\n",
    "    pre_change=no2_dict[\"2018\"][\"12\"],\n",
    "    post_change=no2_dict[\"2019\"][\"12\"],\n",
    "    extent_file=monthly_means[0],\n",
    "    country_boundaries=[malaysia_boundary_clipped, singapore_boundary],\n",
    "    country_names=[\"Malaysia\", \"Singapore\"],\n",
    "    change_type=\"percent\",\n",
    "    location=\"Singapore\",\n",
    "    titles=[\n",
    "        \"December 2018 Mean NO2 ($\\mathrm{mol \\cdot m^{-2}}$)\",\n",
    "        \"December 2019 Mean NO2 ($\\mathrm{mol \\cdot m^{-2}}$)\",\n",
    "        \"Change in Mean NO2 (%)\",\n",
    "    ],\n",
    "    data_source=\"European Space Agency\",\n",
    ")"
   ]
  },
  {
   "cell_type": "code",
   "execution_count": null,
   "metadata": {
    "ExecuteTime": {
     "end_time": "2020-10-23T18:47:07.784600Z",
     "start_time": "2020-10-23T18:47:06.143943Z"
    }
   },
   "outputs": [],
   "source": [
    "# Plot January 2019-2020 change\n",
    "fig, ax = stl.plot_monthly_comparison(\n",
    "    pre_change=no2_dict[\"2019\"][\"01\"],\n",
    "    post_change=no2_dict[\"2020\"][\"01\"],\n",
    "    extent_file=monthly_means[0],\n",
    "    country_boundaries=[malaysia_boundary_clipped, singapore_boundary],\n",
    "    country_names=[\"Malaysia\", \"Singapore\"],\n",
    "    change_type=\"percent\",\n",
    "    location=\"Singapore\",\n",
    "    titles=[\n",
    "        \"January 2019 Mean NO2 ($\\mathrm{mol \\cdot m^{-2}}$)\",\n",
    "        \"January 2020 Mean NO2 ($\\mathrm{mol \\cdot m^{-2}}$)\",\n",
    "        \"Change in Mean NO2 (%)\",\n",
    "    ],\n",
    "    data_source=\"European Space Agency\",\n",
    ")"
   ]
  },
  {
   "cell_type": "code",
   "execution_count": null,
   "metadata": {
    "ExecuteTime": {
     "end_time": "2020-10-23T18:47:09.383728Z",
     "start_time": "2020-10-23T18:47:07.787581Z"
    }
   },
   "outputs": [],
   "source": [
    "# Plot February 2019-2020 change\n",
    "fig, ax = stl.plot_monthly_comparison(\n",
    "    pre_change=no2_dict[\"2019\"][\"02\"],\n",
    "    post_change=no2_dict[\"2020\"][\"02\"],\n",
    "    extent_file=monthly_means[0],\n",
    "    country_boundaries=[malaysia_boundary_clipped, singapore_boundary],\n",
    "    country_names=[\"Malaysia\", \"Singapore\"],\n",
    "    change_type=\"percent\",\n",
    "    location=\"Singapore\",\n",
    "    titles=[\n",
    "        \"February 2019 Mean NO2 ($\\mathrm{mol \\cdot m^{-2}}$)\",\n",
    "        \"February 2020 Mean NO2 ($\\mathrm{mol \\cdot m^{-2}}$)\",\n",
    "        \"Change in Mean NO2 (%)\",\n",
    "    ],\n",
    "    data_source=\"European Space Agency\",\n",
    ")"
   ]
  },
  {
   "cell_type": "code",
   "execution_count": null,
   "metadata": {
    "ExecuteTime": {
     "end_time": "2020-10-23T18:47:10.915555Z",
     "start_time": "2020-10-23T18:47:09.385723Z"
    }
   },
   "outputs": [],
   "source": [
    "# Plot March 2019-2020 change\n",
    "fig, ax = stl.plot_monthly_comparison(\n",
    "    pre_change=no2_dict[\"2019\"][\"03\"],\n",
    "    post_change=no2_dict[\"2020\"][\"03\"],\n",
    "    extent_file=monthly_means[0],\n",
    "    country_boundaries=[malaysia_boundary_clipped, singapore_boundary],\n",
    "    country_names=[\"Malaysia\", \"Singapore\"],\n",
    "    change_type=\"percent\",\n",
    "    location=\"Singapore\",\n",
    "    titles=[\n",
    "        \"March 2019 Mean NO2 ($\\mathrm{mol \\cdot m^{-2}}$)\",\n",
    "        \"March 2020 Mean NO2 ($\\mathrm{mol \\cdot m^{-2}}$)\",\n",
    "        \"Change in Mean NO2 (%)\",\n",
    "    ],\n",
    "    data_source=\"European Space Agency\",\n",
    ")"
   ]
  },
  {
   "cell_type": "code",
   "execution_count": null,
   "metadata": {
    "ExecuteTime": {
     "end_time": "2020-10-23T18:47:13.204302Z",
     "start_time": "2020-10-23T18:47:10.917547Z"
    }
   },
   "outputs": [],
   "source": [
    "# Plot April 2019-2020 change\n",
    "fig, ax = stl.plot_monthly_comparison(\n",
    "    pre_change=no2_dict[\"2019\"][\"04\"],\n",
    "    post_change=no2_dict[\"2020\"][\"04\"],\n",
    "    extent_file=monthly_means[0],\n",
    "    country_boundaries=[malaysia_boundary_clipped, singapore_boundary],\n",
    "    country_names=[\"Malaysia\", \"Singapore\"],\n",
    "    change_type=\"percent\",\n",
    "    location=\"Singapore\",\n",
    "    titles=[\n",
    "        \"April 2019 Mean NO2 ($\\mathrm{mol \\cdot m^{-2}}$)\",\n",
    "        \"April 2020 Mean NO2 ($\\mathrm{mol \\cdot m^{-2}}$)\",\n",
    "        \"Change in Mean NO2 (%)\",\n",
    "    ],\n",
    "    data_source=\"European Space Agency\",\n",
    ")"
   ]
  },
  {
   "cell_type": "code",
   "execution_count": null,
   "metadata": {
    "ExecuteTime": {
     "end_time": "2020-10-23T18:47:15.155913Z",
     "start_time": "2020-10-23T18:47:13.207297Z"
    }
   },
   "outputs": [],
   "source": [
    "# Plot May 2019-2020 change\n",
    "fig, ax = stl.plot_monthly_comparison(\n",
    "    pre_change=no2_dict[\"2019\"][\"05\"],\n",
    "    post_change=no2_dict[\"2020\"][\"05\"],\n",
    "    extent_file=monthly_means[0],\n",
    "    country_boundaries=[malaysia_boundary_clipped, singapore_boundary],\n",
    "    country_names=[\"Malaysia\", \"Singapore\"],\n",
    "    change_type=\"percent\",\n",
    "    location=\"Singapore\",\n",
    "    titles=[\n",
    "        \"May 2019 Mean NO2 ($\\mathrm{mol \\cdot m^{-2}}$)\",\n",
    "        \"May 2020 Mean NO2 ($\\mathrm{mol \\cdot m^{-2}}$)\",\n",
    "        \"Change in Mean NO2 (%)\",\n",
    "    ],\n",
    "    data_source=\"European Space Agency\",\n",
    ")"
   ]
  },
  {
   "cell_type": "code",
   "execution_count": null,
   "metadata": {
    "ExecuteTime": {
     "end_time": "2020-10-23T18:47:17.093993Z",
     "start_time": "2020-10-23T18:47:15.157908Z"
    }
   },
   "outputs": [],
   "source": [
    "# Plot June 2019-2020 change\n",
    "fig, ax = stl.plot_monthly_comparison(\n",
    "    pre_change=no2_dict[\"2019\"][\"06\"],\n",
    "    post_change=no2_dict[\"2020\"][\"06\"],\n",
    "    extent_file=monthly_means[0],\n",
    "    country_boundaries=[malaysia_boundary_clipped, singapore_boundary],\n",
    "    country_names=[\"Malaysia\", \"Singapore\"],\n",
    "    change_type=\"percent\",\n",
    "    location=\"Singapore\",\n",
    "    titles=[\n",
    "        \"June 2019 Mean NO2 ($\\mathrm{mol \\cdot m^{-2}}$)\",\n",
    "        \"June 2020 Mean NO2 ($\\mathrm{mol \\cdot m^{-2}}$)\",\n",
    "        \"Change in Mean NO2 (%)\",\n",
    "    ],\n",
    "    data_source=\"European Space Agency\",\n",
    ")"
   ]
  },
  {
   "cell_type": "code",
   "execution_count": null,
   "metadata": {
    "ExecuteTime": {
     "end_time": "2020-10-23T18:47:18.759568Z",
     "start_time": "2020-10-23T18:47:17.097983Z"
    }
   },
   "outputs": [],
   "source": [
    "# Plot July 2019-2020 change\n",
    "fig, ax = stl.plot_monthly_comparison(\n",
    "    pre_change=no2_dict[\"2019\"][\"07\"],\n",
    "    post_change=no2_dict[\"2020\"][\"07\"],\n",
    "    extent_file=monthly_means[0],\n",
    "    country_boundaries=[malaysia_boundary_clipped, singapore_boundary],\n",
    "    country_names=[\"Malaysia\", \"Singapore\"],\n",
    "    change_type=\"percent\",\n",
    "    location=\"Singapore\",\n",
    "    titles=[\n",
    "        \"Jul 2019 Mean NO2 ($\\mathrm{mol \\cdot m^{-2}}$)\",\n",
    "        \"Jul 2020 Mean NO2 ($\\mathrm{mol \\cdot m^{-2}}$)\",\n",
    "        \"Change in Mean NO2 (%)\",\n",
    "    ],\n",
    "    data_source=\"European Space Agency\",\n",
    ")"
   ]
  },
  {
   "cell_type": "markdown",
   "metadata": {},
   "source": [
    "# Data Export"
   ]
  },
  {
   "cell_type": "markdown",
   "metadata": {},
   "source": [
    "## Monthly Means"
   ]
  },
  {
   "cell_type": "code",
   "execution_count": null,
   "metadata": {
    "ExecuteTime": {
     "end_time": "2020-10-23T18:48:30.497662Z",
     "start_time": "2020-10-23T18:47:18.763555Z"
    },
    "scrolled": false
   },
   "outputs": [],
   "source": [
    "# Plot and export all stack bands (monthly means)\n",
    "with plt.style.context(\"dark_background\"):\n",
    "    # Initialize figure/axes\n",
    "    fig, ax = plt.subplots(nrows=8, ncols=3, figsize=(20, 40))\n",
    "    plt.suptitle(\"Singapore NO2 Monthly Means, Jul 2018 - Jun 2020\", size=24)\n",
    "    plt.subplots_adjust(top=0.955)\n",
    "\n",
    "    # Loop through all axes\n",
    "    for (band, axis) in enumerate(fig.axes):\n",
    "        # Plot monthly mean NO2 data\n",
    "        ep.plot_bands(\n",
    "            arr=no2_months_stack[band],\n",
    "            cmap=\"inferno\",\n",
    "            title=titles[band],\n",
    "            extent=singapore_extent,\n",
    "            vmin=0,\n",
    "            vmax=no2_months_stack.max(),\n",
    "            ax=axis,\n",
    "        )\n",
    "\n",
    "        # Add country boundaries and legend to axes\n",
    "        malaysia_boundary_clipped.boundary.plot(\n",
    "            edgecolor=\"#e41a1c\",\n",
    "            linewidth=0.5,\n",
    "            ax=axis,\n",
    "            alpha=1,\n",
    "            label=\"Malaysia\",\n",
    "        )\n",
    "        singapore_boundary.boundary.plot(\n",
    "            edgecolor=\"#1b7837\",\n",
    "            linewidth=0.5,\n",
    "            ax=axis,\n",
    "            alpha=1,\n",
    "            label=\"Singapore\",\n",
    "        )\n",
    "        axis.legend(\n",
    "            shadow=True, edgecolor=\"white\", fontsize=10, loc=\"lower right\"\n",
    "        )\n",
    "\n",
    "    # Add caption\n",
    "    fig.text(\n",
    "        0.5,\n",
    "        0.11,\n",
    "        f\"Data Source: European Space Agency\",\n",
    "        ha=\"center\",\n",
    "        fontsize=16,\n",
    "    )\n",
    "\n",
    "rd.save_figure(\n",
    "    os.path.join(\n",
    "        \"04-graphics-outputs\",\n",
    "        \"spatial-plots\",\n",
    "        \"singapore\",\n",
    "        \"singapore-no2-monthly-means-jul-2018-jun-2020.png\",\n",
    "    )\n",
    ")"
   ]
  },
  {
   "cell_type": "markdown",
   "metadata": {},
   "source": [
    "## Magnitude Change"
   ]
  },
  {
   "cell_type": "markdown",
   "metadata": {},
   "source": [
    "### Georeferenced"
   ]
  },
  {
   "cell_type": "code",
   "execution_count": null,
   "metadata": {
    "ExecuteTime": {
     "end_time": "2020-10-23T18:48:30.517419Z",
     "start_time": "2020-10-23T18:48:30.499709Z"
    }
   },
   "outputs": [],
   "source": [
    "# Extract metadata from GeoTiff\n",
    "metadata = stl.extract_geotiff_metadata(monthly_means[0])\n",
    "metadata"
   ]
  },
  {
   "cell_type": "code",
   "execution_count": null,
   "metadata": {
    "ExecuteTime": {
     "end_time": "2020-10-23T18:48:30.744113Z",
     "start_time": "2020-10-23T18:48:30.519381Z"
    }
   },
   "outputs": [],
   "source": [
    "# Export monthly NO2 change (magnitude)\n",
    "export_files = [\n",
    "    (\n",
    "        magnitude_change_jul_2018_2019,\n",
    "        os.path.join(\n",
    "            \"03-processed-data\",\n",
    "            \"raster\",\n",
    "            \"singapore\",\n",
    "            \"change\",\n",
    "            \"singapore-no2-mean-change-magnitude-jul-2018-2019.tif\",\n",
    "        ),\n",
    "    ),\n",
    "    (\n",
    "        magnitude_change_aug_2018_2019,\n",
    "        os.path.join(\n",
    "            \"03-processed-data\",\n",
    "            \"raster\",\n",
    "            \"singapore\",\n",
    "            \"change\",\n",
    "            \"singapore-no2-mean-change-magnitude-aug-2018-2019.tif\",\n",
    "        ),\n",
    "    ),\n",
    "    (\n",
    "        magnitude_change_sep_2018_2019,\n",
    "        os.path.join(\n",
    "            \"03-processed-data\",\n",
    "            \"raster\",\n",
    "            \"singapore\",\n",
    "            \"change\",\n",
    "            \"singapore-no2-mean-change-magnitude-sep-2018-2019.tif\",\n",
    "        ),\n",
    "    ),\n",
    "    (\n",
    "        magnitude_change_oct_2018_2019,\n",
    "        os.path.join(\n",
    "            \"03-processed-data\",\n",
    "            \"raster\",\n",
    "            \"singapore\",\n",
    "            \"change\",\n",
    "            \"singapore-no2-mean-change-magnitude-oct-2018-2019.tif\",\n",
    "        ),\n",
    "    ),\n",
    "    (\n",
    "        magnitude_change_nov_2018_2019,\n",
    "        os.path.join(\n",
    "            \"03-processed-data\",\n",
    "            \"raster\",\n",
    "            \"singapore\",\n",
    "            \"change\",\n",
    "            \"singapore-no2-mean-change-magnitude-nov-2018-2019.tif\",\n",
    "        ),\n",
    "    ),\n",
    "    (\n",
    "        magnitude_change_dec_2018_2019,\n",
    "        os.path.join(\n",
    "            \"03-processed-data\",\n",
    "            \"raster\",\n",
    "            \"singapore\",\n",
    "            \"change\",\n",
    "            \"singapore-no2-mean-change-magnitude-dec-2018-2019.tif\",\n",
    "        ),\n",
    "    ),\n",
    "    (\n",
    "        magnitude_change_jan_2019_2020,\n",
    "        os.path.join(\n",
    "            \"03-processed-data\",\n",
    "            \"raster\",\n",
    "            \"singapore\",\n",
    "            \"change\",\n",
    "            \"singapore-no2-mean-change-magnitude-jan-2019-2020.tif\",\n",
    "        ),\n",
    "    ),\n",
    "    (\n",
    "        magnitude_change_feb_2019_2020,\n",
    "        os.path.join(\n",
    "            \"03-processed-data\",\n",
    "            \"raster\",\n",
    "            \"singapore\",\n",
    "            \"change\",\n",
    "            \"singapore-no2-mean-change-magnitude-feb-2019-2020.tif\",\n",
    "        ),\n",
    "    ),\n",
    "    (\n",
    "        magnitude_change_mar_2019_2020,\n",
    "        os.path.join(\n",
    "            \"03-processed-data\",\n",
    "            \"raster\",\n",
    "            \"singapore\",\n",
    "            \"change\",\n",
    "            \"singapore-no2-mean-change-magnitude-mar-2019-2020.tif\",\n",
    "        ),\n",
    "    ),\n",
    "    (\n",
    "        magnitude_change_apr_2019_2020,\n",
    "        os.path.join(\n",
    "            \"03-processed-data\",\n",
    "            \"raster\",\n",
    "            \"singapore\",\n",
    "            \"change\",\n",
    "            \"singapore-no2-mean-change-magnitude-apr-2019-2020.tif\",\n",
    "        ),\n",
    "    ),\n",
    "    (\n",
    "        magnitude_change_may_2019_2020,\n",
    "        os.path.join(\n",
    "            \"03-processed-data\",\n",
    "            \"raster\",\n",
    "            \"singapore\",\n",
    "            \"change\",\n",
    "            \"singapore-no2-mean-change-magnitude-may-2019-2020.tif\",\n",
    "        ),\n",
    "    ),\n",
    "    (\n",
    "        magnitude_change_jun_2019_2020,\n",
    "        os.path.join(\n",
    "            \"03-processed-data\",\n",
    "            \"raster\",\n",
    "            \"singapore\",\n",
    "            \"change\",\n",
    "            \"singapore-no2-mean-change-magnitude-jun-2019-2020.tif\",\n",
    "        ),\n",
    "    ),\n",
    "    (\n",
    "        magnitude_change_jul_2019_2020,\n",
    "        os.path.join(\n",
    "            \"03-processed-data\",\n",
    "            \"raster\",\n",
    "            \"singapore\",\n",
    "            \"change\",\n",
    "            \"singapore-no2-mean-change-magnitude-jul-2019-2020.tif\",\n",
    "        ),\n",
    "    ),\n",
    "]\n",
    "\n",
    "for (array, outpath) in export_files:\n",
    "    rd.export_array(array, outpath, metadata)"
   ]
  },
  {
   "cell_type": "markdown",
   "metadata": {},
   "source": [
    "### Non-Georeferenced"
   ]
  },
  {
   "cell_type": "code",
   "execution_count": null,
   "metadata": {
    "ExecuteTime": {
     "end_time": "2020-10-23T18:48:35.864674Z",
     "start_time": "2020-10-23T18:48:30.747105Z"
    }
   },
   "outputs": [],
   "source": [
    "# Plot and export July 2018-2019 change\n",
    "fig, ax = stl.plot_monthly_comparison(\n",
    "    pre_change=no2_dict[\"2018\"][\"07\"],\n",
    "    post_change=no2_dict[\"2019\"][\"07\"],\n",
    "    extent_file=monthly_means[0],\n",
    "    country_boundaries=[malaysia_boundary_clipped, singapore_boundary],\n",
    "    country_names=[\"Malaysia\", \"Singapore\"],\n",
    "    change_type=\"magnitude\",\n",
    "    location=\"Singapore\",\n",
    "    titles=[\n",
    "        \"July 2018 Mean NO2 ($\\mathrm{mol \\cdot m^{-2}}$)\",\n",
    "        \"July 2019 Mean NO2 ($\\mathrm{mol \\cdot m^{-2}}$)\",\n",
    "        \"Change in Mean NO2 ($\\mathrm{mol \\cdot m^{-2}}$)\",\n",
    "    ],\n",
    "    data_source=\"European Space Agency\",\n",
    ")\n",
    "\n",
    "rd.save_figure(\n",
    "    os.path.join(\n",
    "        \"04-graphics-outputs\",\n",
    "        \"spatial-plots\",\n",
    "        \"singapore\",\n",
    "        \"singapore-no2-mean-change-magnitude-jul-2018-2019.png\",\n",
    "    )\n",
    ")"
   ]
  },
  {
   "cell_type": "code",
   "execution_count": null,
   "metadata": {
    "ExecuteTime": {
     "end_time": "2020-10-23T18:48:40.982063Z",
     "start_time": "2020-10-23T18:48:35.864674Z"
    }
   },
   "outputs": [],
   "source": [
    "# Plot and export August 2018-2019 change\n",
    "fig, ax = stl.plot_monthly_comparison(\n",
    "    pre_change=no2_dict[\"2018\"][\"08\"],\n",
    "    post_change=no2_dict[\"2019\"][\"08\"],\n",
    "    extent_file=monthly_means[0],\n",
    "    country_boundaries=[malaysia_boundary_clipped, singapore_boundary],\n",
    "    country_names=[\"Malaysia\", \"Singapore\"],\n",
    "    change_type=\"magnitude\",\n",
    "    location=\"Singapore\",\n",
    "    titles=[\n",
    "        \"August 2018 Mean NO2 ($\\mathrm{mol \\cdot m^{-2}}$)\",\n",
    "        \"August 2019 Mean NO2 ($\\mathrm{mol \\cdot m^{-2}}$)\",\n",
    "        \"Change in Mean NO2 ($\\mathrm{mol \\cdot m^{-2}}$)\",\n",
    "    ],\n",
    "    data_source=\"European Space Agency\",\n",
    ")\n",
    "\n",
    "rd.save_figure(\n",
    "    os.path.join(\n",
    "        \"04-graphics-outputs\",\n",
    "        \"spatial-plots\",\n",
    "        \"singapore\",\n",
    "        \"singapore-no2-mean-change-magnitude-aug-2018-2019.png\",\n",
    "    )\n",
    ")"
   ]
  },
  {
   "cell_type": "code",
   "execution_count": null,
   "metadata": {
    "ExecuteTime": {
     "end_time": "2020-10-23T18:48:45.722805Z",
     "start_time": "2020-10-23T18:48:40.985430Z"
    }
   },
   "outputs": [],
   "source": [
    "# Plot and export September 2018-2019 change\n",
    "fig, ax = stl.plot_monthly_comparison(\n",
    "    pre_change=no2_dict[\"2018\"][\"09\"],\n",
    "    post_change=no2_dict[\"2019\"][\"09\"],\n",
    "    extent_file=monthly_means[0],\n",
    "    country_boundaries=[malaysia_boundary_clipped, singapore_boundary],\n",
    "    country_names=[\"Malaysia\", \"Singapore\"],\n",
    "    change_type=\"magnitude\",\n",
    "    location=\"Singapore\",\n",
    "    titles=[\n",
    "        \"September 2018 Mean NO2 ($\\mathrm{mol \\cdot m^{-2}}$)\",\n",
    "        \"September 2019 Mean NO2 ($\\mathrm{mol \\cdot m^{-2}}$)\",\n",
    "        \"Change in Mean NO2 ($\\mathrm{mol \\cdot m^{-2}}$)\",\n",
    "    ],\n",
    "    data_source=\"European Space Agency\",\n",
    ")\n",
    "\n",
    "rd.save_figure(\n",
    "    os.path.join(\n",
    "        \"04-graphics-outputs\",\n",
    "        \"spatial-plots\",\n",
    "        \"singapore\",\n",
    "        \"singapore-no2-mean-change-magnitude-sep-2018-2019.png\",\n",
    "    )\n",
    ")"
   ]
  },
  {
   "cell_type": "code",
   "execution_count": null,
   "metadata": {
    "ExecuteTime": {
     "end_time": "2020-10-23T18:48:50.215846Z",
     "start_time": "2020-10-23T18:48:45.724915Z"
    }
   },
   "outputs": [],
   "source": [
    "# Plot and export October 2018-2019 change\n",
    "fig, ax = stl.plot_monthly_comparison(\n",
    "    pre_change=no2_dict[\"2018\"][\"10\"],\n",
    "    post_change=no2_dict[\"2019\"][\"10\"],\n",
    "    extent_file=monthly_means[0],\n",
    "    country_boundaries=[malaysia_boundary_clipped, singapore_boundary],\n",
    "    country_names=[\"Malaysia\", \"Singapore\"],\n",
    "    change_type=\"magnitude\",\n",
    "    location=\"Singapore\",\n",
    "    titles=[\n",
    "        \"October 2018 Mean NO2 ($\\mathrm{mol \\cdot m^{-2}}$)\",\n",
    "        \"October 2019 Mean NO2 ($\\mathrm{mol \\cdot m^{-2}}$)\",\n",
    "        \"Change in Mean NO2 ($\\mathrm{mol \\cdot m^{-2}}$)\",\n",
    "    ],\n",
    "    data_source=\"European Space Agency\",\n",
    ")\n",
    "\n",
    "rd.save_figure(\n",
    "    os.path.join(\n",
    "        \"04-graphics-outputs\",\n",
    "        \"spatial-plots\",\n",
    "        \"singapore\",\n",
    "        \"singapore-no2-mean-change-magnitude-oct-2018-2019.png\",\n",
    "    )\n",
    ")"
   ]
  },
  {
   "cell_type": "code",
   "execution_count": null,
   "metadata": {
    "ExecuteTime": {
     "end_time": "2020-10-23T18:48:55.232274Z",
     "start_time": "2020-10-23T18:48:50.218837Z"
    }
   },
   "outputs": [],
   "source": [
    "# Plot and export November 2018-2019 change\n",
    "fig, ax = stl.plot_monthly_comparison(\n",
    "    pre_change=no2_dict[\"2018\"][\"11\"],\n",
    "    post_change=no2_dict[\"2019\"][\"11\"],\n",
    "    extent_file=monthly_means[0],\n",
    "    country_boundaries=[malaysia_boundary_clipped, singapore_boundary],\n",
    "    country_names=[\"Malaysia\", \"Singapore\"],\n",
    "    change_type=\"magnitude\",\n",
    "    location=\"Singapore\",\n",
    "    titles=[\n",
    "        \"November 2018 Mean NO2 ($\\mathrm{mol \\cdot m^{-2}}$)\",\n",
    "        \"November 2019 Mean NO2 ($\\mathrm{mol \\cdot m^{-2}}$)\",\n",
    "        \"Change in Mean NO2 ($\\mathrm{mol \\cdot m^{-2}}$)\",\n",
    "    ],\n",
    "    data_source=\"European Space Agency\",\n",
    ")\n",
    "\n",
    "rd.save_figure(\n",
    "    os.path.join(\n",
    "        \"04-graphics-outputs\",\n",
    "        \"spatial-plots\",\n",
    "        \"singapore\",\n",
    "        \"singapore-no2-mean-change-magnitude-nov-2018-2019.png\",\n",
    "    )\n",
    ")"
   ]
  },
  {
   "cell_type": "code",
   "execution_count": null,
   "metadata": {
    "ExecuteTime": {
     "end_time": "2020-10-23T18:49:00.247835Z",
     "start_time": "2020-10-23T18:48:55.235266Z"
    }
   },
   "outputs": [],
   "source": [
    "# Plot and export December 2018-2019 change\n",
    "fig, ax = stl.plot_monthly_comparison(\n",
    "    pre_change=no2_dict[\"2018\"][\"12\"],\n",
    "    post_change=no2_dict[\"2019\"][\"12\"],\n",
    "    extent_file=monthly_means[0],\n",
    "    country_boundaries=[malaysia_boundary_clipped, singapore_boundary],\n",
    "    country_names=[\"Malaysia\", \"Singapore\"],\n",
    "    change_type=\"magnitude\",\n",
    "    location=\"Singapore\",\n",
    "    titles=[\n",
    "        \"December 2018 Mean NO2 ($\\mathrm{mol \\cdot m^{-2}}$)\",\n",
    "        \"December 2019 Mean NO2 ($\\mathrm{mol \\cdot m^{-2}}$)\",\n",
    "        \"Change in Mean NO2 ($\\mathrm{mol \\cdot m^{-2}}$)\",\n",
    "    ],\n",
    "    data_source=\"European Space Agency\",\n",
    ")\n",
    "\n",
    "rd.save_figure(\n",
    "    os.path.join(\n",
    "        \"04-graphics-outputs\",\n",
    "        \"spatial-plots\",\n",
    "        \"singapore\",\n",
    "        \"singapore-no2-mean-change-magnitude-dec-2018-2019.png\",\n",
    "    )\n",
    ")"
   ]
  },
  {
   "cell_type": "code",
   "execution_count": null,
   "metadata": {
    "ExecuteTime": {
     "end_time": "2020-10-23T18:49:04.987338Z",
     "start_time": "2020-10-23T18:49:00.250826Z"
    }
   },
   "outputs": [],
   "source": [
    "# Plot and export January 2019-2020 change\n",
    "fig, ax = stl.plot_monthly_comparison(\n",
    "    pre_change=no2_dict[\"2019\"][\"01\"],\n",
    "    post_change=no2_dict[\"2020\"][\"01\"],\n",
    "    extent_file=monthly_means[0],\n",
    "    country_boundaries=[malaysia_boundary_clipped, singapore_boundary],\n",
    "    country_names=[\"Malaysia\", \"Singapore\"],\n",
    "    change_type=\"magnitude\",\n",
    "    location=\"Singapore\",\n",
    "    titles=[\n",
    "        \"January 2019 Mean NO2 ($\\mathrm{mol \\cdot m^{-2}}$)\",\n",
    "        \"January 2020 Mean NO2 ($\\mathrm{mol \\cdot m^{-2}}$)\",\n",
    "        \"Change in Mean NO2 ($\\mathrm{mol \\cdot m^{-2}}$)\",\n",
    "    ],\n",
    "    data_source=\"European Space Agency\",\n",
    ")\n",
    "\n",
    "rd.save_figure(\n",
    "    os.path.join(\n",
    "        \"04-graphics-outputs\",\n",
    "        \"spatial-plots\",\n",
    "        \"singapore\",\n",
    "        \"singapore-no2-mean-change-magnitude-jan-2019-2020.png\",\n",
    "    )\n",
    ")"
   ]
  },
  {
   "cell_type": "code",
   "execution_count": null,
   "metadata": {
    "ExecuteTime": {
     "end_time": "2020-10-23T18:49:09.281795Z",
     "start_time": "2020-10-23T18:49:04.989334Z"
    }
   },
   "outputs": [],
   "source": [
    "# Plot and export February 2019-2020 change\n",
    "fig, ax = stl.plot_monthly_comparison(\n",
    "    pre_change=no2_dict[\"2019\"][\"02\"],\n",
    "    post_change=no2_dict[\"2020\"][\"02\"],\n",
    "    extent_file=monthly_means[0],\n",
    "    country_boundaries=[malaysia_boundary_clipped, singapore_boundary],\n",
    "    country_names=[\"Malaysia\", \"Singapore\"],\n",
    "    change_type=\"magnitude\",\n",
    "    location=\"Singapore\",\n",
    "    titles=[\n",
    "        \"February 2019 Mean NO2 ($\\mathrm{mol \\cdot m^{-2}}$)\",\n",
    "        \"February 2020 Mean NO2 ($\\mathrm{mol \\cdot m^{-2}}$)\",\n",
    "        \"Change in Mean NO2 ($\\mathrm{mol \\cdot m^{-2}}$)\",\n",
    "    ],\n",
    "    data_source=\"European Space Agency\",\n",
    ")\n",
    "\n",
    "rd.save_figure(\n",
    "    os.path.join(\n",
    "        \"04-graphics-outputs\",\n",
    "        \"spatial-plots\",\n",
    "        \"singapore\",\n",
    "        \"singapore-no2-mean-change-magnitude-feb-2019-2020.png\",\n",
    "    )\n",
    ")"
   ]
  },
  {
   "cell_type": "code",
   "execution_count": null,
   "metadata": {
    "ExecuteTime": {
     "end_time": "2020-10-23T18:49:13.768335Z",
     "start_time": "2020-10-23T18:49:09.284789Z"
    }
   },
   "outputs": [],
   "source": [
    "# Plot and export March 2019-2020 change\n",
    "fig, ax = stl.plot_monthly_comparison(\n",
    "    pre_change=no2_dict[\"2019\"][\"03\"],\n",
    "    post_change=no2_dict[\"2020\"][\"03\"],\n",
    "    extent_file=monthly_means[0],\n",
    "    country_boundaries=[malaysia_boundary_clipped, singapore_boundary],\n",
    "    country_names=[\"Malaysia\", \"Singapore\"],\n",
    "    change_type=\"magnitude\",\n",
    "    location=\"Singapore\",\n",
    "    titles=[\n",
    "        \"March 2019 Mean NO2 ($\\mathrm{mol \\cdot m^{-2}}$)\",\n",
    "        \"March 2020 Mean NO2 ($\\mathrm{mol \\cdot m^{-2}}$)\",\n",
    "        \"Change in Mean NO2 ($\\mathrm{mol \\cdot m^{-2}}$)\",\n",
    "    ],\n",
    "    data_source=\"European Space Agency\",\n",
    ")\n",
    "\n",
    "rd.save_figure(\n",
    "    os.path.join(\n",
    "        \"04-graphics-outputs\",\n",
    "        \"spatial-plots\",\n",
    "        \"singapore\",\n",
    "        \"singapore-no2-mean-change-magnitude-mar-2019-2020.png\",\n",
    "    )\n",
    ")"
   ]
  },
  {
   "cell_type": "code",
   "execution_count": null,
   "metadata": {
    "ExecuteTime": {
     "end_time": "2020-10-23T18:49:18.803250Z",
     "start_time": "2020-10-23T18:49:13.770087Z"
    }
   },
   "outputs": [],
   "source": [
    "# Plot and export April 2019-2020 change\n",
    "fig, ax = stl.plot_monthly_comparison(\n",
    "    pre_change=no2_dict[\"2019\"][\"04\"],\n",
    "    post_change=no2_dict[\"2020\"][\"04\"],\n",
    "    extent_file=monthly_means[0],\n",
    "    country_boundaries=[malaysia_boundary_clipped, singapore_boundary],\n",
    "    country_names=[\"Malaysia\", \"Singapore\"],\n",
    "    change_type=\"magnitude\",\n",
    "    location=\"Singapore\",\n",
    "    titles=[\n",
    "        \"April 2019 Mean NO2 ($\\mathrm{mol \\cdot m^{-2}}$)\",\n",
    "        \"April 2020 Mean NO2 ($\\mathrm{mol \\cdot m^{-2}}$)\",\n",
    "        \"Change in Mean NO2 ($\\mathrm{mol \\cdot m^{-2}}$)\",\n",
    "    ],\n",
    "    data_source=\"European Space Agency\",\n",
    ")\n",
    "\n",
    "rd.save_figure(\n",
    "    os.path.join(\n",
    "        \"04-graphics-outputs\",\n",
    "        \"spatial-plots\",\n",
    "        \"singapore\",\n",
    "        \"singapore-no2-mean-change-magnitude-apr-2019-2020.png\",\n",
    "    )\n",
    ")"
   ]
  },
  {
   "cell_type": "code",
   "execution_count": null,
   "metadata": {
    "ExecuteTime": {
     "end_time": "2020-10-23T18:49:23.549830Z",
     "start_time": "2020-10-23T18:49:18.806241Z"
    }
   },
   "outputs": [],
   "source": [
    "# Plot and export May 2019-2020 change\n",
    "fig, ax = stl.plot_monthly_comparison(\n",
    "    pre_change=no2_dict[\"2019\"][\"05\"],\n",
    "    post_change=no2_dict[\"2020\"][\"05\"],\n",
    "    extent_file=monthly_means[0],\n",
    "    country_boundaries=[malaysia_boundary_clipped, singapore_boundary],\n",
    "    country_names=[\"Malaysia\", \"Singapore\"],\n",
    "    change_type=\"magnitude\",\n",
    "    location=\"Singapore\",\n",
    "    titles=[\n",
    "        \"May 2019 Mean NO2 ($\\mathrm{mol \\cdot m^{-2}}$)\",\n",
    "        \"May 2020 Mean NO2 ($\\mathrm{mol \\cdot m^{-2}}$)\",\n",
    "        \"Change in Mean NO2 ($\\mathrm{mol \\cdot m^{-2}}$)\",\n",
    "    ],\n",
    "    data_source=\"European Space Agency\",\n",
    ")\n",
    "\n",
    "rd.save_figure(\n",
    "    os.path.join(\n",
    "        \"04-graphics-outputs\",\n",
    "        \"spatial-plots\",\n",
    "        \"singapore\",\n",
    "        \"singapore-no2-mean-change-magnitude-may-2019-2020.png\",\n",
    "    )\n",
    ")"
   ]
  },
  {
   "cell_type": "code",
   "execution_count": null,
   "metadata": {
    "ExecuteTime": {
     "end_time": "2020-10-23T18:49:28.283499Z",
     "start_time": "2020-10-23T18:49:23.551822Z"
    }
   },
   "outputs": [],
   "source": [
    "# Plot and export June 2019-2020 change\n",
    "fig, ax = stl.plot_monthly_comparison(\n",
    "    pre_change=no2_dict[\"2019\"][\"06\"],\n",
    "    post_change=no2_dict[\"2020\"][\"06\"],\n",
    "    extent_file=monthly_means[0],\n",
    "    country_boundaries=[malaysia_boundary_clipped, singapore_boundary],\n",
    "    country_names=[\"Malaysia\", \"Singapore\"],\n",
    "    change_type=\"magnitude\",\n",
    "    location=\"Singapore\",\n",
    "    titles=[\n",
    "        \"June 2019 Mean NO2 ($\\mathrm{mol \\cdot m^{-2}}$)\",\n",
    "        \"June 2020 Mean NO2 ($\\mathrm{mol \\cdot m^{-2}}$)\",\n",
    "        \"Change in Mean NO2 ($\\mathrm{mol \\cdot m^{-2}}$)\",\n",
    "    ],\n",
    "    data_source=\"European Space Agency\",\n",
    ")\n",
    "\n",
    "rd.save_figure(\n",
    "    os.path.join(\n",
    "        \"04-graphics-outputs\",\n",
    "        \"spatial-plots\",\n",
    "        \"singapore\",\n",
    "        \"singapore-no2-mean-change-magnitude-jun-2019-2020.png\",\n",
    "    )\n",
    ")"
   ]
  },
  {
   "cell_type": "code",
   "execution_count": null,
   "metadata": {
    "ExecuteTime": {
     "end_time": "2020-10-23T18:49:33.074762Z",
     "start_time": "2020-10-23T18:49:28.285494Z"
    }
   },
   "outputs": [],
   "source": [
    "# Plot and export July 2019-2020 change\n",
    "fig, ax = stl.plot_monthly_comparison(\n",
    "    pre_change=no2_dict[\"2019\"][\"07\"],\n",
    "    post_change=no2_dict[\"2020\"][\"07\"],\n",
    "    extent_file=monthly_means[0],\n",
    "    country_boundaries=[malaysia_boundary_clipped, singapore_boundary],\n",
    "    country_names=[\"Malaysia\", \"Singapore\"],\n",
    "    change_type=\"magnitude\",\n",
    "    location=\"Singapore\",\n",
    "    titles=[\n",
    "        \"Jul 2019 Mean NO2 ($\\mathrm{mol \\cdot m^{-2}}$)\",\n",
    "        \"Jul 2020 Mean NO2 ($\\mathrm{mol \\cdot m^{-2}}$)\",\n",
    "        \"Change in Mean NO2 ($\\mathrm{mol \\cdot m^{-2}}$)\",\n",
    "    ],\n",
    "    data_source=\"European Space Agency\",\n",
    ")\n",
    "\n",
    "rd.save_figure(\n",
    "    os.path.join(\n",
    "        \"04-graphics-outputs\",\n",
    "        \"spatial-plots\",\n",
    "        \"singapore\",\n",
    "        \"singapore-no2-mean-change-magnitude-jul-2019-2020.png\",\n",
    "    )\n",
    ")"
   ]
  },
  {
   "cell_type": "markdown",
   "metadata": {},
   "source": [
    "## Percent Change"
   ]
  },
  {
   "cell_type": "markdown",
   "metadata": {},
   "source": [
    "### Georeferenced"
   ]
  },
  {
   "cell_type": "code",
   "execution_count": null,
   "metadata": {
    "ExecuteTime": {
     "end_time": "2020-10-23T18:49:33.099697Z",
     "start_time": "2020-10-23T18:49:33.077754Z"
    }
   },
   "outputs": [],
   "source": [
    "# Extract metadata from GeoTiff\n",
    "metadata = stl.extract_geotiff_metadata(monthly_means[0])\n",
    "metadata"
   ]
  },
  {
   "cell_type": "code",
   "execution_count": null,
   "metadata": {
    "ExecuteTime": {
     "end_time": "2020-10-23T18:49:33.359002Z",
     "start_time": "2020-10-23T18:49:33.102690Z"
    }
   },
   "outputs": [],
   "source": [
    "# Export monthly NO2 change (percent)\n",
    "export_files = [\n",
    "    (\n",
    "        percent_change_jul_2018_2019,\n",
    "        os.path.join(\n",
    "            \"03-processed-data\",\n",
    "            \"raster\",\n",
    "            \"singapore\",\n",
    "            \"change\",\n",
    "            \"singapore-no2-mean-change-percent-jul-2018-2019.tif\",\n",
    "        ),\n",
    "    ),\n",
    "    (\n",
    "        percent_change_aug_2018_2019,\n",
    "        os.path.join(\n",
    "            \"03-processed-data\",\n",
    "            \"raster\",\n",
    "            \"singapore\",\n",
    "            \"change\",\n",
    "            \"singapore-no2-mean-change-percent-aug-2018-2019.tif\",\n",
    "        ),\n",
    "    ),\n",
    "    (\n",
    "        percent_change_sep_2018_2019,\n",
    "        os.path.join(\n",
    "            \"03-processed-data\",\n",
    "            \"raster\",\n",
    "            \"singapore\",\n",
    "            \"change\",\n",
    "            \"singapore-no2-mean-change-percent-sep-2018-2019.tif\",\n",
    "        ),\n",
    "    ),\n",
    "    (\n",
    "        percent_change_oct_2018_2019,\n",
    "        os.path.join(\n",
    "            \"03-processed-data\",\n",
    "            \"raster\",\n",
    "            \"singapore\",\n",
    "            \"change\",\n",
    "            \"singapore-no2-mean-change-percent-oct-2018-2019.tif\",\n",
    "        ),\n",
    "    ),\n",
    "    (\n",
    "        percent_change_nov_2018_2019,\n",
    "        os.path.join(\n",
    "            \"03-processed-data\",\n",
    "            \"raster\",\n",
    "            \"singapore\",\n",
    "            \"change\",\n",
    "            \"singapore-no2-mean-change-percent-nov-2018-2019.tif\",\n",
    "        ),\n",
    "    ),\n",
    "    (\n",
    "        percent_change_dec_2018_2019,\n",
    "        os.path.join(\n",
    "            \"03-processed-data\",\n",
    "            \"raster\",\n",
    "            \"singapore\",\n",
    "            \"change\",\n",
    "            \"singapore-no2-mean-change-percent-dec-2018-2019.tif\",\n",
    "        ),\n",
    "    ),\n",
    "    (\n",
    "        percent_change_jan_2019_2020,\n",
    "        os.path.join(\n",
    "            \"03-processed-data\",\n",
    "            \"raster\",\n",
    "            \"singapore\",\n",
    "            \"change\",\n",
    "            \"singapore-no2-mean-change-percent-jan-2019-2020.tif\",\n",
    "        ),\n",
    "    ),\n",
    "    (\n",
    "        percent_change_feb_2019_2020,\n",
    "        os.path.join(\n",
    "            \"03-processed-data\",\n",
    "            \"raster\",\n",
    "            \"singapore\",\n",
    "            \"change\",\n",
    "            \"singapore-no2-mean-change-percent-feb-2019-2020.tif\",\n",
    "        ),\n",
    "    ),\n",
    "    (\n",
    "        percent_change_mar_2019_2020,\n",
    "        os.path.join(\n",
    "            \"03-processed-data\",\n",
    "            \"raster\",\n",
    "            \"singapore\",\n",
    "            \"change\",\n",
    "            \"singapore-no2-mean-change-percent-mar-2019-2020.tif\",\n",
    "        ),\n",
    "    ),\n",
    "    (\n",
    "        percent_change_apr_2019_2020,\n",
    "        os.path.join(\n",
    "            \"03-processed-data\",\n",
    "            \"raster\",\n",
    "            \"singapore\",\n",
    "            \"change\",\n",
    "            \"singapore-no2-mean-change-percent-apr-2019-2020.tif\",\n",
    "        ),\n",
    "    ),\n",
    "    (\n",
    "        percent_change_may_2019_2020,\n",
    "        os.path.join(\n",
    "            \"03-processed-data\",\n",
    "            \"raster\",\n",
    "            \"singapore\",\n",
    "            \"change\",\n",
    "            \"singapore-no2-mean-change-percent-may-2019-2020.tif\",\n",
    "        ),\n",
    "    ),\n",
    "    (\n",
    "        percent_change_jun_2019_2020,\n",
    "        os.path.join(\n",
    "            \"03-processed-data\",\n",
    "            \"raster\",\n",
    "            \"singapore\",\n",
    "            \"change\",\n",
    "            \"singapore-no2-mean-change-percent-jun-2019-2020.tif\",\n",
    "        ),\n",
    "    ),\n",
    "    (\n",
    "        percent_change_jul_2019_2020,\n",
    "        os.path.join(\n",
    "            \"03-processed-data\",\n",
    "            \"raster\",\n",
    "            \"singapore\",\n",
    "            \"change\",\n",
    "            \"singapore-no2-mean-change-percent-jul-2019-2020.tif\",\n",
    "        ),\n",
    "    ),\n",
    "]\n",
    "\n",
    "for (array, outpath) in export_files:\n",
    "    rd.export_array(array, outpath, metadata)"
   ]
  },
  {
   "cell_type": "markdown",
   "metadata": {},
   "source": [
    "### Non-Georeferenced"
   ]
  },
  {
   "cell_type": "markdown",
   "metadata": {},
   "source": [
    "#### Regular Scale"
   ]
  },
  {
   "cell_type": "code",
   "execution_count": null,
   "metadata": {
    "ExecuteTime": {
     "end_time": "2020-10-23T18:49:38.886612Z",
     "start_time": "2020-10-23T18:49:33.361994Z"
    }
   },
   "outputs": [],
   "source": [
    "# Plot and export July 2018-2019 change\n",
    "fig, ax = stl.plot_monthly_comparison(\n",
    "    pre_change=no2_dict[\"2018\"][\"07\"],\n",
    "    post_change=no2_dict[\"2019\"][\"07\"],\n",
    "    extent_file=monthly_means[0],\n",
    "    country_boundaries=[malaysia_boundary_clipped, singapore_boundary],\n",
    "    country_names=[\"Malaysia\", \"Singapore\"],\n",
    "    change_type=\"percent\",\n",
    "    location=\"Singapore\",\n",
    "    titles=[\n",
    "        \"July 2018 Mean NO2 ($\\mathrm{mol \\cdot m^{-2}}$)\",\n",
    "        \"July 2019 Mean NO2 ($\\mathrm{mol \\cdot m^{-2}}$)\",\n",
    "        \"Change in Mean NO2 (%)\",\n",
    "    ],\n",
    "    data_source=\"European Space Agency\",\n",
    ")\n",
    "\n",
    "rd.save_figure(\n",
    "    os.path.join(\n",
    "        \"04-graphics-outputs\",\n",
    "        \"spatial-plots\",\n",
    "        \"singapore\",\n",
    "        \"singapore-no2-mean-change-percent-jul-2018-2019.png\",\n",
    "    )\n",
    ")"
   ]
  },
  {
   "cell_type": "code",
   "execution_count": null,
   "metadata": {
    "ExecuteTime": {
     "end_time": "2020-10-23T18:49:44.572684Z",
     "start_time": "2020-10-23T18:49:38.889604Z"
    }
   },
   "outputs": [],
   "source": [
    "# Plot and export August 2018-2019 change\n",
    "fig, ax = stl.plot_monthly_comparison(\n",
    "    pre_change=no2_dict[\"2018\"][\"08\"],\n",
    "    post_change=no2_dict[\"2019\"][\"08\"],\n",
    "    extent_file=monthly_means[0],\n",
    "    country_boundaries=[malaysia_boundary_clipped, singapore_boundary],\n",
    "    country_names=[\"Malaysia\", \"Singapore\"],\n",
    "    change_type=\"percent\",\n",
    "    location=\"Singapore\",\n",
    "    titles=[\n",
    "        \"August 2018 Mean NO2 ($\\mathrm{mol \\cdot m^{-2}}$)\",\n",
    "        \"August 2019 Mean NO2 ($\\mathrm{mol \\cdot m^{-2}}$)\",\n",
    "        \"Change in Mean NO2 (%)\",\n",
    "    ],\n",
    "    data_source=\"European Space Agency\",\n",
    ")\n",
    "\n",
    "rd.save_figure(\n",
    "    os.path.join(\n",
    "        \"04-graphics-outputs\",\n",
    "        \"spatial-plots\",\n",
    "        \"singapore\",\n",
    "        \"singapore-no2-mean-change-percent-aug-2018-2019.png\",\n",
    "    )\n",
    ")"
   ]
  },
  {
   "cell_type": "code",
   "execution_count": null,
   "metadata": {
    "ExecuteTime": {
     "end_time": "2020-10-23T18:49:51.088651Z",
     "start_time": "2020-10-23T18:49:44.575677Z"
    }
   },
   "outputs": [],
   "source": [
    "# Plot and export September 2018-2019 change\n",
    "fig, ax = stl.plot_monthly_comparison(\n",
    "    pre_change=no2_dict[\"2018\"][\"09\"],\n",
    "    post_change=no2_dict[\"2019\"][\"09\"],\n",
    "    extent_file=monthly_means[0],\n",
    "    country_boundaries=[malaysia_boundary_clipped, singapore_boundary],\n",
    "    country_names=[\"Malaysia\", \"Singapore\"],\n",
    "    change_type=\"percent\",\n",
    "    location=\"Singapore\",\n",
    "    titles=[\n",
    "        \"September 2018 Mean NO2 ($\\mathrm{mol \\cdot m^{-2}}$)\",\n",
    "        \"September 2019 Mean NO2 ($\\mathrm{mol \\cdot m^{-2}}$)\",\n",
    "        \"Change in Mean NO2 (%)\",\n",
    "    ],\n",
    "    data_source=\"European Space Agency\",\n",
    ")\n",
    "\n",
    "rd.save_figure(\n",
    "    os.path.join(\n",
    "        \"04-graphics-outputs\",\n",
    "        \"spatial-plots\",\n",
    "        \"singapore\",\n",
    "        \"singapore-no2-mean-change-percent-sep-2018-2019.png\",\n",
    "    )\n",
    ")"
   ]
  },
  {
   "cell_type": "code",
   "execution_count": null,
   "metadata": {
    "ExecuteTime": {
     "end_time": "2020-10-23T18:49:56.483508Z",
     "start_time": "2020-10-23T18:49:51.091642Z"
    }
   },
   "outputs": [],
   "source": [
    "# Plot and export October 2018-2019 change\n",
    "fig, ax = stl.plot_monthly_comparison(\n",
    "    pre_change=no2_dict[\"2018\"][\"10\"],\n",
    "    post_change=no2_dict[\"2019\"][\"10\"],\n",
    "    extent_file=monthly_means[0],\n",
    "    country_boundaries=[malaysia_boundary_clipped, singapore_boundary],\n",
    "    country_names=[\"Malaysia\", \"Singapore\"],\n",
    "    change_type=\"percent\",\n",
    "    location=\"Singapore\",\n",
    "    titles=[\n",
    "        \"October 2018 Mean NO2 ($\\mathrm{mol \\cdot m^{-2}}$)\",\n",
    "        \"October 2019 Mean NO2 ($\\mathrm{mol \\cdot m^{-2}}$)\",\n",
    "        \"Change in Mean NO2 (%)\",\n",
    "    ],\n",
    "    data_source=\"European Space Agency\",\n",
    ")\n",
    "\n",
    "rd.save_figure(\n",
    "    os.path.join(\n",
    "        \"04-graphics-outputs\",\n",
    "        \"spatial-plots\",\n",
    "        \"singapore\",\n",
    "        \"singapore-no2-mean-change-percent-oct-2018-2019.png\",\n",
    "    )\n",
    ")"
   ]
  },
  {
   "cell_type": "code",
   "execution_count": null,
   "metadata": {
    "ExecuteTime": {
     "end_time": "2020-10-23T18:50:02.047765Z",
     "start_time": "2020-10-23T18:49:56.486500Z"
    }
   },
   "outputs": [],
   "source": [
    "# Plot and export November 2018-2019 change\n",
    "fig, ax = stl.plot_monthly_comparison(\n",
    "    pre_change=no2_dict[\"2018\"][\"11\"],\n",
    "    post_change=no2_dict[\"2019\"][\"11\"],\n",
    "    extent_file=monthly_means[0],\n",
    "    country_boundaries=[malaysia_boundary_clipped, singapore_boundary],\n",
    "    country_names=[\"Malaysia\", \"Singapore\"],\n",
    "    change_type=\"percent\",\n",
    "    location=\"Singapore\",\n",
    "    titles=[\n",
    "        \"November 2018 Mean NO2 ($\\mathrm{mol \\cdot m^{-2}}$)\",\n",
    "        \"November 2019 Mean NO2 ($\\mathrm{mol \\cdot m^{-2}}$)\",\n",
    "        \"Change in Mean NO2 (%)\",\n",
    "    ],\n",
    "    data_source=\"European Space Agency\",\n",
    ")\n",
    "\n",
    "rd.save_figure(\n",
    "    os.path.join(\n",
    "        \"04-graphics-outputs\",\n",
    "        \"spatial-plots\",\n",
    "        \"singapore\",\n",
    "        \"singapore-no2-mean-change-percent-nov-2018-2019.png\",\n",
    "    )\n",
    ")"
   ]
  },
  {
   "cell_type": "code",
   "execution_count": null,
   "metadata": {
    "ExecuteTime": {
     "end_time": "2020-10-23T18:50:06.568557Z",
     "start_time": "2020-10-23T18:50:02.060812Z"
    }
   },
   "outputs": [],
   "source": [
    "# Plot and export December 2018-2019 change\n",
    "fig, ax = stl.plot_monthly_comparison(\n",
    "    pre_change=no2_dict[\"2018\"][\"12\"],\n",
    "    post_change=no2_dict[\"2019\"][\"12\"],\n",
    "    extent_file=monthly_means[0],\n",
    "    country_boundaries=[malaysia_boundary_clipped, singapore_boundary],\n",
    "    country_names=[\"Malaysia\", \"Singapore\"],\n",
    "    change_type=\"percent\",\n",
    "    location=\"Singapore\",\n",
    "    titles=[\n",
    "        \"December 2018 Mean NO2 ($\\mathrm{mol \\cdot m^{-2}}$)\",\n",
    "        \"December 2019 Mean NO2 ($\\mathrm{mol \\cdot m^{-2}}$)\",\n",
    "        \"Change in Mean NO2 (%)\",\n",
    "    ],\n",
    "    data_source=\"European Space Agency\",\n",
    ")\n",
    "\n",
    "rd.save_figure(\n",
    "    os.path.join(\n",
    "        \"04-graphics-outputs\",\n",
    "        \"spatial-plots\",\n",
    "        \"singapore\",\n",
    "        \"singapore-no2-mean-change-percent-dec-2018-2019.png\",\n",
    "    )\n",
    ")"
   ]
  },
  {
   "cell_type": "code",
   "execution_count": null,
   "metadata": {
    "ExecuteTime": {
     "end_time": "2020-10-23T18:50:11.294891Z",
     "start_time": "2020-10-23T18:50:06.575539Z"
    }
   },
   "outputs": [],
   "source": [
    "# Plot and export January 2019-2020 change\n",
    "fig, ax = stl.plot_monthly_comparison(\n",
    "    pre_change=no2_dict[\"2019\"][\"01\"],\n",
    "    post_change=no2_dict[\"2020\"][\"01\"],\n",
    "    extent_file=monthly_means[0],\n",
    "    country_boundaries=[malaysia_boundary_clipped, singapore_boundary],\n",
    "    country_names=[\"Malaysia\", \"Singapore\"],\n",
    "    change_type=\"percent\",\n",
    "    location=\"Singapore\",\n",
    "    titles=[\n",
    "        \"January 2019 Mean NO2 ($\\mathrm{mol \\cdot m^{-2}}$)\",\n",
    "        \"January 2020 Mean NO2 ($\\mathrm{mol \\cdot m^{-2}}$)\",\n",
    "        \"Change in Mean NO2 (%)\",\n",
    "    ],\n",
    "    data_source=\"European Space Agency\",\n",
    ")\n",
    "\n",
    "rd.save_figure(\n",
    "    os.path.join(\n",
    "        \"04-graphics-outputs\",\n",
    "        \"spatial-plots\",\n",
    "        \"singapore\",\n",
    "        \"singapore-no2-mean-change-percent-jan-2019-2020.png\",\n",
    "    )\n",
    ")"
   ]
  },
  {
   "cell_type": "code",
   "execution_count": null,
   "metadata": {
    "ExecuteTime": {
     "end_time": "2020-10-23T18:50:15.921720Z",
     "start_time": "2020-10-23T18:50:11.296886Z"
    }
   },
   "outputs": [],
   "source": [
    "# Plot and export February 2019-2020 change\n",
    "fig, ax = stl.plot_monthly_comparison(\n",
    "    pre_change=no2_dict[\"2019\"][\"02\"],\n",
    "    post_change=no2_dict[\"2020\"][\"02\"],\n",
    "    extent_file=monthly_means[0],\n",
    "    country_boundaries=[malaysia_boundary_clipped, singapore_boundary],\n",
    "    country_names=[\"Malaysia\", \"Singapore\"],\n",
    "    change_type=\"percent\",\n",
    "    location=\"Singapore\",\n",
    "    titles=[\n",
    "        \"February 2019 Mean NO2 ($\\mathrm{mol \\cdot m^{-2}}$)\",\n",
    "        \"February 2020 Mean NO2 ($\\mathrm{mol \\cdot m^{-2}}$)\",\n",
    "        \"Change in Mean NO2 (%)\",\n",
    "    ],\n",
    "    data_source=\"European Space Agency\",\n",
    ")\n",
    "\n",
    "rd.save_figure(\n",
    "    os.path.join(\n",
    "        \"04-graphics-outputs\",\n",
    "        \"spatial-plots\",\n",
    "        \"singapore\",\n",
    "        \"singapore-no2-mean-change-percent-feb-2019-2020.png\",\n",
    "    )\n",
    ")"
   ]
  },
  {
   "cell_type": "code",
   "execution_count": null,
   "metadata": {
    "ExecuteTime": {
     "end_time": "2020-10-23T18:50:21.419049Z",
     "start_time": "2020-10-23T18:50:15.924711Z"
    }
   },
   "outputs": [],
   "source": [
    "# Plot and export March 2019-2020 change\n",
    "fig, ax = stl.plot_monthly_comparison(\n",
    "    pre_change=no2_dict[\"2019\"][\"03\"],\n",
    "    post_change=no2_dict[\"2020\"][\"03\"],\n",
    "    extent_file=monthly_means[0],\n",
    "    country_boundaries=[malaysia_boundary_clipped, singapore_boundary],\n",
    "    country_names=[\"Malaysia\", \"Singapore\"],\n",
    "    change_type=\"percent\",\n",
    "    location=\"Singapore\",\n",
    "    titles=[\n",
    "        \"March 2019 Mean NO2 ($\\mathrm{mol \\cdot m^{-2}}$)\",\n",
    "        \"March 2020 Mean NO2 ($\\mathrm{mol \\cdot m^{-2}}$)\",\n",
    "        \"Change in Mean NO2 (%)\",\n",
    "    ],\n",
    "    data_source=\"European Space Agency\",\n",
    ")\n",
    "\n",
    "rd.save_figure(\n",
    "    os.path.join(\n",
    "        \"04-graphics-outputs\",\n",
    "        \"spatial-plots\",\n",
    "        \"singapore\",\n",
    "        \"singapore-no2-mean-change-percent-mar-2019-2020.png\",\n",
    "    )\n",
    ")"
   ]
  },
  {
   "cell_type": "code",
   "execution_count": null,
   "metadata": {
    "ExecuteTime": {
     "end_time": "2020-10-23T18:50:26.484182Z",
     "start_time": "2020-10-23T18:50:21.422043Z"
    }
   },
   "outputs": [],
   "source": [
    "# Plot and export April 2019-2020 change\n",
    "fig, ax = stl.plot_monthly_comparison(\n",
    "    pre_change=no2_dict[\"2019\"][\"04\"],\n",
    "    post_change=no2_dict[\"2020\"][\"04\"],\n",
    "    extent_file=monthly_means[0],\n",
    "    country_boundaries=[malaysia_boundary_clipped, singapore_boundary],\n",
    "    country_names=[\"Malaysia\", \"Singapore\"],\n",
    "    change_type=\"percent\",\n",
    "    location=\"Singapore\",\n",
    "    titles=[\n",
    "        \"April 2019 Mean NO2 ($\\mathrm{mol \\cdot m^{-2}}$)\",\n",
    "        \"April 2020 Mean NO2 ($\\mathrm{mol \\cdot m^{-2}}$)\",\n",
    "        \"Change in Mean NO2 (%)\",\n",
    "    ],\n",
    "    data_source=\"European Space Agency\",\n",
    ")\n",
    "\n",
    "rd.save_figure(\n",
    "    os.path.join(\n",
    "        \"04-graphics-outputs\",\n",
    "        \"spatial-plots\",\n",
    "        \"singapore\",\n",
    "        \"singapore-no2-mean-change-percent-apr-2019-2020.png\",\n",
    "    )\n",
    ")"
   ]
  },
  {
   "cell_type": "code",
   "execution_count": null,
   "metadata": {
    "ExecuteTime": {
     "end_time": "2020-10-23T18:50:31.346961Z",
     "start_time": "2020-10-23T18:50:26.486176Z"
    }
   },
   "outputs": [],
   "source": [
    "# Plot and export May 2019-2020 change\n",
    "fig, ax = stl.plot_monthly_comparison(\n",
    "    pre_change=no2_dict[\"2019\"][\"05\"],\n",
    "    post_change=no2_dict[\"2020\"][\"05\"],\n",
    "    extent_file=monthly_means[0],\n",
    "    country_boundaries=[malaysia_boundary_clipped, singapore_boundary],\n",
    "    country_names=[\"Malaysia\", \"Singapore\"],\n",
    "    change_type=\"percent\",\n",
    "    location=\"Singapore\",\n",
    "    titles=[\n",
    "        \"May 2019 Mean NO2 ($\\mathrm{mol \\cdot m^{-2}}$)\",\n",
    "        \"May 2020 Mean NO2 ($\\mathrm{mol \\cdot m^{-2}}$)\",\n",
    "        \"Change in Mean NO2 (%)\",\n",
    "    ],\n",
    "    data_source=\"European Space Agency\",\n",
    ")\n",
    "\n",
    "rd.save_figure(\n",
    "    os.path.join(\n",
    "        \"04-graphics-outputs\",\n",
    "        \"spatial-plots\",\n",
    "        \"singapore\",\n",
    "        \"singapore-no2-mean-change-percent-may-2019-2020.png\",\n",
    "    )\n",
    ")"
   ]
  },
  {
   "cell_type": "code",
   "execution_count": null,
   "metadata": {
    "ExecuteTime": {
     "end_time": "2020-10-23T18:50:36.226007Z",
     "start_time": "2020-10-23T18:50:31.349952Z"
    }
   },
   "outputs": [],
   "source": [
    "# Plot and export June 2019-2020 change\n",
    "fig, ax = stl.plot_monthly_comparison(\n",
    "    pre_change=no2_dict[\"2019\"][\"06\"],\n",
    "    post_change=no2_dict[\"2020\"][\"06\"],\n",
    "    extent_file=monthly_means[0],\n",
    "    country_boundaries=[malaysia_boundary_clipped, singapore_boundary],\n",
    "    country_names=[\"Malaysia\", \"Singapore\"],\n",
    "    change_type=\"percent\",\n",
    "    location=\"Singapore\",\n",
    "    titles=[\n",
    "        \"June 2019 Mean NO2 ($\\mathrm{mol \\cdot m^{-2}}$)\",\n",
    "        \"June 2020 Mean NO2 ($\\mathrm{mol \\cdot m^{-2}}$)\",\n",
    "        \"Change in Mean NO2 (%)\",\n",
    "    ],\n",
    "    data_source=\"European Space Agency\",\n",
    ")\n",
    "\n",
    "rd.save_figure(\n",
    "    os.path.join(\n",
    "        \"04-graphics-outputs\",\n",
    "        \"spatial-plots\",\n",
    "        \"singapore\",\n",
    "        \"singapore-no2-mean-change-percent-jun-2019-2020.png\",\n",
    "    )\n",
    ")"
   ]
  },
  {
   "cell_type": "code",
   "execution_count": null,
   "metadata": {
    "ExecuteTime": {
     "end_time": "2020-10-23T18:50:41.230026Z",
     "start_time": "2020-10-23T18:50:36.228995Z"
    },
    "scrolled": false
   },
   "outputs": [],
   "source": [
    "# Plot and export July 2019-2020 change\n",
    "fig, ax = stl.plot_monthly_comparison(\n",
    "    pre_change=no2_dict[\"2019\"][\"07\"],\n",
    "    post_change=no2_dict[\"2020\"][\"07\"],\n",
    "    extent_file=monthly_means[0],\n",
    "    country_boundaries=[malaysia_boundary_clipped, singapore_boundary],\n",
    "    country_names=[\"Malaysia\", \"Singapore\"],\n",
    "    change_type=\"percent\",\n",
    "    location=\"Singapore\",\n",
    "    titles=[\n",
    "        \"Jul 2019 Mean NO2 ($\\mathrm{mol \\cdot m^{-2}}$)\",\n",
    "        \"Jul 2020 Mean NO2 ($\\mathrm{mol \\cdot m^{-2}}$)\",\n",
    "        \"Change in Mean NO2 (%)\",\n",
    "    ],\n",
    "    data_source=\"European Space Agency\",\n",
    ")\n",
    "\n",
    "rd.save_figure(\n",
    "    os.path.join(\n",
    "        \"04-graphics-outputs\",\n",
    "        \"spatial-plots\",\n",
    "        \"singapore\",\n",
    "        \"singapore-no2-mean-change-percent-jul-2019-2020.png\",\n",
    "    )\n",
    ")"
   ]
  },
  {
   "cell_type": "markdown",
   "metadata": {},
   "source": [
    "#### Limited Scale"
   ]
  },
  {
   "cell_type": "code",
   "execution_count": null,
   "metadata": {
    "ExecuteTime": {
     "end_time": "2020-10-23T18:50:46.192046Z",
     "start_time": "2020-10-23T18:50:41.232009Z"
    }
   },
   "outputs": [],
   "source": [
    "# Plot and export July 2018-2019 change\n",
    "fig, ax = stl.plot_monthly_comparison_limit_scale(\n",
    "    pre_change=no2_dict[\"2018\"][\"07\"],\n",
    "    post_change=no2_dict[\"2019\"][\"07\"],\n",
    "    extent_file=monthly_means[0],\n",
    "    country_boundaries=[malaysia_boundary_clipped, singapore_boundary],\n",
    "    country_names=[\"Malaysia\", \"Singapore\"],\n",
    "    change_type=\"percent\",\n",
    "    location=\"Singapore\",\n",
    "    titles=[\n",
    "        \"July 2018 Mean NO2 ($\\mathrm{mol \\cdot m^{-2}}$)\",\n",
    "        \"July 2019 Mean NO2 ($\\mathrm{mol \\cdot m^{-2}}$)\",\n",
    "        \"Change in Mean NO2 (%)\",\n",
    "    ],\n",
    "    data_source=\"European Space Agency\",\n",
    ")\n",
    "\n",
    "rd.save_figure(\n",
    "    os.path.join(\n",
    "        \"04-graphics-outputs\",\n",
    "        \"spatial-plots\",\n",
    "        \"singapore\",\n",
    "        \"singapore-no2-mean-change-percent-limited-scale-jul-2018-2019.png\",\n",
    "    )\n",
    ")"
   ]
  },
  {
   "cell_type": "code",
   "execution_count": null,
   "metadata": {
    "ExecuteTime": {
     "end_time": "2020-10-23T18:50:51.255786Z",
     "start_time": "2020-10-23T18:50:46.195038Z"
    }
   },
   "outputs": [],
   "source": [
    "# Plot and export August 2018-2019 change\n",
    "fig, ax = stl.plot_monthly_comparison_limit_scale(\n",
    "    pre_change=no2_dict[\"2018\"][\"08\"],\n",
    "    post_change=no2_dict[\"2019\"][\"08\"],\n",
    "    extent_file=monthly_means[0],\n",
    "    country_boundaries=[malaysia_boundary_clipped, singapore_boundary],\n",
    "    country_names=[\"Malaysia\", \"Singapore\"],\n",
    "    change_type=\"percent\",\n",
    "    location=\"Singapore\",\n",
    "    titles=[\n",
    "        \"August 2018 Mean NO2 ($\\mathrm{mol \\cdot m^{-2}}$)\",\n",
    "        \"August 2019 Mean NO2 ($\\mathrm{mol \\cdot m^{-2}}$)\",\n",
    "        \"Change in Mean NO2 (%)\",\n",
    "    ],\n",
    "    data_source=\"European Space Agency\",\n",
    ")\n",
    "\n",
    "rd.save_figure(\n",
    "    os.path.join(\n",
    "        \"04-graphics-outputs\",\n",
    "        \"spatial-plots\",\n",
    "        \"singapore\",\n",
    "        \"singapore-no2-mean-change-percent-limited-scale-aug-2018-2019.png\",\n",
    "    )\n",
    ")"
   ]
  },
  {
   "cell_type": "code",
   "execution_count": null,
   "metadata": {
    "ExecuteTime": {
     "end_time": "2020-10-23T18:50:56.127510Z",
     "start_time": "2020-10-23T18:50:51.258778Z"
    }
   },
   "outputs": [],
   "source": [
    "# Plot and export September 2018-2019 change\n",
    "fig, ax = stl.plot_monthly_comparison_limit_scale(\n",
    "    pre_change=no2_dict[\"2018\"][\"09\"],\n",
    "    post_change=no2_dict[\"2019\"][\"09\"],\n",
    "    extent_file=monthly_means[0],\n",
    "    country_boundaries=[malaysia_boundary_clipped, singapore_boundary],\n",
    "    country_names=[\"Malaysia\", \"Singapore\"],\n",
    "    change_type=\"percent\",\n",
    "    location=\"Singapore\",\n",
    "    titles=[\n",
    "        \"September 2018 Mean NO2 ($\\mathrm{mol \\cdot m^{-2}}$)\",\n",
    "        \"September 2019 Mean NO2 ($\\mathrm{mol \\cdot m^{-2}}$)\",\n",
    "        \"Change in Mean NO2 (%)\",\n",
    "    ],\n",
    "    data_source=\"European Space Agency\",\n",
    ")\n",
    "\n",
    "rd.save_figure(\n",
    "    os.path.join(\n",
    "        \"04-graphics-outputs\",\n",
    "        \"spatial-plots\",\n",
    "        \"singapore\",\n",
    "        \"singapore-no2-mean-change-percent-limited-scale-sep-2018-2019.png\",\n",
    "    )\n",
    ")"
   ]
  },
  {
   "cell_type": "code",
   "execution_count": null,
   "metadata": {
    "ExecuteTime": {
     "end_time": "2020-10-23T18:51:01.038232Z",
     "start_time": "2020-10-23T18:50:56.129503Z"
    }
   },
   "outputs": [],
   "source": [
    "# Plot and export October 2018-2019 change\n",
    "fig, ax = stl.plot_monthly_comparison_limit_scale(\n",
    "    pre_change=no2_dict[\"2018\"][\"10\"],\n",
    "    post_change=no2_dict[\"2019\"][\"10\"],\n",
    "    extent_file=monthly_means[0],\n",
    "    country_boundaries=[malaysia_boundary_clipped, singapore_boundary],\n",
    "    country_names=[\"Malaysia\", \"Singapore\"],\n",
    "    change_type=\"percent\",\n",
    "    location=\"Singapore\",\n",
    "    titles=[\n",
    "        \"October 2018 Mean NO2 ($\\mathrm{mol \\cdot m^{-2}}$)\",\n",
    "        \"October 2019 Mean NO2 ($\\mathrm{mol \\cdot m^{-2}}$)\",\n",
    "        \"Change in Mean NO2 (%)\",\n",
    "    ],\n",
    "    data_source=\"European Space Agency\",\n",
    ")\n",
    "\n",
    "rd.save_figure(\n",
    "    os.path.join(\n",
    "        \"04-graphics-outputs\",\n",
    "        \"spatial-plots\",\n",
    "        \"singapore\",\n",
    "        \"singapore-no2-mean-change-percent-limited-scale-oct-2018-2019.png\",\n",
    "    )\n",
    ")"
   ]
  },
  {
   "cell_type": "code",
   "execution_count": null,
   "metadata": {
    "ExecuteTime": {
     "end_time": "2020-10-23T18:51:05.841380Z",
     "start_time": "2020-10-23T18:51:01.038232Z"
    }
   },
   "outputs": [],
   "source": [
    "# Plot and export November 2018-2019 change\n",
    "fig, ax = stl.plot_monthly_comparison_limit_scale(\n",
    "    pre_change=no2_dict[\"2018\"][\"11\"],\n",
    "    post_change=no2_dict[\"2019\"][\"11\"],\n",
    "    extent_file=monthly_means[0],\n",
    "    country_boundaries=[malaysia_boundary_clipped, singapore_boundary],\n",
    "    country_names=[\"Malaysia\", \"Singapore\"],\n",
    "    change_type=\"percent\",\n",
    "    location=\"Singapore\",\n",
    "    titles=[\n",
    "        \"November 2018 Mean NO2 ($\\mathrm{mol \\cdot m^{-2}}$)\",\n",
    "        \"November 2019 Mean NO2 ($\\mathrm{mol \\cdot m^{-2}}$)\",\n",
    "        \"Change in Mean NO2 (%)\",\n",
    "    ],\n",
    "    data_source=\"European Space Agency\",\n",
    ")\n",
    "\n",
    "rd.save_figure(\n",
    "    os.path.join(\n",
    "        \"04-graphics-outputs\",\n",
    "        \"spatial-plots\",\n",
    "        \"singapore\",\n",
    "        \"singapore-no2-mean-change-percent-limited-scale-nov-2018-2019.png\",\n",
    "    )\n",
    ")"
   ]
  },
  {
   "cell_type": "code",
   "execution_count": null,
   "metadata": {
    "ExecuteTime": {
     "end_time": "2020-10-23T18:51:10.241014Z",
     "start_time": "2020-10-23T18:51:05.843375Z"
    }
   },
   "outputs": [],
   "source": [
    "# Plot and export December 2018-2019 change\n",
    "fig, ax = stl.plot_monthly_comparison_limit_scale(\n",
    "    pre_change=no2_dict[\"2018\"][\"12\"],\n",
    "    post_change=no2_dict[\"2019\"][\"12\"],\n",
    "    extent_file=monthly_means[0],\n",
    "    country_boundaries=[malaysia_boundary_clipped, singapore_boundary],\n",
    "    country_names=[\"Malaysia\", \"Singapore\"],\n",
    "    change_type=\"percent\",\n",
    "    location=\"Singapore\",\n",
    "    titles=[\n",
    "        \"December 2018 Mean NO2 ($\\mathrm{mol \\cdot m^{-2}}$)\",\n",
    "        \"December 2019 Mean NO2 ($\\mathrm{mol \\cdot m^{-2}}$)\",\n",
    "        \"Change in Mean NO2 (%)\",\n",
    "    ],\n",
    "    data_source=\"European Space Agency\",\n",
    ")\n",
    "\n",
    "rd.save_figure(\n",
    "    os.path.join(\n",
    "        \"04-graphics-outputs\",\n",
    "        \"spatial-plots\",\n",
    "        \"singapore\",\n",
    "        \"singapore-no2-mean-change-percent-limited-scale-dec-2018-2019.png\",\n",
    "    )\n",
    ")"
   ]
  },
  {
   "cell_type": "code",
   "execution_count": null,
   "metadata": {
    "ExecuteTime": {
     "end_time": "2020-10-23T18:51:15.439312Z",
     "start_time": "2020-10-23T18:51:10.244006Z"
    }
   },
   "outputs": [],
   "source": [
    "# Plot and export January 2019-2020 change\n",
    "fig, ax = stl.plot_monthly_comparison_limit_scale(\n",
    "    pre_change=no2_dict[\"2019\"][\"01\"],\n",
    "    post_change=no2_dict[\"2020\"][\"01\"],\n",
    "    extent_file=monthly_means[0],\n",
    "    country_boundaries=[malaysia_boundary_clipped, singapore_boundary],\n",
    "    country_names=[\"Malaysia\", \"Singapore\"],\n",
    "    change_type=\"percent\",\n",
    "    location=\"Singapore\",\n",
    "    titles=[\n",
    "        \"January 2019 Mean NO2 ($\\mathrm{mol \\cdot m^{-2}}$)\",\n",
    "        \"January 2020 Mean NO2 ($\\mathrm{mol \\cdot m^{-2}}$)\",\n",
    "        \"Change in Mean NO2 (%)\",\n",
    "    ],\n",
    "    data_source=\"European Space Agency\",\n",
    ")\n",
    "\n",
    "rd.save_figure(\n",
    "    os.path.join(\n",
    "        \"04-graphics-outputs\",\n",
    "        \"spatial-plots\",\n",
    "        \"singapore\",\n",
    "        \"singapore-no2-mean-change-percent-limited-scale-jan-2019-2020.png\",\n",
    "    )\n",
    ")"
   ]
  },
  {
   "cell_type": "code",
   "execution_count": null,
   "metadata": {
    "ExecuteTime": {
     "end_time": "2020-10-23T18:51:20.017727Z",
     "start_time": "2020-10-23T18:51:15.442305Z"
    }
   },
   "outputs": [],
   "source": [
    "# Plot and export February 2019-2020 change\n",
    "fig, ax = stl.plot_monthly_comparison_limit_scale(\n",
    "    pre_change=no2_dict[\"2019\"][\"02\"],\n",
    "    post_change=no2_dict[\"2020\"][\"02\"],\n",
    "    extent_file=monthly_means[0],\n",
    "    country_boundaries=[malaysia_boundary_clipped, singapore_boundary],\n",
    "    country_names=[\"Malaysia\", \"Singapore\"],\n",
    "    change_type=\"percent\",\n",
    "    location=\"Singapore\",\n",
    "    titles=[\n",
    "        \"February 2019 Mean NO2 ($\\mathrm{mol \\cdot m^{-2}}$)\",\n",
    "        \"February 2020 Mean NO2 ($\\mathrm{mol \\cdot m^{-2}}$)\",\n",
    "        \"Change in Mean NO2 (%)\",\n",
    "    ],\n",
    "    data_source=\"European Space Agency\",\n",
    ")\n",
    "\n",
    "rd.save_figure(\n",
    "    os.path.join(\n",
    "        \"04-graphics-outputs\",\n",
    "        \"spatial-plots\",\n",
    "        \"singapore\",\n",
    "        \"singapore-no2-mean-change-percent-limited-scale-feb-2019-2020.png\",\n",
    "    )\n",
    ")"
   ]
  },
  {
   "cell_type": "code",
   "execution_count": null,
   "metadata": {
    "ExecuteTime": {
     "end_time": "2020-10-23T18:51:24.644650Z",
     "start_time": "2020-10-23T18:51:20.019722Z"
    }
   },
   "outputs": [],
   "source": [
    "# Plot and export March 2019-2020 change\n",
    "fig, ax = stl.plot_monthly_comparison_limit_scale(\n",
    "    pre_change=no2_dict[\"2019\"][\"03\"],\n",
    "    post_change=no2_dict[\"2020\"][\"03\"],\n",
    "    extent_file=monthly_means[0],\n",
    "    country_boundaries=[malaysia_boundary_clipped, singapore_boundary],\n",
    "    country_names=[\"Malaysia\", \"Singapore\"],\n",
    "    change_type=\"percent\",\n",
    "    location=\"Singapore\",\n",
    "    titles=[\n",
    "        \"March 2019 Mean NO2 ($\\mathrm{mol \\cdot m^{-2}}$)\",\n",
    "        \"March 2020 Mean NO2 ($\\mathrm{mol \\cdot m^{-2}}$)\",\n",
    "        \"Change in Mean NO2 (%)\",\n",
    "    ],\n",
    "    data_source=\"European Space Agency\",\n",
    ")\n",
    "\n",
    "rd.save_figure(\n",
    "    os.path.join(\n",
    "        \"04-graphics-outputs\",\n",
    "        \"spatial-plots\",\n",
    "        \"singapore\",\n",
    "        \"singapore-no2-mean-change-percent-limited-scale-mar-2019-2020.png\",\n",
    "    )\n",
    ")"
   ]
  },
  {
   "cell_type": "code",
   "execution_count": null,
   "metadata": {
    "ExecuteTime": {
     "end_time": "2020-10-23T18:51:29.372796Z",
     "start_time": "2020-10-23T18:51:24.646645Z"
    }
   },
   "outputs": [],
   "source": [
    "# Plot and export April 2019-2020 change\n",
    "fig, ax = stl.plot_monthly_comparison_limit_scale(\n",
    "    pre_change=no2_dict[\"2019\"][\"04\"],\n",
    "    post_change=no2_dict[\"2020\"][\"04\"],\n",
    "    extent_file=monthly_means[0],\n",
    "    country_boundaries=[malaysia_boundary_clipped, singapore_boundary],\n",
    "    country_names=[\"Malaysia\", \"Singapore\"],\n",
    "    change_type=\"percent\",\n",
    "    location=\"Singapore\",\n",
    "    titles=[\n",
    "        \"April 2019 Mean NO2 ($\\mathrm{mol \\cdot m^{-2}}$)\",\n",
    "        \"April 2020 Mean NO2 ($\\mathrm{mol \\cdot m^{-2}}$)\",\n",
    "        \"Change in Mean NO2 (%)\",\n",
    "    ],\n",
    "    data_source=\"European Space Agency\",\n",
    ")\n",
    "\n",
    "rd.save_figure(\n",
    "    os.path.join(\n",
    "        \"04-graphics-outputs\",\n",
    "        \"spatial-plots\",\n",
    "        \"singapore\",\n",
    "        \"singapore-no2-mean-change-percent-limited-scale-apr-2019-2020.png\",\n",
    "    )\n",
    ")"
   ]
  },
  {
   "cell_type": "code",
   "execution_count": null,
   "metadata": {
    "ExecuteTime": {
     "end_time": "2020-10-23T18:51:34.521411Z",
     "start_time": "2020-10-23T18:51:29.375788Z"
    }
   },
   "outputs": [],
   "source": [
    "# Plot and export May 2019-2020 change\n",
    "fig, ax = stl.plot_monthly_comparison_limit_scale(\n",
    "    pre_change=no2_dict[\"2019\"][\"05\"],\n",
    "    post_change=no2_dict[\"2020\"][\"05\"],\n",
    "    extent_file=monthly_means[0],\n",
    "    country_boundaries=[malaysia_boundary_clipped, singapore_boundary],\n",
    "    country_names=[\"Malaysia\", \"Singapore\"],\n",
    "    change_type=\"percent\",\n",
    "    location=\"Singapore\",\n",
    "    titles=[\n",
    "        \"May 2019 Mean NO2 ($\\mathrm{mol \\cdot m^{-2}}$)\",\n",
    "        \"May 2020 Mean NO2 ($\\mathrm{mol \\cdot m^{-2}}$)\",\n",
    "        \"Change in Mean NO2 (%)\",\n",
    "    ],\n",
    "    data_source=\"European Space Agency\",\n",
    ")\n",
    "\n",
    "rd.save_figure(\n",
    "    os.path.join(\n",
    "        \"04-graphics-outputs\",\n",
    "        \"spatial-plots\",\n",
    "        \"singapore\",\n",
    "        \"singapore-no2-mean-change-percent-limited-scale-may-2019-2020.png\",\n",
    "    )\n",
    ")"
   ]
  },
  {
   "cell_type": "code",
   "execution_count": null,
   "metadata": {
    "ExecuteTime": {
     "end_time": "2020-10-23T18:51:39.401848Z",
     "start_time": "2020-10-23T18:51:34.523406Z"
    }
   },
   "outputs": [],
   "source": [
    "# Plot and export June 2019-2020 change\n",
    "fig, ax = stl.plot_monthly_comparison_limit_scale(\n",
    "    pre_change=no2_dict[\"2019\"][\"06\"],\n",
    "    post_change=no2_dict[\"2020\"][\"06\"],\n",
    "    extent_file=monthly_means[0],\n",
    "    country_boundaries=[malaysia_boundary_clipped, singapore_boundary],\n",
    "    country_names=[\"Malaysia\", \"Singapore\"],\n",
    "    change_type=\"percent\",\n",
    "    location=\"Singapore\",\n",
    "    titles=[\n",
    "        \"June 2019 Mean NO2 ($\\mathrm{mol \\cdot m^{-2}}$)\",\n",
    "        \"June 2020 Mean NO2 ($\\mathrm{mol \\cdot m^{-2}}$)\",\n",
    "        \"Change in Mean NO2 (%)\",\n",
    "    ],\n",
    "    data_source=\"European Space Agency\",\n",
    ")\n",
    "\n",
    "rd.save_figure(\n",
    "    os.path.join(\n",
    "        \"04-graphics-outputs\",\n",
    "        \"spatial-plots\",\n",
    "        \"singapore\",\n",
    "        \"singapore-no2-mean-change-percent-limited-scale-jun-2019-2020.png\",\n",
    "    )\n",
    ")"
   ]
  },
  {
   "cell_type": "code",
   "execution_count": null,
   "metadata": {
    "ExecuteTime": {
     "end_time": "2020-10-23T18:51:43.930424Z",
     "start_time": "2020-10-23T18:51:39.403842Z"
    }
   },
   "outputs": [],
   "source": [
    "# Plot and export July 2019-2020 change\n",
    "fig, ax = stl.plot_monthly_comparison_limit_scale(\n",
    "    pre_change=no2_dict[\"2019\"][\"07\"],\n",
    "    post_change=no2_dict[\"2020\"][\"07\"],\n",
    "    extent_file=monthly_means[0],\n",
    "    country_boundaries=[malaysia_boundary_clipped, singapore_boundary],\n",
    "    country_names=[\"Malaysia\", \"Singapore\"],\n",
    "    change_type=\"percent\",\n",
    "    location=\"Singapore\",\n",
    "    titles=[\n",
    "        \"Jul 2019 Mean NO2 ($\\mathrm{mol \\cdot m^{-2}}$)\",\n",
    "        \"Jul 2020 Mean NO2 ($\\mathrm{mol \\cdot m^{-2}}$)\",\n",
    "        \"Change in Mean NO2 (%)\",\n",
    "    ],\n",
    "    data_source=\"European Space Agency\",\n",
    ")\n",
    "\n",
    "rd.save_figure(\n",
    "    os.path.join(\n",
    "        \"04-graphics-outputs\",\n",
    "        \"spatial-plots\",\n",
    "        \"singapore\",\n",
    "        \"singapore-no2-mean-change-percent-limited-scale-jul-2019-2020.png\",\n",
    "    )\n",
    ")"
   ]
  },
  {
   "cell_type": "code",
   "execution_count": null,
   "metadata": {
    "ExecuteTime": {
     "end_time": "2020-10-23T18:51:43.940398Z",
     "start_time": "2020-10-23T18:51:43.932418Z"
    }
   },
   "outputs": [],
   "source": [
    "# Unload Notebook formatter\n",
    "%unload_ext nb_black"
   ]
  }
 ],
 "metadata": {
  "hide_input": false,
  "kernelspec": {
   "display_name": "Python 3",
   "language": "python",
   "name": "python3"
  },
  "language_info": {
   "codemirror_mode": {
    "name": "ipython",
    "version": 3
   },
   "file_extension": ".py",
   "mimetype": "text/x-python",
   "name": "python",
   "nbconvert_exporter": "python",
   "pygments_lexer": "ipython3",
   "version": "3.7.6"
  },
  "toc": {
   "base_numbering": 1,
   "nav_menu": {
    "height": "365px",
    "width": "322px"
   },
   "number_sections": true,
   "sideBar": true,
   "skip_h1_title": false,
   "title_cell": "Table of Contents",
   "title_sidebar": "Contents",
   "toc_cell": false,
   "toc_position": {
    "height": "calc(100% - 180px)",
    "left": "10px",
    "top": "150px",
    "width": "307.2px"
   },
   "toc_section_display": true,
   "toc_window_display": true
  },
  "varInspector": {
   "cols": {
    "lenName": 16,
    "lenType": 16,
    "lenVar": 40
   },
   "kernels_config": {
    "python": {
     "delete_cmd_postfix": "",
     "delete_cmd_prefix": "del ",
     "library": "var_list.py",
     "varRefreshCmd": "print(var_dic_list())"
    },
    "r": {
     "delete_cmd_postfix": ") ",
     "delete_cmd_prefix": "rm(",
     "library": "var_list.r",
     "varRefreshCmd": "cat(var_dic_list()) "
    }
   },
   "types_to_exclude": [
    "module",
    "function",
    "builtin_function_or_method",
    "instance",
    "_Feature"
   ],
   "window_display": false
  }
 },
 "nbformat": 4,
 "nbformat_minor": 4
}
