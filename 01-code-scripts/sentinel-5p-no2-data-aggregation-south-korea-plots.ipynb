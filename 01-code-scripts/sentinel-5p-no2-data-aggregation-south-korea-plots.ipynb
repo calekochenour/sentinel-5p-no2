{
 "cells": [
  {
   "cell_type": "markdown",
   "metadata": {},
   "source": [
    "# NO2 Data Aggregation - Plots\n",
    "\n",
    "Aggregates NO2 values by administrative boundaries and a regular hexagon grid.\n",
    "\n",
    "To convert from mol/m<sup>2</sup> to molecules/cm<sup>2</sup>, multiply by 6.022140857e+19 (6.022140857 * 10<sup>19</sup>)."
   ]
  },
  {
   "cell_type": "markdown",
   "metadata": {},
   "source": [
    "# Environment Setup"
   ]
  },
  {
   "cell_type": "code",
   "execution_count": null,
   "metadata": {
    "ExecuteTime": {
     "end_time": "2020-11-03T02:14:40.000028Z",
     "start_time": "2020-11-03T02:14:39.985006Z"
    }
   },
   "outputs": [],
   "source": [
    "# Load Notebook formatter\n",
    "%load_ext nb_black\n",
    "# %reload_ext nb_black"
   ]
  },
  {
   "cell_type": "code",
   "execution_count": null,
   "metadata": {
    "ExecuteTime": {
     "end_time": "2020-11-03T01:58:03.942662Z",
     "start_time": "2020-11-03T01:58:00.850653Z"
    }
   },
   "outputs": [],
   "source": [
    "# Import packages\n",
    "import os\n",
    "import glob\n",
    "import matplotlib.pyplot as plt\n",
    "from mpl_toolkits.axes_grid1 import make_axes_locatable\n",
    "import seaborn as sns\n",
    "import pandas as pd\n",
    "import geopandas as gpd\n",
    "import rasterio as rio\n",
    "import rasterstats as rs\n",
    "import sentinel as stl"
   ]
  },
  {
   "cell_type": "code",
   "execution_count": null,
   "metadata": {
    "ExecuteTime": {
     "end_time": "2020-11-03T01:58:04.029416Z",
     "start_time": "2020-11-03T01:58:04.009009Z"
    }
   },
   "outputs": [],
   "source": [
    "# Set Options\n",
    "# sns.set(font_scale=1.5, style=\"whitegrid\")\n",
    "sns.set(font_scale=1.5)\n",
    "pd.set_option(\"display.max_columns\", None)\n",
    "pd.set_option(\"precision\", 15)"
   ]
  },
  {
   "cell_type": "code",
   "execution_count": null,
   "metadata": {
    "ExecuteTime": {
     "end_time": "2020-11-03T01:58:04.107180Z",
     "start_time": "2020-11-03T01:58:04.093099Z"
    }
   },
   "outputs": [],
   "source": [
    "# Set working directory\n",
    "os.chdir(\"..\")\n",
    "print(f\"Working directory: {os.getcwd()}\")"
   ]
  },
  {
   "cell_type": "markdown",
   "metadata": {},
   "source": [
    "# User-Defined Variables"
   ]
  },
  {
   "cell_type": "code",
   "execution_count": null,
   "metadata": {
    "ExecuteTime": {
     "end_time": "2020-11-03T01:58:12.646786Z",
     "start_time": "2020-11-03T01:58:12.621766Z"
    }
   },
   "outputs": [],
   "source": [
    "# Set paths to South Korea shapefiles at levels 0, 1, and 2, and hexagon grid\n",
    "south_korea_level_0_path = os.path.join(\n",
    "    \"02-raw-data\", \"vector\", \"south-korea\", \"gadm36_south_korea.shp\"\n",
    ")\n",
    "\n",
    "south_korea_level_1_path = os.path.join(\n",
    "    \"02-raw-data\", \"vector\", \"south-korea\", \"gadm36_south_korea_level_1.shp\"\n",
    ")\n",
    "\n",
    "south_korea_level_2_path = os.path.join(\n",
    "    \"02-raw-data\", \"vector\", \"south-korea\", \"gadm36_south_korea_level_2.shp\"\n",
    ")\n",
    "\n",
    "south_korea_hexagon_grid_path = os.path.join(\n",
    "    \"03-processed-data\",\n",
    "    \"vector\",\n",
    "    \"south-korea\",\n",
    "    \"south_korea_hexagon_grid.shp\",\n",
    ")"
   ]
  },
  {
   "cell_type": "code",
   "execution_count": null,
   "metadata": {
    "ExecuteTime": {
     "end_time": "2020-11-03T01:59:02.574631Z",
     "start_time": "2020-11-03T01:59:02.550800Z"
    }
   },
   "outputs": [],
   "source": [
    "# Set paths to aggregated data shapfiles\n",
    "aggregate_level_1_path = os.path.join(\n",
    "    \"03-processed-data\",\n",
    "    \"vector\",\n",
    "    \"south-korea\",\n",
    "    \"aggregate_level_1_jul_2018_jul_2020.shp\",\n",
    ")\n",
    "\n",
    "aggregate_level_2_path = os.path.join(\n",
    "    \"03-processed-data\",\n",
    "    \"vector\",\n",
    "    \"south-korea\",\n",
    "    \"aggregate_level_2_jul_2018_jul_2020.shp\",\n",
    ")\n",
    "\n",
    "aggregate_hexagon_path = os.path.join(\n",
    "    \"03-processed-data\",\n",
    "    \"vector\",\n",
    "    \"south-korea\",\n",
    "    \"aggregate_hexagon_grid_jul_2018_jul_2020.shp\",\n",
    ")"
   ]
  },
  {
   "cell_type": "markdown",
   "metadata": {},
   "source": [
    "# Data Acquisition and Preprocessing"
   ]
  },
  {
   "cell_type": "code",
   "execution_count": null,
   "metadata": {
    "ExecuteTime": {
     "end_time": "2020-11-03T01:59:09.809186Z",
     "start_time": "2020-11-03T01:59:09.019211Z"
    }
   },
   "outputs": [],
   "source": [
    "# Get geodataframes with geometry only (for plotting)\n",
    "south_korea_level_0_geometry = stl.get_geometry(south_korea_level_0_path)\n",
    "south_korea_level_1_geometry = stl.get_geometry(south_korea_level_1_path)\n",
    "south_korea_level_2_geometry = stl.get_geometry(south_korea_level_2_path)\n",
    "south_korea_hexagon_grid_geometry = stl.get_geometry(\n",
    "    south_korea_hexagon_grid_path\n",
    ")"
   ]
  },
  {
   "cell_type": "code",
   "execution_count": null,
   "metadata": {
    "ExecuteTime": {
     "end_time": "2020-11-03T02:06:09.702896Z",
     "start_time": "2020-11-03T02:06:09.176034Z"
    }
   },
   "outputs": [],
   "source": [
    "# Read aggregated shapefiles into geodataframes\n",
    "south_korea_level_1_gdf = gpd.read_file(aggregate_level_1_path)\n",
    "south_korea_level_2_gdf = gpd.read_file(aggregate_level_2_path)\n",
    "hexagon_grid_gdf = gpd.read_file(aggregate_hexagon_path)"
   ]
  },
  {
   "cell_type": "code",
   "execution_count": null,
   "metadata": {
    "ExecuteTime": {
     "end_time": "2020-11-03T02:10:39.821578Z",
     "start_time": "2020-11-03T02:10:39.731626Z"
    }
   },
   "outputs": [],
   "source": [
    "# Restore original column names (shorted by export to shapefile)\n",
    "level_1_gdf = south_korea_level_1_gdf.rename(\n",
    "    columns={\n",
    "        # Magnitude\n",
    "        \"change_jul\": \"change_jul_2018_2019_magnitude\",\n",
    "        \"change_aug\": \"change_aug_2018_2019_magnitude\",\n",
    "        \"change_sep\": \"change_sep_2018_2019_magnitude\",\n",
    "        \"change_oct\": \"change_oct_2018_2019_magnitude\",\n",
    "        \"change_nov\": \"change_nov_2018_2019_magnitude\",\n",
    "        \"change_dec\": \"change_dec_2018_2019_magnitude\",\n",
    "        \"change_jan\": \"change_jan_2019_2020_magnitude\",\n",
    "        \"change_feb\": \"change_feb_2019_2020_magnitude\",\n",
    "        \"change_mar\": \"change_mar_2019_2020_magnitude\",\n",
    "        \"change_apr\": \"change_apr_2019_2020_magnitude\",\n",
    "        \"change_may\": \"change_may_2019_2020_magnitude\",\n",
    "        \"change_jun\": \"change_jun_2019_2020_magnitude\",\n",
    "        \"change_j_1\": \"change_jul_2019_2020_magnitude\",\n",
    "        # Percent\n",
    "        \"change_j_2\": \"change_jul_2018_2019_percent\",\n",
    "        \"change_a_1\": \"change_aug_2018_2019_percent\",\n",
    "        \"change_s_1\": \"change_sep_2018_2019_percent\",\n",
    "        \"change_o_1\": \"change_oct_2018_2019_percent\",\n",
    "        \"change_n_1\": \"change_nov_2018_2019_percent\",\n",
    "        \"change_d_1\": \"change_dec_2018_2019_percent\",\n",
    "        \"change_j_3\": \"change_jan_2019_2020_percent\",\n",
    "        \"change_f_1\": \"change_feb_2019_2020_percent\",\n",
    "        \"change_m_1\": \"change_mar_2019_2020_percent\",\n",
    "        \"change_a_2\": \"change_apr_2019_2020_percent\",\n",
    "        \"change_m_2\": \"change_may_2019_2020_percent\",\n",
    "        \"change_j_4\": \"change_jun_2019_2020_percent\",\n",
    "        \"change_j_5\": \"change_jul_2019_2020_percent\",\n",
    "    }\n",
    ")\n",
    "\n",
    "level_2_gdf = south_korea_level_2_gdf.rename(\n",
    "    columns={\n",
    "        # Magnitude\n",
    "        \"change_jul\": \"change_jul_2018_2019_magnitude\",\n",
    "        \"change_aug\": \"change_aug_2018_2019_magnitude\",\n",
    "        \"change_sep\": \"change_sep_2018_2019_magnitude\",\n",
    "        \"change_oct\": \"change_oct_2018_2019_magnitude\",\n",
    "        \"change_nov\": \"change_nov_2018_2019_magnitude\",\n",
    "        \"change_dec\": \"change_dec_2018_2019_magnitude\",\n",
    "        \"change_jan\": \"change_jan_2019_2020_magnitude\",\n",
    "        \"change_feb\": \"change_feb_2019_2020_magnitude\",\n",
    "        \"change_mar\": \"change_mar_2019_2020_magnitude\",\n",
    "        \"change_apr\": \"change_apr_2019_2020_magnitude\",\n",
    "        \"change_may\": \"change_may_2019_2020_magnitude\",\n",
    "        \"change_jun\": \"change_jun_2019_2020_magnitude\",\n",
    "        \"change_j_1\": \"change_jul_2019_2020_magnitude\",\n",
    "        # Percent\n",
    "        \"change_j_2\": \"change_jul_2018_2019_percent\",\n",
    "        \"change_a_1\": \"change_aug_2018_2019_percent\",\n",
    "        \"change_s_1\": \"change_sep_2018_2019_percent\",\n",
    "        \"change_o_1\": \"change_oct_2018_2019_percent\",\n",
    "        \"change_n_1\": \"change_nov_2018_2019_percent\",\n",
    "        \"change_d_1\": \"change_dec_2018_2019_percent\",\n",
    "        \"change_j_3\": \"change_jan_2019_2020_percent\",\n",
    "        \"change_f_1\": \"change_feb_2019_2020_percent\",\n",
    "        \"change_m_1\": \"change_mar_2019_2020_percent\",\n",
    "        \"change_a_2\": \"change_apr_2019_2020_percent\",\n",
    "        \"change_m_2\": \"change_may_2019_2020_percent\",\n",
    "        \"change_j_4\": \"change_jun_2019_2020_percent\",\n",
    "        \"change_j_5\": \"change_jul_2019_2020_percent\",\n",
    "    }\n",
    ")\n",
    "\n",
    "hexagon_grid_gdf = hexagon_grid_gdf.rename(\n",
    "    columns={\n",
    "        # Magnitude\n",
    "        \"change_jul\": \"change_jul_2018_2019_magnitude\",\n",
    "        \"change_aug\": \"change_aug_2018_2019_magnitude\",\n",
    "        \"change_sep\": \"change_sep_2018_2019_magnitude\",\n",
    "        \"change_oct\": \"change_oct_2018_2019_magnitude\",\n",
    "        \"change_nov\": \"change_nov_2018_2019_magnitude\",\n",
    "        \"change_dec\": \"change_dec_2018_2019_magnitude\",\n",
    "        \"change_jan\": \"change_jan_2019_2020_magnitude\",\n",
    "        \"change_feb\": \"change_feb_2019_2020_magnitude\",\n",
    "        \"change_mar\": \"change_mar_2019_2020_magnitude\",\n",
    "        \"change_apr\": \"change_apr_2019_2020_magnitude\",\n",
    "        \"change_may\": \"change_may_2019_2020_magnitude\",\n",
    "        \"change_jun\": \"change_jun_2019_2020_magnitude\",\n",
    "        \"change_j_1\": \"change_jul_2019_2020_magnitude\",\n",
    "        # Percent\n",
    "        \"change_j_2\": \"change_jul_2018_2019_percent\",\n",
    "        \"change_a_1\": \"change_aug_2018_2019_percent\",\n",
    "        \"change_s_1\": \"change_sep_2018_2019_percent\",\n",
    "        \"change_o_1\": \"change_oct_2018_2019_percent\",\n",
    "        \"change_n_1\": \"change_nov_2018_2019_percent\",\n",
    "        \"change_d_1\": \"change_dec_2018_2019_percent\",\n",
    "        \"change_j_3\": \"change_jan_2019_2020_percent\",\n",
    "        \"change_f_1\": \"change_feb_2019_2020_percent\",\n",
    "        \"change_m_1\": \"change_mar_2019_2020_percent\",\n",
    "        \"change_a_2\": \"change_apr_2019_2020_percent\",\n",
    "        \"change_m_2\": \"change_may_2019_2020_percent\",\n",
    "        \"change_j_4\": \"change_jun_2019_2020_percent\",\n",
    "        \"change_j_5\": \"change_jul_2019_2020_percent\",\n",
    "    }\n",
    ")"
   ]
  },
  {
   "cell_type": "markdown",
   "metadata": {},
   "source": [
    "# Data Processing"
   ]
  },
  {
   "cell_type": "code",
   "execution_count": null,
   "metadata": {},
   "outputs": [],
   "source": []
  },
  {
   "cell_type": "markdown",
   "metadata": {},
   "source": [
    "# Data Post-Processing"
   ]
  },
  {
   "cell_type": "code",
   "execution_count": null,
   "metadata": {},
   "outputs": [],
   "source": []
  },
  {
   "cell_type": "markdown",
   "metadata": {},
   "source": [
    "# Data Visualization"
   ]
  },
  {
   "cell_type": "markdown",
   "metadata": {},
   "source": [
    "## Level 1 Boundaries"
   ]
  },
  {
   "cell_type": "code",
   "execution_count": null,
   "metadata": {
    "ExecuteTime": {
     "end_time": "2020-11-03T02:21:54.480657Z",
     "start_time": "2020-11-03T02:21:52.132450Z"
    }
   },
   "outputs": [],
   "source": [
    "# Determine plot max\n",
    "abs_max = abs(level_1_gdf[\"change_mar_2019_2020_magnitude\"].max())\n",
    "abs_min = abs(level_1_gdf[\"change_mar_2019_2020_magnitude\"].min())\n",
    "mag_vmax = abs_max if abs_max > abs_min else abs_min\n",
    "\n",
    "# Plot magnitude and percent change\n",
    "with plt.style.context(\"dark_background\"):\n",
    "    fig, ax = plt.subplots(1, 2, figsize=(20, 8))\n",
    "    plt.suptitle(f\"South Korea Nitrogen Dioxide Change, March 2019 to March 2020\", \n",
    "                 size=24)\n",
    "    \n",
    "    # Set legend options\n",
    "    divider_magnitude = make_axes_locatable(ax[0])\n",
    "    divider_percent = make_axes_locatable(ax[1])\n",
    "    cax_magnitude = divider_magnitude.append_axes(\"right\", size=\"5%\", pad=-0.25)\n",
    "    cax_percent = divider_percent.append_axes(\"right\", size=\"5%\", pad=-0.25)\n",
    "\n",
    "    # Magnitude change\n",
    "    level_1_gdf.plot(\n",
    "        column=\"change_mar_2019_2020_magnitude\",\n",
    "        ax=ax[0],\n",
    "        legend=True,\n",
    "        cax=cax_magnitude,\n",
    "        vmax=mag_vmax,\n",
    "        vmin=-mag_vmax,\n",
    "        cmap=\"RdBu_r\",\n",
    "        linewidth=0.25,\n",
    "        edgecolor=\"gray\",\n",
    "    )\n",
    "#     south_korea_level_1_geometry.plot(\n",
    "#         ax=ax[0], facecolor=\"None\", edgecolor=\"red\", linewidth=0.5)\n",
    "        \n",
    "    ax[0].set_title(\"Magnitude Change\")\n",
    "    ax[0].set_xlabel(\"Longitude (degrees)\")\n",
    "    ax[0].set_ylabel(\"Latitude (degrees)\")\n",
    "\n",
    "    # Percent change\n",
    "    level_1_gdf.plot(\n",
    "        column=\"change_mar_2019_2020_percent\",\n",
    "        ax=ax[1],\n",
    "        legend=True,\n",
    "        cax=cax_percent,\n",
    "        cmap=\"RdBu_r\",\n",
    "        vmin=-100,\n",
    "        vmax=100,\n",
    "        linewidth=0.25,\n",
    "        edgecolor=\"gray\"\n",
    "    )\n",
    "#     south_korea_level_1_geometry.plot(\n",
    "#         ax=ax[1], facecolor=\"None\", edgecolor=\"red\", linewidth=0.5,\n",
    "#     )\n",
    "    ax[1].set_title(\"Percent Change\")\n",
    "    ax[1].set_xlabel(\"Longitude (degrees)\")\n",
    "    ax[1].set_ylabel(\"Latitude (degrees)\")\n",
    "    \n",
    "#     ax[1].legend(\n",
    "#         shadow=True, edgecolor=\"white\", fontsize=10, loc=\"lower right\"\n",
    "#     )\n",
    "    \n",
    "    fig.text(0.5, 0, f\"Data Source: European Space Agency\", ha=\"center\", fontsize=16\n",
    "        )\n"
   ]
  },
  {
   "cell_type": "markdown",
   "metadata": {},
   "source": [
    "## Level 2 Boundaries"
   ]
  },
  {
   "cell_type": "code",
   "execution_count": null,
   "metadata": {
    "ExecuteTime": {
     "end_time": "2020-11-03T02:21:19.522962Z",
     "start_time": "2020-11-03T02:21:16.940812Z"
    }
   },
   "outputs": [],
   "source": [
    "# Determine plot max\n",
    "abs_max = abs(level_2_gdf[\"change_mar_2019_2020_magnitude\"].max())\n",
    "abs_min = abs(level_2_gdf[\"change_mar_2019_2020_magnitude\"].min())\n",
    "mag_vmax = abs_max if abs_max > abs_min else abs_min\n",
    "\n",
    "# Plot magnitude and percent change\n",
    "with plt.style.context(\"dark_background\"):\n",
    "    fig, ax = plt.subplots(1, 2, figsize=(20, 8))\n",
    "    plt.suptitle(f\"South Korea Nitrogen Dioxide Change, March 2019 to March 2020\", \n",
    "                 size=24)\n",
    "    \n",
    "    # Set legend options\n",
    "    divider_magnitude = make_axes_locatable(ax[0])\n",
    "    divider_percent = make_axes_locatable(ax[1])\n",
    "    cax_magnitude = divider_magnitude.append_axes(\"right\", size=\"5%\", pad=-0.25)\n",
    "    cax_percent = divider_percent.append_axes(\"right\", size=\"5%\", pad=-0.25)\n",
    "\n",
    "    # Magnitude change\n",
    "    level_2_gdf.plot(\n",
    "        column=\"change_mar_2019_2020_magnitude\",\n",
    "        ax=ax[0],\n",
    "        legend=True,\n",
    "        cax=cax_magnitude,\n",
    "        vmax=mag_vmax,\n",
    "        vmin=-mag_vmax,\n",
    "        cmap=\"RdBu_r\",\n",
    "        linewidth=0.25,\n",
    "        edgecolor=\"gray\"\n",
    "#         color='black'\n",
    "    )\n",
    "#     south_korea_level_2_geometry.plot(\n",
    "#         ax=ax[0], facecolor=\"None\", edgecolor=\"black\", linewidth=0.5)\n",
    "        \n",
    "    ax[0].set_title(\"Magnitude Change\")\n",
    "    ax[0].set_xlabel(\"Longitude (degrees)\")\n",
    "    ax[0].set_ylabel(\"Latitude (degrees)\")\n",
    "\n",
    "    # Percent change\n",
    "    level_2_gdf.plot(\n",
    "        column=\"change_mar_2019_2020_percent\",\n",
    "        ax=ax[1],\n",
    "        legend=True,\n",
    "        cax=cax_percent,\n",
    "        cmap=\"RdBu_r\",\n",
    "        vmin=-100,\n",
    "        vmax=100,\n",
    "        linewidth=0.25,\n",
    "        edgecolor=\"gray\"\n",
    "    )\n",
    "#     south_korea_level_1_geometry.plot(\n",
    "#         ax=ax[1], facecolor=\"None\", edgecolor=\"red\", linewidth=0.5,\n",
    "#     )\n",
    "    ax[1].set_title(\"Percent Change\")\n",
    "    ax[1].set_xlabel(\"Longitude (degrees)\")\n",
    "    ax[1].set_ylabel(\"Latitude (degrees)\")\n",
    "    \n",
    "#     ax[1].legend(\n",
    "#         shadow=True, edgecolor=\"white\", fontsize=10, loc=\"lower right\"\n",
    "#     )\n",
    "    \n",
    "    fig.text(0.5, 0, f\"Data Source: European Space Agency\", ha=\"center\", fontsize=16\n",
    "        )\n"
   ]
  },
  {
   "cell_type": "markdown",
   "metadata": {},
   "source": [
    "## Hexagon Grid"
   ]
  },
  {
   "cell_type": "code",
   "execution_count": null,
   "metadata": {
    "ExecuteTime": {
     "end_time": "2020-11-03T02:23:11.318859Z",
     "start_time": "2020-11-03T02:23:08.153349Z"
    }
   },
   "outputs": [],
   "source": [
    "# Determine plot max\n",
    "abs_max = abs(hexagon_grid_gdf[\"change_mar_2019_2020_magnitude\"].max())\n",
    "abs_min = abs(hexagon_grid_gdf[\"change_mar_2019_2020_magnitude\"].min())\n",
    "mag_vmax = abs_max if abs_max > abs_min else abs_min\n",
    "\n",
    "# Plot magnitude and percent change\n",
    "with plt.style.context(\"dark_background\"):\n",
    "    fig, ax = plt.subplots(1, 2, figsize=(20, 8))\n",
    "    plt.suptitle(\n",
    "        f\"South Korea Nitrogen Dioxide Change, March 2019 to March 2020\", \n",
    "        size=24\n",
    "    )\n",
    "    \n",
    "    # Set legend options\n",
    "    divider_magnitude = make_axes_locatable(ax[0])\n",
    "    divider_percent = make_axes_locatable(ax[1])\n",
    "    cax_magnitude = divider_magnitude.append_axes(\"right\", size=\"5%\", pad=-0.25)\n",
    "    cax_percent = divider_percent.append_axes(\"right\", size=\"5%\", pad=-0.25)\n",
    "\n",
    "    # Magnitude change\n",
    "    hexagon_grid_gdf.plot(\n",
    "        column=\"change_mar_2019_2020_magnitude\",\n",
    "        ax=ax[0],\n",
    "        legend=True,\n",
    "        cax=cax_magnitude,\n",
    "        vmax=mag_vmax,\n",
    "        vmin=-mag_vmax,\n",
    "        cmap=\"RdBu_r\",\n",
    "        linewidth=0.25,\n",
    "#         edgecolor=\"gray\"\n",
    "    )\n",
    "    south_korea_level_1_geometry.plot(\n",
    "        ax=ax[0], facecolor=\"None\", edgecolor=\"red\", linewidth=0.5)\n",
    "        \n",
    "    ax[0].set_title(\"Magnitude Change\")\n",
    "    ax[0].set_xlabel(\"Longitude (degrees)\")\n",
    "    ax[0].set_ylabel(\"Latitude (degrees)\")\n",
    "\n",
    "    # Percent change\n",
    "    hexagon_grid_gdf.plot(\n",
    "        column=\"change_mar_2019_2020_percent\",\n",
    "        ax=ax[1],\n",
    "        legend=True,\n",
    "        cax=cax_percent,\n",
    "        cmap=\"RdBu_r\",\n",
    "        vmin=-100,\n",
    "        vmax=100,\n",
    "        linewidth=0.25,\n",
    "#         edgecolor=\"gray\"\n",
    "    )\n",
    "    south_korea_level_1_geometry.plot(\n",
    "        ax=ax[1], facecolor=\"None\", edgecolor=\"red\", linewidth=0.5,\n",
    "    )\n",
    "    ax[1].set_title(\"Percent Change\")\n",
    "    ax[1].set_xlabel(\"Longitude (degrees)\")\n",
    "    ax[1].set_ylabel(\"Latitude (degrees)\")\n",
    "    \n",
    "#     ax[1].legend(\n",
    "#         shadow=True, edgecolor=\"white\", fontsize=10, loc=\"lower right\"\n",
    "#     )\n",
    "    \n",
    "    fig.text(0.5, 0, f\"Data Source: European Space Agency\", ha=\"center\", fontsize=16\n",
    "        )\n"
   ]
  },
  {
   "cell_type": "markdown",
   "metadata": {},
   "source": [
    "# Data Export"
   ]
  },
  {
   "cell_type": "code",
   "execution_count": null,
   "metadata": {},
   "outputs": [],
   "source": []
  }
 ],
 "metadata": {
  "hide_input": false,
  "kernelspec": {
   "display_name": "Python 3",
   "language": "python",
   "name": "python3"
  },
  "language_info": {
   "codemirror_mode": {
    "name": "ipython",
    "version": 3
   },
   "file_extension": ".py",
   "mimetype": "text/x-python",
   "name": "python",
   "nbconvert_exporter": "python",
   "pygments_lexer": "ipython3",
   "version": "3.7.6"
  },
  "toc": {
   "base_numbering": 1,
   "nav_menu": {},
   "number_sections": true,
   "sideBar": true,
   "skip_h1_title": false,
   "title_cell": "Table of Contents",
   "title_sidebar": "Contents",
   "toc_cell": false,
   "toc_position": {},
   "toc_section_display": true,
   "toc_window_display": false
  },
  "varInspector": {
   "cols": {
    "lenName": 16,
    "lenType": 16,
    "lenVar": 40
   },
   "kernels_config": {
    "python": {
     "delete_cmd_postfix": "",
     "delete_cmd_prefix": "del ",
     "library": "var_list.py",
     "varRefreshCmd": "print(var_dic_list())"
    },
    "r": {
     "delete_cmd_postfix": ") ",
     "delete_cmd_prefix": "rm(",
     "library": "var_list.r",
     "varRefreshCmd": "cat(var_dic_list()) "
    }
   },
   "types_to_exclude": [
    "module",
    "function",
    "builtin_function_or_method",
    "instance",
    "_Feature"
   ],
   "window_display": false
  }
 },
 "nbformat": 4,
 "nbformat_minor": 4
}
