{
 "cells": [
  {
   "cell_type": "markdown",
   "metadata": {},
   "source": [
    "# NO2 Data Aggregation - Plots\n",
    "\n",
    "Aggregates NO2 values by administrative boundaries and a regular hexagon grid.\n",
    "\n",
    "To convert from mol/m<sup>2</sup> to molecules/cm<sup>2</sup>, multiply by 6.022140857e+19 (6.022140857 * 10<sup>19</sup>)."
   ]
  },
  {
   "cell_type": "markdown",
   "metadata": {},
   "source": [
    "# Environment Setup"
   ]
  },
  {
   "cell_type": "code",
   "execution_count": null,
   "metadata": {
    "ExecuteTime": {
     "end_time": "2020-11-03T16:42:48.541762Z",
     "start_time": "2020-11-03T16:42:48.370601Z"
    }
   },
   "outputs": [],
   "source": [
    "# Load Notebook formatter\n",
    "%load_ext nb_black\n",
    "# %reload_ext nb_black"
   ]
  },
  {
   "cell_type": "code",
   "execution_count": null,
   "metadata": {
    "ExecuteTime": {
     "end_time": "2020-11-03T16:42:50.775745Z",
     "start_time": "2020-11-03T16:42:48.541762Z"
    }
   },
   "outputs": [],
   "source": [
    "# Import packages\n",
    "import os\n",
    "import glob\n",
    "import matplotlib.pyplot as plt\n",
    "from mpl_toolkits.axes_grid1 import make_axes_locatable\n",
    "import seaborn as sns\n",
    "import pandas as pd\n",
    "import geopandas as gpd\n",
    "import rasterio as rio\n",
    "import rasterstats as rs\n",
    "import radiance as rd\n",
    "import sentinel as stl"
   ]
  },
  {
   "cell_type": "code",
   "execution_count": null,
   "metadata": {
    "ExecuteTime": {
     "end_time": "2020-11-03T16:42:50.798272Z",
     "start_time": "2020-11-03T16:42:50.775745Z"
    }
   },
   "outputs": [],
   "source": [
    "# Set Options\n",
    "# sns.set(font_scale=1.5, style=\"whitegrid\")\n",
    "sns.set(font_scale=1.5)\n",
    "pd.set_option(\"display.max_columns\", None)\n",
    "pd.set_option(\"precision\", 15)"
   ]
  },
  {
   "cell_type": "code",
   "execution_count": null,
   "metadata": {
    "ExecuteTime": {
     "end_time": "2020-11-03T16:42:50.825772Z",
     "start_time": "2020-11-03T16:42:50.799652Z"
    }
   },
   "outputs": [],
   "source": [
    "# Set working directory\n",
    "os.chdir(\"..\")\n",
    "print(f\"Working directory: {os.getcwd()}\")"
   ]
  },
  {
   "cell_type": "markdown",
   "metadata": {},
   "source": [
    "# User-Defined Variables"
   ]
  },
  {
   "cell_type": "code",
   "execution_count": null,
   "metadata": {
    "ExecuteTime": {
     "end_time": "2020-11-03T16:42:50.850771Z",
     "start_time": "2020-11-03T16:42:50.825772Z"
    }
   },
   "outputs": [],
   "source": [
    "# Set paths to South Korea shapefiles at levels 0, 1, and 2, and hexagon grid\n",
    "south_korea_level_0_path = os.path.join(\n",
    "    \"02-raw-data\", \"vector\", \"south-korea\", \"gadm36_south_korea.shp\"\n",
    ")\n",
    "\n",
    "south_korea_level_1_path = os.path.join(\n",
    "    \"02-raw-data\", \"vector\", \"south-korea\", \"gadm36_south_korea_level_1.shp\"\n",
    ")\n",
    "\n",
    "south_korea_level_2_path = os.path.join(\n",
    "    \"02-raw-data\", \"vector\", \"south-korea\", \"gadm36_south_korea_level_2.shp\"\n",
    ")\n",
    "\n",
    "south_korea_hexagon_grid_path = os.path.join(\n",
    "    \"03-processed-data\",\n",
    "    \"vector\",\n",
    "    \"south-korea\",\n",
    "    \"south_korea_hexagon_grid.shp\",\n",
    ")"
   ]
  },
  {
   "cell_type": "code",
   "execution_count": null,
   "metadata": {
    "ExecuteTime": {
     "end_time": "2020-11-03T16:42:50.870749Z",
     "start_time": "2020-11-03T16:42:50.850771Z"
    }
   },
   "outputs": [],
   "source": [
    "# Set paths to aggregated data shapfiles\n",
    "aggregate_level_1_path = os.path.join(\n",
    "    \"03-processed-data\",\n",
    "    \"vector\",\n",
    "    \"south-korea\",\n",
    "    \"aggregate_level_1_jul_2018_jul_2020.shp\",\n",
    ")\n",
    "\n",
    "aggregate_level_2_path = os.path.join(\n",
    "    \"03-processed-data\",\n",
    "    \"vector\",\n",
    "    \"south-korea\",\n",
    "    \"aggregate_level_2_jul_2018_jul_2020.shp\",\n",
    ")\n",
    "\n",
    "aggregate_hexagon_path = os.path.join(\n",
    "    \"03-processed-data\",\n",
    "    \"vector\",\n",
    "    \"south-korea\",\n",
    "    \"aggregate_hexagon_grid_jul_2018_jul_2020.shp\",\n",
    ")"
   ]
  },
  {
   "cell_type": "markdown",
   "metadata": {},
   "source": [
    "# Data Acquisition and Preprocessing"
   ]
  },
  {
   "cell_type": "code",
   "execution_count": null,
   "metadata": {
    "ExecuteTime": {
     "end_time": "2020-11-03T16:42:51.524195Z",
     "start_time": "2020-11-03T16:42:50.870749Z"
    }
   },
   "outputs": [],
   "source": [
    "# Get geodataframes with geometry only (for plotting)\n",
    "south_korea_level_0_geometry = stl.get_geometry(south_korea_level_0_path)\n",
    "south_korea_level_1_geometry = stl.get_geometry(south_korea_level_1_path)\n",
    "south_korea_level_2_geometry = stl.get_geometry(south_korea_level_2_path)\n",
    "south_korea_hexagon_grid_geometry = stl.get_geometry(\n",
    "    south_korea_hexagon_grid_path\n",
    ")"
   ]
  },
  {
   "cell_type": "code",
   "execution_count": null,
   "metadata": {
    "ExecuteTime": {
     "end_time": "2020-11-03T16:42:52.015799Z",
     "start_time": "2020-11-03T16:42:51.524195Z"
    }
   },
   "outputs": [],
   "source": [
    "# Read aggregated shapefiles into geodataframes\n",
    "south_korea_level_1_gdf = gpd.read_file(aggregate_level_1_path)\n",
    "south_korea_level_2_gdf = gpd.read_file(aggregate_level_2_path)\n",
    "hexagon_grid_gdf = gpd.read_file(aggregate_hexagon_path)"
   ]
  },
  {
   "cell_type": "code",
   "execution_count": null,
   "metadata": {
    "ExecuteTime": {
     "end_time": "2020-11-03T16:42:52.095395Z",
     "start_time": "2020-11-03T16:42:52.015799Z"
    }
   },
   "outputs": [],
   "source": [
    "# Restore original column names (shorted by export to shapefile)\n",
    "level_1_gdf = south_korea_level_1_gdf.rename(\n",
    "    columns={\n",
    "        # Magnitude\n",
    "        \"change_jul\": \"change_jul_2018_2019_magnitude\",\n",
    "        \"change_aug\": \"change_aug_2018_2019_magnitude\",\n",
    "        \"change_sep\": \"change_sep_2018_2019_magnitude\",\n",
    "        \"change_oct\": \"change_oct_2018_2019_magnitude\",\n",
    "        \"change_nov\": \"change_nov_2018_2019_magnitude\",\n",
    "        \"change_dec\": \"change_dec_2018_2019_magnitude\",\n",
    "        \"change_jan\": \"change_jan_2019_2020_magnitude\",\n",
    "        \"change_feb\": \"change_feb_2019_2020_magnitude\",\n",
    "        \"change_mar\": \"change_mar_2019_2020_magnitude\",\n",
    "        \"change_apr\": \"change_apr_2019_2020_magnitude\",\n",
    "        \"change_may\": \"change_may_2019_2020_magnitude\",\n",
    "        \"change_jun\": \"change_jun_2019_2020_magnitude\",\n",
    "        \"change_j_1\": \"change_jul_2019_2020_magnitude\",\n",
    "        # Percent\n",
    "        \"change_j_2\": \"change_jul_2018_2019_percent\",\n",
    "        \"change_a_1\": \"change_aug_2018_2019_percent\",\n",
    "        \"change_s_1\": \"change_sep_2018_2019_percent\",\n",
    "        \"change_o_1\": \"change_oct_2018_2019_percent\",\n",
    "        \"change_n_1\": \"change_nov_2018_2019_percent\",\n",
    "        \"change_d_1\": \"change_dec_2018_2019_percent\",\n",
    "        \"change_j_3\": \"change_jan_2019_2020_percent\",\n",
    "        \"change_f_1\": \"change_feb_2019_2020_percent\",\n",
    "        \"change_m_1\": \"change_mar_2019_2020_percent\",\n",
    "        \"change_a_2\": \"change_apr_2019_2020_percent\",\n",
    "        \"change_m_2\": \"change_may_2019_2020_percent\",\n",
    "        \"change_j_4\": \"change_jun_2019_2020_percent\",\n",
    "        \"change_j_5\": \"change_jul_2019_2020_percent\",\n",
    "    }\n",
    ")\n",
    "\n",
    "level_2_gdf = south_korea_level_2_gdf.rename(\n",
    "    columns={\n",
    "        # Magnitude\n",
    "        \"change_jul\": \"change_jul_2018_2019_magnitude\",\n",
    "        \"change_aug\": \"change_aug_2018_2019_magnitude\",\n",
    "        \"change_sep\": \"change_sep_2018_2019_magnitude\",\n",
    "        \"change_oct\": \"change_oct_2018_2019_magnitude\",\n",
    "        \"change_nov\": \"change_nov_2018_2019_magnitude\",\n",
    "        \"change_dec\": \"change_dec_2018_2019_magnitude\",\n",
    "        \"change_jan\": \"change_jan_2019_2020_magnitude\",\n",
    "        \"change_feb\": \"change_feb_2019_2020_magnitude\",\n",
    "        \"change_mar\": \"change_mar_2019_2020_magnitude\",\n",
    "        \"change_apr\": \"change_apr_2019_2020_magnitude\",\n",
    "        \"change_may\": \"change_may_2019_2020_magnitude\",\n",
    "        \"change_jun\": \"change_jun_2019_2020_magnitude\",\n",
    "        \"change_j_1\": \"change_jul_2019_2020_magnitude\",\n",
    "        # Percent\n",
    "        \"change_j_2\": \"change_jul_2018_2019_percent\",\n",
    "        \"change_a_1\": \"change_aug_2018_2019_percent\",\n",
    "        \"change_s_1\": \"change_sep_2018_2019_percent\",\n",
    "        \"change_o_1\": \"change_oct_2018_2019_percent\",\n",
    "        \"change_n_1\": \"change_nov_2018_2019_percent\",\n",
    "        \"change_d_1\": \"change_dec_2018_2019_percent\",\n",
    "        \"change_j_3\": \"change_jan_2019_2020_percent\",\n",
    "        \"change_f_1\": \"change_feb_2019_2020_percent\",\n",
    "        \"change_m_1\": \"change_mar_2019_2020_percent\",\n",
    "        \"change_a_2\": \"change_apr_2019_2020_percent\",\n",
    "        \"change_m_2\": \"change_may_2019_2020_percent\",\n",
    "        \"change_j_4\": \"change_jun_2019_2020_percent\",\n",
    "        \"change_j_5\": \"change_jul_2019_2020_percent\",\n",
    "    }\n",
    ")\n",
    "\n",
    "hexagon_grid_gdf = hexagon_grid_gdf.rename(\n",
    "    columns={\n",
    "        # Magnitude\n",
    "        \"change_jul\": \"change_jul_2018_2019_magnitude\",\n",
    "        \"change_aug\": \"change_aug_2018_2019_magnitude\",\n",
    "        \"change_sep\": \"change_sep_2018_2019_magnitude\",\n",
    "        \"change_oct\": \"change_oct_2018_2019_magnitude\",\n",
    "        \"change_nov\": \"change_nov_2018_2019_magnitude\",\n",
    "        \"change_dec\": \"change_dec_2018_2019_magnitude\",\n",
    "        \"change_jan\": \"change_jan_2019_2020_magnitude\",\n",
    "        \"change_feb\": \"change_feb_2019_2020_magnitude\",\n",
    "        \"change_mar\": \"change_mar_2019_2020_magnitude\",\n",
    "        \"change_apr\": \"change_apr_2019_2020_magnitude\",\n",
    "        \"change_may\": \"change_may_2019_2020_magnitude\",\n",
    "        \"change_jun\": \"change_jun_2019_2020_magnitude\",\n",
    "        \"change_j_1\": \"change_jul_2019_2020_magnitude\",\n",
    "        # Percent\n",
    "        \"change_j_2\": \"change_jul_2018_2019_percent\",\n",
    "        \"change_a_1\": \"change_aug_2018_2019_percent\",\n",
    "        \"change_s_1\": \"change_sep_2018_2019_percent\",\n",
    "        \"change_o_1\": \"change_oct_2018_2019_percent\",\n",
    "        \"change_n_1\": \"change_nov_2018_2019_percent\",\n",
    "        \"change_d_1\": \"change_dec_2018_2019_percent\",\n",
    "        \"change_j_3\": \"change_jan_2019_2020_percent\",\n",
    "        \"change_f_1\": \"change_feb_2019_2020_percent\",\n",
    "        \"change_m_1\": \"change_mar_2019_2020_percent\",\n",
    "        \"change_a_2\": \"change_apr_2019_2020_percent\",\n",
    "        \"change_m_2\": \"change_may_2019_2020_percent\",\n",
    "        \"change_j_4\": \"change_jun_2019_2020_percent\",\n",
    "        \"change_j_5\": \"change_jul_2019_2020_percent\",\n",
    "    }\n",
    ")"
   ]
  },
  {
   "cell_type": "markdown",
   "metadata": {},
   "source": [
    "# Data Processing"
   ]
  },
  {
   "cell_type": "code",
   "execution_count": null,
   "metadata": {},
   "outputs": [],
   "source": []
  },
  {
   "cell_type": "markdown",
   "metadata": {},
   "source": [
    "# Data Post-Processing"
   ]
  },
  {
   "cell_type": "code",
   "execution_count": null,
   "metadata": {},
   "outputs": [],
   "source": []
  },
  {
   "cell_type": "markdown",
   "metadata": {},
   "source": [
    "# Data Visualization"
   ]
  },
  {
   "cell_type": "markdown",
   "metadata": {},
   "source": [
    "## Level 1 Boundaries"
   ]
  },
  {
   "cell_type": "code",
   "execution_count": null,
   "metadata": {
    "ExecuteTime": {
     "end_time": "2020-11-03T16:42:52.165985Z",
     "start_time": "2020-11-03T16:42:52.095395Z"
    }
   },
   "outputs": [],
   "source": [
    "def plot_aggregate_change(\n",
    "    aggregated_data,\n",
    "    magnitude_change,\n",
    "    percent_change,\n",
    "    vector_boundary,\n",
    "    plot_vector=False,\n",
    "    super_title=\"Nitrogen Dioxide Change\",\n",
    "    data_source=\"European Space Agency\",\n",
    "):\n",
    "    \"\"\"Plots the NO2 change aggregated a different levels. \n",
    "    \n",
    "    Parameters\n",
    "    ----------\n",
    "    aggregated_data : geopandas geodataframe\n",
    "        Geodataframe containing the aggregated data.\n",
    "    \n",
    "    magnitude_change : str\n",
    "        Column name for the magnitude change.\n",
    "        \n",
    "    percent_change : str\n",
    "        Column name for the percent change.\n",
    "        \n",
    "    vector_boundary : geopandas geodataframe\n",
    "        Geodataframe containing a vector layer to be overlayed.\n",
    "    \n",
    "    plot_vector : bool, optional\n",
    "        Whether or not to plot the vector layer. Default value is False.\n",
    "    \n",
    "    super_title : str, optional\n",
    "        Main plot title. Default value is 'Nitrogen Dioxide Change'.\n",
    "        \n",
    "    data_source : str, optional\n",
    "        Data source. Default value is 'European Space Agency'\n",
    "    \n",
    "    Returns\n",
    "    -------\n",
    "    tuple\n",
    "\n",
    "        fig : matplotlib.figure.Figure object\n",
    "            The figure object associated with the plot.\n",
    "\n",
    "        ax : matplotlib.axes._subplots.AxesSubplot object\n",
    "            The axes object associated with the plot.\n",
    "    \n",
    "    Example\n",
    "    -------\n",
    "        >>>\n",
    "        >>>\n",
    "        >>>\n",
    "        >>>\n",
    "    \"\"\"\n",
    "    # Determine magnitude plot scale\n",
    "    magnitude_max_absolute = abs(aggregated_data[magnitude_change].max())\n",
    "    magnitude_min_absolute = abs(aggregated_data[magnitude_change].min())\n",
    "    magnitude_vmax = (\n",
    "        magnitude_max_absolute\n",
    "        if magnitude_max_absolute > magnitude_min_absolute\n",
    "        else magnitude_min_absolute\n",
    "    )\n",
    "\n",
    "    # Plot magnitude and percent change\n",
    "    with plt.style.context(\"dark_background\"):\n",
    "        fig, ax = plt.subplots(1, 2, figsize=(20, 8))\n",
    "        plt.suptitle(super_title, size=24)\n",
    "\n",
    "        # Set legend options\n",
    "        divider_magnitude = make_axes_locatable(ax[0])\n",
    "        divider_percent = make_axes_locatable(ax[1])\n",
    "        cax_magnitude = divider_magnitude.append_axes(\n",
    "            \"right\", size=\"5%\", pad=-0.25\n",
    "        )\n",
    "        cax_percent = divider_percent.append_axes(\n",
    "            \"right\", size=\"5%\", pad=-0.25\n",
    "        )\n",
    "\n",
    "        # Magnitude change\n",
    "        aggregated_data.plot(\n",
    "            column=magnitude_change,\n",
    "            ax=ax[0],\n",
    "            legend=True,\n",
    "            cax=cax_magnitude,\n",
    "            vmax=magnitude_vmax,\n",
    "            vmin=-magnitude_vmax,\n",
    "            cmap=\"RdBu_r\",\n",
    "            linewidth=0.25,\n",
    "            edgecolor=\"gray\",\n",
    "        )\n",
    "\n",
    "        # Plot vector boundary\n",
    "        if plot_vector:\n",
    "            vector_boundary.plot(\n",
    "                ax=ax[0], facecolor=\"None\", edgecolor=\"black\", linewidth=0.5\n",
    "            )\n",
    "\n",
    "        # Configure axes\n",
    "        ax[0].set_title(\"Magnitude Change\")\n",
    "        ax[0].set_xlabel(\"Longitude (degrees)\")\n",
    "        ax[0].set_ylabel(\"Latitude (degrees)\")\n",
    "\n",
    "        # Percent change\n",
    "        aggregated_data.plot(\n",
    "            column=percent_change,\n",
    "            ax=ax[1],\n",
    "            legend=True,\n",
    "            cax=cax_percent,\n",
    "            cmap=\"RdBu_r\",\n",
    "            vmin=-100,\n",
    "            vmax=100,\n",
    "            linewidth=0.25,\n",
    "            edgecolor=\"gray\",\n",
    "        )\n",
    "\n",
    "        # Plot vector boundary\n",
    "        if plot_vector:\n",
    "            vector_boundary.plot(\n",
    "                ax=ax[1], facecolor=\"None\", edgecolor=\"black\", linewidth=0.5,\n",
    "            )\n",
    "\n",
    "        # Configure axes\n",
    "        ax[1].set_title(\"Percent Change\")\n",
    "        ax[1].set_xlabel(\"Longitude (degrees)\")\n",
    "        ax[1].set_ylabel(\"Latitude (degrees)\")\n",
    "\n",
    "        # Add caption\n",
    "        fig.text(\n",
    "            0.5, 0, f\"Data Source: {data_source}\", ha=\"center\", fontsize=16,\n",
    "        )\n",
    "\n",
    "    return fig, ax"
   ]
  },
  {
   "cell_type": "code",
   "execution_count": null,
   "metadata": {
    "ExecuteTime": {
     "end_time": "2020-11-03T16:42:56.979499Z",
     "start_time": "2020-11-03T16:42:52.165985Z"
    },
    "scrolled": false
   },
   "outputs": [],
   "source": [
    "# Plot and export July 2018-2019 change\n",
    "plot_aggregate_change(\n",
    "    aggregated_data=level_1_gdf,\n",
    "    magnitude_change=\"change_jul_2018_2019_magnitude\",\n",
    "    percent_change=\"change_jul_2018_2019_percent\",\n",
    "    vector_boundary=south_korea_level_1_geometry,\n",
    "    plot_vector=False,\n",
    "    super_title=\"South Korea Nitrogen Dioxide Change, July 2018 to July 2019\",\n",
    "    data_source=\"European Space Agency\",\n",
    ")\n",
    "\n",
    "# Export figure\n",
    "outpath = os.path.join(\n",
    "    \"04-graphics-outputs\",\n",
    "    \"spatial-plots\",\n",
    "    \"south-korea\",\n",
    "    \"south-korea-no2-aggregate-level-1-mean-change-jul-2018-2019.png\",\n",
    ")\n",
    "\n",
    "rd.save_figure(outpath)"
   ]
  },
  {
   "cell_type": "code",
   "execution_count": null,
   "metadata": {
    "ExecuteTime": {
     "end_time": "2020-11-03T16:43:02.108397Z",
     "start_time": "2020-11-03T16:42:56.979499Z"
    }
   },
   "outputs": [],
   "source": [
    "# Plot and export August 2018-2019 change\n",
    "plot_aggregate_change(\n",
    "    aggregated_data=level_1_gdf,\n",
    "    magnitude_change=\"change_aug_2018_2019_magnitude\",\n",
    "    percent_change=\"change_aug_2018_2019_percent\",\n",
    "    vector_boundary=south_korea_level_1_geometry,\n",
    "    plot_vector=False,\n",
    "    super_title=\"South Korea Nitrogen Dioxide Change, August 2018 to August 2019\",\n",
    "    data_source=\"European Space Agency\",\n",
    ")\n",
    "\n",
    "# Export figure\n",
    "outpath = os.path.join(\n",
    "    \"04-graphics-outputs\",\n",
    "    \"spatial-plots\",\n",
    "    \"south-korea\",\n",
    "    \"south-korea-no2-aggregate-level-1-mean-change-aug-2018-2019.png\",\n",
    ")\n",
    "\n",
    "rd.save_figure(outpath)"
   ]
  },
  {
   "cell_type": "code",
   "execution_count": null,
   "metadata": {
    "ExecuteTime": {
     "end_time": "2020-11-03T16:43:06.854793Z",
     "start_time": "2020-11-03T16:43:02.108397Z"
    }
   },
   "outputs": [],
   "source": [
    "# Plot and export September 2018-2019 change\n",
    "plot_aggregate_change(\n",
    "    aggregated_data=level_1_gdf,\n",
    "    magnitude_change=\"change_sep_2018_2019_magnitude\",\n",
    "    percent_change=\"change_sep_2018_2019_percent\",\n",
    "    vector_boundary=south_korea_level_1_geometry,\n",
    "    plot_vector=False,\n",
    "    super_title=\"South Korea Nitrogen Dioxide Change, September 2018 to September 2019\",\n",
    "    data_source=\"European Space Agency\",\n",
    ")\n",
    "\n",
    "# Export figure\n",
    "outpath = os.path.join(\n",
    "    \"04-graphics-outputs\",\n",
    "    \"spatial-plots\",\n",
    "    \"south-korea\",\n",
    "    \"south-korea-no2-aggregate-level-1-mean-change-sep-2018-2019.png\",\n",
    ")\n",
    "\n",
    "rd.save_figure(outpath)"
   ]
  },
  {
   "cell_type": "code",
   "execution_count": null,
   "metadata": {
    "ExecuteTime": {
     "end_time": "2020-11-03T16:43:11.488653Z",
     "start_time": "2020-11-03T16:43:06.854793Z"
    }
   },
   "outputs": [],
   "source": [
    "# Plot and export October 2018-2019 change\n",
    "plot_aggregate_change(\n",
    "    aggregated_data=level_1_gdf,\n",
    "    magnitude_change=\"change_oct_2018_2019_magnitude\",\n",
    "    percent_change=\"change_oct_2018_2019_percent\",\n",
    "    vector_boundary=south_korea_level_1_geometry,\n",
    "    plot_vector=False,\n",
    "    super_title=\"South Korea Nitrogen Dioxide Change, October 2018 to October 2019\",\n",
    "    data_source=\"European Space Agency\",\n",
    ")\n",
    "\n",
    "# Export figure\n",
    "outpath = os.path.join(\n",
    "    \"04-graphics-outputs\",\n",
    "    \"spatial-plots\",\n",
    "    \"south-korea\",\n",
    "    \"south-korea-no2-aggregate-level-1-mean-change-oct-2018-2019.png\",\n",
    ")\n",
    "\n",
    "rd.save_figure(outpath)"
   ]
  },
  {
   "cell_type": "code",
   "execution_count": null,
   "metadata": {
    "ExecuteTime": {
     "end_time": "2020-11-03T16:43:16.114740Z",
     "start_time": "2020-11-03T16:43:11.488653Z"
    }
   },
   "outputs": [],
   "source": [
    "# Plot and export November 2018-2019 change\n",
    "plot_aggregate_change(\n",
    "    aggregated_data=level_1_gdf,\n",
    "    magnitude_change=\"change_nov_2018_2019_magnitude\",\n",
    "    percent_change=\"change_nov_2018_2019_percent\",\n",
    "    vector_boundary=south_korea_level_1_geometry,\n",
    "    plot_vector=False,\n",
    "    super_title=\"South Korea Nitrogen Dioxide Change, November 2018 to November 2019\",\n",
    "    data_source=\"European Space Agency\",\n",
    ")\n",
    "\n",
    "# Export figure\n",
    "outpath = os.path.join(\n",
    "    \"04-graphics-outputs\",\n",
    "    \"spatial-plots\",\n",
    "    \"south-korea\",\n",
    "    \"south-korea-no2-aggregate-level-1-mean-change-nov-2018-2019.png\",\n",
    ")\n",
    "\n",
    "rd.save_figure(outpath)"
   ]
  },
  {
   "cell_type": "code",
   "execution_count": null,
   "metadata": {
    "ExecuteTime": {
     "end_time": "2020-11-03T16:43:20.708238Z",
     "start_time": "2020-11-03T16:43:16.115291Z"
    }
   },
   "outputs": [],
   "source": [
    "# Plot and export December 2018-2019 change\n",
    "plot_aggregate_change(\n",
    "    aggregated_data=level_1_gdf,\n",
    "    magnitude_change=\"change_dec_2018_2019_magnitude\",\n",
    "    percent_change=\"change_dec_2018_2019_percent\",\n",
    "    vector_boundary=south_korea_level_1_geometry,\n",
    "    plot_vector=False,\n",
    "    super_title=\"South Korea Nitrogen Dioxide Change, December 2018 to December 2019\",\n",
    "    data_source=\"European Space Agency\",\n",
    ")\n",
    "\n",
    "# Export figure\n",
    "outpath = os.path.join(\n",
    "    \"04-graphics-outputs\",\n",
    "    \"spatial-plots\",\n",
    "    \"south-korea\",\n",
    "    \"south-korea-no2-aggregate-level-1-mean-change-dec-2018-2019.png\",\n",
    ")\n",
    "\n",
    "rd.save_figure(outpath)"
   ]
  },
  {
   "cell_type": "code",
   "execution_count": null,
   "metadata": {
    "ExecuteTime": {
     "end_time": "2020-11-03T16:43:25.477117Z",
     "start_time": "2020-11-03T16:43:20.708238Z"
    }
   },
   "outputs": [],
   "source": [
    "# Plot and export January 2019-2020 change\n",
    "plot_aggregate_change(\n",
    "    aggregated_data=level_1_gdf,\n",
    "    magnitude_change=\"change_jan_2019_2020_magnitude\",\n",
    "    percent_change=\"change_jan_2019_2020_percent\",\n",
    "    vector_boundary=south_korea_level_1_geometry,\n",
    "    plot_vector=False,\n",
    "    super_title=\"South Korea Nitrogen Dioxide Change, January 2019 to January 2020\",\n",
    "    data_source=\"European Space Agency\",\n",
    ")\n",
    "\n",
    "# Export figure\n",
    "outpath = os.path.join(\n",
    "    \"04-graphics-outputs\",\n",
    "    \"spatial-plots\",\n",
    "    \"south-korea\",\n",
    "    \"south-korea-no2-aggregate-level-1-mean-change-jan-2019-2020.png\",\n",
    ")\n",
    "\n",
    "rd.save_figure(outpath)"
   ]
  },
  {
   "cell_type": "code",
   "execution_count": null,
   "metadata": {
    "ExecuteTime": {
     "end_time": "2020-11-03T16:43:30.181427Z",
     "start_time": "2020-11-03T16:43:25.477117Z"
    }
   },
   "outputs": [],
   "source": [
    "# Plot and export February 2019-2020 change\n",
    "plot_aggregate_change(\n",
    "    aggregated_data=level_1_gdf,\n",
    "    magnitude_change=\"change_feb_2019_2020_magnitude\",\n",
    "    percent_change=\"change_feb_2019_2020_percent\",\n",
    "    vector_boundary=south_korea_level_1_geometry,\n",
    "    plot_vector=False,\n",
    "    super_title=\"South Korea Nitrogen Dioxide Change, February 2019 to February 2020\",\n",
    "    data_source=\"European Space Agency\",\n",
    ")\n",
    "\n",
    "# Export figure\n",
    "outpath = os.path.join(\n",
    "    \"04-graphics-outputs\",\n",
    "    \"spatial-plots\",\n",
    "    \"south-korea\",\n",
    "    \"south-korea-no2-aggregate-level-1-mean-change-feb-2019-2020.png\",\n",
    ")\n",
    "\n",
    "rd.save_figure(outpath)"
   ]
  },
  {
   "cell_type": "code",
   "execution_count": null,
   "metadata": {
    "ExecuteTime": {
     "end_time": "2020-11-03T16:43:35.089819Z",
     "start_time": "2020-11-03T16:43:30.181427Z"
    }
   },
   "outputs": [],
   "source": [
    "# Plot and export March 2019-2020 change\n",
    "plot_aggregate_change(\n",
    "    aggregated_data=level_1_gdf,\n",
    "    magnitude_change=\"change_mar_2019_2020_magnitude\",\n",
    "    percent_change=\"change_mar_2019_2020_percent\",\n",
    "    vector_boundary=south_korea_level_1_geometry,\n",
    "    plot_vector=False,\n",
    "    super_title=\"South Korea Nitrogen Dioxide Change, March 2019 to March 2020\",\n",
    "    data_source=\"European Space Agency\",\n",
    ")\n",
    "\n",
    "# Export figure\n",
    "outpath = os.path.join(\n",
    "    \"04-graphics-outputs\",\n",
    "    \"spatial-plots\",\n",
    "    \"south-korea\",\n",
    "    \"south-korea-no2-aggregate-level-1-mean-change-mar-2019-2020.png\",\n",
    ")\n",
    "\n",
    "rd.save_figure(outpath)"
   ]
  },
  {
   "cell_type": "code",
   "execution_count": null,
   "metadata": {
    "ExecuteTime": {
     "end_time": "2020-11-03T16:43:40.006184Z",
     "start_time": "2020-11-03T16:43:35.089819Z"
    }
   },
   "outputs": [],
   "source": [
    "# Plot and export April 2019-2020 change\n",
    "plot_aggregate_change(\n",
    "    aggregated_data=level_1_gdf,\n",
    "    magnitude_change=\"change_apr_2019_2020_magnitude\",\n",
    "    percent_change=\"change_apr_2019_2020_percent\",\n",
    "    vector_boundary=south_korea_level_1_geometry,\n",
    "    plot_vector=False,\n",
    "    super_title=\"South Korea Nitrogen Dioxide Change, April 2019 to April 2020\",\n",
    "    data_source=\"European Space Agency\",\n",
    ")\n",
    "\n",
    "# Export figure\n",
    "outpath = os.path.join(\n",
    "    \"04-graphics-outputs\",\n",
    "    \"spatial-plots\",\n",
    "    \"south-korea\",\n",
    "    \"south-korea-no2-aggregate-level-1-mean-change-apr-2019-2020.png\",\n",
    ")\n",
    "\n",
    "rd.save_figure(outpath)"
   ]
  },
  {
   "cell_type": "code",
   "execution_count": null,
   "metadata": {
    "ExecuteTime": {
     "end_time": "2020-11-03T16:43:45.943625Z",
     "start_time": "2020-11-03T16:43:40.006184Z"
    }
   },
   "outputs": [],
   "source": [
    "# Plot and export May 2019-2020 change\n",
    "plot_aggregate_change(\n",
    "    aggregated_data=level_1_gdf,\n",
    "    magnitude_change=\"change_may_2019_2020_magnitude\",\n",
    "    percent_change=\"change_may_2019_2020_percent\",\n",
    "    vector_boundary=south_korea_level_1_geometry,\n",
    "    plot_vector=False,\n",
    "    super_title=\"South Korea Nitrogen Dioxide Change, May 2019 to May 2020\",\n",
    "    data_source=\"European Space Agency\",\n",
    ")\n",
    "\n",
    "# Export figure\n",
    "outpath = os.path.join(\n",
    "    \"04-graphics-outputs\",\n",
    "    \"spatial-plots\",\n",
    "    \"south-korea\",\n",
    "    \"south-korea-no2-aggregate-level-1-mean-change-may-2019-2020.png\",\n",
    ")\n",
    "\n",
    "rd.save_figure(outpath)"
   ]
  },
  {
   "cell_type": "code",
   "execution_count": null,
   "metadata": {
    "ExecuteTime": {
     "end_time": "2020-11-03T16:43:52.310816Z",
     "start_time": "2020-11-03T16:43:45.949609Z"
    }
   },
   "outputs": [],
   "source": [
    "# Plot and export June 2019-2020 change\n",
    "plot_aggregate_change(\n",
    "    aggregated_data=level_1_gdf,\n",
    "    magnitude_change=\"change_jun_2019_2020_magnitude\",\n",
    "    percent_change=\"change_jun_2019_2020_percent\",\n",
    "    vector_boundary=south_korea_level_1_geometry,\n",
    "    plot_vector=False,\n",
    "    super_title=\"South Korea Nitrogen Dioxide Change, June 2019 to June 2020\",\n",
    "    data_source=\"European Space Agency\",\n",
    ")\n",
    "\n",
    "# Export figure\n",
    "outpath = os.path.join(\n",
    "    \"04-graphics-outputs\",\n",
    "    \"spatial-plots\",\n",
    "    \"south-korea\",\n",
    "    \"south-korea-no2-aggregate-level-1-mean-change-jun-2019-2020.png\",\n",
    ")\n",
    "\n",
    "rd.save_figure(outpath)"
   ]
  },
  {
   "cell_type": "code",
   "execution_count": null,
   "metadata": {
    "ExecuteTime": {
     "end_time": "2020-11-03T16:43:59.121065Z",
     "start_time": "2020-11-03T16:43:52.316800Z"
    }
   },
   "outputs": [],
   "source": [
    "# Plot and export July 2019-2020 change\n",
    "plot_aggregate_change(\n",
    "    aggregated_data=level_1_gdf,\n",
    "    magnitude_change=\"change_jul_2019_2020_magnitude\",\n",
    "    percent_change=\"change_jul_2019_2020_percent\",\n",
    "    vector_boundary=south_korea_level_1_geometry,\n",
    "    plot_vector=False,\n",
    "    super_title=\"South Korea Nitrogen Dioxide Change, July 2019 to July 2020\",\n",
    "    data_source=\"European Space Agency\",\n",
    ")\n",
    "\n",
    "# Export figure\n",
    "outpath = os.path.join(\n",
    "    \"04-graphics-outputs\",\n",
    "    \"spatial-plots\",\n",
    "    \"south-korea\",\n",
    "    \"south-korea-no2-aggregate-level-1-mean-change-jul-2019-2020.png\",\n",
    ")\n",
    "\n",
    "rd.save_figure(outpath)"
   ]
  },
  {
   "cell_type": "markdown",
   "metadata": {},
   "source": [
    "## Level 2 Boundaries"
   ]
  },
  {
   "cell_type": "code",
   "execution_count": null,
   "metadata": {
    "ExecuteTime": {
     "end_time": "2020-11-03T16:45:29.575455Z",
     "start_time": "2020-11-03T16:45:23.684606Z"
    },
    "scrolled": false
   },
   "outputs": [],
   "source": [
    "# Plot and export July 2018-2019 change\n",
    "plot_aggregate_change(\n",
    "    aggregated_data=level_2_gdf,\n",
    "    magnitude_change=\"change_jul_2018_2019_magnitude\",\n",
    "    percent_change=\"change_jul_2018_2019_percent\",\n",
    "    vector_boundary=south_korea_level_2_geometry,\n",
    "    plot_vector=False,\n",
    "    super_title=\"South Korea Nitrogen Dioxide Change, July 2018 to July 2019\",\n",
    "    data_source=\"European Space Agency\",\n",
    ")\n",
    "\n",
    "# Export figure\n",
    "outpath = os.path.join(\n",
    "    \"04-graphics-outputs\",\n",
    "    \"spatial-plots\",\n",
    "    \"south-korea\",\n",
    "    \"south-korea-no2-aggregate-level-2-mean-change-jul-2018-2019.png\",\n",
    ")\n",
    "\n",
    "rd.save_figure(outpath)"
   ]
  },
  {
   "cell_type": "code",
   "execution_count": null,
   "metadata": {
    "ExecuteTime": {
     "end_time": "2020-11-03T16:45:36.198139Z",
     "start_time": "2020-11-03T16:45:29.575455Z"
    }
   },
   "outputs": [],
   "source": [
    "# Plot and export August 2018-2019 change\n",
    "plot_aggregate_change(\n",
    "    aggregated_data=level_2_gdf,\n",
    "    magnitude_change=\"change_aug_2018_2019_magnitude\",\n",
    "    percent_change=\"change_aug_2018_2019_percent\",\n",
    "    vector_boundary=south_korea_level_2_geometry,\n",
    "    plot_vector=False,\n",
    "    super_title=\"South Korea Nitrogen Dioxide Change, August 2018 to August 2019\",\n",
    "    data_source=\"European Space Agency\",\n",
    ")\n",
    "\n",
    "# Export figure\n",
    "outpath = os.path.join(\n",
    "    \"04-graphics-outputs\",\n",
    "    \"spatial-plots\",\n",
    "    \"south-korea\",\n",
    "    \"south-korea-no2-aggregate-level-2-mean-change-aug-2018-2019.png\",\n",
    ")\n",
    "\n",
    "rd.save_figure(outpath)"
   ]
  },
  {
   "cell_type": "code",
   "execution_count": null,
   "metadata": {
    "ExecuteTime": {
     "end_time": "2020-11-03T16:45:42.331506Z",
     "start_time": "2020-11-03T16:45:36.200130Z"
    }
   },
   "outputs": [],
   "source": [
    "# Plot and export September 2018-2019 change\n",
    "plot_aggregate_change(\n",
    "    aggregated_data=level_2_gdf,\n",
    "    magnitude_change=\"change_sep_2018_2019_magnitude\",\n",
    "    percent_change=\"change_sep_2018_2019_percent\",\n",
    "    vector_boundary=south_korea_level_2_geometry,\n",
    "    plot_vector=False,\n",
    "    super_title=\"South Korea Nitrogen Dioxide Change, September 2018 to September 2019\",\n",
    "    data_source=\"European Space Agency\",\n",
    ")\n",
    "\n",
    "# Export figure\n",
    "outpath = os.path.join(\n",
    "    \"04-graphics-outputs\",\n",
    "    \"spatial-plots\",\n",
    "    \"south-korea\",\n",
    "    \"south-korea-no2-aggregate-level-2-mean-change-sep-2018-2019.png\",\n",
    ")\n",
    "\n",
    "rd.save_figure(outpath)"
   ]
  },
  {
   "cell_type": "code",
   "execution_count": null,
   "metadata": {
    "ExecuteTime": {
     "end_time": "2020-11-03T16:45:49.065605Z",
     "start_time": "2020-11-03T16:45:42.331506Z"
    }
   },
   "outputs": [],
   "source": [
    "# Plot and export October 2018-2019 change\n",
    "plot_aggregate_change(\n",
    "    aggregated_data=level_2_gdf,\n",
    "    magnitude_change=\"change_oct_2018_2019_magnitude\",\n",
    "    percent_change=\"change_oct_2018_2019_percent\",\n",
    "    vector_boundary=south_korea_level_2_geometry,\n",
    "    plot_vector=False,\n",
    "    super_title=\"South Korea Nitrogen Dioxide Change, October 2018 to October 2019\",\n",
    "    data_source=\"European Space Agency\",\n",
    ")\n",
    "\n",
    "# Export figure\n",
    "outpath = os.path.join(\n",
    "    \"04-graphics-outputs\",\n",
    "    \"spatial-plots\",\n",
    "    \"south-korea\",\n",
    "    \"south-korea-no2-aggregate-level-2-mean-change-oct-2018-2019.png\",\n",
    ")\n",
    "\n",
    "rd.save_figure(outpath)"
   ]
  },
  {
   "cell_type": "code",
   "execution_count": null,
   "metadata": {
    "ExecuteTime": {
     "end_time": "2020-11-03T16:45:55.232318Z",
     "start_time": "2020-11-03T16:45:49.065605Z"
    }
   },
   "outputs": [],
   "source": [
    "# Plot and export November 2018-2019 change\n",
    "plot_aggregate_change(\n",
    "    aggregated_data=level_2_gdf,\n",
    "    magnitude_change=\"change_nov_2018_2019_magnitude\",\n",
    "    percent_change=\"change_nov_2018_2019_percent\",\n",
    "    vector_boundary=south_korea_level_2_geometry,\n",
    "    plot_vector=False,\n",
    "    super_title=\"South Korea Nitrogen Dioxide Change, November 2018 to November 2019\",\n",
    "    data_source=\"European Space Agency\",\n",
    ")\n",
    "\n",
    "# Export figure\n",
    "outpath = os.path.join(\n",
    "    \"04-graphics-outputs\",\n",
    "    \"spatial-plots\",\n",
    "    \"south-korea\",\n",
    "    \"south-korea-no2-aggregate-level-2-mean-change-nov-2018-2019.png\",\n",
    ")\n",
    "\n",
    "rd.save_figure(outpath)"
   ]
  },
  {
   "cell_type": "code",
   "execution_count": null,
   "metadata": {
    "ExecuteTime": {
     "end_time": "2020-11-03T16:46:01.190662Z",
     "start_time": "2020-11-03T16:45:55.232318Z"
    }
   },
   "outputs": [],
   "source": [
    "# Plot and export December 2018-2019 change\n",
    "plot_aggregate_change(\n",
    "    aggregated_data=level_2_gdf,\n",
    "    magnitude_change=\"change_dec_2018_2019_magnitude\",\n",
    "    percent_change=\"change_dec_2018_2019_percent\",\n",
    "    vector_boundary=south_korea_level_2_geometry,\n",
    "    plot_vector=False,\n",
    "    super_title=\"South Korea Nitrogen Dioxide Change, December 2018 to December 2019\",\n",
    "    data_source=\"European Space Agency\",\n",
    ")\n",
    "\n",
    "# Export figure\n",
    "outpath = os.path.join(\n",
    "    \"04-graphics-outputs\",\n",
    "    \"spatial-plots\",\n",
    "    \"south-korea\",\n",
    "    \"south-korea-no2-aggregate-level-2-mean-change-dec-2018-2019.png\",\n",
    ")\n",
    "\n",
    "rd.save_figure(outpath)"
   ]
  },
  {
   "cell_type": "code",
   "execution_count": null,
   "metadata": {
    "ExecuteTime": {
     "end_time": "2020-11-03T16:46:07.271856Z",
     "start_time": "2020-11-03T16:46:01.190662Z"
    }
   },
   "outputs": [],
   "source": [
    "# Plot and export January 2019-2020 change\n",
    "plot_aggregate_change(\n",
    "    aggregated_data=level_2_gdf,\n",
    "    magnitude_change=\"change_jan_2019_2020_magnitude\",\n",
    "    percent_change=\"change_jan_2019_2020_percent\",\n",
    "    vector_boundary=south_korea_level_2_geometry,\n",
    "    plot_vector=False,\n",
    "    super_title=\"South Korea Nitrogen Dioxide Change, January 2019 to January 2020\",\n",
    "    data_source=\"European Space Agency\",\n",
    ")\n",
    "\n",
    "# Export figure\n",
    "outpath = os.path.join(\n",
    "    \"04-graphics-outputs\",\n",
    "    \"spatial-plots\",\n",
    "    \"south-korea\",\n",
    "    \"south-korea-no2-aggregate-level-2-mean-change-jan-2019-2020.png\",\n",
    ")\n",
    "\n",
    "rd.save_figure(outpath)"
   ]
  },
  {
   "cell_type": "code",
   "execution_count": null,
   "metadata": {
    "ExecuteTime": {
     "end_time": "2020-11-03T16:46:13.170802Z",
     "start_time": "2020-11-03T16:46:07.271856Z"
    }
   },
   "outputs": [],
   "source": [
    "# Plot and export February 2019-2020 change\n",
    "plot_aggregate_change(\n",
    "    aggregated_data=level_2_gdf,\n",
    "    magnitude_change=\"change_feb_2019_2020_magnitude\",\n",
    "    percent_change=\"change_feb_2019_2020_percent\",\n",
    "    vector_boundary=south_korea_level_2_geometry,\n",
    "    plot_vector=False,\n",
    "    super_title=\"South Korea Nitrogen Dioxide Change, February 2019 to February 2020\",\n",
    "    data_source=\"European Space Agency\",\n",
    ")\n",
    "\n",
    "# Export figure\n",
    "outpath = os.path.join(\n",
    "    \"04-graphics-outputs\",\n",
    "    \"spatial-plots\",\n",
    "    \"south-korea\",\n",
    "    \"south-korea-no2-aggregate-level-2-mean-change-feb-2019-2020.png\",\n",
    ")\n",
    "\n",
    "rd.save_figure(outpath)"
   ]
  },
  {
   "cell_type": "code",
   "execution_count": null,
   "metadata": {
    "ExecuteTime": {
     "end_time": "2020-11-03T16:46:19.764571Z",
     "start_time": "2020-11-03T16:46:13.170802Z"
    }
   },
   "outputs": [],
   "source": [
    "# Plot and export March 2019-2020 change\n",
    "plot_aggregate_change(\n",
    "    aggregated_data=level_2_gdf,\n",
    "    magnitude_change=\"change_mar_2019_2020_magnitude\",\n",
    "    percent_change=\"change_mar_2019_2020_percent\",\n",
    "    vector_boundary=south_korea_level_2_geometry,\n",
    "    plot_vector=False,\n",
    "    super_title=\"South Korea Nitrogen Dioxide Change, March 2019 to March 2020\",\n",
    "    data_source=\"European Space Agency\",\n",
    ")\n",
    "\n",
    "# Export figure\n",
    "outpath = os.path.join(\n",
    "    \"04-graphics-outputs\",\n",
    "    \"spatial-plots\",\n",
    "    \"south-korea\",\n",
    "    \"south-korea-no2-aggregate-level-2-mean-change-mar-2019-2020.png\",\n",
    ")\n",
    "\n",
    "rd.save_figure(outpath)"
   ]
  },
  {
   "cell_type": "code",
   "execution_count": null,
   "metadata": {
    "ExecuteTime": {
     "end_time": "2020-11-03T16:46:25.937883Z",
     "start_time": "2020-11-03T16:46:19.767564Z"
    }
   },
   "outputs": [],
   "source": [
    "# Plot and export April 2019-2020 change\n",
    "plot_aggregate_change(\n",
    "    aggregated_data=level_2_gdf,\n",
    "    magnitude_change=\"change_apr_2019_2020_magnitude\",\n",
    "    percent_change=\"change_apr_2019_2020_percent\",\n",
    "    vector_boundary=south_korea_level_2_geometry,\n",
    "    plot_vector=False,\n",
    "    super_title=\"South Korea Nitrogen Dioxide Change, April 2019 to April 2020\",\n",
    "    data_source=\"European Space Agency\",\n",
    ")\n",
    "\n",
    "# Export figure\n",
    "outpath = os.path.join(\n",
    "    \"04-graphics-outputs\",\n",
    "    \"spatial-plots\",\n",
    "    \"south-korea\",\n",
    "    \"south-korea-no2-aggregate-level-2-mean-change-apr-2019-2020.png\",\n",
    ")\n",
    "\n",
    "rd.save_figure(outpath)"
   ]
  },
  {
   "cell_type": "code",
   "execution_count": null,
   "metadata": {
    "ExecuteTime": {
     "end_time": "2020-11-03T16:46:31.910826Z",
     "start_time": "2020-11-03T16:46:25.940877Z"
    }
   },
   "outputs": [],
   "source": [
    "# Plot and export May 2019-2020 change\n",
    "plot_aggregate_change(\n",
    "    aggregated_data=level_2_gdf,\n",
    "    magnitude_change=\"change_may_2019_2020_magnitude\",\n",
    "    percent_change=\"change_may_2019_2020_percent\",\n",
    "    vector_boundary=south_korea_level_2_geometry,\n",
    "    plot_vector=False,\n",
    "    super_title=\"South Korea Nitrogen Dioxide Change, May 2019 to May 2020\",\n",
    "    data_source=\"European Space Agency\",\n",
    ")\n",
    "\n",
    "# Export figure\n",
    "outpath = os.path.join(\n",
    "    \"04-graphics-outputs\",\n",
    "    \"spatial-plots\",\n",
    "    \"south-korea\",\n",
    "    \"south-korea-no2-aggregate-level-2-mean-change-may-2019-2020.png\",\n",
    ")\n",
    "\n",
    "rd.save_figure(outpath)"
   ]
  },
  {
   "cell_type": "code",
   "execution_count": null,
   "metadata": {
    "ExecuteTime": {
     "end_time": "2020-11-03T16:46:38.146862Z",
     "start_time": "2020-11-03T16:46:31.910826Z"
    }
   },
   "outputs": [],
   "source": [
    "# Plot and export June 2019-2020 change\n",
    "plot_aggregate_change(\n",
    "    aggregated_data=level_2_gdf,\n",
    "    magnitude_change=\"change_jun_2019_2020_magnitude\",\n",
    "    percent_change=\"change_jun_2019_2020_percent\",\n",
    "    vector_boundary=south_korea_level_2_geometry,\n",
    "    plot_vector=False,\n",
    "    super_title=\"South Korea Nitrogen Dioxide Change, June 2019 to June 2020\",\n",
    "    data_source=\"European Space Agency\",\n",
    ")\n",
    "\n",
    "# Export figure\n",
    "outpath = os.path.join(\n",
    "    \"04-graphics-outputs\",\n",
    "    \"spatial-plots\",\n",
    "    \"south-korea\",\n",
    "    \"south-korea-no2-aggregate-level-2-mean-change-jun-2019-2020.png\",\n",
    ")\n",
    "\n",
    "rd.save_figure(outpath)"
   ]
  },
  {
   "cell_type": "code",
   "execution_count": null,
   "metadata": {
    "ExecuteTime": {
     "end_time": "2020-11-03T16:46:44.199619Z",
     "start_time": "2020-11-03T16:46:38.146862Z"
    },
    "scrolled": false
   },
   "outputs": [],
   "source": [
    "# Plot and export July 2019-2020 change\n",
    "plot_aggregate_change(\n",
    "    aggregated_data=level_2_gdf,\n",
    "    magnitude_change=\"change_jul_2019_2020_magnitude\",\n",
    "    percent_change=\"change_jul_2019_2020_percent\",\n",
    "    vector_boundary=south_korea_level_2_geometry,\n",
    "    plot_vector=False,\n",
    "    super_title=\"South Korea Nitrogen Dioxide Change, July 2019 to July 2020\",\n",
    "    data_source=\"European Space Agency\",\n",
    ")\n",
    "\n",
    "# Export figure\n",
    "outpath = os.path.join(\n",
    "    \"04-graphics-outputs\",\n",
    "    \"spatial-plots\",\n",
    "    \"south-korea\",\n",
    "    \"south-korea-no2-aggregate-level-2-mean-change-jul-2019-2020.png\",\n",
    ")\n",
    "\n",
    "rd.save_figure(outpath)"
   ]
  },
  {
   "cell_type": "code",
   "execution_count": null,
   "metadata": {},
   "outputs": [],
   "source": []
  },
  {
   "cell_type": "code",
   "execution_count": null,
   "metadata": {},
   "outputs": [],
   "source": []
  },
  {
   "cell_type": "code",
   "execution_count": null,
   "metadata": {
    "ExecuteTime": {
     "end_time": "2020-11-03T16:45:18.674527Z",
     "start_time": "2020-11-03T16:45:12.964270Z"
    }
   },
   "outputs": [],
   "source": [
    "# Plot and export March 2019-2020 change\n",
    "plot_aggregate_change(\n",
    "    aggregated_data=level_1_gdf,  # gdf\n",
    "    magnitude_change=\"change_mar_2019_2020_magnitude\",  # str\n",
    "    percent_change=\"change_mar_2019_2020_percent\",  # str\n",
    "    vector_boundary=south_korea_level_1_geometry,  # gdf\n",
    "    plot_vector=False,\n",
    "    super_title=\"South Korea Nitrogen Dioxide Change, March 2019 to March 2020\",\n",
    "    data_source=\"European Space Agency\",\n",
    ")\n",
    "\n",
    "# plt.show()\n",
    "\n",
    "# Export figure\n",
    "outpath = os.path.join(\n",
    "    \"04-graphics-outputs\",\n",
    "    \"spatial-plots\",\n",
    "    \"south-korea\",\n",
    "    \"south-korea-no2-aggregate-level-1-mean-change-mar-2019-2020.png\",\n",
    ")\n",
    "\n",
    "rd.save_figure(outpath)"
   ]
  },
  {
   "cell_type": "code",
   "execution_count": null,
   "metadata": {
    "ExecuteTime": {
     "end_time": "2020-11-03T16:45:23.684606Z",
     "start_time": "2020-11-03T16:45:18.674527Z"
    }
   },
   "outputs": [],
   "source": [
    "# Plot March 2019-2020 change\n",
    "plot_aggregate_change(\n",
    "    aggregated_data=level_1_gdf,  # gdf\n",
    "    magnitude_change=\"change_mar_2019_2020_magnitude\",  # str\n",
    "    percent_change=\"change_mar_2019_2020_percent\",  # str\n",
    "    vector_boundary=south_korea_level_1_geometry,  # gdf\n",
    "    plot_vector=False,\n",
    "    super_title=\"South Korea Nitrogen Dioxide Change, March 2019 to March 2020\",\n",
    "    data_source=\"European Space Agency\",\n",
    ")\n",
    "\n",
    "# plt.show()\n",
    "\n",
    "# Export figure\n",
    "outpath = os.path.join(\n",
    "    \"04-graphics-outputs\",\n",
    "    \"spatial-plots\",\n",
    "    \"south-korea\",\n",
    "    \"south-korea-no2-aggregate-level-1-mean-change-mar-2019-2020.png\",\n",
    ")\n",
    "\n",
    "rd.save_figure(outpath)"
   ]
  },
  {
   "cell_type": "markdown",
   "metadata": {},
   "source": [
    "## Hexagon Grid"
   ]
  },
  {
   "cell_type": "code",
   "execution_count": null,
   "metadata": {
    "ExecuteTime": {
     "end_time": "2020-11-03T16:45:29.575455Z",
     "start_time": "2020-11-03T16:45:23.684606Z"
    },
    "scrolled": false
   },
   "outputs": [],
   "source": [
    "# Plot and export July 2018-2019 change\n",
    "plot_aggregate_change(\n",
    "    aggregated_data=hexagon_grid_gdf,\n",
    "    magnitude_change=\"change_jul_2018_2019_magnitude\",\n",
    "    percent_change=\"change_jul_2018_2019_percent\",\n",
    "    vector_boundary=south_korea_level_1_geometry,\n",
    "    plot_vector=True,\n",
    "    super_title=\"South Korea Nitrogen Dioxide Change, July 2018 to July 2019\",\n",
    "    data_source=\"European Space Agency\",\n",
    ")\n",
    "\n",
    "# Export figure\n",
    "outpath = os.path.join(\n",
    "    \"04-graphics-outputs\",\n",
    "    \"spatial-plots\",\n",
    "    \"south-korea\",\n",
    "    \"south-korea-no2-aggregate-hexagon-grid-mean-change-jul-2018-2019.png\",\n",
    ")\n",
    "\n",
    "rd.save_figure(outpath)"
   ]
  },
  {
   "cell_type": "code",
   "execution_count": null,
   "metadata": {
    "ExecuteTime": {
     "end_time": "2020-11-03T16:45:36.198139Z",
     "start_time": "2020-11-03T16:45:29.575455Z"
    }
   },
   "outputs": [],
   "source": [
    "# Plot and export August 2018-2019 change\n",
    "plot_aggregate_change(\n",
    "    aggregated_data=hexagon_grid_gdf,\n",
    "    magnitude_change=\"change_aug_2018_2019_magnitude\",\n",
    "    percent_change=\"change_aug_2018_2019_percent\",\n",
    "    vector_boundary=south_korea_level_1_geometry,\n",
    "    plot_vector=True,\n",
    "    super_title=\"South Korea Nitrogen Dioxide Change, August 2018 to August 2019\",\n",
    "    data_source=\"European Space Agency\",\n",
    ")\n",
    "\n",
    "# Export figure\n",
    "outpath = os.path.join(\n",
    "    \"04-graphics-outputs\",\n",
    "    \"spatial-plots\",\n",
    "    \"south-korea\",\n",
    "    \"south-korea-no2-aggregate-hexagon-grid-mean-change-aug-2018-2019.png\",\n",
    ")\n",
    "\n",
    "rd.save_figure(outpath)"
   ]
  },
  {
   "cell_type": "code",
   "execution_count": null,
   "metadata": {
    "ExecuteTime": {
     "end_time": "2020-11-03T16:45:42.331506Z",
     "start_time": "2020-11-03T16:45:36.200130Z"
    }
   },
   "outputs": [],
   "source": [
    "# Plot and export September 2018-2019 change\n",
    "plot_aggregate_change(\n",
    "    aggregated_data=hexagon_grid_gdf,\n",
    "    magnitude_change=\"change_sep_2018_2019_magnitude\",\n",
    "    percent_change=\"change_sep_2018_2019_percent\",\n",
    "    vector_boundary=south_korea_level_1_geometry,\n",
    "    plot_vector=True,\n",
    "    super_title=\"South Korea Nitrogen Dioxide Change, September 2018 to September 2019\",\n",
    "    data_source=\"European Space Agency\",\n",
    ")\n",
    "\n",
    "# Export figure\n",
    "outpath = os.path.join(\n",
    "    \"04-graphics-outputs\",\n",
    "    \"spatial-plots\",\n",
    "    \"south-korea\",\n",
    "    \"south-korea-no2-aggregate-hexagon-grid-mean-change-sep-2018-2019.png\",\n",
    ")\n",
    "\n",
    "rd.save_figure(outpath)"
   ]
  },
  {
   "cell_type": "code",
   "execution_count": null,
   "metadata": {
    "ExecuteTime": {
     "end_time": "2020-11-03T16:45:49.065605Z",
     "start_time": "2020-11-03T16:45:42.331506Z"
    }
   },
   "outputs": [],
   "source": [
    "# Plot and export October 2018-2019 change\n",
    "plot_aggregate_change(\n",
    "    aggregated_data=hexagon_grid_gdf,\n",
    "    magnitude_change=\"change_oct_2018_2019_magnitude\",\n",
    "    percent_change=\"change_oct_2018_2019_percent\",\n",
    "    vector_boundary=south_korea_level_1_geometry,\n",
    "    plot_vector=True,\n",
    "    super_title=\"South Korea Nitrogen Dioxide Change, October 2018 to October 2019\",\n",
    "    data_source=\"European Space Agency\",\n",
    ")\n",
    "\n",
    "# Export figure\n",
    "outpath = os.path.join(\n",
    "    \"04-graphics-outputs\",\n",
    "    \"spatial-plots\",\n",
    "    \"south-korea\",\n",
    "    \"south-korea-no2-aggregate-hexagon-grid-mean-change-oct-2018-2019.png\",\n",
    ")\n",
    "\n",
    "rd.save_figure(outpath)"
   ]
  },
  {
   "cell_type": "code",
   "execution_count": null,
   "metadata": {
    "ExecuteTime": {
     "end_time": "2020-11-03T16:45:55.232318Z",
     "start_time": "2020-11-03T16:45:49.065605Z"
    }
   },
   "outputs": [],
   "source": [
    "# Plot and export November 2018-2019 change\n",
    "plot_aggregate_change(\n",
    "    aggregated_data=hexagon_grid_gdf,\n",
    "    magnitude_change=\"change_nov_2018_2019_magnitude\",\n",
    "    percent_change=\"change_nov_2018_2019_percent\",\n",
    "    vector_boundary=south_korea_level_1_geometry,\n",
    "    plot_vector=True,\n",
    "    super_title=\"South Korea Nitrogen Dioxide Change, November 2018 to November 2019\",\n",
    "    data_source=\"European Space Agency\",\n",
    ")\n",
    "\n",
    "# Export figure\n",
    "outpath = os.path.join(\n",
    "    \"04-graphics-outputs\",\n",
    "    \"spatial-plots\",\n",
    "    \"south-korea\",\n",
    "    \"south-korea-no2-aggregate-hexagon-grid-mean-change-nov-2018-2019.png\",\n",
    ")\n",
    "\n",
    "rd.save_figure(outpath)"
   ]
  },
  {
   "cell_type": "code",
   "execution_count": null,
   "metadata": {
    "ExecuteTime": {
     "end_time": "2020-11-03T16:46:01.190662Z",
     "start_time": "2020-11-03T16:45:55.232318Z"
    }
   },
   "outputs": [],
   "source": [
    "# Plot and export December 2018-2019 change\n",
    "plot_aggregate_change(\n",
    "    aggregated_data=hexagon_grid_gdf,\n",
    "    magnitude_change=\"change_dec_2018_2019_magnitude\",\n",
    "    percent_change=\"change_dec_2018_2019_percent\",\n",
    "    vector_boundary=south_korea_level_1_geometry,\n",
    "    plot_vector=True,\n",
    "    super_title=\"South Korea Nitrogen Dioxide Change, December 2018 to December 2019\",\n",
    "    data_source=\"European Space Agency\",\n",
    ")\n",
    "\n",
    "# Export figure\n",
    "outpath = os.path.join(\n",
    "    \"04-graphics-outputs\",\n",
    "    \"spatial-plots\",\n",
    "    \"south-korea\",\n",
    "    \"south-korea-no2-aggregate-hexagon-grid-mean-change-dec-2018-2019.png\",\n",
    ")\n",
    "\n",
    "rd.save_figure(outpath)"
   ]
  },
  {
   "cell_type": "code",
   "execution_count": null,
   "metadata": {
    "ExecuteTime": {
     "end_time": "2020-11-03T16:46:07.271856Z",
     "start_time": "2020-11-03T16:46:01.190662Z"
    }
   },
   "outputs": [],
   "source": [
    "# Plot and export January 2019-2020 change\n",
    "plot_aggregate_change(\n",
    "    aggregated_data=hexagon_grid_gdf,\n",
    "    magnitude_change=\"change_jan_2019_2020_magnitude\",\n",
    "    percent_change=\"change_jan_2019_2020_percent\",\n",
    "    vector_boundary=south_korea_level_1_geometry,\n",
    "    plot_vector=True,\n",
    "    super_title=\"South Korea Nitrogen Dioxide Change, January 2019 to January 2020\",\n",
    "    data_source=\"European Space Agency\",\n",
    ")\n",
    "\n",
    "# Export figure\n",
    "outpath = os.path.join(\n",
    "    \"04-graphics-outputs\",\n",
    "    \"spatial-plots\",\n",
    "    \"south-korea\",\n",
    "    \"south-korea-no2-aggregate-hexagon-grid-mean-change-jan-2019-2020.png\",\n",
    ")\n",
    "\n",
    "rd.save_figure(outpath)"
   ]
  },
  {
   "cell_type": "code",
   "execution_count": null,
   "metadata": {
    "ExecuteTime": {
     "end_time": "2020-11-03T16:46:13.170802Z",
     "start_time": "2020-11-03T16:46:07.271856Z"
    }
   },
   "outputs": [],
   "source": [
    "# Plot and export February 2019-2020 change\n",
    "plot_aggregate_change(\n",
    "    aggregated_data=hexagon_grid_gdf,\n",
    "    magnitude_change=\"change_feb_2019_2020_magnitude\",\n",
    "    percent_change=\"change_feb_2019_2020_percent\",\n",
    "    vector_boundary=south_korea_level_1_geometry,\n",
    "    plot_vector=True,\n",
    "    super_title=\"South Korea Nitrogen Dioxide Change, February 2019 to February 2020\",\n",
    "    data_source=\"European Space Agency\",\n",
    ")\n",
    "\n",
    "# Export figure\n",
    "outpath = os.path.join(\n",
    "    \"04-graphics-outputs\",\n",
    "    \"spatial-plots\",\n",
    "    \"south-korea\",\n",
    "    \"south-korea-no2-aggregate-hexagon-grid-mean-change-feb-2019-2020.png\",\n",
    ")\n",
    "\n",
    "rd.save_figure(outpath)"
   ]
  },
  {
   "cell_type": "code",
   "execution_count": null,
   "metadata": {
    "ExecuteTime": {
     "end_time": "2020-11-03T16:46:19.764571Z",
     "start_time": "2020-11-03T16:46:13.170802Z"
    }
   },
   "outputs": [],
   "source": [
    "# Plot and export March 2019-2020 change\n",
    "plot_aggregate_change(\n",
    "    aggregated_data=hexagon_grid_gdf,\n",
    "    magnitude_change=\"change_mar_2019_2020_magnitude\",\n",
    "    percent_change=\"change_mar_2019_2020_percent\",\n",
    "    vector_boundary=south_korea_level_1_geometry,\n",
    "    plot_vector=True,\n",
    "    super_title=\"South Korea Nitrogen Dioxide Change, March 2019 to March 2020\",\n",
    "    data_source=\"European Space Agency\",\n",
    ")\n",
    "\n",
    "# Export figure\n",
    "outpath = os.path.join(\n",
    "    \"04-graphics-outputs\",\n",
    "    \"spatial-plots\",\n",
    "    \"south-korea\",\n",
    "    \"south-korea-no2-aggregate-hexagon-grid-mean-change-mar-2019-2020.png\",\n",
    ")\n",
    "\n",
    "rd.save_figure(outpath)"
   ]
  },
  {
   "cell_type": "code",
   "execution_count": null,
   "metadata": {
    "ExecuteTime": {
     "end_time": "2020-11-03T16:46:25.937883Z",
     "start_time": "2020-11-03T16:46:19.767564Z"
    }
   },
   "outputs": [],
   "source": [
    "# Plot and export April 2019-2020 change\n",
    "plot_aggregate_change(\n",
    "    aggregated_data=hexagon_grid_gdf,\n",
    "    magnitude_change=\"change_apr_2019_2020_magnitude\",\n",
    "    percent_change=\"change_apr_2019_2020_percent\",\n",
    "    vector_boundary=south_korea_level_1_geometry,\n",
    "    plot_vector=True,\n",
    "    super_title=\"South Korea Nitrogen Dioxide Change, April 2019 to April 2020\",\n",
    "    data_source=\"European Space Agency\",\n",
    ")\n",
    "\n",
    "# Export figure\n",
    "outpath = os.path.join(\n",
    "    \"04-graphics-outputs\",\n",
    "    \"spatial-plots\",\n",
    "    \"south-korea\",\n",
    "    \"south-korea-no2-aggregate-hexagon-grid-mean-change-apr-2019-2020.png\",\n",
    ")\n",
    "\n",
    "rd.save_figure(outpath)"
   ]
  },
  {
   "cell_type": "code",
   "execution_count": null,
   "metadata": {
    "ExecuteTime": {
     "end_time": "2020-11-03T16:46:31.910826Z",
     "start_time": "2020-11-03T16:46:25.940877Z"
    }
   },
   "outputs": [],
   "source": [
    "# Plot and export May 2019-2020 change\n",
    "plot_aggregate_change(\n",
    "    aggregated_data=hexagon_grid_gdf,\n",
    "    magnitude_change=\"change_may_2019_2020_magnitude\",\n",
    "    percent_change=\"change_may_2019_2020_percent\",\n",
    "    vector_boundary=south_korea_level_1_geometry,\n",
    "    plot_vector=True,\n",
    "    super_title=\"South Korea Nitrogen Dioxide Change, May 2019 to May 2020\",\n",
    "    data_source=\"European Space Agency\",\n",
    ")\n",
    "\n",
    "# Export figure\n",
    "outpath = os.path.join(\n",
    "    \"04-graphics-outputs\",\n",
    "    \"spatial-plots\",\n",
    "    \"south-korea\",\n",
    "    \"south-korea-no2-aggregate-hexagon-grid-mean-change-may-2019-2020.png\",\n",
    ")\n",
    "\n",
    "rd.save_figure(outpath)"
   ]
  },
  {
   "cell_type": "code",
   "execution_count": null,
   "metadata": {
    "ExecuteTime": {
     "end_time": "2020-11-03T16:46:38.146862Z",
     "start_time": "2020-11-03T16:46:31.910826Z"
    }
   },
   "outputs": [],
   "source": [
    "# Plot and export June 2019-2020 change\n",
    "plot_aggregate_change(\n",
    "    aggregated_data=hexagon_grid_gdf,\n",
    "    magnitude_change=\"change_jun_2019_2020_magnitude\",\n",
    "    percent_change=\"change_jun_2019_2020_percent\",\n",
    "    vector_boundary=south_korea_level_1_geometry,\n",
    "    plot_vector=True,\n",
    "    super_title=\"South Korea Nitrogen Dioxide Change, June 2019 to June 2020\",\n",
    "    data_source=\"European Space Agency\",\n",
    ")\n",
    "\n",
    "# Export figure\n",
    "outpath = os.path.join(\n",
    "    \"04-graphics-outputs\",\n",
    "    \"spatial-plots\",\n",
    "    \"south-korea\",\n",
    "    \"south-korea-no2-aggregate-hexagon-grid-mean-change-jun-2019-2020.png\",\n",
    ")\n",
    "\n",
    "rd.save_figure(outpath)"
   ]
  },
  {
   "cell_type": "code",
   "execution_count": null,
   "metadata": {
    "ExecuteTime": {
     "end_time": "2020-11-03T16:46:44.199619Z",
     "start_time": "2020-11-03T16:46:38.146862Z"
    }
   },
   "outputs": [],
   "source": [
    "# Plot and export July 2019-2020 change\n",
    "plot_aggregate_change(\n",
    "    aggregated_data=hexagon_grid_gdf,\n",
    "    magnitude_change=\"change_jul_2019_2020_magnitude\",\n",
    "    percent_change=\"change_jul_2019_2020_percent\",\n",
    "    vector_boundary=south_korea_level_1_geometry,\n",
    "    plot_vector=True,\n",
    "    super_title=\"South Korea Nitrogen Dioxide Change, July 2019 to July 2020\",\n",
    "    data_source=\"European Space Agency\",\n",
    ")\n",
    "\n",
    "# Export figure\n",
    "outpath = os.path.join(\n",
    "    \"04-graphics-outputs\",\n",
    "    \"spatial-plots\",\n",
    "    \"south-korea\",\n",
    "    \"south-korea-no2-aggregate-hexagon-grid-mean-change-jul-2019-2020.png\",\n",
    ")\n",
    "\n",
    "rd.save_figure(outpath)"
   ]
  },
  {
   "cell_type": "markdown",
   "metadata": {},
   "source": [
    "# Data Export"
   ]
  },
  {
   "cell_type": "code",
   "execution_count": null,
   "metadata": {},
   "outputs": [],
   "source": []
  }
 ],
 "metadata": {
  "hide_input": false,
  "kernelspec": {
   "display_name": "Python 3",
   "language": "python",
   "name": "python3"
  },
  "language_info": {
   "codemirror_mode": {
    "name": "ipython",
    "version": 3
   },
   "file_extension": ".py",
   "mimetype": "text/x-python",
   "name": "python",
   "nbconvert_exporter": "python",
   "pygments_lexer": "ipython3",
   "version": "3.7.6"
  },
  "toc": {
   "base_numbering": 1,
   "nav_menu": {},
   "number_sections": true,
   "sideBar": true,
   "skip_h1_title": false,
   "title_cell": "Table of Contents",
   "title_sidebar": "Contents",
   "toc_cell": false,
   "toc_position": {
    "height": "calc(100% - 180px)",
    "left": "10px",
    "top": "150px",
    "width": "307.2px"
   },
   "toc_section_display": true,
   "toc_window_display": true
  },
  "varInspector": {
   "cols": {
    "lenName": 16,
    "lenType": 16,
    "lenVar": 40
   },
   "kernels_config": {
    "python": {
     "delete_cmd_postfix": "",
     "delete_cmd_prefix": "del ",
     "library": "var_list.py",
     "varRefreshCmd": "print(var_dic_list())"
    },
    "r": {
     "delete_cmd_postfix": ") ",
     "delete_cmd_prefix": "rm(",
     "library": "var_list.r",
     "varRefreshCmd": "cat(var_dic_list()) "
    }
   },
   "types_to_exclude": [
    "module",
    "function",
    "builtin_function_or_method",
    "instance",
    "_Feature"
   ],
   "window_display": false
  }
 },
 "nbformat": 4,
 "nbformat_minor": 4
}
