{
 "cells": [
  {
   "cell_type": "markdown",
   "metadata": {},
   "source": [
    "# NO2 Data Aggregation - Plots\n",
    "\n",
    "Aggregates NO2 values by administrative boundaries and a regular hexagon grid.\n",
    "\n",
    "To convert from mol/m<sup>2</sup> to molecules/cm<sup>2</sup>, multiply by 6.022140857e+19 (6.022140857 * 10<sup>19</sup>)."
   ]
  },
  {
   "cell_type": "markdown",
   "metadata": {},
   "source": [
    "# Environment Setup"
   ]
  },
  {
   "cell_type": "code",
   "execution_count": null,
   "metadata": {
    "ExecuteTime": {
     "end_time": "2020-11-04T20:30:01.546642Z",
     "start_time": "2020-11-04T20:30:01.386698Z"
    }
   },
   "outputs": [],
   "source": [
    "# Load Notebook formatter\n",
    "%load_ext nb_black\n",
    "# %reload_ext nb_black"
   ]
  },
  {
   "cell_type": "code",
   "execution_count": null,
   "metadata": {
    "ExecuteTime": {
     "end_time": "2020-11-04T20:30:03.670797Z",
     "start_time": "2020-11-04T20:30:01.546642Z"
    }
   },
   "outputs": [],
   "source": [
    "# Import packages\n",
    "import os\n",
    "import glob\n",
    "import matplotlib.pyplot as plt\n",
    "from mpl_toolkits.axes_grid1 import make_axes_locatable\n",
    "import seaborn as sns\n",
    "import pandas as pd\n",
    "import geopandas as gpd\n",
    "import rasterio as rio\n",
    "import rasterstats as rs\n",
    "import radiance as rd\n",
    "import sentinel as stl"
   ]
  },
  {
   "cell_type": "code",
   "execution_count": null,
   "metadata": {
    "ExecuteTime": {
     "end_time": "2020-11-04T20:30:03.687736Z",
     "start_time": "2020-11-04T20:30:03.673773Z"
    }
   },
   "outputs": [],
   "source": [
    "# Set Options\n",
    "# sns.set(font_scale=1.5, style=\"whitegrid\")\n",
    "sns.set(font_scale=1.5)\n",
    "pd.set_option(\"display.max_columns\", None)\n",
    "pd.set_option(\"precision\", 15)"
   ]
  },
  {
   "cell_type": "code",
   "execution_count": null,
   "metadata": {
    "ExecuteTime": {
     "end_time": "2020-11-04T20:30:03.704766Z",
     "start_time": "2020-11-04T20:30:03.690731Z"
    }
   },
   "outputs": [],
   "source": [
    "# Set working directory\n",
    "os.chdir(\"..\")\n",
    "print(f\"Working directory: {os.getcwd()}\")"
   ]
  },
  {
   "cell_type": "markdown",
   "metadata": {},
   "source": [
    "# User-Defined Variables"
   ]
  },
  {
   "cell_type": "code",
   "execution_count": null,
   "metadata": {
    "ExecuteTime": {
     "end_time": "2020-11-04T20:30:03.734981Z",
     "start_time": "2020-11-04T20:30:03.704766Z"
    }
   },
   "outputs": [],
   "source": [
    "# Set paths to South Korea shapefiles at levels 0, 1, and 2, and hexagon grid\n",
    "south_korea_level_0_path = os.path.join(\n",
    "    \"02-raw-data\", \"vector\", \"south-korea\", \"gadm36_south_korea.shp\"\n",
    ")\n",
    "\n",
    "south_korea_level_1_path = os.path.join(\n",
    "    \"02-raw-data\", \"vector\", \"south-korea\", \"gadm36_south_korea_level_1.shp\"\n",
    ")\n",
    "\n",
    "south_korea_level_2_path = os.path.join(\n",
    "    \"02-raw-data\", \"vector\", \"south-korea\", \"gadm36_south_korea_level_2.shp\"\n",
    ")\n",
    "\n",
    "south_korea_hexagon_grid_path = os.path.join(\n",
    "    \"03-processed-data\",\n",
    "    \"vector\",\n",
    "    \"south-korea\",\n",
    "    \"south_korea_hexagon_grid.shp\",\n",
    ")\n",
    "\n",
    "# Set path to North levels 0, 1, and 2 shapefiles\n",
    "north_korea_level_0_path = os.path.join(\n",
    "    \"02-raw-data\", \"vector\", \"north-korea\", \"gadm36_north_korea.shp\"\n",
    ")\n",
    "\n",
    "north_korea_level_1_path = os.path.join(\n",
    "    \"02-raw-data\", \"vector\", \"north-korea\", \"gadm36_north_korea_level_1.shp\"\n",
    ")\n",
    "\n",
    "north_korea_level_2_path = os.path.join(\n",
    "    \"02-raw-data\", \"vector\", \"north-korea\", \"gadm36_north_korea_level_2.shp\"\n",
    ")"
   ]
  },
  {
   "cell_type": "code",
   "execution_count": null,
   "metadata": {
    "ExecuteTime": {
     "end_time": "2020-11-04T20:30:03.756547Z",
     "start_time": "2020-11-04T20:30:03.737944Z"
    }
   },
   "outputs": [],
   "source": [
    "# Set paths to aggregated data shapfiles\n",
    "aggregate_level_1_path = os.path.join(\n",
    "    \"03-processed-data\",\n",
    "    \"vector\",\n",
    "    \"south-korea\",\n",
    "    \"aggregate_level_1_jul_2018_jul_2020.shp\",\n",
    ")\n",
    "\n",
    "aggregate_level_2_path = os.path.join(\n",
    "    \"03-processed-data\",\n",
    "    \"vector\",\n",
    "    \"south-korea\",\n",
    "    \"aggregate_level_2_jul_2018_jul_2020.shp\",\n",
    ")\n",
    "\n",
    "aggregate_hexagon_path = os.path.join(\n",
    "    \"03-processed-data\",\n",
    "    \"vector\",\n",
    "    \"south-korea\",\n",
    "    \"aggregate_hexagon_grid_jul_2018_jul_2020.shp\",\n",
    ")"
   ]
  },
  {
   "cell_type": "code",
   "execution_count": null,
   "metadata": {
    "ExecuteTime": {
     "end_time": "2020-11-04T20:30:03.774699Z",
     "start_time": "2020-11-04T20:30:03.759681Z"
    }
   },
   "outputs": [],
   "source": [
    "# Set folder to NO2 rasters\n",
    "no2_folder = os.path.join(\n",
    "    \"03-processed-data\", \"raster\", \"south-korea\", \"statistics\", \"monthly\",\n",
    ")"
   ]
  },
  {
   "cell_type": "markdown",
   "metadata": {},
   "source": [
    "# Data Acquisition and Preprocessing"
   ]
  },
  {
   "cell_type": "code",
   "execution_count": null,
   "metadata": {
    "ExecuteTime": {
     "end_time": "2020-11-04T20:30:04.613030Z",
     "start_time": "2020-11-04T20:30:03.774699Z"
    }
   },
   "outputs": [],
   "source": [
    "# Get geodataframes with geometry only (for plotting)\n",
    "south_korea_level_0_geometry = stl.get_geometry(south_korea_level_0_path)\n",
    "south_korea_level_1_geometry = stl.get_geometry(south_korea_level_1_path)\n",
    "south_korea_level_2_geometry = stl.get_geometry(south_korea_level_2_path)\n",
    "south_korea_hexagon_grid_geometry = stl.get_geometry(\n",
    "    south_korea_hexagon_grid_path\n",
    ")\n",
    "north_korea_level_0_geometry = stl.get_geometry(north_korea_level_0_path)\n",
    "north_korea_level_1_geometry = stl.get_geometry(north_korea_level_1_path)\n",
    "north_korea_level_2_geometry = stl.get_geometry(north_korea_level_2_path)"
   ]
  },
  {
   "cell_type": "code",
   "execution_count": null,
   "metadata": {
    "ExecuteTime": {
     "end_time": "2020-11-04T20:30:10.390684Z",
     "start_time": "2020-11-04T20:30:04.616038Z"
    }
   },
   "outputs": [],
   "source": [
    "# Get all NO2 means into list\n",
    "no2_means = sorted(glob.glob(os.path.join(no2_folder, \"*MEAN*tif\")))\n",
    "\n",
    "# Extract plotting extent\n",
    "south_korea_extent = stl.extract_plotting_extent(no2_means[0])\n",
    "\n",
    "# Create extent polygon\n",
    "south_korea_polygon = stl.create_polygon_from_extent(south_korea_extent)\n",
    "\n",
    "# Clip North Korea to South Korea extent polygon\n",
    "north_korea_level_0_clipped = gpd.clip(\n",
    "    gpd.GeoDataFrame(\n",
    "        geometry=[south_korea_polygon], crs=north_korea_level_0_geometry.crs\n",
    "    ),\n",
    "    north_korea_level_0_geometry,\n",
    ")\n",
    "\n",
    "north_korea_level_1_clipped = gpd.clip(\n",
    "    gpd.GeoDataFrame(\n",
    "        geometry=[south_korea_polygon], crs=north_korea_level_1_geometry.crs\n",
    "    ),\n",
    "    north_korea_level_1_geometry,\n",
    ")"
   ]
  },
  {
   "cell_type": "code",
   "execution_count": null,
   "metadata": {
    "ExecuteTime": {
     "end_time": "2020-11-04T20:30:10.840574Z",
     "start_time": "2020-11-04T20:30:10.392680Z"
    }
   },
   "outputs": [],
   "source": [
    "# Read aggregated shapefiles into geodataframes\n",
    "south_korea_level_1_gdf = gpd.read_file(aggregate_level_1_path)\n",
    "south_korea_level_2_gdf = gpd.read_file(aggregate_level_2_path)\n",
    "hexagon_grid_gdf = gpd.read_file(aggregate_hexagon_path)"
   ]
  },
  {
   "cell_type": "code",
   "execution_count": null,
   "metadata": {
    "ExecuteTime": {
     "end_time": "2020-11-04T20:30:10.916703Z",
     "start_time": "2020-11-04T20:30:10.840574Z"
    }
   },
   "outputs": [],
   "source": [
    "# Restore original column names (shorted by export to shapefile)\n",
    "level_1_gdf = south_korea_level_1_gdf.rename(\n",
    "    columns={\n",
    "        # Magnitude\n",
    "        \"change_jul\": \"change_jul_2018_2019_magnitude\",\n",
    "        \"change_aug\": \"change_aug_2018_2019_magnitude\",\n",
    "        \"change_sep\": \"change_sep_2018_2019_magnitude\",\n",
    "        \"change_oct\": \"change_oct_2018_2019_magnitude\",\n",
    "        \"change_nov\": \"change_nov_2018_2019_magnitude\",\n",
    "        \"change_dec\": \"change_dec_2018_2019_magnitude\",\n",
    "        \"change_jan\": \"change_jan_2019_2020_magnitude\",\n",
    "        \"change_feb\": \"change_feb_2019_2020_magnitude\",\n",
    "        \"change_mar\": \"change_mar_2019_2020_magnitude\",\n",
    "        \"change_apr\": \"change_apr_2019_2020_magnitude\",\n",
    "        \"change_may\": \"change_may_2019_2020_magnitude\",\n",
    "        \"change_jun\": \"change_jun_2019_2020_magnitude\",\n",
    "        \"change_j_1\": \"change_jul_2019_2020_magnitude\",\n",
    "        # Percent\n",
    "        \"change_j_2\": \"change_jul_2018_2019_percent\",\n",
    "        \"change_a_1\": \"change_aug_2018_2019_percent\",\n",
    "        \"change_s_1\": \"change_sep_2018_2019_percent\",\n",
    "        \"change_o_1\": \"change_oct_2018_2019_percent\",\n",
    "        \"change_n_1\": \"change_nov_2018_2019_percent\",\n",
    "        \"change_d_1\": \"change_dec_2018_2019_percent\",\n",
    "        \"change_j_3\": \"change_jan_2019_2020_percent\",\n",
    "        \"change_f_1\": \"change_feb_2019_2020_percent\",\n",
    "        \"change_m_1\": \"change_mar_2019_2020_percent\",\n",
    "        \"change_a_2\": \"change_apr_2019_2020_percent\",\n",
    "        \"change_m_2\": \"change_may_2019_2020_percent\",\n",
    "        \"change_j_4\": \"change_jun_2019_2020_percent\",\n",
    "        \"change_j_5\": \"change_jul_2019_2020_percent\",\n",
    "    }\n",
    ")\n",
    "\n",
    "level_2_gdf = south_korea_level_2_gdf.rename(\n",
    "    columns={\n",
    "        # Magnitude\n",
    "        \"change_jul\": \"change_jul_2018_2019_magnitude\",\n",
    "        \"change_aug\": \"change_aug_2018_2019_magnitude\",\n",
    "        \"change_sep\": \"change_sep_2018_2019_magnitude\",\n",
    "        \"change_oct\": \"change_oct_2018_2019_magnitude\",\n",
    "        \"change_nov\": \"change_nov_2018_2019_magnitude\",\n",
    "        \"change_dec\": \"change_dec_2018_2019_magnitude\",\n",
    "        \"change_jan\": \"change_jan_2019_2020_magnitude\",\n",
    "        \"change_feb\": \"change_feb_2019_2020_magnitude\",\n",
    "        \"change_mar\": \"change_mar_2019_2020_magnitude\",\n",
    "        \"change_apr\": \"change_apr_2019_2020_magnitude\",\n",
    "        \"change_may\": \"change_may_2019_2020_magnitude\",\n",
    "        \"change_jun\": \"change_jun_2019_2020_magnitude\",\n",
    "        \"change_j_1\": \"change_jul_2019_2020_magnitude\",\n",
    "        # Percent\n",
    "        \"change_j_2\": \"change_jul_2018_2019_percent\",\n",
    "        \"change_a_1\": \"change_aug_2018_2019_percent\",\n",
    "        \"change_s_1\": \"change_sep_2018_2019_percent\",\n",
    "        \"change_o_1\": \"change_oct_2018_2019_percent\",\n",
    "        \"change_n_1\": \"change_nov_2018_2019_percent\",\n",
    "        \"change_d_1\": \"change_dec_2018_2019_percent\",\n",
    "        \"change_j_3\": \"change_jan_2019_2020_percent\",\n",
    "        \"change_f_1\": \"change_feb_2019_2020_percent\",\n",
    "        \"change_m_1\": \"change_mar_2019_2020_percent\",\n",
    "        \"change_a_2\": \"change_apr_2019_2020_percent\",\n",
    "        \"change_m_2\": \"change_may_2019_2020_percent\",\n",
    "        \"change_j_4\": \"change_jun_2019_2020_percent\",\n",
    "        \"change_j_5\": \"change_jul_2019_2020_percent\",\n",
    "    }\n",
    ")\n",
    "\n",
    "hexagon_grid_gdf = hexagon_grid_gdf.rename(\n",
    "    columns={\n",
    "        # Magnitude\n",
    "        \"change_jul\": \"change_jul_2018_2019_magnitude\",\n",
    "        \"change_aug\": \"change_aug_2018_2019_magnitude\",\n",
    "        \"change_sep\": \"change_sep_2018_2019_magnitude\",\n",
    "        \"change_oct\": \"change_oct_2018_2019_magnitude\",\n",
    "        \"change_nov\": \"change_nov_2018_2019_magnitude\",\n",
    "        \"change_dec\": \"change_dec_2018_2019_magnitude\",\n",
    "        \"change_jan\": \"change_jan_2019_2020_magnitude\",\n",
    "        \"change_feb\": \"change_feb_2019_2020_magnitude\",\n",
    "        \"change_mar\": \"change_mar_2019_2020_magnitude\",\n",
    "        \"change_apr\": \"change_apr_2019_2020_magnitude\",\n",
    "        \"change_may\": \"change_may_2019_2020_magnitude\",\n",
    "        \"change_jun\": \"change_jun_2019_2020_magnitude\",\n",
    "        \"change_j_1\": \"change_jul_2019_2020_magnitude\",\n",
    "        # Percent\n",
    "        \"change_j_2\": \"change_jul_2018_2019_percent\",\n",
    "        \"change_a_1\": \"change_aug_2018_2019_percent\",\n",
    "        \"change_s_1\": \"change_sep_2018_2019_percent\",\n",
    "        \"change_o_1\": \"change_oct_2018_2019_percent\",\n",
    "        \"change_n_1\": \"change_nov_2018_2019_percent\",\n",
    "        \"change_d_1\": \"change_dec_2018_2019_percent\",\n",
    "        \"change_j_3\": \"change_jan_2019_2020_percent\",\n",
    "        \"change_f_1\": \"change_feb_2019_2020_percent\",\n",
    "        \"change_m_1\": \"change_mar_2019_2020_percent\",\n",
    "        \"change_a_2\": \"change_apr_2019_2020_percent\",\n",
    "        \"change_m_2\": \"change_may_2019_2020_percent\",\n",
    "        \"change_j_4\": \"change_jun_2019_2020_percent\",\n",
    "        \"change_j_5\": \"change_jul_2019_2020_percent\",\n",
    "    }\n",
    ")"
   ]
  },
  {
   "cell_type": "markdown",
   "metadata": {},
   "source": [
    "# Data Processing"
   ]
  },
  {
   "cell_type": "code",
   "execution_count": null,
   "metadata": {},
   "outputs": [],
   "source": []
  },
  {
   "cell_type": "markdown",
   "metadata": {},
   "source": [
    "# Data Post-Processing"
   ]
  },
  {
   "cell_type": "code",
   "execution_count": null,
   "metadata": {},
   "outputs": [],
   "source": []
  },
  {
   "cell_type": "markdown",
   "metadata": {},
   "source": [
    "# Data Visualization"
   ]
  },
  {
   "cell_type": "markdown",
   "metadata": {},
   "source": [
    "## Level 1 Boundaries"
   ]
  },
  {
   "cell_type": "code",
   "execution_count": null,
   "metadata": {
    "ExecuteTime": {
     "end_time": "2020-11-04T20:30:15.448116Z",
     "start_time": "2020-11-04T20:30:10.920180Z"
    },
    "scrolled": false
   },
   "outputs": [],
   "source": [
    "# Plot and export July 2018-2019 change\n",
    "stl.plot_aggregate_change(\n",
    "    aggregated_data=level_1_gdf,\n",
    "    magnitude_change=\"change_jul_2018_2019_magnitude\",\n",
    "    percent_change=\"change_jul_2018_2019_percent\",\n",
    "    vector_boundary=south_korea_level_1_geometry,\n",
    "    plot_vector=False,\n",
    "    super_title=\"South Korea Nitrogen Dioxide Change, July 2018 to July 2019\",\n",
    "    data_source=\"European Space Agency\",\n",
    ")\n",
    "\n",
    "# Export figure\n",
    "outpath = os.path.join(\n",
    "    \"04-graphics-outputs\",\n",
    "    \"spatial-plots\",\n",
    "    \"south-korea\",\n",
    "    \"south-korea-no2-aggregate-level-1-mean-change-jul-2018-2019.png\",\n",
    ")\n",
    "\n",
    "rd.save_figure(outpath)"
   ]
  },
  {
   "cell_type": "code",
   "execution_count": null,
   "metadata": {
    "ExecuteTime": {
     "end_time": "2020-11-04T20:30:20.068239Z",
     "start_time": "2020-11-04T20:30:15.451084Z"
    }
   },
   "outputs": [],
   "source": [
    "# Plot and export August 2018-2019 change\n",
    "stl.plot_aggregate_change(\n",
    "    aggregated_data=level_1_gdf,\n",
    "    magnitude_change=\"change_aug_2018_2019_magnitude\",\n",
    "    percent_change=\"change_aug_2018_2019_percent\",\n",
    "    vector_boundary=south_korea_level_1_geometry,\n",
    "    plot_vector=False,\n",
    "    super_title=\"South Korea Nitrogen Dioxide Change, August 2018 to August 2019\",\n",
    "    data_source=\"European Space Agency\",\n",
    ")\n",
    "\n",
    "# Export figure\n",
    "outpath = os.path.join(\n",
    "    \"04-graphics-outputs\",\n",
    "    \"spatial-plots\",\n",
    "    \"south-korea\",\n",
    "    \"south-korea-no2-aggregate-level-1-mean-change-aug-2018-2019.png\",\n",
    ")\n",
    "\n",
    "rd.save_figure(outpath)"
   ]
  },
  {
   "cell_type": "code",
   "execution_count": null,
   "metadata": {
    "ExecuteTime": {
     "end_time": "2020-11-04T20:30:24.780579Z",
     "start_time": "2020-11-04T20:30:20.068239Z"
    }
   },
   "outputs": [],
   "source": [
    "# Plot and export September 2018-2019 change\n",
    "stl.plot_aggregate_change(\n",
    "    aggregated_data=level_1_gdf,\n",
    "    magnitude_change=\"change_sep_2018_2019_magnitude\",\n",
    "    percent_change=\"change_sep_2018_2019_percent\",\n",
    "    vector_boundary=south_korea_level_1_geometry,\n",
    "    plot_vector=False,\n",
    "    super_title=\"South Korea Nitrogen Dioxide Change, September 2018 to September 2019\",\n",
    "    data_source=\"European Space Agency\",\n",
    ")\n",
    "\n",
    "# Export figure\n",
    "outpath = os.path.join(\n",
    "    \"04-graphics-outputs\",\n",
    "    \"spatial-plots\",\n",
    "    \"south-korea\",\n",
    "    \"south-korea-no2-aggregate-level-1-mean-change-sep-2018-2019.png\",\n",
    ")\n",
    "\n",
    "rd.save_figure(outpath)"
   ]
  },
  {
   "cell_type": "code",
   "execution_count": null,
   "metadata": {
    "ExecuteTime": {
     "end_time": "2020-11-04T20:30:29.477907Z",
     "start_time": "2020-11-04T20:30:24.780579Z"
    }
   },
   "outputs": [],
   "source": [
    "# Plot and export October 2018-2019 change\n",
    "stl.plot_aggregate_change(\n",
    "    aggregated_data=level_1_gdf,\n",
    "    magnitude_change=\"change_oct_2018_2019_magnitude\",\n",
    "    percent_change=\"change_oct_2018_2019_percent\",\n",
    "    vector_boundary=south_korea_level_1_geometry,\n",
    "    plot_vector=False,\n",
    "    super_title=\"South Korea Nitrogen Dioxide Change, October 2018 to October 2019\",\n",
    "    data_source=\"European Space Agency\",\n",
    ")\n",
    "\n",
    "# Export figure\n",
    "outpath = os.path.join(\n",
    "    \"04-graphics-outputs\",\n",
    "    \"spatial-plots\",\n",
    "    \"south-korea\",\n",
    "    \"south-korea-no2-aggregate-level-1-mean-change-oct-2018-2019.png\",\n",
    ")\n",
    "\n",
    "rd.save_figure(outpath)"
   ]
  },
  {
   "cell_type": "code",
   "execution_count": null,
   "metadata": {
    "ExecuteTime": {
     "end_time": "2020-11-04T20:30:34.299776Z",
     "start_time": "2020-11-04T20:30:29.477907Z"
    }
   },
   "outputs": [],
   "source": [
    "# Plot and export November 2018-2019 change\n",
    "stl.plot_aggregate_change(\n",
    "    aggregated_data=level_1_gdf,\n",
    "    magnitude_change=\"change_nov_2018_2019_magnitude\",\n",
    "    percent_change=\"change_nov_2018_2019_percent\",\n",
    "    vector_boundary=south_korea_level_1_geometry,\n",
    "    plot_vector=False,\n",
    "    super_title=\"South Korea Nitrogen Dioxide Change, November 2018 to November 2019\",\n",
    "    data_source=\"European Space Agency\",\n",
    ")\n",
    "\n",
    "# Export figure\n",
    "outpath = os.path.join(\n",
    "    \"04-graphics-outputs\",\n",
    "    \"spatial-plots\",\n",
    "    \"south-korea\",\n",
    "    \"south-korea-no2-aggregate-level-1-mean-change-nov-2018-2019.png\",\n",
    ")\n",
    "\n",
    "rd.save_figure(outpath)"
   ]
  },
  {
   "cell_type": "code",
   "execution_count": null,
   "metadata": {
    "ExecuteTime": {
     "end_time": "2020-11-04T20:30:39.638922Z",
     "start_time": "2020-11-04T20:30:34.299776Z"
    }
   },
   "outputs": [],
   "source": [
    "# Plot and export December 2018-2019 change\n",
    "stl.plot_aggregate_change(\n",
    "    aggregated_data=level_1_gdf,\n",
    "    magnitude_change=\"change_dec_2018_2019_magnitude\",\n",
    "    percent_change=\"change_dec_2018_2019_percent\",\n",
    "    vector_boundary=south_korea_level_1_geometry,\n",
    "    plot_vector=False,\n",
    "    super_title=\"South Korea Nitrogen Dioxide Change, December 2018 to December 2019\",\n",
    "    data_source=\"European Space Agency\",\n",
    ")\n",
    "\n",
    "# Export figure\n",
    "outpath = os.path.join(\n",
    "    \"04-graphics-outputs\",\n",
    "    \"spatial-plots\",\n",
    "    \"south-korea\",\n",
    "    \"south-korea-no2-aggregate-level-1-mean-change-dec-2018-2019.png\",\n",
    ")\n",
    "\n",
    "rd.save_figure(outpath)"
   ]
  },
  {
   "cell_type": "code",
   "execution_count": null,
   "metadata": {
    "ExecuteTime": {
     "end_time": "2020-11-04T20:30:44.522086Z",
     "start_time": "2020-11-04T20:30:39.639034Z"
    }
   },
   "outputs": [],
   "source": [
    "# Plot and export January 2019-2020 change\n",
    "stl.plot_aggregate_change(\n",
    "    aggregated_data=level_1_gdf,\n",
    "    magnitude_change=\"change_jan_2019_2020_magnitude\",\n",
    "    percent_change=\"change_jan_2019_2020_percent\",\n",
    "    vector_boundary=south_korea_level_1_geometry,\n",
    "    plot_vector=False,\n",
    "    super_title=\"South Korea Nitrogen Dioxide Change, January 2019 to January 2020\",\n",
    "    data_source=\"European Space Agency\",\n",
    ")\n",
    "\n",
    "# Export figure\n",
    "outpath = os.path.join(\n",
    "    \"04-graphics-outputs\",\n",
    "    \"spatial-plots\",\n",
    "    \"south-korea\",\n",
    "    \"south-korea-no2-aggregate-level-1-mean-change-jan-2019-2020.png\",\n",
    ")\n",
    "\n",
    "rd.save_figure(outpath)"
   ]
  },
  {
   "cell_type": "code",
   "execution_count": null,
   "metadata": {
    "ExecuteTime": {
     "end_time": "2020-11-04T20:30:49.278860Z",
     "start_time": "2020-11-04T20:30:44.522086Z"
    }
   },
   "outputs": [],
   "source": [
    "# Plot and export February 2019-2020 change\n",
    "stl.plot_aggregate_change(\n",
    "    aggregated_data=level_1_gdf,\n",
    "    magnitude_change=\"change_feb_2019_2020_magnitude\",\n",
    "    percent_change=\"change_feb_2019_2020_percent\",\n",
    "    vector_boundary=south_korea_level_1_geometry,\n",
    "    plot_vector=False,\n",
    "    super_title=\"South Korea Nitrogen Dioxide Change, February 2019 to February 2020\",\n",
    "    data_source=\"European Space Agency\",\n",
    ")\n",
    "\n",
    "# Export figure\n",
    "outpath = os.path.join(\n",
    "    \"04-graphics-outputs\",\n",
    "    \"spatial-plots\",\n",
    "    \"south-korea\",\n",
    "    \"south-korea-no2-aggregate-level-1-mean-change-feb-2019-2020.png\",\n",
    ")\n",
    "\n",
    "rd.save_figure(outpath)"
   ]
  },
  {
   "cell_type": "code",
   "execution_count": null,
   "metadata": {
    "ExecuteTime": {
     "end_time": "2020-11-04T20:30:53.711707Z",
     "start_time": "2020-11-04T20:30:49.278860Z"
    }
   },
   "outputs": [],
   "source": [
    "# Plot and export March 2019-2020 change\n",
    "stl.plot_aggregate_change(\n",
    "    aggregated_data=level_1_gdf,\n",
    "    magnitude_change=\"change_mar_2019_2020_magnitude\",\n",
    "    percent_change=\"change_mar_2019_2020_percent\",\n",
    "    vector_boundary=south_korea_level_1_geometry,\n",
    "    plot_vector=False,\n",
    "    super_title=\"South Korea Nitrogen Dioxide Change, March 2019 to March 2020\",\n",
    "    data_source=\"European Space Agency\",\n",
    ")\n",
    "\n",
    "# Export figure\n",
    "outpath = os.path.join(\n",
    "    \"04-graphics-outputs\",\n",
    "    \"spatial-plots\",\n",
    "    \"south-korea\",\n",
    "    \"south-korea-no2-aggregate-level-1-mean-change-mar-2019-2020.png\",\n",
    ")\n",
    "\n",
    "rd.save_figure(outpath)"
   ]
  },
  {
   "cell_type": "code",
   "execution_count": null,
   "metadata": {
    "ExecuteTime": {
     "end_time": "2020-11-04T20:30:58.336761Z",
     "start_time": "2020-11-04T20:30:53.711707Z"
    }
   },
   "outputs": [],
   "source": [
    "# Plot and export April 2019-2020 change\n",
    "stl.plot_aggregate_change(\n",
    "    aggregated_data=level_1_gdf,\n",
    "    magnitude_change=\"change_apr_2019_2020_magnitude\",\n",
    "    percent_change=\"change_apr_2019_2020_percent\",\n",
    "    vector_boundary=south_korea_level_1_geometry,\n",
    "    plot_vector=False,\n",
    "    super_title=\"South Korea Nitrogen Dioxide Change, April 2019 to April 2020\",\n",
    "    data_source=\"European Space Agency\",\n",
    ")\n",
    "\n",
    "# Export figure\n",
    "outpath = os.path.join(\n",
    "    \"04-graphics-outputs\",\n",
    "    \"spatial-plots\",\n",
    "    \"south-korea\",\n",
    "    \"south-korea-no2-aggregate-level-1-mean-change-apr-2019-2020.png\",\n",
    ")\n",
    "\n",
    "rd.save_figure(outpath)"
   ]
  },
  {
   "cell_type": "code",
   "execution_count": null,
   "metadata": {
    "ExecuteTime": {
     "end_time": "2020-11-04T20:31:04.876410Z",
     "start_time": "2020-11-04T20:30:58.341740Z"
    }
   },
   "outputs": [],
   "source": [
    "# Plot and export May 2019-2020 change\n",
    "stl.plot_aggregate_change(\n",
    "    aggregated_data=level_1_gdf,\n",
    "    magnitude_change=\"change_may_2019_2020_magnitude\",\n",
    "    percent_change=\"change_may_2019_2020_percent\",\n",
    "    vector_boundary=south_korea_level_1_geometry,\n",
    "    plot_vector=False,\n",
    "    super_title=\"South Korea Nitrogen Dioxide Change, May 2019 to May 2020\",\n",
    "    data_source=\"European Space Agency\",\n",
    ")\n",
    "\n",
    "# Export figure\n",
    "outpath = os.path.join(\n",
    "    \"04-graphics-outputs\",\n",
    "    \"spatial-plots\",\n",
    "    \"south-korea\",\n",
    "    \"south-korea-no2-aggregate-level-1-mean-change-may-2019-2020.png\",\n",
    ")\n",
    "\n",
    "rd.save_figure(outpath)"
   ]
  },
  {
   "cell_type": "code",
   "execution_count": null,
   "metadata": {
    "ExecuteTime": {
     "end_time": "2020-11-04T20:31:09.819639Z",
     "start_time": "2020-11-04T20:31:04.881407Z"
    }
   },
   "outputs": [],
   "source": [
    "# Plot and export June 2019-2020 change\n",
    "stl.plot_aggregate_change(\n",
    "    aggregated_data=level_1_gdf,\n",
    "    magnitude_change=\"change_jun_2019_2020_magnitude\",\n",
    "    percent_change=\"change_jun_2019_2020_percent\",\n",
    "    vector_boundary=south_korea_level_1_geometry,\n",
    "    plot_vector=False,\n",
    "    super_title=\"South Korea Nitrogen Dioxide Change, June 2019 to June 2020\",\n",
    "    data_source=\"European Space Agency\",\n",
    ")\n",
    "\n",
    "# Export figure\n",
    "outpath = os.path.join(\n",
    "    \"04-graphics-outputs\",\n",
    "    \"spatial-plots\",\n",
    "    \"south-korea\",\n",
    "    \"south-korea-no2-aggregate-level-1-mean-change-jun-2019-2020.png\",\n",
    ")\n",
    "\n",
    "rd.save_figure(outpath)"
   ]
  },
  {
   "cell_type": "code",
   "execution_count": null,
   "metadata": {
    "ExecuteTime": {
     "end_time": "2020-11-04T20:31:15.636580Z",
     "start_time": "2020-11-04T20:31:09.819639Z"
    }
   },
   "outputs": [],
   "source": [
    "# Plot and export July 2019-2020 change\n",
    "stl.plot_aggregate_change(\n",
    "    aggregated_data=level_1_gdf,\n",
    "    magnitude_change=\"change_jul_2019_2020_magnitude\",\n",
    "    percent_change=\"change_jul_2019_2020_percent\",\n",
    "    vector_boundary=south_korea_level_1_geometry,\n",
    "    plot_vector=False,\n",
    "    super_title=\"South Korea Nitrogen Dioxide Change, July 2019 to July 2020\",\n",
    "    data_source=\"European Space Agency\",\n",
    ")\n",
    "\n",
    "# Export figure\n",
    "outpath = os.path.join(\n",
    "    \"04-graphics-outputs\",\n",
    "    \"spatial-plots\",\n",
    "    \"south-korea\",\n",
    "    \"south-korea-no2-aggregate-level-1-mean-change-jul-2019-2020.png\",\n",
    ")\n",
    "\n",
    "rd.save_figure(outpath)"
   ]
  },
  {
   "cell_type": "markdown",
   "metadata": {},
   "source": [
    "## Level 2 Boundaries"
   ]
  },
  {
   "cell_type": "code",
   "execution_count": null,
   "metadata": {
    "ExecuteTime": {
     "end_time": "2020-11-04T20:31:21.262133Z",
     "start_time": "2020-11-04T20:31:15.638834Z"
    },
    "scrolled": false
   },
   "outputs": [],
   "source": [
    "# Plot and export July 2018-2019 change\n",
    "stl.plot_aggregate_change(\n",
    "    aggregated_data=level_2_gdf,\n",
    "    magnitude_change=\"change_jul_2018_2019_magnitude\",\n",
    "    percent_change=\"change_jul_2018_2019_percent\",\n",
    "    vector_boundary=south_korea_level_2_geometry,\n",
    "    plot_vector=False,\n",
    "    super_title=\"South Korea Nitrogen Dioxide Change, July 2018 to July 2019\",\n",
    "    data_source=\"European Space Agency\",\n",
    ")\n",
    "\n",
    "# Export figure\n",
    "outpath = os.path.join(\n",
    "    \"04-graphics-outputs\",\n",
    "    \"spatial-plots\",\n",
    "    \"south-korea\",\n",
    "    \"south-korea-no2-aggregate-level-2-mean-change-jul-2018-2019.png\",\n",
    ")\n",
    "\n",
    "rd.save_figure(outpath)"
   ]
  },
  {
   "cell_type": "code",
   "execution_count": null,
   "metadata": {
    "ExecuteTime": {
     "end_time": "2020-11-04T20:31:26.284950Z",
     "start_time": "2020-11-04T20:31:21.262133Z"
    }
   },
   "outputs": [],
   "source": [
    "# Plot and export August 2018-2019 change\n",
    "stl.plot_aggregate_change(\n",
    "    aggregated_data=level_2_gdf,\n",
    "    magnitude_change=\"change_aug_2018_2019_magnitude\",\n",
    "    percent_change=\"change_aug_2018_2019_percent\",\n",
    "    vector_boundary=south_korea_level_2_geometry,\n",
    "    plot_vector=False,\n",
    "    super_title=\"South Korea Nitrogen Dioxide Change, August 2018 to August 2019\",\n",
    "    data_source=\"European Space Agency\",\n",
    ")\n",
    "\n",
    "# Export figure\n",
    "outpath = os.path.join(\n",
    "    \"04-graphics-outputs\",\n",
    "    \"spatial-plots\",\n",
    "    \"south-korea\",\n",
    "    \"south-korea-no2-aggregate-level-2-mean-change-aug-2018-2019.png\",\n",
    ")\n",
    "\n",
    "rd.save_figure(outpath)"
   ]
  },
  {
   "cell_type": "code",
   "execution_count": null,
   "metadata": {
    "ExecuteTime": {
     "end_time": "2020-11-04T20:31:31.238892Z",
     "start_time": "2020-11-04T20:31:26.284950Z"
    }
   },
   "outputs": [],
   "source": [
    "# Plot and export September 2018-2019 change\n",
    "stl.plot_aggregate_change(\n",
    "    aggregated_data=level_2_gdf,\n",
    "    magnitude_change=\"change_sep_2018_2019_magnitude\",\n",
    "    percent_change=\"change_sep_2018_2019_percent\",\n",
    "    vector_boundary=south_korea_level_2_geometry,\n",
    "    plot_vector=False,\n",
    "    super_title=\"South Korea Nitrogen Dioxide Change, September 2018 to September 2019\",\n",
    "    data_source=\"European Space Agency\",\n",
    ")\n",
    "\n",
    "# Export figure\n",
    "outpath = os.path.join(\n",
    "    \"04-graphics-outputs\",\n",
    "    \"spatial-plots\",\n",
    "    \"south-korea\",\n",
    "    \"south-korea-no2-aggregate-level-2-mean-change-sep-2018-2019.png\",\n",
    ")\n",
    "\n",
    "rd.save_figure(outpath)"
   ]
  },
  {
   "cell_type": "code",
   "execution_count": null,
   "metadata": {
    "ExecuteTime": {
     "end_time": "2020-11-04T20:31:36.600528Z",
     "start_time": "2020-11-04T20:31:31.241904Z"
    }
   },
   "outputs": [],
   "source": [
    "# Plot and export October 2018-2019 change\n",
    "stl.plot_aggregate_change(\n",
    "    aggregated_data=level_2_gdf,\n",
    "    magnitude_change=\"change_oct_2018_2019_magnitude\",\n",
    "    percent_change=\"change_oct_2018_2019_percent\",\n",
    "    vector_boundary=south_korea_level_2_geometry,\n",
    "    plot_vector=False,\n",
    "    super_title=\"South Korea Nitrogen Dioxide Change, October 2018 to October 2019\",\n",
    "    data_source=\"European Space Agency\",\n",
    ")\n",
    "\n",
    "# Export figure\n",
    "outpath = os.path.join(\n",
    "    \"04-graphics-outputs\",\n",
    "    \"spatial-plots\",\n",
    "    \"south-korea\",\n",
    "    \"south-korea-no2-aggregate-level-2-mean-change-oct-2018-2019.png\",\n",
    ")\n",
    "\n",
    "rd.save_figure(outpath)"
   ]
  },
  {
   "cell_type": "code",
   "execution_count": null,
   "metadata": {
    "ExecuteTime": {
     "end_time": "2020-11-04T20:31:41.547146Z",
     "start_time": "2020-11-04T20:31:36.600528Z"
    }
   },
   "outputs": [],
   "source": [
    "# Plot and export November 2018-2019 change\n",
    "stl.plot_aggregate_change(\n",
    "    aggregated_data=level_2_gdf,\n",
    "    magnitude_change=\"change_nov_2018_2019_magnitude\",\n",
    "    percent_change=\"change_nov_2018_2019_percent\",\n",
    "    vector_boundary=south_korea_level_2_geometry,\n",
    "    plot_vector=False,\n",
    "    super_title=\"South Korea Nitrogen Dioxide Change, November 2018 to November 2019\",\n",
    "    data_source=\"European Space Agency\",\n",
    ")\n",
    "\n",
    "# Export figure\n",
    "outpath = os.path.join(\n",
    "    \"04-graphics-outputs\",\n",
    "    \"spatial-plots\",\n",
    "    \"south-korea\",\n",
    "    \"south-korea-no2-aggregate-level-2-mean-change-nov-2018-2019.png\",\n",
    ")\n",
    "\n",
    "rd.save_figure(outpath)"
   ]
  },
  {
   "cell_type": "code",
   "execution_count": null,
   "metadata": {
    "ExecuteTime": {
     "end_time": "2020-11-04T20:31:46.998448Z",
     "start_time": "2020-11-04T20:31:41.547146Z"
    }
   },
   "outputs": [],
   "source": [
    "# Plot and export December 2018-2019 change\n",
    "stl.plot_aggregate_change(\n",
    "    aggregated_data=level_2_gdf,\n",
    "    magnitude_change=\"change_dec_2018_2019_magnitude\",\n",
    "    percent_change=\"change_dec_2018_2019_percent\",\n",
    "    vector_boundary=south_korea_level_2_geometry,\n",
    "    plot_vector=False,\n",
    "    super_title=\"South Korea Nitrogen Dioxide Change, December 2018 to December 2019\",\n",
    "    data_source=\"European Space Agency\",\n",
    ")\n",
    "\n",
    "# Export figure\n",
    "outpath = os.path.join(\n",
    "    \"04-graphics-outputs\",\n",
    "    \"spatial-plots\",\n",
    "    \"south-korea\",\n",
    "    \"south-korea-no2-aggregate-level-2-mean-change-dec-2018-2019.png\",\n",
    ")\n",
    "\n",
    "rd.save_figure(outpath)"
   ]
  },
  {
   "cell_type": "code",
   "execution_count": null,
   "metadata": {
    "ExecuteTime": {
     "end_time": "2020-11-04T20:31:51.871660Z",
     "start_time": "2020-11-04T20:31:46.998448Z"
    }
   },
   "outputs": [],
   "source": [
    "# Plot and export January 2019-2020 change\n",
    "stl.plot_aggregate_change(\n",
    "    aggregated_data=level_2_gdf,\n",
    "    magnitude_change=\"change_jan_2019_2020_magnitude\",\n",
    "    percent_change=\"change_jan_2019_2020_percent\",\n",
    "    vector_boundary=south_korea_level_2_geometry,\n",
    "    plot_vector=False,\n",
    "    super_title=\"South Korea Nitrogen Dioxide Change, January 2019 to January 2020\",\n",
    "    data_source=\"European Space Agency\",\n",
    ")\n",
    "\n",
    "# Export figure\n",
    "outpath = os.path.join(\n",
    "    \"04-graphics-outputs\",\n",
    "    \"spatial-plots\",\n",
    "    \"south-korea\",\n",
    "    \"south-korea-no2-aggregate-level-2-mean-change-jan-2019-2020.png\",\n",
    ")\n",
    "\n",
    "rd.save_figure(outpath)"
   ]
  },
  {
   "cell_type": "code",
   "execution_count": null,
   "metadata": {
    "ExecuteTime": {
     "end_time": "2020-11-04T20:31:56.769719Z",
     "start_time": "2020-11-04T20:31:51.871660Z"
    }
   },
   "outputs": [],
   "source": [
    "# Plot and export February 2019-2020 change\n",
    "stl.plot_aggregate_change(\n",
    "    aggregated_data=level_2_gdf,\n",
    "    magnitude_change=\"change_feb_2019_2020_magnitude\",\n",
    "    percent_change=\"change_feb_2019_2020_percent\",\n",
    "    vector_boundary=south_korea_level_2_geometry,\n",
    "    plot_vector=False,\n",
    "    super_title=\"South Korea Nitrogen Dioxide Change, February 2019 to February 2020\",\n",
    "    data_source=\"European Space Agency\",\n",
    ")\n",
    "\n",
    "# Export figure\n",
    "outpath = os.path.join(\n",
    "    \"04-graphics-outputs\",\n",
    "    \"spatial-plots\",\n",
    "    \"south-korea\",\n",
    "    \"south-korea-no2-aggregate-level-2-mean-change-feb-2019-2020.png\",\n",
    ")\n",
    "\n",
    "rd.save_figure(outpath)"
   ]
  },
  {
   "cell_type": "code",
   "execution_count": null,
   "metadata": {
    "ExecuteTime": {
     "end_time": "2020-11-04T20:32:01.858083Z",
     "start_time": "2020-11-04T20:31:56.769719Z"
    }
   },
   "outputs": [],
   "source": [
    "# Plot and export March 2019-2020 change\n",
    "stl.plot_aggregate_change(\n",
    "    aggregated_data=level_2_gdf,\n",
    "    magnitude_change=\"change_mar_2019_2020_magnitude\",\n",
    "    percent_change=\"change_mar_2019_2020_percent\",\n",
    "    vector_boundary=south_korea_level_2_geometry,\n",
    "    plot_vector=False,\n",
    "    super_title=\"South Korea Nitrogen Dioxide Change, March 2019 to March 2020\",\n",
    "    data_source=\"European Space Agency\",\n",
    ")\n",
    "\n",
    "# Export figure\n",
    "outpath = os.path.join(\n",
    "    \"04-graphics-outputs\",\n",
    "    \"spatial-plots\",\n",
    "    \"south-korea\",\n",
    "    \"south-korea-no2-aggregate-level-2-mean-change-mar-2019-2020.png\",\n",
    ")\n",
    "\n",
    "rd.save_figure(outpath)"
   ]
  },
  {
   "cell_type": "code",
   "execution_count": null,
   "metadata": {
    "ExecuteTime": {
     "end_time": "2020-11-04T20:32:08.186930Z",
     "start_time": "2020-11-04T20:32:01.858083Z"
    }
   },
   "outputs": [],
   "source": [
    "# Plot and export April 2019-2020 change\n",
    "stl.plot_aggregate_change(\n",
    "    aggregated_data=level_2_gdf,\n",
    "    magnitude_change=\"change_apr_2019_2020_magnitude\",\n",
    "    percent_change=\"change_apr_2019_2020_percent\",\n",
    "    vector_boundary=south_korea_level_2_geometry,\n",
    "    plot_vector=False,\n",
    "    super_title=\"South Korea Nitrogen Dioxide Change, April 2019 to April 2020\",\n",
    "    data_source=\"European Space Agency\",\n",
    ")\n",
    "\n",
    "# Export figure\n",
    "outpath = os.path.join(\n",
    "    \"04-graphics-outputs\",\n",
    "    \"spatial-plots\",\n",
    "    \"south-korea\",\n",
    "    \"south-korea-no2-aggregate-level-2-mean-change-apr-2019-2020.png\",\n",
    ")\n",
    "\n",
    "rd.save_figure(outpath)"
   ]
  },
  {
   "cell_type": "code",
   "execution_count": null,
   "metadata": {
    "ExecuteTime": {
     "end_time": "2020-11-04T20:32:15.303217Z",
     "start_time": "2020-11-04T20:32:08.186930Z"
    }
   },
   "outputs": [],
   "source": [
    "# Plot and export May 2019-2020 change\n",
    "stl.plot_aggregate_change(\n",
    "    aggregated_data=level_2_gdf,\n",
    "    magnitude_change=\"change_may_2019_2020_magnitude\",\n",
    "    percent_change=\"change_may_2019_2020_percent\",\n",
    "    vector_boundary=south_korea_level_2_geometry,\n",
    "    plot_vector=False,\n",
    "    super_title=\"South Korea Nitrogen Dioxide Change, May 2019 to May 2020\",\n",
    "    data_source=\"European Space Agency\",\n",
    ")\n",
    "\n",
    "# Export figure\n",
    "outpath = os.path.join(\n",
    "    \"04-graphics-outputs\",\n",
    "    \"spatial-plots\",\n",
    "    \"south-korea\",\n",
    "    \"south-korea-no2-aggregate-level-2-mean-change-may-2019-2020.png\",\n",
    ")\n",
    "\n",
    "rd.save_figure(outpath)"
   ]
  },
  {
   "cell_type": "code",
   "execution_count": null,
   "metadata": {
    "ExecuteTime": {
     "end_time": "2020-11-04T20:32:21.577426Z",
     "start_time": "2020-11-04T20:32:15.306066Z"
    }
   },
   "outputs": [],
   "source": [
    "# Plot and export June 2019-2020 change\n",
    "stl.plot_aggregate_change(\n",
    "    aggregated_data=level_2_gdf,\n",
    "    magnitude_change=\"change_jun_2019_2020_magnitude\",\n",
    "    percent_change=\"change_jun_2019_2020_percent\",\n",
    "    vector_boundary=south_korea_level_2_geometry,\n",
    "    plot_vector=False,\n",
    "    super_title=\"South Korea Nitrogen Dioxide Change, June 2019 to June 2020\",\n",
    "    data_source=\"European Space Agency\",\n",
    ")\n",
    "\n",
    "# Export figure\n",
    "outpath = os.path.join(\n",
    "    \"04-graphics-outputs\",\n",
    "    \"spatial-plots\",\n",
    "    \"south-korea\",\n",
    "    \"south-korea-no2-aggregate-level-2-mean-change-jun-2019-2020.png\",\n",
    ")\n",
    "\n",
    "rd.save_figure(outpath)"
   ]
  },
  {
   "cell_type": "code",
   "execution_count": null,
   "metadata": {
    "ExecuteTime": {
     "end_time": "2020-11-04T20:32:28.603583Z",
     "start_time": "2020-11-04T20:32:21.577426Z"
    },
    "scrolled": false
   },
   "outputs": [],
   "source": [
    "# Plot and export July 2019-2020 change\n",
    "stl.plot_aggregate_change(\n",
    "    aggregated_data=level_2_gdf,\n",
    "    magnitude_change=\"change_jul_2019_2020_magnitude\",\n",
    "    percent_change=\"change_jul_2019_2020_percent\",\n",
    "    vector_boundary=south_korea_level_2_geometry,\n",
    "    plot_vector=False,\n",
    "    super_title=\"South Korea Nitrogen Dioxide Change, July 2019 to July 2020\",\n",
    "    data_source=\"European Space Agency\",\n",
    ")\n",
    "\n",
    "# Export figure\n",
    "outpath = os.path.join(\n",
    "    \"04-graphics-outputs\",\n",
    "    \"spatial-plots\",\n",
    "    \"south-korea\",\n",
    "    \"south-korea-no2-aggregate-level-2-mean-change-jul-2019-2020.png\",\n",
    ")\n",
    "\n",
    "rd.save_figure(outpath)"
   ]
  },
  {
   "cell_type": "markdown",
   "metadata": {},
   "source": [
    "## Hexagon Grid"
   ]
  },
  {
   "cell_type": "code",
   "execution_count": null,
   "metadata": {
    "ExecuteTime": {
     "end_time": "2020-11-04T20:32:36.711488Z",
     "start_time": "2020-11-04T20:32:28.603583Z"
    },
    "scrolled": false
   },
   "outputs": [],
   "source": [
    "# Plot and export July 2018-2019 change\n",
    "fig, ax = stl.plot_aggregate_change(\n",
    "    aggregated_data=hexagon_grid_gdf,\n",
    "    magnitude_change=\"change_jul_2018_2019_magnitude\",\n",
    "    percent_change=\"change_jul_2018_2019_percent\",\n",
    "    vector_boundary=south_korea_level_1_geometry,\n",
    "    plot_vector=True,\n",
    "    super_title=\"South Korea Nitrogen Dioxide Change, July 2018 to July 2019\",\n",
    "    data_source=\"European Space Agency\",\n",
    ")\n",
    "\n",
    "# Add North Korea boundary\n",
    "for axis in [fig.axes[0], fig.axes[1]]:\n",
    "    north_korea_level_1_clipped.plot(\n",
    "        ax=axis, facecolor=\"None\", edgecolor=\"black\", linewidth=0.5\n",
    "    )\n",
    "\n",
    "# Export figure\n",
    "outpath = os.path.join(\n",
    "    \"04-graphics-outputs\",\n",
    "    \"spatial-plots\",\n",
    "    \"south-korea\",\n",
    "    \"south-korea-no2-aggregate-hexagon-grid-mean-change-jul-2018-2019.png\",\n",
    ")\n",
    "\n",
    "rd.save_figure(outpath)"
   ]
  },
  {
   "cell_type": "code",
   "execution_count": null,
   "metadata": {
    "ExecuteTime": {
     "end_time": "2020-11-04T20:32:43.973106Z",
     "start_time": "2020-11-04T20:32:36.714449Z"
    }
   },
   "outputs": [],
   "source": [
    "# Plot and export August 2018-2019 change\n",
    "fig, ax = stl.plot_aggregate_change(\n",
    "    aggregated_data=hexagon_grid_gdf,\n",
    "    magnitude_change=\"change_aug_2018_2019_magnitude\",\n",
    "    percent_change=\"change_aug_2018_2019_percent\",\n",
    "    vector_boundary=south_korea_level_1_geometry,\n",
    "    plot_vector=True,\n",
    "    super_title=\"South Korea Nitrogen Dioxide Change, August 2018 to August 2019\",\n",
    "    data_source=\"European Space Agency\",\n",
    ")\n",
    "\n",
    "# Add North Korea boundary\n",
    "for axis in [fig.axes[0], fig.axes[1]]:\n",
    "    north_korea_level_1_clipped.plot(\n",
    "        ax=axis, facecolor=\"None\", edgecolor=\"black\", linewidth=0.5\n",
    "    )\n",
    "\n",
    "# Export figure\n",
    "outpath = os.path.join(\n",
    "    \"04-graphics-outputs\",\n",
    "    \"spatial-plots\",\n",
    "    \"south-korea\",\n",
    "    \"south-korea-no2-aggregate-hexagon-grid-mean-change-aug-2018-2019.png\",\n",
    ")\n",
    "\n",
    "rd.save_figure(outpath)"
   ]
  },
  {
   "cell_type": "code",
   "execution_count": null,
   "metadata": {
    "ExecuteTime": {
     "end_time": "2020-11-04T20:32:51.819990Z",
     "start_time": "2020-11-04T20:32:43.976100Z"
    }
   },
   "outputs": [],
   "source": [
    "# Plot and export September 2018-2019 change\n",
    "fig, ax = stl.plot_aggregate_change(\n",
    "    aggregated_data=hexagon_grid_gdf,\n",
    "    magnitude_change=\"change_sep_2018_2019_magnitude\",\n",
    "    percent_change=\"change_sep_2018_2019_percent\",\n",
    "    vector_boundary=south_korea_level_1_geometry,\n",
    "    plot_vector=True,\n",
    "    super_title=\"South Korea Nitrogen Dioxide Change, September 2018 to September 2019\",\n",
    "    data_source=\"European Space Agency\",\n",
    ")\n",
    "\n",
    "# Add North Korea boundary\n",
    "for axis in [fig.axes[0], fig.axes[1]]:\n",
    "    north_korea_level_1_clipped.plot(\n",
    "        ax=axis, facecolor=\"None\", edgecolor=\"black\", linewidth=0.5\n",
    "    )\n",
    "\n",
    "# Export figure\n",
    "outpath = os.path.join(\n",
    "    \"04-graphics-outputs\",\n",
    "    \"spatial-plots\",\n",
    "    \"south-korea\",\n",
    "    \"south-korea-no2-aggregate-hexagon-grid-mean-change-sep-2018-2019.png\",\n",
    ")\n",
    "\n",
    "rd.save_figure(outpath)"
   ]
  },
  {
   "cell_type": "code",
   "execution_count": null,
   "metadata": {
    "ExecuteTime": {
     "end_time": "2020-11-04T20:32:58.751775Z",
     "start_time": "2020-11-04T20:32:51.821950Z"
    }
   },
   "outputs": [],
   "source": [
    "# Plot and export October 2018-2019 change\n",
    "fig, ax = stl.plot_aggregate_change(\n",
    "    aggregated_data=hexagon_grid_gdf,\n",
    "    magnitude_change=\"change_oct_2018_2019_magnitude\",\n",
    "    percent_change=\"change_oct_2018_2019_percent\",\n",
    "    vector_boundary=south_korea_level_1_geometry,\n",
    "    plot_vector=True,\n",
    "    super_title=\"South Korea Nitrogen Dioxide Change, October 2018 to October 2019\",\n",
    "    data_source=\"European Space Agency\",\n",
    ")\n",
    "\n",
    "# Add North Korea boundary\n",
    "for axis in [fig.axes[0], fig.axes[1]]:\n",
    "    north_korea_level_1_clipped.plot(\n",
    "        ax=axis, facecolor=\"None\", edgecolor=\"black\", linewidth=0.5\n",
    "    )\n",
    "\n",
    "# Export figure\n",
    "outpath = os.path.join(\n",
    "    \"04-graphics-outputs\",\n",
    "    \"spatial-plots\",\n",
    "    \"south-korea\",\n",
    "    \"south-korea-no2-aggregate-hexagon-grid-mean-change-oct-2018-2019.png\",\n",
    ")\n",
    "\n",
    "rd.save_figure(outpath)"
   ]
  },
  {
   "cell_type": "code",
   "execution_count": null,
   "metadata": {
    "ExecuteTime": {
     "end_time": "2020-11-04T20:33:06.125927Z",
     "start_time": "2020-11-04T20:32:58.751775Z"
    }
   },
   "outputs": [],
   "source": [
    "# Plot and export November 2018-2019 change\n",
    "fig, ax = stl.plot_aggregate_change(\n",
    "    aggregated_data=hexagon_grid_gdf,\n",
    "    magnitude_change=\"change_nov_2018_2019_magnitude\",\n",
    "    percent_change=\"change_nov_2018_2019_percent\",\n",
    "    vector_boundary=south_korea_level_1_geometry,\n",
    "    plot_vector=True,\n",
    "    super_title=\"South Korea Nitrogen Dioxide Change, November 2018 to November 2019\",\n",
    "    data_source=\"European Space Agency\",\n",
    ")\n",
    "\n",
    "# Add North Korea boundary\n",
    "for axis in [fig.axes[0], fig.axes[1]]:\n",
    "    north_korea_level_1_clipped.plot(\n",
    "        ax=axis, facecolor=\"None\", edgecolor=\"black\", linewidth=0.5\n",
    "    )\n",
    "\n",
    "# Export figure\n",
    "outpath = os.path.join(\n",
    "    \"04-graphics-outputs\",\n",
    "    \"spatial-plots\",\n",
    "    \"south-korea\",\n",
    "    \"south-korea-no2-aggregate-hexagon-grid-mean-change-nov-2018-2019.png\",\n",
    ")\n",
    "\n",
    "rd.save_figure(outpath)"
   ]
  },
  {
   "cell_type": "code",
   "execution_count": null,
   "metadata": {
    "ExecuteTime": {
     "end_time": "2020-11-04T20:33:12.770171Z",
     "start_time": "2020-11-04T20:33:06.125927Z"
    }
   },
   "outputs": [],
   "source": [
    "# Plot and export December 2018-2019 change\n",
    "fig, ax = stl.plot_aggregate_change(\n",
    "    aggregated_data=hexagon_grid_gdf,\n",
    "    magnitude_change=\"change_dec_2018_2019_magnitude\",\n",
    "    percent_change=\"change_dec_2018_2019_percent\",\n",
    "    vector_boundary=south_korea_level_1_geometry,\n",
    "    plot_vector=True,\n",
    "    super_title=\"South Korea Nitrogen Dioxide Change, December 2018 to December 2019\",\n",
    "    data_source=\"European Space Agency\",\n",
    ")\n",
    "\n",
    "# Add North Korea boundary\n",
    "for axis in [fig.axes[0], fig.axes[1]]:\n",
    "    north_korea_level_1_clipped.plot(\n",
    "        ax=axis, facecolor=\"None\", edgecolor=\"black\", linewidth=0.5\n",
    "    )\n",
    "\n",
    "# Export figure\n",
    "outpath = os.path.join(\n",
    "    \"04-graphics-outputs\",\n",
    "    \"spatial-plots\",\n",
    "    \"south-korea\",\n",
    "    \"south-korea-no2-aggregate-hexagon-grid-mean-change-dec-2018-2019.png\",\n",
    ")\n",
    "\n",
    "rd.save_figure(outpath)"
   ]
  },
  {
   "cell_type": "code",
   "execution_count": null,
   "metadata": {
    "ExecuteTime": {
     "end_time": "2020-11-04T20:33:19.593683Z",
     "start_time": "2020-11-04T20:33:12.770171Z"
    }
   },
   "outputs": [],
   "source": [
    "# Plot and export January 2019-2020 change\n",
    "fig, ax = stl.plot_aggregate_change(\n",
    "    aggregated_data=hexagon_grid_gdf,\n",
    "    magnitude_change=\"change_jan_2019_2020_magnitude\",\n",
    "    percent_change=\"change_jan_2019_2020_percent\",\n",
    "    vector_boundary=south_korea_level_1_geometry,\n",
    "    plot_vector=True,\n",
    "    super_title=\"South Korea Nitrogen Dioxide Change, January 2019 to January 2020\",\n",
    "    data_source=\"European Space Agency\",\n",
    ")\n",
    "\n",
    "# Add North Korea boundary\n",
    "for axis in [fig.axes[0], fig.axes[1]]:\n",
    "    north_korea_level_1_clipped.plot(\n",
    "        ax=axis, facecolor=\"None\", edgecolor=\"black\", linewidth=0.5\n",
    "    )\n",
    "\n",
    "# Export figure\n",
    "outpath = os.path.join(\n",
    "    \"04-graphics-outputs\",\n",
    "    \"spatial-plots\",\n",
    "    \"south-korea\",\n",
    "    \"south-korea-no2-aggregate-hexagon-grid-mean-change-jan-2019-2020.png\",\n",
    ")\n",
    "\n",
    "rd.save_figure(outpath)"
   ]
  },
  {
   "cell_type": "code",
   "execution_count": null,
   "metadata": {
    "ExecuteTime": {
     "end_time": "2020-11-04T20:33:25.557497Z",
     "start_time": "2020-11-04T20:33:19.593683Z"
    }
   },
   "outputs": [],
   "source": [
    "# Plot and export February 2019-2020 change\n",
    "fig, ax = stl.plot_aggregate_change(\n",
    "    aggregated_data=hexagon_grid_gdf,\n",
    "    magnitude_change=\"change_feb_2019_2020_magnitude\",\n",
    "    percent_change=\"change_feb_2019_2020_percent\",\n",
    "    vector_boundary=south_korea_level_1_geometry,\n",
    "    plot_vector=True,\n",
    "    super_title=\"South Korea Nitrogen Dioxide Change, February 2019 to February 2020\",\n",
    "    data_source=\"European Space Agency\",\n",
    ")\n",
    "\n",
    "# Add North Korea boundary\n",
    "for axis in [fig.axes[0], fig.axes[1]]:\n",
    "    north_korea_level_1_clipped.plot(\n",
    "        ax=axis, facecolor=\"None\", edgecolor=\"black\", linewidth=0.5\n",
    "    )\n",
    "\n",
    "# Export figure\n",
    "outpath = os.path.join(\n",
    "    \"04-graphics-outputs\",\n",
    "    \"spatial-plots\",\n",
    "    \"south-korea\",\n",
    "    \"south-korea-no2-aggregate-hexagon-grid-mean-change-feb-2019-2020.png\",\n",
    ")\n",
    "\n",
    "rd.save_figure(outpath)"
   ]
  },
  {
   "cell_type": "code",
   "execution_count": null,
   "metadata": {
    "ExecuteTime": {
     "end_time": "2020-11-04T20:33:32.031306Z",
     "start_time": "2020-11-04T20:33:25.557497Z"
    }
   },
   "outputs": [],
   "source": [
    "# Plot and export March 2019-2020 change\n",
    "fig, ax = stl.plot_aggregate_change(\n",
    "    aggregated_data=hexagon_grid_gdf,\n",
    "    magnitude_change=\"change_mar_2019_2020_magnitude\",\n",
    "    percent_change=\"change_mar_2019_2020_percent\",\n",
    "    vector_boundary=south_korea_level_1_geometry,\n",
    "    plot_vector=True,\n",
    "    super_title=\"South Korea Nitrogen Dioxide Change, March 2019 to March 2020\",\n",
    "    data_source=\"European Space Agency\",\n",
    ")\n",
    "\n",
    "# Add North Korea boundary\n",
    "for axis in [fig.axes[0], fig.axes[1]]:\n",
    "    north_korea_level_1_clipped.plot(\n",
    "        ax=axis, facecolor=\"None\", edgecolor=\"black\", linewidth=0.5\n",
    "    )\n",
    "\n",
    "# Export figure\n",
    "outpath = os.path.join(\n",
    "    \"04-graphics-outputs\",\n",
    "    \"spatial-plots\",\n",
    "    \"south-korea\",\n",
    "    \"south-korea-no2-aggregate-hexagon-grid-mean-change-mar-2019-2020.png\",\n",
    ")\n",
    "\n",
    "rd.save_figure(outpath)"
   ]
  },
  {
   "cell_type": "code",
   "execution_count": null,
   "metadata": {
    "ExecuteTime": {
     "end_time": "2020-11-04T20:33:38.182575Z",
     "start_time": "2020-11-04T20:33:32.031306Z"
    }
   },
   "outputs": [],
   "source": [
    "# Plot and export April 2019-2020 change\n",
    "fig, ax = stl.plot_aggregate_change(\n",
    "    aggregated_data=hexagon_grid_gdf,\n",
    "    magnitude_change=\"change_apr_2019_2020_magnitude\",\n",
    "    percent_change=\"change_apr_2019_2020_percent\",\n",
    "    vector_boundary=south_korea_level_1_geometry,\n",
    "    plot_vector=True,\n",
    "    super_title=\"South Korea Nitrogen Dioxide Change, April 2019 to April 2020\",\n",
    "    data_source=\"European Space Agency\",\n",
    ")\n",
    "\n",
    "# Add North Korea boundary\n",
    "for axis in [fig.axes[0], fig.axes[1]]:\n",
    "    north_korea_level_1_clipped.plot(\n",
    "        ax=axis, facecolor=\"None\", edgecolor=\"black\", linewidth=0.5\n",
    "    )\n",
    "\n",
    "# Export figure\n",
    "outpath = os.path.join(\n",
    "    \"04-graphics-outputs\",\n",
    "    \"spatial-plots\",\n",
    "    \"south-korea\",\n",
    "    \"south-korea-no2-aggregate-hexagon-grid-mean-change-apr-2019-2020.png\",\n",
    ")\n",
    "\n",
    "rd.save_figure(outpath)"
   ]
  },
  {
   "cell_type": "code",
   "execution_count": null,
   "metadata": {
    "ExecuteTime": {
     "end_time": "2020-11-04T20:33:44.396138Z",
     "start_time": "2020-11-04T20:33:38.182575Z"
    }
   },
   "outputs": [],
   "source": [
    "# Plot and export May 2019-2020 change\n",
    "fig, ax = stl.plot_aggregate_change(\n",
    "    aggregated_data=hexagon_grid_gdf,\n",
    "    magnitude_change=\"change_may_2019_2020_magnitude\",\n",
    "    percent_change=\"change_may_2019_2020_percent\",\n",
    "    vector_boundary=south_korea_level_1_geometry,\n",
    "    plot_vector=True,\n",
    "    super_title=\"South Korea Nitrogen Dioxide Change, May 2019 to May 2020\",\n",
    "    data_source=\"European Space Agency\",\n",
    ")\n",
    "\n",
    "# Add North Korea boundary\n",
    "for axis in [fig.axes[0], fig.axes[1]]:\n",
    "    north_korea_level_1_clipped.plot(\n",
    "        ax=axis, facecolor=\"None\", edgecolor=\"black\", linewidth=0.5\n",
    "    )\n",
    "\n",
    "# Export figure\n",
    "outpath = os.path.join(\n",
    "    \"04-graphics-outputs\",\n",
    "    \"spatial-plots\",\n",
    "    \"south-korea\",\n",
    "    \"south-korea-no2-aggregate-hexagon-grid-mean-change-may-2019-2020.png\",\n",
    ")\n",
    "\n",
    "rd.save_figure(outpath)"
   ]
  },
  {
   "cell_type": "code",
   "execution_count": null,
   "metadata": {
    "ExecuteTime": {
     "end_time": "2020-11-04T20:33:50.442009Z",
     "start_time": "2020-11-04T20:33:44.396138Z"
    }
   },
   "outputs": [],
   "source": [
    "# Plot and export June 2019-2020 change\n",
    "fig, ax = stl.plot_aggregate_change(\n",
    "    aggregated_data=hexagon_grid_gdf,\n",
    "    magnitude_change=\"change_jun_2019_2020_magnitude\",\n",
    "    percent_change=\"change_jun_2019_2020_percent\",\n",
    "    vector_boundary=south_korea_level_1_geometry,\n",
    "    plot_vector=True,\n",
    "    super_title=\"South Korea Nitrogen Dioxide Change, June 2019 to June 2020\",\n",
    "    data_source=\"European Space Agency\",\n",
    ")\n",
    "\n",
    "# Add North Korea boundary\n",
    "for axis in [fig.axes[0], fig.axes[1]]:\n",
    "    north_korea_level_1_clipped.plot(\n",
    "        ax=axis, facecolor=\"None\", edgecolor=\"black\", linewidth=0.5\n",
    "    )\n",
    "\n",
    "# Export figure\n",
    "outpath = os.path.join(\n",
    "    \"04-graphics-outputs\",\n",
    "    \"spatial-plots\",\n",
    "    \"south-korea\",\n",
    "    \"south-korea-no2-aggregate-hexagon-grid-mean-change-jun-2019-2020.png\",\n",
    ")\n",
    "\n",
    "rd.save_figure(outpath)"
   ]
  },
  {
   "cell_type": "code",
   "execution_count": null,
   "metadata": {
    "ExecuteTime": {
     "end_time": "2020-11-04T20:33:56.882067Z",
     "start_time": "2020-11-04T20:33:50.444005Z"
    }
   },
   "outputs": [],
   "source": [
    "# Plot and export July 2019-2020 change\n",
    "fig, ax = stl.plot_aggregate_change(\n",
    "    aggregated_data=hexagon_grid_gdf,\n",
    "    magnitude_change=\"change_jul_2019_2020_magnitude\",\n",
    "    percent_change=\"change_jul_2019_2020_percent\",\n",
    "    vector_boundary=south_korea_level_1_geometry,\n",
    "    plot_vector=True,\n",
    "    super_title=\"South Korea Nitrogen Dioxide Change, July 2019 to July 2020\",\n",
    "    data_source=\"European Space Agency\",\n",
    ")\n",
    "\n",
    "# Add North Korea boundary\n",
    "for axis in [fig.axes[0], fig.axes[1]]:\n",
    "    north_korea_level_1_clipped.plot(\n",
    "        ax=axis, facecolor=\"None\", edgecolor=\"black\", linewidth=0.5\n",
    "    )\n",
    "\n",
    "# Export figure\n",
    "outpath = os.path.join(\n",
    "    \"04-graphics-outputs\",\n",
    "    \"spatial-plots\",\n",
    "    \"south-korea\",\n",
    "    \"south-korea-no2-aggregate-hexagon-grid-mean-change-jul-2019-2020.png\",\n",
    ")\n",
    "\n",
    "rd.save_figure(outpath)"
   ]
  },
  {
   "cell_type": "markdown",
   "metadata": {},
   "source": [
    "# Data Export"
   ]
  },
  {
   "cell_type": "code",
   "execution_count": null,
   "metadata": {},
   "outputs": [],
   "source": []
  }
 ],
 "metadata": {
  "hide_input": false,
  "kernelspec": {
   "display_name": "Python 3",
   "language": "python",
   "name": "python3"
  },
  "language_info": {
   "codemirror_mode": {
    "name": "ipython",
    "version": 3
   },
   "file_extension": ".py",
   "mimetype": "text/x-python",
   "name": "python",
   "nbconvert_exporter": "python",
   "pygments_lexer": "ipython3",
   "version": "3.7.6"
  },
  "toc": {
   "base_numbering": 1,
   "nav_menu": {},
   "number_sections": true,
   "sideBar": true,
   "skip_h1_title": false,
   "title_cell": "Table of Contents",
   "title_sidebar": "Contents",
   "toc_cell": false,
   "toc_position": {
    "height": "calc(100% - 180px)",
    "left": "10px",
    "top": "150px",
    "width": "307.2px"
   },
   "toc_section_display": true,
   "toc_window_display": false
  },
  "varInspector": {
   "cols": {
    "lenName": 16,
    "lenType": 16,
    "lenVar": 40
   },
   "kernels_config": {
    "python": {
     "delete_cmd_postfix": "",
     "delete_cmd_prefix": "del ",
     "library": "var_list.py",
     "varRefreshCmd": "print(var_dic_list())"
    },
    "r": {
     "delete_cmd_postfix": ") ",
     "delete_cmd_prefix": "rm(",
     "library": "var_list.r",
     "varRefreshCmd": "cat(var_dic_list()) "
    }
   },
   "types_to_exclude": [
    "module",
    "function",
    "builtin_function_or_method",
    "instance",
    "_Feature"
   ],
   "window_display": false
  }
 },
 "nbformat": 4,
 "nbformat_minor": 4
}
