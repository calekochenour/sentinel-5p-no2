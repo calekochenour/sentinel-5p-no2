{
 "cells": [
  {
   "cell_type": "markdown",
   "metadata": {},
   "source": []
  },
  {
   "cell_type": "markdown",
   "metadata": {},
   "source": [
    "# CO Data Aggregation Temporal Fluctuation\n",
    "\n",
    "Observes how CO data aggregated to hexagon grid cells fluctuates up to 30 hours into the future.\n",
    "\n",
    "To convert from mol/m<sup>2</sup> to molecules/cm<sup>2</sup>, multiply by 6.022140857e+19 (6.022140857 * 10<sup>19</sup>)."
   ]
  },
  {
   "cell_type": "markdown",
   "metadata": {},
   "source": [
    "# Environment Setup"
   ]
  },
  {
   "cell_type": "code",
   "execution_count": null,
   "metadata": {
    "ExecuteTime": {
     "end_time": "2021-01-14T22:41:47.620651Z",
     "start_time": "2021-01-14T22:41:47.610678Z"
    }
   },
   "outputs": [],
   "source": [
    "# Load Notebook formatter\n",
    "%load_ext nb_black\n",
    "# %reload_ext nb_black"
   ]
  },
  {
   "cell_type": "code",
   "execution_count": null,
   "metadata": {
    "ExecuteTime": {
     "end_time": "2021-01-14T22:41:48.281925Z",
     "start_time": "2021-01-14T22:41:48.107392Z"
    }
   },
   "outputs": [],
   "source": [
    "# Import packages\n",
    "import os\n",
    "from datetime import timedelta\n",
    "from math import sqrt\n",
    "import matplotlib.pyplot as plt\n",
    "import numpy as np\n",
    "from scipy import stats\n",
    "from scipy.interpolate import UnivariateSpline\n",
    "import seaborn as sns\n",
    "import pandas as pd\n",
    "from pandas.plotting import register_matplotlib_converters\n",
    "import radiance as rd\n",
    "import sentinel as stl"
   ]
  },
  {
   "cell_type": "code",
   "execution_count": null,
   "metadata": {
    "ExecuteTime": {
     "end_time": "2021-01-14T22:41:48.427536Z",
     "start_time": "2021-01-14T22:41:48.408595Z"
    }
   },
   "outputs": [],
   "source": [
    "# Set Options\n",
    "np.set_printoptions(precision=15)\n",
    "np.set_printoptions(suppress=True)\n",
    "# sns.set(font_scale=1.5, style=\"whitegrid\")\n",
    "sns.set(font_scale=1.5)\n",
    "pd.set_option(\"display.max_columns\", None)\n",
    "# pd.set_option(\"display.max_rows\", None)\n",
    "pd.set_option(\"precision\", 15)\n",
    "register_matplotlib_converters()"
   ]
  },
  {
   "cell_type": "code",
   "execution_count": null,
   "metadata": {
    "ExecuteTime": {
     "end_time": "2021-01-14T22:41:48.543232Z",
     "start_time": "2021-01-14T22:41:48.532256Z"
    }
   },
   "outputs": [],
   "source": [
    "# Set working directory\n",
    "os.chdir(\"..\")\n",
    "print(f\"Working directory: {os.getcwd()}\")"
   ]
  },
  {
   "cell_type": "markdown",
   "metadata": {},
   "source": [
    "# User-Defined Variables"
   ]
  },
  {
   "cell_type": "code",
   "execution_count": null,
   "metadata": {
    "ExecuteTime": {
     "end_time": "2021-01-14T22:41:48.658915Z",
     "start_time": "2021-01-14T22:41:48.647947Z"
    }
   },
   "outputs": [],
   "source": [
    "# Set paths to time series geopackage\n",
    "hexagon_grid_time_series_path = os.path.join(\n",
    "    \"03-processed-data\",\n",
    "    \"vector\",\n",
    "    \"south-korea\",\n",
    "    \"co_aggregate_daily_hexagon_grid_jul_2018_dec_2020.gpkg\",\n",
    ")"
   ]
  },
  {
   "cell_type": "markdown",
   "metadata": {},
   "source": [
    "# Data Acquisition and Preprocessing"
   ]
  },
  {
   "cell_type": "code",
   "execution_count": null,
   "metadata": {
    "ExecuteTime": {
     "end_time": "2021-01-14T22:41:50.716412Z",
     "start_time": "2021-01-14T22:41:48.938169Z"
    }
   },
   "outputs": [],
   "source": [
    "# Get cleaned time series data into dataframe\n",
    "time_series_df = stl.clean_time_series(hexagon_grid_time_series_path)"
   ]
  },
  {
   "cell_type": "code",
   "execution_count": null,
   "metadata": {
    "ExecuteTime": {
     "end_time": "2021-01-14T22:41:54.344709Z",
     "start_time": "2021-01-14T22:41:53.549834Z"
    }
   },
   "outputs": [],
   "source": [
    "# Check dataframe\n",
    "time_series_df.head()"
   ]
  },
  {
   "cell_type": "code",
   "execution_count": null,
   "metadata": {
    "ExecuteTime": {
     "end_time": "2021-01-14T22:41:57.306785Z",
     "start_time": "2021-01-14T22:41:56.728332Z"
    }
   },
   "outputs": [],
   "source": [
    "# Check dataframe\n",
    "time_series_df.tail()"
   ]
  },
  {
   "cell_type": "markdown",
   "metadata": {},
   "source": [
    "# Data Processing"
   ]
  },
  {
   "cell_type": "markdown",
   "metadata": {},
   "source": [
    "## Timestamp and CO Deltas"
   ]
  },
  {
   "cell_type": "markdown",
   "metadata": {},
   "source": [
    "### Seoul Area - High"
   ]
  },
  {
   "cell_type": "markdown",
   "metadata": {},
   "source": [
    "#### Grid J-6"
   ]
  },
  {
   "cell_type": "code",
   "execution_count": null,
   "metadata": {
    "ExecuteTime": {
     "end_time": "2021-01-14T22:42:56.711268Z",
     "start_time": "2021-01-14T22:41:59.370266Z"
    }
   },
   "outputs": [],
   "source": [
    "# Calculate time and CO deltas, grid J-6 - Raw values (not absolute magnitude)\n",
    "(\n",
    "    time_deltas_j6,\n",
    "    co_deltas_magnitude_j6,\n",
    "    co_deltas_percent_j6,\n",
    ") = stl.calculate_deltas(\n",
    "    time_series=time_series_df,\n",
    "    grid_id=\"J-6\",\n",
    "    max_difference=30,\n",
    "    return_absolute=False,\n",
    ")"
   ]
  },
  {
   "cell_type": "code",
   "execution_count": null,
   "metadata": {
    "ExecuteTime": {
     "end_time": "2021-01-14T22:42:59.666608Z",
     "start_time": "2021-01-14T22:42:59.654641Z"
    }
   },
   "outputs": [],
   "source": [
    "# Check time deltas\n",
    "time_deltas_j6[:10]"
   ]
  },
  {
   "cell_type": "code",
   "execution_count": null,
   "metadata": {
    "ExecuteTime": {
     "end_time": "2021-01-14T22:43:02.304590Z",
     "start_time": "2021-01-14T22:43:02.294616Z"
    }
   },
   "outputs": [],
   "source": [
    "# Check CO deltas - magnitude\n",
    "co_deltas_magnitude_j6[:10]"
   ]
  },
  {
   "cell_type": "code",
   "execution_count": null,
   "metadata": {
    "ExecuteTime": {
     "end_time": "2021-01-14T22:43:04.712619Z",
     "start_time": "2021-01-14T22:43:04.703919Z"
    }
   },
   "outputs": [],
   "source": [
    "# Check CO deltas - percent\n",
    "co_deltas_percent_j6[:10]"
   ]
  },
  {
   "cell_type": "code",
   "execution_count": null,
   "metadata": {
    "ExecuteTime": {
     "end_time": "2021-01-14T22:43:07.085424Z",
     "start_time": "2021-01-14T22:43:07.074443Z"
    }
   },
   "outputs": [],
   "source": [
    "# Convert deltas to arrays\n",
    "time_deltas_j6_arr = stl.format_time_delta(time_deltas_j6)\n",
    "co_deltas_magnitude_j6_arr = stl.format_no2_delta(co_deltas_magnitude_j6)\n",
    "co_deltas_percent_j6_arr = stl.format_no2_delta(co_deltas_percent_j6)"
   ]
  },
  {
   "cell_type": "code",
   "execution_count": null,
   "metadata": {
    "ExecuteTime": {
     "end_time": "2021-01-14T22:43:09.703021Z",
     "start_time": "2021-01-14T22:43:09.692020Z"
    }
   },
   "outputs": [],
   "source": [
    "# Check time delta array\n",
    "time_deltas_j6_arr[:10]"
   ]
  },
  {
   "cell_type": "code",
   "execution_count": null,
   "metadata": {
    "ExecuteTime": {
     "end_time": "2021-01-14T22:43:12.312963Z",
     "start_time": "2021-01-14T22:43:12.300991Z"
    }
   },
   "outputs": [],
   "source": [
    "# Check CO delta array - magnitude\n",
    "co_deltas_magnitude_j6_arr[:10]"
   ]
  },
  {
   "cell_type": "code",
   "execution_count": null,
   "metadata": {
    "ExecuteTime": {
     "end_time": "2021-01-14T22:43:14.823258Z",
     "start_time": "2021-01-14T22:43:14.814249Z"
    }
   },
   "outputs": [],
   "source": [
    "# Check CO delta array - percent\n",
    "co_deltas_percent_j6_arr[:10]"
   ]
  },
  {
   "cell_type": "markdown",
   "metadata": {},
   "source": [
    "#### Grid I-6"
   ]
  },
  {
   "cell_type": "code",
   "execution_count": null,
   "metadata": {
    "ExecuteTime": {
     "end_time": "2021-01-14T22:44:17.457264Z",
     "start_time": "2021-01-14T22:43:17.378706Z"
    }
   },
   "outputs": [],
   "source": [
    "# Calculate time and NO2 deltas, grid I-6 - Raw values (not absolute magnitude)\n",
    "(\n",
    "    time_deltas_i6,\n",
    "    co_deltas_magnitude_i6,\n",
    "    co_deltas_percent_i6,\n",
    ") = stl.calculate_deltas(\n",
    "    time_series=time_series_df,\n",
    "    grid_id=\"I-6\",\n",
    "    max_difference=30,\n",
    "    return_absolute=False,\n",
    ")"
   ]
  },
  {
   "cell_type": "code",
   "execution_count": null,
   "metadata": {
    "ExecuteTime": {
     "end_time": "2021-01-14T22:44:20.219291Z",
     "start_time": "2021-01-14T22:44:20.207326Z"
    }
   },
   "outputs": [],
   "source": [
    "# Check time deltas\n",
    "time_deltas_i6[:10]"
   ]
  },
  {
   "cell_type": "code",
   "execution_count": null,
   "metadata": {
    "ExecuteTime": {
     "end_time": "2021-01-14T22:44:22.796542Z",
     "start_time": "2021-01-14T22:44:22.786527Z"
    }
   },
   "outputs": [],
   "source": [
    "# Check NO2 deltas - magnitude\n",
    "co_deltas_magnitude_i6[:10]"
   ]
  },
  {
   "cell_type": "code",
   "execution_count": null,
   "metadata": {
    "ExecuteTime": {
     "end_time": "2021-01-14T22:44:25.407063Z",
     "start_time": "2021-01-14T22:44:25.397090Z"
    }
   },
   "outputs": [],
   "source": [
    "# Check NO2 deltas - percent\n",
    "co_deltas_percent_i6[:10]"
   ]
  },
  {
   "cell_type": "code",
   "execution_count": null,
   "metadata": {
    "ExecuteTime": {
     "end_time": "2021-01-14T22:44:28.186487Z",
     "start_time": "2021-01-14T22:44:28.174506Z"
    }
   },
   "outputs": [],
   "source": [
    "# Convert deltas to arrays\n",
    "time_deltas_i6_arr = stl.format_time_delta(time_deltas_i6)\n",
    "co_deltas_magnitude_i6_arr = stl.format_no2_delta(co_deltas_magnitude_i6)\n",
    "co_deltas_percent_i6_arr = stl.format_no2_delta(co_deltas_percent_i6)"
   ]
  },
  {
   "cell_type": "code",
   "execution_count": null,
   "metadata": {
    "ExecuteTime": {
     "end_time": "2021-01-14T22:44:31.589545Z",
     "start_time": "2021-01-14T22:44:31.577577Z"
    }
   },
   "outputs": [],
   "source": [
    "# Check time delta array\n",
    "time_deltas_i6_arr[:10]"
   ]
  },
  {
   "cell_type": "code",
   "execution_count": null,
   "metadata": {
    "ExecuteTime": {
     "end_time": "2021-01-14T22:44:34.966055Z",
     "start_time": "2021-01-14T22:44:34.955071Z"
    }
   },
   "outputs": [],
   "source": [
    "# Check NO2 delta array - magnitude\n",
    "co_deltas_magnitude_i6_arr[:10]"
   ]
  },
  {
   "cell_type": "code",
   "execution_count": null,
   "metadata": {
    "ExecuteTime": {
     "end_time": "2021-01-14T22:44:38.187887Z",
     "start_time": "2021-01-14T22:44:38.175920Z"
    }
   },
   "outputs": [],
   "source": [
    "# NO2 delta array - percent\n",
    "co_deltas_percent_i6_arr[:10]"
   ]
  },
  {
   "cell_type": "markdown",
   "metadata": {},
   "source": [
    "### Rural Area to the East - Low"
   ]
  },
  {
   "cell_type": "markdown",
   "metadata": {},
   "source": [
    "#### Grid S-9"
   ]
  },
  {
   "cell_type": "code",
   "execution_count": null,
   "metadata": {
    "ExecuteTime": {
     "end_time": "2021-01-14T22:45:41.856553Z",
     "start_time": "2021-01-14T22:44:41.458150Z"
    }
   },
   "outputs": [],
   "source": [
    "# Calculate time and NO2 deltas, grid S-9 - Raw values (not absolute magnitude)\n",
    "(\n",
    "    time_deltas_s9,\n",
    "    co_deltas_magnitude_s9,\n",
    "    co_deltas_percent_s9,\n",
    ") = stl.calculate_deltas(\n",
    "    time_series=time_series_df,\n",
    "    grid_id=\"S-9\",\n",
    "    max_difference=30,\n",
    "    return_absolute=False,\n",
    ")"
   ]
  },
  {
   "cell_type": "code",
   "execution_count": null,
   "metadata": {
    "ExecuteTime": {
     "end_time": "2021-01-14T22:45:44.815431Z",
     "start_time": "2021-01-14T22:45:44.805424Z"
    }
   },
   "outputs": [],
   "source": [
    "# Check time deltas\n",
    "time_deltas_s9[:10]"
   ]
  },
  {
   "cell_type": "code",
   "execution_count": null,
   "metadata": {
    "ExecuteTime": {
     "end_time": "2021-01-14T22:45:47.717283Z",
     "start_time": "2021-01-14T22:45:47.704317Z"
    }
   },
   "outputs": [],
   "source": [
    "# Check NO2 deltas - magnitude\n",
    "co_deltas_magnitude_s9[:10]"
   ]
  },
  {
   "cell_type": "code",
   "execution_count": null,
   "metadata": {
    "ExecuteTime": {
     "end_time": "2021-01-14T22:45:50.604920Z",
     "start_time": "2021-01-14T22:45:50.593949Z"
    }
   },
   "outputs": [],
   "source": [
    "# Check NO2 deltas - percent\n",
    "co_deltas_percent_s9[:10]"
   ]
  },
  {
   "cell_type": "code",
   "execution_count": null,
   "metadata": {
    "ExecuteTime": {
     "end_time": "2021-01-14T22:45:53.485202Z",
     "start_time": "2021-01-14T22:45:53.468247Z"
    }
   },
   "outputs": [],
   "source": [
    "# Convert deltas to arrays\n",
    "time_deltas_s9_arr = stl.format_time_delta(time_deltas_s9)\n",
    "co_deltas_magnitude_s9_arr = stl.format_no2_delta(co_deltas_magnitude_s9)\n",
    "co_deltas_percent_s9_arr = stl.format_no2_delta(co_deltas_percent_s9)"
   ]
  },
  {
   "cell_type": "code",
   "execution_count": null,
   "metadata": {
    "ExecuteTime": {
     "end_time": "2021-01-14T22:45:56.486836Z",
     "start_time": "2021-01-14T22:45:56.474869Z"
    }
   },
   "outputs": [],
   "source": [
    "# Check time delta array\n",
    "time_deltas_s9_arr[:10]"
   ]
  },
  {
   "cell_type": "code",
   "execution_count": null,
   "metadata": {
    "ExecuteTime": {
     "end_time": "2021-01-14T22:45:59.463065Z",
     "start_time": "2021-01-14T22:45:59.451121Z"
    }
   },
   "outputs": [],
   "source": [
    "# Check NO2 delta array - magnitude\n",
    "co_deltas_magnitude_s9_arr[:10]"
   ]
  },
  {
   "cell_type": "code",
   "execution_count": null,
   "metadata": {
    "ExecuteTime": {
     "end_time": "2021-01-14T22:46:02.477598Z",
     "start_time": "2021-01-14T22:46:02.466621Z"
    }
   },
   "outputs": [],
   "source": [
    "# NO2 delta array - percent\n",
    "co_deltas_percent_s9_arr[:10]"
   ]
  },
  {
   "cell_type": "markdown",
   "metadata": {},
   "source": [
    "### Southern Coast - High"
   ]
  },
  {
   "cell_type": "markdown",
   "metadata": {},
   "source": [
    "#### Grid N-17"
   ]
  },
  {
   "cell_type": "code",
   "execution_count": null,
   "metadata": {
    "ExecuteTime": {
     "end_time": "2021-01-14T22:47:05.866863Z",
     "start_time": "2021-01-14T22:46:05.470255Z"
    }
   },
   "outputs": [],
   "source": [
    "# Calculate time and NO2 deltas, grid N-17 - Raw values (not absolute magnitude)\n",
    "(\n",
    "    time_deltas_n17,\n",
    "    co_deltas_magnitude_n17,\n",
    "    co_deltas_percent_n17,\n",
    ") = stl.calculate_deltas(\n",
    "    time_series=time_series_df,\n",
    "    grid_id=\"N-17\",\n",
    "    max_difference=30,\n",
    "    return_absolute=False,\n",
    ")"
   ]
  },
  {
   "cell_type": "code",
   "execution_count": null,
   "metadata": {
    "ExecuteTime": {
     "end_time": "2021-01-14T22:47:08.964469Z",
     "start_time": "2021-01-14T22:47:08.951504Z"
    }
   },
   "outputs": [],
   "source": [
    "# Check time deltas\n",
    "time_deltas_n17[:10]"
   ]
  },
  {
   "cell_type": "code",
   "execution_count": null,
   "metadata": {
    "ExecuteTime": {
     "end_time": "2021-01-14T22:47:12.065837Z",
     "start_time": "2021-01-14T22:47:12.054865Z"
    }
   },
   "outputs": [],
   "source": [
    "# Check NO2 deltas - magnitude\n",
    "co_deltas_magnitude_n17[:10]"
   ]
  },
  {
   "cell_type": "code",
   "execution_count": null,
   "metadata": {
    "ExecuteTime": {
     "end_time": "2021-01-14T22:47:15.247066Z",
     "start_time": "2021-01-14T22:47:15.236094Z"
    }
   },
   "outputs": [],
   "source": [
    "# Check NO2 deltas - percent\n",
    "co_deltas_percent_n17[:10]"
   ]
  },
  {
   "cell_type": "code",
   "execution_count": null,
   "metadata": {
    "ExecuteTime": {
     "end_time": "2021-01-14T22:47:18.499356Z",
     "start_time": "2021-01-14T22:47:18.484408Z"
    }
   },
   "outputs": [],
   "source": [
    "# Convert deltas to arrays\n",
    "time_deltas_n17_arr = stl.format_time_delta(time_deltas_n17)\n",
    "co_deltas_magnitude_n17_arr = stl.format_no2_delta(co_deltas_magnitude_n17)\n",
    "co_deltas_percent_n17_arr = stl.format_no2_delta(co_deltas_percent_n17)"
   ]
  },
  {
   "cell_type": "code",
   "execution_count": null,
   "metadata": {
    "ExecuteTime": {
     "end_time": "2021-01-14T22:47:22.299117Z",
     "start_time": "2021-01-14T22:47:22.288138Z"
    }
   },
   "outputs": [],
   "source": [
    "# Check time delta array\n",
    "time_deltas_n17_arr[:10]"
   ]
  },
  {
   "cell_type": "code",
   "execution_count": null,
   "metadata": {
    "ExecuteTime": {
     "end_time": "2021-01-14T22:47:25.962328Z",
     "start_time": "2021-01-14T22:47:25.952335Z"
    }
   },
   "outputs": [],
   "source": [
    "# Check NO2 delta array - magnitude\n",
    "co_deltas_magnitude_n17_arr[:10]"
   ]
  },
  {
   "cell_type": "code",
   "execution_count": null,
   "metadata": {
    "ExecuteTime": {
     "end_time": "2021-01-14T22:47:29.843154Z",
     "start_time": "2021-01-14T22:47:29.829192Z"
    }
   },
   "outputs": [],
   "source": [
    "# NO2 delta array - percent\n",
    "co_deltas_percent_n17_arr[:10]"
   ]
  },
  {
   "cell_type": "markdown",
   "metadata": {},
   "source": [
    "Get means and standard deviations for all grid cells over the time series (exclude NaN). Plot std vs mean scatter plot to get a sense of the values."
   ]
  },
  {
   "cell_type": "markdown",
   "metadata": {},
   "source": [
    "### Rural Area in the Center"
   ]
  },
  {
   "cell_type": "markdown",
   "metadata": {},
   "source": [
    "#### Grid N-11"
   ]
  },
  {
   "cell_type": "code",
   "execution_count": null,
   "metadata": {
    "ExecuteTime": {
     "end_time": "2021-01-14T22:48:42.425818Z",
     "start_time": "2021-01-14T22:47:34.092139Z"
    }
   },
   "outputs": [],
   "source": [
    "# Calculate time and NO2 deltas, grid N-11 - Raw values (not absolute magnitude)\n",
    "(\n",
    "    time_deltas_n11,\n",
    "    co_deltas_magnitude_n11,\n",
    "    co_deltas_percent_n11,\n",
    ") = stl.calculate_deltas(\n",
    "    time_series=time_series_df,\n",
    "    grid_id=\"N-11\",\n",
    "    max_difference=30,\n",
    "    return_absolute=False,\n",
    ")"
   ]
  },
  {
   "cell_type": "code",
   "execution_count": null,
   "metadata": {
    "ExecuteTime": {
     "end_time": "2021-01-14T22:48:46.998775Z",
     "start_time": "2021-01-14T22:48:46.984773Z"
    }
   },
   "outputs": [],
   "source": [
    "# Check time deltas\n",
    "time_deltas_n11[:10]"
   ]
  },
  {
   "cell_type": "code",
   "execution_count": null,
   "metadata": {
    "ExecuteTime": {
     "end_time": "2021-01-14T22:48:50.439793Z",
     "start_time": "2021-01-14T22:48:50.425830Z"
    }
   },
   "outputs": [],
   "source": [
    "# Check NO2 deltas - magnitude\n",
    "co_deltas_magnitude_n11[:10]"
   ]
  },
  {
   "cell_type": "code",
   "execution_count": null,
   "metadata": {
    "ExecuteTime": {
     "end_time": "2021-01-14T22:48:53.658899Z",
     "start_time": "2021-01-14T22:48:53.646894Z"
    }
   },
   "outputs": [],
   "source": [
    "# Check NO2 deltas - percent\n",
    "co_deltas_percent_n11[:10]"
   ]
  },
  {
   "cell_type": "code",
   "execution_count": null,
   "metadata": {
    "ExecuteTime": {
     "end_time": "2021-01-14T22:48:57.025981Z",
     "start_time": "2021-01-14T22:48:57.009028Z"
    }
   },
   "outputs": [],
   "source": [
    "# Convert deltas to arrays\n",
    "time_deltas_n11_arr = stl.format_time_delta(time_deltas_n11)\n",
    "co_deltas_magnitude_n11_arr = stl.format_no2_delta(co_deltas_magnitude_n11)\n",
    "co_deltas_percent_n11_arr = stl.format_no2_delta(co_deltas_percent_n11)"
   ]
  },
  {
   "cell_type": "code",
   "execution_count": null,
   "metadata": {
    "ExecuteTime": {
     "end_time": "2021-01-14T22:49:00.857169Z",
     "start_time": "2021-01-14T22:49:00.843667Z"
    }
   },
   "outputs": [],
   "source": [
    "# Check time delta array\n",
    "time_deltas_n11_arr[:10]"
   ]
  },
  {
   "cell_type": "code",
   "execution_count": null,
   "metadata": {
    "ExecuteTime": {
     "end_time": "2021-01-14T22:49:04.314472Z",
     "start_time": "2021-01-14T22:49:04.303513Z"
    }
   },
   "outputs": [],
   "source": [
    "# Check NO2 delta array - magnitude\n",
    "co_deltas_magnitude_n11_arr[:10]"
   ]
  },
  {
   "cell_type": "code",
   "execution_count": null,
   "metadata": {
    "ExecuteTime": {
     "end_time": "2021-01-14T22:49:07.758258Z",
     "start_time": "2021-01-14T22:49:07.745288Z"
    }
   },
   "outputs": [],
   "source": [
    "# NO2 delta array - percent\n",
    "co_deltas_percent_n11_arr[:10]"
   ]
  },
  {
   "cell_type": "markdown",
   "metadata": {},
   "source": [
    "## Standard Deviation vs. Mean"
   ]
  },
  {
   "cell_type": "markdown",
   "metadata": {},
   "source": [
    "### 2018"
   ]
  },
  {
   "cell_type": "code",
   "execution_count": null,
   "metadata": {
    "ExecuteTime": {
     "end_time": "2021-01-14T22:49:11.214689Z",
     "start_time": "2021-01-14T22:49:11.201723Z"
    }
   },
   "outputs": [],
   "source": [
    "# Slice time series to 2018\n",
    "time_series_2018 = time_series_df[\"2018-07-01\":\"2018-12-31\"]"
   ]
  },
  {
   "cell_type": "markdown",
   "metadata": {},
   "source": [
    "#### All Grid Cells"
   ]
  },
  {
   "cell_type": "code",
   "execution_count": null,
   "metadata": {
    "ExecuteTime": {
     "end_time": "2021-01-14T22:49:20.530309Z",
     "start_time": "2021-01-14T22:49:16.899313Z"
    }
   },
   "outputs": [],
   "source": [
    "# Get means and standard deviations for all grid cells\n",
    "means_2018 = np.array(\n",
    "    [\n",
    "        stl.extract_grid_statistic(time_series_2018, grid_id, \"mean\")\n",
    "        for grid_id in time_series_2018.columns\n",
    "    ]\n",
    ")\n",
    "\n",
    "standard_deviations_2018 = np.array(\n",
    "    [\n",
    "        stl.extract_grid_statistic(time_series_2018, grid_id, \"std\")\n",
    "        for grid_id in time_series_2018.columns\n",
    "    ]\n",
    ")"
   ]
  },
  {
   "cell_type": "markdown",
   "metadata": {},
   "source": [
    "#### Subset Regions"
   ]
  },
  {
   "cell_type": "markdown",
   "metadata": {},
   "source": [
    "### 2019"
   ]
  },
  {
   "cell_type": "code",
   "execution_count": null,
   "metadata": {
    "ExecuteTime": {
     "end_time": "2021-01-14T22:49:28.372509Z",
     "start_time": "2021-01-14T22:49:28.361538Z"
    }
   },
   "outputs": [],
   "source": [
    "# Slice time series to 2019\n",
    "time_series_2019 = time_series_df[\"2019-01-01\":\"2019-12-31\"]"
   ]
  },
  {
   "cell_type": "markdown",
   "metadata": {},
   "source": [
    "#### All Grid Cells"
   ]
  },
  {
   "cell_type": "code",
   "execution_count": null,
   "metadata": {
    "ExecuteTime": {
     "end_time": "2021-01-14T22:49:43.686797Z",
     "start_time": "2021-01-14T22:49:39.135119Z"
    }
   },
   "outputs": [],
   "source": [
    "# Get means and standard deviations for all grid cells\n",
    "means_2019 = np.array(\n",
    "    [\n",
    "        stl.extract_grid_statistic(time_series_2019, grid_id, \"mean\")\n",
    "        for grid_id in time_series_2019.columns\n",
    "    ]\n",
    ")\n",
    "\n",
    "standard_deviations_2019 = np.array(\n",
    "    [\n",
    "        stl.extract_grid_statistic(time_series_2019, grid_id, \"std\")\n",
    "        for grid_id in time_series_2019.columns\n",
    "    ]\n",
    ")"
   ]
  },
  {
   "cell_type": "markdown",
   "metadata": {},
   "source": [
    "#### Subset Regions"
   ]
  },
  {
   "cell_type": "markdown",
   "metadata": {},
   "source": [
    "### 2020"
   ]
  },
  {
   "cell_type": "code",
   "execution_count": null,
   "metadata": {
    "ExecuteTime": {
     "end_time": "2021-01-14T22:49:52.677232Z",
     "start_time": "2021-01-14T22:49:52.664268Z"
    }
   },
   "outputs": [],
   "source": [
    "# Slice time series to 2020\n",
    "time_series_2020 = time_series_df[\"2020-01-01\":\"2020-11-16\"]"
   ]
  },
  {
   "cell_type": "markdown",
   "metadata": {},
   "source": [
    "#### All Grid Cells"
   ]
  },
  {
   "cell_type": "code",
   "execution_count": null,
   "metadata": {
    "ExecuteTime": {
     "end_time": "2021-01-14T22:50:07.907340Z",
     "start_time": "2021-01-14T22:50:03.769212Z"
    }
   },
   "outputs": [],
   "source": [
    "# Get means and standard deviations for all grid cells\n",
    "means_2020 = np.array(\n",
    "    [\n",
    "        stl.extract_grid_statistic(time_series_2020, grid_id, \"mean\")\n",
    "        for grid_id in time_series_2020.columns\n",
    "    ]\n",
    ")\n",
    "\n",
    "standard_deviations_2020 = np.array(\n",
    "    [\n",
    "        stl.extract_grid_statistic(time_series_2020, grid_id, \"std\")\n",
    "        for grid_id in time_series_2020.columns\n",
    "    ]\n",
    ")"
   ]
  },
  {
   "cell_type": "markdown",
   "metadata": {},
   "source": [
    "#### Subset Regions"
   ]
  },
  {
   "cell_type": "markdown",
   "metadata": {},
   "source": [
    "### 2018-2020"
   ]
  },
  {
   "cell_type": "markdown",
   "metadata": {},
   "source": [
    "#### All Grid Cells"
   ]
  },
  {
   "cell_type": "code",
   "execution_count": null,
   "metadata": {
    "ExecuteTime": {
     "end_time": "2021-01-14T22:50:25.914217Z",
     "start_time": "2021-01-14T22:50:20.747488Z"
    }
   },
   "outputs": [],
   "source": [
    "# Get means and standard deviations for all grid cells\n",
    "means = np.array(\n",
    "    [\n",
    "        stl.extract_grid_statistic(time_series_df, grid_id, \"mean\")\n",
    "        for grid_id in time_series_df.columns\n",
    "    ]\n",
    ")\n",
    "\n",
    "standard_deviations = np.array(\n",
    "    [\n",
    "        stl.extract_grid_statistic(time_series_df, grid_id, \"std\")\n",
    "        for grid_id in time_series_df.columns\n",
    "    ]\n",
    ")"
   ]
  },
  {
   "cell_type": "markdown",
   "metadata": {},
   "source": [
    "#### Subset Regions"
   ]
  },
  {
   "cell_type": "markdown",
   "metadata": {},
   "source": [
    "##### Seoul Area"
   ]
  },
  {
   "cell_type": "code",
   "execution_count": null,
   "metadata": {
    "ExecuteTime": {
     "end_time": "2021-01-14T22:50:37.470315Z",
     "start_time": "2021-01-14T22:50:37.449375Z"
    }
   },
   "outputs": [],
   "source": [
    "# Slice dataframes to subset region grid cells\n",
    "subset_1_seoul = time_series_df[\n",
    "    [\n",
    "        \"H-6\",\n",
    "        \"H-7\",\n",
    "        \"I-5\",\n",
    "        \"I-6\",\n",
    "        \"I-7\",\n",
    "        \"J-5\",\n",
    "        \"J-6\",\n",
    "        \"J-7\",\n",
    "        \"J-8\",\n",
    "        \"K-5\",\n",
    "        \"K-6\",\n",
    "        \"K-7\",\n",
    "        \"L-6\",\n",
    "        \"L-7\",\n",
    "    ]\n",
    "]"
   ]
  },
  {
   "cell_type": "code",
   "execution_count": null,
   "metadata": {
    "ExecuteTime": {
     "end_time": "2021-01-14T22:50:51.248344Z",
     "start_time": "2021-01-14T22:50:51.057853Z"
    }
   },
   "outputs": [],
   "source": [
    "# Calculate subset region means and standard deviations\n",
    "means_subset_1 = np.array(\n",
    "    [\n",
    "        stl.extract_grid_statistic(subset_1_seoul, grid_id, \"mean\")\n",
    "        for grid_id in subset_1_seoul.columns\n",
    "    ]\n",
    ")\n",
    "\n",
    "standard_deviations_subset_1 = np.array(\n",
    "    [\n",
    "        stl.extract_grid_statistic(subset_1_seoul, grid_id, \"std\")\n",
    "        for grid_id in subset_1_seoul.columns\n",
    "    ]\n",
    ")"
   ]
  },
  {
   "cell_type": "code",
   "execution_count": null,
   "metadata": {
    "ExecuteTime": {
     "end_time": "2021-01-14T22:51:03.485244Z",
     "start_time": "2021-01-14T22:51:03.471282Z"
    }
   },
   "outputs": [],
   "source": [
    "# Set annotations (optional for plotting)\n",
    "subset_1_seoul_annotations = subset_1_seoul.columns.tolist()"
   ]
  },
  {
   "cell_type": "markdown",
   "metadata": {},
   "source": [
    "##### Southern Coast"
   ]
  },
  {
   "cell_type": "code",
   "execution_count": null,
   "metadata": {
    "ExecuteTime": {
     "end_time": "2021-01-14T22:51:15.810615Z",
     "start_time": "2021-01-14T22:51:15.795133Z"
    }
   },
   "outputs": [],
   "source": [
    "# Slice dataframes to subset region grid cells\n",
    "subset_2_south = time_series_df[\n",
    "    [\"M-16\", \"M-17\", \"N-16\", \"N-17\", \"N-18\", \"O-16\", \"O-17\",]\n",
    "]"
   ]
  },
  {
   "cell_type": "code",
   "execution_count": null,
   "metadata": {
    "ExecuteTime": {
     "end_time": "2021-01-14T22:51:27.774888Z",
     "start_time": "2021-01-14T22:51:27.720035Z"
    }
   },
   "outputs": [],
   "source": [
    "# Calculate subset region means and standard deviations\n",
    "means_subset_2 = np.array(\n",
    "    [\n",
    "        stl.extract_grid_statistic(subset_2_south, grid_id, \"mean\")\n",
    "        for grid_id in subset_2_south.columns\n",
    "    ]\n",
    ")\n",
    "\n",
    "standard_deviations_subset_2 = np.array(\n",
    "    [\n",
    "        stl.extract_grid_statistic(subset_2_south, grid_id, \"std\")\n",
    "        for grid_id in subset_2_south.columns\n",
    "    ]\n",
    ")"
   ]
  },
  {
   "cell_type": "code",
   "execution_count": null,
   "metadata": {
    "ExecuteTime": {
     "end_time": "2021-01-14T22:51:38.653965Z",
     "start_time": "2021-01-14T22:51:38.642994Z"
    }
   },
   "outputs": [],
   "source": [
    "# Set annotations (optional for plotting)\n",
    "subset_2_south_annotations = subset_2_south.columns.tolist()"
   ]
  },
  {
   "cell_type": "markdown",
   "metadata": {},
   "source": [
    "##### Rural Area to the East"
   ]
  },
  {
   "cell_type": "code",
   "execution_count": null,
   "metadata": {
    "ExecuteTime": {
     "end_time": "2021-01-14T22:51:51.890188Z",
     "start_time": "2021-01-14T22:51:51.874228Z"
    }
   },
   "outputs": [],
   "source": [
    "# Slice dataframes to subset region grid cells\n",
    "subset_3_east = time_series_df[\n",
    "    [\"S-8\", \"S-9\", \"T-8\", \"T-9\", \"T-10\", \"U-8\", \"U-9\",]\n",
    "]"
   ]
  },
  {
   "cell_type": "code",
   "execution_count": null,
   "metadata": {
    "ExecuteTime": {
     "end_time": "2021-01-14T22:52:03.855519Z",
     "start_time": "2021-01-14T22:52:03.801633Z"
    }
   },
   "outputs": [],
   "source": [
    "# Calculate subset region means and standard deviations\n",
    "means_subset_3 = np.array(\n",
    "    [\n",
    "        stl.extract_grid_statistic(subset_3_east, grid_id, \"mean\")\n",
    "        for grid_id in subset_3_east.columns\n",
    "    ]\n",
    ")\n",
    "\n",
    "standard_deviations_subset_3 = np.array(\n",
    "    [\n",
    "        stl.extract_grid_statistic(subset_3_east, grid_id, \"std\")\n",
    "        for grid_id in subset_3_east.columns\n",
    "    ]\n",
    ")"
   ]
  },
  {
   "cell_type": "code",
   "execution_count": null,
   "metadata": {
    "ExecuteTime": {
     "end_time": "2021-01-14T22:52:17.711977Z",
     "start_time": "2021-01-14T22:52:17.698012Z"
    }
   },
   "outputs": [],
   "source": [
    "# Set annotations (optional for plotting)\n",
    "subset_3_east_annotations = subset_3_east.columns.tolist()"
   ]
  },
  {
   "cell_type": "markdown",
   "metadata": {},
   "source": [
    "##### Rural Area in the Center"
   ]
  },
  {
   "cell_type": "code",
   "execution_count": null,
   "metadata": {
    "ExecuteTime": {
     "end_time": "2021-01-14T22:52:28.811500Z",
     "start_time": "2021-01-14T22:52:28.796541Z"
    }
   },
   "outputs": [],
   "source": [
    "# Slice dataframes to subset region grid cells\n",
    "subset_4_central = time_series_df[\n",
    "    [\"M-10\", \"M-11\", \"N-10\", \"N-11\", \"N-12\", \"O-10\", \"O-11\",]\n",
    "]"
   ]
  },
  {
   "cell_type": "code",
   "execution_count": null,
   "metadata": {
    "ExecuteTime": {
     "end_time": "2021-01-14T22:52:40.461251Z",
     "start_time": "2021-01-14T22:52:40.402406Z"
    }
   },
   "outputs": [],
   "source": [
    "# Calculate subset region means and standard deviations\n",
    "means_subset_4 = np.array(\n",
    "    [\n",
    "        stl.extract_grid_statistic(subset_4_central, grid_id, \"mean\")\n",
    "        for grid_id in subset_4_central.columns\n",
    "    ]\n",
    ")\n",
    "\n",
    "standard_deviations_subset_4 = np.array(\n",
    "    [\n",
    "        stl.extract_grid_statistic(subset_4_central, grid_id, \"std\")\n",
    "        for grid_id in subset_4_central.columns\n",
    "    ]\n",
    ")"
   ]
  },
  {
   "cell_type": "code",
   "execution_count": null,
   "metadata": {
    "ExecuteTime": {
     "end_time": "2021-01-14T22:52:55.659215Z",
     "start_time": "2021-01-14T22:52:55.647248Z"
    }
   },
   "outputs": [],
   "source": [
    "# Set annotations (optional for plotting)\n",
    "subset_4_central_annotations = subset_4_central.columns.tolist()"
   ]
  },
  {
   "cell_type": "markdown",
   "metadata": {},
   "source": [
    "# Data Post-Processing"
   ]
  },
  {
   "cell_type": "code",
   "execution_count": null,
   "metadata": {},
   "outputs": [],
   "source": []
  },
  {
   "cell_type": "markdown",
   "metadata": {},
   "source": [
    "# Data Visualization"
   ]
  },
  {
   "cell_type": "markdown",
   "metadata": {},
   "source": [
    "## CO Delta Plots"
   ]
  },
  {
   "cell_type": "markdown",
   "metadata": {},
   "source": [
    "**TO DO:** Get means and standard deviations for all grid cells over the time series (exclude NaN). Plot std vs mean scatter plot to get a sense of the values."
   ]
  },
  {
   "cell_type": "markdown",
   "metadata": {},
   "source": [
    "### Seoul Area - High"
   ]
  },
  {
   "cell_type": "markdown",
   "metadata": {},
   "source": [
    "#### Grid J-6"
   ]
  },
  {
   "cell_type": "markdown",
   "metadata": {},
   "source": [
    "Common time differences for J-6 (hours):\n",
    "\n",
    "* 1.7\n",
    "* 22.0\n",
    "* 23.7\n",
    "* 25.4"
   ]
  },
  {
   "cell_type": "code",
   "execution_count": null,
   "metadata": {
    "ExecuteTime": {
     "end_time": "2021-01-14T22:53:15.563654Z",
     "start_time": "2021-01-14T22:53:15.548696Z"
    }
   },
   "outputs": [],
   "source": [
    "# Get unique values for time deltas, rounded to 1 decimal place\n",
    "unique_time_deltas = np.unique(\n",
    "    [round(value, 1) for value in np.unique(time_deltas_i6_arr)]\n",
    ")\n",
    "unique_time_deltas"
   ]
  },
  {
   "cell_type": "code",
   "execution_count": null,
   "metadata": {},
   "outputs": [],
   "source": []
  },
  {
   "cell_type": "code",
   "execution_count": null,
   "metadata": {
    "ExecuteTime": {
     "end_time": "2021-01-14T22:54:52.753517Z",
     "start_time": "2021-01-14T22:54:50.294097Z"
    }
   },
   "outputs": [],
   "source": [
    "# Plot deltas\n",
    "grid_cell = \"J-6\"\n",
    "fig, ax = stl.plot_deltas(\n",
    "    time_delta=time_deltas_j6_arr,\n",
    "    no2_delta_magnitude=co_deltas_magnitude_j6_arr,\n",
    "    no2_delta_percent=co_deltas_percent_j6_arr,\n",
    "    grid_id=grid_cell,\n",
    "    product_type=\"CO\",\n",
    "    #     y_min_magnitude=-1,\n",
    "    #     y_max_magnitude=1,\n",
    "    #     x_max=5,\n",
    "    y_min_percent=-100,\n",
    "    y_max_percent=100,\n",
    "    y_label_magnitude=r\"CO Delta ($\\mathrm{mol \\cdot m^{-2}}$)\",\n",
    "    y_label_percent=\"CO Delta (%)\",\n",
    ")\n",
    "\n",
    "stl.save_figure(\n",
    "    output_path=os.path.join(\n",
    "        \"04-graphics-outputs\",\n",
    "        \"time-series\",\n",
    "        \"south-korea\",\n",
    "        \"carbon-monoxide\",\n",
    "        \"deltas\",\n",
    "        f\"co-deltas-magnitude-percent-grid-{grid_cell.lower().replace('-', '')}.png\",\n",
    "    )\n",
    ")"
   ]
  },
  {
   "cell_type": "markdown",
   "metadata": {},
   "source": [
    "#### Grid I-6"
   ]
  },
  {
   "cell_type": "code",
   "execution_count": null,
   "metadata": {
    "ExecuteTime": {
     "end_time": "2021-01-14T22:55:41.923248Z",
     "start_time": "2021-01-14T22:55:39.455844Z"
    }
   },
   "outputs": [],
   "source": [
    "# Plot deltas\n",
    "grid_cell = \"I-6\"\n",
    "fig, ax = stl.plot_deltas(\n",
    "    time_delta=time_deltas_i6_arr,\n",
    "    no2_delta_magnitude=co_deltas_magnitude_i6_arr,\n",
    "    no2_delta_percent=co_deltas_percent_i6_arr,\n",
    "    grid_id=grid_cell,\n",
    "    product_type=\"CO\",\n",
    "    #     y_min_magnitude=-1,\n",
    "    #     y_max_magnitude=1,\n",
    "    #     x_max=5,\n",
    "    y_min_percent=-100,\n",
    "    y_max_percent=100,\n",
    "    y_label_magnitude=r\"CO Delta ($\\mathrm{mol \\cdot m^{-2}}$)\",\n",
    "    y_label_percent=\"CO Delta (%)\",\n",
    ")\n",
    "\n",
    "stl.save_figure(\n",
    "    output_path=os.path.join(\n",
    "        \"04-graphics-outputs\",\n",
    "        \"time-series\",\n",
    "        \"south-korea\",\n",
    "        \"carbon-monoxide\",\n",
    "        \"deltas\",\n",
    "        f\"co-deltas-magnitude-percent-grid-{grid_cell.lower().replace('-', '')}.png\",\n",
    "    )\n",
    ")"
   ]
  },
  {
   "cell_type": "markdown",
   "metadata": {},
   "source": [
    "### Rural Area to the East - Low"
   ]
  },
  {
   "cell_type": "markdown",
   "metadata": {},
   "source": [
    "#### Grid S-9"
   ]
  },
  {
   "cell_type": "code",
   "execution_count": null,
   "metadata": {
    "ExecuteTime": {
     "end_time": "2021-01-14T22:56:07.009907Z",
     "start_time": "2021-01-14T22:56:04.519570Z"
    }
   },
   "outputs": [],
   "source": [
    "# Plot deltas\n",
    "grid_cell = \"S-9\"\n",
    "fig, ax = stl.plot_deltas(\n",
    "    time_delta=time_deltas_s9_arr,\n",
    "    no2_delta_magnitude=co_deltas_magnitude_s9_arr,\n",
    "    no2_delta_percent=co_deltas_percent_s9_arr,\n",
    "    grid_id=grid_cell,\n",
    "    product_type=\"CO\",\n",
    "    #     y_min_magnitude=-1,\n",
    "    #     y_max_magnitude=1,\n",
    "    #     x_max=5,\n",
    "    y_min_percent=-100,\n",
    "    y_max_percent=100,\n",
    "    y_label_magnitude=r\"CO Delta ($\\mathrm{mol \\cdot m^{-2}}$)\",\n",
    "    y_label_percent=\"CO Delta (%)\",\n",
    ")\n",
    "\n",
    "stl.save_figure(\n",
    "    output_path=os.path.join(\n",
    "        \"04-graphics-outputs\",\n",
    "        \"time-series\",\n",
    "        \"south-korea\",\n",
    "        \"carbon-monoxide\",\n",
    "        \"deltas\",\n",
    "        f\"co-deltas-magnitude-percent-grid-{grid_cell.lower().replace('-', '')}.png\",\n",
    "    )\n",
    ")"
   ]
  },
  {
   "cell_type": "markdown",
   "metadata": {},
   "source": [
    "### Southern Coast - High"
   ]
  },
  {
   "cell_type": "markdown",
   "metadata": {},
   "source": [
    "#### Grid N-17"
   ]
  },
  {
   "cell_type": "code",
   "execution_count": null,
   "metadata": {
    "ExecuteTime": {
     "end_time": "2021-01-14T22:56:39.749930Z",
     "start_time": "2021-01-14T22:56:37.417196Z"
    }
   },
   "outputs": [],
   "source": [
    "# Plot deltas\n",
    "grid_cell = \"N-17\"\n",
    "fig, ax = stl.plot_deltas(\n",
    "    time_delta=time_deltas_n17_arr,\n",
    "    no2_delta_magnitude=co_deltas_magnitude_n17_arr,\n",
    "    no2_delta_percent=co_deltas_percent_n17_arr,\n",
    "    grid_id=grid_cell,\n",
    "    product_type=\"CO\",\n",
    "    #     y_min_magnitude=-1,\n",
    "    #     y_max_magnitude=1,\n",
    "    #     x_max=5,\n",
    "    y_min_percent=-100,\n",
    "    y_max_percent=100,\n",
    "    y_label_magnitude=r\"CO Delta ($\\mathrm{mol \\cdot m^{-2}}$)\",\n",
    "    y_label_percent=\"CO Delta (%)\",\n",
    ")\n",
    "\n",
    "stl.save_figure(\n",
    "    output_path=os.path.join(\n",
    "        \"04-graphics-outputs\",\n",
    "        \"time-series\",\n",
    "        \"south-korea\",\n",
    "        \"carbon-monoxide\",\n",
    "        \"deltas\",\n",
    "        f\"co-deltas-magnitude-percent-grid-{grid_cell.lower().replace('-', '')}.png\",\n",
    "    )\n",
    ")"
   ]
  },
  {
   "cell_type": "markdown",
   "metadata": {},
   "source": [
    "### Rural Area in the Center - Medium/Low"
   ]
  },
  {
   "cell_type": "markdown",
   "metadata": {},
   "source": [
    "#### Grid N-11"
   ]
  },
  {
   "cell_type": "code",
   "execution_count": null,
   "metadata": {
    "ExecuteTime": {
     "end_time": "2021-01-14T22:57:00.477391Z",
     "start_time": "2021-01-14T22:56:58.274310Z"
    }
   },
   "outputs": [],
   "source": [
    "# Plot deltas\n",
    "grid_cell = \"N-11\"\n",
    "fig, ax = stl.plot_deltas(\n",
    "    time_delta=time_deltas_n11_arr,\n",
    "    no2_delta_magnitude=co_deltas_magnitude_n11_arr,\n",
    "    no2_delta_percent=co_deltas_percent_n11_arr,\n",
    "    grid_id=grid_cell,\n",
    "    product_type=\"CO\",\n",
    "    #     y_min_magnitude=-1,\n",
    "    #     y_max_magnitude=1,\n",
    "    #     x_max=5,\n",
    "    y_min_percent=-100,\n",
    "    y_max_percent=100,\n",
    "    y_label_magnitude=r\"CO Delta ($\\mathrm{mol \\cdot m^{-2}}$)\",\n",
    "    y_label_percent=\"CO Delta (%)\",\n",
    ")\n",
    "\n",
    "stl.save_figure(\n",
    "    output_path=os.path.join(\n",
    "        \"04-graphics-outputs\",\n",
    "        \"time-series\",\n",
    "        \"south-korea\",\n",
    "        \"carbon-monoxide\",\n",
    "        \"deltas\",\n",
    "        f\"co-deltas-magnitude-percent-grid-{grid_cell.lower().replace('-', '')}.png\",\n",
    "    )\n",
    ")"
   ]
  },
  {
   "cell_type": "markdown",
   "metadata": {},
   "source": [
    "## Standard Deviation vs. Mean Plots"
   ]
  },
  {
   "cell_type": "markdown",
   "metadata": {},
   "source": [
    "### 2018"
   ]
  },
  {
   "cell_type": "markdown",
   "metadata": {},
   "source": [
    "#### All Grid Cells"
   ]
  },
  {
   "cell_type": "code",
   "execution_count": null,
   "metadata": {
    "ExecuteTime": {
     "end_time": "2021-01-14T23:06:53.543534Z",
     "start_time": "2021-01-14T23:06:52.010659Z"
    }
   },
   "outputs": [],
   "source": [
    "# Plot CO standard deviation vs mean for all grid cells\n",
    "with plt.style.context(\"dark_background\"):\n",
    "    fig, ax = plt.subplots(figsize=(12, 12))\n",
    "    ax.scatter(\n",
    "        x=means_2018,\n",
    "        y=standard_deviations_2018,\n",
    "        marker=\"o\",\n",
    "        s=25,\n",
    "        color=\"#ff7f00\",\n",
    "        label=\"Grid Cell\",\n",
    "    )\n",
    "\n",
    "    # Configure figure, axes, legend, caption\n",
    "    # Figure\n",
    "    #     plt.xticks(fontsize=20)\n",
    "    #     plt.yticks(fontsize=20)\n",
    "\n",
    "    # Axes\n",
    "    ax.set_title(\n",
    "        \"South Korea CO, 7/01/2018 - 12/31/2018\\n\"\n",
    "        \"Grid Cell Standard Deviation vs. Mean\",\n",
    "        fontsize=24,\n",
    "    )\n",
    "    ax.set_xlabel(r\"Mean ($\\mathrm{mol \\cdot m^{-2}}$)\", fontsize=20)\n",
    "    ax.set_ylabel(\n",
    "        r\"Standard Deviation ($\\mathrm{mol \\cdot m^{-2}}$)\", fontsize=20\n",
    "    )\n",
    "    #     ax.set_xlim(0, round(means.max(), 4))\n",
    "    #     ax.set_ylim(0, round(means.max(), 4))\n",
    "    ax.set_xlim(0, 0.05)\n",
    "    ax.set_ylim(0, 0.05)\n",
    "    ax.legend(shadow=True, edgecolor=\"white\", fontsize=16, loc=\"best\")\n",
    "    #     ax.grid(False)\n",
    "\n",
    "    # Caption\n",
    "    fig.text(\n",
    "        0.5,\n",
    "        0.025,\n",
    "        f\"Data Source: European Space Agency\",\n",
    "        ha=\"center\",\n",
    "        fontsize=14,\n",
    "    )\n",
    "\n",
    "stl.save_figure(\n",
    "    output_path=os.path.join(\n",
    "        \"04-graphics-outputs\",\n",
    "        \"statistics\",\n",
    "        \"south-korea\",\n",
    "        \"carbon-monoxide\",\n",
    "        \"co-stddev-vs-mean-all-grid-cells-2018.png\",\n",
    "    )\n",
    ")"
   ]
  },
  {
   "cell_type": "markdown",
   "metadata": {},
   "source": [
    "#### Subset Regions"
   ]
  },
  {
   "cell_type": "markdown",
   "metadata": {},
   "source": [
    "### 2019"
   ]
  },
  {
   "cell_type": "markdown",
   "metadata": {},
   "source": [
    "#### All Grid Cells"
   ]
  },
  {
   "cell_type": "code",
   "execution_count": null,
   "metadata": {
    "ExecuteTime": {
     "end_time": "2021-01-14T23:06:42.806252Z",
     "start_time": "2021-01-14T23:06:41.228497Z"
    }
   },
   "outputs": [],
   "source": [
    "# Plot NO2 standard deviation vs mean for all grid cells\n",
    "with plt.style.context(\"dark_background\"):\n",
    "    fig, ax = plt.subplots(figsize=(12, 12))\n",
    "    ax.scatter(\n",
    "        x=means_2019,\n",
    "        y=standard_deviations_2019,\n",
    "        marker=\"o\",\n",
    "        s=25,\n",
    "        color=\"#ff7f00\",\n",
    "        label=\"Grid Cell\",\n",
    "    )\n",
    "\n",
    "    # Configure figure, axes, legend, caption\n",
    "    # Figure\n",
    "    #     plt.xticks(fontsize=20)\n",
    "    #     plt.yticks(fontsize=20)\n",
    "\n",
    "    # Axes\n",
    "    ax.set_title(\n",
    "        \"South Korea CO, 1/01/2019 - 12/31/2019\\n\"\n",
    "        \"Grid Cell Standard Deviation vs. Mean\",\n",
    "        fontsize=24,\n",
    "    )\n",
    "    ax.set_xlabel(r\"Mean ($\\mathrm{mol \\cdot m^{-2}}$)\", fontsize=20)\n",
    "    ax.set_ylabel(\n",
    "        r\"Standard Deviation ($\\mathrm{mol \\cdot m^{-2}}$)\", fontsize=20\n",
    "    )\n",
    "    #     ax.set_xlim(0, round(means.max(), 4))\n",
    "    #     ax.set_ylim(0, round(means.max(), 4))\n",
    "    ax.set_xlim(0, 0.05)\n",
    "    ax.set_ylim(0, 0.05)\n",
    "    ax.legend(shadow=True, edgecolor=\"white\", fontsize=16, loc=\"best\")\n",
    "    #     ax.grid(False)\n",
    "\n",
    "    # Caption\n",
    "    fig.text(\n",
    "        0.5,\n",
    "        0.025,\n",
    "        f\"Data Source: European Space Agency\",\n",
    "        ha=\"center\",\n",
    "        fontsize=14,\n",
    "    )\n",
    "\n",
    "stl.save_figure(\n",
    "    output_path=os.path.join(\n",
    "        \"04-graphics-outputs\",\n",
    "        \"statistics\",\n",
    "        \"south-korea\",\n",
    "        \"carbon-monoxide\",\n",
    "        \"co-stddev-vs-mean-all-grid-cells-2019.png\",\n",
    "    )\n",
    ")"
   ]
  },
  {
   "cell_type": "markdown",
   "metadata": {},
   "source": [
    "#### Subset Regions"
   ]
  },
  {
   "cell_type": "markdown",
   "metadata": {},
   "source": [
    "### 2020"
   ]
  },
  {
   "cell_type": "markdown",
   "metadata": {},
   "source": [
    "#### All Grid Cells"
   ]
  },
  {
   "cell_type": "code",
   "execution_count": null,
   "metadata": {
    "ExecuteTime": {
     "end_time": "2021-01-14T23:06:32.240994Z",
     "start_time": "2021-01-14T23:06:30.643266Z"
    }
   },
   "outputs": [],
   "source": [
    "# Plot NO2 standard deviation vs mean for all grid cells\n",
    "with plt.style.context(\"dark_background\"):\n",
    "    fig, ax = plt.subplots(figsize=(12, 12))\n",
    "    ax.scatter(\n",
    "        x=means_2020,\n",
    "        y=standard_deviations_2020,\n",
    "        marker=\"o\",\n",
    "        s=25,\n",
    "        color=\"#ff7f00\",\n",
    "        label=\"Grid Cell\",\n",
    "    )\n",
    "\n",
    "    # Configure figure, axes, legend, caption\n",
    "    # Figure\n",
    "    #     plt.xticks(fontsize=20)\n",
    "    #     plt.yticks(fontsize=20)\n",
    "\n",
    "    # Axes\n",
    "    ax.set_title(\n",
    "        \"South Korea CO, 1/01/2020 - 12/08/2020\\n\"\n",
    "        \"Grid Cell Standard Deviation vs. Mean\",\n",
    "        fontsize=24,\n",
    "    )\n",
    "    ax.set_xlabel(r\"Mean ($\\mathrm{mol \\cdot m^{-2}}$)\", fontsize=20)\n",
    "    ax.set_ylabel(\n",
    "        r\"Standard Deviation ($\\mathrm{mol \\cdot m^{-2}}$)\", fontsize=20\n",
    "    )\n",
    "    #     ax.set_xlim(0, round(means.max(), 4))\n",
    "    #     ax.set_ylim(0, round(means.max(), 4))\n",
    "    ax.set_xlim(0, 0.05)\n",
    "    ax.set_ylim(0, 0.05)\n",
    "    ax.legend(shadow=True, edgecolor=\"white\", fontsize=16, loc=\"best\")\n",
    "    #     ax.grid(False)\n",
    "\n",
    "    # Caption\n",
    "    fig.text(\n",
    "        0.5,\n",
    "        0.025,\n",
    "        f\"Data Source: European Space Agency\",\n",
    "        ha=\"center\",\n",
    "        fontsize=14,\n",
    "    )\n",
    "\n",
    "stl.save_figure(\n",
    "    output_path=os.path.join(\n",
    "        \"04-graphics-outputs\",\n",
    "        \"statistics\",\n",
    "        \"south-korea\",\n",
    "        \"carbon-monoxide\",\n",
    "        \"co-stddev-vs-mean-all-grid-cells-2020.png\",\n",
    "    )\n",
    ")"
   ]
  },
  {
   "cell_type": "markdown",
   "metadata": {},
   "source": [
    "#### Subset Regions"
   ]
  },
  {
   "cell_type": "markdown",
   "metadata": {},
   "source": [
    "### 2018, 2019, 2020"
   ]
  },
  {
   "cell_type": "code",
   "execution_count": null,
   "metadata": {
    "ExecuteTime": {
     "end_time": "2021-01-14T23:01:21.374197Z",
     "start_time": "2021-01-14T23:01:21.323313Z"
    }
   },
   "outputs": [],
   "source": [
    "# Linear regression for 2018, 2019, 2020\n",
    "(\n",
    "    slope_2018,\n",
    "    intercept_2018,\n",
    "    r_value_2018,\n",
    "    p_value_2018,\n",
    "    std_err_2018,\n",
    ") = stats.linregress(means_2018, standard_deviations_2018)\n",
    "\n",
    "(\n",
    "    slope_2019,\n",
    "    intercept_2019,\n",
    "    r_value_2019,\n",
    "    p_value_2019,\n",
    "    std_err_2019,\n",
    ") = stats.linregress(means_2019, standard_deviations_2019)\n",
    "\n",
    "(\n",
    "    slope_2020,\n",
    "    intercept_2020,\n",
    "    r_value_2020,\n",
    "    p_value_2020,\n",
    "    std_err_2020,\n",
    ") = stats.linregress(means_2020, standard_deviations_2020)"
   ]
  },
  {
   "cell_type": "code",
   "execution_count": null,
   "metadata": {
    "ExecuteTime": {
     "end_time": "2021-01-14T23:01:29.998102Z",
     "start_time": "2021-01-14T23:01:29.982142Z"
    }
   },
   "outputs": [],
   "source": [
    "# Display regression numbers\n",
    "print(\n",
    "    \"2018 (7/01 - 12/31)\\n\"\n",
    "    f\"    Slope:     {slope_2018}\\n\"\n",
    "    f\"    Intercept: {intercept_2018}\\n\"\n",
    "    f\"    R-Squared: {r_value_2018**2}\\n\"\n",
    "    f\"    P-Value:   {p_value_2018}\\n\"\n",
    "    f\"    Std-Error: {std_err_2018}\\n\"\n",
    "    f\"    RMSE:      {sqrt(std_err_2018)}\\n\\n\"\n",
    "    \"2019 (1/01 - 12/31)\\n\"\n",
    "    f\"    Slope:     {slope_2019}\\n\"\n",
    "    f\"    Intercept: {intercept_2019}\\n\"\n",
    "    f\"    R-Squared: {r_value_2019**2}\\n\"\n",
    "    f\"    P-Value:   {p_value_2019}\\n\"\n",
    "    f\"    Std-Error: {std_err_2019}\\n\"\n",
    "    f\"    RMSE:      {sqrt(std_err_2019)}\\n\\n\"\n",
    "    \"2020 (1/01 - 11/16)\\n\"\n",
    "    f\"    Slope:     {slope_2020}\\n\"\n",
    "    f\"    Intercept: {intercept_2020}\\n\"\n",
    "    f\"    R-Squared: {r_value_2020**2}\\n\"\n",
    "    f\"    P-Value:   {p_value_2020}\\n\"\n",
    "    f\"    Std-Error: {std_err_2020}\\n\"\n",
    "    f\"    RMSE:      {sqrt(std_err_2020)}\\n\\n\"\n",
    ")"
   ]
  },
  {
   "cell_type": "code",
   "execution_count": null,
   "metadata": {
    "ExecuteTime": {
     "end_time": "2021-01-14T23:08:48.027109Z",
     "start_time": "2021-01-14T23:08:43.988878Z"
    }
   },
   "outputs": [],
   "source": [
    "# Plot CO standard deviation vs mean, with linear regression and 1:1 lines\n",
    "with plt.style.context(\"dark_background\"):\n",
    "    fig, ax = plt.subplots(nrows=1, ncols=3, figsize=(40, 10))\n",
    "\n",
    "    # Data\n",
    "    ax[0].scatter(\n",
    "        x=means_2018,\n",
    "        y=standard_deviations_2018,\n",
    "        marker=\"o\",\n",
    "        s=25,\n",
    "        color=\"#ff7f00\",\n",
    "        label=\"Grid Cell\",\n",
    "    )\n",
    "\n",
    "    ax[1].scatter(\n",
    "        x=means_2019,\n",
    "        y=standard_deviations_2019,\n",
    "        marker=\"o\",\n",
    "        s=25,\n",
    "        color=\"#ff7f00\",\n",
    "        label=\"Grid Cell\",\n",
    "    )\n",
    "\n",
    "    ax[2].scatter(\n",
    "        x=means_2020,\n",
    "        y=standard_deviations_2020,\n",
    "        marker=\"o\",\n",
    "        s=25,\n",
    "        color=\"#ff7f00\",\n",
    "        label=\"Grid Cell\",\n",
    "    )\n",
    "\n",
    "    # Regression lines\n",
    "    ax[0].plot(\n",
    "        means_2018,\n",
    "        intercept_2018 + slope_2018 * means_2018,\n",
    "        label=\"Regression Line\",\n",
    "        color=\"#984ea3\",\n",
    "        linewidth=2,\n",
    "    )\n",
    "\n",
    "    ax[1].plot(\n",
    "        means_2019,\n",
    "        intercept_2019 + slope_2019 * means_2019,\n",
    "        label=\"Regression Line\",\n",
    "        color=\"#984ea3\",\n",
    "        linewidth=2,\n",
    "    )\n",
    "\n",
    "    ax[2].plot(\n",
    "        means_2020,\n",
    "        intercept_2020 + slope_2020 * means_2020,\n",
    "        label=\"Regression Line\",\n",
    "        color=\"#984ea3\",\n",
    "        linewidth=2,\n",
    "    )\n",
    "\n",
    "    # Configure figure, axes, legend, caption\n",
    "    # Figure\n",
    "    #     plt.xticks(fontsize=20)\n",
    "    #     plt.yticks(fontsize=20)\n",
    "\n",
    "    dates = [\n",
    "        \"7/01/2018 - 12/31/2018\",\n",
    "        \"1/01/2019 - 12/31/2019\",\n",
    "        \"1/01/2020 - 12/08/2020\",\n",
    "    ]\n",
    "\n",
    "    # Axes\n",
    "    for index, axis in enumerate(fig.axes):\n",
    "        axis.set_title(\n",
    "            f\"South Korea CO, {dates[index]}\\n\"\n",
    "            \"Grid Cell Standard Deviation vs. Mean\",\n",
    "            fontsize=24,\n",
    "        )\n",
    "        axis.set_xlabel(r\"Mean ($\\mathrm{mol \\cdot m^{-2}}$)\", fontsize=20)\n",
    "        axis.set_ylabel(\n",
    "            r\"Standard Deviation ($\\mathrm{mol \\cdot m^{-2}}$)\", fontsize=20\n",
    "        )\n",
    "        #         axis.set_xlim(0, round(means.max(), 4))\n",
    "        #         axis.set_ylim(0, round(means.max(), 4))\n",
    "        axis.set_xlim(0, 0.05)\n",
    "        axis.set_ylim(0, 0.05)\n",
    "        #     ax.grid(False)\n",
    "        # 1:1 line\n",
    "        axis.plot(\n",
    "            (0, 1),\n",
    "            (0, 1),\n",
    "            transform=axis.transAxes,\n",
    "            ls=\"--\",\n",
    "            #             c=\"w\",\n",
    "            #             c=\"#e41a1c\",\n",
    "            c=\"#4daf4a\",\n",
    "            #             zorder=0,\n",
    "            label=\"1:1 Line\",\n",
    "            linewidth=2,\n",
    "        )\n",
    "        axis.legend(shadow=True, edgecolor=\"white\", fontsize=16, loc=\"best\")\n",
    "\n",
    "    # Caption\n",
    "    fig.text(\n",
    "        0.5,\n",
    "        0.025,\n",
    "        f\"Data Source: European Space Agency\",\n",
    "        ha=\"center\",\n",
    "        fontsize=14,\n",
    "    )\n",
    "\n",
    "stl.save_figure(\n",
    "    output_path=os.path.join(\n",
    "        \"04-graphics-outputs\",\n",
    "        \"statistics\",\n",
    "        \"south-korea\",\n",
    "        \"carbon-monoxide\",\n",
    "        \"co-stddev-vs-mean-all-grid-cells-individual-years.png\",\n",
    "    )\n",
    ")"
   ]
  },
  {
   "cell_type": "markdown",
   "metadata": {},
   "source": [
    "#### All Grid Cells"
   ]
  },
  {
   "cell_type": "markdown",
   "metadata": {},
   "source": [
    "### 2018-2020"
   ]
  },
  {
   "cell_type": "markdown",
   "metadata": {},
   "source": [
    "#### All Grid Cells"
   ]
  },
  {
   "cell_type": "code",
   "execution_count": null,
   "metadata": {
    "ExecuteTime": {
     "end_time": "2021-01-14T23:33:07.867829Z",
     "start_time": "2021-01-14T23:33:06.123523Z"
    }
   },
   "outputs": [],
   "source": [
    "# Plot CO standard deviation vs mean for all grid cells\n",
    "with plt.style.context(\"dark_background\"):\n",
    "    fig, ax = plt.subplots(figsize=(12, 12))\n",
    "    ax.scatter(\n",
    "        x=means,\n",
    "        y=standard_deviations,\n",
    "        marker=\"o\",\n",
    "        s=25,\n",
    "        color=\"#377eb8\",\n",
    "        #         label=\"Grid Cell\",\n",
    "    )\n",
    "\n",
    "    ax.scatter(\n",
    "        x=means_subset_1,\n",
    "        y=standard_deviations_subset_1,\n",
    "        marker=\"o\",\n",
    "        s=25,\n",
    "        color=\"#e41a1c\",\n",
    "        label=\"Seoul\",\n",
    "    )\n",
    "\n",
    "    ax.scatter(\n",
    "        x=means_subset_2,\n",
    "        y=standard_deviations_subset_2,\n",
    "        marker=\"o\",\n",
    "        s=25,\n",
    "        color=\"#ff7f00\",\n",
    "        label=\"Southern Coast\",\n",
    "    )\n",
    "\n",
    "    ax.scatter(\n",
    "        x=means_subset_3,\n",
    "        y=standard_deviations_subset_3,\n",
    "        marker=\"o\",\n",
    "        s=25,\n",
    "        color=\"#f781bf\",\n",
    "        label=\"Rural - East\",\n",
    "    )\n",
    "\n",
    "    ax.scatter(\n",
    "        x=means_subset_4,\n",
    "        y=standard_deviations_subset_4,\n",
    "        marker=\"o\",\n",
    "        s=25,\n",
    "        color=\"#ffff33\",\n",
    "        label=\"Rural - Center\",\n",
    "    )\n",
    "\n",
    "    # Configure figure, axes, legend, caption\n",
    "    # Figure\n",
    "    #     plt.xticks(fontsize=20)\n",
    "    #     plt.yticks(fontsize=20)\n",
    "\n",
    "    # Axes\n",
    "    ax.set_title(\n",
    "        \"South Korea CO, 7/01/2018 - 12/08/2020\\n\"\n",
    "        \"Grid Cell Standard Deviation vs. Mean\",\n",
    "        fontsize=24,\n",
    "    )\n",
    "    ax.set_xlabel(r\"Mean ($\\mathrm{mol \\cdot m^{-2}}$)\", fontsize=20)\n",
    "    ax.set_ylabel(\n",
    "        r\"Standard Deviation ($\\mathrm{mol \\cdot m^{-2}}$)\", fontsize=20\n",
    "    )\n",
    "    #     ax.set_xlim(0, round(means.max(), 4))\n",
    "    #     ax.set_ylim(0, round(means.max(), 4))\n",
    "    ax.set_xlim(0.0325, 0.0475)\n",
    "    ax.set_ylim(0.0025, 0.0125)\n",
    "    ax.legend(shadow=True, edgecolor=\"white\", fontsize=16, loc=\"best\")\n",
    "    #     ax.grid(False)\n",
    "\n",
    "    # Caption\n",
    "    fig.text(\n",
    "        0.5,\n",
    "        0.025,\n",
    "        f\"Data Source: European Space Agency\",\n",
    "        ha=\"center\",\n",
    "        fontsize=14,\n",
    "    )\n",
    "\n",
    "stl.save_figure(\n",
    "    output_path=os.path.join(\n",
    "        \"04-graphics-outputs\",\n",
    "        \"statistics\",\n",
    "        \"south-korea\",\n",
    "        \"carbon-monoxide\",\n",
    "        \"co-stddev-vs-mean-all-grid-cells-with-subregions.png\",\n",
    "    )\n",
    ")"
   ]
  },
  {
   "cell_type": "markdown",
   "metadata": {},
   "source": [
    "#### Subset Regions"
   ]
  },
  {
   "cell_type": "code",
   "execution_count": null,
   "metadata": {
    "ExecuteTime": {
     "end_time": "2021-01-14T23:10:07.859809Z",
     "start_time": "2021-01-14T23:10:06.419663Z"
    }
   },
   "outputs": [],
   "source": [
    "# Plot CO standard deviation vs mean for subset regions\n",
    "with plt.style.context(\"dark_background\"):\n",
    "    # Create plot\n",
    "    fig, ax = plt.subplots(2, 2, figsize=(20, 20))\n",
    "\n",
    "    # Figure\n",
    "    plt.suptitle(\n",
    "        \"South Korea NO2, 7/01/2018 - 11/16/2020\\n\"\n",
    "        \"Subset Regions Standard Deviation vs. Mean\",\n",
    "        size=28,\n",
    "    )\n",
    "    plt.subplots_adjust(wspace=0.25)\n",
    "    plt.subplots_adjust(top=0.90)\n",
    "    #     plt.xticks(fontsize=20)\n",
    "    #     plt.yticks(fontsize=20)\n",
    "\n",
    "    # Configure axes\n",
    "    # Subplot x values, y values, and titles\n",
    "    subplot_means = [\n",
    "        means_subset_1,\n",
    "        means_subset_2,\n",
    "        means_subset_3,\n",
    "        means_subset_4,\n",
    "    ]\n",
    "    subplot_standard_deviations = [\n",
    "        standard_deviations_subset_1,\n",
    "        standard_deviations_subset_2,\n",
    "        standard_deviations_subset_3,\n",
    "        standard_deviations_subset_4,\n",
    "    ]\n",
    "    subplot_titles = [\n",
    "        \"Seoul Area\",\n",
    "        \"Southern Coast\",\n",
    "        \"Rural Area to the East\",\n",
    "        \"Rural Area in the Center\",\n",
    "    ]\n",
    "\n",
    "    for index, axis in enumerate(fig.axes):\n",
    "        # Scatter plot\n",
    "        axis.scatter(\n",
    "            x=subplot_means[index],\n",
    "            y=subplot_standard_deviations[index],\n",
    "            marker=\"o\",\n",
    "            s=25,\n",
    "            color=\"#ff7f00\",\n",
    "            label=\"Grid Cell\",\n",
    "            zorder=2,\n",
    "        )\n",
    "        # Vertical and horizontal lines\n",
    "        axis.axvline(\n",
    "            means.max(),\n",
    "            color=\"#4daf4a\",\n",
    "            label=\"Maximum Grid Cell Mean\",\n",
    "            linewidth=2,\n",
    "            zorder=1,\n",
    "        )\n",
    "        axis.axvline(\n",
    "            means.min(),\n",
    "            color=\"#984ea3\",\n",
    "            label=\"Minimum Grid Cell Mean\",\n",
    "            linewidth=2,\n",
    "            zorder=1,\n",
    "        )\n",
    "        axis.axhline(\n",
    "            standard_deviations.max(),\n",
    "            color=\"#e41a1c\",\n",
    "            label=\"Maximum Grid Cell StdDev\",\n",
    "            linewidth=2,\n",
    "            zorder=1,\n",
    "        )\n",
    "        axis.axhline(\n",
    "            standard_deviations.min(),\n",
    "            color=\"#377eb8\",\n",
    "            label=\"Minimum Grid Cell StdDev\",\n",
    "            linewidth=2,\n",
    "            zorder=1,\n",
    "        )\n",
    "        # Axes settings\n",
    "        axis.set_title(subplot_titles[index], fontsize=24)\n",
    "        axis.set_xlabel(r\"Mean ($\\mathrm{mol \\cdot m^{-2}}$)\", fontsize=20)\n",
    "        axis.set_ylabel(\n",
    "            r\"Standard Deviation ($\\mathrm{mol \\cdot m^{-2}}$)\", fontsize=20\n",
    "        )\n",
    "        axis.set_xlim(0, round(means_subset_1.max(), 4))\n",
    "        axis.set_ylim(0, round(means_subset_1.max(), 4))\n",
    "        # Legend\n",
    "        axis.legend(shadow=True, edgecolor=\"white\", fontsize=16, loc=\"best\")\n",
    "\n",
    "    # Caption\n",
    "    fig.text(\n",
    "        0.5,\n",
    "        0.065,\n",
    "        f\"Data Source: European Space Agency\",\n",
    "        ha=\"center\",\n",
    "        fontsize=14,\n",
    "    )\n",
    "\n",
    "# stl.save_figure(\n",
    "#     output_path=os.path.join(\n",
    "#         \"04-graphics-outputs\",\n",
    "#         \"statistics\",\n",
    "#         \"south-korea\",\n",
    "#         \"no2-stddev-vs-mean-subset-regions.png\",\n",
    "#     )\n",
    "# )"
   ]
  },
  {
   "cell_type": "code",
   "execution_count": null,
   "metadata": {},
   "outputs": [],
   "source": []
  }
 ],
 "metadata": {
  "hide_input": false,
  "kernelspec": {
   "display_name": "Python 3",
   "language": "python",
   "name": "python3"
  },
  "language_info": {
   "codemirror_mode": {
    "name": "ipython",
    "version": 3
   },
   "file_extension": ".py",
   "mimetype": "text/x-python",
   "name": "python",
   "nbconvert_exporter": "python",
   "pygments_lexer": "ipython3",
   "version": "3.7.6"
  },
  "toc": {
   "base_numbering": 1,
   "nav_menu": {},
   "number_sections": true,
   "sideBar": true,
   "skip_h1_title": false,
   "title_cell": "Table of Contents",
   "title_sidebar": "Contents",
   "toc_cell": false,
   "toc_position": {
    "height": "calc(100% - 180px)",
    "left": "10px",
    "top": "150px",
    "width": "287px"
   },
   "toc_section_display": true,
   "toc_window_display": true
  },
  "varInspector": {
   "cols": {
    "lenName": 16,
    "lenType": 16,
    "lenVar": 40
   },
   "kernels_config": {
    "python": {
     "delete_cmd_postfix": "",
     "delete_cmd_prefix": "del ",
     "library": "var_list.py",
     "varRefreshCmd": "print(var_dic_list())"
    },
    "r": {
     "delete_cmd_postfix": ") ",
     "delete_cmd_prefix": "rm(",
     "library": "var_list.r",
     "varRefreshCmd": "cat(var_dic_list()) "
    }
   },
   "types_to_exclude": [
    "module",
    "function",
    "builtin_function_or_method",
    "instance",
    "_Feature"
   ],
   "window_display": false
  }
 },
 "nbformat": 4,
 "nbformat_minor": 4
}
